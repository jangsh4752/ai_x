{
 "cells": [
  {
   "cell_type": "code",
   "execution_count": 1,
   "id": "78012a37",
   "metadata": {},
   "outputs": [
    {
     "data": {
      "text/html": [
       "\n",
       "<style>\n",
       "div.container{width:86% !important;}\n",
       "div.cell.code_cell.rendered{width:100%;}\n",
       "div.CodeMirror {font-family:Consolas; font-size:12pt;}\n",
       "div.output {font-size:15pt; font-weight:bold;}\n",
       "div.input {font-family:Consolas; font-size:12pt;}\n",
       "div.prompt {min-width:70px;}\n",
       "div#toc-wrapper{padding-top:120px;}\n",
       "div.text_cell_render ul li{font-size:12pt;padding:5px;}\n",
       "table.dataframe{font-size:15px;}\n",
       "</style>\n"
      ],
      "text/plain": [
       "<IPython.core.display.HTML object>"
      ]
     },
     "metadata": {},
     "output_type": "display_data"
    }
   ],
   "source": [
    "from IPython.display import display, HTML\n",
    "display(HTML(\"\"\"\n",
    "<style>\n",
    "div.container{width:86% !important;}\n",
    "div.cell.code_cell.rendered{width:100%;}\n",
    "div.CodeMirror {font-family:Consolas; font-size:12pt;}\n",
    "div.output {font-size:15pt; font-weight:bold;}\n",
    "div.input {font-family:Consolas; font-size:12pt;}\n",
    "div.prompt {min-width:70px;}\n",
    "div#toc-wrapper{padding-top:120px;}\n",
    "div.text_cell_render ul li{font-size:12pt;padding:5px;}\n",
    "table.dataframe{font-size:15px;}\n",
    "</style>\n",
    "\"\"\"))"
   ]
  },
  {
   "cell_type": "markdown",
   "id": "4707a04d",
   "metadata": {},
   "source": [
    "**<font size=\"4\" color=\"red\">ch2. 한글 형태소 분석</font>**\n",
    "# 1. 자연어처리\n",
    "- 자연어 : 일상적인 언어\n",
    "- 자연어 처리 분야 : \n",
    "    * 자연어 이해 : 형태소 분석 -> postagging -> 의미 분석, 시각화\n",
    "    * 자연어 생성 : RNN, LSTM, GRU, ... , encoder-decoder알고리즘 -> 트랜스포머알고리즘\n",
    "- 활용분야 : 트랜드분석, 탐색적 분석, 맞춤법검사, 번역기, 챗봇, ...      \n",
    "\n",
    "# 2. 자연어 이해 처리 절차\n",
    "- 전처리 : 단어, 어절 추출\n",
    "- 분석 후보 생성 : 형태소 분리, 품사태깅(pos tagging)\n",
    "- 제약조건(불용어 처리) : 규칙 확인\n",
    "- 분석 : 시각화(워드클라우드), 연관분석, RNN, LSTM, GRU, ...\n",
    "\n",
    "# 3. 한글형태소 분석 엔진(Konlpy,...)\n",
    "- 공통기능 : morphs(형태소 나누기), nouns(명사 추출), pos(형태소로 나누어 품사 태그)\n",
    "\n",
    "- Konlpy (pip install konlpy)\n",
    "    * KanNanum : 자바로 만든 형태소 분석기(JAVA_HOME 시스템 환경 변수, Path 설정)\n",
    "    * KKma     : 자바로 만든 형태소 분석기(JAVA_HOME 시스템 환경 변수, Path 설정)\n",
    "    * Komoran  : 자바로 만든 형태소 분석기(JAVA_HOME 시스템 환경 변수, Path 설정)\n",
    "    * Okt\n",
    "- Mecab (pip install python-mecab-ko)\n",
    "    * Mecab : C++로 만든 형태소 분석기. 저사양환경에서 사용 가능. 다국어 바딩인 지원"
   ]
  },
  {
   "cell_type": "code",
   "execution_count": 2,
   "id": "d16d463a",
   "metadata": {},
   "outputs": [
    {
     "data": {
      "text/plain": [
       "'C:\\\\Program Files\\\\Java\\\\jdk-17'"
      ]
     },
     "execution_count": 2,
     "metadata": {},
     "output_type": "execute_result"
    }
   ],
   "source": [
    "import os\n",
    "os.environ.get(\"JAVA_HOME\")"
   ]
  },
  {
   "cell_type": "code",
   "execution_count": 3,
   "id": "669450bd",
   "metadata": {},
   "outputs": [],
   "source": [
    "text = '''아름답지만 다소 복잡하기도 한 한국어는 전세계에서 13번쨰로\n",
    "많이 사용되는 언어입니다\n",
    "'''"
   ]
  },
  {
   "cell_type": "markdown",
   "id": "f9cceaeb",
   "metadata": {},
   "source": [
    "## 3.1 HanNanum"
   ]
  },
  {
   "cell_type": "code",
   "execution_count": 4,
   "id": "e18fce55",
   "metadata": {},
   "outputs": [],
   "source": [
    "# %pip install konlpy"
   ]
  },
  {
   "cell_type": "code",
   "execution_count": 5,
   "id": "eb5c1caa",
   "metadata": {},
   "outputs": [
    {
     "data": {
      "text/plain": [
       "[[[('아름답', 'paa'), ('지만', 'ecs')],\n",
       "  [('아름답', 'paa'), ('지', 'ecs'), ('만', 'jxc')],\n",
       "  [('아름답', 'paa'), ('지', 'ecx'), ('말', 'px'), ('ㄴ', 'etm')]],\n",
       " [[('다소', 'mag')], [('다소', 'ncn')]],\n",
       " [[('복잡', 'ncn'), ('하기', 'ncn'), ('도', 'jxc')],\n",
       "  [('복잡', 'ncn'), ('하기', 'ncn'), ('도', 'ncn')],\n",
       "  [('복잡', 'ncps'), ('하기', 'ncn'), ('도', 'jxc')],\n",
       "  [('복잡', 'ncps'), ('하기', 'ncn'), ('도', 'ncn')],\n",
       "  [('복잡', 'ncps'), ('하', 'xsms'), ('기', 'etn'), ('도', 'jxc')]],\n",
       " [[('하', 'pvg'), ('ㄴ', 'etm')],\n",
       "  [('한', 'nnc')],\n",
       "  [('한', 'ncn')],\n",
       "  [('한', 'nbn')],\n",
       "  [('하', 'px'), ('ㄴ', 'etm')]],\n",
       " [[('한국어', 'ncn'), ('는', 'jxc')]],\n",
       " [[('전세계', 'ncn'), ('에서', 'jca')],\n",
       "  [('전세', 'ncn'), ('계', 'ncn'), ('에서', 'jca')],\n",
       "  [('전', 'xp'), ('세계', 'ncn'), ('에서', 'jca')]],\n",
       " [[('13번쨰', 'ncn'), ('로', 'jca')],\n",
       "  [('13번쨰로', 'ncn')],\n",
       "  [('13번쨰', 'nqq'), ('로', 'jca')],\n",
       "  [('13번쨰로', 'nqq')]],\n",
       " [],\n",
       " [[('많', 'paa'), ('이', 'xsa')], [('많이', 'mag')]],\n",
       " [[('사용', 'ncpa'), ('되', 'xsvn'), ('는', 'etm')]],\n",
       " [[('언어', 'ncn'), ('이', 'jp'), ('ㅂ니다', 'ef')]]]"
      ]
     },
     "execution_count": 5,
     "metadata": {},
     "output_type": "execute_result"
    }
   ],
   "source": [
    "from konlpy.tag import Hannanum\n",
    "hannanum = Hannanum(jvmpath=None,\n",
    "                   max_heap_size=512) # 기본값:1024, '10m', '1g', 최대사이즈 4g\n",
    "hannanum.analyze(text) #ntag=69로 형태소분석 후보"
   ]
  },
  {
   "cell_type": "markdown",
   "id": "1924c772",
   "metadata": {},
   "source": [
    "- 구글에서 konlpy docs 검색 https://konlpy.org/\n",
    "- api 메뉴 -> \"Comparison between POS tagging classes\"클릭 -> Korean POS tags comparison chart클릭"
   ]
  },
  {
   "cell_type": "code",
   "execution_count": 6,
   "id": "5640c1c5",
   "metadata": {},
   "outputs": [
    {
     "name": "stdout",
     "output_type": "stream",
     "text": [
      "['아름답', '지만', '다소', '복잡', '하', '기', '도', '하', 'ㄴ', '한국어', '는', '전세계', '에서', '13번쨰', '로', '많', '이', '사용', '되', '는', '언어', '이', 'ㅂ니다']\n"
     ]
    }
   ],
   "source": [
    "# 형태소 분석 : morphs\n",
    "print(hannanum.morphs(text))"
   ]
  },
  {
   "cell_type": "code",
   "execution_count": 7,
   "id": "e1ce62e4",
   "metadata": {},
   "outputs": [
    {
     "name": "stdout",
     "output_type": "stream",
     "text": [
      "['복잡', '한국어', '전세계', '13번쨰', '사용', '언어']\n"
     ]
    }
   ],
   "source": [
    "# 명사만 추출\n",
    "print(hannanum.nouns(text))"
   ]
  },
  {
   "cell_type": "code",
   "execution_count": 8,
   "id": "0dc44f2c",
   "metadata": {},
   "outputs": [
    {
     "name": "stdout",
     "output_type": "stream",
     "text": [
      "[('아름답', 'P'), ('지만', 'E'), ('다소', 'M'), ('복잡', 'N'), ('하', 'X'), ('기', 'E'), ('도', 'J'), ('하', 'P'), ('ㄴ', 'E'), ('한국어', 'N'), ('는', 'J'), ('전세계', 'N'), ('에서', 'J'), ('13번쨰', 'N'), ('로', 'J'), ('많', 'P'), ('이', 'X'), ('사용', 'N'), ('되', 'X'), ('는', 'E'), ('언어', 'N'), ('이', 'J'), ('ㅂ니다', 'E')]\n"
     ]
    }
   ],
   "source": [
    "# 품사태그\n",
    "print(hannanum.pos(text)) # 품사 개수 기본값 ntags=9"
   ]
  },
  {
   "cell_type": "code",
   "execution_count": 9,
   "id": "2528a850",
   "metadata": {},
   "outputs": [
    {
     "name": "stdout",
     "output_type": "stream",
     "text": [
      "[('아름답', 'PA'), ('지만', 'EC'), ('다소', 'MA'), ('복잡', 'NC'), ('하', 'XS'), ('기', 'ET'), ('도', 'JX'), ('하', 'PV'), ('ㄴ', 'ET'), ('한국어', 'NC'), ('는', 'JX'), ('전세계', 'NC'), ('에서', 'JC'), ('13번쨰', 'NC'), ('로', 'JC'), ('많', 'PA'), ('이', 'XS'), ('사용', 'NC'), ('되', 'XS'), ('는', 'ET'), ('언어', 'NC'), ('이', 'JP'), ('ㅂ니다', 'EF')]\n"
     ]
    }
   ],
   "source": [
    "print(hannanum.pos(text, ntags=22))"
   ]
  },
  {
   "cell_type": "code",
   "execution_count": 10,
   "id": "cd5e2ce4",
   "metadata": {},
   "outputs": [
    {
     "data": {
      "text/plain": [
       "['아름답', '많']"
      ]
     },
     "execution_count": 10,
     "metadata": {},
     "output_type": "execute_result"
    }
   ],
   "source": [
    "# 퀴즈1. text에서 형용사(PA)만 추출\n",
    "tagged_text = hannanum.pos(text, ntags=22)\n",
    "words = [token for token, tag in tagged_text if tag=='PA']\n",
    "# for token, tag in tagged_text : \n",
    "#     if tag=='PA' :\n",
    "#         words.append(token)\n",
    "words"
   ]
  },
  {
   "cell_type": "code",
   "execution_count": 11,
   "id": "86c094c2",
   "metadata": {},
   "outputs": [
    {
     "name": "stdout",
     "output_type": "stream",
     "text": [
      "['복잡', '한국어', '전세계', '13번쨰', '사용', '언어']\n",
      "['복잡', '한국어', '전세계', '13번쨰', '사용', '언어']\n",
      "[('복잡', 'NC'), ('한국어', 'NC'), ('전세계', 'NC'), ('13번쨰', 'NC'), ('사용', 'NC'), ('언어', 'NC')]\n",
      "['복잡', '한국어', '전세계', '13번쨰', '사용', '언어']\n"
     ]
    }
   ],
   "source": [
    "# 퀴즈2. text에서 명사(NC, NQ, NB, NN, NP)만 추출\n",
    "print([token for token, tag in tagged_text if tag.find('N')!= -1])\n",
    "print([token for token, tag in tagged_text if (tag=='NC') |\n",
    "                                              (tag=='NQ') |\n",
    "                                              (tag=='NB') |\n",
    "                                              (tag=='NN') |\n",
    "                                              (tag=='NP')])\n",
    "print([(token, tag) for token, tag in tagged_text if tag in ('NC', 'NQ', 'NB', 'NN', 'NP')])\n",
    "print(hannanum.nouns(text))"
   ]
  },
  {
   "cell_type": "code",
   "execution_count": 12,
   "id": "db16d1ef",
   "metadata": {},
   "outputs": [
    {
     "data": {
      "text/plain": [
       "['복잡', '한국어', '전세계', '13번쨰', '사용', '언어']"
      ]
     },
     "execution_count": 12,
     "metadata": {},
     "output_type": "execute_result"
    }
   ],
   "source": [
    "# 퀴즈3. text에서 보통명사만 추출\n",
    "[token for token, tag in tagged_text if tag=='NC']"
   ]
  },
  {
   "cell_type": "markdown",
   "id": "7bcae926",
   "metadata": {},
   "source": [
    "## 3.2 Kkma"
   ]
  },
  {
   "cell_type": "code",
   "execution_count": 13,
   "id": "8e5f292f",
   "metadata": {},
   "outputs": [
    {
     "ename": "java.lang.OutOfMemoryError",
     "evalue": "java.lang.OutOfMemoryError: Java heap space",
     "output_type": "error",
     "traceback": [
      "\u001b[1;31m---------------------------------------------------------------------------\u001b[0m",
      "\u001b[1;31mException\u001b[0m                                 Traceback (most recent call last)",
      "\u001b[1;31mException\u001b[0m: Java Exception",
      "\nThe above exception was the direct cause of the following exception:\n",
      "\u001b[1;31mjava.lang.OutOfMemoryError\u001b[0m                Traceback (most recent call last)",
      "Cell \u001b[1;32mIn[13], line 5\u001b[0m\n\u001b[0;32m      2\u001b[0m kkma \u001b[38;5;241m=\u001b[39m Kkma(jvmpath\u001b[38;5;241m=\u001b[39m\u001b[38;5;28;01mNone\u001b[39;00m,\n\u001b[0;32m      3\u001b[0m             max_heap_size\u001b[38;5;241m=\u001b[39m\u001b[38;5;241m1024\u001b[39m) \u001b[38;5;66;03m# \"4m\", \"4g\" 등\u001b[39;00m\n\u001b[0;32m      4\u001b[0m \u001b[38;5;66;03m# 형태소 분석\u001b[39;00m\n\u001b[1;32m----> 5\u001b[0m \u001b[38;5;28mprint\u001b[39m(\u001b[43mkkma\u001b[49m\u001b[38;5;241;43m.\u001b[39;49m\u001b[43mmorphs\u001b[49m\u001b[43m(\u001b[49m\u001b[43mtext\u001b[49m\u001b[43m)\u001b[49m)\n",
      "File \u001b[1;32m~\\anaconda3\\envs\\ml-dl-nlp\\lib\\site-packages\\konlpy\\tag\\_kkma.py:95\u001b[0m, in \u001b[0;36mKkma.morphs\u001b[1;34m(self, phrase)\u001b[0m\n\u001b[0;32m     92\u001b[0m \u001b[38;5;28;01mdef\u001b[39;00m\u001b[38;5;250m \u001b[39m\u001b[38;5;21mmorphs\u001b[39m(\u001b[38;5;28mself\u001b[39m, phrase):\n\u001b[0;32m     93\u001b[0m \u001b[38;5;250m    \u001b[39m\u001b[38;5;124;03m\"\"\"Parse phrase to morphemes.\"\"\"\u001b[39;00m\n\u001b[1;32m---> 95\u001b[0m     \u001b[38;5;28;01mreturn\u001b[39;00m [s \u001b[38;5;28;01mfor\u001b[39;00m s, t \u001b[38;5;129;01min\u001b[39;00m \u001b[38;5;28;43mself\u001b[39;49m\u001b[38;5;241;43m.\u001b[39;49m\u001b[43mpos\u001b[49m\u001b[43m(\u001b[49m\u001b[43mphrase\u001b[49m\u001b[43m)\u001b[49m]\n",
      "File \u001b[1;32m~\\anaconda3\\envs\\ml-dl-nlp\\lib\\site-packages\\konlpy\\tag\\_kkma.py:66\u001b[0m, in \u001b[0;36mKkma.pos\u001b[1;34m(self, phrase, flatten, join)\u001b[0m\n\u001b[0;32m     59\u001b[0m \u001b[38;5;250m\u001b[39m\u001b[38;5;124;03m\"\"\"POS tagger.\u001b[39;00m\n\u001b[0;32m     60\u001b[0m \n\u001b[0;32m     61\u001b[0m \u001b[38;5;124;03m:param flatten: If False, preserves eojeols.\u001b[39;00m\n\u001b[0;32m     62\u001b[0m \u001b[38;5;124;03m:param join: If True, returns joined sets of morph and tag.\u001b[39;00m\n\u001b[0;32m     63\u001b[0m \u001b[38;5;124;03m\"\"\"\u001b[39;00m\n\u001b[0;32m     64\u001b[0m validate_phrase_inputs(phrase)\n\u001b[1;32m---> 66\u001b[0m sentences \u001b[38;5;241m=\u001b[39m \u001b[38;5;28;43mself\u001b[39;49m\u001b[38;5;241;43m.\u001b[39;49m\u001b[43mjki\u001b[49m\u001b[38;5;241;43m.\u001b[39;49m\u001b[43mmorphAnalyzer\u001b[49m\u001b[43m(\u001b[49m\u001b[43mphrase\u001b[49m\u001b[43m)\u001b[49m\n\u001b[0;32m     67\u001b[0m morphemes \u001b[38;5;241m=\u001b[39m []\n\u001b[0;32m     68\u001b[0m \u001b[38;5;28;01mif\u001b[39;00m \u001b[38;5;129;01mnot\u001b[39;00m sentences:\n",
      "\u001b[1;31mjava.lang.OutOfMemoryError\u001b[0m: java.lang.OutOfMemoryError: Java heap space"
     ]
    }
   ],
   "source": [
    "from konlpy.tag import Kkma\n",
    "kkma = Kkma(jvmpath=None,\n",
    "            max_heap_size=1024) # \"4m\", \"4g\" 등\n",
    "# 형태소 분석\n",
    "print(kkma.morphs(text)) "
   ]
  },
  {
   "cell_type": "code",
   "execution_count": 14,
   "id": "9c2e10f6",
   "metadata": {},
   "outputs": [
    {
     "name": "stdout",
     "output_type": "stream",
     "text": [
      "[]\n"
     ]
    }
   ],
   "source": [
    "# 명사추출\n",
    "print(kkma.nouns(text)) "
   ]
  },
  {
   "cell_type": "code",
   "execution_count": null,
   "id": "7e2dee3d",
   "metadata": {},
   "outputs": [],
   "source": [
    "# 품사 태깅\n",
    "print(kkma.pos(text)) # ntags 지정 불가(무조건 56으로)"
   ]
  },
  {
   "cell_type": "code",
   "execution_count": null,
   "id": "35be54c9",
   "metadata": {},
   "outputs": [],
   "source": [
    "# 명사 추출\n",
    "tagged_text = kkma.pos(text)\n",
    "print([word for word, tag in tagged_text if tag in ('NNG','NNP','NNB') ])"
   ]
  },
  {
   "cell_type": "code",
   "execution_count": null,
   "id": "be54ff7b",
   "metadata": {},
   "outputs": [],
   "source": []
  },
  {
   "cell_type": "markdown",
   "id": "dfd085a8",
   "metadata": {},
   "source": [
    "## 3.3 Komoran"
   ]
  },
  {
   "cell_type": "code",
   "execution_count": null,
   "id": "b8784288",
   "metadata": {},
   "outputs": [],
   "source": [
    "from konlpy.tag import Komoran\n",
    "komoran = Komoran()\n",
    "# 형태소 분석\n",
    "print(komoran.morphs(text))"
   ]
  },
  {
   "cell_type": "code",
   "execution_count": null,
   "id": "8ffbd834",
   "metadata": {},
   "outputs": [],
   "source": [
    "# 명사 추출\n",
    "print(komoran.nouns(text))"
   ]
  },
  {
   "cell_type": "code",
   "execution_count": null,
   "id": "60a2b72f",
   "metadata": {},
   "outputs": [],
   "source": [
    "# 품사 태깅\n",
    "print(komoran.pos(text)) # ntags 조정 불가"
   ]
  },
  {
   "cell_type": "code",
   "execution_count": null,
   "id": "88019143",
   "metadata": {},
   "outputs": [],
   "source": [
    "# 일반명사, 고유명사만 추출\n",
    "[token for token, tag in komoran.pos(text) if tag in ('NNG', 'NNP')]"
   ]
  },
  {
   "cell_type": "markdown",
   "id": "151d4b63",
   "metadata": {},
   "source": [
    "## 3.4 Twitter(Okt; Open Korean Text)\n",
    "- konlpy v0.4.5 부터 Twitter -> Okt로 바뀜"
   ]
  },
  {
   "cell_type": "code",
   "execution_count": null,
   "id": "7fb8803b",
   "metadata": {},
   "outputs": [],
   "source": []
  },
  {
   "cell_type": "code",
   "execution_count": null,
   "id": "16201df3",
   "metadata": {},
   "outputs": [],
   "source": [
    "import konlpy\n",
    "konlpy.__version__"
   ]
  },
  {
   "cell_type": "code",
   "execution_count": null,
   "id": "da3274b4",
   "metadata": {},
   "outputs": [],
   "source": [
    "%%time\n",
    "from konlpy.tag import Twitter, Okt\n",
    "# okt = Twitter()\n",
    "okt = Okt() # max_heap_size\n",
    "# print('구 추출 : ', okt.phrases(text))\n",
    "print('형태소 추출 : ', okt.morphs(text))\n",
    "print('명사 추출 : ', okt.nouns(text))\n",
    "tagged_text = okt.pos(text)\n",
    "print('품사 태깅을 이용한 명사 추출 : ', \n",
    "      [token for token, tag in tagged_text if tag=='Noun'])\n",
    "print('품사 태깅 : ', tagged_text)"
   ]
  },
  {
   "cell_type": "markdown",
   "id": "0014fc39",
   "metadata": {},
   "source": [
    "## 3.5 Mecab\n",
    "- pip install mecab"
   ]
  },
  {
   "cell_type": "code",
   "execution_count": null,
   "id": "7c642543",
   "metadata": {},
   "outputs": [],
   "source": [
    "%%time\n",
    "from mecab import MeCab\n",
    "mecab = MeCab() # 힙메모리 사이즈 지정 불가\n",
    "print('형태소 추출 : ', mecab.morphs(text))\n",
    "print('명사 추출 : ', mecab.nouns(text))\n",
    "tagged_text = mecab.pos(text) # ntags 조정 불가(ntags=43 고정)\n",
    "print('품사 태깅을 이용한 명사 추출 : ',\n",
    "      [token for token, tag in tagged_text if tag=='Noun'])\n",
    "print('품사태깅 : ', tagged_text)"
   ]
  },
  {
   "cell_type": "markdown",
   "id": "fafaa2d2",
   "metadata": {},
   "source": [
    "# 4. 말뭉치"
   ]
  },
  {
   "cell_type": "code",
   "execution_count": null,
   "id": "0e4c3d94",
   "metadata": {},
   "outputs": [],
   "source": [
    "# 영어 말뭉치\n",
    "import nltk\n",
    "emma = nltk.corpus.gutenberg.raw('austen-emma.txt')"
   ]
  },
  {
   "cell_type": "code",
   "execution_count": null,
   "id": "6df43238",
   "metadata": {},
   "outputs": [],
   "source": [
    "# 한국어 말뭉치\n",
    "# %pip show konlpy"
   ]
  },
  {
   "cell_type": "code",
   "execution_count": null,
   "id": "30ba7d68",
   "metadata": {},
   "outputs": [],
   "source": [
    "# 한국어 말뭉치\n",
    "from konlpy.corpus import kolaw\n",
    "# data = kolaw.open('constitution.txt').readlines() # 한줄씩 list로 반환\n",
    "data = kolaw.open('constitution.txt').read()\n",
    "print(\"글자 수 : \", len(data))\n",
    "print(\"%r\" % data[:100])"
   ]
  },
  {
   "cell_type": "markdown",
   "id": "c9737180",
   "metadata": {},
   "source": [
    "# 5. 워드 클라우드\n",
    "- pip install wordcloud"
   ]
  },
  {
   "cell_type": "code",
   "execution_count": null,
   "id": "93d3fdc9",
   "metadata": {},
   "outputs": [],
   "source": [
    "l = ['aaa', 'bbb', 'ccc', 'aaa']\n",
    "' '.join(l)"
   ]
  },
  {
   "cell_type": "code",
   "execution_count": null,
   "id": "f24f0c6c",
   "metadata": {},
   "outputs": [],
   "source": [
    "# 말뭉치에서 단어 추출(특수문자 제외)\n",
    "from nltk.tokenize import RegexpTokenizer\n",
    "from nltk.tag import pos_tag\n",
    "ret = RegexpTokenizer('[\\w]{2,}')\n",
    "words = ret.tokenize(emma)\n",
    "# 명사만 추출\n",
    "emma_tags = pos_tag(words)\n",
    "noun_list = [token for token, tag in emma_tags if tag in ('NN', 'NNS')]\n",
    "print(\"추출된 명사 갯수 : \",len(noun_list), \"\\t단어 종류 수 : \",len(set(noun_list)))\n",
    "print(\"noun_list : \", noun_list[:10])\n",
    "emma_noun = ' '.join(noun_list)\n",
    "print(\"워드 클라우드에 필요한 내용 : \",emma_noun[:100])"
   ]
  },
  {
   "cell_type": "code",
   "execution_count": null,
   "id": "8db0d978",
   "metadata": {},
   "outputs": [],
   "source": [
    "from wordcloud import WordCloud\n",
    "from matplotlib import pyplot as plt\n",
    "wordc = WordCloud()\n",
    "wordc.generate(emma_noun)\n",
    "plt.imshow(wordc)\n",
    "plt.show()"
   ]
  },
  {
   "cell_type": "markdown",
   "id": "05174a18",
   "metadata": {},
   "source": [
    "- 컬러맵\n",
    "    - https://matplotlib.org/stable/users/explain/colors/colormaps.html"
   ]
  },
  {
   "cell_type": "code",
   "execution_count": null,
   "id": "bdc38560",
   "metadata": {},
   "outputs": [],
   "source": [
    "wordcloud = WordCloud(font_path='C:/Windows/Fonts/Verdana/verdanaz.ttf',\n",
    "                    #width=800, # 생성될 이미지 가로(픽셀)\n",
    "                    background_color='white', # 배경색\n",
    "                    max_words=300, # 표시될 단어의 최대갯수\n",
    "                    relative_scaling=0.9, # 단어 빈도에 따른 크기 차이 조정\n",
    "                    colormap='viridis', # 글씨 컬러맵\n",
    "                    max_font_size=80, #최대 폰트 사이즈\n",
    "                    min_font_size=10  #최소 사이즈\n",
    ")\n",
    "wordcloud.generate(emma_noun)\n",
    "plt.imshow(wordcloud)\n",
    "plt.axis('off')\n",
    "plt.show()"
   ]
  },
  {
   "cell_type": "code",
   "execution_count": null,
   "id": "5362b951",
   "metadata": {},
   "outputs": [],
   "source": [
    "# 한글 말뭉치 data로 워드클라우드 시각화\n",
    "from konlpy.tag import Hannanum, Kkma, Komoran, Okt\n",
    "from mecab      import MeCab\n",
    "analyzer = MeCab()\n",
    "noun_list = analyzer.nouns(data)\n",
    "noun_list = [word for word, tag in analyzer.pos(data) \\\n",
    "              if tag in ('NNG', 'NNP')]\n",
    "data_noun = ' '.join(noun_list)\n",
    "data_noun[:100]"
   ]
  },
  {
   "cell_type": "code",
   "execution_count": null,
   "id": "5fa4025e",
   "metadata": {},
   "outputs": [],
   "source": [
    "wordcloud = WordCloud(\n",
    "                font_path='C:/Windows/Fonts/한컴 고딕/Hancom Gothic Regular.ttf',\n",
    "                # width=800, # 생성될 이미지 가로(픽셀)\n",
    "                background_color='white', # 배경색\n",
    "                max_words=300, # 표시될 단어의 최대갯수\n",
    "                #relative_scaling=0.9, # 단어 빈도에 따른 크기 차이 조정\n",
    "                colormap='viridis', # 글씨 컬러맵\n",
    "                #random_state=3\n",
    ")\n",
    "wordcloud.generate(data_noun)\n",
    "plt.figure(figsize=(18,5))\n",
    "plt.imshow(wordcloud)\n",
    "plt.axis('off')\n",
    "plt.show()"
   ]
  },
  {
   "cell_type": "code",
   "execution_count": null,
   "id": "ed5e6b58",
   "metadata": {},
   "outputs": [],
   "source": [
    "# 불용어 처리(불용어지정 + 불용어사전)\n",
    "from wordcloud import STOPWORDS\n",
    "불용어 = STOPWORDS | {'대통령', '법률'} # | : 집합합연산자\n",
    "불용어 = set(['대통령','법률'])\n",
    "불용어 = {'대통령','법률','조'}\n",
    "불용어"
   ]
  },
  {
   "cell_type": "code",
   "execution_count": null,
   "id": "d0a738ac",
   "metadata": {},
   "outputs": [],
   "source": [
    "wordcloud = WordCloud(\n",
    "                #font_path='C:/Windows/Fonts/한컴 고딕/Hancom Gothic Regular.ttf',\n",
    "                font_path='data/NanumPenScript-Regular.ttf',\n",
    "                # width=800, # 생성될 이미지 가로(픽셀)\n",
    "                background_color='white', # 배경색\n",
    "                max_words=300, # 표시될 단어의 최대갯수\n",
    "                #relative_scaling=0.9, # 단어 빈도에 따른 크기 차이 조정\n",
    "                colormap='viridis', # 글씨 컬러맵\n",
    "                #random_state=3,\n",
    "                stopwords=불용어\n",
    ")\n",
    "wordcloud.generate(data_noun)\n",
    "plt.figure(figsize=(18,5))\n",
    "plt.imshow(wordcloud)\n",
    "plt.axis('off')\n",
    "plt.show()"
   ]
  },
  {
   "cell_type": "code",
   "execution_count": null,
   "id": "a8fce54d",
   "metadata": {},
   "outputs": [],
   "source": [
    "# 마스킹 : 워드클라우드를 지정된 마스크 이미지에 맞도록 설정\n",
    "# 이미지를 넘파이 배열로 방법1\n",
    "from PIL import Image\n",
    "import numpy as np\n",
    "img = Image.open('data/test.png')\n",
    "mask = np.array(img)\n",
    "plt.figure(figsize=(2,1))\n",
    "plt.imshow(mask)\n",
    "mask.shape"
   ]
  },
  {
   "cell_type": "code",
   "execution_count": null,
   "id": "ab0b994f",
   "metadata": {},
   "outputs": [],
   "source": [
    "# 이미지를 넘파이 배열로 방법2\n",
    "import cv2\n",
    "# %pip install opencv-contrib-python\n",
    "mask = cv2.imread('data/test.png'\n",
    "                 # , cv2.IMREAD_GRAYSCALE\n",
    "                 )\n",
    "plt.figure(figsize=(2,1))\n",
    "plt.imshow(mask)\n",
    "mask.shape"
   ]
  },
  {
   "cell_type": "code",
   "execution_count": null,
   "id": "5d81b586",
   "metadata": {},
   "outputs": [],
   "source": [
    "wordcloud = WordCloud(\n",
    "                #font_path='C:/Windows/Fonts/한컴 고딕/Hancom Gothic Regular.ttf',\n",
    "                font_path='data/NanumPenScript-Regular.ttf',\n",
    "                # width=800, # 생성될 이미지 가로(픽셀)\n",
    "                background_color='white', # 배경색\n",
    "                max_words=300, # 표시될 단어의 최대갯수\n",
    "                #relative_scaling=0.9, # 단어 빈도에 따른 크기 차이 조정\n",
    "                colormap='viridis', # 글씨 컬러맵\n",
    "                #random_state=3,\n",
    "                stopwords=불용어,\n",
    "                mask=mask\n",
    ")\n",
    "wordcloud.generate(data_noun)\n",
    "plt.figure(figsize=(18,5))\n",
    "plt.imshow(wordcloud)\n",
    "plt.axis('off')\n",
    "plt.show()"
   ]
  },
  {
   "cell_type": "code",
   "execution_count": null,
   "id": "36acd8e8",
   "metadata": {},
   "outputs": [],
   "source": [
    "mask2 = cv2.imread('data/heart.jpg')\n",
    "# plt.figure(figsize=(2,2))\n",
    "# plt.imshow(mask2)\n",
    "mask2.shape\n",
    "wordcloud = WordCloud(\n",
    "                #font_path='C:/Windows/Fonts/한컴 고딕/Hancom Gothic Regular.ttf',\n",
    "                font_path='data/NanumPenScript-Regular.ttf',\n",
    "                # width=800, # 생성될 이미지 가로(픽셀)\n",
    "                background_color='white', # 배경색\n",
    "                max_words=300, # 표시될 단어의 최대갯수\n",
    "                #relative_scaling=0.9, # 단어 빈도에 따른 크기 차이 조정\n",
    "                colormap='viridis', # 글씨 컬러맵\n",
    "                #random_state=3,\n",
    "                stopwords=불용어,\n",
    "                mask=mask2\n",
    ")\n",
    "wordcloud.generate(data_noun)\n",
    "plt.figure(figsize=(18,5))\n",
    "plt.imshow(wordcloud)\n",
    "plt.axis('off')\n",
    "plt.show()"
   ]
  },
  {
   "cell_type": "code",
   "execution_count": null,
   "id": "0785a19d",
   "metadata": {},
   "outputs": [],
   "source": [
    "mask3 = cv2.imread('data/test2.jpg')\n",
    "wordcloud = WordCloud(\n",
    "                #font_path='C:/Windows/Fonts/한컴 고딕/Hancom Gothic Regular.ttf',\n",
    "                font_path='data/NanumPenScript-Regular.ttf',\n",
    "                # width=800, # 생성될 이미지 가로(픽셀)\n",
    "                background_color='white', # 배경색\n",
    "                max_words=300, # 표시될 단어의 최대갯수\n",
    "                #relative_scaling=0.9, # 단어 빈도에 따른 크기 차이 조정\n",
    "                colormap='viridis', # 글씨 컬러맵\n",
    "                #random_state=3,\n",
    "                stopwords=불용어,\n",
    "                mask=mask3\n",
    ")\n",
    "wordcloud.generate(data_noun)\n",
    "plt.figure(figsize=(18,5))\n",
    "plt.imshow(wordcloud)\n",
    "plt.axis('off')\n",
    "plt.show()"
   ]
  },
  {
   "cell_type": "code",
   "execution_count": null,
   "id": "6a967c54",
   "metadata": {},
   "outputs": [],
   "source": [
    "mask4 = cv2.imread('data/test3.png')\n",
    "mask4.shape\n",
    "wordcloud = WordCloud(\n",
    "                #font_path='C:/Windows/Fonts/한컴 고딕/Hancom Gothic Regular.ttf',\n",
    "                font_path='data/NanumPenScript-Regular.ttf',\n",
    "                # width=800, # 생성될 이미지 가로(픽셀)\n",
    "                background_color='white', # 배경색\n",
    "                max_words=300, # 표시될 단어의 최대갯수\n",
    "                #relative_scaling=0.9, # 단어 빈도에 따른 크기 차이 조정\n",
    "                colormap='viridis', # 글씨 컬러맵\n",
    "                #random_state=3,\n",
    "                stopwords=불용어,\n",
    "                mask=mask4\n",
    ")\n",
    "wordcloud.generate(data_noun)\n",
    "plt.figure(figsize=(18,5))\n",
    "plt.imshow(wordcloud)\n",
    "plt.axis('off')\n",
    "plt.show()"
   ]
  },
  {
   "cell_type": "code",
   "execution_count": null,
   "id": "14d3cd9b",
   "metadata": {},
   "outputs": [],
   "source": [
    "img = Image.open('data/test3.png')\n",
    "mask5 = np.array(img)\n",
    "print(mask5.shape)\n",
    "plt.imshow(mask5)"
   ]
  },
  {
   "cell_type": "code",
   "execution_count": null,
   "id": "d78198ee",
   "metadata": {},
   "outputs": [],
   "source": [
    "wordcloud = WordCloud(\n",
    "                #font_path='C:/Windows/Fonts/한컴 고딕/Hancom Gothic Regular.ttf',\n",
    "                font_path='data/NanumPenScript-Regular.ttf',\n",
    "                # width=800, # 생성될 이미지 가로(픽셀)\n",
    "                background_color='white', # 배경색\n",
    "                max_words=300, # 표시될 단어의 최대갯수\n",
    "                #relative_scaling=0.9, # 단어 빈도에 따른 크기 차이 조정\n",
    "                colormap='viridis', # 글씨 컬러맵\n",
    "                #random_state=3,\n",
    "                stopwords=불용어,\n",
    "                mask=mask5,\n",
    "                contour_color='black',\n",
    "                contour_width=1\n",
    ")\n",
    "wordcloud.generate(data_noun)\n",
    "plt.figure(figsize=(18,5))\n",
    "plt.imshow(wordcloud)\n",
    "plt.axis('off')\n",
    "plt.show()"
   ]
  },
  {
   "cell_type": "code",
   "execution_count": null,
   "id": "83592078",
   "metadata": {},
   "outputs": [],
   "source": [
    "# convert('RGB') : 1채널이미지 ->3채널\n",
    "# convert('RGBA') : 1채널이미지 -> 4채널(RGB+투명도채널)\n",
    "img = Image.open('data/south_korea.png').convert('RGB')\n",
    "mask5 = np.array(img)\n",
    "print(mask5.shape)\n",
    "plt.figure(figsize=(2,2))\n",
    "plt.imshow(mask5)"
   ]
  },
  {
   "cell_type": "code",
   "execution_count": null,
   "id": "24d3c594",
   "metadata": {},
   "outputs": [],
   "source": [
    "wordcloud = WordCloud(\n",
    "                #font_path='C:/Windows/Fonts/한컴 고딕/Hancom Gothic Regular.ttf',\n",
    "                font_path='data/NanumPenScript-Regular.ttf',\n",
    "                # width=800, # 생성될 이미지 가로(픽셀)\n",
    "                background_color='white', # 배경색\n",
    "                max_words=300, # 표시될 단어의 최대갯수\n",
    "                #relative_scaling=0.9, # 단어 빈도에 따른 크기 차이 조정\n",
    "                colormap='viridis', # 글씨 컬러맵\n",
    "                #random_state=3,\n",
    "                stopwords=불용어,\n",
    "                mask=mask5,\n",
    "                contour_color='red',\n",
    "                contour_width=1\n",
    ")\n",
    "wordcloud.generate(data_noun)\n",
    "plt.figure(figsize=(18,5))\n",
    "plt.imshow(wordcloud)\n",
    "plt.axis('off')\n",
    "plt.show()"
   ]
  },
  {
   "cell_type": "code",
   "execution_count": null,
   "id": "566a0566",
   "metadata": {},
   "outputs": [],
   "source": [
    "# 생성된 wordcloud 저장\n",
    "wordcloud.to_file('korea.jpg') # jpg나 png"
   ]
  },
  {
   "cell_type": "markdown",
   "id": "ec5764ff",
   "metadata": {},
   "source": [
    "## 단어의 빈도수 시각화(nltk.Text)"
   ]
  },
  {
   "cell_type": "code",
   "execution_count": null,
   "id": "018b9c12",
   "metadata": {},
   "outputs": [],
   "source": [
    "import nltk\n",
    "data_text = nltk.Text(noun_list)\n",
    "plt.figure(figsize=(15,4))\n",
    "plt.rc('font', family='Malgun Gothic')\n",
    "data_text.plot(15)\n",
    "plt.show()"
   ]
  },
  {
   "cell_type": "code",
   "execution_count": null,
   "id": "598ec479",
   "metadata": {},
   "outputs": [],
   "source": [
    "data_text.vocab().most_common(15)"
   ]
  },
  {
   "cell_type": "code",
   "execution_count": null,
   "id": "3895fb3f",
   "metadata": {},
   "outputs": [],
   "source": [
    "word, counts = zip(*data_text.vocab().most_common(15))\n",
    "print(word)\n",
    "print(counts)\n",
    "plt.figure(figsize=(15,4))\n",
    "plt.plot(word, counts)\n",
    "plt.xticks(rotation=45)\n",
    "plt.xlabel('word')\n",
    "plt.ylabel('count')\n",
    "plt.show()"
   ]
  },
  {
   "cell_type": "markdown",
   "id": "867b4e93",
   "metadata": {},
   "source": [
    "# 6. 워드 임베딩\n",
    "- 단어간 벡터 계산 -> 단어간 유사성 도출"
   ]
  },
  {
   "cell_type": "code",
   "execution_count": 2,
   "id": "6cfcb053",
   "metadata": {},
   "outputs": [
    {
     "data": {
      "text/plain": [
       "['https://news.jtbc.co.kr/article/article.aspx?news_id=NB12220943',\n",
       " 'https://news.jtbc.co.kr/article/article.aspx?news_id=NB12220949',\n",
       " 'https://news.jtbc.co.kr/article/article.aspx?news_id=NB12220832',\n",
       " 'https://news.jtbc.co.kr/article/article.aspx?news_id=NB12220765',\n",
       " 'https://news.jtbc.co.kr/article/article.aspx?news_id=NB12220766',\n",
       " 'https://news.jtbc.co.kr/article/article.aspx?news_id=NB12220665',\n",
       " 'https://news.jtbc.co.kr/article/article.aspx?news_id=NB12220651',\n",
       " 'https://news.jtbc.co.kr/article/article.aspx?news_id=NB12220627',\n",
       " 'https://news.jtbc.co.kr/article/article.aspx?news_id=NB12220516',\n",
       " 'https://news.jtbc.co.kr/article/article.aspx?news_id=NB12220366',\n",
       " 'https://news.jtbc.co.kr/article/article.aspx?news_id=NB12220365',\n",
       " 'https://news.jtbc.co.kr/article/article.aspx?news_id=NB12220169',\n",
       " 'https://news.jtbc.co.kr/article/article.aspx?news_id=NB12220180',\n",
       " 'https://news.jtbc.co.kr/article/article.aspx?news_id=NB12219888',\n",
       " 'https://news.jtbc.co.kr/article/article.aspx?news_id=NB12219830',\n",
       " 'https://news.jtbc.co.kr/article/article.aspx?news_id=NB12219698',\n",
       " 'https://news.jtbc.co.kr/article/article.aspx?news_id=NB12219658',\n",
       " 'https://news.jtbc.co.kr/article/article.aspx?news_id=NB12219637',\n",
       " 'https://news.jtbc.co.kr/article/article.aspx?news_id=NB12219597',\n",
       " 'https://news.jtbc.co.kr/article/article.aspx?news_id=NB12219583']"
      ]
     },
     "execution_count": 2,
     "metadata": {},
     "output_type": "execute_result"
    }
   ],
   "source": [
    "import requests\n",
    "from bs4 import BeautifulSoup\n",
    "rss_url = 'https://fs.jtbc.co.kr/RSS/economy.xml'\n",
    "jtbc_response = requests.get(rss_url)\n",
    "soup = BeautifulSoup(jtbc_response.content, \"xml\")\n",
    "link_el = soup.select('item link')\n",
    "link_list = [el.text for el in link_el]\n",
    "link_list"
   ]
  },
  {
   "cell_type": "code",
   "execution_count": 3,
   "id": "4239b5c4",
   "metadata": {},
   "outputs": [
    {
     "name": "stdout",
     "output_type": "stream",
     "text": [
      "[['촌', '촌주공', '주공', '전', '홍수', '예상', '눈치', '눈치게임', '게임', '시작', '단군', '이래', '최대', '규모', '건축', '불리', '아파트', '입주', '다음', '말', '대규모', '전세', '전세매물', '매물', '현장'], ['실제', '완전', '사기', '캠핑', '캠핑장', '장', '관리', '소홀', '예약', '때', '플랫폼', '사진', '기대', '당황', '분'], ['요즘', '끼', '편의점', '정도', '정도일', '일', '줄', '2', '2만', '만', '원', '육박', '점심', '점심값', '값', '도시락', '때', '7000', '7000원', '식비', '부담'], ['오늘', '겠다', '말', '이유', '편의점', '도시락', '7', '7천원', '천', '원', '시대', '주머니', '직장인', '자취생', '눈앞', '아람', '기자'], ['경영권', '분쟁', '주', '표', '표대결', '대결', '로', '롤러', '롤러코스터', '코스터', '고려', '고려아연', '아연', '주가', '오늘', '28', '28일', '일', '장', '장중', '중', '15', '포인트', '말', '달', '이어진', '공개', '공개매수', '매수', '절차', '마무리', '뚜껑', '어보'], ['결혼', '돈', '걱정', '예비', '예비부부', '부부', '저출산', '문제지', '현실', '결혼식', '비용', '문제', '소식', '정', '정아람', '아람', '기자', '전', '전해드', '해드'], ['예비', '예비부부', '부부', '웨딩', '물가', '올해', '예식장', '비용', '21', '한편', '결혼식', '비싸져', '식', '소식', '정', '정아람', '아람', '기자', '내년', '5', '5월', '월', '결혼'], ['20', '20대', '대', '정규직', '비중', '역대', '최고', '10', '10명', '명', '중', '4', '4명', '꼴', '대', '임금', '근로자', '통계청', '8', '8월', '월', '기준', '가운데', '146', '146만', '만'], ['대통령', '나', '경제', '불', '어제', '24', '24일', '일', '예상', '3', '3분기', '분기', '경제성장률', '성장률', '공개', '우리', '우려', '달', '전'], ['수출', '뒷걸음', '3', '3분기', '분기', '경제', '경제성장률', '성장률', '0.1', '한국', '한국은행', '은행', '오늘', '24', '24일', '일', '우리', '성적표', '예상', '걱정', '소비', '나', '마', '개선', '효자', '역할'], ['날개', '단', '하이닉스', '삼성', '삼성전자', '전자', '역대', '역대급', '급', '실적', '올해', '3', '3분기', '분기', '7', '7조원대', '조', '원', '대', '영업', '영업이익', '이익', '기록', '사상', '최대', '고부', '가치', '메모', '메모리라', '리라', '불리', '고대', '고대역폭메모리', '역', '폭', '메모리', '영향'], ['배추', '정부', '11', '11월', '월', '중순', '3', '3천원', '천', '원', '포기', '2', '2만', '만', '가격', '최근', '평년', '대비', '2배', '배', '오늘', '23', '23일', '일', '수급', '안정', '대책'], ['내년', '추석', '1', '1년', '년', '황금', '황금연휴', '연휴', '항공권', '예', '예약', '약', '전쟁', '얘기', '뒤', '준비', '사람', '잘만', '하면', '최대', '열흘', '수', '여행', '계획'], ['역대', '역대급', '급', '여름', '폭염', '탓', '제철', '귀', '몸', '가을', '전어', '어가', '계절', '가을이지만', '이지만', '전', '값', '배', '때문', '조업', '조업량', '량', '꽃게', '갈치', '상황', '생선', '인플레이션'], ['바다', '귀', '귀해진', '해진', '전어', '현실화', '피시', '피시플레이션', '플레이', '션', '이상', '기온', '가을', '제철', '가격', '배', '여름', '폭염', '바닷물', '온도', '조업', '조업량', '량', '탓', '꽃게', '갈치'], ['정부', '자본', '자본잠식', '잠식', '티', '티메프', '메', '프', '재무', '상태', '80', '80억', '억', '예산', '책정', '과', '위메프', '미', '미정산', '정산', '사태', '직전', '지원', '사업', '입', '업체', '매출', '리', '사실', '확인', '말', '판매자', '판매'], ['정부', '재무', '상태', '안', '보고', '티', '지원', '과', '위메프', '미', '미정산', '정산', '사태', '직전', '사업', '마지막', '입', '업체', '매출', '리', '사실', '취재', '결과', '확인', '80', '80억원', '억', '원', '예산'], ['15', '15억', '억', '이상', '아파트', '거래', '최근', '5', '5년', '년', '중', '최고', '10', '10건', '건', '8', '8건', '서울', '부동산', '가격', '상승', '등', '영향', '중심', '전국', '고가', '비중', '국토', '국토교통부', '교통부', '올해', '1', '1월', '월', '8월'], ['동아줄', '오락', '오락가락', '가락', '디딤돌', '대출', '불안', '정부', '무', '무주택', '주택', '서민', '내', '집', '마련', '한도', '실수요자', '혼란', '반발', '규제', '시행', '일'], ['뉴욕', '뉴욕증시', '증시', '다우', '500', '사상', '최고', '6', '6주', '주', '연속', '상승세', '어제', '18', '18일', '일', '미국', '3', '3분기', '분기', '실적', '호조', '강세', '다우존스', '존스', '지수', '경신', '주요', '주간', '기']]\n"
     ]
    }
   ],
   "source": [
    "'''각 link들의 뉴스 기사 -> 명사만 :\n",
    "    [['드촌','재건축','명사1',....],\n",
    "     ['캠핑장', '재건축','명사2',...],\n",
    "     ....,\n",
    "     ]\n",
    "'''\n",
    "from konlpy.tag import Kkma\n",
    "kkma = Kkma()\n",
    "news = []\n",
    "for link in link_list :\n",
    "    response = requests.get(link)\n",
    "#     print(response.status_code)\n",
    "    news_soup = BeautifulSoup(response.content, \"html.parser\")\n",
    "    title = news_soup.select_one('title').text\n",
    "    description = str(news_soup.select_one('meta[name=\"description\"]'))\n",
    "    noun_list = kkma.nouns(title + ' ' + description)\n",
    "    불용어 = {'뉴스', '앵커'}\n",
    "    noun_list = [word for word in noun_list if word not in 불용어]\n",
    "    news.append(noun_list)\n",
    "print(news)"
   ]
  },
  {
   "cell_type": "code",
   "execution_count": 4,
   "id": "e27942db",
   "metadata": {},
   "outputs": [
    {
     "name": "stdout",
     "output_type": "stream",
     "text": [
      "[['촌', '주공', '전', '홍수', '예상', '눈치', '게임', '시작', '단군', '이래', '최대', '규모', '건축', '불리', '촌', '주공', '아파트', '입주', '다음', '말', '시작', '대규모', '입주', '전세', '매물', '현장', '분위기', '이'], ['실제', '완전', '사기', '캠핑', '장', '관리', '소홀', '캠핑', '장', '예약', '때', '예약', '플랫폼', '사진', '실제', '불만', '경우', '앞', '예약', '플랫폼', '책임', '강화', '아람', '기자', '기자', '인터넷', '카페'], ['요즘', '끼', '편의점', '정도', '일', '줄', '육박', '점심', '값', '편의점', '도시락', '끼', '때', '편의점', '도시락', '식비', '부담', '아람', '기자', '기자', '서울', '한']]\n"
     ]
    }
   ],
   "source": [
    "# rss의 title과 description => 명사 추출 => 워드임베딩(단어간 벡터(거리) 계산 => 특정 단어의 유사도)\n",
    "import requests\n",
    "from bs4 import BeautifulSoup\n",
    "rss_url = 'https://fs.jtbc.co.kr/RSS/economy.xml'\n",
    "jtbc_response = requests.get(rss_url)\n",
    "soup = BeautifulSoup(jtbc_response.content, \"xml\")\n",
    "news = []\n",
    "item_elems = soup.find_all('item')\n",
    "for item_elem in item_elems :\n",
    "    title = item_elem.find('title').text\n",
    "    description = item_elem.find('description').text\n",
    "#     print(title + ' ' + description)\n",
    "    article = title + ' ' + description.replace('[앵커]', ' ')\n",
    "    noun_list = kkma.nouns(article)\n",
    "    # 보통명사(NNG), 고유명사(NNP)\n",
    "    noun_list = [word for word, tag in kkma.pos(article) if tag in ('NNG', 'NNP')]\n",
    "    news.append(noun_list)\n",
    "print(news[:3])"
   ]
  },
  {
   "cell_type": "code",
   "execution_count": 6,
   "id": "20ea48bd",
   "metadata": {},
   "outputs": [],
   "source": [
    "# 워드 임베딩(단어간 거리 계산)\n",
    "# pip install gensim\n",
    "from gensim.models import Word2Vec\n",
    "model = Word2Vec(news, #학습 데이터 2차원\n",
    "                 window=10, # 각 단어의 좌우 10개 단어를 학습 컨텐츠로 사용\n",
    "                 min_count=2, # 학습데이터에서 2회 이상 등장한 단어만 학습\n",
    "                 workers=-1 #  병렬처리 core 수, -1:모든 가용 코어 사용\n",
    "                )"
   ]
  },
  {
   "cell_type": "code",
   "execution_count": 12,
   "id": "6cb44dca",
   "metadata": {},
   "outputs": [
    {
     "data": {
      "text/plain": [
       "[('아연', 0.2122785449028015),\n",
       " ('불리', 0.19188855588436127),\n",
       " ('매출', 0.16693152487277985),\n",
       " ('성장률', 0.16677328944206238),\n",
       " ('기자', 0.15923377871513367),\n",
       " ('장', 0.15619252622127533),\n",
       " ('코스터', 0.1550060659646988),\n",
       " ('편의점', 0.1528114527463913),\n",
       " ('탓', 0.14976413547992706),\n",
       " ('예약', 0.14474642276763916)]"
      ]
     },
     "execution_count": 12,
     "metadata": {},
     "output_type": "execute_result"
    }
   ],
   "source": [
    "model.wv.most_similar('아파트')"
   ]
  },
  {
   "cell_type": "code",
   "execution_count": 11,
   "id": "58420034",
   "metadata": {},
   "outputs": [
    {
     "data": {
      "text/plain": [
       "[('아연', 0.2122785449028015),\n",
       " ('불리', 0.19188855588436127),\n",
       " ('매출', 0.16693152487277985)]"
      ]
     },
     "execution_count": 11,
     "metadata": {},
     "output_type": "execute_result"
    }
   ],
   "source": [
    "model.wv.most_similar('아파트', topn=3)"
   ]
  },
  {
   "cell_type": "code",
   "execution_count": null,
   "id": "f0072730",
   "metadata": {},
   "outputs": [],
   "source": []
  },
  {
   "cell_type": "code",
   "execution_count": null,
   "id": "d4a7de6e",
   "metadata": {},
   "outputs": [],
   "source": []
  },
  {
   "cell_type": "code",
   "execution_count": null,
   "id": "cb77a76c",
   "metadata": {},
   "outputs": [],
   "source": []
  },
  {
   "cell_type": "code",
   "execution_count": null,
   "id": "325b9bbd",
   "metadata": {},
   "outputs": [],
   "source": []
  },
  {
   "cell_type": "code",
   "execution_count": null,
   "id": "6c404eb6",
   "metadata": {},
   "outputs": [],
   "source": []
  },
  {
   "cell_type": "code",
   "execution_count": null,
   "id": "a9b6b5a2",
   "metadata": {},
   "outputs": [],
   "source": []
  },
  {
   "cell_type": "code",
   "execution_count": null,
   "id": "5b289352",
   "metadata": {},
   "outputs": [],
   "source": []
  },
  {
   "cell_type": "code",
   "execution_count": null,
   "id": "f4ed1980",
   "metadata": {},
   "outputs": [],
   "source": []
  },
  {
   "cell_type": "code",
   "execution_count": null,
   "id": "d93eb08d",
   "metadata": {},
   "outputs": [],
   "source": []
  },
  {
   "cell_type": "code",
   "execution_count": null,
   "id": "498bbb0d",
   "metadata": {},
   "outputs": [],
   "source": []
  },
  {
   "cell_type": "code",
   "execution_count": null,
   "id": "92cae2da",
   "metadata": {},
   "outputs": [],
   "source": []
  },
  {
   "cell_type": "code",
   "execution_count": null,
   "id": "32a679f9",
   "metadata": {},
   "outputs": [],
   "source": []
  },
  {
   "cell_type": "code",
   "execution_count": null,
   "id": "2be22219",
   "metadata": {},
   "outputs": [],
   "source": []
  },
  {
   "cell_type": "code",
   "execution_count": null,
   "id": "cf0cf6c4",
   "metadata": {},
   "outputs": [],
   "source": []
  },
  {
   "cell_type": "code",
   "execution_count": null,
   "id": "87e1d192",
   "metadata": {},
   "outputs": [],
   "source": []
  },
  {
   "cell_type": "code",
   "execution_count": null,
   "id": "554dc506",
   "metadata": {},
   "outputs": [],
   "source": []
  },
  {
   "cell_type": "code",
   "execution_count": null,
   "id": "67e27982",
   "metadata": {},
   "outputs": [],
   "source": []
  },
  {
   "cell_type": "code",
   "execution_count": null,
   "id": "0aa26d55",
   "metadata": {},
   "outputs": [],
   "source": []
  },
  {
   "cell_type": "code",
   "execution_count": null,
   "id": "b1dc38a9",
   "metadata": {},
   "outputs": [],
   "source": []
  },
  {
   "cell_type": "code",
   "execution_count": null,
   "id": "b9369a06",
   "metadata": {},
   "outputs": [],
   "source": []
  },
  {
   "cell_type": "code",
   "execution_count": null,
   "id": "49a95d4c",
   "metadata": {},
   "outputs": [],
   "source": []
  },
  {
   "cell_type": "code",
   "execution_count": null,
   "id": "9458e4da",
   "metadata": {},
   "outputs": [],
   "source": []
  }
 ],
 "metadata": {
  "kernelspec": {
   "display_name": "ml-dl-nlp",
   "language": "python",
   "name": "ml-dl-nlp"
  },
  "language_info": {
   "codemirror_mode": {
    "name": "ipython",
    "version": 3
   },
   "file_extension": ".py",
   "mimetype": "text/x-python",
   "name": "python",
   "nbconvert_exporter": "python",
   "pygments_lexer": "ipython3",
   "version": "3.10.18"
  },
  "toc": {
   "base_numbering": 1,
   "nav_menu": {},
   "number_sections": false,
   "sideBar": true,
   "skip_h1_title": false,
   "title_cell": "Table of Contents",
   "title_sidebar": "Contents",
   "toc_cell": false,
   "toc_position": {
    "height": "calc(100% - 180px)",
    "left": "10px",
    "top": "150px",
    "width": "274.55px"
   },
   "toc_section_display": true,
   "toc_window_display": true
  }
 },
 "nbformat": 4,
 "nbformat_minor": 5
}
