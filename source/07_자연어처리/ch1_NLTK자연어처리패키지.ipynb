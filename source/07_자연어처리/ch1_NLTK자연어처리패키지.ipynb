{
 "cells": [
  {
   "cell_type": "code",
   "execution_count": 1,
   "id": "7611e61f",
   "metadata": {},
   "outputs": [
    {
     "data": {
      "text/html": [
       "\n",
       "<style>\n",
       "div.container{width:86% !important;}\n",
       "div.cell.code_cell.rendered{width:100%;}\n",
       "div.CodeMirror {font-family:Consolas; font-size:12pt;}\n",
       "div.output {font-size:15pt; font-weight:bold;}\n",
       "div.input {font-family:Consolas; font-size:12pt;}\n",
       "div.prompt {min-width:70px;}\n",
       "div#toc-wrapper{padding-top:120px;}\n",
       "div.text_cell_render ul li{font-size:12pt;padding:5px;}\n",
       "table.dataframe{font-size:15px;}\n",
       "</style>\n"
      ],
      "text/plain": [
       "<IPython.core.display.HTML object>"
      ]
     },
     "metadata": {},
     "output_type": "display_data"
    }
   ],
   "source": [
    "from IPython.display import display, HTML\n",
    "display(HTML(\"\"\"\n",
    "<style>\n",
    "div.container{width:86% !important;}\n",
    "div.cell.code_cell.rendered{width:100%;}\n",
    "div.CodeMirror {font-family:Consolas; font-size:12pt;}\n",
    "div.output {font-size:15pt; font-weight:bold;}\n",
    "div.input {font-family:Consolas; font-size:12pt;}\n",
    "div.prompt {min-width:70px;}\n",
    "div#toc-wrapper{padding-top:120px;}\n",
    "div.text_cell_render ul li{font-size:12pt;padding:5px;}\n",
    "table.dataframe{font-size:15px;}\n",
    "</style>\n",
    "\"\"\"))"
   ]
  },
  {
   "cell_type": "markdown",
   "id": "997f6def",
   "metadata": {},
   "source": [
    "# <span style=\"color:red\">ch1. NLTK 자연어처리 패키지</span>\n",
    "# 1. NLTK 패키지\n",
    "- 자연어 처리를 위한 강력하고 사용하기 쉬운 라이브러리\n",
    "1. 텍스트 전처리 : 토큰화(어절, 문장나누기), 정규화(정규표현식 활용), 불용어 제거, 표제어추출(기본형태로 변환)\n",
    "2. 품사태깅 : 단어 품사 식별\n",
    "3. 어휘 데이터 베이스 사용\n",
    "4. 구조화된 문서의 빈도수, 분류분석, 연관분석, 감정분석 (단점 - 속도가 느림)\n",
    "```\n",
    "pip install nltk\n",
    "```"
   ]
  },
  {
   "cell_type": "code",
   "execution_count": 2,
   "id": "3df875cf",
   "metadata": {},
   "outputs": [],
   "source": [
    "import nltk"
   ]
  },
  {
   "cell_type": "code",
   "execution_count": 3,
   "id": "d5afbde4",
   "metadata": {},
   "outputs": [],
   "source": [
    "# 말뭉치를 다운로드\n",
    "# c:/nltk_data\n",
    "# d:/nltk_data\n",
    "# c:/Users/내컴퓨터이름/nltk_data\n",
    "# c:/Users/내컴퓨터이름/anaconda3/nltk_data\n",
    "# c:/Users/내컴퓨터이름/anaconda3/lib/nltk_data\n",
    "# c:/Users/내컴퓨터이름/anaconda3/share/nltk_data\n",
    "# c:/Users/내컴퓨터이름/Appdata/Roaming/nltk_data\n",
    "# nltk.download()"
   ]
  },
  {
   "cell_type": "code",
   "execution_count": 4,
   "id": "6eea7402",
   "metadata": {},
   "outputs": [
    {
     "data": {
      "text/plain": [
       "['austen-emma.txt',\n",
       " 'austen-persuasion.txt',\n",
       " 'austen-sense.txt',\n",
       " 'bible-kjv.txt',\n",
       " 'blake-poems.txt',\n",
       " 'bryant-stories.txt',\n",
       " 'burgess-busterbrown.txt',\n",
       " 'carroll-alice.txt',\n",
       " 'chesterton-ball.txt',\n",
       " 'chesterton-brown.txt',\n",
       " 'chesterton-thursday.txt',\n",
       " 'edgeworth-parents.txt',\n",
       " 'melville-moby_dick.txt',\n",
       " 'milton-paradise.txt',\n",
       " 'shakespeare-caesar.txt',\n",
       " 'shakespeare-hamlet.txt',\n",
       " 'shakespeare-macbeth.txt',\n",
       " 'whitman-leaves.txt']"
      ]
     },
     "execution_count": 4,
     "metadata": {},
     "output_type": "execute_result"
    }
   ],
   "source": [
    "# 말뭉치 리스트\n",
    "nltk.corpus.gutenberg.fileids()"
   ]
  },
  {
   "cell_type": "code",
   "execution_count": 5,
   "id": "bbb215ae",
   "metadata": {},
   "outputs": [
    {
     "data": {
      "text/plain": [
       "'[Emma by Jane Austen 1816]\\n\\nVOLUME I\\n\\nCH'"
      ]
     },
     "execution_count": 5,
     "metadata": {},
     "output_type": "execute_result"
    }
   ],
   "source": [
    "# 말뭉치 데이터 셋(소설 emma 내용)\n",
    "emma = nltk.corpus.gutenberg.raw('austen-emma.txt')\n",
    "emma[:40]"
   ]
  },
  {
   "cell_type": "code",
   "execution_count": 6,
   "id": "d7803e73",
   "metadata": {},
   "outputs": [
    {
     "name": "stdout",
     "output_type": "stream",
     "text": [
      "글자수 :  887071\n"
     ]
    }
   ],
   "source": [
    "# emma의 글자수, 문장수, 단어수\n",
    "print(\"글자수 : \",len(emma))"
   ]
  },
  {
   "cell_type": "code",
   "execution_count": 7,
   "id": "0e0cb089",
   "metadata": {},
   "outputs": [
    {
     "name": "stdout",
     "output_type": "stream",
     "text": [
      "문장수 :  7493\n",
      "'[Emma by Jane Austen 1816]\\n\\nVOLUME I\\n\\nCHAPTER I\\n\\n\\nEmma Woodhouse, handsome, clever, and rich, with a comfortable home\\nand happy disposition, seemed to unite some of the best blessings\\nof existence; and had lived nearly twenty-one years in the world\\nwith very little to distress or vex her.'\n"
     ]
    }
   ],
   "source": [
    "# sent_tokenize() : 문장단위로 나눠 list로 반환\n",
    "from nltk.tokenize import sent_tokenize\n",
    "sent_tokens = sent_tokenize(emma)\n",
    "print(\"문장수 : \", len(sent_tokens))\n",
    "print(\"%r\" % sent_tokens[0])"
   ]
  },
  {
   "cell_type": "code",
   "execution_count": 8,
   "id": "d659b14a",
   "metadata": {},
   "outputs": [
    {
     "name": "stdout",
     "output_type": "stream",
     "text": [
      "['[', 'Emma', 'by', 'Jane', 'Austen', '1816', ']', 'VOLUME', 'I', 'CHAPTER', 'I', 'Emma', 'Woodhouse', ',', 'handsome', ',', 'clever', ',', 'and', 'rich', ',', 'with', 'a', 'comfortable', 'home', 'and', 'happy', 'disposition', ',', 'seemed', 'to', 'unite', 'some', 'of', 'the', 'best', 'blessings', 'of', 'existence', ';', 'and', 'had', 'lived', 'nearly', 'twenty-one', 'years', 'in', 'the', 'world', 'with', 'very', 'little', 'to', 'distress', 'or', 'vex', 'her', '.']\n"
     ]
    }
   ],
   "source": [
    "# word_tokenize() : 단어단위로 나눠 list로 반환\n",
    "from nltk.tokenize import word_tokenize\n",
    "print(word_tokenize(sent_tokens[0]))"
   ]
  },
  {
   "cell_type": "code",
   "execution_count": 9,
   "id": "f5e85a55",
   "metadata": {},
   "outputs": [
    {
     "name": "stdout",
     "output_type": "stream",
     "text": [
      "단어수 :  191855\n"
     ]
    }
   ],
   "source": [
    "print(\"단어수 : \", len(word_tokenize(emma)))"
   ]
  },
  {
   "cell_type": "code",
   "execution_count": 10,
   "id": "2f0579b5",
   "metadata": {},
   "outputs": [
    {
     "name": "stdout",
     "output_type": "stream",
     "text": [
      "['1816']\n",
      "['Emma', 'by', 'Jane', 'Austen', '1816', 'VOLUME', 'I', 'CHAPTER', 'I', 'Emma', 'Woodhouse', 'handsome', 'clever', 'and', 'rich', 'with', 'a', 'comfortable', 'home', 'and', 'happy', 'disposition', 'seemed', 'to', 'unite', 'some', 'of', 'the', 'best', 'blessings', 'of', 'existence', 'and', 'had', 'lived', 'nearly', 'twenty', 'one', 'years', 'in', 'the', 'world', 'with', 'very', 'little', 'to', 'distress', 'or', 'vex', 'her']\n"
     ]
    }
   ],
   "source": [
    "# RegexpTokenizer() : 토큰화할 때 해당 정규표현식에 해당하는 word만 적용\n",
    "from nltk.tokenize import RegexpTokenizer\n",
    "digitRet = RegexpTokenizer(\"\\d+\")\n",
    "alphaRet = RegexpTokenizer(\"\\w+\")\n",
    "digits = digitRet.tokenize(sent_tokens[0])\n",
    "print(digits)\n",
    "words = alphaRet.tokenize(sent_tokens[0])\n",
    "print(words)"
   ]
  },
  {
   "cell_type": "markdown",
   "id": "bf087204",
   "metadata": {},
   "source": [
    "# 2. 형태소(의미 있는 가장 작은 단위) 분석"
   ]
  },
  {
   "cell_type": "code",
   "execution_count": 11,
   "id": "7a2cc346",
   "metadata": {},
   "outputs": [
    {
     "data": {
      "text/plain": [
       "'send'"
      ]
     },
     "execution_count": 11,
     "metadata": {},
     "output_type": "execute_result"
    }
   ],
   "source": [
    "words2 = ['sending', 'cooking', 'files', 'lives', 'crying', 'dying']\n",
    "# 어간추출(1) : PorterStemmer\n",
    "from nltk.stem import PorterStemmer\n",
    "pst = PorterStemmer()\n",
    "pst.stem(words2[0])"
   ]
  },
  {
   "cell_type": "code",
   "execution_count": 12,
   "id": "7040a801",
   "metadata": {},
   "outputs": [
    {
     "data": {
      "text/plain": [
       "['send', 'cook', 'file', 'live', 'cri', 'die']"
      ]
     },
     "execution_count": 12,
     "metadata": {},
     "output_type": "execute_result"
    }
   ],
   "source": [
    "[pst.stem(word) for word in words2]"
   ]
  },
  {
   "cell_type": "code",
   "execution_count": 13,
   "id": "d0c717dc",
   "metadata": {},
   "outputs": [
    {
     "data": {
      "text/plain": [
       "['send', 'cook', 'fil', 'liv', 'cry', 'dying']"
      ]
     },
     "execution_count": 13,
     "metadata": {},
     "output_type": "execute_result"
    }
   ],
   "source": [
    "# 어간추출(2) - 어간 추출하는 것 중 제일 높은 빈도\n",
    "from nltk.stem import LancasterStemmer\n",
    "lst = LancasterStemmer()\n",
    "[lst.stem(word) for word in words2]"
   ]
  },
  {
   "cell_type": "code",
   "execution_count": 14,
   "id": "82d09b21",
   "metadata": {},
   "outputs": [
    {
     "data": {
      "text/plain": [
       "['send', 'cook', 'files', 'lives', 'cry', 'dy']"
      ]
     },
     "execution_count": 14,
     "metadata": {},
     "output_type": "execute_result"
    }
   ],
   "source": [
    "# 어간추출(3) - RegexpStemmer : 정규표현식에 해당하는 부분만 어간 추출\n",
    "from nltk.stem import RegexpStemmer\n",
    "rst = RegexpStemmer('ing')\n",
    "[rst.stem(word) for word in words2]"
   ]
  },
  {
   "cell_type": "code",
   "execution_count": 15,
   "id": "2b9ba59f",
   "metadata": {},
   "outputs": [
    {
     "name": "stdout",
     "output_type": "stream",
     "text": [
      "['[', 'Emma', 'by', 'Jane', 'Austen', '1816', ']', 'VOLUME', 'I', 'CHAPTER', 'I', 'Emma', 'Woodhouse', ',', 'handsome', ',', 'clever', ',', 'and', 'rich', ',', 'with', 'a', 'comfortable', 'home', 'and', 'happy', 'disposition', ',', 'seemed', 'to', 'unite', 'some', 'of', 'the', 'best', 'blessings', 'of', 'existence', ';', 'and', 'had', 'lived', 'nearly', 'twenty-one', 'years', 'in', 'the', 'world', 'with', 'very', 'little', 'to', 'distress', 'or', 'vex', 'her', '.']\n",
      "품사태깅한 결과 : [('[', 'NNS'), ('Emma', 'NNP'), ('by', 'IN'), ('Jane', 'NNP'), ('Austen', 'NNP'), ('1816', 'CD'), (']', 'NNP'), ('VOLUME', 'NNP'), ('I', 'PRP'), ('CHAPTER', 'VBP'), ('I', 'PRP'), ('Emma', 'NNP'), ('Woodhouse', 'NNP'), (',', ','), ('handsome', 'NN'), (',', ','), ('clever', 'NN'), (',', ','), ('and', 'CC'), ('rich', 'JJ'), (',', ','), ('with', 'IN'), ('a', 'DT'), ('comfortable', 'JJ'), ('home', 'NN'), ('and', 'CC'), ('happy', 'JJ'), ('disposition', 'NN'), (',', ','), ('seemed', 'VBD'), ('to', 'TO'), ('unite', 'VB'), ('some', 'DT'), ('of', 'IN'), ('the', 'DT'), ('best', 'JJS'), ('blessings', 'NNS'), ('of', 'IN'), ('existence', 'NN'), (';', ':'), ('and', 'CC'), ('had', 'VBD'), ('lived', 'VBN'), ('nearly', 'RB'), ('twenty-one', 'CD'), ('years', 'NNS'), ('in', 'IN'), ('the', 'DT'), ('world', 'NN'), ('with', 'IN'), ('very', 'RB'), ('little', 'JJ'), ('to', 'TO'), ('distress', 'VB'), ('or', 'CC'), ('vex', 'VB'), ('her', 'PRP'), ('.', '.')]\n"
     ]
    }
   ],
   "source": [
    "# 품사태깅\n",
    "from nltk.tag import pos_tag\n",
    "tagged_list = pos_tag(word_tokenize(sent_tokens[0]))\n",
    "print(word_tokenize(sent_tokens[0]))\n",
    "print('품사태깅한 결과 :', tagged_list)"
   ]
  },
  {
   "cell_type": "markdown",
   "id": "980a980e",
   "metadata": {},
   "source": [
    "# 퀴즈 : emma소설안에서\n",
    "1. 특수문자가 들어가지 않는 3글자 이상의 단어만 추출해서 품사태킹을 하시오. ex)[('emma','명'), ('was','동'),...]\n",
    "2. \"Emma\" 단어가 몇번 등장하며, 품사 태깅이 어떤 품사들로 되어 있는지 모두 출력하시오\n",
    "3. 내가 원하는 품사(명사)의 단어만 뽑아 등장하는 명사의 종류 갯수를 출력하시오"
   ]
  },
  {
   "cell_type": "code",
   "execution_count": 16,
   "id": "c686f62e",
   "metadata": {},
   "outputs": [
    {
     "name": "stdout",
     "output_type": "stream",
     "text": [
      "emma 소설에서 3글자 이상의 단어 출현 수 :  123817 123817\n",
      "emma 소설에서 3글자 이상의 단어 종류 수 :  7470 11434\n"
     ]
    }
   ],
   "source": [
    "# 1.\n",
    "from nltk.tokenize import RegexpTokenizer\n",
    "ret = RegexpTokenizer('[a-zA-Z0-9]{3,}')\n",
    "emma = nltk.corpus.gutenberg.raw('austen-emma.txt')\n",
    "emma_words = ret.tokenize(emma)\n",
    "emma_tags = pos_tag(emma_words)\n",
    "print(\"emma 소설에서 3글자 이상의 단어 출현 수 : \", len(emma_words), len(emma_tags))\n",
    "print(\"emma 소설에서 3글자 이상의 단어 종류 수 : \", len(set(emma_words)),len(set(emma_tags)))\n",
    "# 한 단어가 다른 품사로 태깅될 수 있음"
   ]
  },
  {
   "cell_type": "code",
   "execution_count": 17,
   "id": "f0254c46",
   "metadata": {},
   "outputs": [
    {
     "name": "stdout",
     "output_type": "stream",
     "text": [
      "['Emma', 'Jane', 'Austen', '1816', 'VOLUME']\n",
      "[('Emma', 'NNP'), ('Jane', 'NNP'), ('Austen', 'NNP'), ('1816', 'CD'), ('VOLUME', 'NNP')]\n"
     ]
    }
   ],
   "source": [
    "print(emma_words[:5])\n",
    "print(emma_tags[:5])"
   ]
  },
  {
   "cell_type": "code",
   "execution_count": 18,
   "id": "2d800e86",
   "metadata": {},
   "outputs": [
    {
     "name": "stdout",
     "output_type": "stream",
     "text": [
      "Emma 출현횟수 :  865\n",
      "Emma의 품사 :  {'NNP', 'NNS', 'VBP', 'NNPS', 'VBD', 'JJ', 'RB', 'VB', 'VBN', 'NN'}\n"
     ]
    }
   ],
   "source": [
    "# 2. \"Emma\" 단어가 몇 번 등장하며, 품사 태깅이 어떤 품사들로 되어 있는지 모두 출력하시오\n",
    "# pos = [] # 품사만\n",
    "# for emma_tag in emma_tags :\n",
    "#     if emma_tag[0] == 'Emma' :\n",
    "#         pos.append(emma_tag[1])\n",
    "pos = [emma_tag[1] for emma_tag in emma_tags if emma_tag[0]=='Emma']        \n",
    "print(\"Emma 출현횟수 : \", len(pos))\n",
    "print(\"Emma의 품사 : \", set(pos))\n",
    "# VBP', 'JJ', 'NN', 'VBN', 'VB', 'NNPS', 'RB', 'NNP', 'NNS', 'VBD'\n",
    "# 동사, 형용사, 명사, 동사과거분사, 동사, 고유명사복수, 고유명사, 명사복수형, 동사과거형"
   ]
  },
  {
   "cell_type": "code",
   "execution_count": 19,
   "id": "50251a80",
   "metadata": {},
   "outputs": [
    {
     "name": "stdout",
     "output_type": "stream",
     "text": [
      "{'NNP': 838, 'VBP': 4, 'JJ': 4, 'VB': 5, 'NNS': 2, 'RB': 1, 'NN': 7, 'NNPS': 2, 'VBN': 1, 'VBD': 1}\n"
     ]
    }
   ],
   "source": [
    "# emma_tags에서 각 품사별 몇 개씩 태그되었는지\n",
    "# set(pos) # Emma의 품사\n",
    "pos_cnt = dict() # 딕셔너리\n",
    "for word, tag in emma_tags :\n",
    "    if word==\"Emma\" :\n",
    "        if tag in pos_cnt :\n",
    "            pos_cnt[tag] += 1\n",
    "        else :\n",
    "            pos_cnt[tag] = 1\n",
    "print(pos_cnt)"
   ]
  },
  {
   "cell_type": "code",
   "execution_count": 20,
   "id": "69daf65b",
   "metadata": {},
   "outputs": [
    {
     "data": {
      "text/plain": [
       "NNP     838\n",
       "NN        7\n",
       "VB        5\n",
       "VBP       4\n",
       "JJ        4\n",
       "NNS       2\n",
       "NNPS      2\n",
       "VBD       1\n",
       "RB        1\n",
       "VBN       1\n",
       "dtype: int64"
      ]
     },
     "execution_count": 20,
     "metadata": {},
     "output_type": "execute_result"
    }
   ],
   "source": [
    "# emma_tags에서 각 품사별 몇 개씩 태그되었는지\n",
    "import pandas as pd\n",
    "pos_cnt = pd.Series([0]*len(set(pos)), index=set(pos))\n",
    "for word, tag in emma_tags :\n",
    "    if word=='Emma' :\n",
    "        pos_cnt[tag] += 1\n",
    "pos_cnt.sort_values(ascending=False)"
   ]
  },
  {
   "cell_type": "code",
   "execution_count": 21,
   "id": "8f226aa0",
   "metadata": {},
   "outputs": [
    {
     "name": "stdout",
     "output_type": "stream",
     "text": [
      "명사가 나온 횟수 :  30633\n",
      "출연한 명사 갯수 :  4067\n",
      "각 단어당 나오는 평균 빈도수 :  7.5320875338087045\n"
     ]
    }
   ],
   "source": [
    "# 3.내가 원하는 품사(명사)의 단어만 뽑아 등장하는 명사의 종류 갯수를 출력하시오\n",
    "nouns_list = [word for word, tag in emma_tags if (tag=='NN') \n",
    "                                              | (tag=='NNS') \n",
    "                                              | (tag=='NNP') \n",
    "                                              | (tag=='NNPS')] # 명사들만\n",
    "# for word, tag in emma_tags :\n",
    "#     if (tag=='NN') | (tag=='NNS') | (tag=='NNP') | (tag=='NNPS') :\n",
    "#         nouns_list.append(word)\n",
    "print(\"명사가 나온 횟수 : \", len(nouns_list))\n",
    "print(\"출연한 명사 갯수 : \", len(set(nouns_list)))\n",
    "print(\"각 단어당 나오는 평균 빈도수 : \", len(nouns_list) / len(set(nouns_list)))"
   ]
  },
  {
   "cell_type": "code",
   "execution_count": 22,
   "id": "1aba1ce9",
   "metadata": {},
   "outputs": [
    {
     "data": {
      "image/png": "[encoded data removed]",
      "text/plain": [
       "<Figure size 1500x200 with 1 Axes>"
      ]
     },
     "metadata": {},
     "output_type": "display_data"
    }
   ],
   "source": [
    "# 최빈 단어 시각화\n",
    "import matplotlib.pyplot as plt\n",
    "from nltk import Text\n",
    "emma_text = Text(nouns_list)\n",
    "plt.figure(figsize=(15,2))\n",
    "emma_text.plot(20)\n",
    "plt.show()"
   ]
  },
  {
   "cell_type": "code",
   "execution_count": 23,
   "id": "ef9ec7e3",
   "metadata": {},
   "outputs": [
    {
     "data": {
      "image/png": "[encoded data removed]",
      "text/plain": [
       "<Figure size 640x480 with 1 Axes>"
      ]
     },
     "metadata": {},
     "output_type": "display_data"
    }
   ],
   "source": [
    "emma_text.dispersion_plot(['Emma', 'Jane'])"
   ]
  },
  {
   "cell_type": "code",
   "execution_count": 24,
   "id": "24e95b42",
   "metadata": {},
   "outputs": [
    {
     "name": "stdout",
     "output_type": "stream",
     "text": [
      "고유명사의 개수 :  577\n"
     ]
    },
    {
     "data": {
      "text/plain": [
       "FreqDist({'Emma': 840, 'Mrs': 698, 'Miss': 572, 'Harriet': 484, 'Weston': 433, 'Knightley': 389, 'Elton': 384, 'Jane': 295, 'Woodhouse': 294, 'Fairfax': 241, ...})"
      ]
     },
     "execution_count": 24,
     "metadata": {},
     "output_type": "execute_result"
    }
   ],
   "source": [
    "# 고유명사\n",
    "names_list = [word for word, tag in emma_tags if (tag==\"NNP\") | (tag==\"NNPS\")]\n",
    "print(\"고유명사의 개수 : \",len(set(names_list)))\n",
    "from nltk import FreqDist\n",
    "FreqDist(names_list) # 빈도를 반환"
   ]
  },
  {
   "cell_type": "code",
   "execution_count": 25,
   "id": "e8968fc9",
   "metadata": {},
   "outputs": [
    {
     "data": {
      "text/plain": [
       "Emma        840\n",
       "Mrs         698\n",
       "Miss        572\n",
       "Harriet     484\n",
       "Weston      433\n",
       "           ... \n",
       "Call          1\n",
       "Barnes        1\n",
       "Balls         1\n",
       "Fourteen      1\n",
       "FINIS         1\n",
       "Length: 577, dtype: int64"
      ]
     },
     "execution_count": 25,
     "metadata": {},
     "output_type": "execute_result"
    }
   ],
   "source": [
    "dic = dict(FreqDist(names_list))\n",
    "wordcnt = pd.Series(dic)\n",
    "wordcnt.sort_values(ascending=False)"
   ]
  },
  {
   "cell_type": "code",
   "execution_count": 26,
   "id": "7f2b7345",
   "metadata": {},
   "outputs": [
    {
     "data": {
      "text/plain": [
       "Emma       840\n",
       "Miss       572\n",
       "Weston     433\n",
       "Mrs        698\n",
       "Harriet    484\n",
       "dtype: int64"
      ]
     },
     "execution_count": 26,
     "metadata": {},
     "output_type": "execute_result"
    }
   ],
   "source": [
    "wordcnt[wordcnt>400]"
   ]
  },
  {
   "cell_type": "code",
   "execution_count": 27,
   "id": "c21d555b",
   "metadata": {},
   "outputs": [
    {
     "data": {
      "text/plain": [
       "Index(['Emma', 'Miss', 'Weston', 'Mrs', 'Harriet'], dtype='object')"
      ]
     },
     "execution_count": 27,
     "metadata": {},
     "output_type": "execute_result"
    }
   ],
   "source": [
    "names = wordcnt[wordcnt>400]\n",
    "names.index"
   ]
  },
  {
   "cell_type": "code",
   "execution_count": 28,
   "id": "7ea6c2a7",
   "metadata": {
    "scrolled": true
   },
   "outputs": [
    {
     "data": {
      "image/png": "[encoded data removed]",
      "text/plain": [
       "<Figure size 640x480 with 1 Axes>"
      ]
     },
     "metadata": {},
     "output_type": "display_data"
    }
   ],
   "source": [
    "emma_text.dispersion_plot(list(names.index))"
   ]
  },
  {
   "cell_type": "code",
   "execution_count": null,
   "id": "773678cd",
   "metadata": {},
   "outputs": [],
   "source": []
  },
  {
   "cell_type": "code",
   "execution_count": null,
   "id": "0516d12f",
   "metadata": {},
   "outputs": [],
   "source": []
  },
  {
   "cell_type": "code",
   "execution_count": null,
   "id": "6413b847",
   "metadata": {},
   "outputs": [],
   "source": []
  },
  {
   "cell_type": "code",
   "execution_count": null,
   "id": "c01b2a75",
   "metadata": {},
   "outputs": [],
   "source": []
  },
  {
   "cell_type": "code",
   "execution_count": null,
   "id": "ac90c3aa",
   "metadata": {},
   "outputs": [],
   "source": []
  },
  {
   "cell_type": "code",
   "execution_count": null,
   "id": "c1a4b120",
   "metadata": {},
   "outputs": [],
   "source": []
  },
  {
   "cell_type": "code",
   "execution_count": null,
   "id": "ba6fc075",
   "metadata": {},
   "outputs": [],
   "source": []
  },
  {
   "cell_type": "code",
   "execution_count": null,
   "id": "b8871b49",
   "metadata": {},
   "outputs": [],
   "source": []
  },
  {
   "cell_type": "code",
   "execution_count": null,
   "id": "ef1551d9",
   "metadata": {},
   "outputs": [],
   "source": []
  }
 ],
 "metadata": {
  "kernelspec": {
   "display_name": "ml-dl-nlp",
   "language": "python",
   "name": "ml-dl-nlp"
  },
  "language_info": {
   "codemirror_mode": {
    "name": "ipython",
    "version": 3
   },
   "file_extension": ".py",
   "mimetype": "text/x-python",
   "name": "python",
   "nbconvert_exporter": "python",
   "pygments_lexer": "ipython3",
   "version": "3.10.18"
  },
  "toc": {
   "base_numbering": 1,
   "nav_menu": {},
   "number_sections": false,
   "sideBar": true,
   "skip_h1_title": false,
   "title_cell": "Table of Contents",
   "title_sidebar": "Contents",
   "toc_cell": false,
   "toc_position": {
    "height": "calc(100% - 180px)",
    "left": "10px",
    "top": "150px",
    "width": "258.55px"
   },
   "toc_section_display": true,
   "toc_window_display": true
  }
 },
 "nbformat": 4,
 "nbformat_minor": 5
}
