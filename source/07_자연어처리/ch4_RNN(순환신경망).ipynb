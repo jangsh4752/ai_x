{
 "cells": [
  {
   "cell_type": "code",
   "execution_count": 1,
   "id": "d29fddb6",
   "metadata": {},
   "outputs": [
    {
     "data": {
      "text/html": [
       "\n",
       "<style>\n",
       "div.container{width:86% !important;}\n",
       "div.cell.code_cell.rendered{width:100%;}\n",
       "div.CodeMirror {font-family:Consolas; font-size:12pt;}\n",
       "div.output {font-size:15pt; font-weight:bold;}\n",
       "div.input {font-family:Consolas; font-size:12pt;}\n",
       "div.prompt {min-width:70px;}\n",
       "div#toc-wrapper{padding-top:120px;}\n",
       "div.text_cell_render ul li{font-size:12pt;padding:5px;}\n",
       "table.dataframe{font-size:15px;}\n",
       "</style>\n"
      ],
      "text/plain": [
       "<IPython.core.display.HTML object>"
      ]
     },
     "metadata": {},
     "output_type": "display_data"
    }
   ],
   "source": [
    "from IPython.display import display, HTML\n",
    "display(HTML(\"\"\"\n",
    "<style>\n",
    "div.container{width:86% !important;}\n",
    "div.cell.code_cell.rendered{width:100%;}\n",
    "div.CodeMirror {font-family:Consolas; font-size:12pt;}\n",
    "div.output {font-size:15pt; font-weight:bold;}\n",
    "div.input {font-family:Consolas; font-size:12pt;}\n",
    "div.prompt {min-width:70px;}\n",
    "div#toc-wrapper{padding-top:120px;}\n",
    "div.text_cell_render ul li{font-size:12pt;padding:5px;}\n",
    "table.dataframe{font-size:15px;}\n",
    "</style>\n",
    "\"\"\"))"
   ]
  },
  {
   "cell_type": "markdown",
   "id": "86c118a8",
   "metadata": {},
   "source": [
    "**<font size=\"4\" color=\"red\">ch4. RNN(Recurrent Neural Network 순환신경망)</font>\n",
    "# 1. 문맥을 이용하여 모델 만들기"
   ]
  },
  {
   "cell_type": "code",
   "execution_count": 12,
   "id": "e14eee46",
   "metadata": {},
   "outputs": [],
   "source": [
    "text = '''경마장에 있는 말이 뛰고 있다\n",
    "그의 말이 법이다\n",
    "가는 말이 고와야 오는 말이 곱다'''\n",
    "text1 = \"장마철이 오고 있다\""
   ]
  },
  {
   "cell_type": "code",
   "execution_count": 4,
   "id": "0dc0b3b4",
   "metadata": {},
   "outputs": [
    {
     "name": "stdout",
     "output_type": "stream",
     "text": [
      "[[3, 4, 1, 5, 2, 6, 1, 7, 8, 1, 9, 10, 1, 11], [12, 13, 2]]\n",
      "{'말이': 1, '있다': 2, '경마장에': 3, '있는': 4, '뛰고': 5, '그의': 6, '법이다': 7, '가는': 8, '고와야': 9, '오는': 10, '곱다': 11, '장마철이': 12, '오고': 13}\n"
     ]
    }
   ],
   "source": [
    "from keras_preprocessing.text import Tokenizer\n",
    "t = Tokenizer()\n",
    "t.fit_on_texts([text, text1])\n",
    "encoded = t.texts_to_sequences([text, text1])\n",
    "print(encoded)\n",
    "print(t.word_index)"
   ]
  },
  {
   "cell_type": "code",
   "execution_count": 13,
   "id": "c8e8bc64",
   "metadata": {},
   "outputs": [
    {
     "name": "stdout",
     "output_type": "stream",
     "text": [
      "[[2, 3, 1, 4, 5, 6, 1, 7, 8, 1, 9, 10, 1, 11]]\n",
      "{'말이': 1, '경마장에': 2, '있는': 3, '뛰고': 4, '있다': 5, '그의': 6, '법이다': 7, '가는': 8, '고와야': 9, '오는': 10, '곱다': 11}\n"
     ]
    }
   ],
   "source": [
    "from keras_preprocessing.text import Tokenizer\n",
    "t = Tokenizer()\n",
    "t.fit_on_texts([text])\n",
    "encoded = t.texts_to_sequences([text])\n",
    "print(encoded)\n",
    "print(t.word_index)"
   ]
  },
  {
   "cell_type": "code",
   "execution_count": 14,
   "id": "44900fa8",
   "metadata": {},
   "outputs": [
    {
     "name": "stdout",
     "output_type": "stream",
     "text": [
      "[[2, 1, 5], [1]]\n",
      "[8, 1, 11]\n"
     ]
    }
   ],
   "source": [
    "# 문자열 리스트를 인덱스 시퀀스로 변환\n",
    "print(t.texts_to_sequences(['경마장에 말이 있다','말이 뛴다']))\n",
    "print(t.texts_to_sequences(['가는 말이 곱다'])[0])"
   ]
  },
  {
   "cell_type": "code",
   "execution_count": null,
   "id": "e182aba4",
   "metadata": {},
   "outputs": [],
   "source": [
    "text = '''경마장에 있는 말이 뛰고 있다\n",
    "그의 말이 법이다\n",
    "가는 말이 고와야 오는 말이 곱다'''"
   ]
  },
  {
   "cell_type": "code",
   "execution_count": 15,
   "id": "f5daaae0",
   "metadata": {},
   "outputs": [
    {
     "name": "stdout",
     "output_type": "stream",
     "text": [
      "말이 1\n",
      "경마장에 2\n",
      "있는 3\n",
      "뛰고 4\n",
      "있다 5\n",
      "그의 6\n",
      "법이다 7\n",
      "가는 8\n",
      "고와야 9\n",
      "오는 10\n",
      "곱다 11\n"
     ]
    }
   ],
   "source": [
    "for key, value in t.word_index.items() :\n",
    "    print(key, value)"
   ]
  },
  {
   "cell_type": "code",
   "execution_count": 23,
   "id": "9bebdf45",
   "metadata": {},
   "outputs": [
    {
     "name": "stdout",
     "output_type": "stream",
     "text": [
      "원문장 : 경마장에 있는 말이 뛰고 있다\n",
      "encoded된 문장 : [2, 3, 1, 4, 5]\n",
      "원문장 : 그의 말이 법이다\n",
      "encoded된 문장 : [6, 1, 7]\n",
      "원문장 : 가는 말이 고와야 오는 말이 곱다\n",
      "encoded된 문장 : [8, 1, 9, 10, 1, 11]\n",
      "sequences와 해석 출력\n",
      "2:경마장에 3:있는 \n",
      "2:경마장에 3:있는 1:말이 \n",
      "2:경마장에 3:있는 1:말이 4:뛰고 \n",
      "2:경마장에 3:있는 1:말이 4:뛰고 5:있다 \n",
      "3:있는 1:말이 \n",
      "3:있는 1:말이 4:뛰고 \n",
      "3:있는 1:말이 4:뛰고 5:있다 \n",
      "1:말이 4:뛰고 \n",
      "1:말이 4:뛰고 5:있다 \n",
      "4:뛰고 5:있다 \n",
      "6:그의 1:말이 \n",
      "6:그의 1:말이 7:법이다 \n",
      "1:말이 7:법이다 \n",
      "8:가는 1:말이 \n",
      "8:가는 1:말이 9:고와야 \n",
      "8:가는 1:말이 9:고와야 10:오는 \n",
      "8:가는 1:말이 9:고와야 10:오는 1:말이 \n",
      "8:가는 1:말이 9:고와야 10:오는 1:말이 11:곱다 \n",
      "1:말이 9:고와야 \n",
      "1:말이 9:고와야 10:오는 \n",
      "1:말이 9:고와야 10:오는 1:말이 \n",
      "1:말이 9:고와야 10:오는 1:말이 11:곱다 \n",
      "9:고와야 10:오는 \n",
      "9:고와야 10:오는 1:말이 \n",
      "9:고와야 10:오는 1:말이 11:곱다 \n",
      "10:오는 1:말이 \n",
      "10:오는 1:말이 11:곱다 \n",
      "1:말이 11:곱다 \n"
     ]
    }
   ],
   "source": [
    "# 학습을 시키기 위해 ['경마장에 있는','경마장에 있는 말이', ...]\n",
    "sequences = []\n",
    "for line in text.split('\\n'):\n",
    "    print('원문장 :', line)\n",
    "    encoded = t.texts_to_sequences([line])[0]\n",
    "    print('encoded된 문장 :', encoded)\n",
    "    for i in range(0, len(encoded)-1): # i:시작index\n",
    "        for j in range(i+2, len(encoded)+1): # j:끝나는 index바로 뒤\n",
    "            sequences.append(encoded[i:j])\n",
    "# print(sequences)\n",
    "print('sequences와 해석 출력')\n",
    "for sequence in sequences:\n",
    "    for word_seq in sequence:\n",
    "        for word, id in t.word_index.items():\n",
    "            if word_seq==id:\n",
    "                print(\"{}:{}\".format(word_seq, word), end=' ')\n",
    "                break\n",
    "    print()"
   ]
  },
  {
   "cell_type": "code",
   "execution_count": 26,
   "id": "38c86b01",
   "metadata": {},
   "outputs": [
    {
     "name": "stdout",
     "output_type": "stream",
     "text": [
      "[2, 3, 4, 5, 2, 3, 4, 2, 3, 2, 2, 3, 2, 2, 3, 4, 5, 6, 2, 3, 4, 5, 2, 3, 4, 2, 3, 2]\n"
     ]
    },
    {
     "data": {
      "text/plain": [
       "6"
      ]
     },
     "execution_count": 26,
     "metadata": {},
     "output_type": "execute_result"
    }
   ],
   "source": [
    "print([len(sequence) for sequence in sequences])\n",
    "my_len = max(len(sequence) for sequence in sequences)\n",
    "my_len"
   ]
  },
  {
   "cell_type": "code",
   "execution_count": 28,
   "id": "5bb915a6",
   "metadata": {},
   "outputs": [
    {
     "data": {
      "text/plain": [
       "((28, 6), numpy.ndarray)"
      ]
     },
     "execution_count": 28,
     "metadata": {},
     "output_type": "execute_result"
    }
   ],
   "source": [
    "# sequences를 훈련 가능하도록 모두 6개로 조정\n",
    "from tensorflow.keras.preprocessing.sequence import pad_sequences\n",
    "padded_sequences = pad_sequences(sequences=sequences,\n",
    "                                 maxlen=my_len,\n",
    "#                                  padding='post',\n",
    "                                 padding='pre')\n",
    "padded_sequences.shape, type(padded_sequences)"
   ]
  },
  {
   "cell_type": "code",
   "execution_count": 30,
   "id": "e67b60d6",
   "metadata": {},
   "outputs": [
    {
     "data": {
      "text/plain": [
       "array([ 3,  1,  4,  5,  1,  4,  5,  4,  5,  5,  1,  7,  7,  1,  9, 10,  1,\n",
       "       11,  9, 10,  1, 11, 10,  1, 11,  1, 11, 11])"
      ]
     },
     "execution_count": 30,
     "metadata": {},
     "output_type": "execute_result"
    }
   ],
   "source": [
    "# 독립변수(X)와 타겟변수(y)로 분리\n",
    "X = padded_sequences[:, :-1]\n",
    "y = padded_sequences[:, -1]\n",
    "y"
   ]
  },
  {
   "cell_type": "code",
   "execution_count": 35,
   "id": "68fecf9e",
   "metadata": {},
   "outputs": [
    {
     "data": {
      "text/plain": [
       "12"
      ]
     },
     "execution_count": 35,
     "metadata": {},
     "output_type": "execute_result"
    }
   ],
   "source": [
    "# 컴퓨터가 엠베딩 작업할 때 필요한 단어 개수\n",
    "input_dim = len(t.word_index)+1\n",
    "input_dim"
   ]
  },
  {
   "cell_type": "code",
   "execution_count": 37,
   "id": "37833439",
   "metadata": {},
   "outputs": [
    {
     "data": {
      "text/plain": [
       "((28, 5), (28, 12), 12)"
      ]
     },
     "execution_count": 37,
     "metadata": {},
     "output_type": "execute_result"
    }
   ],
   "source": [
    "# y의 원핫인코딩\n",
    "from tensorflow.keras.utils import to_categorical\n",
    "Y = to_categorical(y, input_dim)\n",
    "X.shape, Y.shape, input_dim"
   ]
  },
  {
   "cell_type": "code",
   "execution_count": 40,
   "id": "5041ac20",
   "metadata": {},
   "outputs": [
    {
     "name": "stdout",
     "output_type": "stream",
     "text": [
      "Model: \"sequential_2\"\n",
      "_________________________________________________________________\n",
      " Layer (type)                Output Shape              Param #   \n",
      "=================================================================\n",
      " embedding_2 (Embedding)     (None, 5, 10)             120       \n",
      "                                                                 \n",
      " simple_rnn_2 (SimpleRNN)    (None, 32)                1376      \n",
      "                                                                 \n",
      " dense_2 (Dense)             (None, 12)                396       \n",
      "                                                                 \n",
      "=================================================================\n",
      "Total params: 1,892\n",
      "Trainable params: 1,892\n",
      "Non-trainable params: 0\n",
      "_________________________________________________________________\n",
      "None\n",
      "Epoch 1/300\n",
      "1/1 - 1s - loss: 2.5165 - accuracy: 0.0357 - 938ms/epoch - 938ms/step\n",
      "Epoch 2/300\n",
      "1/1 - 0s - loss: 2.5027 - accuracy: 0.0000e+00 - 4ms/epoch - 4ms/step\n",
      "Epoch 3/300\n",
      "1/1 - 0s - loss: 2.4892 - accuracy: 0.0714 - 5ms/epoch - 5ms/step\n",
      "Epoch 4/300\n",
      "1/1 - 0s - loss: 2.4761 - accuracy: 0.1071 - 3ms/epoch - 3ms/step\n",
      "Epoch 5/300\n",
      "1/1 - 0s - loss: 2.4631 - accuracy: 0.1786 - 5ms/epoch - 5ms/step\n",
      "Epoch 6/300\n",
      "1/1 - 0s - loss: 2.4504 - accuracy: 0.2143 - 5ms/epoch - 5ms/step\n",
      "Epoch 7/300\n",
      "1/1 - 0s - loss: 2.4376 - accuracy: 0.2500 - 6ms/epoch - 6ms/step\n",
      "Epoch 8/300\n",
      "1/1 - 0s - loss: 2.4248 - accuracy: 0.2143 - 4ms/epoch - 4ms/step\n",
      "Epoch 9/300\n",
      "1/1 - 0s - loss: 2.4118 - accuracy: 0.2143 - 6ms/epoch - 6ms/step\n",
      "Epoch 10/300\n",
      "1/1 - 0s - loss: 2.3986 - accuracy: 0.2500 - 5ms/epoch - 5ms/step\n",
      "Epoch 11/300\n",
      "1/1 - 0s - loss: 2.3851 - accuracy: 0.2857 - 5ms/epoch - 5ms/step\n",
      "Epoch 12/300\n",
      "1/1 - 0s - loss: 2.3711 - accuracy: 0.2857 - 4ms/epoch - 4ms/step\n",
      "Epoch 13/300\n",
      "1/1 - 0s - loss: 2.3566 - accuracy: 0.3214 - 6ms/epoch - 6ms/step\n",
      "Epoch 14/300\n",
      "1/1 - 0s - loss: 2.3416 - accuracy: 0.3214 - 5ms/epoch - 5ms/step\n",
      "Epoch 15/300\n",
      "1/1 - 0s - loss: 2.3259 - accuracy: 0.3571 - 5ms/epoch - 5ms/step\n",
      "Epoch 16/300\n",
      "1/1 - 0s - loss: 2.3095 - accuracy: 0.3571 - 5ms/epoch - 5ms/step\n",
      "Epoch 17/300\n",
      "1/1 - 0s - loss: 2.2924 - accuracy: 0.3929 - 5ms/epoch - 5ms/step\n",
      "Epoch 18/300\n",
      "1/1 - 0s - loss: 2.2745 - accuracy: 0.3929 - 5ms/epoch - 5ms/step\n",
      "Epoch 19/300\n",
      "1/1 - 0s - loss: 2.2558 - accuracy: 0.3929 - 5ms/epoch - 5ms/step\n",
      "Epoch 20/300\n",
      "1/1 - 0s - loss: 2.2364 - accuracy: 0.4643 - 5ms/epoch - 5ms/step\n",
      "Epoch 21/300\n",
      "1/1 - 0s - loss: 2.2162 - accuracy: 0.5000 - 5ms/epoch - 5ms/step\n",
      "Epoch 22/300\n",
      "1/1 - 0s - loss: 2.1953 - accuracy: 0.5357 - 5ms/epoch - 5ms/step\n",
      "Epoch 23/300\n",
      "1/1 - 0s - loss: 2.1738 - accuracy: 0.5000 - 5ms/epoch - 5ms/step\n",
      "Epoch 24/300\n",
      "1/1 - 0s - loss: 2.1517 - accuracy: 0.5000 - 5ms/epoch - 5ms/step\n",
      "Epoch 25/300\n",
      "1/1 - 0s - loss: 2.1292 - accuracy: 0.4643 - 6ms/epoch - 6ms/step\n",
      "Epoch 26/300\n",
      "1/1 - 0s - loss: 2.1065 - accuracy: 0.3929 - 5ms/epoch - 5ms/step\n",
      "Epoch 27/300\n",
      "1/1 - 0s - loss: 2.0838 - accuracy: 0.3929 - 5ms/epoch - 5ms/step\n",
      "Epoch 28/300\n",
      "1/1 - 0s - loss: 2.0611 - accuracy: 0.3929 - 4ms/epoch - 4ms/step\n",
      "Epoch 29/300\n",
      "1/1 - 0s - loss: 2.0389 - accuracy: 0.3571 - 4ms/epoch - 4ms/step\n",
      "Epoch 30/300\n",
      "1/1 - 0s - loss: 2.0174 - accuracy: 0.3571 - 5ms/epoch - 5ms/step\n",
      "Epoch 31/300\n",
      "1/1 - 0s - loss: 1.9968 - accuracy: 0.3571 - 4ms/epoch - 4ms/step\n",
      "Epoch 32/300\n",
      "1/1 - 0s - loss: 1.9773 - accuracy: 0.3571 - 3ms/epoch - 3ms/step\n",
      "Epoch 33/300\n",
      "1/1 - 0s - loss: 1.9593 - accuracy: 0.3571 - 5ms/epoch - 5ms/step\n",
      "Epoch 34/300\n",
      "1/1 - 0s - loss: 1.9429 - accuracy: 0.3571 - 4ms/epoch - 4ms/step\n",
      "Epoch 35/300\n",
      "1/1 - 0s - loss: 1.9282 - accuracy: 0.3571 - 5ms/epoch - 5ms/step\n",
      "Epoch 36/300\n",
      "1/1 - 0s - loss: 1.9153 - accuracy: 0.3571 - 5ms/epoch - 5ms/step\n",
      "Epoch 37/300\n",
      "1/1 - 0s - loss: 1.9040 - accuracy: 0.3571 - 14ms/epoch - 14ms/step\n",
      "Epoch 38/300\n",
      "1/1 - 0s - loss: 1.8940 - accuracy: 0.3571 - 4ms/epoch - 4ms/step\n",
      "Epoch 39/300\n",
      "1/1 - 0s - loss: 1.8852 - accuracy: 0.3571 - 4ms/epoch - 4ms/step\n",
      "Epoch 40/300\n",
      "1/1 - 0s - loss: 1.8772 - accuracy: 0.3571 - 5ms/epoch - 5ms/step\n",
      "Epoch 41/300\n",
      "1/1 - 0s - loss: 1.8695 - accuracy: 0.3571 - 3ms/epoch - 3ms/step\n",
      "Epoch 42/300\n",
      "1/1 - 0s - loss: 1.8620 - accuracy: 0.3571 - 4ms/epoch - 4ms/step\n",
      "Epoch 43/300\n",
      "1/1 - 0s - loss: 1.8543 - accuracy: 0.3571 - 4ms/epoch - 4ms/step\n",
      "Epoch 44/300\n",
      "1/1 - 0s - loss: 1.8462 - accuracy: 0.3571 - 4ms/epoch - 4ms/step\n",
      "Epoch 45/300\n",
      "1/1 - 0s - loss: 1.8378 - accuracy: 0.3571 - 4ms/epoch - 4ms/step\n",
      "Epoch 46/300\n",
      "1/1 - 0s - loss: 1.8290 - accuracy: 0.3571 - 4ms/epoch - 4ms/step\n",
      "Epoch 47/300\n",
      "1/1 - 0s - loss: 1.8200 - accuracy: 0.3571 - 4ms/epoch - 4ms/step\n",
      "Epoch 48/300\n",
      "1/1 - 0s - loss: 1.8108 - accuracy: 0.3571 - 4ms/epoch - 4ms/step\n",
      "Epoch 49/300\n",
      "1/1 - 0s - loss: 1.8015 - accuracy: 0.3929 - 4ms/epoch - 4ms/step\n",
      "Epoch 50/300\n",
      "1/1 - 0s - loss: 1.7923 - accuracy: 0.3929 - 5ms/epoch - 5ms/step\n",
      "Epoch 51/300\n",
      "1/1 - 0s - loss: 1.7831 - accuracy: 0.3929 - 5ms/epoch - 5ms/step\n",
      "Epoch 52/300\n",
      "1/1 - 0s - loss: 1.7742 - accuracy: 0.3929 - 4ms/epoch - 4ms/step\n",
      "Epoch 53/300\n",
      "1/1 - 0s - loss: 1.7654 - accuracy: 0.3929 - 4ms/epoch - 4ms/step\n",
      "Epoch 54/300\n",
      "1/1 - 0s - loss: 1.7567 - accuracy: 0.3929 - 3ms/epoch - 3ms/step\n",
      "Epoch 55/300\n",
      "1/1 - 0s - loss: 1.7481 - accuracy: 0.3929 - 4ms/epoch - 4ms/step\n",
      "Epoch 56/300\n",
      "1/1 - 0s - loss: 1.7396 - accuracy: 0.3929 - 4ms/epoch - 4ms/step\n",
      "Epoch 57/300\n",
      "1/1 - 0s - loss: 1.7310 - accuracy: 0.3929 - 4ms/epoch - 4ms/step\n",
      "Epoch 58/300\n",
      "1/1 - 0s - loss: 1.7225 - accuracy: 0.4286 - 4ms/epoch - 4ms/step\n",
      "Epoch 59/300\n",
      "1/1 - 0s - loss: 1.7138 - accuracy: 0.4286 - 4ms/epoch - 4ms/step\n",
      "Epoch 60/300\n",
      "1/1 - 0s - loss: 1.7050 - accuracy: 0.4286 - 4ms/epoch - 4ms/step\n",
      "Epoch 61/300\n",
      "1/1 - 0s - loss: 1.6960 - accuracy: 0.3929 - 3ms/epoch - 3ms/step\n",
      "Epoch 62/300\n",
      "1/1 - 0s - loss: 1.6870 - accuracy: 0.3929 - 4ms/epoch - 4ms/step\n",
      "Epoch 63/300\n",
      "1/1 - 0s - loss: 1.6778 - accuracy: 0.3929 - 4ms/epoch - 4ms/step\n",
      "Epoch 64/300\n",
      "1/1 - 0s - loss: 1.6684 - accuracy: 0.3929 - 3ms/epoch - 3ms/step\n",
      "Epoch 65/300\n",
      "1/1 - 0s - loss: 1.6590 - accuracy: 0.3929 - 5ms/epoch - 5ms/step\n",
      "Epoch 66/300\n",
      "1/1 - 0s - loss: 1.6494 - accuracy: 0.3929 - 4ms/epoch - 4ms/step\n",
      "Epoch 67/300\n",
      "1/1 - 0s - loss: 1.6398 - accuracy: 0.3929 - 4ms/epoch - 4ms/step\n",
      "Epoch 68/300\n",
      "1/1 - 0s - loss: 1.6300 - accuracy: 0.3929 - 4ms/epoch - 4ms/step\n",
      "Epoch 69/300\n",
      "1/1 - 0s - loss: 1.6202 - accuracy: 0.3929 - 3ms/epoch - 3ms/step\n",
      "Epoch 70/300\n",
      "1/1 - 0s - loss: 1.6103 - accuracy: 0.3929 - 4ms/epoch - 4ms/step\n",
      "Epoch 71/300\n",
      "1/1 - 0s - loss: 1.6003 - accuracy: 0.3929 - 4ms/epoch - 4ms/step\n",
      "Epoch 72/300\n",
      "1/1 - 0s - loss: 1.5901 - accuracy: 0.3929 - 3ms/epoch - 3ms/step\n",
      "Epoch 73/300\n",
      "1/1 - 0s - loss: 1.5798 - accuracy: 0.4286 - 3ms/epoch - 3ms/step\n",
      "Epoch 74/300\n",
      "1/1 - 0s - loss: 1.5693 - accuracy: 0.4286 - 4ms/epoch - 4ms/step\n",
      "Epoch 75/300\n",
      "1/1 - 0s - loss: 1.5587 - accuracy: 0.4643 - 4ms/epoch - 4ms/step\n",
      "Epoch 76/300\n",
      "1/1 - 0s - loss: 1.5479 - accuracy: 0.4643 - 5ms/epoch - 5ms/step\n",
      "Epoch 77/300\n",
      "1/1 - 0s - loss: 1.5368 - accuracy: 0.4643 - 4ms/epoch - 4ms/step\n",
      "Epoch 78/300\n",
      "1/1 - 0s - loss: 1.5256 - accuracy: 0.4643 - 4ms/epoch - 4ms/step\n",
      "Epoch 79/300\n",
      "1/1 - 0s - loss: 1.5141 - accuracy: 0.5000 - 5ms/epoch - 5ms/step\n",
      "Epoch 80/300\n",
      "1/1 - 0s - loss: 1.5025 - accuracy: 0.5000 - 4ms/epoch - 4ms/step\n",
      "Epoch 81/300\n",
      "1/1 - 0s - loss: 1.4906 - accuracy: 0.5000 - 4ms/epoch - 4ms/step\n",
      "Epoch 82/300\n",
      "1/1 - 0s - loss: 1.4785 - accuracy: 0.5000 - 4ms/epoch - 4ms/step\n",
      "Epoch 83/300\n",
      "1/1 - 0s - loss: 1.4662 - accuracy: 0.5000 - 4ms/epoch - 4ms/step\n",
      "Epoch 84/300\n",
      "1/1 - 0s - loss: 1.4538 - accuracy: 0.5000 - 4ms/epoch - 4ms/step\n",
      "Epoch 85/300\n",
      "1/1 - 0s - loss: 1.4411 - accuracy: 0.5000 - 5ms/epoch - 5ms/step\n",
      "Epoch 86/300\n",
      "1/1 - 0s - loss: 1.4283 - accuracy: 0.5000 - 4ms/epoch - 4ms/step\n",
      "Epoch 87/300\n",
      "1/1 - 0s - loss: 1.4154 - accuracy: 0.5000 - 4ms/epoch - 4ms/step\n",
      "Epoch 88/300\n",
      "1/1 - 0s - loss: 1.4023 - accuracy: 0.5000 - 4ms/epoch - 4ms/step\n",
      "Epoch 89/300\n",
      "1/1 - 0s - loss: 1.3892 - accuracy: 0.5000 - 6ms/epoch - 6ms/step\n",
      "Epoch 90/300\n",
      "1/1 - 0s - loss: 1.3759 - accuracy: 0.5000 - 5ms/epoch - 5ms/step\n",
      "Epoch 91/300\n",
      "1/1 - 0s - loss: 1.3625 - accuracy: 0.5000 - 4ms/epoch - 4ms/step\n",
      "Epoch 92/300\n",
      "1/1 - 0s - loss: 1.3490 - accuracy: 0.5357 - 4ms/epoch - 4ms/step\n",
      "Epoch 93/300\n",
      "1/1 - 0s - loss: 1.3355 - accuracy: 0.6071 - 4ms/epoch - 4ms/step\n",
      "Epoch 94/300\n",
      "1/1 - 0s - loss: 1.3220 - accuracy: 0.6071 - 5ms/epoch - 5ms/step\n"
     ]
    },
    {
     "name": "stdout",
     "output_type": "stream",
     "text": [
      "Epoch 95/300\n",
      "1/1 - 0s - loss: 1.3084 - accuracy: 0.6071 - 4ms/epoch - 4ms/step\n",
      "Epoch 96/300\n",
      "1/1 - 0s - loss: 1.2948 - accuracy: 0.6071 - 4ms/epoch - 4ms/step\n",
      "Epoch 97/300\n",
      "1/1 - 0s - loss: 1.2812 - accuracy: 0.6071 - 3ms/epoch - 3ms/step\n",
      "Epoch 98/300\n",
      "1/1 - 0s - loss: 1.2676 - accuracy: 0.6429 - 5ms/epoch - 5ms/step\n",
      "Epoch 99/300\n",
      "1/1 - 0s - loss: 1.2541 - accuracy: 0.6429 - 5ms/epoch - 5ms/step\n",
      "Epoch 100/300\n",
      "1/1 - 0s - loss: 1.2406 - accuracy: 0.6429 - 4ms/epoch - 4ms/step\n",
      "Epoch 101/300\n",
      "1/1 - 0s - loss: 1.2272 - accuracy: 0.6429 - 5ms/epoch - 5ms/step\n",
      "Epoch 102/300\n",
      "1/1 - 0s - loss: 1.2139 - accuracy: 0.6429 - 4ms/epoch - 4ms/step\n",
      "Epoch 103/300\n",
      "1/1 - 0s - loss: 1.2006 - accuracy: 0.6429 - 5ms/epoch - 5ms/step\n",
      "Epoch 104/300\n",
      "1/1 - 0s - loss: 1.1875 - accuracy: 0.6786 - 4ms/epoch - 4ms/step\n",
      "Epoch 105/300\n",
      "1/1 - 0s - loss: 1.1744 - accuracy: 0.6786 - 4ms/epoch - 4ms/step\n",
      "Epoch 106/300\n",
      "1/1 - 0s - loss: 1.1615 - accuracy: 0.6786 - 4ms/epoch - 4ms/step\n",
      "Epoch 107/300\n",
      "1/1 - 0s - loss: 1.1487 - accuracy: 0.6786 - 4ms/epoch - 4ms/step\n",
      "Epoch 108/300\n",
      "1/1 - 0s - loss: 1.1360 - accuracy: 0.6786 - 5ms/epoch - 5ms/step\n",
      "Epoch 109/300\n",
      "1/1 - 0s - loss: 1.1235 - accuracy: 0.6786 - 5ms/epoch - 5ms/step\n",
      "Epoch 110/300\n",
      "1/1 - 0s - loss: 1.1111 - accuracy: 0.6786 - 4ms/epoch - 4ms/step\n",
      "Epoch 111/300\n",
      "1/1 - 0s - loss: 1.0989 - accuracy: 0.6786 - 4ms/epoch - 4ms/step\n",
      "Epoch 112/300\n",
      "1/1 - 0s - loss: 1.0868 - accuracy: 0.6786 - 4ms/epoch - 4ms/step\n",
      "Epoch 113/300\n",
      "1/1 - 0s - loss: 1.0748 - accuracy: 0.7143 - 4ms/epoch - 4ms/step\n",
      "Epoch 114/300\n",
      "1/1 - 0s - loss: 1.0631 - accuracy: 0.7143 - 4ms/epoch - 4ms/step\n",
      "Epoch 115/300\n",
      "1/1 - 0s - loss: 1.0514 - accuracy: 0.7143 - 4ms/epoch - 4ms/step\n",
      "Epoch 116/300\n",
      "1/1 - 0s - loss: 1.0400 - accuracy: 0.7143 - 4ms/epoch - 4ms/step\n",
      "Epoch 117/300\n",
      "1/1 - 0s - loss: 1.0287 - accuracy: 0.7500 - 4ms/epoch - 4ms/step\n",
      "Epoch 118/300\n",
      "1/1 - 0s - loss: 1.0176 - accuracy: 0.7500 - 4ms/epoch - 4ms/step\n",
      "Epoch 119/300\n",
      "1/1 - 0s - loss: 1.0066 - accuracy: 0.7500 - 3ms/epoch - 3ms/step\n",
      "Epoch 120/300\n",
      "1/1 - 0s - loss: 0.9958 - accuracy: 0.7500 - 4ms/epoch - 4ms/step\n",
      "Epoch 121/300\n",
      "1/1 - 0s - loss: 0.9852 - accuracy: 0.7857 - 4ms/epoch - 4ms/step\n",
      "Epoch 122/300\n",
      "1/1 - 0s - loss: 0.9747 - accuracy: 0.7857 - 4ms/epoch - 4ms/step\n",
      "Epoch 123/300\n",
      "1/1 - 0s - loss: 0.9644 - accuracy: 0.7857 - 3ms/epoch - 3ms/step\n",
      "Epoch 124/300\n",
      "1/1 - 0s - loss: 0.9542 - accuracy: 0.7857 - 4ms/epoch - 4ms/step\n",
      "Epoch 125/300\n",
      "1/1 - 0s - loss: 0.9442 - accuracy: 0.7857 - 5ms/epoch - 5ms/step\n",
      "Epoch 126/300\n",
      "1/1 - 0s - loss: 0.9344 - accuracy: 0.7857 - 5ms/epoch - 5ms/step\n",
      "Epoch 127/300\n",
      "1/1 - 0s - loss: 0.9247 - accuracy: 0.7857 - 4ms/epoch - 4ms/step\n",
      "Epoch 128/300\n",
      "1/1 - 0s - loss: 0.9151 - accuracy: 0.7857 - 5ms/epoch - 5ms/step\n",
      "Epoch 129/300\n",
      "1/1 - 0s - loss: 0.9057 - accuracy: 0.7857 - 3ms/epoch - 3ms/step\n",
      "Epoch 130/300\n",
      "1/1 - 0s - loss: 0.8964 - accuracy: 0.7857 - 3ms/epoch - 3ms/step\n",
      "Epoch 131/300\n",
      "1/1 - 0s - loss: 0.8873 - accuracy: 0.7857 - 5ms/epoch - 5ms/step\n",
      "Epoch 132/300\n",
      "1/1 - 0s - loss: 0.8783 - accuracy: 0.8214 - 3ms/epoch - 3ms/step\n",
      "Epoch 133/300\n",
      "1/1 - 0s - loss: 0.8695 - accuracy: 0.8214 - 3ms/epoch - 3ms/step\n",
      "Epoch 134/300\n",
      "1/1 - 0s - loss: 0.8607 - accuracy: 0.8214 - 3ms/epoch - 3ms/step\n",
      "Epoch 135/300\n",
      "1/1 - 0s - loss: 0.8521 - accuracy: 0.8214 - 4ms/epoch - 4ms/step\n",
      "Epoch 136/300\n",
      "1/1 - 0s - loss: 0.8436 - accuracy: 0.8214 - 5ms/epoch - 5ms/step\n",
      "Epoch 137/300\n",
      "1/1 - 0s - loss: 0.8353 - accuracy: 0.8214 - 3ms/epoch - 3ms/step\n",
      "Epoch 138/300\n",
      "1/1 - 0s - loss: 0.8270 - accuracy: 0.8214 - 3ms/epoch - 3ms/step\n",
      "Epoch 139/300\n",
      "1/1 - 0s - loss: 0.8189 - accuracy: 0.8214 - 4ms/epoch - 4ms/step\n",
      "Epoch 140/300\n",
      "1/1 - 0s - loss: 0.8109 - accuracy: 0.8214 - 5ms/epoch - 5ms/step\n",
      "Epoch 141/300\n",
      "1/1 - 0s - loss: 0.8030 - accuracy: 0.8214 - 4ms/epoch - 4ms/step\n",
      "Epoch 142/300\n",
      "1/1 - 0s - loss: 0.7952 - accuracy: 0.8214 - 3ms/epoch - 3ms/step\n",
      "Epoch 143/300\n",
      "1/1 - 0s - loss: 0.7875 - accuracy: 0.8214 - 3ms/epoch - 3ms/step\n",
      "Epoch 144/300\n",
      "1/1 - 0s - loss: 0.7799 - accuracy: 0.8214 - 4ms/epoch - 4ms/step\n",
      "Epoch 145/300\n",
      "1/1 - 0s - loss: 0.7725 - accuracy: 0.8214 - 4ms/epoch - 4ms/step\n",
      "Epoch 146/300\n",
      "1/1 - 0s - loss: 0.7651 - accuracy: 0.8214 - 4ms/epoch - 4ms/step\n",
      "Epoch 147/300\n",
      "1/1 - 0s - loss: 0.7578 - accuracy: 0.8214 - 4ms/epoch - 4ms/step\n",
      "Epoch 148/300\n",
      "1/1 - 0s - loss: 0.7506 - accuracy: 0.8214 - 4ms/epoch - 4ms/step\n",
      "Epoch 149/300\n",
      "1/1 - 0s - loss: 0.7435 - accuracy: 0.8214 - 4ms/epoch - 4ms/step\n",
      "Epoch 150/300\n",
      "1/1 - 0s - loss: 0.7365 - accuracy: 0.8214 - 4ms/epoch - 4ms/step\n",
      "Epoch 151/300\n",
      "1/1 - 0s - loss: 0.7295 - accuracy: 0.8214 - 5ms/epoch - 5ms/step\n",
      "Epoch 152/300\n",
      "1/1 - 0s - loss: 0.7227 - accuracy: 0.8214 - 4ms/epoch - 4ms/step\n",
      "Epoch 153/300\n",
      "1/1 - 0s - loss: 0.7159 - accuracy: 0.8214 - 4ms/epoch - 4ms/step\n",
      "Epoch 154/300\n",
      "1/1 - 0s - loss: 0.7093 - accuracy: 0.8214 - 3ms/epoch - 3ms/step\n",
      "Epoch 155/300\n",
      "1/1 - 0s - loss: 0.7027 - accuracy: 0.8214 - 4ms/epoch - 4ms/step\n",
      "Epoch 156/300\n",
      "1/1 - 0s - loss: 0.6962 - accuracy: 0.8214 - 6ms/epoch - 6ms/step\n",
      "Epoch 157/300\n",
      "1/1 - 0s - loss: 0.6897 - accuracy: 0.8214 - 4ms/epoch - 4ms/step\n",
      "Epoch 158/300\n",
      "1/1 - 0s - loss: 0.6834 - accuracy: 0.8214 - 5ms/epoch - 5ms/step\n",
      "Epoch 159/300\n",
      "1/1 - 0s - loss: 0.6771 - accuracy: 0.8214 - 4ms/epoch - 4ms/step\n",
      "Epoch 160/300\n",
      "1/1 - 0s - loss: 0.6709 - accuracy: 0.8214 - 5ms/epoch - 5ms/step\n",
      "Epoch 161/300\n",
      "1/1 - 0s - loss: 0.6648 - accuracy: 0.8214 - 5ms/epoch - 5ms/step\n",
      "Epoch 162/300\n",
      "1/1 - 0s - loss: 0.6587 - accuracy: 0.8214 - 4ms/epoch - 4ms/step\n",
      "Epoch 163/300\n",
      "1/1 - 0s - loss: 0.6527 - accuracy: 0.8214 - 5ms/epoch - 5ms/step\n",
      "Epoch 164/300\n",
      "1/1 - 0s - loss: 0.6468 - accuracy: 0.8214 - 5ms/epoch - 5ms/step\n",
      "Epoch 165/300\n",
      "1/1 - 0s - loss: 0.6409 - accuracy: 0.8214 - 5ms/epoch - 5ms/step\n",
      "Epoch 166/300\n",
      "1/1 - 0s - loss: 0.6351 - accuracy: 0.8214 - 4ms/epoch - 4ms/step\n",
      "Epoch 167/300\n",
      "1/1 - 0s - loss: 0.6294 - accuracy: 0.8214 - 5ms/epoch - 5ms/step\n",
      "Epoch 168/300\n",
      "1/1 - 0s - loss: 0.6238 - accuracy: 0.8214 - 5ms/epoch - 5ms/step\n",
      "Epoch 169/300\n",
      "1/1 - 0s - loss: 0.6182 - accuracy: 0.8214 - 4ms/epoch - 4ms/step\n",
      "Epoch 170/300\n",
      "1/1 - 0s - loss: 0.6126 - accuracy: 0.8214 - 5ms/epoch - 5ms/step\n",
      "Epoch 171/300\n",
      "1/1 - 0s - loss: 0.6072 - accuracy: 0.8214 - 4ms/epoch - 4ms/step\n",
      "Epoch 172/300\n",
      "1/1 - 0s - loss: 0.6018 - accuracy: 0.8214 - 5ms/epoch - 5ms/step\n",
      "Epoch 173/300\n",
      "1/1 - 0s - loss: 0.5964 - accuracy: 0.8214 - 4ms/epoch - 4ms/step\n",
      "Epoch 174/300\n",
      "1/1 - 0s - loss: 0.5912 - accuracy: 0.8214 - 5ms/epoch - 5ms/step\n",
      "Epoch 175/300\n",
      "1/1 - 0s - loss: 0.5859 - accuracy: 0.8214 - 4ms/epoch - 4ms/step\n",
      "Epoch 176/300\n",
      "1/1 - 0s - loss: 0.5808 - accuracy: 0.8571 - 4ms/epoch - 4ms/step\n",
      "Epoch 177/300\n",
      "1/1 - 0s - loss: 0.5757 - accuracy: 0.8571 - 4ms/epoch - 4ms/step\n",
      "Epoch 178/300\n",
      "1/1 - 0s - loss: 0.5706 - accuracy: 0.8571 - 4ms/epoch - 4ms/step\n",
      "Epoch 179/300\n",
      "1/1 - 0s - loss: 0.5657 - accuracy: 0.8571 - 5ms/epoch - 5ms/step\n",
      "Epoch 180/300\n",
      "1/1 - 0s - loss: 0.5607 - accuracy: 0.8571 - 11ms/epoch - 11ms/step\n",
      "Epoch 181/300\n",
      "1/1 - 0s - loss: 0.5559 - accuracy: 0.8571 - 3ms/epoch - 3ms/step\n",
      "Epoch 182/300\n",
      "1/1 - 0s - loss: 0.5510 - accuracy: 0.8571 - 6ms/epoch - 6ms/step\n",
      "Epoch 183/300\n",
      "1/1 - 0s - loss: 0.5463 - accuracy: 0.8571 - 4ms/epoch - 4ms/step\n",
      "Epoch 184/300\n",
      "1/1 - 0s - loss: 0.5416 - accuracy: 0.8571 - 5ms/epoch - 5ms/step\n",
      "Epoch 185/300\n",
      "1/1 - 0s - loss: 0.5369 - accuracy: 0.8571 - 5ms/epoch - 5ms/step\n",
      "Epoch 186/300\n",
      "1/1 - 0s - loss: 0.5323 - accuracy: 0.8929 - 4ms/epoch - 4ms/step\n",
      "Epoch 187/300\n",
      "1/1 - 0s - loss: 0.5278 - accuracy: 0.8929 - 5ms/epoch - 5ms/step\n",
      "Epoch 188/300\n",
      "1/1 - 0s - loss: 0.5233 - accuracy: 0.8929 - 4ms/epoch - 4ms/step\n",
      "Epoch 189/300\n",
      "1/1 - 0s - loss: 0.5189 - accuracy: 0.8929 - 4ms/epoch - 4ms/step\n",
      "Epoch 190/300\n",
      "1/1 - 0s - loss: 0.5145 - accuracy: 0.8929 - 3ms/epoch - 3ms/step\n",
      "Epoch 191/300\n",
      "1/1 - 0s - loss: 0.5102 - accuracy: 0.8929 - 4ms/epoch - 4ms/step\n",
      "Epoch 192/300\n",
      "1/1 - 0s - loss: 0.5059 - accuracy: 0.8929 - 5ms/epoch - 5ms/step\n",
      "Epoch 193/300\n",
      "1/1 - 0s - loss: 0.5017 - accuracy: 0.8929 - 3ms/epoch - 3ms/step\n",
      "Epoch 194/300\n",
      "1/1 - 0s - loss: 0.4975 - accuracy: 0.8929 - 3ms/epoch - 3ms/step\n",
      "Epoch 195/300\n",
      "1/1 - 0s - loss: 0.4934 - accuracy: 0.8929 - 4ms/epoch - 4ms/step\n",
      "Epoch 196/300\n",
      "1/1 - 0s - loss: 0.4893 - accuracy: 0.8929 - 4ms/epoch - 4ms/step\n",
      "Epoch 197/300\n",
      "1/1 - 0s - loss: 0.4853 - accuracy: 0.8929 - 4ms/epoch - 4ms/step\n"
     ]
    },
    {
     "name": "stdout",
     "output_type": "stream",
     "text": [
      "Epoch 198/300\n",
      "1/1 - 0s - loss: 0.4813 - accuracy: 0.8929 - 4ms/epoch - 4ms/step\n",
      "Epoch 199/300\n",
      "1/1 - 0s - loss: 0.4774 - accuracy: 0.8929 - 4ms/epoch - 4ms/step\n",
      "Epoch 200/300\n",
      "1/1 - 0s - loss: 0.4735 - accuracy: 0.8929 - 4ms/epoch - 4ms/step\n",
      "Epoch 201/300\n",
      "1/1 - 0s - loss: 0.4697 - accuracy: 0.8929 - 4ms/epoch - 4ms/step\n",
      "Epoch 202/300\n",
      "1/1 - 0s - loss: 0.4660 - accuracy: 0.8929 - 3ms/epoch - 3ms/step\n",
      "Epoch 203/300\n",
      "1/1 - 0s - loss: 0.4622 - accuracy: 0.8929 - 4ms/epoch - 4ms/step\n",
      "Epoch 204/300\n",
      "1/1 - 0s - loss: 0.4586 - accuracy: 0.8929 - 4ms/epoch - 4ms/step\n",
      "Epoch 205/300\n",
      "1/1 - 0s - loss: 0.4549 - accuracy: 0.8929 - 3ms/epoch - 3ms/step\n",
      "Epoch 206/300\n",
      "1/1 - 0s - loss: 0.4514 - accuracy: 0.8929 - 4ms/epoch - 4ms/step\n",
      "Epoch 207/300\n",
      "1/1 - 0s - loss: 0.4478 - accuracy: 0.8929 - 4ms/epoch - 4ms/step\n",
      "Epoch 208/300\n",
      "1/1 - 0s - loss: 0.4444 - accuracy: 0.8929 - 4ms/epoch - 4ms/step\n",
      "Epoch 209/300\n",
      "1/1 - 0s - loss: 0.4409 - accuracy: 0.8929 - 3ms/epoch - 3ms/step\n",
      "Epoch 210/300\n",
      "1/1 - 0s - loss: 0.4375 - accuracy: 0.8929 - 4ms/epoch - 4ms/step\n",
      "Epoch 211/300\n",
      "1/1 - 0s - loss: 0.4342 - accuracy: 0.8929 - 4ms/epoch - 4ms/step\n",
      "Epoch 212/300\n",
      "1/1 - 0s - loss: 0.4309 - accuracy: 0.8929 - 4ms/epoch - 4ms/step\n",
      "Epoch 213/300\n",
      "1/1 - 0s - loss: 0.4276 - accuracy: 0.8929 - 4ms/epoch - 4ms/step\n",
      "Epoch 214/300\n",
      "1/1 - 0s - loss: 0.4244 - accuracy: 0.8929 - 3ms/epoch - 3ms/step\n",
      "Epoch 215/300\n",
      "1/1 - 0s - loss: 0.4213 - accuracy: 0.8929 - 4ms/epoch - 4ms/step\n",
      "Epoch 216/300\n",
      "1/1 - 0s - loss: 0.4181 - accuracy: 0.8929 - 3ms/epoch - 3ms/step\n",
      "Epoch 217/300\n",
      "1/1 - 0s - loss: 0.4151 - accuracy: 0.8929 - 4ms/epoch - 4ms/step\n",
      "Epoch 218/300\n",
      "1/1 - 0s - loss: 0.4120 - accuracy: 0.8929 - 3ms/epoch - 3ms/step\n",
      "Epoch 219/300\n",
      "1/1 - 0s - loss: 0.4091 - accuracy: 0.8929 - 4ms/epoch - 4ms/step\n",
      "Epoch 220/300\n",
      "1/1 - 0s - loss: 0.4061 - accuracy: 0.8929 - 4ms/epoch - 4ms/step\n",
      "Epoch 221/300\n",
      "1/1 - 0s - loss: 0.4032 - accuracy: 0.8929 - 4ms/epoch - 4ms/step\n",
      "Epoch 222/300\n",
      "1/1 - 0s - loss: 0.4004 - accuracy: 0.8929 - 3ms/epoch - 3ms/step\n",
      "Epoch 223/300\n",
      "1/1 - 0s - loss: 0.3975 - accuracy: 0.8929 - 4ms/epoch - 4ms/step\n",
      "Epoch 224/300\n",
      "1/1 - 0s - loss: 0.3948 - accuracy: 0.8929 - 3ms/epoch - 3ms/step\n",
      "Epoch 225/300\n",
      "1/1 - 0s - loss: 0.3920 - accuracy: 0.8929 - 4ms/epoch - 4ms/step\n",
      "Epoch 226/300\n",
      "1/1 - 0s - loss: 0.3893 - accuracy: 0.8929 - 3ms/epoch - 3ms/step\n",
      "Epoch 227/300\n",
      "1/1 - 0s - loss: 0.3867 - accuracy: 0.8929 - 4ms/epoch - 4ms/step\n",
      "Epoch 228/300\n",
      "1/1 - 0s - loss: 0.3841 - accuracy: 0.8929 - 4ms/epoch - 4ms/step\n",
      "Epoch 229/300\n",
      "1/1 - 0s - loss: 0.3815 - accuracy: 0.8929 - 3ms/epoch - 3ms/step\n",
      "Epoch 230/300\n",
      "1/1 - 0s - loss: 0.3790 - accuracy: 0.8929 - 4ms/epoch - 4ms/step\n",
      "Epoch 231/300\n",
      "1/1 - 0s - loss: 0.3765 - accuracy: 0.8929 - 4ms/epoch - 4ms/step\n",
      "Epoch 232/300\n",
      "1/1 - 0s - loss: 0.3740 - accuracy: 0.8929 - 4ms/epoch - 4ms/step\n",
      "Epoch 233/300\n",
      "1/1 - 0s - loss: 0.3716 - accuracy: 0.8929 - 4ms/epoch - 4ms/step\n",
      "Epoch 234/300\n",
      "1/1 - 0s - loss: 0.3692 - accuracy: 0.8929 - 4ms/epoch - 4ms/step\n",
      "Epoch 235/300\n",
      "1/1 - 0s - loss: 0.3669 - accuracy: 0.8929 - 5ms/epoch - 5ms/step\n",
      "Epoch 236/300\n",
      "1/1 - 0s - loss: 0.3646 - accuracy: 0.8929 - 10ms/epoch - 10ms/step\n",
      "Epoch 237/300\n",
      "1/1 - 0s - loss: 0.3623 - accuracy: 0.8929 - 5ms/epoch - 5ms/step\n",
      "Epoch 238/300\n",
      "1/1 - 0s - loss: 0.3600 - accuracy: 0.8929 - 6ms/epoch - 6ms/step\n",
      "Epoch 239/300\n",
      "1/1 - 0s - loss: 0.3578 - accuracy: 0.8929 - 5ms/epoch - 5ms/step\n",
      "Epoch 240/300\n",
      "1/1 - 0s - loss: 0.3557 - accuracy: 0.8929 - 4ms/epoch - 4ms/step\n",
      "Epoch 241/300\n",
      "1/1 - 0s - loss: 0.3535 - accuracy: 0.8929 - 6ms/epoch - 6ms/step\n",
      "Epoch 242/300\n",
      "1/1 - 0s - loss: 0.3514 - accuracy: 0.8929 - 11ms/epoch - 11ms/step\n",
      "Epoch 243/300\n",
      "1/1 - 0s - loss: 0.3494 - accuracy: 0.8929 - 8ms/epoch - 8ms/step\n",
      "Epoch 244/300\n",
      "1/1 - 0s - loss: 0.3473 - accuracy: 0.8929 - 4ms/epoch - 4ms/step\n",
      "Epoch 245/300\n",
      "1/1 - 0s - loss: 0.3453 - accuracy: 0.8929 - 4ms/epoch - 4ms/step\n",
      "Epoch 246/300\n",
      "1/1 - 0s - loss: 0.3434 - accuracy: 0.8929 - 6ms/epoch - 6ms/step\n",
      "Epoch 247/300\n",
      "1/1 - 0s - loss: 0.3414 - accuracy: 0.8929 - 4ms/epoch - 4ms/step\n",
      "Epoch 248/300\n",
      "1/1 - 0s - loss: 0.3395 - accuracy: 0.8929 - 5ms/epoch - 5ms/step\n",
      "Epoch 249/300\n",
      "1/1 - 0s - loss: 0.3376 - accuracy: 0.8929 - 4ms/epoch - 4ms/step\n",
      "Epoch 250/300\n",
      "1/1 - 0s - loss: 0.3358 - accuracy: 0.8929 - 5ms/epoch - 5ms/step\n",
      "Epoch 251/300\n",
      "1/1 - 0s - loss: 0.3340 - accuracy: 0.8929 - 5ms/epoch - 5ms/step\n",
      "Epoch 252/300\n",
      "1/1 - 0s - loss: 0.3322 - accuracy: 0.8929 - 4ms/epoch - 4ms/step\n",
      "Epoch 253/300\n",
      "1/1 - 0s - loss: 0.3304 - accuracy: 0.8929 - 6ms/epoch - 6ms/step\n",
      "Epoch 254/300\n",
      "1/1 - 0s - loss: 0.3287 - accuracy: 0.8929 - 4ms/epoch - 4ms/step\n",
      "Epoch 255/300\n",
      "1/1 - 0s - loss: 0.3270 - accuracy: 0.8929 - 5ms/epoch - 5ms/step\n",
      "Epoch 256/300\n",
      "1/1 - 0s - loss: 0.3253 - accuracy: 0.8929 - 4ms/epoch - 4ms/step\n",
      "Epoch 257/300\n",
      "1/1 - 0s - loss: 0.3237 - accuracy: 0.8929 - 5ms/epoch - 5ms/step\n",
      "Epoch 258/300\n",
      "1/1 - 0s - loss: 0.3221 - accuracy: 0.8929 - 5ms/epoch - 5ms/step\n",
      "Epoch 259/300\n",
      "1/1 - 0s - loss: 0.3205 - accuracy: 0.8929 - 5ms/epoch - 5ms/step\n",
      "Epoch 260/300\n",
      "1/1 - 0s - loss: 0.3189 - accuracy: 0.8929 - 4ms/epoch - 4ms/step\n",
      "Epoch 261/300\n",
      "1/1 - 0s - loss: 0.3174 - accuracy: 0.8929 - 5ms/epoch - 5ms/step\n",
      "Epoch 262/300\n",
      "1/1 - 0s - loss: 0.3158 - accuracy: 0.8929 - 4ms/epoch - 4ms/step\n",
      "Epoch 263/300\n",
      "1/1 - 0s - loss: 0.3143 - accuracy: 0.8929 - 4ms/epoch - 4ms/step\n",
      "Epoch 264/300\n",
      "1/1 - 0s - loss: 0.3129 - accuracy: 0.8929 - 5ms/epoch - 5ms/step\n",
      "Epoch 265/300\n",
      "1/1 - 0s - loss: 0.3114 - accuracy: 0.8929 - 4ms/epoch - 4ms/step\n",
      "Epoch 266/300\n",
      "1/1 - 0s - loss: 0.3100 - accuracy: 0.8929 - 4ms/epoch - 4ms/step\n",
      "Epoch 267/300\n",
      "1/1 - 0s - loss: 0.3086 - accuracy: 0.8929 - 3ms/epoch - 3ms/step\n",
      "Epoch 268/300\n",
      "1/1 - 0s - loss: 0.3072 - accuracy: 0.8929 - 5ms/epoch - 5ms/step\n",
      "Epoch 269/300\n",
      "1/1 - 0s - loss: 0.3059 - accuracy: 0.8929 - 4ms/epoch - 4ms/step\n",
      "Epoch 270/300\n",
      "1/1 - 0s - loss: 0.3045 - accuracy: 0.8929 - 3ms/epoch - 3ms/step\n",
      "Epoch 271/300\n",
      "1/1 - 0s - loss: 0.3032 - accuracy: 0.8929 - 4ms/epoch - 4ms/step\n",
      "Epoch 272/300\n",
      "1/1 - 0s - loss: 0.3020 - accuracy: 0.8929 - 4ms/epoch - 4ms/step\n",
      "Epoch 273/300\n",
      "1/1 - 0s - loss: 0.3007 - accuracy: 0.8929 - 4ms/epoch - 4ms/step\n",
      "Epoch 274/300\n",
      "1/1 - 0s - loss: 0.2994 - accuracy: 0.8929 - 4ms/epoch - 4ms/step\n",
      "Epoch 275/300\n",
      "1/1 - 0s - loss: 0.2982 - accuracy: 0.8929 - 5ms/epoch - 5ms/step\n",
      "Epoch 276/300\n",
      "1/1 - 0s - loss: 0.2970 - accuracy: 0.8929 - 4ms/epoch - 4ms/step\n",
      "Epoch 277/300\n",
      "1/1 - 0s - loss: 0.2958 - accuracy: 0.8929 - 7ms/epoch - 7ms/step\n",
      "Epoch 278/300\n",
      "1/1 - 0s - loss: 0.2946 - accuracy: 0.8929 - 4ms/epoch - 4ms/step\n",
      "Epoch 279/300\n",
      "1/1 - 0s - loss: 0.2935 - accuracy: 0.8929 - 6ms/epoch - 6ms/step\n",
      "Epoch 280/300\n",
      "1/1 - 0s - loss: 0.2924 - accuracy: 0.8929 - 4ms/epoch - 4ms/step\n",
      "Epoch 281/300\n",
      "1/1 - 0s - loss: 0.2913 - accuracy: 0.8929 - 4ms/epoch - 4ms/step\n",
      "Epoch 282/300\n",
      "1/1 - 0s - loss: 0.2902 - accuracy: 0.8929 - 4ms/epoch - 4ms/step\n",
      "Epoch 283/300\n",
      "1/1 - 0s - loss: 0.2891 - accuracy: 0.8929 - 4ms/epoch - 4ms/step\n",
      "Epoch 284/300\n",
      "1/1 - 0s - loss: 0.2880 - accuracy: 0.8929 - 6ms/epoch - 6ms/step\n",
      "Epoch 285/300\n",
      "1/1 - 0s - loss: 0.2870 - accuracy: 0.8929 - 3ms/epoch - 3ms/step\n",
      "Epoch 286/300\n",
      "1/1 - 0s - loss: 0.2859 - accuracy: 0.8929 - 5ms/epoch - 5ms/step\n",
      "Epoch 287/300\n",
      "1/1 - 0s - loss: 0.2849 - accuracy: 0.8929 - 5ms/epoch - 5ms/step\n",
      "Epoch 288/300\n",
      "1/1 - 0s - loss: 0.2839 - accuracy: 0.8929 - 4ms/epoch - 4ms/step\n",
      "Epoch 289/300\n",
      "1/1 - 0s - loss: 0.2830 - accuracy: 0.8929 - 4ms/epoch - 4ms/step\n",
      "Epoch 290/300\n",
      "1/1 - 0s - loss: 0.2820 - accuracy: 0.8929 - 5ms/epoch - 5ms/step\n",
      "Epoch 291/300\n",
      "1/1 - 0s - loss: 0.2810 - accuracy: 0.8929 - 4ms/epoch - 4ms/step\n",
      "Epoch 292/300\n",
      "1/1 - 0s - loss: 0.2801 - accuracy: 0.8929 - 5ms/epoch - 5ms/step\n",
      "Epoch 293/300\n",
      "1/1 - 0s - loss: 0.2792 - accuracy: 0.8929 - 4ms/epoch - 4ms/step\n",
      "Epoch 294/300\n",
      "1/1 - 0s - loss: 0.2783 - accuracy: 0.8929 - 4ms/epoch - 4ms/step\n",
      "Epoch 295/300\n",
      "1/1 - 0s - loss: 0.2774 - accuracy: 0.8929 - 4ms/epoch - 4ms/step\n",
      "Epoch 296/300\n",
      "1/1 - 0s - loss: 0.2765 - accuracy: 0.8929 - 5ms/epoch - 5ms/step\n",
      "Epoch 297/300\n",
      "1/1 - 0s - loss: 0.2757 - accuracy: 0.8929 - 5ms/epoch - 5ms/step\n",
      "Epoch 298/300\n",
      "1/1 - 0s - loss: 0.2748 - accuracy: 0.8929 - 4ms/epoch - 4ms/step\n",
      "Epoch 299/300\n",
      "1/1 - 0s - loss: 0.2740 - accuracy: 0.8929 - 5ms/epoch - 5ms/step\n",
      "Epoch 300/300\n",
      "1/1 - 0s - loss: 0.2732 - accuracy: 0.8929 - 4ms/epoch - 4ms/step\n"
     ]
    }
   ],
   "source": [
    "# 2. 모델 생성하기\n",
    "from tensorflow.keras.models import Sequential\n",
    "from tensorflow.keras.layers import Embedding # Xi의 원핫인코딩한 희소행렬 반환\n",
    "from tensorflow.keras.layers import SimpleRNN, Dense\n",
    "import matplotlib.pyplot as plt\n",
    "\n",
    "model = Sequential()\n",
    "model.add(Embedding(input_dim = input_dim, # 12개로 원핫인코딩\n",
    "                    output_dim=10, # 임베딩 출력의 개수\n",
    "                    input_length=X.shape[1])) # 입력(X)의 수\n",
    "model.add(SimpleRNN(units=32))\n",
    "model.add(Dense(12, activation='softmax'))\n",
    "print(model.summary())\n",
    "# 3. 모델 학습 과정 설정\n",
    "model.compile(loss='categorical_crossentropy',\n",
    "              optimizer='adam',\n",
    "              metrics=['accuracy'])\n",
    "# 4. 모델 학습\n",
    "hist = model.fit(X, Y, epochs=300, verbose=2)"
   ]
  },
  {
   "cell_type": "code",
   "execution_count": 41,
   "id": "d0bd6373",
   "metadata": {},
   "outputs": [
    {
     "data": {
      "image/png": "[encoded data removed]",
      "text/plain": [
       "<Figure size 1200x600 with 2 Axes>"
      ]
     },
     "metadata": {},
     "output_type": "display_data"
    }
   ],
   "source": [
    "# 5.모델 학습과정 시각화\n",
    "fig, loss_ax = plt.subplots(figsize=(12,6))\n",
    "loss_ax.plot(hist.history['loss'], 'y', label='train loss')\n",
    "acc_ax = loss_ax.twinx()\n",
    "acc_ax.plot(hist.history['accuracy'], 'g', label='train accuracy')\n",
    "loss_ax.set_xlabel('epochs')\n",
    "loss_ax.set_ylabel('loss')\n",
    "acc_ax.set_ylabel('accuracy')\n",
    "loss_ax.legend(loc='center right')\n",
    "acc_ax.legend(loc='upper left')\n",
    "plt.show()"
   ]
  },
  {
   "cell_type": "code",
   "execution_count": 49,
   "id": "bb36fb9e",
   "metadata": {},
   "outputs": [
    {
     "name": "stdout",
     "output_type": "stream",
     "text": [
      "입력단어 : 가는 말이\n",
      "입력데이터 :  [[0 0 0 8 1]]\n",
      "예측된 단어 :  고와야\n"
     ]
    }
   ],
   "source": [
    "# 모델 사용하기(경마자엥 있는 말이 -> 뛰고)\n",
    "input_word = input('입력단어 : ')\n",
    "encoded = t.texts_to_sequences([input_word])[0]\n",
    "input_data = pad_sequences([encoded], maxlen=my_len-1, padding='pre')\n",
    "print('입력데이터 : ', input_data)\n",
    "result = model.predict(input_data, verbose=0).argmax()\n",
    "word = t.index_word[result]\n",
    "print('예측된 단어 : ', word)"
   ]
  },
  {
   "cell_type": "code",
   "execution_count": 47,
   "id": "9650cc4f",
   "metadata": {},
   "outputs": [
    {
     "data": {
      "text/plain": [
       "[[]]"
      ]
     },
     "execution_count": 47,
     "metadata": {},
     "output_type": "execute_result"
    }
   ],
   "source": [
    "t.texts_to_sequences(['없는 단어'])"
   ]
  },
  {
   "cell_type": "markdown",
   "id": "47226506",
   "metadata": {},
   "source": [
    "# 2. 다음 문맥 예측해 보기"
   ]
  },
  {
   "cell_type": "code",
   "execution_count": 55,
   "id": "1ae1d2d0",
   "metadata": {},
   "outputs": [
    {
     "name": "stdout",
     "output_type": "stream",
     "text": [
      "입력된 단어 :  경마장에\n"
     ]
    },
    {
     "data": {
      "text/plain": [
       "'경마장에 있는 말이 뛰고'"
      ]
     },
     "execution_count": 55,
     "metadata": {},
     "output_type": "execute_result"
    }
   ],
   "source": [
    "# \"경마장에\" 이후에 올 단어 3개 예측 - > 경마장에 있는 말이 뛰고\n",
    "def sentence_generation(current_word, n) :\n",
    "    print('입력된 단어 : ', current_word)\n",
    "    for i in range(1, n+1) :\n",
    "        encoded = t.texts_to_sequences([current_word])[0]\n",
    "        input_data = pad_sequences([encoded], maxlen=my_len-1, padding='pre')\n",
    "        result = model.predict(input_data, verbose=0).argmax()\n",
    "        word = t.index_word[result]\n",
    "        current_word = current_word + ' ' + word\n",
    "#         print(\"{}번째 생성 문맥 {} ({}{})\".format(i,\n",
    "#                                            current_word,\n",
    "#                                            encoded,\n",
    "#                                            result))\n",
    "    return current_word\n",
    "sentence_generation('경마장에', 3)"
   ]
  },
  {
   "cell_type": "code",
   "execution_count": 56,
   "id": "096419db",
   "metadata": {},
   "outputs": [
    {
     "name": "stdout",
     "output_type": "stream",
     "text": [
      "입력된 단어 :  가는\n"
     ]
    },
    {
     "data": {
      "text/plain": [
       "'가는 말이 고와야 오는 말이 곱다'"
      ]
     },
     "execution_count": 56,
     "metadata": {},
     "output_type": "execute_result"
    }
   ],
   "source": [
    "sentence_generation('가는', 5)"
   ]
  },
  {
   "cell_type": "code",
   "execution_count": null,
   "id": "04c29802",
   "metadata": {},
   "outputs": [],
   "source": []
  },
  {
   "cell_type": "code",
   "execution_count": null,
   "id": "678d4b8f",
   "metadata": {},
   "outputs": [],
   "source": []
  },
  {
   "cell_type": "code",
   "execution_count": null,
   "id": "b48eae14",
   "metadata": {},
   "outputs": [],
   "source": []
  },
  {
   "cell_type": "code",
   "execution_count": null,
   "id": "df534f1c",
   "metadata": {},
   "outputs": [],
   "source": []
  },
  {
   "cell_type": "code",
   "execution_count": null,
   "id": "7324935e",
   "metadata": {},
   "outputs": [],
   "source": []
  },
  {
   "cell_type": "code",
   "execution_count": null,
   "id": "7ea9789d",
   "metadata": {},
   "outputs": [],
   "source": []
  }
 ],
 "metadata": {
  "kernelspec": {
   "display_name": "ml-dl-nlp",
   "language": "python",
   "name": "ml-dl-nlp"
  },
  "language_info": {
   "codemirror_mode": {
    "name": "ipython",
    "version": 3
   },
   "file_extension": ".py",
   "mimetype": "text/x-python",
   "name": "python",
   "nbconvert_exporter": "python",
   "pygments_lexer": "ipython3",
   "version": "3.10.18"
  },
  "toc": {
   "base_numbering": 1,
   "nav_menu": {},
   "number_sections": false,
   "sideBar": true,
   "skip_h1_title": false,
   "title_cell": "Table of Contents",
   "title_sidebar": "Contents",
   "toc_cell": false,
   "toc_position": {
    "height": "calc(100% - 180px)",
    "left": "10px",
    "top": "150px",
    "width": "260.55px"
   },
   "toc_section_display": true,
   "toc_window_display": true
  }
 },
 "nbformat": 4,
 "nbformat_minor": 5
}
