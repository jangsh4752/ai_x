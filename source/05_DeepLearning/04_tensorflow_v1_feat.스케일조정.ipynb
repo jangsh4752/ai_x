{
 "cells": [
  {
   "cell_type": "code",
   "execution_count": 1,
   "id": "d5578dab",
   "metadata": {},
   "outputs": [
    {
     "data": {
      "text/html": [
       "\n",
       "<style>\n",
       "div.container{width:86% !important;}\n",
       "div.cell.code_cell.rendered{width:100%;}\n",
       "div.CodeMirror {font-family:Consolas; font-size:12pt;}\n",
       "div.output {font-size:15pt; font-weight:bold;}\n",
       "div.input {font-family:Consolas; font-size:12pt;}\n",
       "div.prompt {min-width:70px;}\n",
       "div#toc-wrapper{padding-top:120px;}\n",
       "div.text_cell_render ul li{font-size:12pt;padding:5px;}\n",
       "table.dataframe{font-size:15px;}\n",
       "</style>\n"
      ],
      "text/plain": [
       "<IPython.core.display.HTML object>"
      ]
     },
     "metadata": {},
     "output_type": "display_data"
    }
   ],
   "source": [
    "from IPython.display import display, HTML\n",
    "display(HTML(\"\"\"\n",
    "<style>\n",
    "div.container{width:86% !important;}\n",
    "div.cell.code_cell.rendered{width:100%;}\n",
    "div.CodeMirror {font-family:Consolas; font-size:12pt;}\n",
    "div.output {font-size:15pt; font-weight:bold;}\n",
    "div.input {font-family:Consolas; font-size:12pt;}\n",
    "div.prompt {min-width:70px;}\n",
    "div#toc-wrapper{padding-top:120px;}\n",
    "div.text_cell_render ul li{font-size:12pt;padding:5px;}\n",
    "table.dataframe{font-size:15px;}\n",
    "</style>\n",
    "\"\"\"))"
   ]
  },
  {
   "cell_type": "markdown",
   "id": "6d82efdb",
   "metadata": {},
   "source": [
    "# 1. tensorflow v2.xx에서 v1 사용"
   ]
  },
  {
   "cell_type": "code",
   "execution_count": 2,
   "id": "f3c74148",
   "metadata": {},
   "outputs": [
    {
     "name": "stdout",
     "output_type": "stream",
     "text": [
      "WARNING:tensorflow:From C:\\Users\\Admin\\anaconda3\\envs\\ml-dl-nlp\\lib\\site-packages\\tensorflow\\python\\compat\\v2_compat.py:107: disable_resource_variables (from tensorflow.python.ops.variable_scope) is deprecated and will be removed in a future version.\n",
      "Instructions for updating:\n",
      "non-resource variables are not supported in the long term\n"
     ]
    }
   ],
   "source": [
    "import tensorflow.compat.v1 as tf\n",
    "tf.disable_v2_behavior() # v2를 비활성화하고 v1 활성화\n",
    "import numpy as np\n",
    "import pandas as pd"
   ]
  },
  {
   "cell_type": "markdown",
   "id": "4d1bf118",
   "metadata": {},
   "source": [
    "## tensorflow\n",
    "- 데이터 흐름 그래프(tensor객체의 흐름)\n",
    "- 이 그래프는 node(상수, 변수, 연산)와 edge로 구성\n",
    "- sess = tf.Session()으로 실행\n",
    "- sess.run()을 통해 값을 확인"
   ]
  },
  {
   "cell_type": "code",
   "execution_count": 4,
   "id": "88456395",
   "metadata": {},
   "outputs": [
    {
     "name": "stdout",
     "output_type": "stream",
     "text": [
      "b'Hello Tensorflow'\n"
     ]
    }
   ],
   "source": [
    "# tensor  = data(상수, 변수)와 연산\n",
    "node1 = tf.constant(\"Hello Tensorflow\")\n",
    "sess = tf.Session()\n",
    "print(sess.run(node1))"
   ]
  },
  {
   "cell_type": "code",
   "execution_count": 6,
   "id": "89554819",
   "metadata": {},
   "outputs": [
    {
     "name": "stdout",
     "output_type": "stream",
     "text": [
      "[10.0, 20.0, 30.0]\n"
     ]
    }
   ],
   "source": [
    "# 간단한 연산 tensor 그래프\n",
    "node1 = tf.constant(10, dtype=tf.float16) # 기본값 : tf.float64\n",
    "node2 = tf.constant(20, dtype=tf.float16)\n",
    "node3 = tf.add(node1, node2)\n",
    "sess = tf.Session()\n",
    "print(sess.run([node1, node2, node3]))"
   ]
  },
  {
   "cell_type": "code",
   "execution_count": 8,
   "id": "1381306c",
   "metadata": {},
   "outputs": [
    {
     "data": {
      "text/plain": [
       "[array([1, 2, 3], dtype=int16), array([1., 2., 3.], dtype=float32)]"
      ]
     },
     "execution_count": 8,
     "metadata": {},
     "output_type": "execute_result"
    }
   ],
   "source": [
    "# 타입 변경\n",
    "node1 = tf.constant(np.array([1,2,3]), dtype=tf.int16)\n",
    "node2 = tf.cast(node1, dtype=tf.float32)\n",
    "sess = tf.Session()\n",
    "sess.run([node1, node2])"
   ]
  },
  {
   "cell_type": "code",
   "execution_count": 9,
   "id": "8fc1a7a0",
   "metadata": {},
   "outputs": [
    {
     "data": {
      "text/plain": [
       "2.0"
      ]
     },
     "execution_count": 9,
     "metadata": {},
     "output_type": "execute_result"
    }
   ],
   "source": [
    "# 평균값 계산 : tf.reduce_mean()\n",
    "data = np.array([1., 2., 3.])\n",
    "tensor = tf.reduce_mean(data)\n",
    "sess = tf.Session()\n",
    "sess.run(tensor)"
   ]
  },
  {
   "cell_type": "code",
   "execution_count": 12,
   "id": "b519e870",
   "metadata": {},
   "outputs": [
    {
     "data": {
      "text/plain": [
       "[array([0.34983236], dtype=float32), array([1.0394791], dtype=float32)]"
      ]
     },
     "execution_count": 12,
     "metadata": {},
     "output_type": "execute_result"
    }
   ],
   "source": [
    "# 랜덤값을 갖는 tensor\n",
    "a = tf.random_normal([1]) # 평균 0, 표준편차 1인 난수 실수 1개(정규분포 이루는 난수)\n",
    "b = tf.random_normal([1])\n",
    "sess = tf.Session()\n",
    "sess.run([a, b])"
   ]
  },
  {
   "cell_type": "code",
   "execution_count": 13,
   "id": "74e2f618",
   "metadata": {},
   "outputs": [
    {
     "data": {
      "text/plain": [
       "array([-0.66988766], dtype=float32)"
      ]
     },
     "execution_count": 13,
     "metadata": {},
     "output_type": "execute_result"
    }
   ],
   "source": [
    "w = tf.Variable(tf.random.normal([1]))\n",
    "sess = tf.Session()\n",
    "sess.run(tf.global_variables_initializer()) # w변수의 난수 초기화\n",
    "sess.run(w)"
   ]
  },
  {
   "cell_type": "markdown",
   "id": "763f49ec",
   "metadata": {},
   "source": [
    "# 2. tensorflow v1을 이용한 linear regression을 구현\n",
    "\n",
    "## 2.1 입력(독립)변수 x가 1개, 타겟(종속)변수 y가 1개"
   ]
  },
  {
   "cell_type": "code",
   "execution_count": 15,
   "id": "7d625be2",
   "metadata": {},
   "outputs": [
    {
     "name": "stdout",
     "output_type": "stream",
     "text": [
      "0번째 cost:4.18384313583374, W:[0.76631296], b:[-0.35002193]\n",
      "200번째 cost:0.06010836735367775, W:[1.2840651], b:[0.35425287]\n",
      "400번째 cost:0.02295231632888317, W:[1.1755351], b:[0.60096735]\n",
      "600번째 cost:0.008764324709773064, W:[1.1084701], b:[0.7534221]\n",
      "800번째 cost:0.0033466441091150045, W:[1.0670278], b:[0.84762996]\n",
      "1000번째 cost:0.0012779204407706857, W:[1.0414195], b:[0.9058444]\n",
      "1200번째 cost:0.0004879710904788226, W:[1.0255946], b:[0.9418175]\n",
      "1400번째 cost:0.0001863268989836797, W:[1.0158157], b:[0.9640472]\n",
      "1600번째 cost:7.115043990779668e-05, W:[1.0097731], b:[0.97778314]\n",
      "1800번째 cost:2.716783455980476e-05, W:[1.0060393], b:[0.98627144]\n",
      "2000번째 cost:1.0374616067565512e-05, W:[1.003732], b:[0.9915165]\n",
      "2200번째 cost:3.9616907088202424e-06, W:[1.0023061], b:[0.99475753]\n",
      "2400번째 cost:1.513248321316496e-06, W:[1.0014254], b:[0.99676]\n",
      "2600번째 cost:5.782980565527396e-07, W:[1.0008813], b:[0.99799705]\n",
      "2800번째 cost:2.2129215437871608e-07, W:[1.0005453], b:[0.9987612]\n",
      "3000번째 cost:8.475264934304505e-08, W:[1.0003375], b:[0.9992333]\n",
      "3200번째 cost:3.251394176118083e-08, W:[1.0002092], b:[0.99952507]\n",
      "3400번째 cost:1.249792003221728e-08, W:[1.0001295], b:[0.9997055]\n",
      "3600번째 cost:4.80355799581389e-09, W:[1.0000802], b:[0.9998173]\n",
      "3800번째 cost:1.897547008411493e-09, W:[1.0000507], b:[0.9998853]\n",
      "4000번째 cost:7.214412955924843e-10, W:[1.000031], b:[0.9999292]\n",
      "4200번째 cost:2.74449490911266e-10, W:[1.0000193], b:[0.99995637]\n",
      "4400번째 cost:1.2844718344506845e-10, W:[1.0000134], b:[0.99997026]\n",
      "4600번째 cost:5.328478283606053e-11, W:[1.0000087], b:[0.9999811]\n",
      "4800번째 cost:5.328478283606053e-11, W:[1.0000087], b:[0.9999811]\n",
      "5000번째 cost:5.328478283606053e-11, W:[1.0000087], b:[0.9999811]\n"
     ]
    }
   ],
   "source": [
    "x = np.array([1,2,3])\n",
    "y = np.array([2,3,4])\n",
    "# weight와 bias를 처음엔 랜덤 세팅, 학습과정에서 변경\n",
    "W = tf.Variable(tf.random.normal([1]), name='weight')\n",
    "b = tf.Variable(tf.random.normal([1]), name='bias')\n",
    "# Hypothesis : 예측값\n",
    "H = W*x + b\n",
    "# cost function(손실함수 = mse;최소제곱법)\n",
    "cost = tf.reduce_mean(tf.square(H-y))\n",
    "'''\n",
    "학습목적 : cost가 최소가 되는 w, b를 찾아내는 것\n",
    "cost는 2차함수이므로 곡선그래프. 곡선위 미분 값이 줄어드는 방향으로 학습(경사하강)\n",
    "=> GradientDescentOptimizer\n",
    "'''\n",
    "optimizer = tf.train.GradientDescentOptimizer(learning_rate=0.01)\n",
    "train = optimizer.minimize(cost)\n",
    "# session 생성\n",
    "sess = tf.Session()\n",
    "# W, b 변수 노드에 초기화\n",
    "sess.run(tf.global_variables_initializer())\n",
    "# 5000번 학습(v2에서는 fit함수)\n",
    "for step in range(5001) :\n",
    "    _, cost_val, W_val, b_val = sess.run([train, cost, W, b])\n",
    "    if step%200 == 0 :\n",
    "        print(\"{}번째 cost:{}, W:{}, b:{}\".format(step,\n",
    "                                               cost_val,\n",
    "                                               W_val,\n",
    "                                               b_val))"
   ]
  },
  {
   "cell_type": "code",
   "execution_count": 16,
   "id": "81d172ce",
   "metadata": {},
   "outputs": [
    {
     "data": {
      "text/plain": [
       "[array([1.0000087], dtype=float32), array([0.9999811], dtype=float32)]"
      ]
     },
     "execution_count": 16,
     "metadata": {},
     "output_type": "execute_result"
    }
   ],
   "source": [
    "# 최종적으로 나온 회귀식 : H = W*x + b\n",
    "sess.run([W, b])"
   ]
  },
  {
   "cell_type": "code",
   "execution_count": 17,
   "id": "baea9075",
   "metadata": {},
   "outputs": [
    {
     "data": {
      "text/plain": [
       "(1.0000087, 0.9999811)"
      ]
     },
     "execution_count": 17,
     "metadata": {},
     "output_type": "execute_result"
    }
   ],
   "source": [
    "W_, b_ = sess.run([W, b])\n",
    "W_[0], b_[0]"
   ]
  },
  {
   "cell_type": "code",
   "execution_count": 18,
   "id": "2c3e0e2d",
   "metadata": {},
   "outputs": [],
   "source": [
    "def predict(x):\n",
    "    return W_[0]*x + b_[0]"
   ]
  },
  {
   "cell_type": "code",
   "execution_count": 19,
   "id": "1131fe83",
   "metadata": {},
   "outputs": [
    {
     "name": "stdout",
     "output_type": "stream",
     "text": [
      "입력값은 ?3\n",
      "예측값은  4.000007212162018\n"
     ]
    }
   ],
   "source": [
    "input_x = int(input('입력값은 ?'))\n",
    "print('예측값은 ', predict(input_x))"
   ]
  },
  {
   "cell_type": "markdown",
   "id": "21f375e2",
   "metadata": {},
   "source": [
    "## 2.2 predict를 위한 placeholder 이용\n",
    "- placeholder : 텐서플로우 외부에서 데이터를 입력받는 노드"
   ]
  },
  {
   "cell_type": "code",
   "execution_count": 20,
   "id": "c68e246d",
   "metadata": {},
   "outputs": [
    {
     "data": {
      "text/plain": [
       "array([2., 3., 4.], dtype=float16)"
      ]
     },
     "execution_count": 20,
     "metadata": {},
     "output_type": "execute_result"
    }
   ],
   "source": [
    "# x = np.array([1,2,3])\n",
    "x = tf.placeholder(tf.float16)\n",
    "H = 1*x + 1\n",
    "sess = tf.Session()\n",
    "sess.run(H, feed_dict={x:5})\n",
    "sess.run(H, feed_dict={x:np.array([1,2,3])})"
   ]
  },
  {
   "cell_type": "code",
   "execution_count": 34,
   "id": "1033e195",
   "metadata": {},
   "outputs": [
    {
     "name": "stdout",
     "output_type": "stream",
     "text": [
      "0번째 cost:66.14973449707031, W:[1.3963438], b:[-1.2181948]\n",
      "200번째 cost:0.12316678464412689, W:[2.11935], b:[0.36207566]\n",
      "400번째 cost:0.012114467099308968, W:[2.0374308], b:[0.7999331]\n",
      "600번째 cost:0.0011915562208741903, W:[2.0117393], b:[0.9372548]\n",
      "800번째 cost:0.00011719910253304988, W:[2.0036817], b:[0.980322]\n",
      "1000번째 cost:1.1526879461598583e-05, W:[2.0011547], b:[0.9938284]\n",
      "1200번째 cost:1.1344109225319698e-06, W:[2.0003622], b:[0.9980641]\n",
      "1400번째 cost:1.1164384261519444e-07, W:[2.0001135], b:[0.99939287]\n",
      "1600번째 cost:1.1021666246335826e-08, W:[2.0000355], b:[0.999809]\n",
      "1800번째 cost:1.0749431345047356e-09, W:[2.0000114], b:[0.99994004]\n",
      "2000번째 cost:1.1729070492627613e-10, W:[2.000004], b:[0.99998003]\n",
      "2200번째 cost:2.060005464821213e-11, W:[2.0000017], b:[0.99999213]\n",
      "2400번째 cost:2.060005464821213e-11, W:[2.0000017], b:[0.99999213]\n",
      "2600번째 cost:2.060005464821213e-11, W:[2.0000017], b:[0.99999213]\n",
      "2800번째 cost:2.060005464821213e-11, W:[2.0000017], b:[0.99999213]\n",
      "3000번째 cost:2.060005464821213e-11, W:[2.0000017], b:[0.99999213]\n",
      "3200번째 cost:2.060005464821213e-11, W:[2.0000017], b:[0.99999213]\n",
      "3400번째 cost:2.060005464821213e-11, W:[2.0000017], b:[0.99999213]\n",
      "3600번째 cost:2.060005464821213e-11, W:[2.0000017], b:[0.99999213]\n",
      "3800번째 cost:2.060005464821213e-11, W:[2.0000017], b:[0.99999213]\n",
      "4000번째 cost:2.060005464821213e-11, W:[2.0000017], b:[0.99999213]\n",
      "4200번째 cost:2.060005464821213e-11, W:[2.0000017], b:[0.99999213]\n",
      "4400번째 cost:2.060005464821213e-11, W:[2.0000017], b:[0.99999213]\n",
      "4600번째 cost:2.060005464821213e-11, W:[2.0000017], b:[0.99999213]\n",
      "4800번째 cost:2.060005464821213e-11, W:[2.0000017], b:[0.99999213]\n",
      "5000번째 cost:2.060005464821213e-11, W:[2.0000017], b:[0.99999213]\n"
     ]
    }
   ],
   "source": [
    "# H = 2x+1\n",
    "x_data = np.array([1,2,3,5,8])\n",
    "y_data = np.array([3,5,7,11,17])\n",
    "# placeholder 설정(입력변수 x, 타겟변수 y)\n",
    "x = tf.placeholder(dtype=tf.float32)\n",
    "y = tf.placeholder(dtype=tf.float32)\n",
    "# W, b\n",
    "W = tf.Variable(tf.random.normal([1]))\n",
    "b = tf.Variable(tf.random.normal([1]))\n",
    "# Hypothesis(예측값)\n",
    "H = W*x + b\n",
    "# 손실함수\n",
    "cost = tf.reduce_mean(tf.square(H-y))\n",
    "# 경사하강법\n",
    "train = tf.train.GradientDescentOptimizer(learning_rate=0.01).minimize(cost)\n",
    "#Session 객체 생성\n",
    "sess = tf.Session()\n",
    "sess.run(tf.global_variables_initializer()) # W, b 초기화\n",
    "# 5000번 학습\n",
    "for step in range(5001) :\n",
    "    _, cost_val, W_val, b_val = sess.run([train, cost, W, b],feed_dict={x:x_data,y:y_data})\n",
    "    if step%200 == 0 :\n",
    "        print(\"{}번째 cost:{}, W:{}, b:{}\".format(step,\n",
    "                                               cost_val,\n",
    "                                               W_val,\n",
    "                                               b_val))"
   ]
  },
  {
   "cell_type": "code",
   "execution_count": 35,
   "id": "dd9b7765",
   "metadata": {},
   "outputs": [
    {
     "data": {
      "text/plain": [
       "array([11.000001], dtype=float32)"
      ]
     },
     "execution_count": 35,
     "metadata": {},
     "output_type": "execute_result"
    }
   ],
   "source": [
    "# 예측하기\n",
    "sess.run(H, feed_dict={x:5})"
   ]
  },
  {
   "cell_type": "code",
   "execution_count": 36,
   "id": "5d4e9690",
   "metadata": {},
   "outputs": [
    {
     "data": {
      "text/plain": [
       "array([11.000001, 13.000002, 15.000004], dtype=float32)"
      ]
     },
     "execution_count": 36,
     "metadata": {},
     "output_type": "execute_result"
    }
   ],
   "source": [
    "sess.run(H, feed_dict={x:np.array([5,6,7])})"
   ]
  },
  {
   "cell_type": "markdown",
   "id": "a778205f",
   "metadata": {},
   "source": [
    "## 2.3 scale이 다른 데이터의 linear regression 구현(scale 조정x)"
   ]
  },
  {
   "cell_type": "code",
   "execution_count": 37,
   "id": "f47ef7be",
   "metadata": {},
   "outputs": [
    {
     "name": "stdout",
     "output_type": "stream",
     "text": [
      "0번째 cost:5148.2236328125, W:[7.693245], b:[-0.5445852]\n",
      "200번째 cost:113.92974853515625, W:[10.602457], b:[-4.39387]\n",
      "400번째 cost:113.0167007446289, W:[10.772887], b:[-5.6557827]\n",
      "600번째 cost:112.93296813964844, W:[10.824509], b:[-6.0380077]\n",
      "800번째 cost:112.92525482177734, W:[10.840145], b:[-6.1537786]\n",
      "1000번째 cost:112.92454528808594, W:[10.844881], b:[-6.1888466]\n",
      "1200번째 cost:112.92448425292969, W:[10.846315], b:[-6.199469]\n",
      "1400번째 cost:112.92448425292969, W:[10.84675], b:[-6.202684]\n",
      "1600번째 cost:112.92447662353516, W:[10.846882], b:[-6.2036576]\n",
      "1800번째 cost:112.92451477050781, W:[10.846921], b:[-6.203953]\n",
      "2000번째 cost:112.92449951171875, W:[10.846933], b:[-6.20404]\n",
      "2200번째 cost:112.92449951171875, W:[10.846933], b:[-6.20404]\n",
      "2400번째 cost:112.92449951171875, W:[10.846933], b:[-6.20404]\n",
      "2600번째 cost:112.92449951171875, W:[10.846933], b:[-6.20404]\n",
      "2800번째 cost:112.92449951171875, W:[10.846933], b:[-6.20404]\n",
      "3000번째 cost:112.92449951171875, W:[10.846933], b:[-6.20404]\n",
      "3200번째 cost:112.92449951171875, W:[10.846933], b:[-6.20404]\n",
      "3400번째 cost:112.92449951171875, W:[10.846933], b:[-6.20404]\n",
      "3600번째 cost:112.92449951171875, W:[10.846933], b:[-6.20404]\n",
      "3800번째 cost:112.92449951171875, W:[10.846933], b:[-6.20404]\n",
      "4000번째 cost:112.92449951171875, W:[10.846933], b:[-6.20404]\n",
      "4200번째 cost:112.92449951171875, W:[10.846933], b:[-6.20404]\n",
      "4400번째 cost:112.92449951171875, W:[10.846933], b:[-6.20404]\n",
      "4600번째 cost:112.92449951171875, W:[10.846933], b:[-6.20404]\n",
      "4800번째 cost:112.92449951171875, W:[10.846933], b:[-6.20404]\n",
      "5000번째 cost:112.92449951171875, W:[10.846933], b:[-6.20404]\n"
     ]
    }
   ],
   "source": [
    "x_data = np.array([1,2,5,8,10])\n",
    "y_data = np.array([3,5,68,80,95])\n",
    "# placeholder 설정(입력변수 x, 타겟변수 y)\n",
    "x = tf.placeholder(dtype=tf.float32)\n",
    "y = tf.placeholder(dtype=tf.float32)\n",
    "# W, b\n",
    "W = tf.Variable(tf.random.normal([1]))\n",
    "b = tf.Variable(tf.random.normal([1]))\n",
    "# Hypothesis(예측값)\n",
    "H = W*x + b\n",
    "# 손실함수\n",
    "cost = tf.reduce_mean(tf.square(H-y))\n",
    "# 경사하강법\n",
    "train = tf.train.GradientDescentOptimizer(learning_rate=0.01).minimize(cost)\n",
    "#Session 객체 생성\n",
    "sess = tf.Session()\n",
    "sess.run(tf.global_variables_initializer()) # W, b 초기화\n",
    "# 5000번 학습\n",
    "for step in range(5001) :\n",
    "    _, cost_val, W_val, b_val = sess.run([train, cost, W, b],feed_dict={x:x_data,y:y_data})\n",
    "    if step%200 == 0 :\n",
    "        print(\"{}번째 cost:{}, W:{}, b:{}\".format(step,\n",
    "                                               cost_val,\n",
    "                                               W_val,\n",
    "                                               b_val))"
   ]
  },
  {
   "cell_type": "code",
   "execution_count": null,
   "id": "c397ab09",
   "metadata": {},
   "outputs": [],
   "source": [
    "# cost값이 멈춤 : local 최소값"
   ]
  },
  {
   "cell_type": "markdown",
   "id": "7e2dbde3",
   "metadata": {},
   "source": [
    "## 2.4 scale이 다른 데이터의 linear regression을 구현(scale 조정O)\n",
    "### scale을 맞추기 : 모든 데이터를 일정 범위내로 조정\n",
    "- normalization(정규화) : 0 ~ 1 사이로 조정\n",
    "                     X-Xmin\n",
    "    normalization = ㅡㅡㅡㅡㅡㅡ\n",
    "                    Xmax-Xmin\n",
    "            * 위 식을 써도 되지만 라이브러리 씀(sklearn.preprocessing.MinMaxScaler 이용)\n",
    "- standardization(표준화) :  평균 0, 표준편차 1로 조정\n",
    "                        X-Xmean(평균)\n",
    "    standardization = ---------------\n",
    "                        Xstd(표준편차)\n",
    "            * 위 식을 써도 되지만 라이브러리 씀(sklearn.preprocessing.StandardScaler 이용)"
   ]
  },
  {
   "cell_type": "code",
   "execution_count": 39,
   "id": "03d63b23",
   "metadata": {},
   "outputs": [
    {
     "name": "stdout",
     "output_type": "stream",
     "text": [
      "[0.         0.11111111 0.44444444 0.77777778 1.        ]\n",
      "[0.         0.02173913 0.70652174 0.83695652 1.        ]\n"
     ]
    }
   ],
   "source": [
    "# 라이브러리를 쓰지 않고 정규화\n",
    "x_data = np.array([1,2,5,8,10])\n",
    "y_data = np.array([3,5,68,80,95])\n",
    "scaled_x_data = (x_data-x_data.min()) / (x_data.max()-x_data.min())\n",
    "scaled_y_data = (y_data-y_data.min()) / (y_data.max()-y_data.min())\n",
    "print(scaled_x_data)\n",
    "print(scaled_y_data)"
   ]
  },
  {
   "cell_type": "code",
   "execution_count": 43,
   "id": "7e6caf30",
   "metadata": {},
   "outputs": [
    {
     "data": {
      "text/plain": [
       "array([[1.00000000e+00, 3.00000000e+00, 0.00000000e+00, 0.00000000e+00],\n",
       "       [2.00000000e+00, 5.00000000e+00, 1.11111111e-01, 2.17391304e-02],\n",
       "       [5.00000000e+00, 6.80000000e+01, 4.44444444e-01, 7.06521739e-01],\n",
       "       [8.00000000e+00, 8.00000000e+01, 7.77777778e-01, 8.36956522e-01],\n",
       "       [1.00000000e+01, 9.50000000e+01, 1.00000000e+00, 1.00000000e+00]])"
      ]
     },
     "execution_count": 43,
     "metadata": {},
     "output_type": "execute_result"
    }
   ],
   "source": [
    "# 라이브러리를 쓰고 정규화 (MinMaxScaler 이용)\n",
    "x_data = np.array([1,2,5,8,10]).reshape(-1,1)\n",
    "y_data = np.array([3,5,68,80,95]).reshape(-1,1)\n",
    "# np.column_stack([x_data, y_data])\n",
    "from sklearn.preprocessing import MinMaxScaler\n",
    "scaler_x = MinMaxScaler() # x_data를 정규화 시킬 객체\n",
    "# scaler_x.fit(x_data)\n",
    "# scaled_x_data = scaler_x.transform(x_data)\n",
    "scaled_x_data = scaler_x.fit_transform(x_data)\n",
    "scaler_y = MinMaxScaler() # y_data를 정규화시킬 객체\n",
    "scaled_y_data = scaler_y.fit_transform(y_data)\n",
    "np.column_stack([x_data, y_data, scaled_x_data, scaled_y_data])"
   ]
  },
  {
   "cell_type": "code",
   "execution_count": 44,
   "id": "62e1551b",
   "metadata": {},
   "outputs": [
    {
     "name": "stdout",
     "output_type": "stream",
     "text": [
      "0번째 cost:1.4193464517593384, W:[1.7578148], b:[-1.4602787]\n",
      "600번째 cost:0.22409753501415253, W:[1.9630414], b:[-0.70681995]\n",
      "1200번째 cost:0.1300603151321411, W:[1.9116066], b:[-0.48689398]\n",
      "1800번째 cost:0.09946084022521973, W:[1.8154674], b:[-0.39300245]\n",
      "2400번째 cost:0.07835023105144501, W:[1.7203697], b:[-0.33313143]\n",
      "3000번째 cost:0.06248987466096878, W:[1.6351074], b:[-0.2859401]\n",
      "3600번째 cost:0.050502657890319824, W:[1.5603918], b:[-0.24599433]\n",
      "4200번째 cost:0.041439224034547806, W:[1.4952939], b:[-0.21150304]\n",
      "4800번째 cost:0.034586451947689056, W:[1.438661], b:[-0.18156567]\n",
      "5400번째 cost:0.02940499782562256, W:[1.3894093], b:[-0.15554617]\n",
      "6000번째 cost:0.025487283244729042, W:[1.3465817], b:[-0.13292389]\n",
      "6600번째 cost:0.022525062784552574, W:[1.3093406], b:[-0.11325338]\n",
      "7200번째 cost:0.020285308361053467, W:[1.2769579], b:[-0.09614914]\n",
      "7800번째 cost:0.018591830506920815, W:[1.2487999], b:[-0.08127633]\n",
      "8400번째 cost:0.017311375588178635, W:[1.2243154], b:[-0.06834389]\n",
      "9000번째 cost:0.01634320616722107, W:[1.2030245], b:[-0.05709848]\n",
      "9600번째 cost:0.015611168928444386, W:[1.1845115], b:[-0.04732008]\n",
      "10200번째 cost:0.015057677403092384, W:[1.1684135], b:[-0.0388173]\n",
      "10800번째 cost:0.014639167115092278, W:[1.1544156], b:[-0.03142379]\n",
      "11400번째 cost:0.014322733506560326, W:[1.1422437], b:[-0.02499486]\n",
      "12000번째 cost:0.01408348698168993, W:[1.1316602], b:[-0.01940461]\n"
     ]
    }
   ],
   "source": [
    "# placeholder 설정(입력변수 x, 타겟변수 y)\n",
    "x = tf.placeholder(dtype=tf.float32)\n",
    "y = tf.placeholder(dtype=tf.float32)\n",
    "# W, b\n",
    "W = tf.Variable(tf.random.normal([1]))\n",
    "b = tf.Variable(tf.random.normal([1]))\n",
    "# Hypothesis(예측값)\n",
    "H = W*x + b\n",
    "# 손실함수\n",
    "cost = tf.reduce_mean(tf.square(H-y))\n",
    "# 경사하강법\n",
    "train = tf.train.GradientDescentOptimizer(learning_rate=0.001).minimize(cost)\n",
    "#Session 객체 생성\n",
    "sess = tf.Session()\n",
    "sess.run(tf.global_variables_initializer()) # W, b 초기화\n",
    "# 12000번 학습\n",
    "for step in range(12001) :\n",
    "    _, cost_val, W_val, b_val = sess.run([train, cost, W, b],\n",
    "                                         feed_dict={\n",
    "                                             x:scaled_x_data,\n",
    "                                             y:scaled_y_data})\n",
    "    if step%600 == 0 :\n",
    "        print(\"{}번째 cost:{}, W:{}, b:{}\".format(step,\n",
    "                                               cost_val,\n",
    "                                               W_val,\n",
    "                                               b_val))"
   ]
  },
  {
   "cell_type": "code",
   "execution_count": 50,
   "id": "9632fd2c",
   "metadata": {},
   "outputs": [
    {
     "name": "stdout",
     "output_type": "stream",
     "text": [
      "모델 예측을 위한 입력 : \n",
      "[[0.11111111]\n",
      " [0.22222222]]\n",
      "모델 예측 결과 : \n",
      "[[0.10633541]\n",
      " [0.23207544]]\n",
      "결과 : \n",
      "[[12.782858]\n",
      " [24.35094 ]]\n"
     ]
    }
   ],
   "source": [
    "# 예측\n",
    "scaled_input = scaler_x.transform(np.array([[2],\n",
    "                                           [3]]))\n",
    "print(\"모델 예측을 위한 입력 : \", scaled_input, sep=\"\\n\")\n",
    "scaled_output = sess.run(H, feed_dict={x:scaled_input})\n",
    "print(\"모델 예측 결과 : \", scaled_output, sep=\"\\n\")\n",
    "print(\"결과 : \", scaler_y.inverse_transform(scaled_output), sep=\"\\n\")"
   ]
  },
  {
   "cell_type": "code",
   "execution_count": 52,
   "id": "f73a9028",
   "metadata": {},
   "outputs": [],
   "source": [
    "# x_data들의 예측값\n",
    "scaled_y_hat = sess.run(H, feed_dict={x:scaled_x_data})\n",
    "y_hat = scaler_y.inverse_transform(scaled_y_hat)"
   ]
  },
  {
   "cell_type": "code",
   "execution_count": 53,
   "id": "6dc845c2",
   "metadata": {},
   "outputs": [
    {
     "data": {
      "text/plain": [
       "[<matplotlib.lines.Line2D at 0x14664806f20>]"
      ]
     },
     "execution_count": 53,
     "metadata": {},
     "output_type": "execute_result"
    },
    {
     "data": {
      "image/png": "[encoded data removed]",
      "text/plain": [
       "<Figure size 640x480 with 1 Axes>"
      ]
     },
     "metadata": {},
     "output_type": "display_data"
    }
   ],
   "source": [
    "import matplotlib.pyplot as plt\n",
    "plt.plot(x_data, y_data, 'r')\n",
    "plt.plot(x_data, y_hat, 'b')"
   ]
  },
  {
   "cell_type": "code",
   "execution_count": 55,
   "id": "6116dff0",
   "metadata": {},
   "outputs": [
    {
     "name": "stdout",
     "output_type": "stream",
     "text": [
      "[[ 1  3]\n",
      " [ 2  5]\n",
      " [ 5 68]\n",
      " [ 8 80]\n",
      " [10 95]]\n",
      "[[-1.22474487 -1.22009861]\n",
      " [-0.93313895 -1.16839952]\n",
      " [-0.05832118  0.46012193]\n",
      " [ 0.81649658  0.77031649]\n",
      " [ 1.39970842  1.1580597 ]]\n"
     ]
    }
   ],
   "source": [
    "# 라이브러리를 이용하여 표준화(standardScaler 이용)\n",
    "x_data = np.array([1,2,5,8,10]).reshape(-1,1)\n",
    "y_data = np.array([3,5,68,80,95]).reshape(-1,1)\n",
    "\n",
    "from sklearn.preprocessing import StandardScaler\n",
    "scaler_x = StandardScaler() # x_data를 표준화할 객체\n",
    "scaler_y = StandardScaler() # y_data를 표준화할 객체\n",
    "scaled_x_data = scaler_x.fit_transform(x_data)\n",
    "scaled_y_data = scaler_y.fit_transform(y_data)\n",
    "print(np.column_stack([x_data, y_data]))\n",
    "print(np.column_stack([scaled_x_data, scaled_y_data]))"
   ]
  },
  {
   "cell_type": "code",
   "execution_count": 56,
   "id": "1046d6fa",
   "metadata": {},
   "outputs": [
    {
     "name": "stdout",
     "output_type": "stream",
     "text": [
      "0번째 cost:0.4616635739803314, W:[1.1381025], b:[0.59454787]\n",
      "600번째 cost:0.11040790379047394, W:[1.0146505], b:[0.17885931]\n",
      "1200번째 cost:0.07861919701099396, W:[0.9775119], b:[0.05380672]\n",
      "1800번째 cost:0.07574230432510376, W:[0.9663392], b:[0.01618681]\n",
      "2400번째 cost:0.07548194378614426, W:[0.9629782], b:[0.00486952]\n",
      "3000번째 cost:0.07545838505029678, W:[0.96196705], b:[0.00146491]\n",
      "3600번째 cost:0.07545623928308487, W:[0.961663], b:[0.00044069]\n",
      "4200번째 cost:0.07545604556798935, W:[0.96157247], b:[0.00013258]\n",
      "4800번째 cost:0.07545604556798935, W:[0.96154696], b:[3.9879997e-05]\n",
      "5400번째 cost:0.07545605301856995, W:[0.96154696], b:[1.1989576e-05]\n",
      "6000번째 cost:0.07545605301856995, W:[0.96154696], b:[3.599129e-06]\n",
      "6600번째 cost:0.07545603811740875, W:[0.96154696], b:[1.0753478e-06]\n",
      "7200번째 cost:0.07545604556798935, W:[0.96154696], b:[3.1577028e-07]\n",
      "7800번째 cost:0.07545603811740875, W:[0.96154696], b:[8.577174e-08]\n",
      "8400번째 cost:0.07545604556798935, W:[0.96154696], b:[2.5943367e-08]\n",
      "9000번째 cost:0.07545604556798935, W:[0.96154696], b:[8.062203e-09]\n",
      "9600번째 cost:0.07545604556798935, W:[0.96154696], b:[-9.819171e-09]\n",
      "10200번째 cost:0.07545606046915054, W:[0.96154696], b:[-2.424331e-08]\n",
      "10800번째 cost:0.07545606046915054, W:[0.96154696], b:[-2.424331e-08]\n",
      "11400번째 cost:0.07545606046915054, W:[0.96154696], b:[-2.424331e-08]\n",
      "12000번째 cost:0.07545606046915054, W:[0.96154696], b:[-2.424331e-08]\n"
     ]
    }
   ],
   "source": [
    "# placeholder 설정(입력변수 x, 타겟변수 y)\n",
    "x = tf.placeholder(dtype=tf.float32)\n",
    "y = tf.placeholder(dtype=tf.float32)\n",
    "# W, b\n",
    "W = tf.Variable(tf.random.normal([1]))\n",
    "b = tf.Variable(tf.random.normal([1]))\n",
    "# Hypothesis(예측값)\n",
    "H = W*x + b\n",
    "# 손실함수\n",
    "cost = tf.reduce_mean(tf.square(H-y))\n",
    "# 경사하강법\n",
    "train = tf.train.GradientDescentOptimizer(learning_rate=0.001).minimize(cost)\n",
    "#Session 객체 생성\n",
    "sess = tf.Session()\n",
    "sess.run(tf.global_variables_initializer()) # W, b 초기화\n",
    "# 12000번 학습\n",
    "for step in range(12001) :\n",
    "    _, cost_val, W_val, b_val = sess.run([train, cost, W, b],\n",
    "                                         feed_dict={\n",
    "                                             x:scaled_x_data,\n",
    "                                             y:scaled_y_data})\n",
    "    if step%600 == 0 :\n",
    "        print(\"{}번째 cost:{}, W:{}, b:{}\".format(step,\n",
    "                                               cost_val,\n",
    "                                               W_val,\n",
    "                                               b_val))"
   ]
  },
  {
   "cell_type": "code",
   "execution_count": 57,
   "id": "fb90051d",
   "metadata": {},
   "outputs": [],
   "source": [
    "# x_data들의 예측값\n",
    "scaled_y_hat = sess.run(H, feed_dict={x:scaled_x_data})\n",
    "y_hat = scaler_y.inverse_transform(scaled_y_hat)"
   ]
  },
  {
   "cell_type": "code",
   "execution_count": 58,
   "id": "ac2366ee",
   "metadata": {},
   "outputs": [
    {
     "data": {
      "text/plain": [
       "[<matplotlib.lines.Line2D at 0x146649b1360>]"
      ]
     },
     "execution_count": 58,
     "metadata": {},
     "output_type": "execute_result"
    },
    {
     "data": {
      "image/png": "[encoded data removed]",
      "text/plain": [
       "<Figure size 640x480 with 1 Axes>"
      ]
     },
     "metadata": {},
     "output_type": "display_data"
    }
   ],
   "source": [
    "import matplotlib.pyplot as plt\n",
    "plt.plot(x_data, y_data, 'r')\n",
    "plt.plot(x_data, y_hat, 'b')"
   ]
  },
  {
   "cell_type": "code",
   "execution_count": null,
   "id": "4bbf4931",
   "metadata": {},
   "outputs": [],
   "source": []
  },
  {
   "cell_type": "code",
   "execution_count": null,
   "id": "820401b9",
   "metadata": {},
   "outputs": [],
   "source": []
  },
  {
   "cell_type": "code",
   "execution_count": null,
   "id": "5ba5a1b3",
   "metadata": {},
   "outputs": [],
   "source": []
  },
  {
   "cell_type": "code",
   "execution_count": null,
   "id": "b8bfbeef",
   "metadata": {},
   "outputs": [],
   "source": []
  },
  {
   "cell_type": "code",
   "execution_count": null,
   "id": "bb1f8924",
   "metadata": {},
   "outputs": [],
   "source": []
  },
  {
   "cell_type": "code",
   "execution_count": null,
   "id": "f96c0539",
   "metadata": {},
   "outputs": [],
   "source": []
  },
  {
   "cell_type": "code",
   "execution_count": null,
   "id": "381267d3",
   "metadata": {},
   "outputs": [],
   "source": []
  },
  {
   "cell_type": "code",
   "execution_count": null,
   "id": "c078fa0d",
   "metadata": {},
   "outputs": [],
   "source": []
  },
  {
   "cell_type": "code",
   "execution_count": null,
   "id": "7640a7b7",
   "metadata": {},
   "outputs": [],
   "source": []
  },
  {
   "cell_type": "code",
   "execution_count": null,
   "id": "beffe373",
   "metadata": {},
   "outputs": [],
   "source": []
  },
  {
   "cell_type": "code",
   "execution_count": null,
   "id": "cc3c34a3",
   "metadata": {},
   "outputs": [],
   "source": []
  },
  {
   "cell_type": "code",
   "execution_count": null,
   "id": "e9b5b04a",
   "metadata": {},
   "outputs": [],
   "source": []
  },
  {
   "cell_type": "code",
   "execution_count": null,
   "id": "f972af6c",
   "metadata": {},
   "outputs": [],
   "source": []
  },
  {
   "cell_type": "code",
   "execution_count": null,
   "id": "0f56c36c",
   "metadata": {},
   "outputs": [],
   "source": []
  },
  {
   "cell_type": "code",
   "execution_count": null,
   "id": "361b2391",
   "metadata": {},
   "outputs": [],
   "source": []
  },
  {
   "cell_type": "code",
   "execution_count": null,
   "id": "82a5c589",
   "metadata": {},
   "outputs": [],
   "source": []
  },
  {
   "cell_type": "code",
   "execution_count": null,
   "id": "9798b2c2",
   "metadata": {},
   "outputs": [],
   "source": []
  },
  {
   "cell_type": "code",
   "execution_count": null,
   "id": "6ca864f7",
   "metadata": {},
   "outputs": [],
   "source": []
  },
  {
   "cell_type": "code",
   "execution_count": null,
   "id": "ff144448",
   "metadata": {},
   "outputs": [],
   "source": []
  },
  {
   "cell_type": "code",
   "execution_count": null,
   "id": "04759b1a",
   "metadata": {},
   "outputs": [],
   "source": []
  },
  {
   "cell_type": "code",
   "execution_count": null,
   "id": "fb146cbc",
   "metadata": {},
   "outputs": [],
   "source": []
  },
  {
   "cell_type": "code",
   "execution_count": null,
   "id": "da948ab3",
   "metadata": {},
   "outputs": [],
   "source": []
  },
  {
   "cell_type": "code",
   "execution_count": null,
   "id": "6514e15f",
   "metadata": {},
   "outputs": [],
   "source": []
  },
  {
   "cell_type": "code",
   "execution_count": null,
   "id": "00b0d1f2",
   "metadata": {},
   "outputs": [],
   "source": []
  },
  {
   "cell_type": "code",
   "execution_count": null,
   "id": "09a52bee",
   "metadata": {},
   "outputs": [],
   "source": []
  },
  {
   "cell_type": "code",
   "execution_count": null,
   "id": "11da9dd0",
   "metadata": {},
   "outputs": [],
   "source": []
  },
  {
   "cell_type": "code",
   "execution_count": null,
   "id": "7bf4b616",
   "metadata": {},
   "outputs": [],
   "source": []
  },
  {
   "cell_type": "code",
   "execution_count": null,
   "id": "22644ec9",
   "metadata": {},
   "outputs": [],
   "source": []
  },
  {
   "cell_type": "code",
   "execution_count": null,
   "id": "1590cf13",
   "metadata": {},
   "outputs": [],
   "source": []
  },
  {
   "cell_type": "code",
   "execution_count": null,
   "id": "96fcae36",
   "metadata": {},
   "outputs": [],
   "source": []
  },
  {
   "cell_type": "code",
   "execution_count": null,
   "id": "8f1d4044",
   "metadata": {},
   "outputs": [],
   "source": []
  },
  {
   "cell_type": "code",
   "execution_count": null,
   "id": "c0ac8cac",
   "metadata": {},
   "outputs": [],
   "source": []
  },
  {
   "cell_type": "code",
   "execution_count": null,
   "id": "ddaec432",
   "metadata": {},
   "outputs": [],
   "source": []
  },
  {
   "cell_type": "code",
   "execution_count": null,
   "id": "8b936c35",
   "metadata": {},
   "outputs": [],
   "source": []
  },
  {
   "cell_type": "code",
   "execution_count": null,
   "id": "d920a9d6",
   "metadata": {},
   "outputs": [],
   "source": []
  },
  {
   "cell_type": "code",
   "execution_count": null,
   "id": "a876b749",
   "metadata": {},
   "outputs": [],
   "source": []
  }
 ],
 "metadata": {
  "kernelspec": {
   "display_name": "ml-dl-nlp",
   "language": "python",
   "name": "ml-dl-nlp"
  },
  "language_info": {
   "codemirror_mode": {
    "name": "ipython",
    "version": 3
   },
   "file_extension": ".py",
   "mimetype": "text/x-python",
   "name": "python",
   "nbconvert_exporter": "python",
   "pygments_lexer": "ipython3",
   "version": "3.10.18"
  },
  "toc": {
   "base_numbering": 1,
   "nav_menu": {},
   "number_sections": false,
   "sideBar": true,
   "skip_h1_title": false,
   "title_cell": "Table of Contents",
   "title_sidebar": "Contents",
   "toc_cell": false,
   "toc_position": {
    "height": "calc(100% - 180px)",
    "left": "10px",
    "top": "150px",
    "width": "278.55px"
   },
   "toc_section_display": true,
   "toc_window_display": true
  }
 },
 "nbformat": 4,
 "nbformat_minor": 5
}
