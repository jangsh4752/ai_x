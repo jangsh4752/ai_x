{
 "cells": [
  {
   "cell_type": "code",
   "execution_count": 1,
   "id": "d5578dab",
   "metadata": {},
   "outputs": [
    {
     "data": {
      "text/html": [
       "\n",
       "<style>\n",
       "div.container{width:86% !important;}\n",
       "div.cell.code_cell.rendered{width:100%;}\n",
       "div.CodeMirror {font-family:Consolas; font-size:12pt;}\n",
       "div.output {font-size:15pt; font-weight:bold;}\n",
       "div.input {font-family:Consolas; font-size:12pt;}\n",
       "div.prompt {min-width:70px;}\n",
       "div#toc-wrapper{padding-top:120px;}\n",
       "div.text_cell_render ul li{font-size:12pt;padding:5px;}\n",
       "table.dataframe{font-size:15px;}\n",
       "</style>\n"
      ],
      "text/plain": [
       "<IPython.core.display.HTML object>"
      ]
     },
     "metadata": {},
     "output_type": "display_data"
    }
   ],
   "source": [
    "from IPython.display import display, HTML\n",
    "display(HTML(\"\"\"\n",
    "<style>\n",
    "div.container{width:86% !important;}\n",
    "div.cell.code_cell.rendered{width:100%;}\n",
    "div.CodeMirror {font-family:Consolas; font-size:12pt;}\n",
    "div.output {font-size:15pt; font-weight:bold;}\n",
    "div.input {font-family:Consolas; font-size:12pt;}\n",
    "div.prompt {min-width:70px;}\n",
    "div#toc-wrapper{padding-top:120px;}\n",
    "div.text_cell_render ul li{font-size:12pt;padding:5px;}\n",
    "table.dataframe{font-size:15px;}\n",
    "</style>\n",
    "\"\"\"))"
   ]
  },
  {
   "cell_type": "markdown",
   "id": "6d82efdb",
   "metadata": {},
   "source": [
    "# 1. tensorflow v2.xx에서 v1 사용"
   ]
  },
  {
   "cell_type": "code",
   "execution_count": 2,
   "id": "f3c74148",
   "metadata": {},
   "outputs": [
    {
     "name": "stdout",
     "output_type": "stream",
     "text": [
      "WARNING:tensorflow:From C:\\Users\\Admin\\anaconda3\\envs\\ml-dl-nlp\\lib\\site-packages\\tensorflow\\python\\compat\\v2_compat.py:107: disable_resource_variables (from tensorflow.python.ops.variable_scope) is deprecated and will be removed in a future version.\n",
      "Instructions for updating:\n",
      "non-resource variables are not supported in the long term\n"
     ]
    }
   ],
   "source": [
    "import tensorflow.compat.v1 as tf\n",
    "tf.disable_v2_behavior() # v2를 비활성화하고 v1 활성화\n",
    "import numpy as np\n",
    "import pandas as pd"
   ]
  },
  {
   "cell_type": "markdown",
   "id": "4d1bf118",
   "metadata": {},
   "source": [
    "## tensorflow\n",
    "- 데이터 흐름 그래프(tensor객체의 흐름)\n",
    "- 이 그래프는 node(상수, 변수, 연산)와 edge로 구성\n",
    "- sess = tf.Session()으로 실행\n",
    "- sess.run()을 통해 값을 확인"
   ]
  },
  {
   "cell_type": "code",
   "execution_count": 3,
   "id": "88456395",
   "metadata": {},
   "outputs": [
    {
     "name": "stdout",
     "output_type": "stream",
     "text": [
      "b'Hello Tensorflow'\n"
     ]
    }
   ],
   "source": [
    "# tensor  = data(상수, 변수)와 연산\n",
    "node1 = tf.constant(\"Hello Tensorflow\")\n",
    "sess = tf.Session()\n",
    "print(sess.run(node1))"
   ]
  },
  {
   "cell_type": "code",
   "execution_count": 4,
   "id": "89554819",
   "metadata": {},
   "outputs": [
    {
     "name": "stdout",
     "output_type": "stream",
     "text": [
      "[10.0, 20.0, 30.0]\n"
     ]
    }
   ],
   "source": [
    "# 간단한 연산 tensor 그래프\n",
    "node1 = tf.constant(10, dtype=tf.float16) # 기본값 : tf.float64\n",
    "node2 = tf.constant(20, dtype=tf.float16)\n",
    "node3 = tf.add(node1, node2)\n",
    "sess = tf.Session()\n",
    "print(sess.run([node1, node2, node3]))"
   ]
  },
  {
   "cell_type": "code",
   "execution_count": 5,
   "id": "1381306c",
   "metadata": {},
   "outputs": [
    {
     "data": {
      "text/plain": [
       "[array([1, 2, 3], dtype=int16), array([1., 2., 3.], dtype=float32)]"
      ]
     },
     "execution_count": 5,
     "metadata": {},
     "output_type": "execute_result"
    }
   ],
   "source": [
    "# 타입 변경\n",
    "node1 = tf.constant(np.array([1,2,3]), dtype=tf.int16)\n",
    "node2 = tf.cast(node1, dtype=tf.float32)\n",
    "sess = tf.Session()\n",
    "sess.run([node1, node2])"
   ]
  },
  {
   "cell_type": "code",
   "execution_count": 6,
   "id": "8fc1a7a0",
   "metadata": {},
   "outputs": [
    {
     "data": {
      "text/plain": [
       "2.0"
      ]
     },
     "execution_count": 6,
     "metadata": {},
     "output_type": "execute_result"
    }
   ],
   "source": [
    "# 평균값 계산 : tf.reduce_mean()\n",
    "data = np.array([1., 2., 3.])\n",
    "tensor = tf.reduce_mean(data)\n",
    "sess = tf.Session()\n",
    "sess.run(tensor)"
   ]
  },
  {
   "cell_type": "code",
   "execution_count": 7,
   "id": "b519e870",
   "metadata": {},
   "outputs": [
    {
     "data": {
      "text/plain": [
       "[array([0.94047904], dtype=float32), array([-1.9625645], dtype=float32)]"
      ]
     },
     "execution_count": 7,
     "metadata": {},
     "output_type": "execute_result"
    }
   ],
   "source": [
    "# 랜덤값을 갖는 tensor\n",
    "a = tf.random_normal([1]) # 평균 0, 표준편차 1인 난수 실수 1개(정규분포 이루는 난수)\n",
    "b = tf.random_normal([1])\n",
    "sess = tf.Session()\n",
    "sess.run([a, b])"
   ]
  },
  {
   "cell_type": "code",
   "execution_count": 8,
   "id": "74e2f618",
   "metadata": {},
   "outputs": [
    {
     "data": {
      "text/plain": [
       "array([0.21682273], dtype=float32)"
      ]
     },
     "execution_count": 8,
     "metadata": {},
     "output_type": "execute_result"
    }
   ],
   "source": [
    "w = tf.Variable(tf.random.normal([1]))\n",
    "sess = tf.Session()\n",
    "sess.run(tf.global_variables_initializer()) # w변수의 난수 초기화\n",
    "sess.run(w)"
   ]
  },
  {
   "cell_type": "markdown",
   "id": "763f49ec",
   "metadata": {},
   "source": [
    "# 2. tensorflow v1을 이용한 linear regression을 구현\n",
    "\n",
    "## 2.1 입력(독립)변수 x가 1개, 타겟(종속)변수 y가 1개"
   ]
  },
  {
   "cell_type": "code",
   "execution_count": 9,
   "id": "7d625be2",
   "metadata": {},
   "outputs": [
    {
     "name": "stdout",
     "output_type": "stream",
     "text": [
      "0번째 cost:10.99035358428955, W:[0.1868062], b:[-0.2481311]\n",
      "200번째 cost:0.030635325238108635, W:[1.2027974], b:[0.5389943]\n",
      "400번째 cost:0.011698071844875813, W:[1.1253165], b:[0.71512645]\n",
      "600번째 cost:0.004466889891773462, W:[1.0774379], b:[0.82396567]\n",
      "800번째 cost:0.0017056759679690003, W:[1.0478519], b:[0.89122146]\n",
      "1000번째 cost:0.0006513156113214791, W:[1.0295696], b:[0.9327812]\n",
      "1200번째 cost:0.0002487008459866047, W:[1.0182722], b:[0.958463]\n",
      "1400번째 cost:9.496890561422333e-05, W:[1.0112913], b:[0.9743324]\n",
      "1600번째 cost:3.626243051257916e-05, W:[1.0069773], b:[0.9841392]\n",
      "1800번째 cost:1.3847121408616658e-05, W:[1.0043116], b:[0.9901988]\n",
      "2000번째 cost:5.288074589770986e-06, W:[1.0026644], b:[0.99394333]\n",
      "2200번째 cost:2.019630983340903e-06, W:[1.0016466], b:[0.9962569]\n",
      "2400번째 cost:7.716423624515301e-07, W:[1.0010177], b:[0.9976863]\n",
      "2600번째 cost:2.951512954041391e-07, W:[1.0006295], b:[0.99856913]\n",
      "2800번째 cost:1.1301671065666596e-07, W:[1.0003897], b:[0.99911475]\n",
      "3000번째 cost:4.336423842232762e-08, W:[1.0002415], b:[0.9994515]\n",
      "3200번째 cost:1.6688131765363323e-08, W:[1.0001501], b:[0.9996599]\n",
      "3400번째 cost:6.432211652196429e-09, W:[1.000093], b:[0.99978876]\n",
      "3600번째 cost:2.499853879456282e-09, W:[1.0000582], b:[0.9998685]\n",
      "3800번째 cost:9.565361835939257e-10, W:[1.0000356], b:[0.99991846]\n",
      "4000번째 cost:3.7180805656511495e-10, W:[1.0000224], b:[0.9999492]\n",
      "4200번째 cost:1.6172425898464127e-10, W:[1.0000149], b:[0.9999667]\n",
      "4400번째 cost:6.734050123080593e-11, W:[1.0000098], b:[0.9999786]\n",
      "4600번째 cost:5.328478283606053e-11, W:[1.0000087], b:[0.9999811]\n",
      "4800번째 cost:5.328478283606053e-11, W:[1.0000087], b:[0.9999811]\n",
      "5000번째 cost:5.328478283606053e-11, W:[1.0000087], b:[0.9999811]\n"
     ]
    }
   ],
   "source": [
    "x = np.array([1,2,3])\n",
    "y = np.array([2,3,4])\n",
    "# weight와 bias를 처음엔 랜덤 세팅, 학습과정에서 변경\n",
    "W = tf.Variable(tf.random.normal([1]), name='weight')\n",
    "b = tf.Variable(tf.random.normal([1]), name='bias')\n",
    "# Hypothesis : 예측값\n",
    "H = W*x + b\n",
    "# cost function(손실함수 = mse;최소제곱법)\n",
    "cost = tf.reduce_mean(tf.square(H-y))\n",
    "'''\n",
    "학습목적 : cost가 최소가 되는 w, b를 찾아내는 것\n",
    "cost는 2차함수이므로 곡선그래프. 곡선위 미분 값이 줄어드는 방향으로 학습(경사하강)\n",
    "=> GradientDescentOptimizer\n",
    "'''\n",
    "optimizer = tf.train.GradientDescentOptimizer(learning_rate=0.01)\n",
    "train = optimizer.minimize(cost)\n",
    "# session 생성\n",
    "sess = tf.Session()\n",
    "# W, b 변수 노드에 초기화\n",
    "sess.run(tf.global_variables_initializer())\n",
    "# 5000번 학습(v2에서는 fit함수)\n",
    "for step in range(5001) :\n",
    "    _, cost_val, W_val, b_val = sess.run([train, cost, W, b])\n",
    "    if step%200 == 0 :\n",
    "        print(\"{}번째 cost:{}, W:{}, b:{}\".format(step,\n",
    "                                               cost_val,\n",
    "                                               W_val,\n",
    "                                               b_val))"
   ]
  },
  {
   "cell_type": "code",
   "execution_count": 10,
   "id": "81d172ce",
   "metadata": {},
   "outputs": [
    {
     "data": {
      "text/plain": [
       "[array([1.0000087], dtype=float32), array([0.9999811], dtype=float32)]"
      ]
     },
     "execution_count": 10,
     "metadata": {},
     "output_type": "execute_result"
    }
   ],
   "source": [
    "# 최종적으로 나온 회귀식 : H = W*x + b\n",
    "sess.run([W, b])"
   ]
  },
  {
   "cell_type": "code",
   "execution_count": 11,
   "id": "baea9075",
   "metadata": {},
   "outputs": [
    {
     "data": {
      "text/plain": [
       "(1.0000087, 0.9999811)"
      ]
     },
     "execution_count": 11,
     "metadata": {},
     "output_type": "execute_result"
    }
   ],
   "source": [
    "W_, b_ = sess.run([W, b])\n",
    "W_[0], b_[0]"
   ]
  },
  {
   "cell_type": "code",
   "execution_count": 12,
   "id": "2c3e0e2d",
   "metadata": {},
   "outputs": [],
   "source": [
    "def predict(x):\n",
    "    return W_[0]*x + b_[0]"
   ]
  },
  {
   "cell_type": "code",
   "execution_count": 13,
   "id": "1131fe83",
   "metadata": {},
   "outputs": [
    {
     "name": "stdout",
     "output_type": "stream",
     "text": [
      "입력값은 ?1\n",
      "예측값은  1.9999898076057434\n"
     ]
    }
   ],
   "source": [
    "input_x = int(input('입력값은 ?'))\n",
    "print('예측값은 ', predict(input_x))"
   ]
  },
  {
   "cell_type": "markdown",
   "id": "21f375e2",
   "metadata": {},
   "source": [
    "## 2.2 predict를 위한 placeholder 이용\n",
    "- placeholder : 텐서플로우 외부에서 데이터를 입력받는 노드"
   ]
  },
  {
   "cell_type": "code",
   "execution_count": 14,
   "id": "c68e246d",
   "metadata": {},
   "outputs": [
    {
     "data": {
      "text/plain": [
       "array([2., 3., 4.], dtype=float16)"
      ]
     },
     "execution_count": 14,
     "metadata": {},
     "output_type": "execute_result"
    }
   ],
   "source": [
    "# x = np.array([1,2,3])\n",
    "x = tf.placeholder(tf.float16)\n",
    "H = 1*x + 1\n",
    "sess = tf.Session()\n",
    "sess.run(H, feed_dict={x:5})\n",
    "sess.run(H, feed_dict={x:np.array([1,2,3])})"
   ]
  },
  {
   "cell_type": "code",
   "execution_count": 15,
   "id": "1033e195",
   "metadata": {},
   "outputs": [
    {
     "name": "stdout",
     "output_type": "stream",
     "text": [
      "0번째 cost:87.37479400634766, W:[0.8867816], b:[0.63274854]\n",
      "200번째 cost:0.0007023613434284925, W:[2.0090127], b:[0.9518272]\n",
      "400번째 cost:6.908357318025082e-05, W:[2.0028267], b:[0.9848919]\n",
      "600번째 cost:6.795175522711361e-06, W:[2.0008864], b:[0.99526143]\n",
      "800번째 cost:6.683727633571834e-07, W:[2.000278], b:[0.99851376]\n",
      "1000번째 cost:6.586196832358837e-08, W:[2.0000873], b:[0.9995336]\n",
      "1200번째 cost:6.509026206913404e-09, W:[2.0000274], b:[0.99985355]\n",
      "1400번째 cost:6.578375066901287e-10, W:[2.0000088], b:[0.9999537]\n",
      "1600번째 cost:7.862581419271208e-11, W:[2.000003], b:[0.9999841]\n",
      "1800번째 cost:2.060005464821213e-11, W:[2.0000017], b:[0.99999213]\n",
      "2000번째 cost:2.060005464821213e-11, W:[2.0000017], b:[0.99999213]\n",
      "2200번째 cost:2.060005464821213e-11, W:[2.0000017], b:[0.99999213]\n",
      "2400번째 cost:2.060005464821213e-11, W:[2.0000017], b:[0.99999213]\n",
      "2600번째 cost:2.060005464821213e-11, W:[2.0000017], b:[0.99999213]\n",
      "2800번째 cost:2.060005464821213e-11, W:[2.0000017], b:[0.99999213]\n",
      "3000번째 cost:2.060005464821213e-11, W:[2.0000017], b:[0.99999213]\n",
      "3200번째 cost:2.060005464821213e-11, W:[2.0000017], b:[0.99999213]\n",
      "3400번째 cost:2.060005464821213e-11, W:[2.0000017], b:[0.99999213]\n",
      "3600번째 cost:2.060005464821213e-11, W:[2.0000017], b:[0.99999213]\n",
      "3800번째 cost:2.060005464821213e-11, W:[2.0000017], b:[0.99999213]\n",
      "4000번째 cost:2.060005464821213e-11, W:[2.0000017], b:[0.99999213]\n",
      "4200번째 cost:2.060005464821213e-11, W:[2.0000017], b:[0.99999213]\n",
      "4400번째 cost:2.060005464821213e-11, W:[2.0000017], b:[0.99999213]\n",
      "4600번째 cost:2.060005464821213e-11, W:[2.0000017], b:[0.99999213]\n",
      "4800번째 cost:2.060005464821213e-11, W:[2.0000017], b:[0.99999213]\n",
      "5000번째 cost:2.060005464821213e-11, W:[2.0000017], b:[0.99999213]\n"
     ]
    }
   ],
   "source": [
    "# H = 2x+1\n",
    "x_data = np.array([1,2,3,5,8])\n",
    "y_data = np.array([3,5,7,11,17])\n",
    "# placeholder 설정(입력변수 x, 타겟변수 y)\n",
    "x = tf.placeholder(dtype=tf.float32)\n",
    "y = tf.placeholder(dtype=tf.float32)\n",
    "# W, b\n",
    "W = tf.Variable(tf.random.normal([1]))\n",
    "b = tf.Variable(tf.random.normal([1]))\n",
    "# Hypothesis(예측값)\n",
    "H = W*x + b\n",
    "# 손실함수\n",
    "cost = tf.reduce_mean(tf.square(H-y))\n",
    "# 경사하강법\n",
    "train = tf.train.GradientDescentOptimizer(learning_rate=0.01).minimize(cost)\n",
    "#Session 객체 생성\n",
    "sess = tf.Session()\n",
    "sess.run(tf.global_variables_initializer()) # W, b 초기화\n",
    "# 5000번 학습\n",
    "for step in range(5001) :\n",
    "    _, cost_val, W_val, b_val = sess.run([train, cost, W, b],feed_dict={x:x_data,y:y_data})\n",
    "    if step%200 == 0 :\n",
    "        print(\"{}번째 cost:{}, W:{}, b:{}\".format(step,\n",
    "                                               cost_val,\n",
    "                                               W_val,\n",
    "                                               b_val))"
   ]
  },
  {
   "cell_type": "code",
   "execution_count": 16,
   "id": "dd9b7765",
   "metadata": {},
   "outputs": [
    {
     "data": {
      "text/plain": [
       "array([11.000001], dtype=float32)"
      ]
     },
     "execution_count": 16,
     "metadata": {},
     "output_type": "execute_result"
    }
   ],
   "source": [
    "# 예측하기\n",
    "sess.run(H, feed_dict={x:5})"
   ]
  },
  {
   "cell_type": "code",
   "execution_count": 17,
   "id": "5d4e9690",
   "metadata": {},
   "outputs": [
    {
     "data": {
      "text/plain": [
       "array([11.000001, 13.000002, 15.000004], dtype=float32)"
      ]
     },
     "execution_count": 17,
     "metadata": {},
     "output_type": "execute_result"
    }
   ],
   "source": [
    "sess.run(H, feed_dict={x:np.array([5,6,7])})"
   ]
  },
  {
   "cell_type": "markdown",
   "id": "a778205f",
   "metadata": {},
   "source": [
    "## 2.3 scale이 다른 데이터의 linear regression 구현(scale 조정x)"
   ]
  },
  {
   "cell_type": "code",
   "execution_count": 18,
   "id": "f47ef7be",
   "metadata": {},
   "outputs": [
    {
     "name": "stdout",
     "output_type": "stream",
     "text": [
      "0번째 cost:3745.07275390625, W:[7.874836], b:[0.79388154]\n",
      "200번째 cost:114.41070556640625, W:[10.549669], b:[-4.0030155]\n",
      "400번째 cost:113.06085205078125, W:[10.756898], b:[-5.537393]\n",
      "600번째 cost:112.93697357177734, W:[10.819666], b:[-6.002146]\n",
      "800번째 cost:112.92562103271484, W:[10.838677], b:[-6.1429157]\n",
      "1000번째 cost:112.92460632324219, W:[10.844437], b:[-6.1855536]\n",
      "1200번째 cost:112.92451477050781, W:[10.846181], b:[-6.1984696]\n",
      "1400번째 cost:112.92448425292969, W:[10.846709], b:[-6.2023807]\n",
      "1600번째 cost:112.92449951171875, W:[10.8468685], b:[-6.2035666]\n",
      "1800번째 cost:112.92451477050781, W:[10.846917], b:[-6.2039213]\n",
      "2000번째 cost:112.92449951171875, W:[10.846932], b:[-6.2040367]\n",
      "2200번째 cost:112.92449951171875, W:[10.846933], b:[-6.20404]\n",
      "2400번째 cost:112.92449951171875, W:[10.846933], b:[-6.20404]\n",
      "2600번째 cost:112.92449951171875, W:[10.846933], b:[-6.20404]\n",
      "2800번째 cost:112.92449951171875, W:[10.846933], b:[-6.20404]\n",
      "3000번째 cost:112.92449951171875, W:[10.846933], b:[-6.20404]\n",
      "3200번째 cost:112.92449951171875, W:[10.846933], b:[-6.20404]\n",
      "3400번째 cost:112.92449951171875, W:[10.846933], b:[-6.20404]\n",
      "3600번째 cost:112.92449951171875, W:[10.846933], b:[-6.20404]\n",
      "3800번째 cost:112.92449951171875, W:[10.846933], b:[-6.20404]\n",
      "4000번째 cost:112.92449951171875, W:[10.846933], b:[-6.20404]\n",
      "4200번째 cost:112.92449951171875, W:[10.846933], b:[-6.20404]\n",
      "4400번째 cost:112.92449951171875, W:[10.846933], b:[-6.20404]\n",
      "4600번째 cost:112.92449951171875, W:[10.846933], b:[-6.20404]\n",
      "4800번째 cost:112.92449951171875, W:[10.846933], b:[-6.20404]\n",
      "5000번째 cost:112.92449951171875, W:[10.846933], b:[-6.20404]\n"
     ]
    }
   ],
   "source": [
    "x_data = np.array([1,2,5,8,10])\n",
    "y_data = np.array([3,5,68,80,95])\n",
    "# placeholder 설정(입력변수 x, 타겟변수 y)\n",
    "x = tf.placeholder(dtype=tf.float32)\n",
    "y = tf.placeholder(dtype=tf.float32)\n",
    "# W, b\n",
    "W = tf.Variable(tf.random.normal([1]))\n",
    "b = tf.Variable(tf.random.normal([1]))\n",
    "# Hypothesis(예측값)\n",
    "H = W*x + b\n",
    "# 손실함수\n",
    "cost = tf.reduce_mean(tf.square(H-y))\n",
    "# 경사하강법\n",
    "train = tf.train.GradientDescentOptimizer(learning_rate=0.01).minimize(cost)\n",
    "#Session 객체 생성\n",
    "sess = tf.Session()\n",
    "sess.run(tf.global_variables_initializer()) # W, b 초기화\n",
    "# 5000번 학습\n",
    "for step in range(5001) :\n",
    "    _, cost_val, W_val, b_val = sess.run([train, cost, W, b],feed_dict={x:x_data,y:y_data})\n",
    "    if step%200 == 0 :\n",
    "        print(\"{}번째 cost:{}, W:{}, b:{}\".format(step,\n",
    "                                               cost_val,\n",
    "                                               W_val,\n",
    "                                               b_val))"
   ]
  },
  {
   "cell_type": "code",
   "execution_count": 19,
   "id": "c397ab09",
   "metadata": {},
   "outputs": [],
   "source": [
    "# cost값이 멈춤 : local 최소값"
   ]
  },
  {
   "cell_type": "markdown",
   "id": "7e2dbde3",
   "metadata": {},
   "source": [
    "## 2.4 scale이 다른 데이터의 linear regression을 구현(scale 조정O)\n",
    "### scale을 맞추기 : 모든 데이터를 일정 범위내로 조정\n",
    "- normalization(정규화) : 0 ~ 1 사이로 조정\n",
    "                     X-Xmin\n",
    "    normalization = ㅡㅡㅡㅡㅡㅡ\n",
    "                    Xmax-Xmin\n",
    "            * 위 식을 써도 되지만 라이브러리 씀(sklearn.preprocessing.MinMaxScaler 이용)\n",
    "- standardization(표준화) :  평균 0, 표준편차 1로 조정\n",
    "                        X-Xmean(평균)\n",
    "    standardization = ---------------\n",
    "                        Xstd(표준편차)\n",
    "            * 위 식을 써도 되지만 라이브러리 씀(sklearn.preprocessing.StandardScaler 이용)"
   ]
  },
  {
   "cell_type": "code",
   "execution_count": 20,
   "id": "03d63b23",
   "metadata": {},
   "outputs": [
    {
     "name": "stdout",
     "output_type": "stream",
     "text": [
      "[0.         0.11111111 0.44444444 0.77777778 1.        ]\n",
      "[0.         0.02173913 0.70652174 0.83695652 1.        ]\n"
     ]
    }
   ],
   "source": [
    "# 라이브러리를 쓰지 않고 정규화\n",
    "x_data = np.array([1,2,5,8,10])\n",
    "y_data = np.array([3,5,68,80,95])\n",
    "scaled_x_data = (x_data-x_data.min()) / (x_data.max()-x_data.min())\n",
    "scaled_y_data = (y_data-y_data.min()) / (y_data.max()-y_data.min())\n",
    "print(scaled_x_data)\n",
    "print(scaled_y_data)"
   ]
  },
  {
   "cell_type": "code",
   "execution_count": 21,
   "id": "7e6caf30",
   "metadata": {},
   "outputs": [
    {
     "data": {
      "text/plain": [
       "array([[1.00000000e+00, 3.00000000e+00, 0.00000000e+00, 0.00000000e+00],\n",
       "       [2.00000000e+00, 5.00000000e+00, 1.11111111e-01, 2.17391304e-02],\n",
       "       [5.00000000e+00, 6.80000000e+01, 4.44444444e-01, 7.06521739e-01],\n",
       "       [8.00000000e+00, 8.00000000e+01, 7.77777778e-01, 8.36956522e-01],\n",
       "       [1.00000000e+01, 9.50000000e+01, 1.00000000e+00, 1.00000000e+00]])"
      ]
     },
     "execution_count": 21,
     "metadata": {},
     "output_type": "execute_result"
    }
   ],
   "source": [
    "# 라이브러리를 쓰고 정규화 (MinMaxScaler 이용)\n",
    "x_data = np.array([1,2,5,8,10]).reshape(-1,1)\n",
    "y_data = np.array([3,5,68,80,95]).reshape(-1,1)\n",
    "# np.column_stack([x_data, y_data])\n",
    "from sklearn.preprocessing import MinMaxScaler\n",
    "scaler_x = MinMaxScaler() # x_data를 정규화 시킬 객체\n",
    "# scaler_x.fit(x_data)\n",
    "# scaled_x_data = scaler_x.transform(x_data)\n",
    "scaled_x_data = scaler_x.fit_transform(x_data)\n",
    "scaler_y = MinMaxScaler() # y_data를 정규화시킬 객체\n",
    "scaled_y_data = scaler_y.fit_transform(y_data)\n",
    "np.column_stack([x_data, y_data, scaled_x_data, scaled_y_data])"
   ]
  },
  {
   "cell_type": "code",
   "execution_count": 22,
   "id": "62e1551b",
   "metadata": {},
   "outputs": [
    {
     "name": "stdout",
     "output_type": "stream",
     "text": [
      "0번째 cost:0.09075808525085449, W:[0.33572134], b:[0.3253986]\n",
      "600번째 cost:0.0679238811135292, W:[0.4505189], b:[0.32345703]\n",
      "1200번째 cost:0.054413922131061554, W:[0.53468484], b:[0.29212847]\n",
      "1800번째 cost:0.04438682645559311, W:[0.6043692], b:[0.25825801]\n",
      "2400번째 cost:0.03681458905339241, W:[0.6641804], b:[0.22732326]\n",
      "3000번째 cost:0.031089644879102707, W:[0.7160137], b:[0.20009252]\n",
      "3600번째 cost:0.026761021465063095, W:[0.76104563], b:[0.17633998]\n",
      "4200번째 cost:0.023488154634833336, W:[0.80019367], b:[0.15566963]\n",
      "4800번째 cost:0.021013515070080757, W:[0.8342328], b:[0.13769218]\n",
      "5400번째 cost:0.019142422825098038, W:[0.8638308], b:[0.12205929]\n",
      "6000번째 cost:0.017727674916386604, W:[0.8895677], b:[0.1084655]\n",
      "6600번째 cost:0.016657963395118713, W:[0.91194713], b:[0.09664503]\n",
      "7200번째 cost:0.01584915816783905, W:[0.9314067], b:[0.08636661]\n",
      "7800번째 cost:0.015237616375088692, W:[0.9483278], b:[0.07742916]\n",
      "8400번째 cost:0.014775221236050129, W:[0.9630416], b:[0.0696576]\n",
      "9000번째 cost:0.014425602741539478, W:[0.97583574], b:[0.06289986]\n",
      "9600번째 cost:0.014161253347992897, W:[0.9869608], b:[0.05702372]\n",
      "10200번째 cost:0.013961379416286945, W:[0.9966345], b:[0.05191414]\n",
      "10800번째 cost:0.013810256496071815, W:[1.0050461], b:[0.04747127]\n",
      "11400번째 cost:0.013695994392037392, W:[1.0123601], b:[0.04360799]\n",
      "12000번째 cost:0.01360959280282259, W:[1.01872], b:[0.04024871]\n"
     ]
    }
   ],
   "source": [
    "# placeholder 설정(입력변수 x, 타겟변수 y)\n",
    "x = tf.placeholder(dtype=tf.float32)\n",
    "y = tf.placeholder(dtype=tf.float32)\n",
    "# W, b\n",
    "W = tf.Variable(tf.random.normal([1]))\n",
    "b = tf.Variable(tf.random.normal([1]))\n",
    "# Hypothesis(예측값)\n",
    "H = W*x + b\n",
    "# 손실함수\n",
    "cost = tf.reduce_mean(tf.square(H-y))\n",
    "# 경사하강법\n",
    "train = tf.train.GradientDescentOptimizer(learning_rate=0.001).minimize(cost)\n",
    "#Session 객체 생성\n",
    "sess = tf.Session()\n",
    "sess.run(tf.global_variables_initializer()) # W, b 초기화\n",
    "# 12000번 학습\n",
    "for step in range(12001) :\n",
    "    _, cost_val, W_val, b_val = sess.run([train, cost, W, b],\n",
    "                                         feed_dict={\n",
    "                                             x:scaled_x_data,\n",
    "                                             y:scaled_y_data})\n",
    "    if step%600 == 0 :\n",
    "        print(\"{}번째 cost:{}, W:{}, b:{}\".format(step,\n",
    "                                               cost_val,\n",
    "                                               W_val,\n",
    "                                               b_val))"
   ]
  },
  {
   "cell_type": "code",
   "execution_count": 23,
   "id": "9632fd2c",
   "metadata": {},
   "outputs": [
    {
     "name": "stdout",
     "output_type": "stream",
     "text": [
      "모델 예측을 위한 입력 : \n",
      "[[0.11111111]\n",
      " [0.22222222]]\n",
      "모델 예측 결과 : \n",
      "[[0.15343982]\n",
      " [0.26663095]]\n",
      "결과 : \n",
      "[[17.116465]\n",
      " [27.530046]]\n"
     ]
    }
   ],
   "source": [
    "# 예측\n",
    "scaled_input = scaler_x.transform(np.array([[2],\n",
    "                                           [3]]))\n",
    "print(\"모델 예측을 위한 입력 : \", scaled_input, sep=\"\\n\")\n",
    "scaled_output = sess.run(H, feed_dict={x:scaled_input})\n",
    "print(\"모델 예측 결과 : \", scaled_output, sep=\"\\n\")\n",
    "print(\"결과 : \", scaler_y.inverse_transform(scaled_output), sep=\"\\n\")"
   ]
  },
  {
   "cell_type": "code",
   "execution_count": 24,
   "id": "f73a9028",
   "metadata": {},
   "outputs": [],
   "source": [
    "# x_data들의 예측값\n",
    "scaled_y_hat = sess.run(H, feed_dict={x:scaled_x_data})\n",
    "y_hat = scaler_y.inverse_transform(scaled_y_hat)"
   ]
  },
  {
   "cell_type": "code",
   "execution_count": 25,
   "id": "6dc845c2",
   "metadata": {},
   "outputs": [
    {
     "data": {
      "text/plain": [
       "[<matplotlib.lines.Line2D at 0x1ea4624ef20>]"
      ]
     },
     "execution_count": 25,
     "metadata": {},
     "output_type": "execute_result"
    },
    {
     "data": {
      "image/png": "[encoded data removed]",
      "text/plain": [
       "<Figure size 640x480 with 1 Axes>"
      ]
     },
     "metadata": {},
     "output_type": "display_data"
    }
   ],
   "source": [
    "import matplotlib.pyplot as plt\n",
    "plt.plot(x_data, y_data, 'r')\n",
    "plt.plot(x_data, y_hat, 'b')"
   ]
  },
  {
   "cell_type": "code",
   "execution_count": 26,
   "id": "6116dff0",
   "metadata": {},
   "outputs": [
    {
     "name": "stdout",
     "output_type": "stream",
     "text": [
      "[[ 1  3]\n",
      " [ 2  5]\n",
      " [ 5 68]\n",
      " [ 8 80]\n",
      " [10 95]]\n",
      "[[-1.22474487 -1.22009861]\n",
      " [-0.93313895 -1.16839952]\n",
      " [-0.05832118  0.46012193]\n",
      " [ 0.81649658  0.77031649]\n",
      " [ 1.39970842  1.1580597 ]]\n"
     ]
    }
   ],
   "source": [
    "# 라이브러리를 이용하여 표준화(standardScaler 이용)\n",
    "x_data = np.array([1,2,5,8,10]).reshape(-1,1)\n",
    "y_data = np.array([3,5,68,80,95]).reshape(-1,1)\n",
    "\n",
    "from sklearn.preprocessing import StandardScaler\n",
    "scaler_x = StandardScaler() # x_data를 표준화할 객체\n",
    "scaler_y = StandardScaler() # y_data를 표준화할 객체\n",
    "scaled_x_data = scaler_x.fit_transform(x_data)\n",
    "scaled_y_data = scaler_y.fit_transform(y_data)\n",
    "print(np.column_stack([x_data, y_data]))\n",
    "print(np.column_stack([scaled_x_data, scaled_y_data]))"
   ]
  },
  {
   "cell_type": "code",
   "execution_count": 27,
   "id": "1046d6fa",
   "metadata": {},
   "outputs": [
    {
     "name": "stdout",
     "output_type": "stream",
     "text": [
      "0번째 cost:4.6017022132873535, W:[-1.108739], b:[-0.47131371]\n",
      "600번째 cost:0.48508232831954956, W:[0.33872715], b:[-0.14178649]\n",
      "1200번째 cost:0.11252722889184952, W:[0.77417225], b:[-0.04265394]\n",
      "1800번째 cost:0.07881102710962296, W:[0.9051679], b:[-0.0128317]\n",
      "2400번째 cost:0.075759656727314, W:[0.94457614], b:[-0.00386019]\n",
      "3000번째 cost:0.07548351585865021, W:[0.9564313], b:[-0.00116127]\n",
      "3600번째 cost:0.07545852661132812, W:[0.95999765], b:[-0.00034935]\n",
      "4200번째 cost:0.07545626163482666, W:[0.96107054], b:[-0.00010509]\n",
      "4800번째 cost:0.07545606791973114, W:[0.96139306], b:[-3.161607e-05]\n",
      "5400번째 cost:0.07545603811740875, W:[0.96149], b:[-9.510669e-06]\n",
      "6000번째 cost:0.07545603811740875, W:[0.9615172], b:[-2.8547952e-06]\n",
      "6600번째 cost:0.07545603811740875, W:[0.9615172], b:[-8.427286e-07]\n",
      "7200번째 cost:0.07545603811740875, W:[0.9615172], b:[-2.3860494e-07]\n",
      "7800번째 cost:0.07545604556798935, W:[0.9615172], b:[-5.2921482e-08]\n",
      "8400번째 cost:0.07545603811740875, W:[0.9615172], b:[-8.262546e-09]\n",
      "9000번째 cost:0.07545603811740875, W:[0.9615172], b:[2.3029852e-08]\n",
      "9600번째 cost:0.07545604556798935, W:[0.9615172], b:[3.167236e-08]\n",
      "10200번째 cost:0.07545604556798935, W:[0.9615172], b:[3.167236e-08]\n",
      "10800번째 cost:0.07545604556798935, W:[0.9615172], b:[3.167236e-08]\n",
      "11400번째 cost:0.07545604556798935, W:[0.9615172], b:[3.167236e-08]\n",
      "12000번째 cost:0.07545604556798935, W:[0.9615172], b:[3.167236e-08]\n"
     ]
    }
   ],
   "source": [
    "# placeholder 설정(입력변수 x, 타겟변수 y)\n",
    "x = tf.placeholder(dtype=tf.float32)\n",
    "y = tf.placeholder(dtype=tf.float32)\n",
    "# W, b\n",
    "W = tf.Variable(tf.random.normal([1]))\n",
    "b = tf.Variable(tf.random.normal([1]))\n",
    "# Hypothesis(예측값)\n",
    "H = W*x + b\n",
    "# 손실함수\n",
    "cost = tf.reduce_mean(tf.square(H-y))\n",
    "# 경사하강법\n",
    "train = tf.train.GradientDescentOptimizer(learning_rate=0.001).minimize(cost)\n",
    "#Session 객체 생성\n",
    "sess = tf.Session()\n",
    "sess.run(tf.global_variables_initializer()) # W, b 초기화\n",
    "# 12000번 학습\n",
    "for step in range(12001) :\n",
    "    _, cost_val, W_val, b_val = sess.run([train, cost, W, b],\n",
    "                                         feed_dict={\n",
    "                                             x:scaled_x_data,\n",
    "                                             y:scaled_y_data})\n",
    "    if step%600 == 0 :\n",
    "        print(\"{}번째 cost:{}, W:{}, b:{}\".format(step,\n",
    "                                               cost_val,\n",
    "                                               W_val,\n",
    "                                               b_val))"
   ]
  },
  {
   "cell_type": "code",
   "execution_count": 28,
   "id": "fb90051d",
   "metadata": {},
   "outputs": [],
   "source": [
    "# x_data들의 예측값\n",
    "scaled_y_hat = sess.run(H, feed_dict={x:scaled_x_data})\n",
    "y_hat = scaler_y.inverse_transform(scaled_y_hat)"
   ]
  },
  {
   "cell_type": "code",
   "execution_count": 29,
   "id": "ac2366ee",
   "metadata": {},
   "outputs": [
    {
     "data": {
      "text/plain": [
       "[<matplotlib.lines.Line2D at 0x1ea484e30d0>]"
      ]
     },
     "execution_count": 29,
     "metadata": {},
     "output_type": "execute_result"
    },
    {
     "data": {
      "image/png": "[encoded data removed]",
      "text/plain": [
       "<Figure size 640x480 with 1 Axes>"
      ]
     },
     "metadata": {},
     "output_type": "display_data"
    }
   ],
   "source": [
    "import matplotlib.pyplot as plt\n",
    "plt.plot(x_data, y_data, 'r')\n",
    "plt.plot(x_data, y_hat, 'b')"
   ]
  },
  {
   "cell_type": "markdown",
   "id": "9e949316",
   "metadata": {},
   "source": [
    "## 2. 5 입력(독립)변수 x가 3개, 타겟(종속)변수 y가 1개 (csv이용)"
   ]
  },
  {
   "cell_type": "code",
   "execution_count": 30,
   "id": "35da44f0",
   "metadata": {},
   "outputs": [
    {
     "data": {
      "text/plain": [
       "array([[ 41. , 190. ,   7.4,  67. ,   5. ,   1. ],\n",
       "       [ 36. , 118. ,   8. ,  72. ,   5. ,   2. ],\n",
       "       [ 12. , 149. ,  12.6,  74. ,   5. ,   3. ],\n",
       "       [ 18. , 313. ,  11.5,  62. ,   5. ,   4. ],\n",
       "       [  nan,   nan,  14.3,  56. ,   5. ,   5. ]])"
      ]
     },
     "execution_count": 30,
     "metadata": {},
     "output_type": "execute_result"
    }
   ],
   "source": [
    "# 방법 1 : csv -> array\n",
    "import numpy as np\n",
    "# data = np.loadtxt('data/ozone.csv', delimiter=',', encoding='utf-8') # 결측치, header 없어야함\n",
    "data = np.genfromtxt('data/ozone.csv',\n",
    "                     delimiter = ',',\n",
    "                     skip_header=1,\n",
    "                     missing_values='NA',\n",
    "                     filling_values=np.nan)\n",
    "data[:5]"
   ]
  },
  {
   "cell_type": "code",
   "execution_count": 31,
   "id": "b5afa548",
   "metadata": {},
   "outputs": [
    {
     "name": "stdout",
     "output_type": "stream",
     "text": [
      "<class 'pandas.core.frame.DataFrame'>\n",
      "RangeIndex: 153 entries, 0 to 152\n",
      "Data columns (total 6 columns):\n",
      " #   Column   Non-Null Count  Dtype  \n",
      "---  ------   --------------  -----  \n",
      " 0   Ozone    116 non-null    float64\n",
      " 1   Solar.R  146 non-null    float64\n",
      " 2   Wind     153 non-null    float64\n",
      " 3   Temp     153 non-null    int64  \n",
      " 4   Month    153 non-null    int64  \n",
      " 5   Day      153 non-null    int64  \n",
      "dtypes: float64(3), int64(3)\n",
      "memory usage: 7.3 KB\n"
     ]
    },
    {
     "data": {
      "text/plain": [
       "Ozone      37\n",
       "Solar.R     7\n",
       "Wind        0\n",
       "Temp        0\n",
       "Month       0\n",
       "Day         0\n",
       "dtype: int64"
      ]
     },
     "execution_count": 31,
     "metadata": {},
     "output_type": "execute_result"
    }
   ],
   "source": [
    "# 방법 2 : csv -> 데이터프레임 -> 결측치 처리 -> numpy배열 -> 머신러닝\n",
    "import pandas as pd\n",
    "data = pd.read_csv('data/ozone.csv')\n",
    "data.info() # Ozone, Solar.R열에만 결측치\n",
    "data.isna().sum() # 열별 결측치 갯수"
   ]
  },
  {
   "cell_type": "code",
   "execution_count": 32,
   "id": "bdeae019",
   "metadata": {},
   "outputs": [
    {
     "data": {
      "text/html": [
       "<div>\n",
       "<style scoped>\n",
       "    .dataframe tbody tr th:only-of-type {\n",
       "        vertical-align: middle;\n",
       "    }\n",
       "\n",
       "    .dataframe tbody tr th {\n",
       "        vertical-align: top;\n",
       "    }\n",
       "\n",
       "    .dataframe thead th {\n",
       "        text-align: right;\n",
       "    }\n",
       "</style>\n",
       "<table border=\"1\" class=\"dataframe\">\n",
       "  <thead>\n",
       "    <tr style=\"text-align: right;\">\n",
       "      <th></th>\n",
       "      <th>Ozone</th>\n",
       "      <th>Solar.R</th>\n",
       "    </tr>\n",
       "    <tr>\n",
       "      <th>Month</th>\n",
       "      <th></th>\n",
       "      <th></th>\n",
       "    </tr>\n",
       "  </thead>\n",
       "  <tbody>\n",
       "    <tr>\n",
       "      <th>5</th>\n",
       "      <td>23.615385</td>\n",
       "      <td>181.296296</td>\n",
       "    </tr>\n",
       "    <tr>\n",
       "      <th>6</th>\n",
       "      <td>29.444444</td>\n",
       "      <td>190.166667</td>\n",
       "    </tr>\n",
       "    <tr>\n",
       "      <th>7</th>\n",
       "      <td>59.115385</td>\n",
       "      <td>216.483871</td>\n",
       "    </tr>\n",
       "    <tr>\n",
       "      <th>8</th>\n",
       "      <td>59.961538</td>\n",
       "      <td>171.857143</td>\n",
       "    </tr>\n",
       "    <tr>\n",
       "      <th>9</th>\n",
       "      <td>31.448276</td>\n",
       "      <td>167.433333</td>\n",
       "    </tr>\n",
       "  </tbody>\n",
       "</table>\n",
       "</div>"
      ],
      "text/plain": [
       "           Ozone     Solar.R\n",
       "Month                       \n",
       "5      23.615385  181.296296\n",
       "6      29.444444  190.166667\n",
       "7      59.115385  216.483871\n",
       "8      59.961538  171.857143\n",
       "9      31.448276  167.433333"
      ]
     },
     "metadata": {},
     "output_type": "display_data"
    },
    {
     "name": "stdout",
     "output_type": "stream",
     "text": [
      "5월에 Ozone으로 대체할 값 :  23.615384615384617\n"
     ]
    }
   ],
   "source": [
    "# 2. 결측치 처리\n",
    "#  결측치 처리 방법 1 : 결측치가 있는 행을 제거\n",
    "# data.dropna(how='any', axis=0, inplace=True)\n",
    "#  결측치 처리 방법 2: 결측치 대체(열별 평균값으로 대체)\n",
    "data.mean() # 열별 평균\n",
    "# data.fillna(value=data.mean(), inplace=True)\n",
    "#  결측치 처리 방법 3: 결측치 대체(월별 열별 평균값으로 대체)\n",
    "mean_data = data.groupby('Month')[['Ozone', 'Solar.R']].mean()\n",
    "display(mean_data)\n",
    "print('5월에 Ozone으로 대체할 값 : ', mean_data.loc[5, 'Ozone'])"
   ]
  },
  {
   "cell_type": "code",
   "execution_count": 33,
   "id": "9b217962",
   "metadata": {},
   "outputs": [
    {
     "data": {
      "text/html": [
       "<div>\n",
       "<style scoped>\n",
       "    .dataframe tbody tr th:only-of-type {\n",
       "        vertical-align: middle;\n",
       "    }\n",
       "\n",
       "    .dataframe tbody tr th {\n",
       "        vertical-align: top;\n",
       "    }\n",
       "\n",
       "    .dataframe thead th {\n",
       "        text-align: right;\n",
       "    }\n",
       "</style>\n",
       "<table border=\"1\" class=\"dataframe\">\n",
       "  <thead>\n",
       "    <tr style=\"text-align: right;\">\n",
       "      <th></th>\n",
       "      <th>Ozone</th>\n",
       "      <th>Solar.R</th>\n",
       "      <th>Wind</th>\n",
       "      <th>Temp</th>\n",
       "      <th>Month</th>\n",
       "      <th>Day</th>\n",
       "    </tr>\n",
       "  </thead>\n",
       "  <tbody>\n",
       "    <tr>\n",
       "      <th>4</th>\n",
       "      <td>NaN</td>\n",
       "      <td>NaN</td>\n",
       "      <td>14.3</td>\n",
       "      <td>56</td>\n",
       "      <td>5</td>\n",
       "      <td>5</td>\n",
       "    </tr>\n",
       "  </tbody>\n",
       "</table>\n",
       "</div>"
      ],
      "text/plain": [
       "   Ozone  Solar.R  Wind  Temp  Month  Day\n",
       "4    NaN      NaN  14.3    56      5    5"
      ]
     },
     "execution_count": 33,
     "metadata": {},
     "output_type": "execute_result"
    }
   ],
   "source": [
    "# 결측치가 있는 데이터\n",
    "data[data['Ozone'].isna() | data['Solar.R'].isna()].head(1)"
   ]
  },
  {
   "cell_type": "code",
   "execution_count": 34,
   "id": "ee00ac43",
   "metadata": {},
   "outputs": [
    {
     "data": {
      "text/plain": [
       "Ozone       23.615385\n",
       "Solar.R    181.296296\n",
       "Wind        14.300000\n",
       "Temp        56.000000\n",
       "Month        5.000000\n",
       "Day          5.000000\n",
       "Name: 4, dtype: float64"
      ]
     },
     "execution_count": 34,
     "metadata": {},
     "output_type": "execute_result"
    }
   ],
   "source": [
    "def fill_nan(row) :\n",
    "#     print(row['Ozone'], row['Solar.R'])\n",
    "#     print(row.isna())\n",
    "    'row[\"Ozone\"]이나 row[\"Solar.R\"]가 결측치면 mean_data[월, 열이름]으로 대체'\n",
    "#     if np.isna(row['Ozone']) : \n",
    "    pd.options.mode.copy_on_write = True\n",
    "#     row = row.copy()\n",
    "    if row.isna()['Ozone'] : \n",
    "        row['Ozone'] = mean_data.loc[int(row.Month), 'Ozone']\n",
    "    if row.isna()['Solar.R'] : \n",
    "        row['Solar.R'] = mean_data.loc[int(row['Month']), 'Solar.R']\n",
    "    return row\n",
    "fill_nan(data.loc[4])"
   ]
  },
  {
   "cell_type": "code",
   "execution_count": 35,
   "id": "829e9c83",
   "metadata": {},
   "outputs": [
    {
     "data": {
      "text/plain": [
       "((153, 3), (153, 1))"
      ]
     },
     "execution_count": 35,
     "metadata": {},
     "output_type": "execute_result"
    }
   ],
   "source": [
    "data = data.apply(fill_nan, axis=1)\n",
    "X_data = data[['Solar.R', 'Wind', 'Temp']].values # 독립변수\n",
    "y_data = data[['Ozone']].values # 타겟변수\n",
    "X_data.shape, y_data.shape"
   ]
  },
  {
   "cell_type": "code",
   "execution_count": 48,
   "id": "3632fee8",
   "metadata": {},
   "outputs": [
    {
     "name": "stdout",
     "output_type": "stream",
     "text": [
      "1000번째 cost : 624.6262817382812\n",
      "2000번째 cost : 544.4588012695312\n",
      "3000번째 cost : 504.26898193359375\n",
      "4000번째 cost : 484.1187744140625\n",
      "5000번째 cost : 474.013427734375\n",
      "6000번째 cost : 468.94342041015625\n",
      "7000번째 cost : 466.39727783203125\n",
      "8000번째 cost : 465.1163330078125\n",
      "9000번째 cost : 464.4695129394531\n",
      "10000번째 cost : 464.140625\n",
      "최종 cost:464.140625, W:[[ 0.05520353]\n",
      " [-3.4884179 ]\n",
      " [ 0.8260968 ]], b:[1.5328572]\n"
     ]
    }
   ],
   "source": [
    "# tensorflow 구현\n",
    "# 1. X, y\n",
    "X = tf.placeholder(shape=[None, 3], dtype=tf.float32)\n",
    "y = tf.placeholder(shape=[None, 1], dtype=tf.float32)\n",
    "# 2. 독립변수 3개, 타겟변수 1개인 모델의 weight, bias 지정\n",
    "W = tf.Variable(tf.random.normal([3, 1]))\n",
    "b = tf.Variable(tf.random.normal([1]))\n",
    "# 3. Hypothesis\n",
    "# H = X@W + b\n",
    "H = tf.matmul(X, W) + b\n",
    "# 4. cost함수(손실함수) : mse\n",
    "cost = tf.reduce_mean(tf.square(H-y))\n",
    "# 5. train\n",
    "train = tf.train.GradientDescentOptimizer(learning_rate=1e-5).minimize(cost)\n",
    "# sess 객체 생성 & W, b 초기화\n",
    "sess = tf.Session()\n",
    "sess.run(tf.global_variables_initializer())\n",
    "# 6. 학습\n",
    "for step in range(1, 10001) : \n",
    "    _, cost_val = sess.run([train, cost], feed_dict={X:X_data,\n",
    "                                                     y:y_data})\n",
    "    if step%1000 == 0 :\n",
    "        print(\"{}번째 cost : {}\".format(step, cost_val))\n",
    "print(\"최종 cost:{}, W:{}, b:{}\".format(cost_val,\n",
    "                                      sess.run(W),\n",
    "                                      sess.run(b)))        "
   ]
  },
  {
   "cell_type": "code",
   "execution_count": 52,
   "id": "e658e207",
   "metadata": {},
   "outputs": [
    {
     "data": {
      "text/plain": [
       "array([[190. ,   7.4,  67. ,  41. ],\n",
       "       [118. ,   8. ,  72. ,  36. ],\n",
       "       [149. ,  12.6,  74. ,  12. ]])"
      ]
     },
     "execution_count": 52,
     "metadata": {},
     "output_type": "execute_result"
    }
   ],
   "source": [
    "np.column_stack([X_data,y_data])[:3]"
   ]
  },
  {
   "cell_type": "code",
   "execution_count": 56,
   "id": "d154fc01",
   "metadata": {},
   "outputs": [
    {
     "data": {
      "text/plain": [
       "array([[39.618496]], dtype=float32)"
      ]
     },
     "execution_count": 56,
     "metadata": {},
     "output_type": "execute_result"
    }
   ],
   "source": [
    "# 예측하기\n",
    "input_data = np.array([[118. ,   8. ,  72.]]) # 41\n",
    "sess.run(H, feed_dict={X:input_data})"
   ]
  },
  {
   "cell_type": "markdown",
   "id": "65b6963c",
   "metadata": {},
   "source": [
    "### 스케일 조정\n",
    "```\n",
    "- MinMaxScaler, StandardScaler<br>\n",
    "    0~1           -2 ~ 2, 주로 0근처\n",
    "```"
   ]
  },
  {
   "cell_type": "code",
   "execution_count": 66,
   "id": "5ba5a1b3",
   "metadata": {},
   "outputs": [
    {
     "data": {
      "text/plain": [
       "((153, 3), (153, 1))"
      ]
     },
     "execution_count": 66,
     "metadata": {},
     "output_type": "execute_result"
    }
   ],
   "source": [
    "from sklearn.preprocessing import MinMaxScaler\n",
    "x_scaler = MinMaxScaler()\n",
    "y_scaler = MinMaxScaler()\n",
    "scaled_X_data = x_scaler.fit_transform(X_data)\n",
    "scaled_y_data = y_scaler.fit_transform(y_data)\n",
    "scaled_X_data.shape, scaled_y_data.shape"
   ]
  },
  {
   "cell_type": "code",
   "execution_count": 67,
   "id": "d83479d4",
   "metadata": {},
   "outputs": [
    {
     "data": {
      "text/plain": [
       "array([[0.55963303, 0.3       , 0.26829268, 0.23952096],\n",
       "       [0.33944954, 0.33157895, 0.3902439 , 0.20958084]])"
      ]
     },
     "execution_count": 67,
     "metadata": {},
     "output_type": "execute_result"
    }
   ],
   "source": [
    "np.column_stack([scaled_X_data, scaled_y_data])[:2]"
   ]
  },
  {
   "cell_type": "code",
   "execution_count": 71,
   "id": "b8bfbeef",
   "metadata": {},
   "outputs": [
    {
     "name": "stdout",
     "output_type": "stream",
     "text": [
      "1000번째 cost : 1.7655103206634521\n",
      "2000번째 cost : 1.686294436454773\n",
      "3000번째 cost : 1.6124582290649414\n",
      "4000번째 cost : 1.5436649322509766\n",
      "5000번째 cost : 1.4795252084732056\n",
      "6000번째 cost : 1.4197369813919067\n",
      "7000번째 cost : 1.3639894723892212\n",
      "8000번째 cost : 1.3120055198669434\n",
      "9000번째 cost : 1.263529658317566\n",
      "10000번째 cost : 1.2183136940002441\n",
      "11000번째 cost : 1.176140546798706\n",
      "12000번째 cost : 1.1367909908294678\n",
      "13000번째 cost : 1.1000736951828003\n",
      "14000번째 cost : 1.0657970905303955\n",
      "15000번째 cost : 1.0338068008422852\n",
      "16000번째 cost : 1.0039308071136475\n",
      "17000번째 cost : 0.9760260581970215\n",
      "18000번째 cost : 0.9499698281288147\n",
      "19000번째 cost : 0.9256193041801453\n",
      "20000번째 cost : 0.9028571844100952\n",
      "21000번째 cost : 0.8815760612487793\n",
      "22000번째 cost : 0.861677885055542\n",
      "23000번째 cost : 0.8430643677711487\n",
      "24000번째 cost : 0.825645923614502\n",
      "25000번째 cost : 0.8093374967575073\n",
      "26000번째 cost : 0.7940662503242493\n",
      "27000번째 cost : 0.7797586917877197\n",
      "28000번째 cost : 0.7663465738296509\n",
      "29000번째 cost : 0.753776490688324\n",
      "30000번째 cost : 0.7419784069061279\n",
      "31000번째 cost : 0.7309074401855469\n",
      "32000번째 cost : 0.7205106616020203\n",
      "33000번째 cost : 0.7107402086257935\n",
      "34000번째 cost : 0.7015544176101685\n",
      "35000번째 cost : 0.6929150223731995\n",
      "36000번째 cost : 0.6847788095474243\n",
      "37000번째 cost : 0.6771178841590881\n",
      "38000번째 cost : 0.6698940396308899\n",
      "39000번째 cost : 0.6630789637565613\n",
      "40000번째 cost : 0.6566483378410339\n",
      "41000번째 cost : 0.6505690217018127\n",
      "42000번째 cost : 0.6448186039924622\n",
      "43000번째 cost : 0.6393815875053406\n",
      "44000번째 cost : 0.6342304944992065\n",
      "45000번째 cost : 0.6293401718139648\n",
      "46000번째 cost : 0.6247009634971619\n",
      "47000번째 cost : 0.6203024983406067\n",
      "48000번째 cost : 0.6161110997200012\n",
      "49000번째 cost : 0.6121177673339844\n",
      "50000번째 cost : 0.6083157658576965\n",
      "51000번째 cost : 0.6046937704086304\n",
      "52000번째 cost : 0.601241946220398\n",
      "53000번째 cost : 0.5979192852973938\n",
      "54000번째 cost : 0.5947432518005371\n",
      "55000번째 cost : 0.591704785823822\n",
      "56000번째 cost : 0.5887956023216248\n",
      "57000번째 cost : 0.5860095024108887\n",
      "58000번째 cost : 0.5833086371421814\n",
      "59000번째 cost : 0.5807032585144043\n",
      "60000번째 cost : 0.5781980752944946\n",
      "최종 cost:0.5781980752944946, W:[[-0.86826676]\n",
      " [ 3.0382543 ]\n",
      " [-0.13361523]], b:[-0.6347656]\n"
     ]
    }
   ],
   "source": [
    "# tensorflow 구현\n",
    "# 1. X, y\n",
    "X = tf.placeholder(shape=[None, 3], dtype=tf.float32)\n",
    "y = tf.placeholder(shape=[None, 1], dtype=tf.float32)\n",
    "# 2. 독립변수 3개, 타겟변수 1개인 모델의 weight, bias 지정\n",
    "W = tf.Variable(tf.random.normal([3, 1]))\n",
    "b = tf.Variable(tf.random.normal([1]))\n",
    "# 3. Hypothesis\n",
    "# H = X@W + b\n",
    "H = tf.matmul(X, W) + b\n",
    "# 4. cost함수(손실함수) : mse\n",
    "cost = tf.reduce_mean(tf.square(H-y))\n",
    "# 5. train\n",
    "train = tf.train.GradientDescentOptimizer(learning_rate=1e-5).minimize(cost)\n",
    "# sess 객체 생성 & W, b 초기화\n",
    "sess = tf.Session()\n",
    "sess.run(tf.global_variables_initializer())\n",
    "# 6. 학습\n",
    "for step in range(1, 60001) : \n",
    "    _, cost_val = sess.run([train, cost], feed_dict={X:scaled_X_data,\n",
    "                                                     y:scaled_y_data})\n",
    "    if step%1000 == 0 :\n",
    "        print(\"{}번째 cost : {}\".format(step, cost_val))\n",
    "print(\"최종 cost:{}, W:{}, b:{}\".format(cost_val,\n",
    "                                      sess.run(W),\n",
    "                                      sess.run(b)))        "
   ]
  },
  {
   "cell_type": "code",
   "execution_count": 79,
   "id": "bb1f8924",
   "metadata": {},
   "outputs": [
    {
     "data": {
      "text/plain": [
       "array([[113.312]], dtype=float32)"
      ]
     },
     "execution_count": 79,
     "metadata": {},
     "output_type": "execute_result"
    }
   ],
   "source": [
    "# 예측하기\n",
    "input_data = np.array([[149. ,  12.6,  74.]])\n",
    "scaled_y_hat = sess.run(H, feed_dict={X:x_scaler.transform(input_data)})\n",
    "y_scaler.inverse_transform(scaled_y_hat)"
   ]
  },
  {
   "cell_type": "markdown",
   "id": "47e4593d",
   "metadata": {},
   "source": [
    "# 3. 이진분류 = logistic Regression(분류분석)\n",
    "- logistic 회귀분석 : 기존의 회귀분석과 다른 처리 필요"
   ]
  },
  {
   "cell_type": "code",
   "execution_count": 80,
   "id": "38515e32",
   "metadata": {},
   "outputs": [
    {
     "data": {
      "text/plain": [
       "<matplotlib.collections.PathCollection at 0x1ea4c8b3520>"
      ]
     },
     "execution_count": 80,
     "metadata": {},
     "output_type": "execute_result"
    },
    {
     "data": {
      "image/png": "[encoded data removed]",
      "text/plain": [
       "<Figure size 640x480 with 1 Axes>"
      ]
     },
     "metadata": {},
     "output_type": "display_data"
    }
   ],
   "source": [
    "x = np.array([1,2,5,8,10])\n",
    "y = np.array([0,0,0,1,1]) # 실제값\n",
    "from scipy import stats\n",
    "lm = stats.linregress(x, y) # 기울기(W)와 y절편(b)\n",
    "H = lm[0]*x + lm[1]\n",
    "import matplotlib.pyplot as plt\n",
    "plt.plot(x, H, 'r')\n",
    "plt.scatter(x, y)"
   ]
  },
  {
   "cell_type": "code",
   "execution_count": 81,
   "id": "00821827",
   "metadata": {},
   "outputs": [
    {
     "name": "stdout",
     "output_type": "stream",
     "text": [
      "800번째 cost : 0.35580867528915405 \n",
      "1600번째 cost : 0.3097791075706482 \n",
      "2400번째 cost : 0.2811558246612549 \n",
      "3200번째 cost : 0.26122021675109863 \n",
      "4000번째 cost : 0.24628256261348724 \n",
      "4800번째 cost : 0.23447854816913605 \n",
      "5600번째 cost : 0.22477330267429352 \n",
      "6400번째 cost : 0.21654854714870453 \n",
      "7200번째 cost : 0.20941242575645447 \n",
      "8000번째 cost : 0.20310458540916443 \n"
     ]
    }
   ],
   "source": [
    "# 교안 50p\n",
    "import numpy as np\n",
    "X_data = np.array([[10,0],\n",
    "                   [8,1],\n",
    "                   [3,3],\n",
    "                   [2,3],\n",
    "                   [5,1],\n",
    "                   [2,0],\n",
    "                   [1,0]])\n",
    "y_data = np.array([[1],[1],[1],[1],[0],[0],[0]])\n",
    "# tensorflow 구현 (tensor 그래프)\n",
    "X = tf.placeholder(shape=[None, 2], dtype=tf.float32)\n",
    "y = tf.placeholder(shape=[None, 1], dtype=tf.float32)\n",
    "# 독립변수가 2개, 종속변수가 1개의 weight, bias\n",
    "W = tf.Variable(tf.random.normal([2, 1]))\n",
    "b = tf.Variable(tf.random.normal([1]))\n",
    "# Hypothesis\n",
    "logits = tf.matmul(X, W) + b\n",
    "H      = tf.sigmoid(logits)\n",
    "# cost 함수\n",
    "# cost = tf.reduce_mean(tf.square(H-y))\n",
    "cost = tf.reduce_mean(tf.nn.sigmoid_cross_entropy_with_logits(logits=logits,\n",
    "                                                             labels=y))\n",
    "# train\n",
    "train = tf.train.GradientDescentOptimizer(learning_rate=0.01).minimize(cost)\n",
    "# sess 객체 생성\n",
    "sess = tf.Session()\n",
    "sess.run(tf.global_variables_initializer())\n",
    "# 학습\n",
    "for step in range(1, 8001) :\n",
    "    _, cost_val = sess.run([train, cost], feed_dict={X:X_data,\n",
    "                                                     y:y_data})\n",
    "    if step%800 == 0 :\n",
    "        print(\"{}번째 cost : {} \".format(step, cost_val))"
   ]
  },
  {
   "cell_type": "code",
   "execution_count": 83,
   "id": "6fd9a334",
   "metadata": {},
   "outputs": [
    {
     "data": {
      "text/plain": [
       "array([[1.]], dtype=float32)"
      ]
     },
     "execution_count": 83,
     "metadata": {},
     "output_type": "execute_result"
    }
   ],
   "source": [
    "# 모델 사용\n",
    "input_data = np.array([[10,0]])\n",
    "predict = tf.cast(H>=0.5, dtype=tf.float32)\n",
    "sess.run(predict, feed_dict={X:input_data})"
   ]
  },
  {
   "cell_type": "code",
   "execution_count": 85,
   "id": "f099b555",
   "metadata": {},
   "outputs": [
    {
     "name": "stdout",
     "output_type": "stream",
     "text": [
      "모델 정확도 :  0.85714287\n"
     ]
    }
   ],
   "source": [
    "# accuracy\n",
    "correct = tf.equal(predict, y)\n",
    "sess.run(correct, feed_dict={X:X_data,\n",
    "                             y:y_data})\n",
    "accuracy = tf.reduce_mean(tf.cast(correct, dtype=tf.float32))\n",
    "print('모델 정확도 : ',sess.run(accuracy, feed_dict={X:X_data,\n",
    "                                                   y:y_data}))"
   ]
  },
  {
   "cell_type": "markdown",
   "id": "233b3869",
   "metadata": {},
   "source": [
    "# 4. XOR"
   ]
  },
  {
   "cell_type": "code",
   "execution_count": 94,
   "id": "8c8029bd",
   "metadata": {},
   "outputs": [
    {
     "name": "stdout",
     "output_type": "stream",
     "text": [
      "1000번째 cost:0.7304019331932068\n",
      "2000번째 cost:0.7063995599746704\n",
      "3000번째 cost:0.698081910610199\n",
      "4000번째 cost:0.6950706243515015\n",
      "5000번째 cost:0.6939296722412109\n",
      "6000번째 cost:0.6934768557548523\n",
      "7000번째 cost:0.6932896375656128\n",
      "8000번째 cost:0.6932099461555481\n",
      "9000번째 cost:0.6931751370429993\n",
      "10000번째 cost:0.693159818649292\n",
      "11000번째 cost:0.693152904510498\n",
      "12000번째 cost:0.693149745464325\n",
      "13000번째 cost:0.6931483745574951\n",
      "14000번째 cost:0.6931477785110474\n",
      "15000번째 cost:0.6931474208831787\n",
      "16000번째 cost:0.6931473016738892\n",
      "17000번째 cost:0.6931471824645996\n",
      "18000번째 cost:0.6931471824645996\n",
      "19000번째 cost:0.6931471824645996\n",
      "20000번째 cost:0.6931471824645996\n"
     ]
    }
   ],
   "source": [
    "X_data = np.array([[0,0],\n",
    "                   [0,1],\n",
    "                   [1,0],\n",
    "                   [1,1]])\n",
    "y_data = np.array([[0],[1],[1],[0]])\n",
    "# X, y\n",
    "X = tf.placeholder(shape=[None,2], dtype=tf.float32)\n",
    "y = tf.placeholder(shape=[None,1], dtype=tf.float32)\n",
    "# 독립변수가 2개, 종속변수가 1개 W, b\n",
    "W = tf.Variable(tf.random.normal([2,1]))\n",
    "b = tf.Variable(tf.random.normal([1]))\n",
    "# H\n",
    "logits = tf.matmul(X, W) + b\n",
    "H      = tf.sigmoid(logits)\n",
    "# cost\n",
    "cost = tf.reduce_mean(tf.nn.sigmoid_cross_entropy_with_logits(logits=logits,\n",
    "                                                              labels=y))\n",
    "# train\n",
    "train = tf.train.GradientDescentOptimizer(learning_rate=0.01).minimize(cost)\n",
    "# sess 객체 생성\n",
    "sess = tf.Session()\n",
    "sess.run(tf.global_variables_initializer())\n",
    "# 학습\n",
    "for step in range(1, 20001) :\n",
    "    _, cost_val = sess.run([train, cost], feed_dict={X:X_data,\n",
    "                                                     y:y_data})\n",
    "    if step%1000==0 :\n",
    "        print(\"{}번째 cost:{}\".format(step,cost_val))"
   ]
  },
  {
   "cell_type": "code",
   "execution_count": 95,
   "id": "528bf0d4",
   "metadata": {},
   "outputs": [
    {
     "name": "stdout",
     "output_type": "stream",
     "text": [
      "모델 정확도 :  0.75\n"
     ]
    }
   ],
   "source": [
    "# accuracy\n",
    "predict = tf.cast(H>=0.5, dtype=tf.float32)\n",
    "correct = tf.equal(predict, y)\n",
    "sess.run(correct, feed_dict={X:X_data,\n",
    "                             y:y_data})\n",
    "accuracy = tf.reduce_mean(tf.cast(correct, dtype=tf.float32))\n",
    "print('모델 정확도 : ',sess.run(accuracy, feed_dict={X:X_data,\n",
    "                                                   y:y_data}))"
   ]
  },
  {
   "cell_type": "markdown",
   "id": "7a842215",
   "metadata": {},
   "source": [
    "# 5. Deep Learning XOR 예제"
   ]
  },
  {
   "cell_type": "code",
   "execution_count": 99,
   "id": "6d3846f5",
   "metadata": {},
   "outputs": [
    {
     "name": "stdout",
     "output_type": "stream",
     "text": [
      "1000번째 cost:0.5217011570930481\n",
      "2000번째 cost:0.37308043241500854\n",
      "3000번째 cost:0.23528286814689636\n",
      "4000번째 cost:0.1611735224723816\n",
      "5000번째 cost:0.11577004194259644\n",
      "6000번째 cost:0.08725269138813019\n",
      "7000번째 cost:0.06850939244031906\n",
      "8000번째 cost:0.05560314655303955\n",
      "9000번째 cost:0.04633837938308716\n",
      "10000번째 cost:0.03945792466402054\n",
      "11000번째 cost:0.034191593527793884\n",
      "12000번째 cost:0.030057262629270554\n",
      "13000번째 cost:0.026735976338386536\n",
      "14000번째 cost:0.02402288094162941\n",
      "15000번째 cost:0.02176915854215622\n",
      "16000번째 cost:0.019874559715390205\n",
      "17000번째 cost:0.01825851760804653\n",
      "18000번째 cost:0.016870100051164627\n",
      "19000번째 cost:0.015663571655750275\n",
      "20000번째 cost:0.014608711935579777\n"
     ]
    }
   ],
   "source": [
    "X_data = np.array([[0,0],\n",
    "                   [0,1],\n",
    "                   [1,0],\n",
    "                   [1,1]])\n",
    "y_data = np.array([[0],[1],[1],[0]])\n",
    "# X, y\n",
    "X = tf.placeholder(shape=[None,2], dtype=tf.float32)\n",
    "y = tf.placeholder(shape=[None,1], dtype=tf.float32)\n",
    "# Layer1 : (입력2, 출력4)\n",
    "W = tf.Variable(tf.random.normal([2,4]))\n",
    "b = tf.Variable(tf.random.normal([4]))\n",
    "# H\n",
    "layer1 = tf.nn.relu(tf.matmul(X, W) + b)\n",
    "\n",
    "# layer2 : (입력4, 출력)\n",
    "W2 = tf.Variable(tf.random.normal([4,1]))\n",
    "b2 = tf.Variable(tf.random.normal([1]))\n",
    "# H\n",
    "logits = tf.matmul(layer1, W2) + b2\n",
    "H      = tf.sigmoid(logits)\n",
    "\n",
    "# cost\n",
    "cost = tf.reduce_mean(tf.nn.sigmoid_cross_entropy_with_logits(logits=logits,\n",
    "                                                              labels=y))\n",
    "# train\n",
    "train = tf.train.GradientDescentOptimizer(learning_rate=0.01).minimize(cost)\n",
    "# sess 객체 생성\n",
    "sess = tf.Session()\n",
    "sess.run(tf.global_variables_initializer())\n",
    "# 학습\n",
    "for step in range(1, 20001) :\n",
    "    _, cost_val = sess.run([train, cost], feed_dict={X:X_data,\n",
    "                                                     y:y_data})\n",
    "    if step%1000==0 :\n",
    "        print(\"{}번째 cost:{}\".format(step,cost_val))"
   ]
  },
  {
   "cell_type": "code",
   "execution_count": 100,
   "id": "381267d3",
   "metadata": {},
   "outputs": [
    {
     "name": "stdout",
     "output_type": "stream",
     "text": [
      "모델 정확도 :  1.0\n"
     ]
    }
   ],
   "source": [
    "# accuracy\n",
    "predict = tf.cast(H>=0.5, dtype=tf.float32)\n",
    "correct = tf.equal(predict, y)\n",
    "sess.run(correct, feed_dict={X:X_data,\n",
    "                             y:y_data})\n",
    "accuracy = tf.reduce_mean(tf.cast(correct, dtype=tf.float32))\n",
    "print('모델 정확도 : ',sess.run(accuracy, feed_dict={X:X_data,\n",
    "                                                   y:y_data}))"
   ]
  },
  {
   "cell_type": "markdown",
   "id": "5b7ad275",
   "metadata": {},
   "source": [
    "## layer x_data 2개 => 4 => 1을\n",
    "## layer x_data 2개 -> 10 -> 20 -> 10 -> 1\n",
    "                       입력층  hidden layer(relu)  출력층(sigmoid)"
   ]
  },
  {
   "cell_type": "code",
   "execution_count": 109,
   "id": "ce42bc1a",
   "metadata": {},
   "outputs": [
    {
     "name": "stdout",
     "output_type": "stream",
     "text": [
      "10번째 cost:0.5328382849693298\n",
      "20번째 cost:0.23459483683109283\n"
     ]
    }
   ],
   "source": [
    "X_data = np.array([[0,0],\n",
    "                   [0,1],\n",
    "                   [1,0],\n",
    "                   [1,1]])\n",
    "y_data = np.array([[0],[1],[1],[0]])\n",
    "# X, y\n",
    "X = tf.placeholder(shape=[None,2], dtype=tf.float32)\n",
    "y = tf.placeholder(shape=[None,1], dtype=tf.float32)\n",
    "\n",
    "# Layer1 : (입력2, 출력10)\n",
    "W = tf.Variable(tf.random.normal([2,10]))\n",
    "b = tf.Variable(tf.random.normal([10]))\n",
    "# H\n",
    "layer1 = tf.nn.relu(tf.matmul(X, W) + b)\n",
    "\n",
    "# layer2 : (입력10, 출력20)\n",
    "W2 = tf.Variable(tf.random.normal([10, 20]))\n",
    "b2 = tf.Variable(tf.random.normal([20]))\n",
    "# H\n",
    "layer2 = tf.nn.relu(tf.matmul(layer1, W2) + b2)\n",
    "\n",
    "# layer3 : (입력20, 출력10)\n",
    "W3 = tf.Variable(tf.random.normal([20, 10]))\n",
    "b3 = tf.Variable(tf.random.normal([10]))\n",
    "# H\n",
    "layer3 = tf.nn.relu(tf.matmul(layer2, W3) + b3)\n",
    "\n",
    "# layer4 : (입력10, 출력 1)\n",
    "W4 = tf.Variable(tf.random.normal([10,1]))\n",
    "b4 = tf.Variable(tf.random.normal([1]))\n",
    "# H\n",
    "logits = tf.matmul(layer3, W4) + b4\n",
    "H      = tf.sigmoid(logits)\n",
    "\n",
    "# cost\n",
    "cost = tf.reduce_mean(tf.nn.sigmoid_cross_entropy_with_logits(logits=logits,\n",
    "                                                              labels=y))\n",
    "# train\n",
    "train = tf.train.GradientDescentOptimizer(learning_rate=0.01).minimize(cost)\n",
    "# sess 객체 생성\n",
    "sess = tf.Session()\n",
    "sess.run(tf.global_variables_initializer())\n",
    "# 학습\n",
    "for step in range(1, 21) :\n",
    "    _, cost_val = sess.run([train, cost], feed_dict={X:X_data,\n",
    "                                                     y:y_data})\n",
    "    if step%10==0 :\n",
    "        print(\"{}번째 cost:{}\".format(step,cost_val))"
   ]
  },
  {
   "cell_type": "code",
   "execution_count": 110,
   "id": "7640a7b7",
   "metadata": {},
   "outputs": [
    {
     "name": "stdout",
     "output_type": "stream",
     "text": [
      "모델 정확도 :  1.0\n"
     ]
    }
   ],
   "source": [
    "# accuracy\n",
    "predict = tf.cast(H>=0.5, dtype=tf.float32)\n",
    "correct = tf.equal(predict, y)\n",
    "sess.run(correct, feed_dict={X:X_data,\n",
    "                             y:y_data})\n",
    "accuracy = tf.reduce_mean(tf.cast(correct, dtype=tf.float32))\n",
    "print('모델 정확도 : ',sess.run(accuracy, feed_dict={X:X_data,\n",
    "                                                   y:y_data}))"
   ]
  },
  {
   "cell_type": "code",
   "execution_count": null,
   "id": "beffe373",
   "metadata": {},
   "outputs": [],
   "source": []
  },
  {
   "cell_type": "code",
   "execution_count": null,
   "id": "cc3c34a3",
   "metadata": {},
   "outputs": [],
   "source": []
  },
  {
   "cell_type": "code",
   "execution_count": null,
   "id": "e9b5b04a",
   "metadata": {},
   "outputs": [],
   "source": []
  },
  {
   "cell_type": "code",
   "execution_count": null,
   "id": "f972af6c",
   "metadata": {},
   "outputs": [],
   "source": []
  },
  {
   "cell_type": "code",
   "execution_count": null,
   "id": "0f56c36c",
   "metadata": {},
   "outputs": [],
   "source": []
  },
  {
   "cell_type": "code",
   "execution_count": null,
   "id": "361b2391",
   "metadata": {},
   "outputs": [],
   "source": []
  },
  {
   "cell_type": "code",
   "execution_count": null,
   "id": "82a5c589",
   "metadata": {},
   "outputs": [],
   "source": []
  },
  {
   "cell_type": "code",
   "execution_count": null,
   "id": "9798b2c2",
   "metadata": {},
   "outputs": [],
   "source": []
  },
  {
   "cell_type": "code",
   "execution_count": null,
   "id": "6ca864f7",
   "metadata": {},
   "outputs": [],
   "source": []
  },
  {
   "cell_type": "code",
   "execution_count": null,
   "id": "ff144448",
   "metadata": {},
   "outputs": [],
   "source": []
  },
  {
   "cell_type": "code",
   "execution_count": null,
   "id": "04759b1a",
   "metadata": {},
   "outputs": [],
   "source": []
  },
  {
   "cell_type": "code",
   "execution_count": null,
   "id": "fb146cbc",
   "metadata": {},
   "outputs": [],
   "source": []
  },
  {
   "cell_type": "code",
   "execution_count": null,
   "id": "da948ab3",
   "metadata": {},
   "outputs": [],
   "source": []
  },
  {
   "cell_type": "code",
   "execution_count": null,
   "id": "6514e15f",
   "metadata": {},
   "outputs": [],
   "source": []
  },
  {
   "cell_type": "code",
   "execution_count": null,
   "id": "00b0d1f2",
   "metadata": {},
   "outputs": [],
   "source": []
  },
  {
   "cell_type": "code",
   "execution_count": null,
   "id": "09a52bee",
   "metadata": {},
   "outputs": [],
   "source": []
  },
  {
   "cell_type": "code",
   "execution_count": null,
   "id": "11da9dd0",
   "metadata": {},
   "outputs": [],
   "source": []
  },
  {
   "cell_type": "code",
   "execution_count": null,
   "id": "7bf4b616",
   "metadata": {},
   "outputs": [],
   "source": []
  },
  {
   "cell_type": "code",
   "execution_count": null,
   "id": "22644ec9",
   "metadata": {},
   "outputs": [],
   "source": []
  },
  {
   "cell_type": "code",
   "execution_count": null,
   "id": "1590cf13",
   "metadata": {},
   "outputs": [],
   "source": []
  },
  {
   "cell_type": "code",
   "execution_count": null,
   "id": "96fcae36",
   "metadata": {},
   "outputs": [],
   "source": []
  },
  {
   "cell_type": "code",
   "execution_count": null,
   "id": "8f1d4044",
   "metadata": {},
   "outputs": [],
   "source": []
  },
  {
   "cell_type": "code",
   "execution_count": null,
   "id": "c0ac8cac",
   "metadata": {},
   "outputs": [],
   "source": []
  },
  {
   "cell_type": "code",
   "execution_count": null,
   "id": "ddaec432",
   "metadata": {},
   "outputs": [],
   "source": []
  },
  {
   "cell_type": "code",
   "execution_count": null,
   "id": "8b936c35",
   "metadata": {},
   "outputs": [],
   "source": []
  },
  {
   "cell_type": "code",
   "execution_count": null,
   "id": "d920a9d6",
   "metadata": {},
   "outputs": [],
   "source": []
  },
  {
   "cell_type": "code",
   "execution_count": null,
   "id": "a876b749",
   "metadata": {},
   "outputs": [],
   "source": []
  }
 ],
 "metadata": {
  "kernelspec": {
   "display_name": "ml-dl-nlp",
   "language": "python",
   "name": "ml-dl-nlp"
  },
  "language_info": {
   "codemirror_mode": {
    "name": "ipython",
    "version": 3
   },
   "file_extension": ".py",
   "mimetype": "text/x-python",
   "name": "python",
   "nbconvert_exporter": "python",
   "pygments_lexer": "ipython3",
   "version": "3.10.18"
  },
  "toc": {
   "base_numbering": 1,
   "nav_menu": {},
   "number_sections": false,
   "sideBar": true,
   "skip_h1_title": false,
   "title_cell": "Table of Contents",
   "title_sidebar": "Contents",
   "toc_cell": false,
   "toc_position": {
    "height": "calc(100% - 180px)",
    "left": "10px",
    "top": "150px",
    "width": "278.55px"
   },
   "toc_section_display": true,
   "toc_window_display": true
  }
 },
 "nbformat": 4,
 "nbformat_minor": 5
}
