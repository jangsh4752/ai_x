{
 "cells": [
  {
   "cell_type": "code",
   "execution_count": 1,
   "id": "356e1821",
   "metadata": {},
   "outputs": [
    {
     "data": {
      "text/html": [
       "\n",
       "<style>\n",
       "div.container{width:86% !important;}\n",
       "div.cell.code_cell.rendered{width:100%;}\n",
       "div.CodeMirror {font-family:Consolas; font-size:12pt;}\n",
       "div.output {font-size:15pt; font-weight:bold;}\n",
       "div.input {font-family:Consolas; font-size:12pt;}\n",
       "div.prompt {min-width:70px;}\n",
       "div#toc-wrapper{padding-top:120px;}\n",
       "div.text_cell_render ul li{font-size:12pt;padding:5px;}\n",
       "table.dataframe{font-size:15px;}\n",
       "</style>\n"
      ],
      "text/plain": [
       "<IPython.core.display.HTML object>"
      ]
     },
     "metadata": {},
     "output_type": "display_data"
    }
   ],
   "source": [
    "from IPython.display import display, HTML\n",
    "display(HTML(\"\"\"\n",
    "<style>\n",
    "div.container{width:86% !important;}\n",
    "div.cell.code_cell.rendered{width:100%;}\n",
    "div.CodeMirror {font-family:Consolas; font-size:12pt;}\n",
    "div.output {font-size:15pt; font-weight:bold;}\n",
    "div.input {font-family:Consolas; font-size:12pt;}\n",
    "div.prompt {min-width:70px;}\n",
    "div#toc-wrapper{padding-top:120px;}\n",
    "div.text_cell_render ul li{font-size:12pt;padding:5px;}\n",
    "table.dataframe{font-size:15px;}\n",
    "</style>\n",
    "\"\"\"))"
   ]
  },
  {
   "cell_type": "code",
   "execution_count": 36,
   "id": "149fcabb",
   "metadata": {},
   "outputs": [],
   "source": [
    "import pandas as pd\n",
    "import numpy as np\n",
    "from sklearn.model_selection import train_test_split\n",
    "from sklearn.preprocessing import StandardScaler\n",
    "from tensorflow.keras.utils import to_categorical\n",
    "from tensorflow.keras.models import Sequential\n",
    "from tensorflow.keras.layers import Dense, Input, Dropout\n",
    "from tensorflow.keras.callbacks import EarlyStopping, ModelCheckpoint\n",
    "from sklearn.metrics import confusion_matrix, ConfusionMatrixDisplay\n",
    "import matplotlib.pyplot as plt\n",
    "from sklearn.preprocessing import LabelEncoder"
   ]
  },
  {
   "cell_type": "markdown",
   "id": "64f6d2ed",
   "metadata": {},
   "source": [
    "- Red Wine 등급 예측\n",
    "1. 데이터 셋 확보<br>\n",
    "    csv -> 결측치 처리 -> 독립변수와 타겟변수 분리 -> 독립변수 스케일 조정<br>\n",
    "    -> 타겟 변수 원핫인코딩 -> 훈련셋과 테스트셋 분리(train_test_split 이용 층화추출)<br>\n",
    "2. 모델 구성(입력11, 출력 6| 출력9) layer층 4\n",
    "3. 모델 학습 과정 설정\n",
    "4. 모델학습(callbacks이용)\n",
    "5. 모델 평가(그래프, 평가, 교차표)\n",
    "6. 모델 저장 & 사용"
   ]
  },
  {
   "cell_type": "markdown",
   "id": "f33f5bd5",
   "metadata": {},
   "source": [
    "# 1. 데이터 확보 & 전처리"
   ]
  },
  {
   "cell_type": "code",
   "execution_count": 37,
   "id": "39c9ba71",
   "metadata": {},
   "outputs": [
    {
     "data": {
      "text/plain": [
       "5    681\n",
       "6    638\n",
       "7    199\n",
       "4     53\n",
       "8     18\n",
       "3     10\n",
       "Name: quality, dtype: int64"
      ]
     },
     "execution_count": 37,
     "metadata": {},
     "output_type": "execute_result"
    }
   ],
   "source": [
    "# 데이터 읽어오기\n",
    "# fixed acidity : 고정 산도\n",
    "# volatile acidity : 휘발성 산도\n",
    "# citric acid : 시트르산\n",
    "# residual sugar : 잔류 당분\n",
    "# chlorides : 염화물\n",
    "# free sulfur dioxide : 자유 이산화황\n",
    "# total sulfur dioxide : 총 이산화황\n",
    "# density : 밀도\n",
    "# pH\n",
    "# sulphates : 황산염\n",
    "# alcohol\n",
    "# quality : 0 ~ 10(높을 수록 좋은 품질)\n",
    "redwine = pd.read_csv('data/winequality-red.csv', sep=';')\n",
    "redwine['quality'].value_counts()"
   ]
  },
  {
   "cell_type": "code",
   "execution_count": 38,
   "id": "3d825158",
   "metadata": {},
   "outputs": [
    {
     "name": "stdout",
     "output_type": "stream",
     "text": [
      "<class 'pandas.core.frame.DataFrame'>\n",
      "RangeIndex: 1599 entries, 0 to 1598\n",
      "Data columns (total 12 columns):\n",
      " #   Column                Non-Null Count  Dtype  \n",
      "---  ------                --------------  -----  \n",
      " 0   fixed acidity         1599 non-null   float64\n",
      " 1   volatile acidity      1599 non-null   float64\n",
      " 2   citric acid           1599 non-null   float64\n",
      " 3   residual sugar        1599 non-null   float64\n",
      " 4   chlorides             1599 non-null   float64\n",
      " 5   free sulfur dioxide   1599 non-null   float64\n",
      " 6   total sulfur dioxide  1599 non-null   float64\n",
      " 7   density               1599 non-null   float64\n",
      " 8   pH                    1599 non-null   float64\n",
      " 9   sulphates             1599 non-null   float64\n",
      " 10  alcohol               1599 non-null   float64\n",
      " 11  quality               1599 non-null   int64  \n",
      "dtypes: float64(11), int64(1)\n",
      "memory usage: 150.0 KB\n"
     ]
    },
    {
     "data": {
      "text/plain": [
       "(1599, 12)"
      ]
     },
     "execution_count": 38,
     "metadata": {},
     "output_type": "execute_result"
    }
   ],
   "source": [
    "redwine.info()\n",
    "redwine.shape"
   ]
  },
  {
   "cell_type": "code",
   "execution_count": 42,
   "id": "160c7a76",
   "metadata": {},
   "outputs": [
    {
     "name": "stdout",
     "output_type": "stream",
     "text": [
      "Epoch 1/100\n",
      "23/32 [====================>.........] - ETA: 0s - loss: 1.5385 - accuracy: 0.4253 \n",
      "Epoch 1: val_loss improved from inf to 1.13652, saving model to best_model.h5\n",
      "32/32 [==============================] - 1s 9ms/step - loss: 1.4496 - accuracy: 0.4585 - val_loss: 1.1365 - val_accuracy: 0.5547\n",
      "Epoch 2/100\n",
      "22/32 [===================>..........] - ETA: 0s - loss: 1.1872 - accuracy: 0.5142\n",
      "Epoch 2: val_loss improved from 1.13652 to 1.05254, saving model to best_model.h5\n",
      "32/32 [==============================] - 0s 5ms/step - loss: 1.1377 - accuracy: 0.5337 - val_loss: 1.0525 - val_accuracy: 0.5703\n",
      "Epoch 3/100\n",
      "22/32 [===================>..........] - ETA: 0s - loss: 1.0320 - accuracy: 0.5966\n",
      "Epoch 3: val_loss improved from 1.05254 to 1.01745, saving model to best_model.h5\n",
      "32/32 [==============================] - 0s 5ms/step - loss: 1.0511 - accuracy: 0.5748 - val_loss: 1.0174 - val_accuracy: 0.5859\n",
      "Epoch 4/100\n",
      "23/32 [====================>.........] - ETA: 0s - loss: 0.9636 - accuracy: 0.6114\n",
      "Epoch 4: val_loss did not improve from 1.01745\n",
      "32/32 [==============================] - 0s 4ms/step - loss: 0.9996 - accuracy: 0.5963 - val_loss: 1.0201 - val_accuracy: 0.5859\n",
      "Epoch 5/100\n",
      "24/32 [=====================>........] - ETA: 0s - loss: 1.0095 - accuracy: 0.5872\n",
      "Epoch 5: val_loss improved from 1.01745 to 1.01429, saving model to best_model.h5\n",
      "32/32 [==============================] - 0s 5ms/step - loss: 1.0085 - accuracy: 0.5777 - val_loss: 1.0143 - val_accuracy: 0.6016\n",
      "Epoch 6/100\n",
      "21/32 [==================>...........] - ETA: 0s - loss: 0.9899 - accuracy: 0.6057\n",
      "Epoch 6: val_loss improved from 1.01429 to 1.00155, saving model to best_model.h5\n",
      "32/32 [==============================] - 0s 5ms/step - loss: 0.9731 - accuracy: 0.6012 - val_loss: 1.0016 - val_accuracy: 0.5742\n",
      "Epoch 7/100\n",
      "21/32 [==================>...........] - ETA: 0s - loss: 0.9572 - accuracy: 0.6176\n",
      "Epoch 7: val_loss improved from 1.00155 to 1.00007, saving model to best_model.h5\n",
      "32/32 [==============================] - 0s 5ms/step - loss: 0.9519 - accuracy: 0.6109 - val_loss: 1.0001 - val_accuracy: 0.5664\n",
      "Epoch 8/100\n",
      "23/32 [====================>.........] - ETA: 0s - loss: 0.9433 - accuracy: 0.6033\n",
      "Epoch 8: val_loss improved from 1.00007 to 0.99063, saving model to best_model.h5\n",
      "32/32 [==============================] - 0s 5ms/step - loss: 0.9320 - accuracy: 0.6109 - val_loss: 0.9906 - val_accuracy: 0.5938\n",
      "Epoch 9/100\n",
      "22/32 [===================>..........] - ETA: 0s - loss: 0.9196 - accuracy: 0.5994\n",
      "Epoch 9: val_loss did not improve from 0.99063\n",
      "32/32 [==============================] - 0s 3ms/step - loss: 0.9127 - accuracy: 0.6100 - val_loss: 0.9915 - val_accuracy: 0.5820\n",
      "Epoch 10/100\n",
      "21/32 [==================>...........] - ETA: 0s - loss: 0.9105 - accuracy: 0.6220\n",
      "Epoch 10: val_loss improved from 0.99063 to 0.98880, saving model to best_model.h5\n",
      "32/32 [==============================] - 0s 5ms/step - loss: 0.9336 - accuracy: 0.6139 - val_loss: 0.9888 - val_accuracy: 0.6172\n",
      "Epoch 11/100\n",
      "19/32 [================>.............] - ETA: 0s - loss: 0.9013 - accuracy: 0.6151\n",
      "Epoch 11: val_loss did not improve from 0.98880\n",
      "32/32 [==============================] - 0s 4ms/step - loss: 0.9230 - accuracy: 0.6090 - val_loss: 0.9915 - val_accuracy: 0.5859\n",
      "Epoch 12/100\n",
      "22/32 [===================>..........] - ETA: 0s - loss: 0.8744 - accuracy: 0.6207\n",
      "Epoch 12: val_loss improved from 0.98880 to 0.98287, saving model to best_model.h5\n",
      "32/32 [==============================] - 0s 5ms/step - loss: 0.8998 - accuracy: 0.6158 - val_loss: 0.9829 - val_accuracy: 0.6055\n",
      "Epoch 13/100\n",
      "22/32 [===================>..........] - ETA: 0s - loss: 0.8819 - accuracy: 0.5923\n",
      "Epoch 13: val_loss did not improve from 0.98287\n",
      "32/32 [==============================] - 0s 3ms/step - loss: 0.8984 - accuracy: 0.6051 - val_loss: 0.9863 - val_accuracy: 0.6055\n",
      "Epoch 14/100\n",
      "21/32 [==================>...........] - ETA: 0s - loss: 0.8849 - accuracy: 0.6012\n",
      "Epoch 14: val_loss did not improve from 0.98287\n",
      "32/32 [==============================] - 0s 4ms/step - loss: 0.8840 - accuracy: 0.5963 - val_loss: 0.9911 - val_accuracy: 0.5820\n",
      "Epoch 15/100\n",
      "20/32 [=================>............] - ETA: 0s - loss: 0.8989 - accuracy: 0.6109\n",
      "Epoch 15: val_loss did not improve from 0.98287\n",
      "32/32 [==============================] - 0s 4ms/step - loss: 0.8983 - accuracy: 0.6129 - val_loss: 0.9893 - val_accuracy: 0.5820\n",
      "Epoch 16/100\n",
      "20/32 [=================>............] - ETA: 0s - loss: 0.8592 - accuracy: 0.6469\n",
      "Epoch 16: val_loss did not improve from 0.98287\n",
      "32/32 [==============================] - 0s 4ms/step - loss: 0.8872 - accuracy: 0.6276 - val_loss: 0.9952 - val_accuracy: 0.6211\n",
      "Epoch 17/100\n",
      "23/32 [====================>.........] - ETA: 0s - loss: 0.8293 - accuracy: 0.6427\n",
      "Epoch 17: val_loss did not improve from 0.98287\n",
      "32/32 [==============================] - 0s 3ms/step - loss: 0.8726 - accuracy: 0.6285 - val_loss: 0.9834 - val_accuracy: 0.5859\n",
      "Epoch 18/100\n",
      "23/32 [====================>.........] - ETA: 0s - loss: 0.8513 - accuracy: 0.6399\n",
      "Epoch 18: val_loss improved from 0.98287 to 0.98146, saving model to best_model.h5\n",
      "32/32 [==============================] - 0s 5ms/step - loss: 0.8585 - accuracy: 0.6305 - val_loss: 0.9815 - val_accuracy: 0.6055\n",
      "Epoch 19/100\n",
      "22/32 [===================>..........] - ETA: 0s - loss: 0.8480 - accuracy: 0.6335\n",
      "Epoch 19: val_loss did not improve from 0.98146\n",
      "32/32 [==============================] - 0s 4ms/step - loss: 0.8601 - accuracy: 0.6237 - val_loss: 0.9879 - val_accuracy: 0.5898\n",
      "Epoch 20/100\n",
      "21/32 [==================>...........] - ETA: 0s - loss: 0.8573 - accuracy: 0.6176\n",
      "Epoch 20: val_loss did not improve from 0.98146\n",
      "32/32 [==============================] - 0s 4ms/step - loss: 0.8706 - accuracy: 0.6119 - val_loss: 0.9928 - val_accuracy: 0.5898\n",
      "Epoch 21/100\n",
      "20/32 [=================>............] - ETA: 0s - loss: 0.8079 - accuracy: 0.6781\n",
      "Epoch 21: val_loss did not improve from 0.98146\n",
      "32/32 [==============================] - 0s 4ms/step - loss: 0.8535 - accuracy: 0.6383 - val_loss: 0.9896 - val_accuracy: 0.6328\n",
      "Epoch 22/100\n",
      "19/32 [================>.............] - ETA: 0s - loss: 0.8524 - accuracy: 0.6234\n",
      "Epoch 22: val_loss did not improve from 0.98146\n",
      "32/32 [==============================] - 0s 4ms/step - loss: 0.8372 - accuracy: 0.6285 - val_loss: 0.9825 - val_accuracy: 0.6055\n",
      "Epoch 23/100\n",
      "25/32 [======================>.......] - ETA: 0s - loss: 0.8272 - accuracy: 0.6388\n",
      "Epoch 23: val_loss did not improve from 0.98146\n",
      "32/32 [==============================] - 0s 3ms/step - loss: 0.8190 - accuracy: 0.6334 - val_loss: 0.9891 - val_accuracy: 0.5898\n",
      "Epoch 24/100\n",
      "22/32 [===================>..........] - ETA: 0s - loss: 0.8244 - accuracy: 0.6662\n",
      "Epoch 24: val_loss did not improve from 0.98146\n",
      "32/32 [==============================] - 0s 4ms/step - loss: 0.8331 - accuracy: 0.6569 - val_loss: 0.9912 - val_accuracy: 0.6055\n",
      "Epoch 25/100\n",
      "20/32 [=================>............] - ETA: 0s - loss: 0.7955 - accuracy: 0.6672\n",
      "Epoch 25: val_loss did not improve from 0.98146\n",
      "32/32 [==============================] - 0s 4ms/step - loss: 0.8251 - accuracy: 0.6481 - val_loss: 0.9935 - val_accuracy: 0.6250\n",
      "Epoch 26/100\n",
      "23/32 [====================>.........] - ETA: 0s - loss: 0.7933 - accuracy: 0.6481\n",
      "Epoch 26: val_loss did not improve from 0.98146\n",
      "32/32 [==============================] - 0s 3ms/step - loss: 0.8194 - accuracy: 0.6295 - val_loss: 1.0022 - val_accuracy: 0.6055\n",
      "Epoch 27/100\n",
      "24/32 [=====================>........] - ETA: 0s - loss: 0.7815 - accuracy: 0.6706\n",
      "Epoch 27: val_loss did not improve from 0.98146\n",
      "32/32 [==============================] - 0s 3ms/step - loss: 0.8011 - accuracy: 0.6637 - val_loss: 0.9993 - val_accuracy: 0.6211\n",
      "Epoch 28/100\n",
      "21/32 [==================>...........] - ETA: 0s - loss: 0.7979 - accuracy: 0.6637Restoring model weights from the end of the best epoch: 18.\n",
      "\n",
      "Epoch 28: val_loss did not improve from 0.98146\n",
      "32/32 [==============================] - 0s 4ms/step - loss: 0.8017 - accuracy: 0.6628 - val_loss: 0.9992 - val_accuracy: 0.5938\n",
      "Epoch 28: early stopping\n",
      "Test Loss: 0.9285\n",
      "Test Accuracy: 0.6125\n"
     ]
    },
    {
     "data": {
      "image/png": "[encoded data removed]",
      "text/plain": [
       "<Figure size 640x480 with 1 Axes>"
      ]
     },
     "metadata": {},
     "output_type": "display_data"
    },
    {
     "name": "stdout",
     "output_type": "stream",
     "text": [
      "10/10 [==============================] - 0s 1ms/step\n"
     ]
    }
   ],
   "source": [
    "# 1. 데이터 전처리\n",
    "redwine = pd.read_csv('data/winequality-red.csv', sep=';')\n",
    "redwine.dropna(inplace=True)\n",
    "\n",
    "X = redwine.drop('quality', axis=1).values\n",
    "y = redwine['quality'].values\n",
    "\n",
    "# 정수 인코딩\n",
    "le = LabelEncoder()\n",
    "y_encoded_int = le.fit_transform(y)\n",
    "\n",
    "# 원핫 인코딩\n",
    "y_encoded = to_categorical(y_encoded_int)\n",
    "num_classes = y_encoded.shape[1]\n",
    "\n",
    "# 스케일링\n",
    "scaler = StandardScaler()\n",
    "X_scaled = scaler.fit_transform(X)\n",
    "\n",
    "# 훈련/테스트셋 분리\n",
    "X_train, X_test, y_train, y_test = train_test_split(X_scaled,\n",
    "                                                    y_encoded,\n",
    "                                                    test_size=0.2,\n",
    "                                                    random_state=42,\n",
    "                                                    stratify=y_encoded_int)\n",
    "\n",
    "# 2. 모델 구성\n",
    "model = Sequential()\n",
    "model.add(Input(shape=(X.shape[1],)))\n",
    "model.add(Dense(128, activation='relu'))\n",
    "model.add(Dropout(0.2))\n",
    "model.add(Dense(128, activation='relu'))\n",
    "model.add(Dropout(0.2))\n",
    "model.add(Dense(64, activation='relu'))\n",
    "model.add(Dropout(0.2))\n",
    "model.add(Dense(32, activation='relu'))\n",
    "model.add(Dense(num_classes, activation='softmax'))\n",
    "\n",
    "# 3. 컴파일\n",
    "model.compile(optimizer='adam', loss='categorical_crossentropy', metrics=['accuracy'])\n",
    "\n",
    "# 4. 콜백 및 학습\n",
    "es = EarlyStopping(monitor='val_loss',\n",
    "                   patience=10,\n",
    "                   verbose=1,\n",
    "                   restore_best_weights=True)\n",
    "mc = ModelCheckpoint('best_model.h5',\n",
    "                     monitor='val_loss',\n",
    "                     save_best_only=True,\n",
    "                     verbose=1)\n",
    "\n",
    "X_tr, X_val, y_tr, y_val = train_test_split(X_train, y_train,\n",
    "                                            test_size=0.2,\n",
    "                                            stratify=np.argmax(y_train, axis=1),\n",
    "                                            random_state=42)\n",
    "\n",
    "history = model.fit(X_tr, y_tr,\n",
    "                    epochs=100,\n",
    "                    batch_size=32,\n",
    "                    validation_data=(X_val, y_val),\n",
    "                    callbacks=[es, mc], verbose=1)\n",
    "\n",
    "# 5. 평가\n",
    "loss, acc = model.evaluate(X_test, y_test, verbose=0)\n",
    "print(f'Test Loss: {loss:.4f}')\n",
    "print(f'Test Accuracy: {acc:.4f}')\n",
    "\n",
    "plt.plot(history.history['loss'], label='Train Loss')\n",
    "plt.plot(history.history['val_loss'], label='Validation Loss')\n",
    "plt.xlabel('Epoch')\n",
    "plt.ylabel('Loss')\n",
    "plt.title('Loss Over Epochs')\n",
    "plt.legend()\n",
    "plt.show()\n",
    "\n",
    "# 6. 교차표\n",
    "y_pred = model.predict(X_test)\n",
    "y_pred_labels = np.argmax(y_pred, axis=1)\n",
    "y_true_labels = np.argmax(y_test, axis=1)\n",
    "\n",
    "# 7. 모델 저장\n",
    "model.save('final_redwine_model.h5')\n"
   ]
  },
  {
   "cell_type": "code",
   "execution_count": 43,
   "id": "314af679",
   "metadata": {},
   "outputs": [
    {
     "name": "stdout",
     "output_type": "stream",
     "text": [
      "8/8 [==============================] - 0s 2ms/step - loss: 0.9815 - accuracy: 0.6055\n"
     ]
    },
    {
     "data": {
      "text/plain": [
       "[0.981457531452179, 0.60546875]"
      ]
     },
     "execution_count": 43,
     "metadata": {},
     "output_type": "execute_result"
    }
   ],
   "source": [
    "model.evaluate(X_val, y_val)"
   ]
  },
  {
   "cell_type": "code",
   "execution_count": null,
   "id": "634a95aa",
   "metadata": {},
   "outputs": [],
   "source": []
  },
  {
   "cell_type": "code",
   "execution_count": null,
   "id": "4b396eee",
   "metadata": {},
   "outputs": [],
   "source": []
  },
  {
   "cell_type": "code",
   "execution_count": null,
   "id": "fb1ba42f",
   "metadata": {},
   "outputs": [],
   "source": []
  },
  {
   "cell_type": "code",
   "execution_count": null,
   "id": "a73bb076",
   "metadata": {},
   "outputs": [],
   "source": []
  },
  {
   "cell_type": "code",
   "execution_count": null,
   "id": "8abb865e",
   "metadata": {},
   "outputs": [],
   "source": []
  },
  {
   "cell_type": "code",
   "execution_count": null,
   "id": "275484f5",
   "metadata": {},
   "outputs": [],
   "source": []
  },
  {
   "cell_type": "code",
   "execution_count": null,
   "id": "8e855ab0",
   "metadata": {},
   "outputs": [],
   "source": []
  },
  {
   "cell_type": "code",
   "execution_count": null,
   "id": "fc889e85",
   "metadata": {},
   "outputs": [],
   "source": []
  },
  {
   "cell_type": "code",
   "execution_count": null,
   "id": "9d6b9e8b",
   "metadata": {},
   "outputs": [],
   "source": []
  },
  {
   "cell_type": "code",
   "execution_count": null,
   "id": "c6424cac",
   "metadata": {},
   "outputs": [],
   "source": []
  },
  {
   "cell_type": "code",
   "execution_count": null,
   "id": "3a8e95c8",
   "metadata": {},
   "outputs": [],
   "source": []
  }
 ],
 "metadata": {
  "kernelspec": {
   "display_name": "ml-dl-nlp",
   "language": "python",
   "name": "ml-dl-nlp"
  },
  "language_info": {
   "codemirror_mode": {
    "name": "ipython",
    "version": 3
   },
   "file_extension": ".py",
   "mimetype": "text/x-python",
   "name": "python",
   "nbconvert_exporter": "python",
   "pygments_lexer": "ipython3",
   "version": "3.10.18"
  },
  "toc": {
   "base_numbering": 1,
   "nav_menu": {},
   "number_sections": false,
   "sideBar": true,
   "skip_h1_title": false,
   "title_cell": "Table of Contents",
   "title_sidebar": "Contents",
   "toc_cell": false,
   "toc_position": {
    "height": "calc(100% - 180px)",
    "left": "10px",
    "top": "150px",
    "width": "210.55px"
   },
   "toc_section_display": true,
   "toc_window_display": true
  }
 },
 "nbformat": 4,
 "nbformat_minor": 5
}
