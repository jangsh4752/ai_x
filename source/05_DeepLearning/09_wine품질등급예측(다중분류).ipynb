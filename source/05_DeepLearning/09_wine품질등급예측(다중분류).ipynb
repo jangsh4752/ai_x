{
 "cells": [
  {
   "cell_type": "code",
   "execution_count": 1,
   "id": "356e1821",
   "metadata": {},
   "outputs": [
    {
     "data": {
      "text/html": [
       "\n",
       "<style>\n",
       "div.container{width:86% !important;}\n",
       "div.cell.code_cell.rendered{width:100%;}\n",
       "div.CodeMirror {font-family:Consolas; font-size:12pt;}\n",
       "div.output {font-size:15pt; font-weight:bold;}\n",
       "div.input {font-family:Consolas; font-size:12pt;}\n",
       "div.prompt {min-width:70px;}\n",
       "div#toc-wrapper{padding-top:120px;}\n",
       "div.text_cell_render ul li{font-size:12pt;padding:5px;}\n",
       "table.dataframe{font-size:15px;}\n",
       "</style>\n"
      ],
      "text/plain": [
       "<IPython.core.display.HTML object>"
      ]
     },
     "metadata": {},
     "output_type": "display_data"
    }
   ],
   "source": [
    "from IPython.display import display, HTML\n",
    "display(HTML(\"\"\"\n",
    "<style>\n",
    "div.container{width:86% !important;}\n",
    "div.cell.code_cell.rendered{width:100%;}\n",
    "div.CodeMirror {font-family:Consolas; font-size:12pt;}\n",
    "div.output {font-size:15pt; font-weight:bold;}\n",
    "div.input {font-family:Consolas; font-size:12pt;}\n",
    "div.prompt {min-width:70px;}\n",
    "div#toc-wrapper{padding-top:120px;}\n",
    "div.text_cell_render ul li{font-size:12pt;padding:5px;}\n",
    "table.dataframe{font-size:15px;}\n",
    "</style>\n",
    "\"\"\"))"
   ]
  },
  {
   "cell_type": "code",
   "execution_count": 2,
   "id": "149fcabb",
   "metadata": {},
   "outputs": [],
   "source": [
    "import pandas as pd\n",
    "import numpy as np\n",
    "from sklearn.model_selection import train_test_split\n",
    "from sklearn.preprocessing import StandardScaler\n",
    "from tensorflow.keras.utils import to_categorical\n",
    "from tensorflow.keras.models import Sequential\n",
    "from tensorflow.keras.layers import Dense, Input, Dropout\n",
    "from tensorflow.keras.callbacks import EarlyStopping, ModelCheckpoint\n",
    "from sklearn.metrics import confusion_matrix, ConfusionMatrixDisplay\n",
    "import matplotlib.pyplot as plt\n",
    "from sklearn.preprocessing import LabelEncoder"
   ]
  },
  {
   "cell_type": "markdown",
   "id": "64f6d2ed",
   "metadata": {},
   "source": [
    "- Red Wine 등급 예측\n",
    "1. 데이터 셋 확보<br>\n",
    "    csv -> 결측치 처리 -> 독립변수와 타겟변수 분리 -> 독립변수 스케일 조정<br>\n",
    "    -> 타겟 변수 원핫인코딩 -> 훈련셋과 테스트셋 분리(train_test_split 이용 층화추출)<br>\n",
    "2. 모델 구성(입력11, 출력 6| 출력9) layer층 4\n",
    "3. 모델 학습 과정 설정\n",
    "4. 모델학습(callbacks이용)\n",
    "5. 모델 평가(그래프, 평가, 교차표)\n",
    "6. 모델 저장 & 사용"
   ]
  },
  {
   "cell_type": "markdown",
   "id": "f33f5bd5",
   "metadata": {},
   "source": [
    "# 1. 데이터 확보 & 전처리"
   ]
  },
  {
   "cell_type": "code",
   "execution_count": 3,
   "id": "39c9ba71",
   "metadata": {},
   "outputs": [
    {
     "data": {
      "text/plain": [
       "5    681\n",
       "6    638\n",
       "7    199\n",
       "4     53\n",
       "8     18\n",
       "3     10\n",
       "Name: quality, dtype: int64"
      ]
     },
     "execution_count": 3,
     "metadata": {},
     "output_type": "execute_result"
    }
   ],
   "source": [
    "# 데이터 읽어오기\n",
    "# fixed acidity : 고정 산도\n",
    "# volatile acidity : 휘발성 산도\n",
    "# citric acid : 시트르산\n",
    "# residual sugar : 잔류 당분\n",
    "# chlorides : 염화물\n",
    "# free sulfur dioxide : 자유 이산화황\n",
    "# total sulfur dioxide : 총 이산화황\n",
    "# density : 밀도\n",
    "# pH\n",
    "# sulphates : 황산염\n",
    "# alcohol\n",
    "# quality : 0 ~ 10(높을 수록 좋은 품질)\n",
    "redwine = pd.read_csv('data/winequality-red.csv', sep=';')\n",
    "redwine['quality'].value_counts()"
   ]
  },
  {
   "cell_type": "code",
   "execution_count": 4,
   "id": "3d825158",
   "metadata": {},
   "outputs": [
    {
     "name": "stdout",
     "output_type": "stream",
     "text": [
      "<class 'pandas.core.frame.DataFrame'>\n",
      "RangeIndex: 1599 entries, 0 to 1598\n",
      "Data columns (total 12 columns):\n",
      " #   Column                Non-Null Count  Dtype  \n",
      "---  ------                --------------  -----  \n",
      " 0   fixed acidity         1599 non-null   float64\n",
      " 1   volatile acidity      1599 non-null   float64\n",
      " 2   citric acid           1599 non-null   float64\n",
      " 3   residual sugar        1599 non-null   float64\n",
      " 4   chlorides             1599 non-null   float64\n",
      " 5   free sulfur dioxide   1599 non-null   float64\n",
      " 6   total sulfur dioxide  1599 non-null   float64\n",
      " 7   density               1599 non-null   float64\n",
      " 8   pH                    1599 non-null   float64\n",
      " 9   sulphates             1599 non-null   float64\n",
      " 10  alcohol               1599 non-null   float64\n",
      " 11  quality               1599 non-null   int64  \n",
      "dtypes: float64(11), int64(1)\n",
      "memory usage: 150.0 KB\n"
     ]
    },
    {
     "data": {
      "text/plain": [
       "(1599, 12)"
      ]
     },
     "execution_count": 4,
     "metadata": {},
     "output_type": "execute_result"
    }
   ],
   "source": [
    "redwine.info()\n",
    "redwine.shape"
   ]
  },
  {
   "cell_type": "code",
   "execution_count": 5,
   "id": "160c7a76",
   "metadata": {},
   "outputs": [
    {
     "name": "stdout",
     "output_type": "stream",
     "text": [
      "Epoch 1/100\n",
      " 1/32 [..............................] - ETA: 13s - loss: 1.8124 - accuracy: 0.0938\n",
      "Epoch 1: val_loss improved from inf to 1.10816, saving model to best_model.h5\n",
      "32/32 [==============================] - 1s 9ms/step - loss: 1.4305 - accuracy: 0.4663 - val_loss: 1.1082 - val_accuracy: 0.5781\n",
      "Epoch 2/100\n",
      " 1/32 [..............................] - ETA: 0s - loss: 0.9965 - accuracy: 0.5625\n",
      "Epoch 2: val_loss improved from 1.10816 to 1.05181, saving model to best_model.h5\n",
      "32/32 [==============================] - 0s 3ms/step - loss: 1.1051 - accuracy: 0.5826 - val_loss: 1.0518 - val_accuracy: 0.5859\n",
      "Epoch 3/100\n",
      " 1/32 [..............................] - ETA: 0s - loss: 1.0724 - accuracy: 0.5625\n",
      "Epoch 3: val_loss improved from 1.05181 to 1.01229, saving model to best_model.h5\n",
      "32/32 [==============================] - 0s 3ms/step - loss: 1.0280 - accuracy: 0.5865 - val_loss: 1.0123 - val_accuracy: 0.5859\n",
      "Epoch 4/100\n",
      " 1/32 [..............................] - ETA: 0s - loss: 0.9790 - accuracy: 0.6875\n",
      "Epoch 4: val_loss improved from 1.01229 to 1.00338, saving model to best_model.h5\n",
      "32/32 [==============================] - 0s 3ms/step - loss: 1.0047 - accuracy: 0.5836 - val_loss: 1.0034 - val_accuracy: 0.5859\n",
      "Epoch 5/100\n",
      " 1/32 [..............................] - ETA: 0s - loss: 1.0355 - accuracy: 0.5312\n",
      "Epoch 5: val_loss did not improve from 1.00338\n",
      "32/32 [==============================] - 0s 2ms/step - loss: 0.9968 - accuracy: 0.5934 - val_loss: 1.0125 - val_accuracy: 0.5742\n",
      "Epoch 6/100\n",
      " 1/32 [..............................] - ETA: 0s - loss: 0.9683 - accuracy: 0.7188\n",
      "Epoch 6: val_loss did not improve from 1.00338\n",
      "32/32 [==============================] - 0s 2ms/step - loss: 0.9788 - accuracy: 0.5973 - val_loss: 1.0145 - val_accuracy: 0.5586\n",
      "Epoch 7/100\n",
      " 1/32 [..............................] - ETA: 0s - loss: 0.7200 - accuracy: 0.7500\n",
      "Epoch 7: val_loss improved from 1.00338 to 0.99736, saving model to best_model.h5\n",
      "32/32 [==============================] - 0s 4ms/step - loss: 0.9634 - accuracy: 0.6041 - val_loss: 0.9974 - val_accuracy: 0.5859\n",
      "Epoch 8/100\n",
      " 1/32 [..............................] - ETA: 0s - loss: 0.8301 - accuracy: 0.7188\n",
      "Epoch 8: val_loss improved from 0.99736 to 0.99046, saving model to best_model.h5\n",
      "32/32 [==============================] - 0s 3ms/step - loss: 0.9496 - accuracy: 0.6022 - val_loss: 0.9905 - val_accuracy: 0.5625\n",
      "Epoch 9/100\n",
      " 1/32 [..............................] - ETA: 0s - loss: 0.8532 - accuracy: 0.6875\n",
      "Epoch 9: val_loss improved from 0.99046 to 0.97543, saving model to best_model.h5\n",
      "32/32 [==============================] - 0s 3ms/step - loss: 0.9370 - accuracy: 0.6129 - val_loss: 0.9754 - val_accuracy: 0.6250\n",
      "Epoch 10/100\n",
      " 1/32 [..............................] - ETA: 0s - loss: 0.8876 - accuracy: 0.6875\n",
      "Epoch 10: val_loss improved from 0.97543 to 0.96417, saving model to best_model.h5\n",
      "32/32 [==============================] - 0s 3ms/step - loss: 0.9145 - accuracy: 0.6197 - val_loss: 0.9642 - val_accuracy: 0.6172\n",
      "Epoch 11/100\n",
      " 1/32 [..............................] - ETA: 0s - loss: 0.8781 - accuracy: 0.6250\n",
      "Epoch 11: val_loss improved from 0.96417 to 0.96361, saving model to best_model.h5\n",
      "32/32 [==============================] - 0s 4ms/step - loss: 0.9137 - accuracy: 0.6090 - val_loss: 0.9636 - val_accuracy: 0.6055\n",
      "Epoch 12/100\n",
      " 1/32 [..............................] - ETA: 0s - loss: 0.9320 - accuracy: 0.6250\n",
      "Epoch 12: val_loss improved from 0.96361 to 0.96189, saving model to best_model.h5\n",
      "32/32 [==============================] - 0s 3ms/step - loss: 0.8822 - accuracy: 0.6168 - val_loss: 0.9619 - val_accuracy: 0.6055\n",
      "Epoch 13/100\n",
      " 1/32 [..............................] - ETA: 0s - loss: 1.1876 - accuracy: 0.5625\n",
      "Epoch 13: val_loss did not improve from 0.96189\n",
      "32/32 [==============================] - 0s 2ms/step - loss: 0.8888 - accuracy: 0.6197 - val_loss: 0.9665 - val_accuracy: 0.6172\n",
      "Epoch 14/100\n",
      " 1/32 [..............................] - ETA: 0s - loss: 0.9714 - accuracy: 0.6250\n",
      "Epoch 14: val_loss did not improve from 0.96189\n",
      "32/32 [==============================] - 0s 2ms/step - loss: 0.8978 - accuracy: 0.6139 - val_loss: 0.9683 - val_accuracy: 0.5977\n",
      "Epoch 15/100\n",
      " 1/32 [..............................] - ETA: 0s - loss: 0.8050 - accuracy: 0.6562\n",
      "Epoch 15: val_loss improved from 0.96189 to 0.96149, saving model to best_model.h5\n",
      "32/32 [==============================] - 0s 4ms/step - loss: 0.8645 - accuracy: 0.6364 - val_loss: 0.9615 - val_accuracy: 0.6094\n",
      "Epoch 16/100\n",
      " 1/32 [..............................] - ETA: 0s - loss: 1.1437 - accuracy: 0.5625\n",
      "Epoch 16: val_loss did not improve from 0.96149\n",
      "32/32 [==============================] - 0s 2ms/step - loss: 0.8574 - accuracy: 0.6276 - val_loss: 0.9765 - val_accuracy: 0.5859\n",
      "Epoch 17/100\n",
      " 1/32 [..............................] - ETA: 0s - loss: 0.9644 - accuracy: 0.6562\n",
      "Epoch 17: val_loss did not improve from 0.96149\n",
      "32/32 [==============================] - 0s 2ms/step - loss: 0.8688 - accuracy: 0.6403 - val_loss: 0.9623 - val_accuracy: 0.6250\n",
      "Epoch 18/100\n",
      " 1/32 [..............................] - ETA: 0s - loss: 0.7291 - accuracy: 0.6875\n",
      "Epoch 18: val_loss did not improve from 0.96149\n",
      "32/32 [==============================] - 0s 2ms/step - loss: 0.8620 - accuracy: 0.6520 - val_loss: 0.9677 - val_accuracy: 0.6055\n",
      "Epoch 19/100\n",
      " 1/32 [..............................] - ETA: 0s - loss: 1.0067 - accuracy: 0.5312\n",
      "Epoch 19: val_loss did not improve from 0.96149\n",
      "32/32 [==============================] - 0s 2ms/step - loss: 0.8541 - accuracy: 0.6256 - val_loss: 0.9759 - val_accuracy: 0.5977\n",
      "Epoch 20/100\n",
      " 1/32 [..............................] - ETA: 0s - loss: 0.8666 - accuracy: 0.5938\n",
      "Epoch 20: val_loss did not improve from 0.96149\n",
      "32/32 [==============================] - 0s 2ms/step - loss: 0.8387 - accuracy: 0.6442 - val_loss: 0.9793 - val_accuracy: 0.6172\n",
      "Epoch 21/100\n",
      " 1/32 [..............................] - ETA: 0s - loss: 0.8941 - accuracy: 0.7188\n",
      "Epoch 21: val_loss did not improve from 0.96149\n",
      "32/32 [==============================] - 0s 2ms/step - loss: 0.8329 - accuracy: 0.6520 - val_loss: 0.9721 - val_accuracy: 0.6211\n",
      "Epoch 22/100\n",
      " 1/32 [..............................] - ETA: 0s - loss: 1.1625 - accuracy: 0.5625\n",
      "Epoch 22: val_loss did not improve from 0.96149\n",
      "32/32 [==============================] - 0s 2ms/step - loss: 0.8259 - accuracy: 0.6452 - val_loss: 0.9761 - val_accuracy: 0.6094\n",
      "Epoch 23/100\n",
      " 1/32 [..............................] - ETA: 0s - loss: 1.0592 - accuracy: 0.5000\n",
      "Epoch 23: val_loss did not improve from 0.96149\n",
      "32/32 [==============================] - 0s 2ms/step - loss: 0.8185 - accuracy: 0.6364 - val_loss: 0.9832 - val_accuracy: 0.6055\n",
      "Epoch 24/100\n",
      " 1/32 [..............................] - ETA: 0s - loss: 0.7773 - accuracy: 0.5938\n",
      "Epoch 24: val_loss did not improve from 0.96149\n",
      "32/32 [==============================] - 0s 2ms/step - loss: 0.8244 - accuracy: 0.6383 - val_loss: 0.9889 - val_accuracy: 0.6133\n",
      "Epoch 25/100\n",
      " 1/32 [..............................] - ETA: 0s - loss: 1.0329 - accuracy: 0.5938Restoring model weights from the end of the best epoch: 15.\n",
      "\n",
      "Epoch 25: val_loss did not improve from 0.96149\n",
      "32/32 [==============================] - 0s 2ms/step - loss: 0.8096 - accuracy: 0.6657 - val_loss: 0.9857 - val_accuracy: 0.6250\n",
      "Epoch 25: early stopping\n",
      "Test Loss: 0.9446\n",
      "Test Accuracy: 0.6125\n"
     ]
    },
    {
     "data": {
      "image/png": "[encoded data removed]",
      "text/plain": [
       "<Figure size 640x480 with 1 Axes>"
      ]
     },
     "metadata": {},
     "output_type": "display_data"
    },
    {
     "name": "stdout",
     "output_type": "stream",
     "text": [
      "10/10 [==============================] - 0s 723us/step\n"
     ]
    }
   ],
   "source": [
    "# 1. 데이터 전처리\n",
    "redwine = pd.read_csv('data/winequality-red.csv', sep=';')\n",
    "redwine.dropna(inplace=True)\n",
    "\n",
    "X = redwine.drop('quality', axis=1).values\n",
    "y = redwine['quality'].values\n",
    "\n",
    "# 정수 인코딩\n",
    "le = LabelEncoder()\n",
    "y_encoded_int = le.fit_transform(y)\n",
    "\n",
    "# 원핫 인코딩\n",
    "y_encoded = to_categorical(y_encoded_int)\n",
    "num_classes = y_encoded.shape[1]\n",
    "\n",
    "# 스케일링\n",
    "scaler = StandardScaler()\n",
    "X_scaled = scaler.fit_transform(X)\n",
    "\n",
    "# 훈련/테스트셋 분리\n",
    "X_train, X_test, y_train, y_test = train_test_split(X_scaled,\n",
    "                                                    y_encoded,\n",
    "                                                    test_size=0.2,\n",
    "                                                    random_state=42,\n",
    "                                                    stratify=y_encoded_int)\n",
    "\n",
    "# 2. 모델 구성\n",
    "model = Sequential()\n",
    "model.add(Input(shape=(X.shape[1],)))\n",
    "model.add(Dense(128, activation='relu'))\n",
    "model.add(Dropout(0.2))\n",
    "model.add(Dense(128, activation='relu'))\n",
    "model.add(Dropout(0.2))\n",
    "model.add(Dense(64, activation='relu'))\n",
    "model.add(Dropout(0.2))\n",
    "model.add(Dense(32, activation='relu'))\n",
    "model.add(Dense(num_classes, activation='softmax'))\n",
    "\n",
    "# 3. 컴파일\n",
    "model.compile(optimizer='adam', loss='categorical_crossentropy', metrics=['accuracy'])\n",
    "\n",
    "# 4. 콜백 및 학습\n",
    "es = EarlyStopping(monitor='val_loss',\n",
    "                   patience=10,\n",
    "                   verbose=1,\n",
    "                   restore_best_weights=True)\n",
    "mc = ModelCheckpoint('best_model.h5',\n",
    "                     monitor='val_loss',\n",
    "                     save_best_only=True,\n",
    "                     verbose=1)\n",
    "\n",
    "X_tr, X_val, y_tr, y_val = train_test_split(X_train, y_train,\n",
    "                                            test_size=0.2,\n",
    "                                            stratify=np.argmax(y_train, axis=1),\n",
    "                                            random_state=42)\n",
    "\n",
    "history = model.fit(X_tr, y_tr,\n",
    "                    epochs=100,\n",
    "                    batch_size=32,\n",
    "                    validation_data=(X_val, y_val),\n",
    "                    callbacks=[es, mc], verbose=1)\n",
    "\n",
    "# 5. 평가\n",
    "loss, acc = model.evaluate(X_test, y_test, verbose=0)\n",
    "print(f'Test Loss: {loss:.4f}')\n",
    "print(f'Test Accuracy: {acc:.4f}')\n",
    "\n",
    "plt.plot(history.history['loss'], label='Train Loss')\n",
    "plt.plot(history.history['val_loss'], label='Validation Loss')\n",
    "plt.xlabel('Epoch')\n",
    "plt.ylabel('Loss')\n",
    "plt.title('Loss Over Epochs')\n",
    "plt.legend()\n",
    "plt.show()\n",
    "\n",
    "# 6. 교차표\n",
    "y_pred = model.predict(X_test)\n",
    "y_pred_labels = np.argmax(y_pred, axis=1)\n",
    "y_true_labels = np.argmax(y_test, axis=1)\n",
    "\n",
    "# 7. 모델 저장\n",
    "model.save('final_redwine_model.h5')\n"
   ]
  },
  {
   "cell_type": "code",
   "execution_count": 6,
   "id": "314af679",
   "metadata": {},
   "outputs": [
    {
     "name": "stdout",
     "output_type": "stream",
     "text": [
      "8/8 [==============================] - 0s 714us/step - loss: 0.9615 - accuracy: 0.6094\n"
     ]
    },
    {
     "data": {
      "text/plain": [
       "[0.961490273475647, 0.609375]"
      ]
     },
     "execution_count": 6,
     "metadata": {},
     "output_type": "execute_result"
    }
   ],
   "source": [
    "model.evaluate(X_val, y_val)"
   ]
  },
  {
   "cell_type": "code",
   "execution_count": null,
   "id": "634a95aa",
   "metadata": {},
   "outputs": [],
   "source": []
  },
  {
   "cell_type": "code",
   "execution_count": null,
   "id": "4b396eee",
   "metadata": {},
   "outputs": [],
   "source": []
  },
  {
   "cell_type": "code",
   "execution_count": null,
   "id": "fb1ba42f",
   "metadata": {},
   "outputs": [],
   "source": []
  },
  {
   "cell_type": "code",
   "execution_count": null,
   "id": "a73bb076",
   "metadata": {},
   "outputs": [],
   "source": []
  },
  {
   "cell_type": "code",
   "execution_count": null,
   "id": "8abb865e",
   "metadata": {},
   "outputs": [],
   "source": []
  },
  {
   "cell_type": "code",
   "execution_count": null,
   "id": "275484f5",
   "metadata": {},
   "outputs": [],
   "source": []
  },
  {
   "cell_type": "code",
   "execution_count": null,
   "id": "8e855ab0",
   "metadata": {},
   "outputs": [],
   "source": []
  },
  {
   "cell_type": "code",
   "execution_count": null,
   "id": "fc889e85",
   "metadata": {},
   "outputs": [],
   "source": []
  },
  {
   "cell_type": "code",
   "execution_count": null,
   "id": "9d6b9e8b",
   "metadata": {},
   "outputs": [],
   "source": []
  },
  {
   "cell_type": "code",
   "execution_count": null,
   "id": "c6424cac",
   "metadata": {},
   "outputs": [],
   "source": []
  },
  {
   "cell_type": "code",
   "execution_count": null,
   "id": "3a8e95c8",
   "metadata": {},
   "outputs": [],
   "source": []
  }
 ],
 "metadata": {
  "kernelspec": {
   "display_name": "ml-dl-nlp",
   "language": "python",
   "name": "ml-dl-nlp"
  },
  "language_info": {
   "codemirror_mode": {
    "name": "ipython",
    "version": 3
   },
   "file_extension": ".py",
   "mimetype": "text/x-python",
   "name": "python",
   "nbconvert_exporter": "python",
   "pygments_lexer": "ipython3",
   "version": "3.10.18"
  },
  "toc": {
   "base_numbering": 1,
   "nav_menu": {},
   "number_sections": false,
   "sideBar": true,
   "skip_h1_title": false,
   "title_cell": "Table of Contents",
   "title_sidebar": "Contents",
   "toc_cell": false,
   "toc_position": {
    "height": "calc(100% - 180px)",
    "left": "10px",
    "top": "150px",
    "width": "210.55px"
   },
   "toc_section_display": true,
   "toc_window_display": true
  }
 },
 "nbformat": 4,
 "nbformat_minor": 5
}
