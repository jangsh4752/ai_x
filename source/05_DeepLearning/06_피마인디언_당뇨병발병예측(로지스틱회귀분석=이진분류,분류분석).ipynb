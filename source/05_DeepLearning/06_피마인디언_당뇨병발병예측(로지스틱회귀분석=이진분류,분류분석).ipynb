{
 "cells": [
  {
   "cell_type": "code",
   "execution_count": 1,
   "id": "4709b88d",
   "metadata": {},
   "outputs": [
    {
     "data": {
      "text/html": [
       "\n",
       "<style>\n",
       "div.container{width:86% !important;}\n",
       "div.cell.code_cell.rendered{width:100%;}\n",
       "div.CodeMirror {font-family:Consolas; font-size:12pt;}\n",
       "div.output {font-size:15pt; font-weight:bold;}\n",
       "div.input {font-family:Consolas; font-size:12pt;}\n",
       "div.prompt {min-width:70px;}\n",
       "div#toc-wrapper{padding-top:120px;}\n",
       "div.text_cell_render ul li{font-size:12pt;padding:5px;}\n",
       "table.dataframe{font-size:15px;}\n",
       "</style>\n"
      ],
      "text/plain": [
       "<IPython.core.display.HTML object>"
      ]
     },
     "metadata": {},
     "output_type": "display_data"
    }
   ],
   "source": [
    "from IPython.display import display, HTML\n",
    "display(HTML(\"\"\"\n",
    "<style>\n",
    "div.container{width:86% !important;}\n",
    "div.cell.code_cell.rendered{width:100%;}\n",
    "div.CodeMirror {font-family:Consolas; font-size:12pt;}\n",
    "div.output {font-size:15pt; font-weight:bold;}\n",
    "div.input {font-family:Consolas; font-size:12pt;}\n",
    "div.prompt {min-width:70px;}\n",
    "div#toc-wrapper{padding-top:120px;}\n",
    "div.text_cell_render ul li{font-size:12pt;padding:5px;}\n",
    "table.dataframe{font-size:15px;}\n",
    "</style>\n",
    "\"\"\"))"
   ]
  },
  {
   "cell_type": "code",
   "execution_count": 44,
   "id": "4024eaf1",
   "metadata": {},
   "outputs": [],
   "source": [
    "import numpy as np\n",
    "import pandas as pd\n",
    "import sys\n",
    "from tensorflow.keras import utils # utils.to_categorical 원핫인코딩\n",
    "from tensorflow.keras.models import Sequential\n",
    "from tensorflow.keras.layers import Input, Dense, Dropout\n",
    "from matplotlib import pyplot as plt"
   ]
  },
  {
   "cell_type": "markdown",
   "id": "6d81e139",
   "metadata": {},
   "source": [
    "# 로지스틱 회귀분석(이진분류)"
   ]
  },
  {
   "cell_type": "markdown",
   "id": "40395570",
   "metadata": {},
   "source": [
    "## 1. 데이터셋 생성 & 전처리"
   ]
  },
  {
   "cell_type": "code",
   "execution_count": 3,
   "id": "734420a4",
   "metadata": {},
   "outputs": [
    {
     "name": "stdout",
     "output_type": "stream",
     "text": [
      "<class 'pandas.core.frame.DataFrame'>\n",
      "RangeIndex: 768 entries, 0 to 767\n",
      "Data columns (total 9 columns):\n",
      " #   Column  Non-Null Count  Dtype  \n",
      "---  ------  --------------  -----  \n",
      " 0   0       768 non-null    int64  \n",
      " 1   1       768 non-null    int64  \n",
      " 2   2       768 non-null    int64  \n",
      " 3   3       768 non-null    int64  \n",
      " 4   4       768 non-null    int64  \n",
      " 5   5       768 non-null    float64\n",
      " 6   6       768 non-null    float64\n",
      " 7   7       768 non-null    int64  \n",
      " 8   8       768 non-null    int64  \n",
      "dtypes: float64(2), int64(7)\n",
      "memory usage: 54.1 KB\n"
     ]
    }
   ],
   "source": [
    "df = pd.read_csv('data/pima-indians-diabetes.csv',\n",
    "                 comment='#',\n",
    "                 header=None)\n",
    "df.info() # 결측치 없음"
   ]
  },
  {
   "cell_type": "code",
   "execution_count": 4,
   "id": "fda90547",
   "metadata": {},
   "outputs": [
    {
     "data": {
      "text/plain": [
       "0    500\n",
       "1    268\n",
       "Name: 8, dtype: int64"
      ]
     },
     "execution_count": 4,
     "metadata": {},
     "output_type": "execute_result"
    }
   ],
   "source": [
    "# 타겟 변수의 균형\n",
    "df.iloc[:, -1].value_counts()"
   ]
  },
  {
   "cell_type": "code",
   "execution_count": 5,
   "id": "a1e17b35",
   "metadata": {},
   "outputs": [
    {
     "data": {
      "text/html": [
       "<div>\n",
       "<style scoped>\n",
       "    .dataframe tbody tr th:only-of-type {\n",
       "        vertical-align: middle;\n",
       "    }\n",
       "\n",
       "    .dataframe tbody tr th {\n",
       "        vertical-align: top;\n",
       "    }\n",
       "\n",
       "    .dataframe thead th {\n",
       "        text-align: right;\n",
       "    }\n",
       "</style>\n",
       "<table border=\"1\" class=\"dataframe\">\n",
       "  <thead>\n",
       "    <tr style=\"text-align: right;\">\n",
       "      <th></th>\n",
       "      <th>0</th>\n",
       "      <th>1</th>\n",
       "      <th>2</th>\n",
       "      <th>3</th>\n",
       "      <th>4</th>\n",
       "      <th>5</th>\n",
       "      <th>6</th>\n",
       "      <th>7</th>\n",
       "      <th>8</th>\n",
       "    </tr>\n",
       "  </thead>\n",
       "  <tbody>\n",
       "    <tr>\n",
       "      <th>0</th>\n",
       "      <td>6</td>\n",
       "      <td>148</td>\n",
       "      <td>72</td>\n",
       "      <td>35</td>\n",
       "      <td>0</td>\n",
       "      <td>33.6</td>\n",
       "      <td>0.627</td>\n",
       "      <td>50</td>\n",
       "      <td>1</td>\n",
       "    </tr>\n",
       "    <tr>\n",
       "      <th>1</th>\n",
       "      <td>1</td>\n",
       "      <td>85</td>\n",
       "      <td>66</td>\n",
       "      <td>29</td>\n",
       "      <td>0</td>\n",
       "      <td>26.6</td>\n",
       "      <td>0.351</td>\n",
       "      <td>31</td>\n",
       "      <td>0</td>\n",
       "    </tr>\n",
       "    <tr>\n",
       "      <th>2</th>\n",
       "      <td>8</td>\n",
       "      <td>183</td>\n",
       "      <td>64</td>\n",
       "      <td>0</td>\n",
       "      <td>0</td>\n",
       "      <td>23.3</td>\n",
       "      <td>0.672</td>\n",
       "      <td>32</td>\n",
       "      <td>1</td>\n",
       "    </tr>\n",
       "    <tr>\n",
       "      <th>3</th>\n",
       "      <td>1</td>\n",
       "      <td>89</td>\n",
       "      <td>66</td>\n",
       "      <td>23</td>\n",
       "      <td>94</td>\n",
       "      <td>28.1</td>\n",
       "      <td>0.167</td>\n",
       "      <td>21</td>\n",
       "      <td>0</td>\n",
       "    </tr>\n",
       "    <tr>\n",
       "      <th>4</th>\n",
       "      <td>0</td>\n",
       "      <td>137</td>\n",
       "      <td>40</td>\n",
       "      <td>35</td>\n",
       "      <td>168</td>\n",
       "      <td>43.1</td>\n",
       "      <td>2.288</td>\n",
       "      <td>33</td>\n",
       "      <td>1</td>\n",
       "    </tr>\n",
       "  </tbody>\n",
       "</table>\n",
       "</div>"
      ],
      "text/plain": [
       "   0    1   2   3    4     5      6   7  8\n",
       "0  6  148  72  35    0  33.6  0.627  50  1\n",
       "1  1   85  66  29    0  26.6  0.351  31  0\n",
       "2  8  183  64   0    0  23.3  0.672  32  1\n",
       "3  1   89  66  23   94  28.1  0.167  21  0\n",
       "4  0  137  40  35  168  43.1  2.288  33  1"
      ]
     },
     "execution_count": 5,
     "metadata": {},
     "output_type": "execute_result"
    }
   ],
   "source": [
    "df.head()"
   ]
  },
  {
   "cell_type": "code",
   "execution_count": 6,
   "id": "54eae9fe",
   "metadata": {},
   "outputs": [
    {
     "data": {
      "text/plain": [
       "(768, 9)"
      ]
     },
     "execution_count": 6,
     "metadata": {},
     "output_type": "execute_result"
    }
   ],
   "source": [
    "# csv 파일을 numpy 로 읽어오기 : np.loadtxt(결측치 없을 경우), np.genfromtxt(결측치 있을 경우)\n",
    "dataset = np.loadtxt('data/pima-indians-diabetes.csv',\n",
    "                     encoding='utf-8',\n",
    "                     delimiter=',')\n",
    "dataset.shape"
   ]
  },
  {
   "cell_type": "code",
   "execution_count": 7,
   "id": "4b877020",
   "metadata": {},
   "outputs": [
    {
     "data": {
      "text/plain": [
       "((700, 8), (700,), (68, 8), (68,))"
      ]
     },
     "execution_count": 7,
     "metadata": {},
     "output_type": "execute_result"
    }
   ],
   "source": [
    "# 데이터 분할 : 학습데이터셋(모델학습용) + 시험데이터셋(모델평가용)\n",
    "X_train = dataset[:700, :-1]\n",
    "y_train = dataset[:700, -1]\n",
    "X_test = dataset[700:,:-1]\n",
    "y_test = dataset[700:, -1]\n",
    "X_train.shape, y_train.shape, X_test.shape, y_test.shape"
   ]
  },
  {
   "cell_type": "markdown",
   "id": "580bc5b7",
   "metadata": {},
   "source": [
    "## 2. 모델 구성"
   ]
  },
  {
   "cell_type": "code",
   "execution_count": 8,
   "id": "a2024816",
   "metadata": {},
   "outputs": [
    {
     "name": "stdout",
     "output_type": "stream",
     "text": [
      "Model: \"sequential\"\n",
      "_________________________________________________________________\n",
      " Layer (type)                Output Shape              Param #   \n",
      "=================================================================\n",
      " dense (Dense)               (None, 32)                288       \n",
      "                                                                 \n",
      " dense_1 (Dense)             (None, 16)                528       \n",
      "                                                                 \n",
      " dense_2 (Dense)             (None, 1)                 17        \n",
      "                                                                 \n",
      "=================================================================\n",
      "Total params: 833\n",
      "Trainable params: 833\n",
      "Non-trainable params: 0\n",
      "_________________________________________________________________\n"
     ]
    }
   ],
   "source": [
    "model = Sequential()\n",
    "model.add(Input(shape=(8,)))\n",
    "model.add(Dense(units=32, activation='relu')) # Dense 층 쌓음 -> DNN\n",
    "model.add(Dense(units=16, activation='relu'))\n",
    "model.add(Dense(units=1,  activation='sigmoid'))\n",
    "model.summary()"
   ]
  },
  {
   "cell_type": "markdown",
   "id": "4e9cda7d",
   "metadata": {},
   "source": [
    "## 3. 학습과정 설정"
   ]
  },
  {
   "cell_type": "code",
   "execution_count": 9,
   "id": "712f650a",
   "metadata": {},
   "outputs": [],
   "source": [
    "model.compile(loss='binary_crossentropy',\n",
    "              optimizer='adam',\n",
    "              metrics=['binary_accuracy'])"
   ]
  },
  {
   "cell_type": "markdown",
   "id": "0ae15f71",
   "metadata": {},
   "source": [
    "## 4. 학습"
   ]
  },
  {
   "cell_type": "code",
   "execution_count": 10,
   "id": "1b106390",
   "metadata": {},
   "outputs": [
    {
     "name": "stdout",
     "output_type": "stream",
     "text": [
      "CPU times: total: 1.59 s\n",
      "Wall time: 1.16 s\n"
     ]
    }
   ],
   "source": [
    "%%time\n",
    "hist = model.fit(X_train, y_train, # 훈련데이터\n",
    "                 epochs=200, # 학습횟수\n",
    "                 batch_size=350, # 한 번에 읽어들이는 데이터 양\n",
    "#                  validation_data=(X_test, y_test), # 검증데이터\n",
    "#                  validation_split=0.1,\n",
    "                 verbose = 0 # 학습 로그 출력(0:출력X , 1: 출력O, 2: 출력 자세히)\n",
    "                )"
   ]
  },
  {
   "cell_type": "markdown",
   "id": "0d20be83",
   "metadata": {},
   "source": [
    "## 5. 모델 평가(학습과정 보기, 평가)"
   ]
  },
  {
   "cell_type": "code",
   "execution_count": 11,
   "id": "091fcf11",
   "metadata": {},
   "outputs": [
    {
     "data": {
      "text/plain": [
       "dict_keys(['loss', 'binary_accuracy'])"
      ]
     },
     "execution_count": 11,
     "metadata": {},
     "output_type": "execute_result"
    }
   ],
   "source": [
    "hist.history.keys()"
   ]
  },
  {
   "cell_type": "code",
   "execution_count": 12,
   "id": "86b16f55",
   "metadata": {},
   "outputs": [
    {
     "data": {
      "text/plain": [
       "[<matplotlib.lines.Line2D at 0x24b49758400>]"
      ]
     },
     "execution_count": 12,
     "metadata": {},
     "output_type": "execute_result"
    },
    {
     "data": {
      "image/png": "[encoded data removed]",
      "text/plain": [
       "<Figure size 1000x500 with 2 Axes>"
      ]
     },
     "metadata": {},
     "output_type": "display_data"
    }
   ],
   "source": [
    "# 학습과정 표시(학습데이터에 대한 loss와 accuracy)\n",
    "fig, loss_ax = plt.subplots(figsize=(10, 5))\n",
    "loss_ax.plot(hist.history['loss'], 'r')\n",
    "acc_ax = loss_ax.twinx() # loss_ax와 x축을 공유하는 acc_ax\n",
    "acc_ax.plot(hist.history.get('binary_accuracy'), 'b')"
   ]
  },
  {
   "cell_type": "code",
   "execution_count": 13,
   "id": "3f0022da",
   "metadata": {},
   "outputs": [
    {
     "name": "stdout",
     "output_type": "stream",
     "text": [
      "22/22 [==============================] - 0s 2ms/step - loss: 0.5138 - binary_accuracy: 0.7614\n"
     ]
    },
    {
     "data": {
      "text/plain": [
       "[0.5137681365013123, 0.7614285945892334]"
      ]
     },
     "execution_count": 13,
     "metadata": {},
     "output_type": "execute_result"
    }
   ],
   "source": [
    "# 모델 평가(X)\n",
    "model.evaluate(X_train, y_train)"
   ]
  },
  {
   "cell_type": "code",
   "execution_count": 14,
   "id": "da6a598c",
   "metadata": {},
   "outputs": [
    {
     "name": "stdout",
     "output_type": "stream",
     "text": [
      "3/3 [==============================] - 0s 2ms/step - loss: 0.6906 - binary_accuracy: 0.6618\n"
     ]
    },
    {
     "data": {
      "text/plain": [
       "[0.6905550956726074, 0.6617646813392639]"
      ]
     },
     "execution_count": 14,
     "metadata": {},
     "output_type": "execute_result"
    }
   ],
   "source": [
    "# 모델 평가(O)\n",
    "model.evaluate(X_test, y_test)"
   ]
  },
  {
   "cell_type": "markdown",
   "id": "b943fe72",
   "metadata": {},
   "source": [
    "## 혼동행렬\n",
    "- 테스트 데이터셋의 실제값과 예측값으로 작성된 교차표"
   ]
  },
  {
   "cell_type": "code",
   "execution_count": 15,
   "id": "a3b691e0",
   "metadata": {},
   "outputs": [
    {
     "data": {
      "text/plain": [
       "array([0., 1., 1., 0., 0.])"
      ]
     },
     "execution_count": 15,
     "metadata": {},
     "output_type": "execute_result"
    }
   ],
   "source": [
    "y_test[:5]"
   ]
  },
  {
   "cell_type": "code",
   "execution_count": 16,
   "id": "ed5e1247",
   "metadata": {},
   "outputs": [
    {
     "name": "stdout",
     "output_type": "stream",
     "text": [
      "3/3 [==============================] - 0s 2ms/step\n"
     ]
    }
   ],
   "source": [
    "# 실제값 : y_test (68개)\n",
    "# 예측값\n",
    "y_hat = (model.predict(X_test)>=0.5).astype(float)"
   ]
  },
  {
   "cell_type": "code",
   "execution_count": 17,
   "id": "d2407391",
   "metadata": {},
   "outputs": [
    {
     "name": "stdout",
     "output_type": "stream",
     "text": [
      "(68,) (68, 1)\n",
      "35 6\n",
      "17 10\n"
     ]
    }
   ],
   "source": [
    "TN = 0 # 0을 0으로 예측한 경우의 수 - T\n",
    "FP = 0 # 0을 1로 예측한 경우의 수(틀린 경우) - F\n",
    "FN = 0 # 1을 0으로 예측한 경우의 수 - F\n",
    "TP = 0 # 1을 1로 예측한 경우의 수 - T\n",
    "print(y_test.shape, y_hat.shape)\n",
    "for y, h in zip(y_test, y_hat.reshape(-1)) :\n",
    "    if y==0 and h==0 :\n",
    "        TN += 1\n",
    "    elif y==0 and h==1:\n",
    "        FP += 1\n",
    "    elif y==1 and h==0:\n",
    "        FN += 1\n",
    "    else :\n",
    "        TP += 1\n",
    "print(TN, FP)\n",
    "print(FN, TP)"
   ]
  },
  {
   "cell_type": "code",
   "execution_count": 18,
   "id": "fe422331",
   "metadata": {},
   "outputs": [
    {
     "data": {
      "text/html": [
       "<div>\n",
       "<style scoped>\n",
       "    .dataframe tbody tr th:only-of-type {\n",
       "        vertical-align: middle;\n",
       "    }\n",
       "\n",
       "    .dataframe tbody tr th {\n",
       "        vertical-align: top;\n",
       "    }\n",
       "\n",
       "    .dataframe thead th {\n",
       "        text-align: right;\n",
       "    }\n",
       "</style>\n",
       "<table border=\"1\" class=\"dataframe\">\n",
       "  <thead>\n",
       "    <tr style=\"text-align: right;\">\n",
       "      <th>예측값</th>\n",
       "      <th>0.0</th>\n",
       "      <th>1.0</th>\n",
       "    </tr>\n",
       "    <tr>\n",
       "      <th>실제값</th>\n",
       "      <th></th>\n",
       "      <th></th>\n",
       "    </tr>\n",
       "  </thead>\n",
       "  <tbody>\n",
       "    <tr>\n",
       "      <th>0.0</th>\n",
       "      <td>35</td>\n",
       "      <td>6</td>\n",
       "    </tr>\n",
       "    <tr>\n",
       "      <th>1.0</th>\n",
       "      <td>17</td>\n",
       "      <td>10</td>\n",
       "    </tr>\n",
       "  </tbody>\n",
       "</table>\n",
       "</div>"
      ],
      "text/plain": [
       "예측값  0.0  1.0\n",
       "실제값          \n",
       "0.0   35    6\n",
       "1.0   17   10"
      ]
     },
     "execution_count": 18,
     "metadata": {},
     "output_type": "execute_result"
    }
   ],
   "source": [
    "ctab = pd.crosstab(y_test, # 실제값\n",
    "                   y_hat.reshape(-1)) # 예측값\n",
    "ctab.index.name = '실제값'\n",
    "ctab.columns.name = '예측값'\n",
    "ctab\n",
    "pd.crosstab(y_test, # 실제값\n",
    "            y_hat.reshape(-1),\n",
    "            rownames=['실제값'],\n",
    "            colnames=['예측값']) # 예측값"
   ]
  },
  {
   "cell_type": "code",
   "execution_count": 19,
   "id": "d6781b79",
   "metadata": {},
   "outputs": [
    {
     "data": {
      "text/plain": [
       "array([[35,  6],\n",
       "       [17, 10]], dtype=int64)"
      ]
     },
     "execution_count": 19,
     "metadata": {},
     "output_type": "execute_result"
    }
   ],
   "source": [
    "# 혼동행렬\n",
    "from sklearn.metrics import confusion_matrix\n",
    "confusion_matrix(y_test,\n",
    "                 y_hat.reshape(-1))"
   ]
  },
  {
   "cell_type": "code",
   "execution_count": 20,
   "id": "56e5cff1",
   "metadata": {},
   "outputs": [
    {
     "name": "stdout",
     "output_type": "stream",
     "text": [
      "accuracy :  0.6617647058823529\n",
      "recall :  0.37037037037037035\n",
      "precision :  0.625\n"
     ]
    }
   ],
   "source": [
    "# accuracy\n",
    "print('accuracy : ', (TN+TP)/(TN+FP+FN+TP))\n",
    "print('recall : ', (TP) / (FN+TP))\n",
    "print('precision : ', (TP)/(FP+TP))"
   ]
  },
  {
   "cell_type": "markdown",
   "id": "fae9c138",
   "metadata": {},
   "source": [
    "## 6. 모델 사용"
   ]
  },
  {
   "cell_type": "code",
   "execution_count": 21,
   "id": "b7a60d14",
   "metadata": {},
   "outputs": [
    {
     "data": {
      "text/plain": [
       "array([  6.   , 125.   ,  78.   ,  31.   ,   0.   ,  27.6  ,   0.565,\n",
       "        49.   ])"
      ]
     },
     "execution_count": 21,
     "metadata": {},
     "output_type": "execute_result"
    }
   ],
   "source": [
    "X_test[1]"
   ]
  },
  {
   "cell_type": "code",
   "execution_count": 22,
   "id": "b733b5ad",
   "metadata": {},
   "outputs": [
    {
     "name": "stdout",
     "output_type": "stream",
     "text": [
      "1/1 [==============================] - 0s 20ms/step\n"
     ]
    },
    {
     "data": {
      "text/plain": [
       "0"
      ]
     },
     "execution_count": 22,
     "metadata": {},
     "output_type": "execute_result"
    }
   ],
   "source": [
    "int(model.predict(np.array([[2, 122, 76, 27, 200, 35.9, 0.483, 26]]))>=0.5)"
   ]
  },
  {
   "cell_type": "code",
   "execution_count": 23,
   "id": "815c081c",
   "metadata": {},
   "outputs": [
    {
     "name": "stdout",
     "output_type": "stream",
     "text": [
      "1/1 [==============================] - 0s 41ms/step\n"
     ]
    },
    {
     "data": {
      "text/plain": [
       "array([[0.3022341]], dtype=float32)"
      ]
     },
     "execution_count": 23,
     "metadata": {},
     "output_type": "execute_result"
    }
   ],
   "source": [
    "model.predict([[2, 122, 76, 27, 200, 35.9, 0.483, 26],\n",
    "              ])"
   ]
  },
  {
   "cell_type": "markdown",
   "id": "2bd0b99e",
   "metadata": {},
   "source": [
    "# 분류분석\n",
    "1. 데이터셋 생성 및 전처리 : 훈련셋(600), 검증셋(100), 테스트셋(68)\n",
    "2. 모델 생성(input 8, output 2) : 출력층 softmax(출력합을 1)\n",
    "    * model.summary() 파라미터 수와 메모리 확인\n",
    "3. 모델 학습과정 설정 : loss=\"categorical_crossentropy, metrics=[\"accuracy\"]\n",
    "4. 모델 학습 : 훈련셋과 검증셋\n",
    "5. 모델 평가 : 그래프(hist.history), 평가(테스트셋), 교차표(테스트셋)\n",
    "6. 모델 사용 : predict 결과에 argmax()\n",
    "[99.2, 0.8]"
   ]
  },
  {
   "cell_type": "code",
   "execution_count": 24,
   "id": "c0e39a73",
   "metadata": {},
   "outputs": [
    {
     "data": {
      "text/plain": [
       "(768, 9)"
      ]
     },
     "execution_count": 24,
     "metadata": {},
     "output_type": "execute_result"
    }
   ],
   "source": [
    "dataset = np.loadtxt('data/pima-indians-diabetes.csv',\n",
    "                     encoding='utf-8',\n",
    "                     delimiter=',')\n",
    "dataset.shape"
   ]
  },
  {
   "cell_type": "code",
   "execution_count": 25,
   "id": "9bce0086",
   "metadata": {},
   "outputs": [
    {
     "data": {
      "text/plain": [
       "((600, 8), (600,), (100, 8), (100,), (68, 8), (68,))"
      ]
     },
     "execution_count": 25,
     "metadata": {},
     "output_type": "execute_result"
    }
   ],
   "source": [
    "# 훈련셋(600), 검증셋(100), 테스트셋(68)\n",
    "X_train = dataset[:600, :-1]\n",
    "y_train = dataset[:600, -1]\n",
    "X_val = dataset[600:700, :-1]\n",
    "y_val = dataset[600:700, -1]\n",
    "X_test = dataset[700:, :-1]\n",
    "y_test = dataset[700:, -1]\n",
    "X_train.shape, y_train.shape, X_val.shape, y_val.shape, X_test.shape, y_test.shape"
   ]
  },
  {
   "cell_type": "code",
   "execution_count": 26,
   "id": "90acd014",
   "metadata": {},
   "outputs": [
    {
     "name": "stdout",
     "output_type": "stream",
     "text": [
      "[1. 0. 1. 0. 1.]\n",
      "[[0. 1.]\n",
      " [1. 0.]\n",
      " [0. 1.]\n",
      " [1. 0.]\n",
      " [0. 1.]]\n"
     ]
    },
    {
     "data": {
      "text/plain": [
       "((600,), (600, 2), (100, 2), (68, 2))"
      ]
     },
     "execution_count": 26,
     "metadata": {},
     "output_type": "execute_result"
    }
   ],
   "source": [
    "# 타겟변수의 원핫인코딩(분류분석)\n",
    "print(y_train[:5])\n",
    "print(utils.to_categorical(y_train[:5]))\n",
    "Y_train = utils.to_categorical(y_train)\n",
    "Y_val   = utils.to_categorical(y_val)\n",
    "Y_test  = utils.to_categorical(y_test)\n",
    "y_train.shape, Y_train.shape, Y_val.shape, Y_test.shape"
   ]
  },
  {
   "cell_type": "markdown",
   "id": "39af925f",
   "metadata": {},
   "source": [
    "# 2. 모델 생성(input8, target2)\n",
    " - 과적합 줄이는 단계 추가(dropout 추가)"
   ]
  },
  {
   "cell_type": "code",
   "execution_count": 45,
   "id": "b7d02ca0",
   "metadata": {},
   "outputs": [
    {
     "name": "stdout",
     "output_type": "stream",
     "text": [
      "Model: \"sequential_6\"\n",
      "_________________________________________________________________\n",
      " Layer (type)                Output Shape              Param #   \n",
      "=================================================================\n",
      " dense_17 (Dense)            (None, 32)                288       \n",
      "                                                                 \n",
      " dropout (Dropout)           (None, 32)                0         \n",
      "                                                                 \n",
      " dense_18 (Dense)            (None, 64)                2112      \n",
      "                                                                 \n",
      " dropout_1 (Dropout)         (None, 64)                0         \n",
      "                                                                 \n",
      " dense_19 (Dense)            (None, 16)                1040      \n",
      "                                                                 \n",
      " dropout_2 (Dropout)         (None, 16)                0         \n",
      "                                                                 \n",
      " dense_20 (Dense)            (None, 8)                 136       \n",
      "                                                                 \n",
      " dense_21 (Dense)            (None, 2)                 18        \n",
      "                                                                 \n",
      "=================================================================\n",
      "Total params: 3,594\n",
      "Trainable params: 3,594\n",
      "Non-trainable params: 0\n",
      "_________________________________________________________________\n"
     ]
    }
   ],
   "source": [
    "model = Sequential()\n",
    "model.add(Input(shape=(8,)))\n",
    "model.add(Dense(units=32, activation='relu'))\n",
    "model.add(Dropout(0.2)) # 과적합 해결\n",
    "model.add(Dense(units=64, activation='relu'))\n",
    "model.add(Dropout(0.1))\n",
    "model.add(Dense(units=16, activation='relu'))\n",
    "model.add(Dropout(0.2))\n",
    "model.add(Dense(units=8, activation='relu'))\n",
    "model.add(Dense(units=2, activation='softmax'))\n",
    "model.summary()"
   ]
  },
  {
   "cell_type": "markdown",
   "id": "f5b46861",
   "metadata": {},
   "source": [
    "# 3. 학습과정 설정"
   ]
  },
  {
   "cell_type": "code",
   "execution_count": 46,
   "id": "9a6d8bfb",
   "metadata": {},
   "outputs": [],
   "source": [
    "model.compile(loss='categorical_crossentropy',\n",
    "              optimizer='nadam',\n",
    "              metrics=['accuracy'])"
   ]
  },
  {
   "cell_type": "markdown",
   "id": "b90611d3",
   "metadata": {},
   "source": [
    "# 4. 모델 학습"
   ]
  },
  {
   "cell_type": "code",
   "execution_count": 47,
   "id": "5f635854",
   "metadata": {},
   "outputs": [
    {
     "name": "stdout",
     "output_type": "stream",
     "text": [
      "Epoch 1/300\n",
      "6/6 [==============================] - 1s 33ms/step - loss: 4.1145 - accuracy: 0.5950 - val_loss: 1.1440 - val_accuracy: 0.5100\n",
      "Epoch 2/300\n",
      "6/6 [==============================] - 0s 8ms/step - loss: 2.5333 - accuracy: 0.5683 - val_loss: 1.8608 - val_accuracy: 0.3900\n",
      "Epoch 3/300\n",
      "6/6 [==============================] - 0s 7ms/step - loss: 2.0203 - accuracy: 0.5567 - val_loss: 1.5553 - val_accuracy: 0.3300\n",
      "Epoch 4/300\n",
      "6/6 [==============================] - 0s 10ms/step - loss: 1.9133 - accuracy: 0.5333 - val_loss: 1.0965 - val_accuracy: 0.3800\n",
      "Epoch 5/300\n",
      "6/6 [==============================] - 0s 8ms/step - loss: 1.5487 - accuracy: 0.5300 - val_loss: 0.9095 - val_accuracy: 0.4400\n",
      "Epoch 6/300\n",
      "6/6 [==============================] - 0s 8ms/step - loss: 1.4258 - accuracy: 0.5933 - val_loss: 0.8865 - val_accuracy: 0.5100\n",
      "Epoch 7/300\n",
      "6/6 [==============================] - 0s 8ms/step - loss: 1.2388 - accuracy: 0.5583 - val_loss: 0.8231 - val_accuracy: 0.4700\n",
      "Epoch 8/300\n",
      "6/6 [==============================] - 0s 8ms/step - loss: 1.0748 - accuracy: 0.5600 - val_loss: 0.8120 - val_accuracy: 0.4600\n",
      "Epoch 9/300\n",
      "6/6 [==============================] - 0s 7ms/step - loss: 1.0762 - accuracy: 0.5783 - val_loss: 0.7890 - val_accuracy: 0.4600\n",
      "Epoch 10/300\n",
      "6/6 [==============================] - 0s 8ms/step - loss: 1.0928 - accuracy: 0.5400 - val_loss: 0.7401 - val_accuracy: 0.5400\n",
      "Epoch 11/300\n",
      "6/6 [==============================] - 0s 8ms/step - loss: 0.9547 - accuracy: 0.5650 - val_loss: 0.7115 - val_accuracy: 0.6000\n",
      "Epoch 12/300\n",
      "6/6 [==============================] - 0s 7ms/step - loss: 0.9670 - accuracy: 0.5733 - val_loss: 0.7087 - val_accuracy: 0.5300\n",
      "Epoch 13/300\n",
      "6/6 [==============================] - 0s 8ms/step - loss: 0.8477 - accuracy: 0.6117 - val_loss: 0.7047 - val_accuracy: 0.5600\n",
      "Epoch 14/300\n",
      "6/6 [==============================] - 0s 8ms/step - loss: 0.9364 - accuracy: 0.5950 - val_loss: 0.7017 - val_accuracy: 0.6200\n",
      "Epoch 15/300\n",
      "6/6 [==============================] - 0s 8ms/step - loss: 0.9142 - accuracy: 0.6067 - val_loss: 0.7029 - val_accuracy: 0.6000\n",
      "Epoch 16/300\n",
      "6/6 [==============================] - 0s 8ms/step - loss: 0.8313 - accuracy: 0.5950 - val_loss: 0.6980 - val_accuracy: 0.6200\n",
      "Epoch 17/300\n",
      "6/6 [==============================] - 0s 8ms/step - loss: 0.7996 - accuracy: 0.5950 - val_loss: 0.6824 - val_accuracy: 0.6600\n",
      "Epoch 18/300\n",
      "6/6 [==============================] - 0s 8ms/step - loss: 0.7681 - accuracy: 0.6367 - val_loss: 0.6968 - val_accuracy: 0.6300\n",
      "Epoch 19/300\n",
      "6/6 [==============================] - 0s 8ms/step - loss: 0.7819 - accuracy: 0.6083 - val_loss: 0.6801 - val_accuracy: 0.6500\n",
      "Epoch 20/300\n",
      "6/6 [==============================] - 0s 8ms/step - loss: 0.7459 - accuracy: 0.6167 - val_loss: 0.6765 - val_accuracy: 0.6500\n",
      "Epoch 21/300\n",
      "6/6 [==============================] - 0s 8ms/step - loss: 0.7125 - accuracy: 0.6133 - val_loss: 0.6670 - val_accuracy: 0.6700\n",
      "Epoch 22/300\n",
      "6/6 [==============================] - 0s 8ms/step - loss: 0.7289 - accuracy: 0.6317 - val_loss: 0.6728 - val_accuracy: 0.6700\n",
      "Epoch 23/300\n",
      "6/6 [==============================] - 0s 8ms/step - loss: 0.7188 - accuracy: 0.6317 - val_loss: 0.6809 - val_accuracy: 0.6600\n",
      "Epoch 24/300\n",
      "6/6 [==============================] - 0s 7ms/step - loss: 0.7499 - accuracy: 0.6483 - val_loss: 0.6738 - val_accuracy: 0.6600\n",
      "Epoch 25/300\n",
      "6/6 [==============================] - 0s 8ms/step - loss: 0.7586 - accuracy: 0.6400 - val_loss: 0.6750 - val_accuracy: 0.6700\n",
      "Epoch 26/300\n",
      "6/6 [==============================] - 0s 11ms/step - loss: 0.7001 - accuracy: 0.6317 - val_loss: 0.6716 - val_accuracy: 0.6600\n",
      "Epoch 27/300\n",
      "6/6 [==============================] - 0s 9ms/step - loss: 0.7323 - accuracy: 0.6317 - val_loss: 0.6627 - val_accuracy: 0.6500\n",
      "Epoch 28/300\n",
      "6/6 [==============================] - 0s 8ms/step - loss: 0.7345 - accuracy: 0.6300 - val_loss: 0.6642 - val_accuracy: 0.6600\n",
      "Epoch 29/300\n",
      "6/6 [==============================] - 0s 8ms/step - loss: 0.7452 - accuracy: 0.6333 - val_loss: 0.6616 - val_accuracy: 0.6600\n",
      "Epoch 30/300\n",
      "6/6 [==============================] - 0s 8ms/step - loss: 0.7119 - accuracy: 0.6367 - val_loss: 0.6582 - val_accuracy: 0.6600\n",
      "Epoch 31/300\n",
      "6/6 [==============================] - 0s 9ms/step - loss: 0.6921 - accuracy: 0.6267 - val_loss: 0.6533 - val_accuracy: 0.6600\n",
      "Epoch 32/300\n",
      "6/6 [==============================] - 0s 8ms/step - loss: 0.6972 - accuracy: 0.6300 - val_loss: 0.6526 - val_accuracy: 0.6600\n",
      "Epoch 33/300\n",
      "6/6 [==============================] - 0s 8ms/step - loss: 0.6984 - accuracy: 0.6283 - val_loss: 0.6522 - val_accuracy: 0.6600\n",
      "Epoch 34/300\n",
      "6/6 [==============================] - 0s 9ms/step - loss: 0.6783 - accuracy: 0.6633 - val_loss: 0.6495 - val_accuracy: 0.6600\n",
      "Epoch 35/300\n",
      "6/6 [==============================] - 0s 9ms/step - loss: 0.7208 - accuracy: 0.6250 - val_loss: 0.6484 - val_accuracy: 0.6700\n",
      "Epoch 36/300\n",
      "6/6 [==============================] - 0s 8ms/step - loss: 0.6830 - accuracy: 0.6283 - val_loss: 0.6478 - val_accuracy: 0.6700\n",
      "Epoch 37/300\n",
      "6/6 [==============================] - 0s 8ms/step - loss: 0.6782 - accuracy: 0.6583 - val_loss: 0.6438 - val_accuracy: 0.6700\n",
      "Epoch 38/300\n",
      "6/6 [==============================] - 0s 7ms/step - loss: 0.6722 - accuracy: 0.6500 - val_loss: 0.6416 - val_accuracy: 0.6700\n",
      "Epoch 39/300\n",
      "6/6 [==============================] - 0s 8ms/step - loss: 0.6665 - accuracy: 0.6600 - val_loss: 0.6377 - val_accuracy: 0.6700\n",
      "Epoch 40/300\n",
      "6/6 [==============================] - 0s 8ms/step - loss: 0.6454 - accuracy: 0.6567 - val_loss: 0.6350 - val_accuracy: 0.6700\n",
      "Epoch 41/300\n",
      "6/6 [==============================] - 0s 8ms/step - loss: 0.6651 - accuracy: 0.6567 - val_loss: 0.6336 - val_accuracy: 0.6700\n",
      "Epoch 42/300\n",
      "6/6 [==============================] - 0s 8ms/step - loss: 0.6581 - accuracy: 0.6400 - val_loss: 0.6313 - val_accuracy: 0.6700\n",
      "Epoch 43/300\n",
      "6/6 [==============================] - 0s 10ms/step - loss: 0.6386 - accuracy: 0.6483 - val_loss: 0.6303 - val_accuracy: 0.6700\n",
      "Epoch 44/300\n",
      "6/6 [==============================] - 0s 8ms/step - loss: 0.6571 - accuracy: 0.6300 - val_loss: 0.6286 - val_accuracy: 0.6700\n",
      "Epoch 45/300\n",
      "6/6 [==============================] - 0s 8ms/step - loss: 0.6521 - accuracy: 0.6417 - val_loss: 0.6240 - val_accuracy: 0.6700\n",
      "Epoch 46/300\n",
      "6/6 [==============================] - 0s 8ms/step - loss: 0.6434 - accuracy: 0.6500 - val_loss: 0.6231 - val_accuracy: 0.6700\n",
      "Epoch 47/300\n",
      "6/6 [==============================] - 0s 9ms/step - loss: 0.6497 - accuracy: 0.6433 - val_loss: 0.6198 - val_accuracy: 0.6700\n",
      "Epoch 48/300\n",
      "6/6 [==============================] - 0s 8ms/step - loss: 0.6676 - accuracy: 0.6500 - val_loss: 0.6215 - val_accuracy: 0.6700\n",
      "Epoch 49/300\n",
      "6/6 [==============================] - 0s 9ms/step - loss: 0.6269 - accuracy: 0.6683 - val_loss: 0.6200 - val_accuracy: 0.6700\n",
      "Epoch 50/300\n",
      "6/6 [==============================] - 0s 8ms/step - loss: 0.6523 - accuracy: 0.6717 - val_loss: 0.6172 - val_accuracy: 0.6700\n",
      "Epoch 51/300\n",
      "6/6 [==============================] - 0s 8ms/step - loss: 0.6515 - accuracy: 0.6517 - val_loss: 0.6173 - val_accuracy: 0.6700\n",
      "Epoch 52/300\n",
      "6/6 [==============================] - 0s 8ms/step - loss: 0.6472 - accuracy: 0.6550 - val_loss: 0.6162 - val_accuracy: 0.6700\n",
      "Epoch 53/300\n",
      "6/6 [==============================] - 0s 8ms/step - loss: 0.6355 - accuracy: 0.6517 - val_loss: 0.6157 - val_accuracy: 0.6700\n",
      "Epoch 54/300\n",
      "6/6 [==============================] - 0s 10ms/step - loss: 0.6390 - accuracy: 0.6667 - val_loss: 0.6140 - val_accuracy: 0.6700\n",
      "Epoch 55/300\n",
      "6/6 [==============================] - 0s 8ms/step - loss: 0.6399 - accuracy: 0.6567 - val_loss: 0.6097 - val_accuracy: 0.6900\n",
      "Epoch 56/300\n",
      "6/6 [==============================] - 0s 7ms/step - loss: 0.6299 - accuracy: 0.6567 - val_loss: 0.6083 - val_accuracy: 0.6900\n",
      "Epoch 57/300\n",
      "6/6 [==============================] - 0s 8ms/step - loss: 0.6444 - accuracy: 0.6567 - val_loss: 0.6088 - val_accuracy: 0.6900\n",
      "Epoch 58/300\n",
      "6/6 [==============================] - 0s 8ms/step - loss: 0.6313 - accuracy: 0.6650 - val_loss: 0.6063 - val_accuracy: 0.6900\n",
      "Epoch 59/300\n",
      "6/6 [==============================] - 0s 7ms/step - loss: 0.6399 - accuracy: 0.6750 - val_loss: 0.6076 - val_accuracy: 0.6800\n",
      "Epoch 60/300\n",
      "6/6 [==============================] - 0s 9ms/step - loss: 0.6273 - accuracy: 0.6850 - val_loss: 0.6095 - val_accuracy: 0.6800\n",
      "Epoch 61/300\n",
      "6/6 [==============================] - 0s 8ms/step - loss: 0.6278 - accuracy: 0.6600 - val_loss: 0.6100 - val_accuracy: 0.6700\n",
      "Epoch 62/300\n",
      "6/6 [==============================] - 0s 8ms/step - loss: 0.6389 - accuracy: 0.6583 - val_loss: 0.6101 - val_accuracy: 0.6800\n",
      "Epoch 63/300\n",
      "6/6 [==============================] - 0s 8ms/step - loss: 0.6283 - accuracy: 0.6567 - val_loss: 0.6125 - val_accuracy: 0.6900\n",
      "Epoch 64/300\n",
      "6/6 [==============================] - 0s 7ms/step - loss: 0.6317 - accuracy: 0.6550 - val_loss: 0.6103 - val_accuracy: 0.6900\n",
      "Epoch 65/300\n",
      "6/6 [==============================] - 0s 8ms/step - loss: 0.6354 - accuracy: 0.6567 - val_loss: 0.6054 - val_accuracy: 0.6900\n",
      "Epoch 66/300\n",
      "6/6 [==============================] - 0s 8ms/step - loss: 0.6354 - accuracy: 0.6650 - val_loss: 0.6054 - val_accuracy: 0.6900\n",
      "Epoch 67/300\n",
      "6/6 [==============================] - 0s 7ms/step - loss: 0.6218 - accuracy: 0.6800 - val_loss: 0.6062 - val_accuracy: 0.6800\n",
      "Epoch 68/300\n",
      "6/6 [==============================] - 0s 8ms/step - loss: 0.6314 - accuracy: 0.6583 - val_loss: 0.6072 - val_accuracy: 0.6900\n",
      "Epoch 69/300\n",
      "6/6 [==============================] - 0s 7ms/step - loss: 0.6451 - accuracy: 0.6467 - val_loss: 0.6071 - val_accuracy: 0.6900\n",
      "Epoch 70/300\n",
      "6/6 [==============================] - 0s 8ms/step - loss: 0.6265 - accuracy: 0.6683 - val_loss: 0.6051 - val_accuracy: 0.6900\n",
      "Epoch 71/300\n",
      "6/6 [==============================] - 0s 8ms/step - loss: 0.6192 - accuracy: 0.6533 - val_loss: 0.6025 - val_accuracy: 0.6800\n",
      "Epoch 72/300\n",
      "6/6 [==============================] - 0s 7ms/step - loss: 0.6314 - accuracy: 0.6550 - val_loss: 0.6056 - val_accuracy: 0.6800\n",
      "Epoch 73/300\n",
      "6/6 [==============================] - 0s 8ms/step - loss: 0.6276 - accuracy: 0.6717 - val_loss: 0.6065 - val_accuracy: 0.6800\n",
      "Epoch 74/300\n",
      "6/6 [==============================] - 0s 8ms/step - loss: 0.6235 - accuracy: 0.6617 - val_loss: 0.6043 - val_accuracy: 0.6800\n",
      "Epoch 75/300\n",
      "6/6 [==============================] - 0s 9ms/step - loss: 0.6333 - accuracy: 0.6467 - val_loss: 0.6048 - val_accuracy: 0.6900\n",
      "Epoch 76/300\n",
      "6/6 [==============================] - 0s 7ms/step - loss: 0.6294 - accuracy: 0.6617 - val_loss: 0.6054 - val_accuracy: 0.6900\n",
      "Epoch 77/300\n",
      "6/6 [==============================] - 0s 7ms/step - loss: 0.6252 - accuracy: 0.6550 - val_loss: 0.6036 - val_accuracy: 0.6900\n",
      "Epoch 78/300\n",
      "6/6 [==============================] - 0s 7ms/step - loss: 0.6257 - accuracy: 0.6600 - val_loss: 0.6009 - val_accuracy: 0.6900\n",
      "Epoch 79/300\n",
      "6/6 [==============================] - 0s 8ms/step - loss: 0.6153 - accuracy: 0.6667 - val_loss: 0.6005 - val_accuracy: 0.6900\n",
      "Epoch 80/300\n",
      "6/6 [==============================] - 0s 8ms/step - loss: 0.6192 - accuracy: 0.6683 - val_loss: 0.6000 - val_accuracy: 0.6900\n",
      "Epoch 81/300\n",
      "6/6 [==============================] - 0s 8ms/step - loss: 0.6119 - accuracy: 0.6667 - val_loss: 0.5970 - val_accuracy: 0.6900\n",
      "Epoch 82/300\n",
      "6/6 [==============================] - 0s 8ms/step - loss: 0.6314 - accuracy: 0.6633 - val_loss: 0.6012 - val_accuracy: 0.6900\n",
      "Epoch 83/300\n",
      "6/6 [==============================] - 0s 8ms/step - loss: 0.6099 - accuracy: 0.6750 - val_loss: 0.5992 - val_accuracy: 0.6900\n",
      "Epoch 84/300\n",
      "6/6 [==============================] - 0s 7ms/step - loss: 0.6269 - accuracy: 0.6667 - val_loss: 0.5969 - val_accuracy: 0.6900\n",
      "Epoch 85/300\n",
      "6/6 [==============================] - 0s 8ms/step - loss: 0.6157 - accuracy: 0.6667 - val_loss: 0.5967 - val_accuracy: 0.7000\n",
      "Epoch 86/300\n",
      "6/6 [==============================] - 0s 7ms/step - loss: 0.6392 - accuracy: 0.6483 - val_loss: 0.5982 - val_accuracy: 0.6900\n",
      "Epoch 87/300\n",
      "6/6 [==============================] - 0s 7ms/step - loss: 0.6178 - accuracy: 0.6783 - val_loss: 0.5982 - val_accuracy: 0.6900\n",
      "Epoch 88/300\n",
      "6/6 [==============================] - 0s 8ms/step - loss: 0.5965 - accuracy: 0.7017 - val_loss: 0.5977 - val_accuracy: 0.6900\n",
      "Epoch 89/300\n",
      "6/6 [==============================] - 0s 8ms/step - loss: 0.6273 - accuracy: 0.6633 - val_loss: 0.5977 - val_accuracy: 0.6900\n",
      "Epoch 90/300\n",
      "6/6 [==============================] - 0s 7ms/step - loss: 0.6089 - accuracy: 0.6867 - val_loss: 0.5983 - val_accuracy: 0.6900\n",
      "Epoch 91/300\n",
      "6/6 [==============================] - 0s 8ms/step - loss: 0.6226 - accuracy: 0.6650 - val_loss: 0.6004 - val_accuracy: 0.6900\n",
      "Epoch 92/300\n",
      "6/6 [==============================] - 0s 7ms/step - loss: 0.6175 - accuracy: 0.6617 - val_loss: 0.5988 - val_accuracy: 0.6900\n",
      "Epoch 93/300\n",
      "6/6 [==============================] - 0s 7ms/step - loss: 0.6084 - accuracy: 0.6650 - val_loss: 0.5962 - val_accuracy: 0.6900\n",
      "Epoch 94/300\n",
      "6/6 [==============================] - 0s 8ms/step - loss: 0.6052 - accuracy: 0.6667 - val_loss: 0.5923 - val_accuracy: 0.6900\n",
      "Epoch 95/300\n",
      "6/6 [==============================] - 0s 7ms/step - loss: 0.6127 - accuracy: 0.7000 - val_loss: 0.5926 - val_accuracy: 0.7000\n",
      "Epoch 96/300\n",
      "6/6 [==============================] - 0s 10ms/step - loss: 0.6285 - accuracy: 0.6650 - val_loss: 0.5961 - val_accuracy: 0.7000\n",
      "Epoch 97/300\n",
      "6/6 [==============================] - 0s 8ms/step - loss: 0.6095 - accuracy: 0.6617 - val_loss: 0.5957 - val_accuracy: 0.6900\n",
      "Epoch 98/300\n",
      "6/6 [==============================] - 0s 8ms/step - loss: 0.6072 - accuracy: 0.6650 - val_loss: 0.5909 - val_accuracy: 0.7000\n",
      "Epoch 99/300\n",
      "6/6 [==============================] - 0s 8ms/step - loss: 0.6193 - accuracy: 0.6650 - val_loss: 0.5932 - val_accuracy: 0.6900\n",
      "Epoch 100/300\n",
      "6/6 [==============================] - 0s 9ms/step - loss: 0.6076 - accuracy: 0.6817 - val_loss: 0.5914 - val_accuracy: 0.6900\n",
      "Epoch 101/300\n",
      "6/6 [==============================] - 0s 9ms/step - loss: 0.6140 - accuracy: 0.6683 - val_loss: 0.5909 - val_accuracy: 0.7000\n",
      "Epoch 102/300\n",
      "6/6 [==============================] - 0s 9ms/step - loss: 0.6064 - accuracy: 0.6800 - val_loss: 0.5896 - val_accuracy: 0.7000\n",
      "Epoch 103/300\n",
      "6/6 [==============================] - 0s 9ms/step - loss: 0.6187 - accuracy: 0.6733 - val_loss: 0.5893 - val_accuracy: 0.7000\n",
      "Epoch 104/300\n",
      "6/6 [==============================] - 0s 8ms/step - loss: 0.6240 - accuracy: 0.6667 - val_loss: 0.5917 - val_accuracy: 0.6900\n",
      "Epoch 105/300\n",
      "6/6 [==============================] - 0s 9ms/step - loss: 0.6141 - accuracy: 0.6650 - val_loss: 0.5910 - val_accuracy: 0.6900\n",
      "Epoch 106/300\n",
      "6/6 [==============================] - 0s 8ms/step - loss: 0.6039 - accuracy: 0.6800 - val_loss: 0.5932 - val_accuracy: 0.6900\n",
      "Epoch 107/300\n",
      "6/6 [==============================] - 0s 9ms/step - loss: 0.6051 - accuracy: 0.6850 - val_loss: 0.5922 - val_accuracy: 0.6900\n",
      "Epoch 108/300\n",
      "6/6 [==============================] - 0s 9ms/step - loss: 0.6014 - accuracy: 0.6867 - val_loss: 0.5921 - val_accuracy: 0.6900\n",
      "Epoch 109/300\n",
      "6/6 [==============================] - 0s 7ms/step - loss: 0.6137 - accuracy: 0.6667 - val_loss: 0.5938 - val_accuracy: 0.6800\n",
      "Epoch 110/300\n",
      "6/6 [==============================] - 0s 7ms/step - loss: 0.6022 - accuracy: 0.6583 - val_loss: 0.5928 - val_accuracy: 0.7000\n",
      "Epoch 111/300\n",
      "6/6 [==============================] - 0s 8ms/step - loss: 0.6101 - accuracy: 0.6767 - val_loss: 0.5940 - val_accuracy: 0.6900\n",
      "Epoch 112/300\n",
      "6/6 [==============================] - 0s 8ms/step - loss: 0.6059 - accuracy: 0.6683 - val_loss: 0.5915 - val_accuracy: 0.7000\n",
      "Epoch 113/300\n",
      "6/6 [==============================] - 0s 7ms/step - loss: 0.6066 - accuracy: 0.6867 - val_loss: 0.5925 - val_accuracy: 0.7000\n",
      "Epoch 114/300\n",
      "6/6 [==============================] - 0s 7ms/step - loss: 0.6106 - accuracy: 0.6733 - val_loss: 0.5914 - val_accuracy: 0.7000\n",
      "Epoch 115/300\n",
      "6/6 [==============================] - 0s 7ms/step - loss: 0.6103 - accuracy: 0.6733 - val_loss: 0.5914 - val_accuracy: 0.7000\n",
      "Epoch 116/300\n",
      "6/6 [==============================] - 0s 8ms/step - loss: 0.6119 - accuracy: 0.6733 - val_loss: 0.5907 - val_accuracy: 0.7000\n",
      "Epoch 117/300\n"
     ]
    },
    {
     "name": "stdout",
     "output_type": "stream",
     "text": [
      "6/6 [==============================] - 0s 8ms/step - loss: 0.5930 - accuracy: 0.6883 - val_loss: 0.5893 - val_accuracy: 0.6800\n",
      "Epoch 118/300\n",
      "6/6 [==============================] - 0s 9ms/step - loss: 0.5913 - accuracy: 0.6750 - val_loss: 0.5895 - val_accuracy: 0.6800\n",
      "Epoch 119/300\n",
      "6/6 [==============================] - 0s 7ms/step - loss: 0.6018 - accuracy: 0.6883 - val_loss: 0.5888 - val_accuracy: 0.6900\n",
      "Epoch 120/300\n",
      "6/6 [==============================] - 0s 8ms/step - loss: 0.6031 - accuracy: 0.6933 - val_loss: 0.5863 - val_accuracy: 0.6900\n",
      "Epoch 121/300\n",
      "6/6 [==============================] - 0s 8ms/step - loss: 0.5961 - accuracy: 0.6917 - val_loss: 0.5858 - val_accuracy: 0.6900\n",
      "Epoch 122/300\n",
      "6/6 [==============================] - 0s 8ms/step - loss: 0.6049 - accuracy: 0.7017 - val_loss: 0.5857 - val_accuracy: 0.6800\n",
      "Epoch 123/300\n",
      "6/6 [==============================] - 0s 7ms/step - loss: 0.5911 - accuracy: 0.6767 - val_loss: 0.5843 - val_accuracy: 0.6900\n",
      "Epoch 124/300\n",
      "6/6 [==============================] - 0s 8ms/step - loss: 0.5978 - accuracy: 0.6950 - val_loss: 0.5838 - val_accuracy: 0.6900\n",
      "Epoch 125/300\n",
      "6/6 [==============================] - 0s 7ms/step - loss: 0.5856 - accuracy: 0.6983 - val_loss: 0.5832 - val_accuracy: 0.6900\n",
      "Epoch 126/300\n",
      "6/6 [==============================] - 0s 8ms/step - loss: 0.5964 - accuracy: 0.7000 - val_loss: 0.5833 - val_accuracy: 0.6900\n",
      "Epoch 127/300\n",
      "6/6 [==============================] - 0s 8ms/step - loss: 0.5826 - accuracy: 0.7017 - val_loss: 0.5835 - val_accuracy: 0.7000\n",
      "Epoch 128/300\n",
      "6/6 [==============================] - 0s 7ms/step - loss: 0.5919 - accuracy: 0.7000 - val_loss: 0.5836 - val_accuracy: 0.6900\n",
      "Epoch 129/300\n",
      "6/6 [==============================] - 0s 7ms/step - loss: 0.6000 - accuracy: 0.6817 - val_loss: 0.5849 - val_accuracy: 0.6900\n",
      "Epoch 130/300\n",
      "6/6 [==============================] - 0s 7ms/step - loss: 0.5974 - accuracy: 0.6817 - val_loss: 0.5873 - val_accuracy: 0.6900\n",
      "Epoch 131/300\n",
      "6/6 [==============================] - 0s 7ms/step - loss: 0.5900 - accuracy: 0.6917 - val_loss: 0.5856 - val_accuracy: 0.6800\n",
      "Epoch 132/300\n",
      "6/6 [==============================] - 0s 7ms/step - loss: 0.5951 - accuracy: 0.6983 - val_loss: 0.5840 - val_accuracy: 0.6800\n",
      "Epoch 133/300\n",
      "6/6 [==============================] - 0s 7ms/step - loss: 0.5945 - accuracy: 0.6817 - val_loss: 0.5816 - val_accuracy: 0.6900\n",
      "Epoch 134/300\n",
      "6/6 [==============================] - 0s 7ms/step - loss: 0.5885 - accuracy: 0.6917 - val_loss: 0.5819 - val_accuracy: 0.6800\n",
      "Epoch 135/300\n",
      "6/6 [==============================] - 0s 7ms/step - loss: 0.5953 - accuracy: 0.7067 - val_loss: 0.5806 - val_accuracy: 0.6800\n",
      "Epoch 136/300\n",
      "6/6 [==============================] - 0s 8ms/step - loss: 0.6171 - accuracy: 0.6717 - val_loss: 0.5826 - val_accuracy: 0.6900\n",
      "Epoch 137/300\n",
      "6/6 [==============================] - 0s 8ms/step - loss: 0.5845 - accuracy: 0.6900 - val_loss: 0.5830 - val_accuracy: 0.6800\n",
      "Epoch 138/300\n",
      "6/6 [==============================] - 0s 9ms/step - loss: 0.5921 - accuracy: 0.6950 - val_loss: 0.5829 - val_accuracy: 0.6800\n",
      "Epoch 139/300\n",
      "6/6 [==============================] - 0s 8ms/step - loss: 0.6014 - accuracy: 0.6867 - val_loss: 0.5849 - val_accuracy: 0.6900\n",
      "Epoch 140/300\n",
      "6/6 [==============================] - 0s 8ms/step - loss: 0.5968 - accuracy: 0.6917 - val_loss: 0.5849 - val_accuracy: 0.6900\n",
      "Epoch 141/300\n",
      "6/6 [==============================] - 0s 8ms/step - loss: 0.6036 - accuracy: 0.6917 - val_loss: 0.5850 - val_accuracy: 0.7200\n",
      "Epoch 142/300\n",
      "6/6 [==============================] - 0s 7ms/step - loss: 0.5860 - accuracy: 0.7017 - val_loss: 0.5812 - val_accuracy: 0.6800\n",
      "Epoch 143/300\n",
      "6/6 [==============================] - 0s 8ms/step - loss: 0.5865 - accuracy: 0.6983 - val_loss: 0.5803 - val_accuracy: 0.6800\n",
      "Epoch 144/300\n",
      "6/6 [==============================] - 0s 7ms/step - loss: 0.5937 - accuracy: 0.6717 - val_loss: 0.5770 - val_accuracy: 0.6800\n",
      "Epoch 145/300\n",
      "6/6 [==============================] - 0s 8ms/step - loss: 0.5940 - accuracy: 0.6750 - val_loss: 0.5775 - val_accuracy: 0.6800\n",
      "Epoch 146/300\n",
      "6/6 [==============================] - 0s 8ms/step - loss: 0.6121 - accuracy: 0.6767 - val_loss: 0.5798 - val_accuracy: 0.7200\n",
      "Epoch 147/300\n",
      "6/6 [==============================] - 0s 7ms/step - loss: 0.5854 - accuracy: 0.6883 - val_loss: 0.5774 - val_accuracy: 0.6800\n",
      "Epoch 148/300\n",
      "6/6 [==============================] - 0s 8ms/step - loss: 0.5939 - accuracy: 0.6883 - val_loss: 0.5769 - val_accuracy: 0.6800\n",
      "Epoch 149/300\n",
      "6/6 [==============================] - 0s 7ms/step - loss: 0.6114 - accuracy: 0.6650 - val_loss: 0.5790 - val_accuracy: 0.7200\n",
      "Epoch 150/300\n",
      "6/6 [==============================] - 0s 8ms/step - loss: 0.5775 - accuracy: 0.6983 - val_loss: 0.5819 - val_accuracy: 0.7200\n",
      "Epoch 151/300\n",
      "6/6 [==============================] - 0s 8ms/step - loss: 0.5919 - accuracy: 0.7017 - val_loss: 0.5804 - val_accuracy: 0.6800\n",
      "Epoch 152/300\n",
      "6/6 [==============================] - 0s 7ms/step - loss: 0.5893 - accuracy: 0.6817 - val_loss: 0.5863 - val_accuracy: 0.6900\n",
      "Epoch 153/300\n",
      "6/6 [==============================] - 0s 10ms/step - loss: 0.5880 - accuracy: 0.6917 - val_loss: 0.5868 - val_accuracy: 0.6900\n",
      "Epoch 154/300\n",
      "6/6 [==============================] - 0s 8ms/step - loss: 0.5758 - accuracy: 0.6950 - val_loss: 0.5873 - val_accuracy: 0.6900\n",
      "Epoch 155/300\n",
      "6/6 [==============================] - 0s 7ms/step - loss: 0.5834 - accuracy: 0.6917 - val_loss: 0.5803 - val_accuracy: 0.6900\n",
      "Epoch 156/300\n",
      "6/6 [==============================] - 0s 7ms/step - loss: 0.5960 - accuracy: 0.7100 - val_loss: 0.5767 - val_accuracy: 0.6800\n",
      "Epoch 157/300\n",
      "6/6 [==============================] - 0s 8ms/step - loss: 0.6031 - accuracy: 0.6917 - val_loss: 0.5801 - val_accuracy: 0.7200\n",
      "Epoch 158/300\n",
      "6/6 [==============================] - 0s 8ms/step - loss: 0.5980 - accuracy: 0.6983 - val_loss: 0.5788 - val_accuracy: 0.7100\n",
      "Epoch 159/300\n",
      "6/6 [==============================] - 0s 7ms/step - loss: 0.5971 - accuracy: 0.6917 - val_loss: 0.5792 - val_accuracy: 0.7200\n",
      "Epoch 160/300\n",
      "6/6 [==============================] - 0s 8ms/step - loss: 0.5973 - accuracy: 0.7000 - val_loss: 0.5796 - val_accuracy: 0.7100\n",
      "Epoch 161/300\n",
      "6/6 [==============================] - 0s 8ms/step - loss: 0.5829 - accuracy: 0.6883 - val_loss: 0.5789 - val_accuracy: 0.7000\n",
      "Epoch 162/300\n",
      "6/6 [==============================] - 0s 8ms/step - loss: 0.5963 - accuracy: 0.7033 - val_loss: 0.5781 - val_accuracy: 0.7000\n",
      "Epoch 163/300\n",
      "6/6 [==============================] - 0s 9ms/step - loss: 0.5752 - accuracy: 0.7183 - val_loss: 0.5766 - val_accuracy: 0.6900\n",
      "Epoch 164/300\n",
      "6/6 [==============================] - 0s 8ms/step - loss: 0.6041 - accuracy: 0.6950 - val_loss: 0.5756 - val_accuracy: 0.7000\n",
      "Epoch 165/300\n",
      "6/6 [==============================] - 0s 7ms/step - loss: 0.5801 - accuracy: 0.6933 - val_loss: 0.5738 - val_accuracy: 0.7000\n",
      "Epoch 166/300\n",
      "6/6 [==============================] - 0s 7ms/step - loss: 0.6035 - accuracy: 0.6883 - val_loss: 0.5764 - val_accuracy: 0.7100\n",
      "Epoch 167/300\n",
      "6/6 [==============================] - 0s 7ms/step - loss: 0.5750 - accuracy: 0.7033 - val_loss: 0.5741 - val_accuracy: 0.6900\n",
      "Epoch 168/300\n",
      "6/6 [==============================] - 0s 8ms/step - loss: 0.5743 - accuracy: 0.7017 - val_loss: 0.5758 - val_accuracy: 0.6900\n",
      "Epoch 169/300\n",
      "6/6 [==============================] - 0s 8ms/step - loss: 0.5880 - accuracy: 0.7200 - val_loss: 0.5783 - val_accuracy: 0.7000\n",
      "Epoch 170/300\n",
      "6/6 [==============================] - 0s 8ms/step - loss: 0.5890 - accuracy: 0.6917 - val_loss: 0.5812 - val_accuracy: 0.6800\n",
      "Epoch 171/300\n",
      "6/6 [==============================] - 0s 8ms/step - loss: 0.5776 - accuracy: 0.6950 - val_loss: 0.5795 - val_accuracy: 0.6900\n",
      "Epoch 172/300\n",
      "6/6 [==============================] - 0s 9ms/step - loss: 0.5761 - accuracy: 0.6983 - val_loss: 0.5771 - val_accuracy: 0.7000\n",
      "Epoch 173/300\n",
      "6/6 [==============================] - 0s 9ms/step - loss: 0.5811 - accuracy: 0.7067 - val_loss: 0.5751 - val_accuracy: 0.7000\n",
      "Epoch 174/300\n",
      "6/6 [==============================] - 0s 7ms/step - loss: 0.5811 - accuracy: 0.7033 - val_loss: 0.5749 - val_accuracy: 0.7000\n",
      "Epoch 175/300\n",
      "6/6 [==============================] - 0s 7ms/step - loss: 0.5775 - accuracy: 0.6967 - val_loss: 0.5733 - val_accuracy: 0.7000\n",
      "Epoch 176/300\n",
      "6/6 [==============================] - 0s 7ms/step - loss: 0.5955 - accuracy: 0.7067 - val_loss: 0.5755 - val_accuracy: 0.7200\n",
      "Epoch 177/300\n",
      "6/6 [==============================] - 0s 7ms/step - loss: 0.5894 - accuracy: 0.7050 - val_loss: 0.5760 - val_accuracy: 0.7200\n",
      "Epoch 178/300\n",
      "6/6 [==============================] - 0s 7ms/step - loss: 0.5863 - accuracy: 0.7083 - val_loss: 0.5785 - val_accuracy: 0.7100\n",
      "Epoch 179/300\n",
      "6/6 [==============================] - 0s 7ms/step - loss: 0.5884 - accuracy: 0.6717 - val_loss: 0.5804 - val_accuracy: 0.7100\n",
      "Epoch 180/300\n",
      "6/6 [==============================] - 0s 7ms/step - loss: 0.5780 - accuracy: 0.7083 - val_loss: 0.5810 - val_accuracy: 0.7100\n",
      "Epoch 181/300\n",
      "6/6 [==============================] - 0s 7ms/step - loss: 0.5788 - accuracy: 0.6983 - val_loss: 0.5805 - val_accuracy: 0.6900\n",
      "Epoch 182/300\n",
      "6/6 [==============================] - 0s 8ms/step - loss: 0.5882 - accuracy: 0.6900 - val_loss: 0.5798 - val_accuracy: 0.7200\n",
      "Epoch 183/300\n",
      "6/6 [==============================] - 0s 8ms/step - loss: 0.5742 - accuracy: 0.7017 - val_loss: 0.5774 - val_accuracy: 0.6900\n",
      "Epoch 184/300\n",
      "6/6 [==============================] - 0s 8ms/step - loss: 0.5548 - accuracy: 0.7150 - val_loss: 0.5762 - val_accuracy: 0.7000\n",
      "Epoch 185/300\n",
      "6/6 [==============================] - 0s 8ms/step - loss: 0.5591 - accuracy: 0.7267 - val_loss: 0.5755 - val_accuracy: 0.6900\n",
      "Epoch 186/300\n",
      "6/6 [==============================] - 0s 7ms/step - loss: 0.5833 - accuracy: 0.6850 - val_loss: 0.5785 - val_accuracy: 0.6800\n",
      "Epoch 187/300\n",
      "6/6 [==============================] - 0s 9ms/step - loss: 0.5830 - accuracy: 0.6950 - val_loss: 0.5789 - val_accuracy: 0.6900\n",
      "Epoch 188/300\n",
      "6/6 [==============================] - 0s 8ms/step - loss: 0.5995 - accuracy: 0.6833 - val_loss: 0.5832 - val_accuracy: 0.6900\n",
      "Epoch 189/300\n",
      "6/6 [==============================] - 0s 7ms/step - loss: 0.5982 - accuracy: 0.6817 - val_loss: 0.5807 - val_accuracy: 0.6900\n",
      "Epoch 190/300\n",
      "6/6 [==============================] - 0s 8ms/step - loss: 0.5796 - accuracy: 0.7000 - val_loss: 0.5797 - val_accuracy: 0.6900\n",
      "Epoch 191/300\n",
      "6/6 [==============================] - 0s 8ms/step - loss: 0.5883 - accuracy: 0.7050 - val_loss: 0.5810 - val_accuracy: 0.7000\n",
      "Epoch 192/300\n",
      "6/6 [==============================] - 0s 7ms/step - loss: 0.5816 - accuracy: 0.6867 - val_loss: 0.5814 - val_accuracy: 0.7000\n",
      "Epoch 193/300\n",
      "6/6 [==============================] - 0s 8ms/step - loss: 0.5690 - accuracy: 0.7017 - val_loss: 0.5796 - val_accuracy: 0.6800\n",
      "Epoch 194/300\n",
      "6/6 [==============================] - 0s 8ms/step - loss: 0.5786 - accuracy: 0.7150 - val_loss: 0.5761 - val_accuracy: 0.6900\n",
      "Epoch 195/300\n",
      "6/6 [==============================] - 0s 8ms/step - loss: 0.5782 - accuracy: 0.7050 - val_loss: 0.5765 - val_accuracy: 0.6900\n",
      "Epoch 196/300\n",
      "6/6 [==============================] - 0s 7ms/step - loss: 0.5809 - accuracy: 0.7000 - val_loss: 0.5746 - val_accuracy: 0.6900\n",
      "Epoch 197/300\n",
      "6/6 [==============================] - 0s 8ms/step - loss: 0.5782 - accuracy: 0.6917 - val_loss: 0.5727 - val_accuracy: 0.7100\n",
      "Epoch 198/300\n",
      "6/6 [==============================] - 0s 7ms/step - loss: 0.5726 - accuracy: 0.7000 - val_loss: 0.5750 - val_accuracy: 0.6900\n",
      "Epoch 199/300\n",
      "6/6 [==============================] - 0s 8ms/step - loss: 0.5818 - accuracy: 0.6850 - val_loss: 0.5758 - val_accuracy: 0.7000\n",
      "Epoch 200/300\n",
      "6/6 [==============================] - 0s 7ms/step - loss: 0.5602 - accuracy: 0.7183 - val_loss: 0.5708 - val_accuracy: 0.7000\n",
      "Epoch 201/300\n",
      "6/6 [==============================] - 0s 7ms/step - loss: 0.5725 - accuracy: 0.7033 - val_loss: 0.5726 - val_accuracy: 0.6900\n",
      "Epoch 202/300\n",
      "6/6 [==============================] - 0s 8ms/step - loss: 0.5770 - accuracy: 0.6917 - val_loss: 0.5712 - val_accuracy: 0.6900\n",
      "Epoch 203/300\n",
      "6/6 [==============================] - 0s 8ms/step - loss: 0.5841 - accuracy: 0.6917 - val_loss: 0.5729 - val_accuracy: 0.6900\n",
      "Epoch 204/300\n",
      "6/6 [==============================] - 0s 7ms/step - loss: 0.5753 - accuracy: 0.7117 - val_loss: 0.5740 - val_accuracy: 0.7000\n",
      "Epoch 205/300\n",
      "6/6 [==============================] - 0s 7ms/step - loss: 0.5809 - accuracy: 0.7000 - val_loss: 0.5754 - val_accuracy: 0.6900\n",
      "Epoch 206/300\n",
      "6/6 [==============================] - 0s 7ms/step - loss: 0.5838 - accuracy: 0.6850 - val_loss: 0.5770 - val_accuracy: 0.7000\n",
      "Epoch 207/300\n",
      "6/6 [==============================] - 0s 7ms/step - loss: 0.5547 - accuracy: 0.7233 - val_loss: 0.5759 - val_accuracy: 0.6800\n",
      "Epoch 208/300\n",
      "6/6 [==============================] - 0s 7ms/step - loss: 0.5562 - accuracy: 0.7133 - val_loss: 0.5756 - val_accuracy: 0.6900\n",
      "Epoch 209/300\n",
      "6/6 [==============================] - 0s 9ms/step - loss: 0.5828 - accuracy: 0.6900 - val_loss: 0.5770 - val_accuracy: 0.6800\n",
      "Epoch 210/300\n",
      "6/6 [==============================] - 0s 7ms/step - loss: 0.5839 - accuracy: 0.7100 - val_loss: 0.5759 - val_accuracy: 0.7000\n",
      "Epoch 211/300\n",
      "6/6 [==============================] - 0s 8ms/step - loss: 0.5654 - accuracy: 0.6983 - val_loss: 0.5759 - val_accuracy: 0.7000\n",
      "Epoch 212/300\n",
      "6/6 [==============================] - 0s 7ms/step - loss: 0.5814 - accuracy: 0.6983 - val_loss: 0.5778 - val_accuracy: 0.6900\n",
      "Epoch 213/300\n",
      "6/6 [==============================] - 0s 7ms/step - loss: 0.5583 - accuracy: 0.7100 - val_loss: 0.5766 - val_accuracy: 0.6900\n",
      "Epoch 214/300\n",
      "6/6 [==============================] - 0s 8ms/step - loss: 0.5719 - accuracy: 0.7117 - val_loss: 0.5776 - val_accuracy: 0.6800\n",
      "Epoch 215/300\n",
      "6/6 [==============================] - 0s 7ms/step - loss: 0.5711 - accuracy: 0.6967 - val_loss: 0.5784 - val_accuracy: 0.6700\n",
      "Epoch 216/300\n",
      "6/6 [==============================] - 0s 7ms/step - loss: 0.5737 - accuracy: 0.7067 - val_loss: 0.5804 - val_accuracy: 0.6800\n",
      "Epoch 217/300\n",
      "6/6 [==============================] - 0s 7ms/step - loss: 0.5580 - accuracy: 0.7150 - val_loss: 0.5783 - val_accuracy: 0.6800\n",
      "Epoch 218/300\n",
      "6/6 [==============================] - 0s 8ms/step - loss: 0.5911 - accuracy: 0.6867 - val_loss: 0.5814 - val_accuracy: 0.6700\n",
      "Epoch 219/300\n",
      "6/6 [==============================] - 0s 9ms/step - loss: 0.5644 - accuracy: 0.7083 - val_loss: 0.5807 - val_accuracy: 0.6800\n",
      "Epoch 220/300\n",
      "6/6 [==============================] - 0s 8ms/step - loss: 0.5680 - accuracy: 0.7067 - val_loss: 0.5819 - val_accuracy: 0.6700\n",
      "Epoch 221/300\n",
      "6/6 [==============================] - 0s 8ms/step - loss: 0.5684 - accuracy: 0.7217 - val_loss: 0.5828 - val_accuracy: 0.6700\n",
      "Epoch 222/300\n",
      "6/6 [==============================] - 0s 7ms/step - loss: 0.5698 - accuracy: 0.6917 - val_loss: 0.5800 - val_accuracy: 0.6800\n",
      "Epoch 223/300\n",
      "6/6 [==============================] - 0s 9ms/step - loss: 0.5806 - accuracy: 0.6983 - val_loss: 0.5823 - val_accuracy: 0.6900\n",
      "Epoch 224/300\n",
      "6/6 [==============================] - 0s 7ms/step - loss: 0.5677 - accuracy: 0.6983 - val_loss: 0.5809 - val_accuracy: 0.7100\n",
      "Epoch 225/300\n",
      "6/6 [==============================] - 0s 7ms/step - loss: 0.5741 - accuracy: 0.7000 - val_loss: 0.5806 - val_accuracy: 0.7000\n",
      "Epoch 226/300\n",
      "6/6 [==============================] - 0s 7ms/step - loss: 0.5819 - accuracy: 0.7067 - val_loss: 0.5794 - val_accuracy: 0.7200\n",
      "Epoch 227/300\n",
      "6/6 [==============================] - 0s 8ms/step - loss: 0.5604 - accuracy: 0.7167 - val_loss: 0.5756 - val_accuracy: 0.7100\n",
      "Epoch 228/300\n",
      "6/6 [==============================] - 0s 8ms/step - loss: 0.5691 - accuracy: 0.6917 - val_loss: 0.5757 - val_accuracy: 0.7200\n",
      "Epoch 229/300\n",
      "6/6 [==============================] - 0s 7ms/step - loss: 0.5532 - accuracy: 0.7000 - val_loss: 0.5768 - val_accuracy: 0.6700\n",
      "Epoch 230/300\n",
      "6/6 [==============================] - 0s 7ms/step - loss: 0.5585 - accuracy: 0.7183 - val_loss: 0.5760 - val_accuracy: 0.6900\n",
      "Epoch 231/300\n",
      "6/6 [==============================] - 0s 8ms/step - loss: 0.5577 - accuracy: 0.7200 - val_loss: 0.5734 - val_accuracy: 0.7100\n",
      "Epoch 232/300\n",
      "6/6 [==============================] - 0s 9ms/step - loss: 0.5824 - accuracy: 0.6850 - val_loss: 0.5752 - val_accuracy: 0.7100\n",
      "Epoch 233/300\n"
     ]
    },
    {
     "name": "stdout",
     "output_type": "stream",
     "text": [
      "6/6 [==============================] - 0s 8ms/step - loss: 0.5618 - accuracy: 0.7283 - val_loss: 0.5735 - val_accuracy: 0.7000\n",
      "Epoch 234/300\n",
      "6/6 [==============================] - 0s 7ms/step - loss: 0.5652 - accuracy: 0.7100 - val_loss: 0.5731 - val_accuracy: 0.7200\n",
      "Epoch 235/300\n",
      "6/6 [==============================] - 0s 8ms/step - loss: 0.5754 - accuracy: 0.7150 - val_loss: 0.5760 - val_accuracy: 0.7000\n",
      "Epoch 236/300\n",
      "6/6 [==============================] - 0s 7ms/step - loss: 0.5796 - accuracy: 0.7033 - val_loss: 0.5772 - val_accuracy: 0.6900\n",
      "Epoch 237/300\n",
      "6/6 [==============================] - 0s 8ms/step - loss: 0.5756 - accuracy: 0.6950 - val_loss: 0.5777 - val_accuracy: 0.6900\n",
      "Epoch 238/300\n",
      "6/6 [==============================] - 0s 8ms/step - loss: 0.5642 - accuracy: 0.6950 - val_loss: 0.5769 - val_accuracy: 0.6800\n",
      "Epoch 239/300\n",
      "6/6 [==============================] - 0s 8ms/step - loss: 0.5605 - accuracy: 0.7233 - val_loss: 0.5764 - val_accuracy: 0.6800\n",
      "Epoch 240/300\n",
      "6/6 [==============================] - 0s 8ms/step - loss: 0.5717 - accuracy: 0.7033 - val_loss: 0.5758 - val_accuracy: 0.7100\n",
      "Epoch 241/300\n",
      "6/6 [==============================] - 0s 7ms/step - loss: 0.5698 - accuracy: 0.7100 - val_loss: 0.5735 - val_accuracy: 0.7000\n",
      "Epoch 242/300\n",
      "6/6 [==============================] - 0s 8ms/step - loss: 0.5680 - accuracy: 0.7067 - val_loss: 0.5713 - val_accuracy: 0.7300\n",
      "Epoch 243/300\n",
      "6/6 [==============================] - 0s 7ms/step - loss: 0.5751 - accuracy: 0.6917 - val_loss: 0.5723 - val_accuracy: 0.7200\n",
      "Epoch 244/300\n",
      "6/6 [==============================] - 0s 8ms/step - loss: 0.5683 - accuracy: 0.7150 - val_loss: 0.5732 - val_accuracy: 0.7100\n",
      "Epoch 245/300\n",
      "6/6 [==============================] - 0s 7ms/step - loss: 0.5586 - accuracy: 0.7133 - val_loss: 0.5750 - val_accuracy: 0.7000\n",
      "Epoch 246/300\n",
      "6/6 [==============================] - 0s 8ms/step - loss: 0.5672 - accuracy: 0.7083 - val_loss: 0.5737 - val_accuracy: 0.7000\n",
      "Epoch 247/300\n",
      "6/6 [==============================] - 0s 7ms/step - loss: 0.5637 - accuracy: 0.7167 - val_loss: 0.5718 - val_accuracy: 0.7100\n",
      "Epoch 248/300\n",
      "6/6 [==============================] - 0s 8ms/step - loss: 0.5688 - accuracy: 0.7017 - val_loss: 0.5713 - val_accuracy: 0.7200\n",
      "Epoch 249/300\n",
      "6/6 [==============================] - 0s 8ms/step - loss: 0.5568 - accuracy: 0.7117 - val_loss: 0.5707 - val_accuracy: 0.7200\n",
      "Epoch 250/300\n",
      "6/6 [==============================] - 0s 7ms/step - loss: 0.5525 - accuracy: 0.7067 - val_loss: 0.5713 - val_accuracy: 0.7100\n",
      "Epoch 251/300\n",
      "6/6 [==============================] - 0s 8ms/step - loss: 0.5763 - accuracy: 0.6933 - val_loss: 0.5728 - val_accuracy: 0.7100\n",
      "Epoch 252/300\n",
      "6/6 [==============================] - 0s 8ms/step - loss: 0.5595 - accuracy: 0.6967 - val_loss: 0.5721 - val_accuracy: 0.7100\n",
      "Epoch 253/300\n",
      "6/6 [==============================] - 0s 7ms/step - loss: 0.5735 - accuracy: 0.6967 - val_loss: 0.5737 - val_accuracy: 0.7100\n",
      "Epoch 254/300\n",
      "6/6 [==============================] - 0s 7ms/step - loss: 0.5478 - accuracy: 0.7183 - val_loss: 0.5741 - val_accuracy: 0.7200\n",
      "Epoch 255/300\n",
      "6/6 [==============================] - 0s 7ms/step - loss: 0.5550 - accuracy: 0.7117 - val_loss: 0.5726 - val_accuracy: 0.7100\n",
      "Epoch 256/300\n",
      "6/6 [==============================] - 0s 8ms/step - loss: 0.5778 - accuracy: 0.7083 - val_loss: 0.5716 - val_accuracy: 0.7200\n",
      "Epoch 257/300\n",
      "6/6 [==============================] - 0s 8ms/step - loss: 0.5606 - accuracy: 0.7250 - val_loss: 0.5714 - val_accuracy: 0.6900\n",
      "Epoch 258/300\n",
      "6/6 [==============================] - 0s 8ms/step - loss: 0.5702 - accuracy: 0.7017 - val_loss: 0.5677 - val_accuracy: 0.7100\n",
      "Epoch 259/300\n",
      "6/6 [==============================] - 0s 8ms/step - loss: 0.5638 - accuracy: 0.7200 - val_loss: 0.5662 - val_accuracy: 0.7200\n",
      "Epoch 260/300\n",
      "6/6 [==============================] - 0s 8ms/step - loss: 0.5758 - accuracy: 0.7050 - val_loss: 0.5690 - val_accuracy: 0.7200\n",
      "Epoch 261/300\n",
      "6/6 [==============================] - 0s 7ms/step - loss: 0.5632 - accuracy: 0.6983 - val_loss: 0.5710 - val_accuracy: 0.7100\n",
      "Epoch 262/300\n",
      "6/6 [==============================] - 0s 7ms/step - loss: 0.5622 - accuracy: 0.6933 - val_loss: 0.5729 - val_accuracy: 0.7200\n",
      "Epoch 263/300\n",
      "6/6 [==============================] - 0s 8ms/step - loss: 0.5881 - accuracy: 0.6900 - val_loss: 0.5716 - val_accuracy: 0.7300\n",
      "Epoch 264/300\n",
      "6/6 [==============================] - 0s 7ms/step - loss: 0.5746 - accuracy: 0.6883 - val_loss: 0.5673 - val_accuracy: 0.7500\n",
      "Epoch 265/300\n",
      "6/6 [==============================] - 0s 7ms/step - loss: 0.5556 - accuracy: 0.7133 - val_loss: 0.5636 - val_accuracy: 0.7300\n",
      "Epoch 266/300\n",
      "6/6 [==============================] - 0s 8ms/step - loss: 0.5530 - accuracy: 0.7033 - val_loss: 0.5636 - val_accuracy: 0.7400\n",
      "Epoch 267/300\n",
      "6/6 [==============================] - 0s 7ms/step - loss: 0.5549 - accuracy: 0.7133 - val_loss: 0.5629 - val_accuracy: 0.7300\n",
      "Epoch 268/300\n",
      "6/6 [==============================] - 0s 7ms/step - loss: 0.5593 - accuracy: 0.7317 - val_loss: 0.5618 - val_accuracy: 0.7600\n",
      "Epoch 269/300\n",
      "6/6 [==============================] - 0s 9ms/step - loss: 0.5749 - accuracy: 0.6967 - val_loss: 0.5665 - val_accuracy: 0.7400\n",
      "Epoch 270/300\n",
      "6/6 [==============================] - 0s 7ms/step - loss: 0.5644 - accuracy: 0.7100 - val_loss: 0.5668 - val_accuracy: 0.7500\n",
      "Epoch 271/300\n",
      "6/6 [==============================] - 0s 8ms/step - loss: 0.5723 - accuracy: 0.7050 - val_loss: 0.5675 - val_accuracy: 0.7400\n",
      "Epoch 272/300\n",
      "6/6 [==============================] - 0s 7ms/step - loss: 0.5505 - accuracy: 0.7133 - val_loss: 0.5700 - val_accuracy: 0.7400\n",
      "Epoch 273/300\n",
      "6/6 [==============================] - 0s 8ms/step - loss: 0.5532 - accuracy: 0.7117 - val_loss: 0.5703 - val_accuracy: 0.7200\n",
      "Epoch 274/300\n",
      "6/6 [==============================] - 0s 7ms/step - loss: 0.5517 - accuracy: 0.6917 - val_loss: 0.5692 - val_accuracy: 0.7300\n",
      "Epoch 275/300\n",
      "6/6 [==============================] - 0s 8ms/step - loss: 0.5630 - accuracy: 0.6967 - val_loss: 0.5731 - val_accuracy: 0.7400\n",
      "Epoch 276/300\n",
      "6/6 [==============================] - 0s 8ms/step - loss: 0.5651 - accuracy: 0.7133 - val_loss: 0.5720 - val_accuracy: 0.7300\n",
      "Epoch 277/300\n",
      "6/6 [==============================] - 0s 8ms/step - loss: 0.5657 - accuracy: 0.7133 - val_loss: 0.5702 - val_accuracy: 0.7300\n",
      "Epoch 278/300\n",
      "6/6 [==============================] - 0s 11ms/step - loss: 0.5464 - accuracy: 0.7317 - val_loss: 0.5706 - val_accuracy: 0.7300\n",
      "Epoch 279/300\n",
      "6/6 [==============================] - 0s 9ms/step - loss: 0.5487 - accuracy: 0.7100 - val_loss: 0.5735 - val_accuracy: 0.7200\n",
      "Epoch 280/300\n",
      "6/6 [==============================] - 0s 9ms/step - loss: 0.5647 - accuracy: 0.6900 - val_loss: 0.5726 - val_accuracy: 0.7200\n",
      "Epoch 281/300\n",
      "6/6 [==============================] - 0s 8ms/step - loss: 0.5536 - accuracy: 0.7217 - val_loss: 0.5678 - val_accuracy: 0.7200\n",
      "Epoch 282/300\n",
      "6/6 [==============================] - 0s 7ms/step - loss: 0.5741 - accuracy: 0.7100 - val_loss: 0.5641 - val_accuracy: 0.7300\n",
      "Epoch 283/300\n",
      "6/6 [==============================] - 0s 7ms/step - loss: 0.5430 - accuracy: 0.7200 - val_loss: 0.5627 - val_accuracy: 0.7400\n",
      "Epoch 284/300\n",
      "6/6 [==============================] - 0s 7ms/step - loss: 0.5592 - accuracy: 0.7033 - val_loss: 0.5595 - val_accuracy: 0.7200\n",
      "Epoch 285/300\n",
      "6/6 [==============================] - 0s 7ms/step - loss: 0.5568 - accuracy: 0.6967 - val_loss: 0.5606 - val_accuracy: 0.7700\n",
      "Epoch 286/300\n",
      "6/6 [==============================] - 0s 8ms/step - loss: 0.5497 - accuracy: 0.7167 - val_loss: 0.5632 - val_accuracy: 0.7500\n",
      "Epoch 287/300\n",
      "6/6 [==============================] - 0s 8ms/step - loss: 0.5613 - accuracy: 0.7167 - val_loss: 0.5663 - val_accuracy: 0.7300\n",
      "Epoch 288/300\n",
      "6/6 [==============================] - 0s 8ms/step - loss: 0.5515 - accuracy: 0.7300 - val_loss: 0.5706 - val_accuracy: 0.7200\n",
      "Epoch 289/300\n",
      "6/6 [==============================] - 0s 9ms/step - loss: 0.5627 - accuracy: 0.7033 - val_loss: 0.5696 - val_accuracy: 0.7100\n",
      "Epoch 290/300\n",
      "6/6 [==============================] - 0s 9ms/step - loss: 0.5628 - accuracy: 0.7083 - val_loss: 0.5704 - val_accuracy: 0.7200\n",
      "Epoch 291/300\n",
      "6/6 [==============================] - 0s 8ms/step - loss: 0.5460 - accuracy: 0.7217 - val_loss: 0.5684 - val_accuracy: 0.7300\n",
      "Epoch 292/300\n",
      "6/6 [==============================] - 0s 9ms/step - loss: 0.5484 - accuracy: 0.7183 - val_loss: 0.5683 - val_accuracy: 0.7200\n",
      "Epoch 293/300\n",
      "6/6 [==============================] - 0s 8ms/step - loss: 0.5447 - accuracy: 0.7100 - val_loss: 0.5689 - val_accuracy: 0.7200\n",
      "Epoch 294/300\n",
      "6/6 [==============================] - 0s 7ms/step - loss: 0.5518 - accuracy: 0.7083 - val_loss: 0.5676 - val_accuracy: 0.7400\n",
      "Epoch 295/300\n",
      "6/6 [==============================] - 0s 8ms/step - loss: 0.5386 - accuracy: 0.7217 - val_loss: 0.5669 - val_accuracy: 0.7400\n",
      "Epoch 296/300\n",
      "6/6 [==============================] - 0s 7ms/step - loss: 0.5390 - accuracy: 0.7233 - val_loss: 0.5701 - val_accuracy: 0.7300\n",
      "Epoch 297/300\n",
      "6/6 [==============================] - 0s 7ms/step - loss: 0.5605 - accuracy: 0.7033 - val_loss: 0.5708 - val_accuracy: 0.7400\n",
      "Epoch 298/300\n",
      "6/6 [==============================] - 0s 8ms/step - loss: 0.5524 - accuracy: 0.7150 - val_loss: 0.5672 - val_accuracy: 0.7300\n",
      "Epoch 299/300\n",
      "6/6 [==============================] - 0s 8ms/step - loss: 0.5446 - accuracy: 0.7067 - val_loss: 0.5640 - val_accuracy: 0.7300\n",
      "Epoch 300/300\n",
      "6/6 [==============================] - 0s 7ms/step - loss: 0.5430 - accuracy: 0.7117 - val_loss: 0.5649 - val_accuracy: 0.7300\n"
     ]
    }
   ],
   "source": [
    "hist = model.fit(X_train, Y_train,\n",
    "                 epochs=300,\n",
    "                 validation_data=(X_val, Y_val),\n",
    "                 verbose=1, batch_size=100)"
   ]
  },
  {
   "cell_type": "markdown",
   "id": "e79e5b80",
   "metadata": {},
   "source": [
    "# 5. 학습과정 살펴보기"
   ]
  },
  {
   "cell_type": "code",
   "execution_count": 48,
   "id": "9105c5a7",
   "metadata": {},
   "outputs": [
    {
     "data": {
      "text/plain": [
       "dict_keys(['loss', 'accuracy', 'val_loss', 'val_accuracy'])"
      ]
     },
     "execution_count": 48,
     "metadata": {},
     "output_type": "execute_result"
    }
   ],
   "source": [
    "hist.history.keys()"
   ]
  },
  {
   "cell_type": "code",
   "execution_count": 56,
   "id": "e1bab003",
   "metadata": {},
   "outputs": [
    {
     "data": {
      "image/png": "[encoded data removed]",
      "text/plain": [
       "<Figure size 1200x600 with 2 Axes>"
      ]
     },
     "metadata": {},
     "output_type": "display_data"
    }
   ],
   "source": [
    "fig, loss_ax = plt.subplots(figsize=(12, 6))\n",
    "loss_ax.plot(hist.history['loss'], 'y', label='train loss')\n",
    "loss_ax.plot(hist.history['val_loss'], 'r', label='val loss')\n",
    "acc_ax = loss_ax.twinx()\n",
    "acc_ax.plot(hist.history['accuracy'], 'g', label='train accuracy')\n",
    "acc_ax.plot(hist.history['val_accuracy'], 'b', label='val accuracy')\n",
    "loss_ax.set_xlabel('epochs')\n",
    "loss_ax.set_ylabel('loss')\n",
    "acc_ax.set_ylabel('accuracy')\n",
    "loss_ax.legend(loc='center right')\n",
    "acc_ax.legend(bbox_to_anchor=(0.999, 0.7))\n",
    "plt.show()"
   ]
  },
  {
   "cell_type": "markdown",
   "id": "f039419c",
   "metadata": {},
   "source": [
    "# 6. 모델 평가 & 교차표"
   ]
  },
  {
   "cell_type": "code",
   "execution_count": 58,
   "id": "51a1220d",
   "metadata": {},
   "outputs": [
    {
     "name": "stdout",
     "output_type": "stream",
     "text": [
      "loss : 0.6004616022109985, 정확도 : 0.6617646813392639\n"
     ]
    }
   ],
   "source": [
    "loss, accuracy = model.evaluate(X_test, Y_test, verbose=0)\n",
    "print(f\"loss : {loss}, 정확도 : {accuracy}\")"
   ]
  },
  {
   "cell_type": "code",
   "execution_count": 61,
   "id": "cd315f99",
   "metadata": {},
   "outputs": [
    {
     "data": {
      "text/plain": [
       "array([0., 1., 1., 0., 0., 0., 1., 0., 1., 1., 0., 0., 1., 0., 0., 1., 1.,\n",
       "       0., 0., 1., 0., 0., 1., 0., 0., 0., 0., 0., 0., 0., 1., 1., 1., 0.,\n",
       "       0., 0., 0., 0., 0., 1., 1., 0., 0., 1., 0., 0., 1., 0., 1., 1., 1.,\n",
       "       0., 0., 1., 1., 1., 0., 1., 0., 1., 0., 1., 0., 0., 0., 0., 1., 0.])"
      ]
     },
     "execution_count": 61,
     "metadata": {},
     "output_type": "execute_result"
    }
   ],
   "source": [
    "# 교차표\n",
    "y_test"
   ]
  },
  {
   "cell_type": "code",
   "execution_count": 63,
   "id": "78846e3b",
   "metadata": {},
   "outputs": [
    {
     "name": "stdout",
     "output_type": "stream",
     "text": [
      "3/3 [==============================] - 0s 2ms/step\n"
     ]
    },
    {
     "data": {
      "text/plain": [
       "array([0, 0, 0, 1, 0, 0, 0, 0, 1, 0, 0, 0, 0, 0, 0, 1, 0, 0, 0, 0, 0, 0,\n",
       "       0, 0, 0, 0, 0, 0, 0, 0, 0, 0, 0, 0, 0, 0, 0, 0, 0, 0, 0, 0, 0, 0,\n",
       "       0, 0, 0, 0, 1, 0, 1, 0, 0, 0, 0, 0, 0, 0, 0, 0, 0, 1, 0, 0, 0, 0,\n",
       "       0, 0], dtype=int64)"
      ]
     },
     "execution_count": 63,
     "metadata": {},
     "output_type": "execute_result"
    }
   ],
   "source": [
    "y_hat = model.predict(X_test).argmax(axis=1)\n",
    "y_hat"
   ]
  },
  {
   "cell_type": "code",
   "execution_count": 64,
   "id": "5075f011",
   "metadata": {},
   "outputs": [
    {
     "data": {
      "text/html": [
       "<div>\n",
       "<style scoped>\n",
       "    .dataframe tbody tr th:only-of-type {\n",
       "        vertical-align: middle;\n",
       "    }\n",
       "\n",
       "    .dataframe tbody tr th {\n",
       "        vertical-align: top;\n",
       "    }\n",
       "\n",
       "    .dataframe thead th {\n",
       "        text-align: right;\n",
       "    }\n",
       "</style>\n",
       "<table border=\"1\" class=\"dataframe\">\n",
       "  <thead>\n",
       "    <tr style=\"text-align: right;\">\n",
       "      <th>예측값</th>\n",
       "      <th>0</th>\n",
       "      <th>1</th>\n",
       "    </tr>\n",
       "    <tr>\n",
       "      <th>실제값</th>\n",
       "      <th></th>\n",
       "      <th></th>\n",
       "    </tr>\n",
       "  </thead>\n",
       "  <tbody>\n",
       "    <tr>\n",
       "      <th>0.0</th>\n",
       "      <td>40</td>\n",
       "      <td>1</td>\n",
       "    </tr>\n",
       "    <tr>\n",
       "      <th>1.0</th>\n",
       "      <td>22</td>\n",
       "      <td>5</td>\n",
       "    </tr>\n",
       "  </tbody>\n",
       "</table>\n",
       "</div>"
      ],
      "text/plain": [
       "예측값   0  1\n",
       "실제값       \n",
       "0.0  40  1\n",
       "1.0  22  5"
      ]
     },
     "execution_count": 64,
     "metadata": {},
     "output_type": "execute_result"
    }
   ],
   "source": [
    "pd.crosstab(y_test, y_hat, rownames=['실제값'], colnames=['예측값'])"
   ]
  },
  {
   "cell_type": "code",
   "execution_count": 65,
   "id": "13416800",
   "metadata": {},
   "outputs": [
    {
     "data": {
      "text/plain": [
       "array([[40,  1],\n",
       "       [22,  5]], dtype=int64)"
      ]
     },
     "execution_count": 65,
     "metadata": {},
     "output_type": "execute_result"
    }
   ],
   "source": [
    "confusion_matrix(y_test, y_hat)"
   ]
  },
  {
   "cell_type": "markdown",
   "id": "91e68820",
   "metadata": {},
   "source": [
    "# 7. 모델 저장 및 사용"
   ]
  },
  {
   "cell_type": "code",
   "execution_count": 66,
   "id": "1b3e32ca",
   "metadata": {},
   "outputs": [],
   "source": [
    "from tensorflow.keras.models import save_model, load_model\n",
    "# model.sae('model/06_pima.h5')\n",
    "save_model(model, 'model/06_pima.h5')"
   ]
  },
  {
   "cell_type": "code",
   "execution_count": 67,
   "id": "a02cbbed",
   "metadata": {},
   "outputs": [],
   "source": [
    "model2 = load_model('model/06_pima.h5')"
   ]
  },
  {
   "cell_type": "code",
   "execution_count": 71,
   "id": "d4172587",
   "metadata": {},
   "outputs": [
    {
     "name": "stdout",
     "output_type": "stream",
     "text": [
      "1/1 [==============================] - 0s 40ms/step\n"
     ]
    },
    {
     "data": {
      "text/plain": [
       "array([0, 0], dtype=int64)"
      ]
     },
     "execution_count": 71,
     "metadata": {},
     "output_type": "execute_result"
    }
   ],
   "source": [
    "pred = model2.predict([[2, 122, 76, 27, 200, 35.9, 0.483, 26],\n",
    "                [6, 125, 78, 31, 0, 27.6, 0.565, 49]])\n",
    "pred.argmax(axis=1)"
   ]
  },
  {
   "cell_type": "code",
   "execution_count": 72,
   "id": "496af5fd",
   "metadata": {},
   "outputs": [
    {
     "data": {
      "text/plain": [
       "array([0, 0], dtype=int64)"
      ]
     },
     "execution_count": 72,
     "metadata": {},
     "output_type": "execute_result"
    }
   ],
   "source": [
    "np.argmax(pred, axis=1)"
   ]
  },
  {
   "cell_type": "code",
   "execution_count": null,
   "id": "428fedab",
   "metadata": {},
   "outputs": [],
   "source": []
  },
  {
   "cell_type": "code",
   "execution_count": null,
   "id": "4d2f99db",
   "metadata": {},
   "outputs": [],
   "source": []
  },
  {
   "cell_type": "code",
   "execution_count": null,
   "id": "d6e935a4",
   "metadata": {},
   "outputs": [],
   "source": []
  },
  {
   "cell_type": "code",
   "execution_count": null,
   "id": "4c24931b",
   "metadata": {},
   "outputs": [],
   "source": []
  },
  {
   "cell_type": "code",
   "execution_count": null,
   "id": "5bb38980",
   "metadata": {},
   "outputs": [],
   "source": []
  },
  {
   "cell_type": "code",
   "execution_count": null,
   "id": "e546c8ac",
   "metadata": {},
   "outputs": [],
   "source": []
  },
  {
   "cell_type": "code",
   "execution_count": null,
   "id": "a08d1753",
   "metadata": {},
   "outputs": [],
   "source": []
  },
  {
   "cell_type": "code",
   "execution_count": null,
   "id": "e3c67b1c",
   "metadata": {},
   "outputs": [],
   "source": []
  },
  {
   "cell_type": "code",
   "execution_count": null,
   "id": "643d6eef",
   "metadata": {},
   "outputs": [],
   "source": []
  },
  {
   "cell_type": "code",
   "execution_count": null,
   "id": "84e16b71",
   "metadata": {},
   "outputs": [],
   "source": []
  },
  {
   "cell_type": "code",
   "execution_count": null,
   "id": "44633eef",
   "metadata": {},
   "outputs": [],
   "source": []
  },
  {
   "cell_type": "code",
   "execution_count": null,
   "id": "788ccd92",
   "metadata": {},
   "outputs": [],
   "source": []
  },
  {
   "cell_type": "code",
   "execution_count": null,
   "id": "f1ac7be5",
   "metadata": {},
   "outputs": [],
   "source": []
  },
  {
   "cell_type": "code",
   "execution_count": null,
   "id": "1eccc9c4",
   "metadata": {},
   "outputs": [],
   "source": []
  },
  {
   "cell_type": "code",
   "execution_count": null,
   "id": "95477eb6",
   "metadata": {},
   "outputs": [],
   "source": []
  }
 ],
 "metadata": {
  "kernelspec": {
   "display_name": "ml-dl-nlp",
   "language": "python",
   "name": "ml-dl-nlp"
  },
  "language_info": {
   "codemirror_mode": {
    "name": "ipython",
    "version": 3
   },
   "file_extension": ".py",
   "mimetype": "text/x-python",
   "name": "python",
   "nbconvert_exporter": "python",
   "pygments_lexer": "ipython3",
   "version": "3.10.18"
  },
  "toc": {
   "base_numbering": 1,
   "nav_menu": {},
   "number_sections": false,
   "sideBar": true,
   "skip_h1_title": false,
   "title_cell": "Table of Contents",
   "title_sidebar": "Contents",
   "toc_cell": false,
   "toc_position": {
    "height": "calc(100% - 180px)",
    "left": "10px",
    "top": "150px",
    "width": "267.55px"
   },
   "toc_section_display": true,
   "toc_window_display": true
  }
 },
 "nbformat": 4,
 "nbformat_minor": 5
}
