{
 "cells": [
  {
   "cell_type": "code",
   "execution_count": 1,
   "id": "274ccc60",
   "metadata": {},
   "outputs": [
    {
     "data": {
      "text/html": [
       "\n",
       "<style>\n",
       "div.container{width:86% !important;}\n",
       "div.cell.code_cell.rendered{width:100%;}\n",
       "div.CodeMirror {font-family:Consolas; font-size:12pt;}\n",
       "div.output {font-size:15pt; font-weight:bold;}\n",
       "div.input {font-family:Consolas; font-size:12pt;}\n",
       "div.prompt {min-width:70px;}\n",
       "div#toc-wrapper{padding-top:120px;}\n",
       "div.text_cell_render ul li{font-size:12pt;padding:5px;}\n",
       "table.dataframe{font-size:15px;}\n",
       "</style>\n"
      ],
      "text/plain": [
       "<IPython.core.display.HTML object>"
      ]
     },
     "metadata": {},
     "output_type": "display_data"
    }
   ],
   "source": [
    "from IPython.display import display, HTML\n",
    "display(HTML(\"\"\"\n",
    "<style>\n",
    "div.container{width:86% !important;}\n",
    "div.cell.code_cell.rendered{width:100%;}\n",
    "div.CodeMirror {font-family:Consolas; font-size:12pt;}\n",
    "div.output {font-size:15pt; font-weight:bold;}\n",
    "div.input {font-family:Consolas; font-size:12pt;}\n",
    "div.prompt {min-width:70px;}\n",
    "div#toc-wrapper{padding-top:120px;}\n",
    "div.text_cell_render ul li{font-size:12pt;padding:5px;}\n",
    "table.dataframe{font-size:15px;}\n",
    "</style>\n",
    "\"\"\"))"
   ]
  },
  {
   "cell_type": "code",
   "execution_count": 2,
   "id": "29888e74",
   "metadata": {},
   "outputs": [],
   "source": [
    "from tensorflow.keras.utils import to_categorical # 분류분석 시 원핫인코딩\n",
    "from tensorflow.keras.models import Sequential # 모델 생성\n",
    "from tensorflow.keras.layers import Dense, Input\n",
    "import numpy as np"
   ]
  },
  {
   "cell_type": "markdown",
   "id": "075fae22",
   "metadata": {},
   "source": [
    "# 머신러닝/딥러닝 : 데이터의 법칙성을 추출\n",
    "- 다양한 분야에서 응용 : 글씨인식, 문장분류, 질병진단, ...\n",
    "※ML / DL의 종류\n",
    "- 지도학습(독립 = 입력변수와 종속=타겟=출력변수가 모두 주어졌을 경우)\n",
    "     회귀분석(타겟변수가 연속형) vs 분류분석(multi, binary)\n",
    "- 비지도학습(입력변수만)\n",
    "    군집화\n",
    "- 강화학습\n",
    "\n",
    "※ 지도학습에서의 ML, DL 프로그래밍 방식\n",
    "1. 데이터 셋 확보(input=입력변수, target=종속변수)\n",
    "    원본 데이터 및 시뮬레이션을 통해 데이터 생성\n",
    "2. 전처리\n",
    "    스케일 조정\n",
    "    훈련셋(학습셋), 검증셋, 시험셋(테스트셋)\n",
    "    학습 및 평가 가능한 포맷으로 변환\n",
    "3. 모델 구성\n",
    "    Sequential 객체 생성 뒤 필요한 층을 add()함수로 추가\n",
    "4. 모델 학습과정 설정\n",
    "    compile()함수 이용 - 손실함수, optimizer, metrics(평가지표)\n",
    "5. 모델 학습 (ft. 학습과정 지켜보기)\n",
    "    fit()함수 이용 - 훈련셋입력=독립변수, 훈련셋타겟=종속변수, 학습횟수, 검증셋"
   ]
  },
  {
   "cell_type": "markdown",
   "id": "4998bbac",
   "metadata": {},
   "source": [
    "# 1. 데이터 셋 생성"
   ]
  },
  {
   "cell_type": "markdown",
   "id": "4e1650a3",
   "metadata": {},
   "source": [
    "# 2. 데이터 전처리"
   ]
  },
  {
   "cell_type": "code",
   "execution_count": 3,
   "id": "35022f80",
   "metadata": {},
   "outputs": [
    {
     "data": {
      "text/plain": [
       "((90,), (9,), (9,), (90,), (9,), (9,))"
      ]
     },
     "execution_count": 3,
     "metadata": {},
     "output_type": "execute_result"
    }
   ],
   "source": [
    "# 학습데이터 = 훈련데이터\n",
    "x_train = np.array([1,2,3,4,5,6,7,8,9]*10)\n",
    "y_train = np.array([2,4,6,8,10,12,14,16,18]*10)\n",
    "# 검증데이터\n",
    "x_val = np.array([1,2,3,4,5,6,7,8,9])\n",
    "y_val = np.array([2,4,6,8,10,12,14,16,18])\n",
    "# 테스트셋 = 시험데이터\n",
    "x_test = np.array([1,2,3,4,5,6,7,8,9])\n",
    "y_test = np.array([2,4,6,8,10,12,14,16,18])\n",
    "x_train.shape, x_val.shape, x_test.shape, y_train.shape, y_val.shape, y_test.shape"
   ]
  },
  {
   "cell_type": "code",
   "execution_count": 4,
   "id": "4949320e",
   "metadata": {},
   "outputs": [
    {
     "name": "stdout",
     "output_type": "stream",
     "text": [
      "원 데이터 :  ['a' 'b' 'c' 'd']\n",
      "라벨인코딩된 데이터 :  [0 1 2 3]\n",
      "원핫인코딩된 데이터 :  [[1. 0. 0. 0.]\n",
      " [0. 1. 0. 0.]\n",
      " [0. 0. 1. 0.]\n",
      " [0. 0. 0. 1.]]\n"
     ]
    }
   ],
   "source": [
    "# 인코딩 종류\n",
    "data = np.array(['a', 'b', 'c', 'd'])\n",
    "print('원 데이터 : ', data)\n",
    "from sklearn.preprocessing import LabelEncoder\n",
    "le = LabelEncoder()\n",
    "# le.fit(data)\n",
    "# labeled_data = le.transform(data)\n",
    "labeled_data = le.fit_transform(data)\n",
    "print('라벨인코딩된 데이터 : ', labeled_data)\n",
    "one_hot_encoded_data = to_categorical(labeled_data)\n",
    "print('원핫인코딩된 데이터 : ', one_hot_encoded_data)"
   ]
  },
  {
   "cell_type": "code",
   "execution_count": 5,
   "id": "dc2f801a",
   "metadata": {},
   "outputs": [
    {
     "name": "stdout",
     "output_type": "stream",
     "text": [
      "[1 2 2 4 2]\n",
      "to_categorical을 이용한 원핫인코딩 : \n",
      " [[0. 1. 0. 0. 0.]\n",
      " [0. 0. 1. 0. 0.]\n",
      " [0. 0. 1. 0. 0.]\n",
      " [0. 0. 0. 0. 1.]\n",
      " [0. 0. 1. 0. 0.]]\n"
     ]
    },
    {
     "data": {
      "text/plain": [
       "'get_dummies를 이용한 원핫인코딩 : '"
      ]
     },
     "metadata": {},
     "output_type": "display_data"
    },
    {
     "data": {
      "text/html": [
       "<div>\n",
       "<style scoped>\n",
       "    .dataframe tbody tr th:only-of-type {\n",
       "        vertical-align: middle;\n",
       "    }\n",
       "\n",
       "    .dataframe tbody tr th {\n",
       "        vertical-align: top;\n",
       "    }\n",
       "\n",
       "    .dataframe thead th {\n",
       "        text-align: right;\n",
       "    }\n",
       "</style>\n",
       "<table border=\"1\" class=\"dataframe\">\n",
       "  <thead>\n",
       "    <tr style=\"text-align: right;\">\n",
       "      <th></th>\n",
       "      <th>1</th>\n",
       "      <th>2</th>\n",
       "      <th>4</th>\n",
       "    </tr>\n",
       "  </thead>\n",
       "  <tbody>\n",
       "    <tr>\n",
       "      <th>0</th>\n",
       "      <td>1</td>\n",
       "      <td>0</td>\n",
       "      <td>0</td>\n",
       "    </tr>\n",
       "    <tr>\n",
       "      <th>1</th>\n",
       "      <td>0</td>\n",
       "      <td>1</td>\n",
       "      <td>0</td>\n",
       "    </tr>\n",
       "    <tr>\n",
       "      <th>2</th>\n",
       "      <td>0</td>\n",
       "      <td>1</td>\n",
       "      <td>0</td>\n",
       "    </tr>\n",
       "    <tr>\n",
       "      <th>3</th>\n",
       "      <td>0</td>\n",
       "      <td>0</td>\n",
       "      <td>1</td>\n",
       "    </tr>\n",
       "    <tr>\n",
       "      <th>4</th>\n",
       "      <td>0</td>\n",
       "      <td>1</td>\n",
       "      <td>0</td>\n",
       "    </tr>\n",
       "  </tbody>\n",
       "</table>\n",
       "</div>"
      ],
      "text/plain": [
       "   1  2  4\n",
       "0  1  0  0\n",
       "1  0  1  0\n",
       "2  0  1  0\n",
       "3  0  0  1\n",
       "4  0  1  0"
      ]
     },
     "metadata": {},
     "output_type": "display_data"
    },
    {
     "name": "stdout",
     "output_type": "stream",
     "text": [
      "<class 'pandas.core.frame.DataFrame'>\n"
     ]
    }
   ],
   "source": [
    "# 분류분석을 위해 target을 원핫인코딩(라벨링 전환)\n",
    "data = np.array([1,2,2,4,2])\n",
    "print(data)\n",
    "categorical_one_hot = to_categorical(data)\n",
    "print('to_categorical을 이용한 원핫인코딩 : \\n', categorical_one_hot)\n",
    "import pandas as pd\n",
    "get_dummies_one_hot = pd.get_dummies(data)\n",
    "display('get_dummies를 이용한 원핫인코딩 : ', get_dummies_one_hot)\n",
    "print(type(get_dummies_one_hot))"
   ]
  },
  {
   "cell_type": "code",
   "execution_count": 6,
   "id": "458fadce",
   "metadata": {},
   "outputs": [
    {
     "data": {
      "text/plain": [
       "array([[0., 0., 1., 0., 0., 0., 0., 0., 0., 0., 0., 0., 0., 0., 0., 0.,\n",
       "        0., 0., 0.],\n",
       "       [0., 0., 0., 0., 1., 0., 0., 0., 0., 0., 0., 0., 0., 0., 0., 0.,\n",
       "        0., 0., 0.],\n",
       "       [0., 0., 0., 0., 0., 0., 1., 0., 0., 0., 0., 0., 0., 0., 0., 0.,\n",
       "        0., 0., 0.],\n",
       "       [0., 0., 0., 0., 0., 0., 0., 0., 1., 0., 0., 0., 0., 0., 0., 0.,\n",
       "        0., 0., 0.],\n",
       "       [0., 0., 0., 0., 0., 0., 0., 0., 0., 0., 1., 0., 0., 0., 0., 0.,\n",
       "        0., 0., 0.],\n",
       "       [0., 0., 0., 0., 0., 0., 0., 0., 0., 0., 0., 0., 1., 0., 0., 0.,\n",
       "        0., 0., 0.],\n",
       "       [0., 0., 0., 0., 0., 0., 0., 0., 0., 0., 0., 0., 0., 0., 1., 0.,\n",
       "        0., 0., 0.],\n",
       "       [0., 0., 0., 0., 0., 0., 0., 0., 0., 0., 0., 0., 0., 0., 0., 0.,\n",
       "        1., 0., 0.],\n",
       "       [0., 0., 0., 0., 0., 0., 0., 0., 0., 0., 0., 0., 0., 0., 0., 0.,\n",
       "        0., 0., 1.]], dtype=float32)"
      ]
     },
     "execution_count": 6,
     "metadata": {},
     "output_type": "execute_result"
    }
   ],
   "source": [
    "# 분류분석을 위한 target변수 라벨링 전환(=원핫인코딩)\n",
    "Y_train = to_categorical(y_train, 19)\n",
    "Y_val   = to_categorical(y_val)\n",
    "Y_test  = to_categorical(y_test)\n",
    "Y_test"
   ]
  },
  {
   "cell_type": "code",
   "execution_count": 7,
   "id": "65bdc37d",
   "metadata": {},
   "outputs": [
    {
     "name": "stdout",
     "output_type": "stream",
     "text": [
      "훈련셋 구조 :  (90,) (90, 19)\n",
      "검증셋 구조 :  (9,) (9, 19)\n",
      "테스트셋 구조 :  (9,) (9, 19)\n"
     ]
    }
   ],
   "source": [
    "print('훈련셋 구조 : ', x_train.shape, Y_train.shape) # 독립변수 1개, 타겟변수 19개\n",
    "print('검증셋 구조 : ', x_val.shape, Y_val.shape)\n",
    "print('테스트셋 구조 : ', x_test.shape, Y_test.shape)"
   ]
  },
  {
   "cell_type": "markdown",
   "id": "c4e42f08",
   "metadata": {},
   "source": [
    "# 3. 모델 구성하기"
   ]
  },
  {
   "cell_type": "code",
   "execution_count": 8,
   "id": "5c2361dc",
   "metadata": {},
   "outputs": [
    {
     "name": "stdout",
     "output_type": "stream",
     "text": [
      "Model: \"sequential\"\n",
      "_________________________________________________________________\n",
      " Layer (type)                Output Shape              Param #   \n",
      "=================================================================\n",
      " dense (Dense)               (None, 38)                76        \n",
      "                                                                 \n",
      " dense_1 (Dense)             (None, 64)                2496      \n",
      "                                                                 \n",
      " dense_2 (Dense)             (None, 32)                2080      \n",
      "                                                                 \n",
      " dense_3 (Dense)             (None, 19)                627       \n",
      "                                                                 \n",
      "=================================================================\n",
      "Total params: 5,279\n",
      "Trainable params: 5,279\n",
      "Non-trainable params: 0\n",
      "_________________________________________________________________\n"
     ]
    }
   ],
   "source": [
    "model = Sequential()\n",
    "model.add(Input(shape=(1, ))) # 입력층\n",
    "model.add(Dense(units=38, activation='sigmoid')) # units 출력수, sigmoid 활성화 함수(relu, tanh)\n",
    "model.add(Dense(units=64, activation='elu'))\n",
    "model.add(Dense(units=32, activation='elu'))\n",
    "model.add(Dense(units=19, activation='softmax'))\n",
    "# softmax : 모든 출력결과의 합이 1. 분류분석 마지막 layer(출력층)에서 activation으로\n",
    "model.summary()"
   ]
  },
  {
   "cell_type": "markdown",
   "id": "0b81ae33",
   "metadata": {},
   "source": []
  },
  {
   "cell_type": "markdown",
   "id": "f7b7f783",
   "metadata": {},
   "source": [
    "# 4. 모델 학습과정 설정"
   ]
  },
  {
   "cell_type": "code",
   "execution_count": 9,
   "id": "d8123259",
   "metadata": {},
   "outputs": [],
   "source": [
    "model.compile(loss=\"categorical_crossentropy\", # 분류분석에서의 손실함수(원핫인코딩有)\n",
    "             optimizer=\"sgd\",\n",
    "             metrics=['accuracy']) # 평가지표 : accuracy"
   ]
  },
  {
   "cell_type": "markdown",
   "id": "26a0078b",
   "metadata": {},
   "source": [
    "# 5. 모델 학습"
   ]
  },
  {
   "cell_type": "code",
   "execution_count": 10,
   "id": "29682deb",
   "metadata": {},
   "outputs": [
    {
     "name": "stdout",
     "output_type": "stream",
     "text": [
      "Epoch 1/300\n",
      "9/9 - 1s - loss: 2.8625 - accuracy: 0.1111 - val_loss: 2.7773 - val_accuracy: 0.1111 - 683ms/epoch - 76ms/step\n",
      "Epoch 2/300\n",
      "9/9 - 0s - loss: 2.7393 - accuracy: 0.1111 - val_loss: 2.6727 - val_accuracy: 0.1111 - 42ms/epoch - 5ms/step\n",
      "Epoch 3/300\n",
      "9/9 - 0s - loss: 2.6482 - accuracy: 0.0889 - val_loss: 2.5963 - val_accuracy: 0.1111 - 44ms/epoch - 5ms/step\n",
      "Epoch 4/300\n",
      "9/9 - 0s - loss: 2.5813 - accuracy: 0.1111 - val_loss: 2.5361 - val_accuracy: 0.1111 - 40ms/epoch - 4ms/step\n",
      "Epoch 5/300\n",
      "9/9 - 0s - loss: 2.5271 - accuracy: 0.1222 - val_loss: 2.4869 - val_accuracy: 0.1111 - 40ms/epoch - 4ms/step\n",
      "Epoch 6/300\n",
      "9/9 - 0s - loss: 2.4806 - accuracy: 0.1222 - val_loss: 2.4457 - val_accuracy: 0.2222 - 39ms/epoch - 4ms/step\n",
      "Epoch 7/300\n",
      "9/9 - 0s - loss: 2.4414 - accuracy: 0.1667 - val_loss: 2.4097 - val_accuracy: 0.2222 - 41ms/epoch - 5ms/step\n",
      "Epoch 8/300\n",
      "9/9 - 0s - loss: 2.4059 - accuracy: 0.1444 - val_loss: 2.3781 - val_accuracy: 0.1111 - 44ms/epoch - 5ms/step\n",
      "Epoch 9/300\n",
      "9/9 - 0s - loss: 2.3801 - accuracy: 0.1111 - val_loss: 2.3496 - val_accuracy: 0.1111 - 54ms/epoch - 6ms/step\n",
      "Epoch 10/300\n",
      "9/9 - 0s - loss: 2.3513 - accuracy: 0.1222 - val_loss: 2.3240 - val_accuracy: 0.1111 - 46ms/epoch - 5ms/step\n",
      "Epoch 11/300\n",
      "9/9 - 0s - loss: 2.3258 - accuracy: 0.1111 - val_loss: 2.3008 - val_accuracy: 0.2222 - 45ms/epoch - 5ms/step\n",
      "Epoch 12/300\n",
      "9/9 - 0s - loss: 2.3037 - accuracy: 0.1111 - val_loss: 2.2796 - val_accuracy: 0.2222 - 47ms/epoch - 5ms/step\n",
      "Epoch 13/300\n",
      "9/9 - 0s - loss: 2.2867 - accuracy: 0.2111 - val_loss: 2.2601 - val_accuracy: 0.2222 - 46ms/epoch - 5ms/step\n",
      "Epoch 14/300\n",
      "9/9 - 0s - loss: 2.2641 - accuracy: 0.1444 - val_loss: 2.2418 - val_accuracy: 0.2222 - 44ms/epoch - 5ms/step\n",
      "Epoch 15/300\n",
      "9/9 - 0s - loss: 2.2474 - accuracy: 0.1889 - val_loss: 2.2248 - val_accuracy: 0.3333 - 42ms/epoch - 5ms/step\n",
      "Epoch 16/300\n",
      "9/9 - 0s - loss: 2.2317 - accuracy: 0.2778 - val_loss: 2.2089 - val_accuracy: 0.3333 - 41ms/epoch - 5ms/step\n",
      "Epoch 17/300\n",
      "9/9 - 0s - loss: 2.2195 - accuracy: 0.2333 - val_loss: 2.1938 - val_accuracy: 0.2222 - 39ms/epoch - 4ms/step\n",
      "Epoch 18/300\n",
      "9/9 - 0s - loss: 2.2038 - accuracy: 0.2000 - val_loss: 2.1792 - val_accuracy: 0.2222 - 43ms/epoch - 5ms/step\n",
      "Epoch 19/300\n",
      "9/9 - 0s - loss: 2.1913 - accuracy: 0.2222 - val_loss: 2.1652 - val_accuracy: 0.2222 - 41ms/epoch - 5ms/step\n",
      "Epoch 20/300\n",
      "9/9 - 0s - loss: 2.1774 - accuracy: 0.2000 - val_loss: 2.1517 - val_accuracy: 0.3333 - 37ms/epoch - 4ms/step\n",
      "Epoch 21/300\n",
      "9/9 - 0s - loss: 2.1633 - accuracy: 0.2556 - val_loss: 2.1384 - val_accuracy: 0.3333 - 44ms/epoch - 5ms/step\n",
      "Epoch 22/300\n",
      "9/9 - 0s - loss: 2.1477 - accuracy: 0.3000 - val_loss: 2.1252 - val_accuracy: 0.2222 - 44ms/epoch - 5ms/step\n",
      "Epoch 23/300\n",
      "9/9 - 0s - loss: 2.1366 - accuracy: 0.2778 - val_loss: 2.1122 - val_accuracy: 0.2222 - 46ms/epoch - 5ms/step\n",
      "Epoch 24/300\n",
      "9/9 - 0s - loss: 2.1242 - accuracy: 0.2222 - val_loss: 2.0991 - val_accuracy: 0.2222 - 57ms/epoch - 6ms/step\n",
      "Epoch 25/300\n",
      "9/9 - 0s - loss: 2.1128 - accuracy: 0.1667 - val_loss: 2.0859 - val_accuracy: 0.2222 - 47ms/epoch - 5ms/step\n",
      "Epoch 26/300\n",
      "9/9 - 0s - loss: 2.0971 - accuracy: 0.2222 - val_loss: 2.0730 - val_accuracy: 0.3333 - 40ms/epoch - 4ms/step\n",
      "Epoch 27/300\n",
      "9/9 - 0s - loss: 2.0869 - accuracy: 0.2667 - val_loss: 2.0598 - val_accuracy: 0.2222 - 40ms/epoch - 4ms/step\n",
      "Epoch 28/300\n",
      "9/9 - 0s - loss: 2.0750 - accuracy: 0.2222 - val_loss: 2.0463 - val_accuracy: 0.2222 - 50ms/epoch - 6ms/step\n",
      "Epoch 29/300\n",
      "9/9 - 0s - loss: 2.0584 - accuracy: 0.2556 - val_loss: 2.0326 - val_accuracy: 0.2222 - 38ms/epoch - 4ms/step\n",
      "Epoch 30/300\n",
      "9/9 - 0s - loss: 2.0460 - accuracy: 0.2667 - val_loss: 2.0189 - val_accuracy: 0.2222 - 43ms/epoch - 5ms/step\n",
      "Epoch 31/300\n",
      "9/9 - 0s - loss: 2.0325 - accuracy: 0.1889 - val_loss: 2.0051 - val_accuracy: 0.2222 - 41ms/epoch - 5ms/step\n",
      "Epoch 32/300\n",
      "9/9 - 0s - loss: 2.0194 - accuracy: 0.2000 - val_loss: 1.9909 - val_accuracy: 0.2222 - 45ms/epoch - 5ms/step\n",
      "Epoch 33/300\n",
      "9/9 - 0s - loss: 2.0070 - accuracy: 0.2111 - val_loss: 1.9769 - val_accuracy: 0.2222 - 45ms/epoch - 5ms/step\n",
      "Epoch 34/300\n",
      "9/9 - 0s - loss: 1.9940 - accuracy: 0.1889 - val_loss: 1.9624 - val_accuracy: 0.2222 - 46ms/epoch - 5ms/step\n",
      "Epoch 35/300\n",
      "9/9 - 0s - loss: 1.9722 - accuracy: 0.2111 - val_loss: 1.9479 - val_accuracy: 0.2222 - 44ms/epoch - 5ms/step\n",
      "Epoch 36/300\n",
      "9/9 - 0s - loss: 1.9559 - accuracy: 0.2222 - val_loss: 1.9331 - val_accuracy: 0.2222 - 53ms/epoch - 6ms/step\n",
      "Epoch 37/300\n",
      "9/9 - 0s - loss: 1.9541 - accuracy: 0.2333 - val_loss: 1.9186 - val_accuracy: 0.3333 - 42ms/epoch - 5ms/step\n",
      "Epoch 38/300\n",
      "9/9 - 0s - loss: 1.9285 - accuracy: 0.2333 - val_loss: 1.9037 - val_accuracy: 0.2222 - 40ms/epoch - 4ms/step\n",
      "Epoch 39/300\n",
      "9/9 - 0s - loss: 1.9225 - accuracy: 0.2111 - val_loss: 1.8887 - val_accuracy: 0.2222 - 40ms/epoch - 4ms/step\n",
      "Epoch 40/300\n",
      "9/9 - 0s - loss: 1.9084 - accuracy: 0.2000 - val_loss: 1.8737 - val_accuracy: 0.3333 - 39ms/epoch - 4ms/step\n",
      "Epoch 41/300\n",
      "9/9 - 0s - loss: 1.8871 - accuracy: 0.2333 - val_loss: 1.8586 - val_accuracy: 0.2222 - 39ms/epoch - 4ms/step\n",
      "Epoch 42/300\n",
      "9/9 - 0s - loss: 1.8642 - accuracy: 0.2444 - val_loss: 1.8430 - val_accuracy: 0.2222 - 46ms/epoch - 5ms/step\n",
      "Epoch 43/300\n",
      "9/9 - 0s - loss: 1.8505 - accuracy: 0.2222 - val_loss: 1.8283 - val_accuracy: 0.2222 - 44ms/epoch - 5ms/step\n",
      "Epoch 44/300\n",
      "9/9 - 0s - loss: 1.8446 - accuracy: 0.2556 - val_loss: 1.8135 - val_accuracy: 0.4444 - 46ms/epoch - 5ms/step\n",
      "Epoch 45/300\n",
      "9/9 - 0s - loss: 1.8253 - accuracy: 0.2667 - val_loss: 1.7981 - val_accuracy: 0.3333 - 47ms/epoch - 5ms/step\n",
      "Epoch 46/300\n",
      "9/9 - 0s - loss: 1.8126 - accuracy: 0.2333 - val_loss: 1.7831 - val_accuracy: 0.3333 - 42ms/epoch - 5ms/step\n",
      "Epoch 47/300\n",
      "9/9 - 0s - loss: 1.7958 - accuracy: 0.3000 - val_loss: 1.7686 - val_accuracy: 0.2222 - 41ms/epoch - 5ms/step\n",
      "Epoch 48/300\n",
      "9/9 - 0s - loss: 1.7810 - accuracy: 0.2556 - val_loss: 1.7537 - val_accuracy: 0.2222 - 47ms/epoch - 5ms/step\n",
      "Epoch 49/300\n",
      "9/9 - 0s - loss: 1.7698 - accuracy: 0.2778 - val_loss: 1.7396 - val_accuracy: 0.2222 - 39ms/epoch - 4ms/step\n",
      "Epoch 50/300\n",
      "9/9 - 0s - loss: 1.7508 - accuracy: 0.2444 - val_loss: 1.7251 - val_accuracy: 0.2222 - 41ms/epoch - 5ms/step\n",
      "Epoch 51/300\n",
      "9/9 - 0s - loss: 1.7421 - accuracy: 0.2444 - val_loss: 1.7108 - val_accuracy: 0.2222 - 39ms/epoch - 4ms/step\n",
      "Epoch 52/300\n",
      "9/9 - 0s - loss: 1.7229 - accuracy: 0.3111 - val_loss: 1.6968 - val_accuracy: 0.3333 - 37ms/epoch - 4ms/step\n",
      "Epoch 53/300\n",
      "9/9 - 0s - loss: 1.7170 - accuracy: 0.3333 - val_loss: 1.6821 - val_accuracy: 0.4444 - 41ms/epoch - 5ms/step\n",
      "Epoch 54/300\n",
      "9/9 - 0s - loss: 1.6930 - accuracy: 0.3667 - val_loss: 1.6685 - val_accuracy: 0.3333 - 46ms/epoch - 5ms/step\n",
      "Epoch 55/300\n",
      "9/9 - 0s - loss: 1.6839 - accuracy: 0.2444 - val_loss: 1.6546 - val_accuracy: 0.3333 - 47ms/epoch - 5ms/step\n",
      "Epoch 56/300\n",
      "9/9 - 0s - loss: 1.6710 - accuracy: 0.3667 - val_loss: 1.6414 - val_accuracy: 0.4444 - 48ms/epoch - 5ms/step\n",
      "Epoch 57/300\n",
      "9/9 - 0s - loss: 1.6591 - accuracy: 0.3556 - val_loss: 1.6281 - val_accuracy: 0.3333 - 45ms/epoch - 5ms/step\n",
      "Epoch 58/300\n",
      "9/9 - 0s - loss: 1.6446 - accuracy: 0.3000 - val_loss: 1.6144 - val_accuracy: 0.4444 - 42ms/epoch - 5ms/step\n",
      "Epoch 59/300\n",
      "9/9 - 0s - loss: 1.6292 - accuracy: 0.2778 - val_loss: 1.6016 - val_accuracy: 0.4444 - 48ms/epoch - 5ms/step\n",
      "Epoch 60/300\n",
      "9/9 - 0s - loss: 1.6157 - accuracy: 0.3889 - val_loss: 1.5886 - val_accuracy: 0.3333 - 39ms/epoch - 4ms/step\n",
      "Epoch 61/300\n",
      "9/9 - 0s - loss: 1.6091 - accuracy: 0.2889 - val_loss: 1.5764 - val_accuracy: 0.4444 - 38ms/epoch - 4ms/step\n",
      "Epoch 62/300\n",
      "9/9 - 0s - loss: 1.5910 - accuracy: 0.4444 - val_loss: 1.5636 - val_accuracy: 0.3333 - 39ms/epoch - 4ms/step\n",
      "Epoch 63/300\n",
      "9/9 - 0s - loss: 1.5773 - accuracy: 0.3333 - val_loss: 1.5512 - val_accuracy: 0.4444 - 39ms/epoch - 4ms/step\n",
      "Epoch 64/300\n",
      "9/9 - 0s - loss: 1.5661 - accuracy: 0.3556 - val_loss: 1.5394 - val_accuracy: 0.4444 - 41ms/epoch - 5ms/step\n",
      "Epoch 65/300\n",
      "9/9 - 0s - loss: 1.5575 - accuracy: 0.3667 - val_loss: 1.5278 - val_accuracy: 0.4444 - 40ms/epoch - 4ms/step\n",
      "Epoch 66/300\n",
      "9/9 - 0s - loss: 1.5447 - accuracy: 0.3444 - val_loss: 1.5166 - val_accuracy: 0.3333 - 40ms/epoch - 4ms/step\n",
      "Epoch 67/300\n",
      "9/9 - 0s - loss: 1.5314 - accuracy: 0.4222 - val_loss: 1.5048 - val_accuracy: 0.4444 - 39ms/epoch - 4ms/step\n",
      "Epoch 68/300\n",
      "9/9 - 0s - loss: 1.5210 - accuracy: 0.3889 - val_loss: 1.4935 - val_accuracy: 0.5556 - 43ms/epoch - 5ms/step\n"
     ]
    },
    {
     "name": "stdout",
     "output_type": "stream",
     "text": [
      "Epoch 69/300\n",
      "9/9 - 0s - loss: 1.5127 - accuracy: 0.4444 - val_loss: 1.4830 - val_accuracy: 0.4444 - 41ms/epoch - 5ms/step\n",
      "Epoch 70/300\n",
      "9/9 - 0s - loss: 1.5011 - accuracy: 0.4111 - val_loss: 1.4716 - val_accuracy: 0.5556 - 48ms/epoch - 5ms/step\n",
      "Epoch 71/300\n",
      "9/9 - 0s - loss: 1.4860 - accuracy: 0.3778 - val_loss: 1.4607 - val_accuracy: 0.4444 - 44ms/epoch - 5ms/step\n",
      "Epoch 72/300\n",
      "9/9 - 0s - loss: 1.4828 - accuracy: 0.4111 - val_loss: 1.4504 - val_accuracy: 0.5556 - 45ms/epoch - 5ms/step\n",
      "Epoch 73/300\n",
      "9/9 - 0s - loss: 1.4681 - accuracy: 0.4778 - val_loss: 1.4401 - val_accuracy: 0.5556 - 44ms/epoch - 5ms/step\n",
      "Epoch 74/300\n",
      "9/9 - 0s - loss: 1.4548 - accuracy: 0.5000 - val_loss: 1.4294 - val_accuracy: 0.6667 - 39ms/epoch - 4ms/step\n",
      "Epoch 75/300\n",
      "9/9 - 0s - loss: 1.4458 - accuracy: 0.4556 - val_loss: 1.4193 - val_accuracy: 0.5556 - 39ms/epoch - 4ms/step\n",
      "Epoch 76/300\n",
      "9/9 - 0s - loss: 1.4361 - accuracy: 0.4222 - val_loss: 1.4094 - val_accuracy: 0.7778 - 41ms/epoch - 5ms/step\n",
      "Epoch 77/300\n",
      "9/9 - 0s - loss: 1.4286 - accuracy: 0.5333 - val_loss: 1.4001 - val_accuracy: 0.6667 - 37ms/epoch - 4ms/step\n",
      "Epoch 78/300\n",
      "9/9 - 0s - loss: 1.4116 - accuracy: 0.5556 - val_loss: 1.3916 - val_accuracy: 0.6667 - 39ms/epoch - 4ms/step\n",
      "Epoch 79/300\n",
      "9/9 - 0s - loss: 1.4118 - accuracy: 0.5444 - val_loss: 1.3804 - val_accuracy: 0.7778 - 45ms/epoch - 5ms/step\n",
      "Epoch 80/300\n",
      "9/9 - 0s - loss: 1.4004 - accuracy: 0.5333 - val_loss: 1.3727 - val_accuracy: 0.6667 - 38ms/epoch - 4ms/step\n",
      "Epoch 81/300\n",
      "9/9 - 0s - loss: 1.3924 - accuracy: 0.4444 - val_loss: 1.3620 - val_accuracy: 0.8889 - 40ms/epoch - 4ms/step\n",
      "Epoch 82/300\n",
      "9/9 - 0s - loss: 1.3740 - accuracy: 0.6000 - val_loss: 1.3532 - val_accuracy: 0.7778 - 39ms/epoch - 4ms/step\n",
      "Epoch 83/300\n",
      "9/9 - 0s - loss: 1.3662 - accuracy: 0.6444 - val_loss: 1.3431 - val_accuracy: 0.7778 - 39ms/epoch - 4ms/step\n",
      "Epoch 84/300\n",
      "9/9 - 0s - loss: 1.3654 - accuracy: 0.6556 - val_loss: 1.3356 - val_accuracy: 0.7778 - 39ms/epoch - 4ms/step\n",
      "Epoch 85/300\n",
      "9/9 - 0s - loss: 1.3516 - accuracy: 0.5222 - val_loss: 1.3268 - val_accuracy: 0.7778 - 40ms/epoch - 4ms/step\n",
      "Epoch 86/300\n",
      "9/9 - 0s - loss: 1.3417 - accuracy: 0.7000 - val_loss: 1.3173 - val_accuracy: 0.7778 - 40ms/epoch - 4ms/step\n",
      "Epoch 87/300\n",
      "9/9 - 0s - loss: 1.3327 - accuracy: 0.6556 - val_loss: 1.3081 - val_accuracy: 0.7778 - 41ms/epoch - 5ms/step\n",
      "Epoch 88/300\n",
      "9/9 - 0s - loss: 1.3280 - accuracy: 0.6556 - val_loss: 1.3007 - val_accuracy: 0.7778 - 42ms/epoch - 5ms/step\n",
      "Epoch 89/300\n",
      "9/9 - 0s - loss: 1.3212 - accuracy: 0.6222 - val_loss: 1.2940 - val_accuracy: 0.7778 - 40ms/epoch - 4ms/step\n",
      "Epoch 90/300\n",
      "9/9 - 0s - loss: 1.3117 - accuracy: 0.6222 - val_loss: 1.2867 - val_accuracy: 0.6667 - 39ms/epoch - 4ms/step\n",
      "Epoch 91/300\n",
      "9/9 - 0s - loss: 1.2993 - accuracy: 0.6222 - val_loss: 1.2769 - val_accuracy: 0.6667 - 50ms/epoch - 6ms/step\n",
      "Epoch 92/300\n",
      "9/9 - 0s - loss: 1.2894 - accuracy: 0.5444 - val_loss: 1.2666 - val_accuracy: 0.6667 - 39ms/epoch - 4ms/step\n",
      "Epoch 93/300\n",
      "9/9 - 0s - loss: 1.2906 - accuracy: 0.5444 - val_loss: 1.2591 - val_accuracy: 0.6667 - 40ms/epoch - 4ms/step\n",
      "Epoch 94/300\n",
      "9/9 - 0s - loss: 1.2724 - accuracy: 0.6556 - val_loss: 1.2524 - val_accuracy: 0.6667 - 41ms/epoch - 5ms/step\n",
      "Epoch 95/300\n",
      "9/9 - 0s - loss: 1.2743 - accuracy: 0.4778 - val_loss: 1.2430 - val_accuracy: 0.6667 - 40ms/epoch - 4ms/step\n",
      "Epoch 96/300\n",
      "9/9 - 0s - loss: 1.2669 - accuracy: 0.6556 - val_loss: 1.2358 - val_accuracy: 0.7778 - 42ms/epoch - 5ms/step\n",
      "Epoch 97/300\n",
      "9/9 - 0s - loss: 1.2637 - accuracy: 0.6111 - val_loss: 1.2298 - val_accuracy: 0.6667 - 42ms/epoch - 5ms/step\n",
      "Epoch 98/300\n",
      "9/9 - 0s - loss: 1.2417 - accuracy: 0.6333 - val_loss: 1.2202 - val_accuracy: 0.7778 - 39ms/epoch - 4ms/step\n",
      "Epoch 99/300\n",
      "9/9 - 0s - loss: 1.2362 - accuracy: 0.7889 - val_loss: 1.2129 - val_accuracy: 0.7778 - 42ms/epoch - 5ms/step\n",
      "Epoch 100/300\n",
      "9/9 - 0s - loss: 1.2340 - accuracy: 0.6000 - val_loss: 1.2058 - val_accuracy: 0.8889 - 39ms/epoch - 4ms/step\n",
      "Epoch 101/300\n",
      "9/9 - 0s - loss: 1.2226 - accuracy: 0.6667 - val_loss: 1.1992 - val_accuracy: 0.7778 - 41ms/epoch - 5ms/step\n",
      "Epoch 102/300\n",
      "9/9 - 0s - loss: 1.2072 - accuracy: 0.7333 - val_loss: 1.1919 - val_accuracy: 0.7778 - 43ms/epoch - 5ms/step\n",
      "Epoch 103/300\n",
      "9/9 - 0s - loss: 1.2210 - accuracy: 0.6667 - val_loss: 1.1850 - val_accuracy: 0.7778 - 39ms/epoch - 4ms/step\n",
      "Epoch 104/300\n",
      "9/9 - 0s - loss: 1.2142 - accuracy: 0.6778 - val_loss: 1.1769 - val_accuracy: 0.7778 - 41ms/epoch - 5ms/step\n",
      "Epoch 105/300\n",
      "9/9 - 0s - loss: 1.1983 - accuracy: 0.7556 - val_loss: 1.1711 - val_accuracy: 0.7778 - 42ms/epoch - 5ms/step\n",
      "Epoch 106/300\n",
      "9/9 - 0s - loss: 1.1866 - accuracy: 0.7778 - val_loss: 1.1631 - val_accuracy: 0.8889 - 41ms/epoch - 5ms/step\n",
      "Epoch 107/300\n",
      "9/9 - 0s - loss: 1.1820 - accuracy: 0.7111 - val_loss: 1.1559 - val_accuracy: 0.8889 - 41ms/epoch - 5ms/step\n",
      "Epoch 108/300\n",
      "9/9 - 0s - loss: 1.1743 - accuracy: 0.8000 - val_loss: 1.1535 - val_accuracy: 0.6667 - 44ms/epoch - 5ms/step\n",
      "Epoch 109/300\n",
      "9/9 - 0s - loss: 1.1739 - accuracy: 0.6667 - val_loss: 1.1441 - val_accuracy: 0.7778 - 41ms/epoch - 5ms/step\n",
      "Epoch 110/300\n",
      "9/9 - 0s - loss: 1.1593 - accuracy: 0.7667 - val_loss: 1.1363 - val_accuracy: 0.8889 - 41ms/epoch - 5ms/step\n",
      "Epoch 111/300\n",
      "9/9 - 0s - loss: 1.1587 - accuracy: 0.6889 - val_loss: 1.1306 - val_accuracy: 0.8889 - 39ms/epoch - 4ms/step\n",
      "Epoch 112/300\n",
      "9/9 - 0s - loss: 1.1500 - accuracy: 0.7222 - val_loss: 1.1242 - val_accuracy: 0.7778 - 42ms/epoch - 5ms/step\n",
      "Epoch 113/300\n",
      "9/9 - 0s - loss: 1.1433 - accuracy: 0.7889 - val_loss: 1.1167 - val_accuracy: 0.8889 - 39ms/epoch - 4ms/step\n",
      "Epoch 114/300\n",
      "9/9 - 0s - loss: 1.1345 - accuracy: 0.7222 - val_loss: 1.1102 - val_accuracy: 0.8889 - 40ms/epoch - 4ms/step\n",
      "Epoch 115/300\n",
      "9/9 - 0s - loss: 1.1226 - accuracy: 0.8000 - val_loss: 1.1047 - val_accuracy: 0.8889 - 40ms/epoch - 4ms/step\n",
      "Epoch 116/300\n",
      "9/9 - 0s - loss: 1.1280 - accuracy: 0.7889 - val_loss: 1.0983 - val_accuracy: 1.0000 - 41ms/epoch - 5ms/step\n",
      "Epoch 117/300\n",
      "9/9 - 0s - loss: 1.1214 - accuracy: 0.7667 - val_loss: 1.0916 - val_accuracy: 0.8889 - 41ms/epoch - 5ms/step\n",
      "Epoch 118/300\n",
      "9/9 - 0s - loss: 1.1203 - accuracy: 0.7556 - val_loss: 1.0855 - val_accuracy: 0.8889 - 48ms/epoch - 5ms/step\n",
      "Epoch 119/300\n",
      "9/9 - 0s - loss: 1.1059 - accuracy: 0.8000 - val_loss: 1.0823 - val_accuracy: 0.7778 - 42ms/epoch - 5ms/step\n",
      "Epoch 120/300\n",
      "9/9 - 0s - loss: 1.1111 - accuracy: 0.7000 - val_loss: 1.0749 - val_accuracy: 0.7778 - 41ms/epoch - 5ms/step\n",
      "Epoch 121/300\n",
      "9/9 - 0s - loss: 1.0883 - accuracy: 0.7444 - val_loss: 1.0670 - val_accuracy: 0.8889 - 39ms/epoch - 4ms/step\n",
      "Epoch 122/300\n",
      "9/9 - 0s - loss: 1.0803 - accuracy: 0.8333 - val_loss: 1.0604 - val_accuracy: 0.7778 - 40ms/epoch - 4ms/step\n",
      "Epoch 123/300\n",
      "9/9 - 0s - loss: 1.0792 - accuracy: 0.8000 - val_loss: 1.0570 - val_accuracy: 0.8889 - 42ms/epoch - 5ms/step\n",
      "Epoch 124/300\n",
      "9/9 - 0s - loss: 1.0724 - accuracy: 0.8333 - val_loss: 1.0503 - val_accuracy: 0.8889 - 41ms/epoch - 5ms/step\n",
      "Epoch 125/300\n",
      "9/9 - 0s - loss: 1.0747 - accuracy: 0.8111 - val_loss: 1.0451 - val_accuracy: 0.8889 - 40ms/epoch - 4ms/step\n",
      "Epoch 126/300\n",
      "9/9 - 0s - loss: 1.0637 - accuracy: 0.8111 - val_loss: 1.0380 - val_accuracy: 0.8889 - 40ms/epoch - 4ms/step\n",
      "Epoch 127/300\n",
      "9/9 - 0s - loss: 1.0559 - accuracy: 0.8333 - val_loss: 1.0344 - val_accuracy: 0.7778 - 41ms/epoch - 5ms/step\n",
      "Epoch 128/300\n",
      "9/9 - 0s - loss: 1.0574 - accuracy: 0.7444 - val_loss: 1.0274 - val_accuracy: 0.7778 - 41ms/epoch - 5ms/step\n",
      "Epoch 129/300\n",
      "9/9 - 0s - loss: 1.0404 - accuracy: 0.8000 - val_loss: 1.0216 - val_accuracy: 0.8889 - 41ms/epoch - 5ms/step\n",
      "Epoch 130/300\n",
      "9/9 - 0s - loss: 1.0453 - accuracy: 0.8222 - val_loss: 1.0163 - val_accuracy: 0.8889 - 42ms/epoch - 5ms/step\n",
      "Epoch 131/300\n",
      "9/9 - 0s - loss: 1.0348 - accuracy: 0.8111 - val_loss: 1.0113 - val_accuracy: 0.7778 - 44ms/epoch - 5ms/step\n",
      "Epoch 132/300\n",
      "9/9 - 0s - loss: 1.0314 - accuracy: 0.7556 - val_loss: 1.0040 - val_accuracy: 0.8889 - 41ms/epoch - 5ms/step\n",
      "Epoch 133/300\n",
      "9/9 - 0s - loss: 1.0241 - accuracy: 0.9000 - val_loss: 0.9983 - val_accuracy: 0.7778 - 40ms/epoch - 4ms/step\n",
      "Epoch 134/300\n",
      "9/9 - 0s - loss: 1.0167 - accuracy: 0.8000 - val_loss: 0.9935 - val_accuracy: 0.8889 - 40ms/epoch - 4ms/step\n",
      "Epoch 135/300\n",
      "9/9 - 0s - loss: 1.0083 - accuracy: 0.8333 - val_loss: 0.9881 - val_accuracy: 0.8889 - 40ms/epoch - 4ms/step\n"
     ]
    },
    {
     "name": "stdout",
     "output_type": "stream",
     "text": [
      "Epoch 136/300\n",
      "9/9 - 0s - loss: 1.0153 - accuracy: 0.8444 - val_loss: 0.9815 - val_accuracy: 0.8889 - 51ms/epoch - 6ms/step\n",
      "Epoch 137/300\n",
      "9/9 - 0s - loss: 0.9951 - accuracy: 0.8000 - val_loss: 0.9774 - val_accuracy: 0.7778 - 39ms/epoch - 4ms/step\n",
      "Epoch 138/300\n",
      "9/9 - 0s - loss: 1.0005 - accuracy: 0.8000 - val_loss: 0.9732 - val_accuracy: 0.7778 - 39ms/epoch - 4ms/step\n",
      "Epoch 139/300\n",
      "9/9 - 0s - loss: 0.9866 - accuracy: 0.8444 - val_loss: 0.9707 - val_accuracy: 0.8889 - 41ms/epoch - 5ms/step\n",
      "Epoch 140/300\n",
      "9/9 - 0s - loss: 0.9761 - accuracy: 0.8444 - val_loss: 0.9608 - val_accuracy: 0.8889 - 40ms/epoch - 4ms/step\n",
      "Epoch 141/300\n",
      "9/9 - 0s - loss: 0.9827 - accuracy: 0.8778 - val_loss: 0.9573 - val_accuracy: 1.0000 - 43ms/epoch - 5ms/step\n",
      "Epoch 142/300\n",
      "9/9 - 0s - loss: 0.9733 - accuracy: 0.8556 - val_loss: 0.9582 - val_accuracy: 0.7778 - 41ms/epoch - 5ms/step\n",
      "Epoch 143/300\n",
      "9/9 - 0s - loss: 0.9774 - accuracy: 0.7556 - val_loss: 0.9495 - val_accuracy: 1.0000 - 48ms/epoch - 5ms/step\n",
      "Epoch 144/300\n",
      "9/9 - 0s - loss: 0.9710 - accuracy: 0.8556 - val_loss: 0.9424 - val_accuracy: 0.8889 - 39ms/epoch - 4ms/step\n",
      "Epoch 145/300\n",
      "9/9 - 0s - loss: 0.9713 - accuracy: 0.8000 - val_loss: 0.9357 - val_accuracy: 0.8889 - 41ms/epoch - 5ms/step\n",
      "Epoch 146/300\n",
      "9/9 - 0s - loss: 0.9636 - accuracy: 0.8333 - val_loss: 0.9322 - val_accuracy: 0.8889 - 38ms/epoch - 4ms/step\n",
      "Epoch 147/300\n",
      "9/9 - 0s - loss: 0.9553 - accuracy: 0.8667 - val_loss: 0.9299 - val_accuracy: 0.8889 - 41ms/epoch - 5ms/step\n",
      "Epoch 148/300\n",
      "9/9 - 0s - loss: 0.9506 - accuracy: 0.8444 - val_loss: 0.9259 - val_accuracy: 0.8889 - 40ms/epoch - 4ms/step\n",
      "Epoch 149/300\n",
      "9/9 - 0s - loss: 0.9538 - accuracy: 0.8000 - val_loss: 0.9177 - val_accuracy: 1.0000 - 40ms/epoch - 4ms/step\n",
      "Epoch 150/300\n",
      "9/9 - 0s - loss: 0.9417 - accuracy: 0.8333 - val_loss: 0.9137 - val_accuracy: 0.8889 - 42ms/epoch - 5ms/step\n",
      "Epoch 151/300\n",
      "9/9 - 0s - loss: 0.9379 - accuracy: 0.8111 - val_loss: 0.9083 - val_accuracy: 0.8889 - 39ms/epoch - 4ms/step\n",
      "Epoch 152/300\n",
      "9/9 - 0s - loss: 0.9315 - accuracy: 0.8778 - val_loss: 0.9043 - val_accuracy: 0.8889 - 42ms/epoch - 5ms/step\n",
      "Epoch 153/300\n",
      "9/9 - 0s - loss: 0.9339 - accuracy: 0.8444 - val_loss: 0.8983 - val_accuracy: 0.8889 - 38ms/epoch - 4ms/step\n",
      "Epoch 154/300\n",
      "9/9 - 0s - loss: 0.9220 - accuracy: 0.8889 - val_loss: 0.8923 - val_accuracy: 1.0000 - 41ms/epoch - 5ms/step\n",
      "Epoch 155/300\n",
      "9/9 - 0s - loss: 0.9152 - accuracy: 0.8444 - val_loss: 0.8902 - val_accuracy: 0.8889 - 39ms/epoch - 4ms/step\n",
      "Epoch 156/300\n",
      "9/9 - 0s - loss: 0.9077 - accuracy: 0.8889 - val_loss: 0.8836 - val_accuracy: 0.8889 - 41ms/epoch - 5ms/step\n",
      "Epoch 157/300\n",
      "9/9 - 0s - loss: 0.9063 - accuracy: 0.8667 - val_loss: 0.8802 - val_accuracy: 0.8889 - 41ms/epoch - 5ms/step\n",
      "Epoch 158/300\n",
      "9/9 - 0s - loss: 0.9049 - accuracy: 0.8556 - val_loss: 0.8751 - val_accuracy: 1.0000 - 39ms/epoch - 4ms/step\n",
      "Epoch 159/300\n",
      "9/9 - 0s - loss: 0.8949 - accuracy: 0.8889 - val_loss: 0.8745 - val_accuracy: 1.0000 - 41ms/epoch - 5ms/step\n",
      "Epoch 160/300\n",
      "9/9 - 0s - loss: 0.8866 - accuracy: 0.8778 - val_loss: 0.8801 - val_accuracy: 0.7778 - 40ms/epoch - 4ms/step\n",
      "Epoch 161/300\n",
      "9/9 - 0s - loss: 0.8985 - accuracy: 0.8444 - val_loss: 0.8602 - val_accuracy: 0.8889 - 42ms/epoch - 5ms/step\n",
      "Epoch 162/300\n",
      "9/9 - 0s - loss: 0.9078 - accuracy: 0.7889 - val_loss: 0.8557 - val_accuracy: 0.8889 - 40ms/epoch - 4ms/step\n",
      "Epoch 163/300\n",
      "9/9 - 0s - loss: 0.8874 - accuracy: 0.8333 - val_loss: 0.8541 - val_accuracy: 0.8889 - 41ms/epoch - 5ms/step\n",
      "Epoch 164/300\n",
      "9/9 - 0s - loss: 0.8792 - accuracy: 0.8667 - val_loss: 0.8474 - val_accuracy: 0.8889 - 42ms/epoch - 5ms/step\n",
      "Epoch 165/300\n",
      "9/9 - 0s - loss: 0.8748 - accuracy: 0.8444 - val_loss: 0.8430 - val_accuracy: 1.0000 - 39ms/epoch - 4ms/step\n",
      "Epoch 166/300\n",
      "9/9 - 0s - loss: 0.8592 - accuracy: 0.9000 - val_loss: 0.8382 - val_accuracy: 0.8889 - 39ms/epoch - 4ms/step\n",
      "Epoch 167/300\n",
      "9/9 - 0s - loss: 0.8610 - accuracy: 0.8778 - val_loss: 0.8337 - val_accuracy: 1.0000 - 41ms/epoch - 5ms/step\n",
      "Epoch 168/300\n",
      "9/9 - 0s - loss: 0.8574 - accuracy: 0.8778 - val_loss: 0.8313 - val_accuracy: 1.0000 - 41ms/epoch - 5ms/step\n",
      "Epoch 169/300\n",
      "9/9 - 0s - loss: 0.8501 - accuracy: 0.9556 - val_loss: 0.8261 - val_accuracy: 0.8889 - 41ms/epoch - 5ms/step\n",
      "Epoch 170/300\n",
      "9/9 - 0s - loss: 0.8545 - accuracy: 0.8444 - val_loss: 0.8210 - val_accuracy: 0.8889 - 40ms/epoch - 4ms/step\n",
      "Epoch 171/300\n",
      "9/9 - 0s - loss: 0.8428 - accuracy: 0.8778 - val_loss: 0.8186 - val_accuracy: 0.8889 - 42ms/epoch - 5ms/step\n",
      "Epoch 172/300\n",
      "9/9 - 0s - loss: 0.8456 - accuracy: 0.8889 - val_loss: 0.8147 - val_accuracy: 0.8889 - 47ms/epoch - 5ms/step\n",
      "Epoch 173/300\n",
      "9/9 - 0s - loss: 0.8338 - accuracy: 0.8667 - val_loss: 0.8099 - val_accuracy: 1.0000 - 38ms/epoch - 4ms/step\n",
      "Epoch 174/300\n",
      "9/9 - 0s - loss: 0.8386 - accuracy: 0.8556 - val_loss: 0.8078 - val_accuracy: 1.0000 - 41ms/epoch - 5ms/step\n",
      "Epoch 175/300\n",
      "9/9 - 0s - loss: 0.8352 - accuracy: 0.9333 - val_loss: 0.8007 - val_accuracy: 0.8889 - 39ms/epoch - 4ms/step\n",
      "Epoch 176/300\n",
      "9/9 - 0s - loss: 0.8305 - accuracy: 0.8667 - val_loss: 0.7983 - val_accuracy: 1.0000 - 41ms/epoch - 5ms/step\n",
      "Epoch 177/300\n",
      "9/9 - 0s - loss: 0.8320 - accuracy: 0.8667 - val_loss: 0.7934 - val_accuracy: 0.8889 - 42ms/epoch - 5ms/step\n",
      "Epoch 178/300\n",
      "9/9 - 0s - loss: 0.8136 - accuracy: 0.8333 - val_loss: 0.7883 - val_accuracy: 1.0000 - 41ms/epoch - 5ms/step\n",
      "Epoch 179/300\n",
      "9/9 - 0s - loss: 0.8229 - accuracy: 0.9000 - val_loss: 0.7935 - val_accuracy: 0.8889 - 40ms/epoch - 4ms/step\n",
      "Epoch 180/300\n",
      "9/9 - 0s - loss: 0.8104 - accuracy: 0.8889 - val_loss: 0.7832 - val_accuracy: 0.8889 - 39ms/epoch - 4ms/step\n",
      "Epoch 181/300\n",
      "9/9 - 0s - loss: 0.8080 - accuracy: 0.8222 - val_loss: 0.7849 - val_accuracy: 0.8889 - 41ms/epoch - 5ms/step\n",
      "Epoch 182/300\n",
      "9/9 - 0s - loss: 0.7929 - accuracy: 0.8444 - val_loss: 0.7722 - val_accuracy: 0.8889 - 40ms/epoch - 4ms/step\n",
      "Epoch 183/300\n",
      "9/9 - 0s - loss: 0.7967 - accuracy: 0.8222 - val_loss: 0.7743 - val_accuracy: 1.0000 - 39ms/epoch - 4ms/step\n",
      "Epoch 184/300\n",
      "9/9 - 0s - loss: 0.7981 - accuracy: 0.9000 - val_loss: 0.7657 - val_accuracy: 1.0000 - 41ms/epoch - 5ms/step\n",
      "Epoch 185/300\n",
      "9/9 - 0s - loss: 0.8020 - accuracy: 0.8889 - val_loss: 0.7611 - val_accuracy: 0.8889 - 40ms/epoch - 4ms/step\n",
      "Epoch 186/300\n",
      "9/9 - 0s - loss: 0.7937 - accuracy: 0.9222 - val_loss: 0.7611 - val_accuracy: 0.7778 - 40ms/epoch - 4ms/step\n",
      "Epoch 187/300\n",
      "9/9 - 0s - loss: 0.7862 - accuracy: 0.8556 - val_loss: 0.7553 - val_accuracy: 0.8889 - 39ms/epoch - 4ms/step\n",
      "Epoch 188/300\n",
      "9/9 - 0s - loss: 0.7872 - accuracy: 0.8667 - val_loss: 0.7483 - val_accuracy: 1.0000 - 41ms/epoch - 5ms/step\n",
      "Epoch 189/300\n",
      "9/9 - 0s - loss: 0.7737 - accuracy: 0.9222 - val_loss: 0.7450 - val_accuracy: 1.0000 - 41ms/epoch - 5ms/step\n",
      "Epoch 190/300\n",
      "9/9 - 0s - loss: 0.7675 - accuracy: 0.9333 - val_loss: 0.7394 - val_accuracy: 1.0000 - 41ms/epoch - 5ms/step\n",
      "Epoch 191/300\n",
      "9/9 - 0s - loss: 0.7712 - accuracy: 0.8889 - val_loss: 0.7419 - val_accuracy: 0.8889 - 42ms/epoch - 5ms/step\n",
      "Epoch 192/300\n",
      "9/9 - 0s - loss: 0.7658 - accuracy: 0.8667 - val_loss: 0.7323 - val_accuracy: 0.8889 - 39ms/epoch - 4ms/step\n",
      "Epoch 193/300\n",
      "9/9 - 0s - loss: 0.7672 - accuracy: 0.9111 - val_loss: 0.7321 - val_accuracy: 1.0000 - 41ms/epoch - 5ms/step\n",
      "Epoch 194/300\n",
      "9/9 - 0s - loss: 0.7499 - accuracy: 0.9111 - val_loss: 0.7314 - val_accuracy: 0.8889 - 39ms/epoch - 4ms/step\n",
      "Epoch 195/300\n",
      "9/9 - 0s - loss: 0.7465 - accuracy: 0.9333 - val_loss: 0.7305 - val_accuracy: 0.8889 - 40ms/epoch - 4ms/step\n",
      "Epoch 196/300\n",
      "9/9 - 0s - loss: 0.7640 - accuracy: 0.8444 - val_loss: 0.7164 - val_accuracy: 1.0000 - 42ms/epoch - 5ms/step\n",
      "Epoch 197/300\n",
      "9/9 - 0s - loss: 0.7440 - accuracy: 0.8889 - val_loss: 0.7207 - val_accuracy: 0.7778 - 38ms/epoch - 4ms/step\n",
      "Epoch 198/300\n",
      "9/9 - 0s - loss: 0.7373 - accuracy: 0.8333 - val_loss: 0.7104 - val_accuracy: 0.8889 - 40ms/epoch - 4ms/step\n",
      "Epoch 199/300\n",
      "9/9 - 0s - loss: 0.7452 - accuracy: 0.8778 - val_loss: 0.7070 - val_accuracy: 1.0000 - 40ms/epoch - 4ms/step\n",
      "Epoch 200/300\n",
      "9/9 - 0s - loss: 0.7224 - accuracy: 0.9333 - val_loss: 0.7041 - val_accuracy: 1.0000 - 42ms/epoch - 5ms/step\n",
      "Epoch 201/300\n",
      "9/9 - 0s - loss: 0.7401 - accuracy: 0.8667 - val_loss: 0.7062 - val_accuracy: 0.8889 - 48ms/epoch - 5ms/step\n",
      "Epoch 202/300\n",
      "9/9 - 0s - loss: 0.7249 - accuracy: 0.8556 - val_loss: 0.6984 - val_accuracy: 0.8889 - 39ms/epoch - 4ms/step\n"
     ]
    },
    {
     "name": "stdout",
     "output_type": "stream",
     "text": [
      "Epoch 203/300\n",
      "9/9 - 0s - loss: 0.7202 - accuracy: 0.8778 - val_loss: 0.6947 - val_accuracy: 1.0000 - 38ms/epoch - 4ms/step\n",
      "Epoch 204/300\n",
      "9/9 - 0s - loss: 0.7271 - accuracy: 0.9111 - val_loss: 0.6867 - val_accuracy: 1.0000 - 41ms/epoch - 5ms/step\n",
      "Epoch 205/300\n",
      "9/9 - 0s - loss: 0.7173 - accuracy: 0.8889 - val_loss: 0.6908 - val_accuracy: 0.8889 - 38ms/epoch - 4ms/step\n",
      "Epoch 206/300\n",
      "9/9 - 0s - loss: 0.7079 - accuracy: 0.9111 - val_loss: 0.6871 - val_accuracy: 1.0000 - 41ms/epoch - 5ms/step\n",
      "Epoch 207/300\n",
      "9/9 - 0s - loss: 0.7058 - accuracy: 0.9444 - val_loss: 0.6817 - val_accuracy: 0.8889 - 38ms/epoch - 4ms/step\n",
      "Epoch 208/300\n",
      "9/9 - 0s - loss: 0.7046 - accuracy: 0.8667 - val_loss: 0.6758 - val_accuracy: 0.8889 - 40ms/epoch - 4ms/step\n",
      "Epoch 209/300\n",
      "9/9 - 0s - loss: 0.7017 - accuracy: 0.8111 - val_loss: 0.6722 - val_accuracy: 1.0000 - 40ms/epoch - 4ms/step\n",
      "Epoch 210/300\n",
      "9/9 - 0s - loss: 0.7153 - accuracy: 0.8889 - val_loss: 0.6658 - val_accuracy: 1.0000 - 40ms/epoch - 4ms/step\n",
      "Epoch 211/300\n",
      "9/9 - 0s - loss: 0.6859 - accuracy: 0.8556 - val_loss: 0.6786 - val_accuracy: 0.8889 - 42ms/epoch - 5ms/step\n",
      "Epoch 212/300\n",
      "9/9 - 0s - loss: 0.6882 - accuracy: 0.9222 - val_loss: 0.6636 - val_accuracy: 0.8889 - 39ms/epoch - 4ms/step\n",
      "Epoch 213/300\n",
      "9/9 - 0s - loss: 0.6896 - accuracy: 0.8889 - val_loss: 0.6545 - val_accuracy: 1.0000 - 44ms/epoch - 5ms/step\n",
      "Epoch 214/300\n",
      "9/9 - 0s - loss: 0.6749 - accuracy: 0.9556 - val_loss: 0.6583 - val_accuracy: 1.0000 - 38ms/epoch - 4ms/step\n",
      "Epoch 215/300\n",
      "9/9 - 0s - loss: 0.6870 - accuracy: 0.9000 - val_loss: 0.6541 - val_accuracy: 1.0000 - 40ms/epoch - 4ms/step\n",
      "Epoch 216/300\n",
      "9/9 - 0s - loss: 0.6843 - accuracy: 0.9222 - val_loss: 0.6443 - val_accuracy: 0.8889 - 41ms/epoch - 5ms/step\n",
      "Epoch 217/300\n",
      "9/9 - 0s - loss: 0.6762 - accuracy: 0.9333 - val_loss: 0.6426 - val_accuracy: 1.0000 - 42ms/epoch - 5ms/step\n",
      "Epoch 218/300\n",
      "9/9 - 0s - loss: 0.6606 - accuracy: 0.9222 - val_loss: 0.6487 - val_accuracy: 0.8889 - 39ms/epoch - 4ms/step\n",
      "Epoch 219/300\n",
      "9/9 - 0s - loss: 0.6795 - accuracy: 0.8889 - val_loss: 0.6399 - val_accuracy: 0.8889 - 48ms/epoch - 5ms/step\n",
      "Epoch 220/300\n",
      "9/9 - 0s - loss: 0.6571 - accuracy: 0.8889 - val_loss: 0.6435 - val_accuracy: 0.8889 - 38ms/epoch - 4ms/step\n",
      "Epoch 221/300\n",
      "9/9 - 0s - loss: 0.6643 - accuracy: 0.8778 - val_loss: 0.6296 - val_accuracy: 1.0000 - 41ms/epoch - 5ms/step\n",
      "Epoch 222/300\n",
      "9/9 - 0s - loss: 0.6417 - accuracy: 0.9333 - val_loss: 0.6343 - val_accuracy: 0.8889 - 38ms/epoch - 4ms/step\n",
      "Epoch 223/300\n",
      "9/9 - 0s - loss: 0.6527 - accuracy: 0.8444 - val_loss: 0.6295 - val_accuracy: 0.8889 - 40ms/epoch - 4ms/step\n",
      "Epoch 224/300\n",
      "9/9 - 0s - loss: 0.6632 - accuracy: 0.8556 - val_loss: 0.6179 - val_accuracy: 1.0000 - 40ms/epoch - 4ms/step\n",
      "Epoch 225/300\n",
      "9/9 - 0s - loss: 0.6397 - accuracy: 0.9333 - val_loss: 0.6196 - val_accuracy: 1.0000 - 43ms/epoch - 5ms/step\n",
      "Epoch 226/300\n",
      "9/9 - 0s - loss: 0.6463 - accuracy: 0.9556 - val_loss: 0.6131 - val_accuracy: 1.0000 - 41ms/epoch - 5ms/step\n",
      "Epoch 227/300\n",
      "9/9 - 0s - loss: 0.6366 - accuracy: 0.8667 - val_loss: 0.6188 - val_accuracy: 1.0000 - 39ms/epoch - 4ms/step\n",
      "Epoch 228/300\n",
      "9/9 - 0s - loss: 0.6279 - accuracy: 0.9333 - val_loss: 0.6089 - val_accuracy: 1.0000 - 40ms/epoch - 4ms/step\n",
      "Epoch 229/300\n",
      "9/9 - 0s - loss: 0.6316 - accuracy: 0.9889 - val_loss: 0.6054 - val_accuracy: 0.8889 - 39ms/epoch - 4ms/step\n",
      "Epoch 230/300\n",
      "9/9 - 0s - loss: 0.6353 - accuracy: 0.8889 - val_loss: 0.6026 - val_accuracy: 0.8889 - 42ms/epoch - 5ms/step\n",
      "Epoch 231/300\n",
      "9/9 - 0s - loss: 0.6265 - accuracy: 0.8889 - val_loss: 0.5977 - val_accuracy: 1.0000 - 41ms/epoch - 5ms/step\n",
      "Epoch 232/300\n",
      "9/9 - 0s - loss: 0.6515 - accuracy: 0.8444 - val_loss: 0.5988 - val_accuracy: 1.0000 - 42ms/epoch - 5ms/step\n",
      "Epoch 233/300\n",
      "9/9 - 0s - loss: 0.6177 - accuracy: 0.9111 - val_loss: 0.5909 - val_accuracy: 0.8889 - 41ms/epoch - 5ms/step\n",
      "Epoch 234/300\n",
      "9/9 - 0s - loss: 0.6156 - accuracy: 0.9000 - val_loss: 0.5971 - val_accuracy: 1.0000 - 39ms/epoch - 4ms/step\n",
      "Epoch 235/300\n",
      "9/9 - 0s - loss: 0.6238 - accuracy: 0.9556 - val_loss: 0.5906 - val_accuracy: 0.8889 - 39ms/epoch - 4ms/step\n",
      "Epoch 236/300\n",
      "9/9 - 0s - loss: 0.6190 - accuracy: 0.8778 - val_loss: 0.5827 - val_accuracy: 0.8889 - 47ms/epoch - 5ms/step\n",
      "Epoch 237/300\n",
      "9/9 - 0s - loss: 0.5973 - accuracy: 0.9444 - val_loss: 0.5775 - val_accuracy: 1.0000 - 40ms/epoch - 4ms/step\n",
      "Epoch 238/300\n",
      "9/9 - 0s - loss: 0.6021 - accuracy: 0.9556 - val_loss: 0.5917 - val_accuracy: 0.8889 - 41ms/epoch - 5ms/step\n",
      "Epoch 239/300\n",
      "9/9 - 0s - loss: 0.6049 - accuracy: 0.9222 - val_loss: 0.5893 - val_accuracy: 0.7778 - 42ms/epoch - 5ms/step\n",
      "Epoch 240/300\n",
      "9/9 - 0s - loss: 0.6016 - accuracy: 0.9556 - val_loss: 0.5854 - val_accuracy: 0.8889 - 40ms/epoch - 4ms/step\n",
      "Epoch 241/300\n",
      "9/9 - 0s - loss: 0.6060 - accuracy: 0.9222 - val_loss: 0.5656 - val_accuracy: 1.0000 - 41ms/epoch - 5ms/step\n",
      "Epoch 242/300\n",
      "9/9 - 0s - loss: 0.5942 - accuracy: 0.9333 - val_loss: 0.5671 - val_accuracy: 1.0000 - 39ms/epoch - 4ms/step\n",
      "Epoch 243/300\n",
      "9/9 - 0s - loss: 0.6021 - accuracy: 0.9222 - val_loss: 0.5713 - val_accuracy: 0.8889 - 41ms/epoch - 5ms/step\n",
      "Epoch 244/300\n",
      "9/9 - 0s - loss: 0.5858 - accuracy: 0.9222 - val_loss: 0.5565 - val_accuracy: 1.0000 - 41ms/epoch - 5ms/step\n",
      "Epoch 245/300\n",
      "9/9 - 0s - loss: 0.5820 - accuracy: 0.9889 - val_loss: 0.5570 - val_accuracy: 0.8889 - 41ms/epoch - 5ms/step\n",
      "Epoch 246/300\n",
      "9/9 - 0s - loss: 0.6011 - accuracy: 0.9333 - val_loss: 0.5590 - val_accuracy: 0.8889 - 42ms/epoch - 5ms/step\n",
      "Epoch 247/300\n",
      "9/9 - 0s - loss: 0.5685 - accuracy: 0.9778 - val_loss: 0.5537 - val_accuracy: 0.8889 - 38ms/epoch - 4ms/step\n",
      "Epoch 248/300\n",
      "9/9 - 0s - loss: 0.5748 - accuracy: 0.9333 - val_loss: 0.5417 - val_accuracy: 1.0000 - 41ms/epoch - 5ms/step\n",
      "Epoch 249/300\n",
      "9/9 - 0s - loss: 0.5803 - accuracy: 0.9667 - val_loss: 0.5407 - val_accuracy: 1.0000 - 40ms/epoch - 4ms/step\n",
      "Epoch 250/300\n",
      "9/9 - 0s - loss: 0.5664 - accuracy: 0.9444 - val_loss: 0.5406 - val_accuracy: 0.8889 - 41ms/epoch - 5ms/step\n",
      "Epoch 251/300\n",
      "9/9 - 0s - loss: 0.5616 - accuracy: 0.9667 - val_loss: 0.5337 - val_accuracy: 1.0000 - 41ms/epoch - 5ms/step\n",
      "Epoch 252/300\n",
      "9/9 - 0s - loss: 0.5623 - accuracy: 0.9111 - val_loss: 0.5418 - val_accuracy: 1.0000 - 48ms/epoch - 5ms/step\n",
      "Epoch 253/300\n",
      "9/9 - 0s - loss: 0.5708 - accuracy: 0.9333 - val_loss: 0.5281 - val_accuracy: 1.0000 - 41ms/epoch - 5ms/step\n",
      "Epoch 254/300\n",
      "9/9 - 0s - loss: 0.5601 - accuracy: 0.9667 - val_loss: 0.5364 - val_accuracy: 1.0000 - 40ms/epoch - 4ms/step\n",
      "Epoch 255/300\n",
      "9/9 - 0s - loss: 0.5584 - accuracy: 0.9667 - val_loss: 0.5231 - val_accuracy: 1.0000 - 40ms/epoch - 4ms/step\n",
      "Epoch 256/300\n",
      "9/9 - 0s - loss: 0.5649 - accuracy: 0.9222 - val_loss: 0.5573 - val_accuracy: 0.8889 - 40ms/epoch - 4ms/step\n",
      "Epoch 257/300\n",
      "9/9 - 0s - loss: 0.5395 - accuracy: 0.9444 - val_loss: 0.5186 - val_accuracy: 1.0000 - 53ms/epoch - 6ms/step\n",
      "Epoch 258/300\n",
      "9/9 - 0s - loss: 0.5475 - accuracy: 0.9556 - val_loss: 0.5189 - val_accuracy: 0.8889 - 50ms/epoch - 6ms/step\n",
      "Epoch 259/300\n",
      "9/9 - 0s - loss: 0.5454 - accuracy: 0.9556 - val_loss: 0.5177 - val_accuracy: 0.8889 - 49ms/epoch - 5ms/step\n",
      "Epoch 260/300\n",
      "9/9 - 0s - loss: 0.5489 - accuracy: 0.9222 - val_loss: 0.5186 - val_accuracy: 1.0000 - 53ms/epoch - 6ms/step\n",
      "Epoch 261/300\n",
      "9/9 - 0s - loss: 0.5403 - accuracy: 0.9556 - val_loss: 0.5055 - val_accuracy: 1.0000 - 48ms/epoch - 5ms/step\n",
      "Epoch 262/300\n",
      "9/9 - 0s - loss: 0.5274 - accuracy: 0.9444 - val_loss: 0.5745 - val_accuracy: 0.7778 - 44ms/epoch - 5ms/step\n",
      "Epoch 263/300\n",
      "9/9 - 0s - loss: 0.5581 - accuracy: 0.9000 - val_loss: 0.5030 - val_accuracy: 0.8889 - 44ms/epoch - 5ms/step\n",
      "Epoch 264/300\n",
      "9/9 - 0s - loss: 0.5408 - accuracy: 0.9000 - val_loss: 0.5007 - val_accuracy: 1.0000 - 47ms/epoch - 5ms/step\n",
      "Epoch 265/300\n",
      "9/9 - 0s - loss: 0.5164 - accuracy: 1.0000 - val_loss: 0.5095 - val_accuracy: 0.8889 - 50ms/epoch - 6ms/step\n",
      "Epoch 266/300\n",
      "9/9 - 0s - loss: 0.5174 - accuracy: 0.9000 - val_loss: 0.4988 - val_accuracy: 1.0000 - 48ms/epoch - 5ms/step\n",
      "Epoch 267/300\n",
      "9/9 - 0s - loss: 0.5230 - accuracy: 0.9556 - val_loss: 0.4908 - val_accuracy: 1.0000 - 47ms/epoch - 5ms/step\n",
      "Epoch 268/300\n",
      "9/9 - 0s - loss: 0.5040 - accuracy: 1.0000 - val_loss: 0.4856 - val_accuracy: 1.0000 - 47ms/epoch - 5ms/step\n",
      "Epoch 269/300\n",
      "9/9 - 0s - loss: 0.5323 - accuracy: 0.9778 - val_loss: 0.4964 - val_accuracy: 0.8889 - 40ms/epoch - 4ms/step\n"
     ]
    },
    {
     "name": "stdout",
     "output_type": "stream",
     "text": [
      "Epoch 270/300\n",
      "9/9 - 0s - loss: 0.5158 - accuracy: 0.9556 - val_loss: 0.5153 - val_accuracy: 0.7778 - 41ms/epoch - 5ms/step\n",
      "Epoch 271/300\n",
      "9/9 - 0s - loss: 0.5023 - accuracy: 0.9222 - val_loss: 0.4783 - val_accuracy: 1.0000 - 42ms/epoch - 5ms/step\n",
      "Epoch 272/300\n",
      "9/9 - 0s - loss: 0.4898 - accuracy: 0.9778 - val_loss: 0.4858 - val_accuracy: 0.8889 - 38ms/epoch - 4ms/step\n",
      "Epoch 273/300\n",
      "9/9 - 0s - loss: 0.5276 - accuracy: 0.9778 - val_loss: 0.4780 - val_accuracy: 1.0000 - 41ms/epoch - 5ms/step\n",
      "Epoch 274/300\n",
      "9/9 - 0s - loss: 0.4995 - accuracy: 1.0000 - val_loss: 0.4716 - val_accuracy: 1.0000 - 38ms/epoch - 4ms/step\n",
      "Epoch 275/300\n",
      "9/9 - 0s - loss: 0.5240 - accuracy: 0.9667 - val_loss: 0.4671 - val_accuracy: 1.0000 - 42ms/epoch - 5ms/step\n",
      "Epoch 276/300\n",
      "9/9 - 0s - loss: 0.4836 - accuracy: 0.9778 - val_loss: 0.4712 - val_accuracy: 1.0000 - 39ms/epoch - 4ms/step\n",
      "Epoch 277/300\n",
      "9/9 - 0s - loss: 0.4935 - accuracy: 0.9778 - val_loss: 0.4649 - val_accuracy: 1.0000 - 41ms/epoch - 5ms/step\n",
      "Epoch 278/300\n",
      "9/9 - 0s - loss: 0.4789 - accuracy: 0.9778 - val_loss: 0.4729 - val_accuracy: 0.8889 - 41ms/epoch - 5ms/step\n",
      "Epoch 279/300\n",
      "9/9 - 0s - loss: 0.4809 - accuracy: 0.9667 - val_loss: 0.4821 - val_accuracy: 0.8889 - 40ms/epoch - 4ms/step\n",
      "Epoch 280/300\n",
      "9/9 - 0s - loss: 0.4590 - accuracy: 0.9444 - val_loss: 0.4837 - val_accuracy: 0.8889 - 41ms/epoch - 5ms/step\n",
      "Epoch 281/300\n",
      "9/9 - 0s - loss: 0.4760 - accuracy: 0.9333 - val_loss: 0.4518 - val_accuracy: 1.0000 - 39ms/epoch - 4ms/step\n",
      "Epoch 282/300\n",
      "9/9 - 0s - loss: 0.4610 - accuracy: 1.0000 - val_loss: 0.4514 - val_accuracy: 1.0000 - 42ms/epoch - 5ms/step\n",
      "Epoch 283/300\n",
      "9/9 - 0s - loss: 0.4870 - accuracy: 0.9556 - val_loss: 0.4556 - val_accuracy: 1.0000 - 41ms/epoch - 5ms/step\n",
      "Epoch 284/300\n",
      "9/9 - 0s - loss: 0.4691 - accuracy: 0.9889 - val_loss: 0.4559 - val_accuracy: 0.8889 - 41ms/epoch - 5ms/step\n",
      "Epoch 285/300\n",
      "9/9 - 0s - loss: 0.4821 - accuracy: 0.9444 - val_loss: 0.4413 - val_accuracy: 1.0000 - 41ms/epoch - 5ms/step\n",
      "Epoch 286/300\n",
      "9/9 - 0s - loss: 0.4632 - accuracy: 0.9222 - val_loss: 0.4416 - val_accuracy: 1.0000 - 39ms/epoch - 4ms/step\n",
      "Epoch 287/300\n",
      "9/9 - 0s - loss: 0.4548 - accuracy: 0.9556 - val_loss: 0.4373 - val_accuracy: 1.0000 - 41ms/epoch - 5ms/step\n",
      "Epoch 288/300\n",
      "9/9 - 0s - loss: 0.4768 - accuracy: 0.9222 - val_loss: 0.4300 - val_accuracy: 1.0000 - 40ms/epoch - 4ms/step\n",
      "Epoch 289/300\n",
      "9/9 - 0s - loss: 0.4494 - accuracy: 0.9667 - val_loss: 0.4373 - val_accuracy: 1.0000 - 42ms/epoch - 5ms/step\n",
      "Epoch 290/300\n",
      "9/9 - 0s - loss: 0.4533 - accuracy: 0.9333 - val_loss: 0.4235 - val_accuracy: 1.0000 - 41ms/epoch - 5ms/step\n",
      "Epoch 291/300\n",
      "9/9 - 0s - loss: 0.4615 - accuracy: 0.9667 - val_loss: 0.4264 - val_accuracy: 1.0000 - 39ms/epoch - 4ms/step\n",
      "Epoch 292/300\n",
      "9/9 - 0s - loss: 0.4440 - accuracy: 1.0000 - val_loss: 0.4221 - val_accuracy: 1.0000 - 40ms/epoch - 4ms/step\n",
      "Epoch 293/300\n",
      "9/9 - 0s - loss: 0.4597 - accuracy: 0.9556 - val_loss: 0.4501 - val_accuracy: 0.8889 - 41ms/epoch - 5ms/step\n",
      "Epoch 294/300\n",
      "9/9 - 0s - loss: 0.4334 - accuracy: 0.9556 - val_loss: 0.4302 - val_accuracy: 1.0000 - 39ms/epoch - 4ms/step\n",
      "Epoch 295/300\n",
      "9/9 - 0s - loss: 0.4422 - accuracy: 0.9889 - val_loss: 0.4678 - val_accuracy: 0.8889 - 40ms/epoch - 4ms/step\n",
      "Epoch 296/300\n",
      "9/9 - 0s - loss: 0.4533 - accuracy: 0.9444 - val_loss: 0.4174 - val_accuracy: 1.0000 - 49ms/epoch - 5ms/step\n",
      "Epoch 297/300\n",
      "9/9 - 0s - loss: 0.4390 - accuracy: 0.9889 - val_loss: 0.4142 - val_accuracy: 1.0000 - 40ms/epoch - 4ms/step\n",
      "Epoch 298/300\n",
      "9/9 - 0s - loss: 0.4262 - accuracy: 0.9667 - val_loss: 0.4237 - val_accuracy: 1.0000 - 41ms/epoch - 5ms/step\n",
      "Epoch 299/300\n",
      "9/9 - 0s - loss: 0.4306 - accuracy: 0.9778 - val_loss: 0.4046 - val_accuracy: 1.0000 - 40ms/epoch - 4ms/step\n",
      "Epoch 300/300\n",
      "9/9 - 0s - loss: 0.4141 - accuracy: 1.0000 - val_loss: 0.4052 - val_accuracy: 1.0000 - 41ms/epoch - 5ms/step\n"
     ]
    }
   ],
   "source": [
    "hist = model.fit(x_train, Y_train,\n",
    "                epochs=300,\n",
    "                batch_size=10,\n",
    "                verbose=2, # 학습결과 출력 옵션 0:출력없음, 1:기본값, 2:에포크별 로그 상세출력\n",
    "                validation_data=(x_val, Y_val)\n",
    "                )"
   ]
  },
  {
   "cell_type": "markdown",
   "id": "07e2d0d5",
   "metadata": {},
   "source": [
    "# 6. 모델 평가하기(모델 학습과정 살펴보고 evalute)"
   ]
  },
  {
   "cell_type": "code",
   "execution_count": 11,
   "id": "640923f5",
   "metadata": {},
   "outputs": [
    {
     "data": {
      "text/plain": [
       "dict_keys(['loss', 'accuracy', 'val_loss', 'val_accuracy'])"
      ]
     },
     "execution_count": 11,
     "metadata": {},
     "output_type": "execute_result"
    }
   ],
   "source": [
    "hist.history.keys()"
   ]
  },
  {
   "cell_type": "code",
   "execution_count": 12,
   "id": "26b1edc2",
   "metadata": {},
   "outputs": [
    {
     "data": {
      "image/png": "[encoded data removed]",
      "text/plain": [
       "<Figure size 1000x800 with 2 Axes>"
      ]
     },
     "metadata": {},
     "output_type": "display_data"
    }
   ],
   "source": [
    "# 모델 학습과정 시각화\n",
    "import matplotlib.pyplot as plt\n",
    "fig, loss_ax = plt.subplots(figsize=(10, 8))\n",
    "loss_ax.plot(hist.history['loss'], 'y', label='train loss')\n",
    "loss_ax.plot(hist.history['val_loss'], 'r', label='val loss')\n",
    "loss_ax.set_xlabel('epoch')\n",
    "loss_ax.set_ylabel('loss')\n",
    "\n",
    "acc_ax = loss_ax.twinx() # loss_ax와 x축을 공유하는 acc_ax생성\n",
    "acc_ax.plot(hist.history['accuracy'], 'g', label='train accuracy')\n",
    "acc_ax.plot(hist.history['val_accuracy'], 'b', label = 'val accuracy')\n",
    "acc_ax.set_ylabel('accuracy')\n",
    "loss_ax.legend(loc='upper left')\n",
    "acc_ax.legend(loc='center right')\n",
    "plt.show()"
   ]
  },
  {
   "cell_type": "code",
   "execution_count": 13,
   "id": "188ede2d",
   "metadata": {},
   "outputs": [
    {
     "name": "stdout",
     "output_type": "stream",
     "text": [
      "9/9 [==============================] - 0s 2ms/step - loss: 0.4052 - accuracy: 1.0000\n"
     ]
    }
   ],
   "source": [
    "# 모델 평가\n",
    "score = model.evaluate(x_test, Y_test, batch_size=1)"
   ]
  },
  {
   "cell_type": "code",
   "execution_count": 14,
   "id": "d17b5e24",
   "metadata": {},
   "outputs": [
    {
     "data": {
      "text/plain": [
       "[0.4052446484565735, 1.0]"
      ]
     },
     "execution_count": 14,
     "metadata": {},
     "output_type": "execute_result"
    }
   ],
   "source": [
    "score # loss, accuracy"
   ]
  },
  {
   "cell_type": "code",
   "execution_count": 15,
   "id": "171164f1",
   "metadata": {},
   "outputs": [
    {
     "name": "stdout",
     "output_type": "stream",
     "text": [
      "평가된 loss :  0.4052446484565735\n",
      "평가된 accuracy :  100.0 %\n"
     ]
    }
   ],
   "source": [
    "print('평가된 loss : ', score[0])\n",
    "print('평가된 accuracy : ', score[1]*100, '%')"
   ]
  },
  {
   "cell_type": "markdown",
   "id": "ace21679",
   "metadata": {},
   "source": [
    "# 7. 모델 사용"
   ]
  },
  {
   "cell_type": "code",
   "execution_count": 16,
   "id": "892b7b31",
   "metadata": {},
   "outputs": [
    {
     "name": "stdout",
     "output_type": "stream",
     "text": [
      "1/1 [==============================] - 0s 102ms/step\n"
     ]
    },
    {
     "data": {
      "text/plain": [
       "array([[2.99873760e-13, 1.58268499e-13, 8.77498090e-02, 4.98573275e-12,\n",
       "        8.05538952e-01, 3.78868407e-17, 1.05652034e-01, 1.38260231e-14,\n",
       "        1.05652935e-03, 2.99458461e-15, 2.74699960e-06, 1.71627120e-14,\n",
       "        1.33571862e-10, 3.34829346e-14, 9.84484236e-14, 8.88854268e-11,\n",
       "        8.41533618e-20, 2.62054029e-12, 1.07107497e-26]], dtype=float32)"
      ]
     },
     "execution_count": 16,
     "metadata": {},
     "output_type": "execute_result"
    }
   ],
   "source": [
    "H = model.predict(np.array([[2]]))\n",
    "H"
   ]
  },
  {
   "cell_type": "code",
   "execution_count": 17,
   "id": "86882857",
   "metadata": {},
   "outputs": [
    {
     "name": "stdout",
     "output_type": "stream",
     "text": [
      "1/1 [==============================] - 0s 20ms/step\n"
     ]
    },
    {
     "data": {
      "text/plain": [
       "4"
      ]
     },
     "execution_count": 17,
     "metadata": {},
     "output_type": "execute_result"
    }
   ],
   "source": [
    "# 분류분석의 예측은 predict() 함수 후 argmax()\n",
    "model.predict(np.array([[2]])).argmax()"
   ]
  },
  {
   "cell_type": "code",
   "execution_count": 18,
   "id": "0f837686",
   "metadata": {},
   "outputs": [
    {
     "data": {
      "text/plain": [
       "80.55389523506165"
      ]
     },
     "execution_count": 18,
     "metadata": {},
     "output_type": "execute_result"
    }
   ],
   "source": [
    "# 4를 몇% 확률로 예측했는지 파악\n",
    "H[0, H.argmax()]*100"
   ]
  },
  {
   "cell_type": "markdown",
   "id": "bb0cdf97",
   "metadata": {},
   "source": [
    "# 7. 모델 저장하기"
   ]
  },
  {
   "cell_type": "code",
   "execution_count": 19,
   "id": "667d1b4c",
   "metadata": {},
   "outputs": [],
   "source": [
    "# model.save('model/02_deep.h5')\n",
    "from tensorflow.keras.models import save_model\n",
    "save_model(model, 'model/02_deep.h5')"
   ]
  },
  {
   "cell_type": "markdown",
   "id": "9582515b",
   "metadata": {},
   "source": [
    "## 저장된 모델 사용하기"
   ]
  },
  {
   "cell_type": "code",
   "execution_count": 20,
   "id": "f424cc38",
   "metadata": {},
   "outputs": [],
   "source": [
    "from tensorflow.keras.models import load_model\n",
    "model2 = load_model('model/02_deep.h5')"
   ]
  },
  {
   "cell_type": "code",
   "execution_count": 21,
   "id": "7499d1a6",
   "metadata": {
    "collapsed": true
   },
   "outputs": [
    {
     "name": "stdout",
     "output_type": "stream",
     "text": [
      "Model: \"sequential\"\n",
      "_________________________________________________________________\n",
      " Layer (type)                Output Shape              Param #   \n",
      "=================================================================\n",
      " dense (Dense)               (None, 38)                76        \n",
      "                                                                 \n",
      " dense_1 (Dense)             (None, 64)                2496      \n",
      "                                                                 \n",
      " dense_2 (Dense)             (None, 32)                2080      \n",
      "                                                                 \n",
      " dense_3 (Dense)             (None, 19)                627       \n",
      "                                                                 \n",
      "=================================================================\n",
      "Total params: 5,279\n",
      "Trainable params: 5,279\n",
      "Non-trainable params: 0\n",
      "_________________________________________________________________\n"
     ]
    }
   ],
   "source": [
    "model2.summary()"
   ]
  },
  {
   "cell_type": "code",
   "execution_count": 27,
   "id": "799abcd5",
   "metadata": {},
   "outputs": [
    {
     "name": "stdout",
     "output_type": "stream",
     "text": [
      "1/1 [==============================] - 0s 57ms/step\n"
     ]
    },
    {
     "data": {
      "text/plain": [
       "array([4, 6], dtype=int64)"
      ]
     },
     "execution_count": 27,
     "metadata": {},
     "output_type": "execute_result"
    }
   ],
   "source": [
    "data = np.array([[2],\n",
    "                [3]])\n",
    "predictions = model2.predict(data)\n",
    "predictions.argmax(axis=-1)"
   ]
  },
  {
   "cell_type": "code",
   "execution_count": 29,
   "id": "715e102e",
   "metadata": {},
   "outputs": [],
   "source": [
    "def predict_classes(model, data) :\n",
    "    predictions = model.predict(data)\n",
    "    return predictions.argmax(axis=-1)"
   ]
  },
  {
   "cell_type": "code",
   "execution_count": 31,
   "id": "405d5c19",
   "metadata": {},
   "outputs": [
    {
     "name": "stdout",
     "output_type": "stream",
     "text": [
      "어떤 데이터를 예측할까요?3\n",
      "1/1 [==============================] - 0s 19ms/step\n",
      "예측된 분류는 [6]\n"
     ]
    }
   ],
   "source": [
    "import numpy as np\n",
    "input_data = int(input('어떤 데이터를 예측할까요?'))\n",
    "data = np.array([[input_data]])\n",
    "print('예측된 분류는',predict_classes(model2, data))"
   ]
  },
  {
   "cell_type": "code",
   "execution_count": 33,
   "id": "c87657b3",
   "metadata": {},
   "outputs": [],
   "source": [
    "import tensorflow as tf\n",
    "@tf.function(reduce_retracing=True) # tensorflow 이용 시 속도가 조금 더 빠름\n",
    "def predict_classes(model, data):\n",
    "    predictions = model(data, training=False)\n",
    "    return tf.argmax(predictions, axis=-1)"
   ]
  },
  {
   "cell_type": "code",
   "execution_count": 34,
   "id": "2f7e12b1",
   "metadata": {},
   "outputs": [
    {
     "name": "stdout",
     "output_type": "stream",
     "text": [
      "어떤 데이터를 예측할까요?3\n",
      "예측된 분류는 tf.Tensor([6], shape=(1,), dtype=int64)\n"
     ]
    }
   ],
   "source": [
    "input_data = int(input('어떤 데이터를 예측할까요?'))\n",
    "data = np.array([[input_data]])\n",
    "print('예측된 분류는',predict_classes(model2, data))"
   ]
  },
  {
   "cell_type": "code",
   "execution_count": null,
   "id": "880b0816",
   "metadata": {},
   "outputs": [],
   "source": []
  }
 ],
 "metadata": {
  "kernelspec": {
   "display_name": "ml-dl-nlp",
   "language": "python",
   "name": "ml-dl-nlp"
  },
  "language_info": {
   "codemirror_mode": {
    "name": "ipython",
    "version": 3
   },
   "file_extension": ".py",
   "mimetype": "text/x-python",
   "name": "python",
   "nbconvert_exporter": "python",
   "pygments_lexer": "ipython3",
   "version": "3.10.18"
  },
  "toc": {
   "base_numbering": 1,
   "nav_menu": {},
   "number_sections": false,
   "sideBar": true,
   "skip_h1_title": false,
   "title_cell": "Table of Contents",
   "title_sidebar": "Contents",
   "toc_cell": false,
   "toc_position": {
    "height": "calc(100% - 180px)",
    "left": "10px",
    "top": "150px",
    "width": "289.55px"
   },
   "toc_section_display": true,
   "toc_window_display": true
  }
 },
 "nbformat": 4,
 "nbformat_minor": 5
}
