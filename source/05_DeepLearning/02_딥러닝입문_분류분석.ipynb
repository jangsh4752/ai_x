{
 "cells": [
  {
   "cell_type": "code",
   "execution_count": 1,
   "id": "274ccc60",
   "metadata": {},
   "outputs": [
    {
     "data": {
      "text/html": [
       "\n",
       "<style>\n",
       "div.container{width:86% !important;}\n",
       "div.cell.code_cell.rendered{width:100%;}\n",
       "div.CodeMirror {font-family:Consolas; font-size:12pt;}\n",
       "div.output {font-size:15pt; font-weight:bold;}\n",
       "div.input {font-family:Consolas; font-size:12pt;}\n",
       "div.prompt {min-width:70px;}\n",
       "div#toc-wrapper{padding-top:120px;}\n",
       "div.text_cell_render ul li{font-size:12pt;padding:5px;}\n",
       "table.dataframe{font-size:15px;}\n",
       "</style>\n"
      ],
      "text/plain": [
       "<IPython.core.display.HTML object>"
      ]
     },
     "metadata": {},
     "output_type": "display_data"
    }
   ],
   "source": [
    "from IPython.display import display, HTML\n",
    "display(HTML(\"\"\"\n",
    "<style>\n",
    "div.container{width:86% !important;}\n",
    "div.cell.code_cell.rendered{width:100%;}\n",
    "div.CodeMirror {font-family:Consolas; font-size:12pt;}\n",
    "div.output {font-size:15pt; font-weight:bold;}\n",
    "div.input {font-family:Consolas; font-size:12pt;}\n",
    "div.prompt {min-width:70px;}\n",
    "div#toc-wrapper{padding-top:120px;}\n",
    "div.text_cell_render ul li{font-size:12pt;padding:5px;}\n",
    "table.dataframe{font-size:15px;}\n",
    "</style>\n",
    "\"\"\"))"
   ]
  },
  {
   "cell_type": "code",
   "execution_count": 2,
   "id": "29888e74",
   "metadata": {},
   "outputs": [],
   "source": [
    "from tensorflow.keras.utils import to_categorical # 분류분석 시 원핫인코딩\n",
    "from tensorflow.keras.models import Sequential # 모델 생성\n",
    "from tensorflow.keras.layers import Dense, Input\n",
    "import numpy as np"
   ]
  },
  {
   "cell_type": "markdown",
   "id": "075fae22",
   "metadata": {},
   "source": [
    "# 머신러닝/딥러닝 : 데이터의 법칙성을 추출\n",
    "- 다양한 분야에서 응용 : 글씨인식, 문장분류, 질병진단, ...\n",
    "※ML / DL의 종류\n",
    "- 지도학습(독립 = 입력변수와 종속=타겟=출력변수가 모두 주어졌을 경우)\n",
    "     회귀분석(타겟변수가 연속형) vs 분류분석(multi, binary)\n",
    "- 비지도학습(입력변수만)\n",
    "    군집화\n",
    "- 강화학습\n",
    "\n",
    "※ 지도학습에서의 ML, DL 프로그래밍 방식\n",
    "1. 데이터 셋 확보(input=입력변수, target=종속변수)\n",
    "    원본 데이터 및 시뮬레이션을 통해 데이터 생성\n",
    "2. 전처리\n",
    "    스케일 조정\n",
    "    훈련셋(학습셋), 검증셋, 시험셋(테스트셋)\n",
    "    학습 및 평가 가능한 포맷으로 변환\n",
    "3. 모델 구성\n",
    "    Sequential 객체 생성 뒤 필요한 층을 add()함수로 추가\n",
    "4. 모델 학습과정 설정\n",
    "    compile()함수 이용 - 손실함수, optimizer, metrics(평가지표)\n",
    "5. 모델 학습 (ft. 학습과정 지켜보기)\n",
    "    fit()함수 이용 - 훈련셋입력=독립변수, 훈련셋타겟=종속변수, 학습횟수, 검증셋"
   ]
  },
  {
   "cell_type": "markdown",
   "id": "4998bbac",
   "metadata": {},
   "source": [
    "# 1. 데이터 셋 생성"
   ]
  },
  {
   "cell_type": "markdown",
   "id": "4e1650a3",
   "metadata": {},
   "source": [
    "# 2. 데이터 전처리"
   ]
  },
  {
   "cell_type": "code",
   "execution_count": 3,
   "id": "35022f80",
   "metadata": {},
   "outputs": [
    {
     "data": {
      "text/plain": [
       "((90,), (9,), (9,), (90,), (9,), (9,))"
      ]
     },
     "execution_count": 3,
     "metadata": {},
     "output_type": "execute_result"
    }
   ],
   "source": [
    "# 학습데이터 = 훈련데이터\n",
    "x_train = np.array([1,2,3,4,5,6,7,8,9]*10)\n",
    "y_train = np.array([2,4,6,8,10,12,14,16,18]*10)\n",
    "# 검증데이터\n",
    "x_val = np.array([1,2,3,4,5,6,7,8,9])\n",
    "y_val = np.array([2,4,6,8,10,12,14,16,18])\n",
    "# 테스트셋 = 시험데이터\n",
    "x_test = np.array([1,2,3,4,5,6,7,8,9])\n",
    "y_test = np.array([2,4,6,8,10,12,14,16,18])\n",
    "x_train.shape, x_val.shape, x_test.shape, y_train.shape, y_val.shape, y_test.shape"
   ]
  },
  {
   "cell_type": "code",
   "execution_count": 4,
   "id": "4949320e",
   "metadata": {},
   "outputs": [
    {
     "name": "stdout",
     "output_type": "stream",
     "text": [
      "원 데이터 :  ['a' 'b' 'c' 'd']\n",
      "라벨인코딩된 데이터 :  [0 1 2 3]\n",
      "원핫인코딩된 데이터 :  [[1. 0. 0. 0.]\n",
      " [0. 1. 0. 0.]\n",
      " [0. 0. 1. 0.]\n",
      " [0. 0. 0. 1.]]\n"
     ]
    }
   ],
   "source": [
    "# 인코딩 종류\n",
    "data = np.array(['a', 'b', 'c', 'd'])\n",
    "print('원 데이터 : ', data)\n",
    "from sklearn.preprocessing import LabelEncoder\n",
    "le = LabelEncoder()\n",
    "# le.fit(data)\n",
    "# labeled_data = le.transform(data)\n",
    "labeled_data = le.fit_transform(data)\n",
    "print('라벨인코딩된 데이터 : ', labeled_data)\n",
    "one_hot_encoded_data = to_categorical(labeled_data)\n",
    "print('원핫인코딩된 데이터 : ', one_hot_encoded_data)"
   ]
  },
  {
   "cell_type": "code",
   "execution_count": 5,
   "id": "dc2f801a",
   "metadata": {},
   "outputs": [
    {
     "name": "stdout",
     "output_type": "stream",
     "text": [
      "[1 2 2 4 2]\n",
      "to_categorical을 이용한 원핫인코딩 : \n",
      " [[0. 1. 0. 0. 0.]\n",
      " [0. 0. 1. 0. 0.]\n",
      " [0. 0. 1. 0. 0.]\n",
      " [0. 0. 0. 0. 1.]\n",
      " [0. 0. 1. 0. 0.]]\n"
     ]
    },
    {
     "data": {
      "text/plain": [
       "'get_dummies를 이용한 원핫인코딩 : '"
      ]
     },
     "metadata": {},
     "output_type": "display_data"
    },
    {
     "data": {
      "text/html": [
       "<div>\n",
       "<style scoped>\n",
       "    .dataframe tbody tr th:only-of-type {\n",
       "        vertical-align: middle;\n",
       "    }\n",
       "\n",
       "    .dataframe tbody tr th {\n",
       "        vertical-align: top;\n",
       "    }\n",
       "\n",
       "    .dataframe thead th {\n",
       "        text-align: right;\n",
       "    }\n",
       "</style>\n",
       "<table border=\"1\" class=\"dataframe\">\n",
       "  <thead>\n",
       "    <tr style=\"text-align: right;\">\n",
       "      <th></th>\n",
       "      <th>1</th>\n",
       "      <th>2</th>\n",
       "      <th>4</th>\n",
       "    </tr>\n",
       "  </thead>\n",
       "  <tbody>\n",
       "    <tr>\n",
       "      <th>0</th>\n",
       "      <td>1</td>\n",
       "      <td>0</td>\n",
       "      <td>0</td>\n",
       "    </tr>\n",
       "    <tr>\n",
       "      <th>1</th>\n",
       "      <td>0</td>\n",
       "      <td>1</td>\n",
       "      <td>0</td>\n",
       "    </tr>\n",
       "    <tr>\n",
       "      <th>2</th>\n",
       "      <td>0</td>\n",
       "      <td>1</td>\n",
       "      <td>0</td>\n",
       "    </tr>\n",
       "    <tr>\n",
       "      <th>3</th>\n",
       "      <td>0</td>\n",
       "      <td>0</td>\n",
       "      <td>1</td>\n",
       "    </tr>\n",
       "    <tr>\n",
       "      <th>4</th>\n",
       "      <td>0</td>\n",
       "      <td>1</td>\n",
       "      <td>0</td>\n",
       "    </tr>\n",
       "  </tbody>\n",
       "</table>\n",
       "</div>"
      ],
      "text/plain": [
       "   1  2  4\n",
       "0  1  0  0\n",
       "1  0  1  0\n",
       "2  0  1  0\n",
       "3  0  0  1\n",
       "4  0  1  0"
      ]
     },
     "metadata": {},
     "output_type": "display_data"
    },
    {
     "name": "stdout",
     "output_type": "stream",
     "text": [
      "<class 'pandas.core.frame.DataFrame'>\n"
     ]
    }
   ],
   "source": [
    "# 분류분석을 위해 target을 원핫인코딩(라벨링 전환)\n",
    "data = np.array([1,2,2,4,2])\n",
    "print(data)\n",
    "categorical_one_hot = to_categorical(data)\n",
    "print('to_categorical을 이용한 원핫인코딩 : \\n', categorical_one_hot)\n",
    "import pandas as pd\n",
    "get_dummies_one_hot = pd.get_dummies(data)\n",
    "display('get_dummies를 이용한 원핫인코딩 : ', get_dummies_one_hot)\n",
    "print(type(get_dummies_one_hot))"
   ]
  },
  {
   "cell_type": "code",
   "execution_count": 6,
   "id": "458fadce",
   "metadata": {},
   "outputs": [
    {
     "data": {
      "text/plain": [
       "array([[0., 0., 1., 0., 0., 0., 0., 0., 0., 0., 0., 0., 0., 0., 0., 0.,\n",
       "        0., 0., 0.],\n",
       "       [0., 0., 0., 0., 1., 0., 0., 0., 0., 0., 0., 0., 0., 0., 0., 0.,\n",
       "        0., 0., 0.],\n",
       "       [0., 0., 0., 0., 0., 0., 1., 0., 0., 0., 0., 0., 0., 0., 0., 0.,\n",
       "        0., 0., 0.],\n",
       "       [0., 0., 0., 0., 0., 0., 0., 0., 1., 0., 0., 0., 0., 0., 0., 0.,\n",
       "        0., 0., 0.],\n",
       "       [0., 0., 0., 0., 0., 0., 0., 0., 0., 0., 1., 0., 0., 0., 0., 0.,\n",
       "        0., 0., 0.],\n",
       "       [0., 0., 0., 0., 0., 0., 0., 0., 0., 0., 0., 0., 1., 0., 0., 0.,\n",
       "        0., 0., 0.],\n",
       "       [0., 0., 0., 0., 0., 0., 0., 0., 0., 0., 0., 0., 0., 0., 1., 0.,\n",
       "        0., 0., 0.],\n",
       "       [0., 0., 0., 0., 0., 0., 0., 0., 0., 0., 0., 0., 0., 0., 0., 0.,\n",
       "        1., 0., 0.],\n",
       "       [0., 0., 0., 0., 0., 0., 0., 0., 0., 0., 0., 0., 0., 0., 0., 0.,\n",
       "        0., 0., 1.]], dtype=float32)"
      ]
     },
     "execution_count": 6,
     "metadata": {},
     "output_type": "execute_result"
    }
   ],
   "source": [
    "# 분류분석을 위한 target변수 라벨링 전환(=원핫인코딩)\n",
    "Y_train = to_categorical(y_train, 19)\n",
    "Y_val   = to_categorical(y_val)\n",
    "Y_test  = to_categorical(y_test)\n",
    "Y_test"
   ]
  },
  {
   "cell_type": "code",
   "execution_count": 7,
   "id": "65bdc37d",
   "metadata": {},
   "outputs": [
    {
     "name": "stdout",
     "output_type": "stream",
     "text": [
      "훈련셋 구조 :  (90,) (90, 19)\n",
      "검증셋 구조 :  (9,) (9, 19)\n",
      "테스트셋 구조 :  (9,) (9, 19)\n"
     ]
    }
   ],
   "source": [
    "print('훈련셋 구조 : ', x_train.shape, Y_train.shape) # 독립변수 1개, 타겟변수 19개\n",
    "print('검증셋 구조 : ', x_val.shape, Y_val.shape)\n",
    "print('테스트셋 구조 : ', x_test.shape, Y_test.shape)"
   ]
  },
  {
   "cell_type": "markdown",
   "id": "c4e42f08",
   "metadata": {},
   "source": [
    "# 3. 모델 구성하기"
   ]
  },
  {
   "cell_type": "code",
   "execution_count": 8,
   "id": "5c2361dc",
   "metadata": {},
   "outputs": [
    {
     "name": "stdout",
     "output_type": "stream",
     "text": [
      "Model: \"sequential\"\n",
      "_________________________________________________________________\n",
      " Layer (type)                Output Shape              Param #   \n",
      "=================================================================\n",
      " dense (Dense)               (None, 38)                76        \n",
      "                                                                 \n",
      " dense_1 (Dense)             (None, 64)                2496      \n",
      "                                                                 \n",
      " dense_2 (Dense)             (None, 32)                2080      \n",
      "                                                                 \n",
      " dense_3 (Dense)             (None, 19)                627       \n",
      "                                                                 \n",
      "=================================================================\n",
      "Total params: 5,279\n",
      "Trainable params: 5,279\n",
      "Non-trainable params: 0\n",
      "_________________________________________________________________\n"
     ]
    }
   ],
   "source": [
    "model = Sequential()\n",
    "model.add(Input(shape=(1, ))) # 입력층\n",
    "model.add(Dense(units=38, activation='sigmoid')) # units 출력수, sigmoid 활성화 함수(relu, tanh)\n",
    "model.add(Dense(units=64, activation='elu'))\n",
    "model.add(Dense(units=32, activation='elu'))\n",
    "model.add(Dense(units=19, activation='softmax'))\n",
    "# softmax : 모든 출력결과의 합이 1. 분류분석 마지막 layer(출력층)에서 activation으로\n",
    "model.summary()"
   ]
  },
  {
   "cell_type": "markdown",
   "id": "0b81ae33",
   "metadata": {},
   "source": []
  },
  {
   "cell_type": "markdown",
   "id": "f7b7f783",
   "metadata": {},
   "source": [
    "# 4. 모델 학습과정 설정"
   ]
  },
  {
   "cell_type": "code",
   "execution_count": 9,
   "id": "d8123259",
   "metadata": {},
   "outputs": [],
   "source": [
    "model.compile(loss=\"categorical_crossentropy\", # 분류분석에서의 손실함수(원핫인코딩有)\n",
    "             optimizer=\"sgd\",\n",
    "             metrics=['accuracy']) # 평가지표 : accuracy"
   ]
  },
  {
   "cell_type": "markdown",
   "id": "26a0078b",
   "metadata": {},
   "source": [
    "# 5. 모델 학습"
   ]
  },
  {
   "cell_type": "code",
   "execution_count": 10,
   "id": "29682deb",
   "metadata": {},
   "outputs": [
    {
     "name": "stdout",
     "output_type": "stream",
     "text": [
      "Epoch 1/300\n",
      "9/9 - 1s - loss: 3.0062 - accuracy: 0.1000 - val_loss: 2.8817 - val_accuracy: 0.1111 - 557ms/epoch - 62ms/step\n",
      "Epoch 2/300\n",
      "9/9 - 0s - loss: 2.8243 - accuracy: 0.1111 - val_loss: 2.7456 - val_accuracy: 0.1111 - 62ms/epoch - 7ms/step\n",
      "Epoch 3/300\n",
      "9/9 - 0s - loss: 2.7109 - accuracy: 0.1111 - val_loss: 2.6505 - val_accuracy: 0.1111 - 40ms/epoch - 4ms/step\n",
      "Epoch 4/300\n",
      "9/9 - 0s - loss: 2.6280 - accuracy: 0.1111 - val_loss: 2.5794 - val_accuracy: 0.1111 - 39ms/epoch - 4ms/step\n",
      "Epoch 5/300\n",
      "9/9 - 0s - loss: 2.5616 - accuracy: 0.1111 - val_loss: 2.5227 - val_accuracy: 0.1111 - 43ms/epoch - 5ms/step\n",
      "Epoch 6/300\n",
      "9/9 - 0s - loss: 2.5122 - accuracy: 0.1111 - val_loss: 2.4760 - val_accuracy: 0.1111 - 44ms/epoch - 5ms/step\n",
      "Epoch 7/300\n",
      "9/9 - 0s - loss: 2.4694 - accuracy: 0.1111 - val_loss: 2.4367 - val_accuracy: 0.1111 - 45ms/epoch - 5ms/step\n",
      "Epoch 8/300\n",
      "9/9 - 0s - loss: 2.4289 - accuracy: 0.1111 - val_loss: 2.4023 - val_accuracy: 0.2222 - 42ms/epoch - 5ms/step\n",
      "Epoch 9/300\n",
      "9/9 - 0s - loss: 2.4006 - accuracy: 0.1556 - val_loss: 2.3722 - val_accuracy: 0.3333 - 46ms/epoch - 5ms/step\n",
      "Epoch 10/300\n",
      "9/9 - 0s - loss: 2.3726 - accuracy: 0.2556 - val_loss: 2.3455 - val_accuracy: 0.2222 - 46ms/epoch - 5ms/step\n",
      "Epoch 11/300\n",
      "9/9 - 0s - loss: 2.3455 - accuracy: 0.1889 - val_loss: 2.3211 - val_accuracy: 0.2222 - 45ms/epoch - 5ms/step\n",
      "Epoch 12/300\n",
      "9/9 - 0s - loss: 2.3238 - accuracy: 0.2222 - val_loss: 2.2989 - val_accuracy: 0.2222 - 46ms/epoch - 5ms/step\n",
      "Epoch 13/300\n",
      "9/9 - 0s - loss: 2.2968 - accuracy: 0.2222 - val_loss: 2.2783 - val_accuracy: 0.2222 - 40ms/epoch - 4ms/step\n",
      "Epoch 14/300\n",
      "9/9 - 0s - loss: 2.2810 - accuracy: 0.2222 - val_loss: 2.2593 - val_accuracy: 0.2222 - 39ms/epoch - 4ms/step\n",
      "Epoch 15/300\n",
      "9/9 - 0s - loss: 2.2638 - accuracy: 0.2222 - val_loss: 2.2416 - val_accuracy: 0.2222 - 41ms/epoch - 5ms/step\n",
      "Epoch 16/300\n",
      "9/9 - 0s - loss: 2.2476 - accuracy: 0.2222 - val_loss: 2.2249 - val_accuracy: 0.2222 - 43ms/epoch - 5ms/step\n",
      "Epoch 17/300\n",
      "9/9 - 0s - loss: 2.2287 - accuracy: 0.2222 - val_loss: 2.2091 - val_accuracy: 0.2222 - 46ms/epoch - 5ms/step\n",
      "Epoch 18/300\n",
      "9/9 - 0s - loss: 2.2148 - accuracy: 0.2222 - val_loss: 2.1942 - val_accuracy: 0.2222 - 47ms/epoch - 5ms/step\n",
      "Epoch 19/300\n",
      "9/9 - 0s - loss: 2.2031 - accuracy: 0.1889 - val_loss: 2.1800 - val_accuracy: 0.2222 - 46ms/epoch - 5ms/step\n",
      "Epoch 20/300\n",
      "9/9 - 0s - loss: 2.1867 - accuracy: 0.2222 - val_loss: 2.1663 - val_accuracy: 0.2222 - 45ms/epoch - 5ms/step\n",
      "Epoch 21/300\n",
      "9/9 - 0s - loss: 2.1774 - accuracy: 0.2000 - val_loss: 2.1531 - val_accuracy: 0.2222 - 56ms/epoch - 6ms/step\n",
      "Epoch 22/300\n",
      "9/9 - 0s - loss: 2.1650 - accuracy: 0.2222 - val_loss: 2.1403 - val_accuracy: 0.2222 - 40ms/epoch - 4ms/step\n",
      "Epoch 23/300\n",
      "9/9 - 0s - loss: 2.1492 - accuracy: 0.1889 - val_loss: 2.1279 - val_accuracy: 0.2222 - 44ms/epoch - 5ms/step\n",
      "Epoch 24/300\n",
      "9/9 - 0s - loss: 2.1376 - accuracy: 0.2333 - val_loss: 2.1156 - val_accuracy: 0.2222 - 41ms/epoch - 5ms/step\n",
      "Epoch 25/300\n",
      "9/9 - 0s - loss: 2.1267 - accuracy: 0.2111 - val_loss: 2.1034 - val_accuracy: 0.2222 - 41ms/epoch - 5ms/step\n",
      "Epoch 26/300\n",
      "9/9 - 0s - loss: 2.1137 - accuracy: 0.2000 - val_loss: 2.0913 - val_accuracy: 0.2222 - 50ms/epoch - 6ms/step\n",
      "Epoch 27/300\n",
      "9/9 - 0s - loss: 2.0965 - accuracy: 0.2222 - val_loss: 2.0793 - val_accuracy: 0.2222 - 46ms/epoch - 5ms/step\n",
      "Epoch 28/300\n",
      "9/9 - 0s - loss: 2.0914 - accuracy: 0.1778 - val_loss: 2.0675 - val_accuracy: 0.2222 - 50ms/epoch - 6ms/step\n",
      "Epoch 29/300\n",
      "9/9 - 0s - loss: 2.0736 - accuracy: 0.2222 - val_loss: 2.0553 - val_accuracy: 0.2222 - 47ms/epoch - 5ms/step\n",
      "Epoch 30/300\n",
      "9/9 - 0s - loss: 2.0650 - accuracy: 0.1889 - val_loss: 2.0430 - val_accuracy: 0.3333 - 44ms/epoch - 5ms/step\n",
      "Epoch 31/300\n",
      "9/9 - 0s - loss: 2.0530 - accuracy: 0.2222 - val_loss: 2.0307 - val_accuracy: 0.3333 - 45ms/epoch - 5ms/step\n",
      "Epoch 32/300\n",
      "9/9 - 0s - loss: 2.0398 - accuracy: 0.2778 - val_loss: 2.0183 - val_accuracy: 0.3333 - 46ms/epoch - 5ms/step\n",
      "Epoch 33/300\n",
      "9/9 - 0s - loss: 2.0275 - accuracy: 0.2889 - val_loss: 2.0059 - val_accuracy: 0.3333 - 45ms/epoch - 5ms/step\n",
      "Epoch 34/300\n",
      "9/9 - 0s - loss: 2.0191 - accuracy: 0.2778 - val_loss: 1.9931 - val_accuracy: 0.3333 - 45ms/epoch - 5ms/step\n",
      "Epoch 35/300\n",
      "9/9 - 0s - loss: 2.0068 - accuracy: 0.2444 - val_loss: 1.9801 - val_accuracy: 0.3333 - 48ms/epoch - 5ms/step\n",
      "Epoch 36/300\n",
      "9/9 - 0s - loss: 1.9922 - accuracy: 0.2444 - val_loss: 1.9671 - val_accuracy: 0.3333 - 65ms/epoch - 7ms/step\n",
      "Epoch 37/300\n",
      "9/9 - 0s - loss: 1.9844 - accuracy: 0.3000 - val_loss: 1.9542 - val_accuracy: 0.3333 - 44ms/epoch - 5ms/step\n",
      "Epoch 38/300\n",
      "9/9 - 0s - loss: 1.9633 - accuracy: 0.2333 - val_loss: 1.9412 - val_accuracy: 0.3333 - 42ms/epoch - 5ms/step\n",
      "Epoch 39/300\n",
      "9/9 - 0s - loss: 1.9531 - accuracy: 0.3000 - val_loss: 1.9274 - val_accuracy: 0.3333 - 41ms/epoch - 5ms/step\n",
      "Epoch 40/300\n",
      "9/9 - 0s - loss: 1.9397 - accuracy: 0.3000 - val_loss: 1.9139 - val_accuracy: 0.3333 - 44ms/epoch - 5ms/step\n",
      "Epoch 41/300\n",
      "9/9 - 0s - loss: 1.9247 - accuracy: 0.3333 - val_loss: 1.9003 - val_accuracy: 0.3333 - 41ms/epoch - 5ms/step\n",
      "Epoch 42/300\n",
      "9/9 - 0s - loss: 1.9096 - accuracy: 0.2889 - val_loss: 1.8866 - val_accuracy: 0.3333 - 38ms/epoch - 4ms/step\n",
      "Epoch 43/300\n",
      "9/9 - 0s - loss: 1.8969 - accuracy: 0.3556 - val_loss: 1.8734 - val_accuracy: 0.3333 - 40ms/epoch - 4ms/step\n",
      "Epoch 44/300\n",
      "9/9 - 0s - loss: 1.8821 - accuracy: 0.3111 - val_loss: 1.8589 - val_accuracy: 0.3333 - 40ms/epoch - 4ms/step\n",
      "Epoch 45/300\n",
      "9/9 - 0s - loss: 1.8704 - accuracy: 0.3000 - val_loss: 1.8451 - val_accuracy: 0.3333 - 45ms/epoch - 5ms/step\n",
      "Epoch 46/300\n",
      "9/9 - 0s - loss: 1.8619 - accuracy: 0.3000 - val_loss: 1.8314 - val_accuracy: 0.3333 - 43ms/epoch - 5ms/step\n",
      "Epoch 47/300\n",
      "9/9 - 0s - loss: 1.8404 - accuracy: 0.2667 - val_loss: 1.8174 - val_accuracy: 0.3333 - 43ms/epoch - 5ms/step\n",
      "Epoch 48/300\n",
      "9/9 - 0s - loss: 1.8283 - accuracy: 0.3444 - val_loss: 1.8038 - val_accuracy: 0.3333 - 41ms/epoch - 5ms/step\n",
      "Epoch 49/300\n",
      "9/9 - 0s - loss: 1.8171 - accuracy: 0.2778 - val_loss: 1.7897 - val_accuracy: 0.4444 - 44ms/epoch - 5ms/step\n",
      "Epoch 50/300\n",
      "9/9 - 0s - loss: 1.7965 - accuracy: 0.3889 - val_loss: 1.7759 - val_accuracy: 0.4444 - 43ms/epoch - 5ms/step\n",
      "Epoch 51/300\n",
      "9/9 - 0s - loss: 1.7874 - accuracy: 0.3556 - val_loss: 1.7625 - val_accuracy: 0.4444 - 45ms/epoch - 5ms/step\n",
      "Epoch 52/300\n",
      "9/9 - 0s - loss: 1.7783 - accuracy: 0.3444 - val_loss: 1.7486 - val_accuracy: 0.3333 - 52ms/epoch - 6ms/step\n",
      "Epoch 53/300\n",
      "9/9 - 0s - loss: 1.7600 - accuracy: 0.3444 - val_loss: 1.7352 - val_accuracy: 0.4444 - 58ms/epoch - 6ms/step\n",
      "Epoch 54/300\n",
      "9/9 - 0s - loss: 1.7490 - accuracy: 0.2889 - val_loss: 1.7218 - val_accuracy: 0.5556 - 50ms/epoch - 6ms/step\n",
      "Epoch 55/300\n",
      "9/9 - 0s - loss: 1.7321 - accuracy: 0.3333 - val_loss: 1.7084 - val_accuracy: 0.4444 - 47ms/epoch - 5ms/step\n",
      "Epoch 56/300\n",
      "9/9 - 0s - loss: 1.7214 - accuracy: 0.2667 - val_loss: 1.6956 - val_accuracy: 0.4444 - 48ms/epoch - 5ms/step\n",
      "Epoch 57/300\n",
      "9/9 - 0s - loss: 1.7088 - accuracy: 0.3667 - val_loss: 1.6824 - val_accuracy: 0.4444 - 41ms/epoch - 5ms/step\n",
      "Epoch 58/300\n",
      "9/9 - 0s - loss: 1.6905 - accuracy: 0.3000 - val_loss: 1.6696 - val_accuracy: 0.4444 - 40ms/epoch - 4ms/step\n",
      "Epoch 59/300\n",
      "9/9 - 0s - loss: 1.6835 - accuracy: 0.4444 - val_loss: 1.6572 - val_accuracy: 0.2222 - 41ms/epoch - 5ms/step\n",
      "Epoch 60/300\n",
      "9/9 - 0s - loss: 1.6662 - accuracy: 0.2889 - val_loss: 1.6441 - val_accuracy: 0.5556 - 42ms/epoch - 5ms/step\n",
      "Epoch 61/300\n",
      "9/9 - 0s - loss: 1.6627 - accuracy: 0.4778 - val_loss: 1.6321 - val_accuracy: 0.3333 - 38ms/epoch - 4ms/step\n",
      "Epoch 62/300\n",
      "9/9 - 0s - loss: 1.6402 - accuracy: 0.3667 - val_loss: 1.6197 - val_accuracy: 0.4444 - 43ms/epoch - 5ms/step\n",
      "Epoch 63/300\n",
      "9/9 - 0s - loss: 1.6293 - accuracy: 0.3778 - val_loss: 1.6081 - val_accuracy: 0.3333 - 40ms/epoch - 4ms/step\n",
      "Epoch 64/300\n",
      "9/9 - 0s - loss: 1.6202 - accuracy: 0.4778 - val_loss: 1.5960 - val_accuracy: 0.4444 - 41ms/epoch - 5ms/step\n",
      "Epoch 65/300\n",
      "9/9 - 0s - loss: 1.6081 - accuracy: 0.3778 - val_loss: 1.5839 - val_accuracy: 0.4444 - 40ms/epoch - 4ms/step\n",
      "Epoch 66/300\n",
      "9/9 - 0s - loss: 1.5985 - accuracy: 0.3889 - val_loss: 1.5724 - val_accuracy: 0.5556 - 40ms/epoch - 4ms/step\n",
      "Epoch 67/300\n",
      "9/9 - 0s - loss: 1.5902 - accuracy: 0.3111 - val_loss: 1.5610 - val_accuracy: 0.5556 - 43ms/epoch - 5ms/step\n",
      "Epoch 68/300\n",
      "9/9 - 0s - loss: 1.5723 - accuracy: 0.3444 - val_loss: 1.5497 - val_accuracy: 0.5556 - 62ms/epoch - 7ms/step\n"
     ]
    },
    {
     "name": "stdout",
     "output_type": "stream",
     "text": [
      "Epoch 69/300\n",
      "9/9 - 0s - loss: 1.5638 - accuracy: 0.4444 - val_loss: 1.5385 - val_accuracy: 0.4444 - 40ms/epoch - 4ms/step\n",
      "Epoch 70/300\n",
      "9/9 - 0s - loss: 1.5481 - accuracy: 0.4222 - val_loss: 1.5277 - val_accuracy: 0.5556 - 41ms/epoch - 5ms/step\n",
      "Epoch 71/300\n",
      "9/9 - 0s - loss: 1.5432 - accuracy: 0.3889 - val_loss: 1.5172 - val_accuracy: 0.6667 - 40ms/epoch - 4ms/step\n",
      "Epoch 72/300\n",
      "9/9 - 0s - loss: 1.5274 - accuracy: 0.4111 - val_loss: 1.5076 - val_accuracy: 0.5556 - 41ms/epoch - 5ms/step\n",
      "Epoch 73/300\n",
      "9/9 - 0s - loss: 1.5143 - accuracy: 0.5667 - val_loss: 1.4960 - val_accuracy: 0.5556 - 41ms/epoch - 5ms/step\n",
      "Epoch 74/300\n",
      "9/9 - 0s - loss: 1.5086 - accuracy: 0.4444 - val_loss: 1.4853 - val_accuracy: 0.4444 - 39ms/epoch - 4ms/step\n",
      "Epoch 75/300\n",
      "9/9 - 0s - loss: 1.4995 - accuracy: 0.5000 - val_loss: 1.4766 - val_accuracy: 0.4444 - 42ms/epoch - 5ms/step\n",
      "Epoch 76/300\n",
      "9/9 - 0s - loss: 1.4896 - accuracy: 0.5111 - val_loss: 1.4658 - val_accuracy: 0.4444 - 40ms/epoch - 4ms/step\n",
      "Epoch 77/300\n",
      "9/9 - 0s - loss: 1.4766 - accuracy: 0.4778 - val_loss: 1.4561 - val_accuracy: 0.5556 - 38ms/epoch - 4ms/step\n",
      "Epoch 78/300\n",
      "9/9 - 0s - loss: 1.4745 - accuracy: 0.4444 - val_loss: 1.4462 - val_accuracy: 0.4444 - 40ms/epoch - 4ms/step\n",
      "Epoch 79/300\n",
      "9/9 - 0s - loss: 1.4703 - accuracy: 0.4333 - val_loss: 1.4364 - val_accuracy: 0.5556 - 42ms/epoch - 5ms/step\n",
      "Epoch 80/300\n",
      "9/9 - 0s - loss: 1.4578 - accuracy: 0.4889 - val_loss: 1.4268 - val_accuracy: 0.6667 - 42ms/epoch - 5ms/step\n",
      "Epoch 81/300\n",
      "9/9 - 0s - loss: 1.4424 - accuracy: 0.4556 - val_loss: 1.4181 - val_accuracy: 0.5556 - 39ms/epoch - 4ms/step\n",
      "Epoch 82/300\n",
      "9/9 - 0s - loss: 1.4305 - accuracy: 0.4667 - val_loss: 1.4083 - val_accuracy: 0.6667 - 41ms/epoch - 5ms/step\n",
      "Epoch 83/300\n",
      "9/9 - 0s - loss: 1.4268 - accuracy: 0.4889 - val_loss: 1.3995 - val_accuracy: 0.6667 - 39ms/epoch - 4ms/step\n",
      "Epoch 84/300\n",
      "9/9 - 0s - loss: 1.4161 - accuracy: 0.5333 - val_loss: 1.3904 - val_accuracy: 0.5556 - 41ms/epoch - 5ms/step\n",
      "Epoch 85/300\n",
      "9/9 - 0s - loss: 1.4041 - accuracy: 0.5667 - val_loss: 1.3812 - val_accuracy: 0.5556 - 42ms/epoch - 5ms/step\n",
      "Epoch 86/300\n",
      "9/9 - 0s - loss: 1.4033 - accuracy: 0.5667 - val_loss: 1.3730 - val_accuracy: 0.6667 - 41ms/epoch - 5ms/step\n",
      "Epoch 87/300\n",
      "9/9 - 0s - loss: 1.3918 - accuracy: 0.4889 - val_loss: 1.3638 - val_accuracy: 0.6667 - 40ms/epoch - 4ms/step\n",
      "Epoch 88/300\n",
      "9/9 - 0s - loss: 1.3785 - accuracy: 0.5333 - val_loss: 1.3555 - val_accuracy: 0.6667 - 38ms/epoch - 4ms/step\n",
      "Epoch 89/300\n",
      "9/9 - 0s - loss: 1.3677 - accuracy: 0.5778 - val_loss: 1.3472 - val_accuracy: 0.6667 - 41ms/epoch - 5ms/step\n",
      "Epoch 90/300\n",
      "9/9 - 0s - loss: 1.3627 - accuracy: 0.6111 - val_loss: 1.3385 - val_accuracy: 0.6667 - 40ms/epoch - 4ms/step\n",
      "Epoch 91/300\n",
      "9/9 - 0s - loss: 1.3535 - accuracy: 0.5333 - val_loss: 1.3300 - val_accuracy: 0.5556 - 43ms/epoch - 5ms/step\n",
      "Epoch 92/300\n",
      "9/9 - 0s - loss: 1.3402 - accuracy: 0.6333 - val_loss: 1.3221 - val_accuracy: 0.6667 - 42ms/epoch - 5ms/step\n",
      "Epoch 93/300\n",
      "9/9 - 0s - loss: 1.3321 - accuracy: 0.6444 - val_loss: 1.3134 - val_accuracy: 0.7778 - 39ms/epoch - 4ms/step\n",
      "Epoch 94/300\n",
      "9/9 - 0s - loss: 1.3311 - accuracy: 0.6111 - val_loss: 1.3062 - val_accuracy: 0.7778 - 40ms/epoch - 4ms/step\n",
      "Epoch 95/300\n",
      "9/9 - 0s - loss: 1.3226 - accuracy: 0.6222 - val_loss: 1.2994 - val_accuracy: 0.7778 - 42ms/epoch - 5ms/step\n",
      "Epoch 96/300\n",
      "9/9 - 0s - loss: 1.3162 - accuracy: 0.6556 - val_loss: 1.2908 - val_accuracy: 0.8889 - 41ms/epoch - 5ms/step\n",
      "Epoch 97/300\n",
      "9/9 - 0s - loss: 1.3042 - accuracy: 0.6889 - val_loss: 1.2829 - val_accuracy: 0.7778 - 40ms/epoch - 4ms/step\n",
      "Epoch 98/300\n",
      "9/9 - 0s - loss: 1.2975 - accuracy: 0.7000 - val_loss: 1.2770 - val_accuracy: 0.7778 - 39ms/epoch - 4ms/step\n",
      "Epoch 99/300\n",
      "9/9 - 0s - loss: 1.2930 - accuracy: 0.6333 - val_loss: 1.2680 - val_accuracy: 0.7778 - 49ms/epoch - 5ms/step\n",
      "Epoch 100/300\n",
      "9/9 - 0s - loss: 1.2796 - accuracy: 0.7333 - val_loss: 1.2620 - val_accuracy: 0.7778 - 42ms/epoch - 5ms/step\n",
      "Epoch 101/300\n",
      "9/9 - 0s - loss: 1.2754 - accuracy: 0.6556 - val_loss: 1.2528 - val_accuracy: 0.6667 - 67ms/epoch - 7ms/step\n",
      "Epoch 102/300\n",
      "9/9 - 0s - loss: 1.2739 - accuracy: 0.6667 - val_loss: 1.2456 - val_accuracy: 0.7778 - 44ms/epoch - 5ms/step\n",
      "Epoch 103/300\n",
      "9/9 - 0s - loss: 1.2641 - accuracy: 0.6333 - val_loss: 1.2386 - val_accuracy: 0.8889 - 38ms/epoch - 4ms/step\n",
      "Epoch 104/300\n",
      "9/9 - 0s - loss: 1.2578 - accuracy: 0.7000 - val_loss: 1.2343 - val_accuracy: 0.7778 - 42ms/epoch - 5ms/step\n",
      "Epoch 105/300\n",
      "9/9 - 0s - loss: 1.2497 - accuracy: 0.6556 - val_loss: 1.2242 - val_accuracy: 0.7778 - 39ms/epoch - 4ms/step\n",
      "Epoch 106/300\n",
      "9/9 - 0s - loss: 1.2396 - accuracy: 0.7778 - val_loss: 1.2183 - val_accuracy: 0.7778 - 42ms/epoch - 5ms/step\n",
      "Epoch 107/300\n",
      "9/9 - 0s - loss: 1.2377 - accuracy: 0.7000 - val_loss: 1.2128 - val_accuracy: 0.7778 - 43ms/epoch - 5ms/step\n",
      "Epoch 108/300\n",
      "9/9 - 0s - loss: 1.2276 - accuracy: 0.7333 - val_loss: 1.2038 - val_accuracy: 0.8889 - 38ms/epoch - 4ms/step\n",
      "Epoch 109/300\n",
      "9/9 - 0s - loss: 1.2171 - accuracy: 0.7667 - val_loss: 1.1977 - val_accuracy: 0.8889 - 40ms/epoch - 4ms/step\n",
      "Epoch 110/300\n",
      "9/9 - 0s - loss: 1.2148 - accuracy: 0.7444 - val_loss: 1.1910 - val_accuracy: 0.7778 - 38ms/epoch - 4ms/step\n",
      "Epoch 111/300\n",
      "9/9 - 0s - loss: 1.2062 - accuracy: 0.7556 - val_loss: 1.1843 - val_accuracy: 0.8889 - 40ms/epoch - 4ms/step\n",
      "Epoch 112/300\n",
      "9/9 - 0s - loss: 1.2056 - accuracy: 0.7778 - val_loss: 1.1782 - val_accuracy: 0.8889 - 42ms/epoch - 5ms/step\n",
      "Epoch 113/300\n",
      "9/9 - 0s - loss: 1.1960 - accuracy: 0.7556 - val_loss: 1.1712 - val_accuracy: 0.7778 - 41ms/epoch - 5ms/step\n",
      "Epoch 114/300\n",
      "9/9 - 0s - loss: 1.1832 - accuracy: 0.7111 - val_loss: 1.1645 - val_accuracy: 0.7778 - 42ms/epoch - 5ms/step\n",
      "Epoch 115/300\n",
      "9/9 - 0s - loss: 1.1812 - accuracy: 0.7111 - val_loss: 1.1584 - val_accuracy: 0.8889 - 38ms/epoch - 4ms/step\n",
      "Epoch 116/300\n",
      "9/9 - 0s - loss: 1.1799 - accuracy: 0.7667 - val_loss: 1.1521 - val_accuracy: 0.7778 - 40ms/epoch - 4ms/step\n",
      "Epoch 117/300\n",
      "9/9 - 0s - loss: 1.1695 - accuracy: 0.6889 - val_loss: 1.1457 - val_accuracy: 0.7778 - 40ms/epoch - 4ms/step\n",
      "Epoch 118/300\n",
      "9/9 - 0s - loss: 1.1693 - accuracy: 0.6889 - val_loss: 1.1399 - val_accuracy: 0.7778 - 41ms/epoch - 5ms/step\n",
      "Epoch 119/300\n",
      "9/9 - 0s - loss: 1.1599 - accuracy: 0.7667 - val_loss: 1.1332 - val_accuracy: 0.7778 - 41ms/epoch - 5ms/step\n",
      "Epoch 120/300\n",
      "9/9 - 0s - loss: 1.1608 - accuracy: 0.7667 - val_loss: 1.1273 - val_accuracy: 0.8889 - 43ms/epoch - 5ms/step\n",
      "Epoch 121/300\n",
      "9/9 - 0s - loss: 1.1400 - accuracy: 0.8333 - val_loss: 1.1223 - val_accuracy: 0.7778 - 42ms/epoch - 5ms/step\n",
      "Epoch 122/300\n",
      "9/9 - 0s - loss: 1.1356 - accuracy: 0.7333 - val_loss: 1.1152 - val_accuracy: 0.8889 - 41ms/epoch - 5ms/step\n",
      "Epoch 123/300\n",
      "9/9 - 0s - loss: 1.1349 - accuracy: 0.7889 - val_loss: 1.1108 - val_accuracy: 0.7778 - 41ms/epoch - 5ms/step\n",
      "Epoch 124/300\n",
      "9/9 - 0s - loss: 1.1249 - accuracy: 0.7444 - val_loss: 1.1048 - val_accuracy: 0.7778 - 42ms/epoch - 5ms/step\n",
      "Epoch 125/300\n",
      "9/9 - 0s - loss: 1.1268 - accuracy: 0.7444 - val_loss: 1.0987 - val_accuracy: 0.7778 - 42ms/epoch - 5ms/step\n",
      "Epoch 126/300\n",
      "9/9 - 0s - loss: 1.1188 - accuracy: 0.7222 - val_loss: 1.0935 - val_accuracy: 0.8889 - 38ms/epoch - 4ms/step\n",
      "Epoch 127/300\n",
      "9/9 - 0s - loss: 1.1133 - accuracy: 0.7444 - val_loss: 1.0882 - val_accuracy: 1.0000 - 40ms/epoch - 4ms/step\n",
      "Epoch 128/300\n",
      "9/9 - 0s - loss: 1.1026 - accuracy: 0.8444 - val_loss: 1.0822 - val_accuracy: 0.7778 - 39ms/epoch - 4ms/step\n",
      "Epoch 129/300\n",
      "9/9 - 0s - loss: 1.1047 - accuracy: 0.8111 - val_loss: 1.0764 - val_accuracy: 0.7778 - 41ms/epoch - 5ms/step\n",
      "Epoch 130/300\n",
      "9/9 - 0s - loss: 1.1042 - accuracy: 0.7000 - val_loss: 1.0705 - val_accuracy: 0.8889 - 41ms/epoch - 5ms/step\n",
      "Epoch 131/300\n",
      "9/9 - 0s - loss: 1.0882 - accuracy: 0.8000 - val_loss: 1.0647 - val_accuracy: 0.8889 - 40ms/epoch - 4ms/step\n",
      "Epoch 132/300\n",
      "9/9 - 0s - loss: 1.0813 - accuracy: 0.8000 - val_loss: 1.0596 - val_accuracy: 1.0000 - 47ms/epoch - 5ms/step\n",
      "Epoch 133/300\n",
      "9/9 - 0s - loss: 1.0873 - accuracy: 0.8000 - val_loss: 1.0556 - val_accuracy: 0.7778 - 39ms/epoch - 4ms/step\n",
      "Epoch 134/300\n",
      "9/9 - 0s - loss: 1.0772 - accuracy: 0.7778 - val_loss: 1.0487 - val_accuracy: 0.7778 - 40ms/epoch - 4ms/step\n",
      "Epoch 135/300\n",
      "9/9 - 0s - loss: 1.0827 - accuracy: 0.7222 - val_loss: 1.0439 - val_accuracy: 0.8889 - 40ms/epoch - 4ms/step\n"
     ]
    },
    {
     "name": "stdout",
     "output_type": "stream",
     "text": [
      "Epoch 136/300\n",
      "9/9 - 0s - loss: 1.0722 - accuracy: 0.8000 - val_loss: 1.0376 - val_accuracy: 0.7778 - 39ms/epoch - 4ms/step\n",
      "Epoch 137/300\n",
      "9/9 - 0s - loss: 1.0519 - accuracy: 0.7778 - val_loss: 1.0349 - val_accuracy: 1.0000 - 42ms/epoch - 5ms/step\n",
      "Epoch 138/300\n",
      "9/9 - 0s - loss: 1.0641 - accuracy: 0.7667 - val_loss: 1.0311 - val_accuracy: 0.8889 - 38ms/epoch - 4ms/step\n",
      "Epoch 139/300\n",
      "9/9 - 0s - loss: 1.0461 - accuracy: 0.8222 - val_loss: 1.0254 - val_accuracy: 0.7778 - 42ms/epoch - 5ms/step\n",
      "Epoch 140/300\n",
      "9/9 - 0s - loss: 1.0414 - accuracy: 0.7778 - val_loss: 1.0175 - val_accuracy: 0.8889 - 40ms/epoch - 4ms/step\n",
      "Epoch 141/300\n",
      "9/9 - 0s - loss: 1.0345 - accuracy: 0.8667 - val_loss: 1.0132 - val_accuracy: 0.8889 - 41ms/epoch - 5ms/step\n",
      "Epoch 142/300\n",
      "9/9 - 0s - loss: 1.0367 - accuracy: 0.7667 - val_loss: 1.0065 - val_accuracy: 0.8889 - 39ms/epoch - 4ms/step\n",
      "Epoch 143/300\n",
      "9/9 - 0s - loss: 1.0270 - accuracy: 0.8222 - val_loss: 1.0009 - val_accuracy: 0.7778 - 40ms/epoch - 4ms/step\n",
      "Epoch 144/300\n",
      "9/9 - 0s - loss: 1.0200 - accuracy: 0.8333 - val_loss: 0.9982 - val_accuracy: 0.7778 - 41ms/epoch - 5ms/step\n",
      "Epoch 145/300\n",
      "9/9 - 0s - loss: 1.0192 - accuracy: 0.8111 - val_loss: 0.9914 - val_accuracy: 0.8889 - 38ms/epoch - 4ms/step\n",
      "Epoch 146/300\n",
      "9/9 - 0s - loss: 1.0160 - accuracy: 0.8333 - val_loss: 0.9868 - val_accuracy: 0.7778 - 41ms/epoch - 5ms/step\n",
      "Epoch 147/300\n",
      "9/9 - 0s - loss: 1.0017 - accuracy: 0.8000 - val_loss: 0.9830 - val_accuracy: 0.8889 - 39ms/epoch - 4ms/step\n",
      "Epoch 148/300\n",
      "9/9 - 0s - loss: 1.0022 - accuracy: 0.8556 - val_loss: 0.9762 - val_accuracy: 0.8889 - 43ms/epoch - 5ms/step\n",
      "Epoch 149/300\n",
      "9/9 - 0s - loss: 1.0068 - accuracy: 0.7778 - val_loss: 0.9716 - val_accuracy: 0.8889 - 45ms/epoch - 5ms/step\n",
      "Epoch 150/300\n",
      "9/9 - 0s - loss: 0.9923 - accuracy: 0.8556 - val_loss: 0.9678 - val_accuracy: 0.7778 - 39ms/epoch - 4ms/step\n",
      "Epoch 151/300\n",
      "9/9 - 0s - loss: 0.9814 - accuracy: 0.8444 - val_loss: 0.9621 - val_accuracy: 0.8889 - 40ms/epoch - 4ms/step\n",
      "Epoch 152/300\n",
      "9/9 - 0s - loss: 0.9873 - accuracy: 0.8000 - val_loss: 0.9599 - val_accuracy: 0.8889 - 56ms/epoch - 6ms/step\n",
      "Epoch 153/300\n",
      "9/9 - 0s - loss: 0.9871 - accuracy: 0.8333 - val_loss: 0.9523 - val_accuracy: 1.0000 - 45ms/epoch - 5ms/step\n",
      "Epoch 154/300\n",
      "9/9 - 0s - loss: 0.9707 - accuracy: 0.8778 - val_loss: 0.9520 - val_accuracy: 0.8889 - 40ms/epoch - 4ms/step\n",
      "Epoch 155/300\n",
      "9/9 - 0s - loss: 0.9780 - accuracy: 0.8444 - val_loss: 0.9421 - val_accuracy: 0.8889 - 41ms/epoch - 5ms/step\n",
      "Epoch 156/300\n",
      "9/9 - 0s - loss: 0.9675 - accuracy: 0.7778 - val_loss: 0.9412 - val_accuracy: 0.8889 - 42ms/epoch - 5ms/step\n",
      "Epoch 157/300\n",
      "9/9 - 0s - loss: 0.9560 - accuracy: 0.8778 - val_loss: 0.9345 - val_accuracy: 0.8889 - 40ms/epoch - 4ms/step\n",
      "Epoch 158/300\n",
      "9/9 - 0s - loss: 0.9584 - accuracy: 0.8333 - val_loss: 0.9292 - val_accuracy: 0.8889 - 38ms/epoch - 4ms/step\n",
      "Epoch 159/300\n",
      "9/9 - 0s - loss: 0.9547 - accuracy: 0.8444 - val_loss: 0.9231 - val_accuracy: 0.8889 - 41ms/epoch - 5ms/step\n",
      "Epoch 160/300\n",
      "9/9 - 0s - loss: 0.9623 - accuracy: 0.8111 - val_loss: 0.9212 - val_accuracy: 0.7778 - 39ms/epoch - 4ms/step\n",
      "Epoch 161/300\n",
      "9/9 - 0s - loss: 0.9373 - accuracy: 0.8222 - val_loss: 0.9170 - val_accuracy: 1.0000 - 40ms/epoch - 4ms/step\n",
      "Epoch 162/300\n",
      "9/9 - 0s - loss: 0.9360 - accuracy: 0.8778 - val_loss: 0.9167 - val_accuracy: 0.7778 - 41ms/epoch - 5ms/step\n",
      "Epoch 163/300\n",
      "9/9 - 0s - loss: 0.9354 - accuracy: 0.7889 - val_loss: 0.9066 - val_accuracy: 0.8889 - 43ms/epoch - 5ms/step\n",
      "Epoch 164/300\n",
      "9/9 - 0s - loss: 0.9426 - accuracy: 0.8000 - val_loss: 0.9024 - val_accuracy: 0.8889 - 40ms/epoch - 4ms/step\n",
      "Epoch 165/300\n",
      "9/9 - 0s - loss: 0.9342 - accuracy: 0.7889 - val_loss: 0.8999 - val_accuracy: 0.8889 - 43ms/epoch - 5ms/step\n",
      "Epoch 166/300\n",
      "9/9 - 0s - loss: 0.9248 - accuracy: 0.8111 - val_loss: 0.8975 - val_accuracy: 1.0000 - 44ms/epoch - 5ms/step\n",
      "Epoch 167/300\n",
      "9/9 - 0s - loss: 0.9080 - accuracy: 0.8667 - val_loss: 0.8935 - val_accuracy: 0.7778 - 39ms/epoch - 4ms/step\n",
      "Epoch 168/300\n",
      "9/9 - 0s - loss: 0.9144 - accuracy: 0.8333 - val_loss: 0.8835 - val_accuracy: 0.8889 - 39ms/epoch - 4ms/step\n",
      "Epoch 169/300\n",
      "9/9 - 0s - loss: 0.9106 - accuracy: 0.8889 - val_loss: 0.8804 - val_accuracy: 1.0000 - 40ms/epoch - 4ms/step\n",
      "Epoch 170/300\n",
      "9/9 - 0s - loss: 0.8985 - accuracy: 0.8444 - val_loss: 0.8752 - val_accuracy: 0.8889 - 40ms/epoch - 4ms/step\n",
      "Epoch 171/300\n",
      "9/9 - 0s - loss: 0.9039 - accuracy: 0.8556 - val_loss: 0.8699 - val_accuracy: 0.8889 - 41ms/epoch - 5ms/step\n",
      "Epoch 172/300\n",
      "9/9 - 0s - loss: 0.8935 - accuracy: 0.8444 - val_loss: 0.8661 - val_accuracy: 1.0000 - 41ms/epoch - 5ms/step\n",
      "Epoch 173/300\n",
      "9/9 - 0s - loss: 0.8866 - accuracy: 0.8333 - val_loss: 0.8632 - val_accuracy: 0.8889 - 41ms/epoch - 5ms/step\n",
      "Epoch 174/300\n",
      "9/9 - 0s - loss: 0.8883 - accuracy: 0.8111 - val_loss: 0.8597 - val_accuracy: 0.8889 - 41ms/epoch - 5ms/step\n",
      "Epoch 175/300\n",
      "9/9 - 0s - loss: 0.8802 - accuracy: 0.8556 - val_loss: 0.8539 - val_accuracy: 0.8889 - 39ms/epoch - 4ms/step\n",
      "Epoch 176/300\n",
      "9/9 - 0s - loss: 0.8703 - accuracy: 0.8778 - val_loss: 0.8561 - val_accuracy: 0.8889 - 42ms/epoch - 5ms/step\n",
      "Epoch 177/300\n",
      "9/9 - 0s - loss: 0.8677 - accuracy: 0.8667 - val_loss: 0.8497 - val_accuracy: 1.0000 - 42ms/epoch - 5ms/step\n",
      "Epoch 178/300\n",
      "9/9 - 0s - loss: 0.8683 - accuracy: 0.8778 - val_loss: 0.8418 - val_accuracy: 1.0000 - 41ms/epoch - 5ms/step\n",
      "Epoch 179/300\n",
      "9/9 - 0s - loss: 0.8598 - accuracy: 0.9222 - val_loss: 0.8389 - val_accuracy: 0.8889 - 40ms/epoch - 4ms/step\n",
      "Epoch 180/300\n",
      "9/9 - 0s - loss: 0.8607 - accuracy: 0.8000 - val_loss: 0.8358 - val_accuracy: 0.8889 - 38ms/epoch - 4ms/step\n",
      "Epoch 181/300\n",
      "9/9 - 0s - loss: 0.8693 - accuracy: 0.8889 - val_loss: 0.8329 - val_accuracy: 0.8889 - 40ms/epoch - 4ms/step\n",
      "Epoch 182/300\n",
      "9/9 - 0s - loss: 0.8482 - accuracy: 0.8667 - val_loss: 0.8240 - val_accuracy: 1.0000 - 40ms/epoch - 4ms/step\n",
      "Epoch 183/300\n",
      "9/9 - 0s - loss: 0.8501 - accuracy: 0.8889 - val_loss: 0.8207 - val_accuracy: 1.0000 - 40ms/epoch - 4ms/step\n",
      "Epoch 184/300\n",
      "9/9 - 0s - loss: 0.8499 - accuracy: 0.8778 - val_loss: 0.8240 - val_accuracy: 0.7778 - 41ms/epoch - 5ms/step\n",
      "Epoch 185/300\n",
      "9/9 - 0s - loss: 0.8498 - accuracy: 0.7778 - val_loss: 0.8121 - val_accuracy: 1.0000 - 41ms/epoch - 5ms/step\n",
      "Epoch 186/300\n",
      "9/9 - 0s - loss: 0.8347 - accuracy: 0.8778 - val_loss: 0.8117 - val_accuracy: 0.8889 - 39ms/epoch - 4ms/step\n",
      "Epoch 187/300\n",
      "9/9 - 0s - loss: 0.8444 - accuracy: 0.8333 - val_loss: 0.8055 - val_accuracy: 0.8889 - 40ms/epoch - 4ms/step\n",
      "Epoch 188/300\n",
      "9/9 - 0s - loss: 0.8346 - accuracy: 0.8333 - val_loss: 0.8040 - val_accuracy: 0.8889 - 39ms/epoch - 4ms/step\n",
      "Epoch 189/300\n",
      "9/9 - 0s - loss: 0.8236 - accuracy: 0.8444 - val_loss: 0.7964 - val_accuracy: 0.8889 - 45ms/epoch - 5ms/step\n",
      "Epoch 190/300\n",
      "9/9 - 0s - loss: 0.8192 - accuracy: 0.8333 - val_loss: 0.7942 - val_accuracy: 0.8889 - 43ms/epoch - 5ms/step\n",
      "Epoch 191/300\n",
      "9/9 - 0s - loss: 0.8135 - accuracy: 0.8889 - val_loss: 0.7926 - val_accuracy: 1.0000 - 41ms/epoch - 5ms/step\n",
      "Epoch 192/300\n",
      "9/9 - 0s - loss: 0.8235 - accuracy: 0.8667 - val_loss: 0.7840 - val_accuracy: 0.8889 - 41ms/epoch - 5ms/step\n",
      "Epoch 193/300\n",
      "9/9 - 0s - loss: 0.8189 - accuracy: 0.8333 - val_loss: 0.7892 - val_accuracy: 0.8889 - 41ms/epoch - 5ms/step\n",
      "Epoch 194/300\n",
      "9/9 - 0s - loss: 0.7972 - accuracy: 0.7667 - val_loss: 0.7847 - val_accuracy: 0.7778 - 41ms/epoch - 5ms/step\n",
      "Epoch 195/300\n",
      "9/9 - 0s - loss: 0.7976 - accuracy: 0.9000 - val_loss: 0.7761 - val_accuracy: 1.0000 - 42ms/epoch - 5ms/step\n",
      "Epoch 196/300\n",
      "9/9 - 0s - loss: 0.7922 - accuracy: 0.8889 - val_loss: 0.7708 - val_accuracy: 1.0000 - 39ms/epoch - 4ms/step\n",
      "Epoch 197/300\n",
      "9/9 - 0s - loss: 0.7937 - accuracy: 0.9111 - val_loss: 0.7670 - val_accuracy: 0.8889 - 39ms/epoch - 4ms/step\n",
      "Epoch 198/300\n",
      "9/9 - 0s - loss: 0.7854 - accuracy: 0.8889 - val_loss: 0.7628 - val_accuracy: 1.0000 - 41ms/epoch - 5ms/step\n",
      "Epoch 199/300\n",
      "9/9 - 0s - loss: 0.7774 - accuracy: 0.8889 - val_loss: 0.7785 - val_accuracy: 0.7778 - 62ms/epoch - 7ms/step\n",
      "Epoch 200/300\n",
      "9/9 - 0s - loss: 0.7859 - accuracy: 0.8444 - val_loss: 0.7625 - val_accuracy: 0.8889 - 42ms/epoch - 5ms/step\n",
      "Epoch 201/300\n",
      "9/9 - 0s - loss: 0.7942 - accuracy: 0.8556 - val_loss: 0.7543 - val_accuracy: 1.0000 - 42ms/epoch - 5ms/step\n",
      "Epoch 202/300\n",
      "9/9 - 0s - loss: 0.7843 - accuracy: 0.8667 - val_loss: 0.7530 - val_accuracy: 0.8889 - 41ms/epoch - 5ms/step\n"
     ]
    },
    {
     "name": "stdout",
     "output_type": "stream",
     "text": [
      "Epoch 203/300\n",
      "9/9 - 0s - loss: 0.7608 - accuracy: 0.8667 - val_loss: 0.7478 - val_accuracy: 0.8889 - 39ms/epoch - 4ms/step\n",
      "Epoch 204/300\n",
      "9/9 - 0s - loss: 0.7727 - accuracy: 0.9333 - val_loss: 0.7370 - val_accuracy: 1.0000 - 39ms/epoch - 4ms/step\n",
      "Epoch 205/300\n",
      "9/9 - 0s - loss: 0.7555 - accuracy: 0.8667 - val_loss: 0.7371 - val_accuracy: 0.8889 - 38ms/epoch - 4ms/step\n",
      "Epoch 206/300\n",
      "9/9 - 0s - loss: 0.7534 - accuracy: 0.9111 - val_loss: 0.7349 - val_accuracy: 1.0000 - 41ms/epoch - 5ms/step\n",
      "Epoch 207/300\n",
      "9/9 - 0s - loss: 0.7696 - accuracy: 0.8556 - val_loss: 0.7297 - val_accuracy: 1.0000 - 42ms/epoch - 5ms/step\n",
      "Epoch 208/300\n",
      "9/9 - 0s - loss: 0.7679 - accuracy: 0.9000 - val_loss: 0.7265 - val_accuracy: 0.8889 - 40ms/epoch - 4ms/step\n",
      "Epoch 209/300\n",
      "9/9 - 0s - loss: 0.7458 - accuracy: 0.9444 - val_loss: 0.7324 - val_accuracy: 0.8889 - 39ms/epoch - 4ms/step\n",
      "Epoch 210/300\n",
      "9/9 - 0s - loss: 0.7519 - accuracy: 0.8889 - val_loss: 0.7165 - val_accuracy: 1.0000 - 38ms/epoch - 4ms/step\n",
      "Epoch 211/300\n",
      "9/9 - 0s - loss: 0.7384 - accuracy: 0.9444 - val_loss: 0.7130 - val_accuracy: 0.8889 - 41ms/epoch - 5ms/step\n",
      "Epoch 212/300\n",
      "9/9 - 0s - loss: 0.7491 - accuracy: 0.8889 - val_loss: 0.7290 - val_accuracy: 0.8889 - 39ms/epoch - 4ms/step\n",
      "Epoch 213/300\n",
      "9/9 - 0s - loss: 0.7331 - accuracy: 0.8889 - val_loss: 0.7085 - val_accuracy: 1.0000 - 41ms/epoch - 5ms/step\n",
      "Epoch 214/300\n",
      "9/9 - 0s - loss: 0.7267 - accuracy: 0.9222 - val_loss: 0.7007 - val_accuracy: 0.8889 - 40ms/epoch - 4ms/step\n",
      "Epoch 215/300\n",
      "9/9 - 0s - loss: 0.7159 - accuracy: 0.8889 - val_loss: 0.7052 - val_accuracy: 0.8889 - 43ms/epoch - 5ms/step\n",
      "Epoch 216/300\n",
      "9/9 - 0s - loss: 0.7347 - accuracy: 0.8667 - val_loss: 0.7008 - val_accuracy: 1.0000 - 40ms/epoch - 4ms/step\n",
      "Epoch 217/300\n",
      "9/9 - 0s - loss: 0.7296 - accuracy: 0.9333 - val_loss: 0.6971 - val_accuracy: 0.8889 - 38ms/epoch - 4ms/step\n",
      "Epoch 218/300\n",
      "9/9 - 0s - loss: 0.7310 - accuracy: 0.8556 - val_loss: 0.6946 - val_accuracy: 0.8889 - 40ms/epoch - 4ms/step\n",
      "Epoch 219/300\n",
      "9/9 - 0s - loss: 0.7175 - accuracy: 0.9444 - val_loss: 0.6878 - val_accuracy: 0.8889 - 39ms/epoch - 4ms/step\n",
      "Epoch 220/300\n",
      "9/9 - 0s - loss: 0.7143 - accuracy: 0.9333 - val_loss: 0.6810 - val_accuracy: 0.8889 - 41ms/epoch - 5ms/step\n",
      "Epoch 221/300\n",
      "9/9 - 0s - loss: 0.7155 - accuracy: 0.8778 - val_loss: 0.6782 - val_accuracy: 1.0000 - 40ms/epoch - 4ms/step\n",
      "Epoch 222/300\n",
      "9/9 - 0s - loss: 0.7184 - accuracy: 0.9111 - val_loss: 0.6737 - val_accuracy: 0.8889 - 41ms/epoch - 5ms/step\n",
      "Epoch 223/300\n",
      "9/9 - 0s - loss: 0.6923 - accuracy: 0.8889 - val_loss: 0.6715 - val_accuracy: 1.0000 - 40ms/epoch - 4ms/step\n",
      "Epoch 224/300\n",
      "9/9 - 0s - loss: 0.7052 - accuracy: 0.8444 - val_loss: 0.6749 - val_accuracy: 0.8889 - 39ms/epoch - 4ms/step\n",
      "Epoch 225/300\n",
      "9/9 - 0s - loss: 0.6954 - accuracy: 0.9000 - val_loss: 0.6882 - val_accuracy: 0.7778 - 41ms/epoch - 5ms/step\n",
      "Epoch 226/300\n",
      "9/9 - 0s - loss: 0.7080 - accuracy: 0.8444 - val_loss: 0.6631 - val_accuracy: 1.0000 - 41ms/epoch - 5ms/step\n",
      "Epoch 227/300\n",
      "9/9 - 0s - loss: 0.6804 - accuracy: 0.9333 - val_loss: 0.6598 - val_accuracy: 0.8889 - 41ms/epoch - 5ms/step\n",
      "Epoch 228/300\n",
      "9/9 - 0s - loss: 0.6900 - accuracy: 0.9111 - val_loss: 0.6535 - val_accuracy: 1.0000 - 41ms/epoch - 5ms/step\n",
      "Epoch 229/300\n",
      "9/9 - 0s - loss: 0.6809 - accuracy: 0.9222 - val_loss: 0.6497 - val_accuracy: 1.0000 - 45ms/epoch - 5ms/step\n",
      "Epoch 230/300\n",
      "9/9 - 0s - loss: 0.6685 - accuracy: 0.9333 - val_loss: 0.6456 - val_accuracy: 1.0000 - 38ms/epoch - 4ms/step\n",
      "Epoch 231/300\n",
      "9/9 - 0s - loss: 0.6735 - accuracy: 0.9222 - val_loss: 0.6442 - val_accuracy: 0.8889 - 40ms/epoch - 4ms/step\n",
      "Epoch 232/300\n",
      "9/9 - 0s - loss: 0.6684 - accuracy: 0.9111 - val_loss: 0.6413 - val_accuracy: 0.8889 - 41ms/epoch - 5ms/step\n",
      "Epoch 233/300\n",
      "9/9 - 0s - loss: 0.6696 - accuracy: 0.9000 - val_loss: 0.6344 - val_accuracy: 1.0000 - 43ms/epoch - 5ms/step\n",
      "Epoch 234/300\n",
      "9/9 - 0s - loss: 0.6572 - accuracy: 0.9778 - val_loss: 0.6314 - val_accuracy: 1.0000 - 39ms/epoch - 4ms/step\n",
      "Epoch 235/300\n",
      "9/9 - 0s - loss: 0.6634 - accuracy: 0.9222 - val_loss: 0.6401 - val_accuracy: 0.8889 - 41ms/epoch - 5ms/step\n",
      "Epoch 236/300\n",
      "9/9 - 0s - loss: 0.6716 - accuracy: 0.8444 - val_loss: 0.6302 - val_accuracy: 0.8889 - 40ms/epoch - 4ms/step\n",
      "Epoch 237/300\n",
      "9/9 - 0s - loss: 0.6534 - accuracy: 0.9000 - val_loss: 0.6227 - val_accuracy: 1.0000 - 42ms/epoch - 5ms/step\n",
      "Epoch 238/300\n",
      "9/9 - 0s - loss: 0.6565 - accuracy: 0.9556 - val_loss: 0.6192 - val_accuracy: 1.0000 - 40ms/epoch - 4ms/step\n",
      "Epoch 239/300\n",
      "9/9 - 0s - loss: 0.6386 - accuracy: 0.9333 - val_loss: 0.6201 - val_accuracy: 1.0000 - 41ms/epoch - 5ms/step\n",
      "Epoch 240/300\n",
      "9/9 - 0s - loss: 0.6565 - accuracy: 0.8667 - val_loss: 0.6304 - val_accuracy: 0.8889 - 42ms/epoch - 5ms/step\n",
      "Epoch 241/300\n",
      "9/9 - 0s - loss: 0.6391 - accuracy: 0.9333 - val_loss: 0.6182 - val_accuracy: 0.8889 - 42ms/epoch - 5ms/step\n",
      "Epoch 242/300\n",
      "9/9 - 0s - loss: 0.6376 - accuracy: 0.9333 - val_loss: 0.6136 - val_accuracy: 0.8889 - 40ms/epoch - 4ms/step\n",
      "Epoch 243/300\n",
      "9/9 - 0s - loss: 0.6490 - accuracy: 0.8444 - val_loss: 0.6149 - val_accuracy: 0.8889 - 41ms/epoch - 5ms/step\n",
      "Epoch 244/300\n",
      "9/9 - 0s - loss: 0.6376 - accuracy: 0.8778 - val_loss: 0.6260 - val_accuracy: 0.7778 - 40ms/epoch - 4ms/step\n",
      "Epoch 245/300\n",
      "9/9 - 0s - loss: 0.6240 - accuracy: 0.9111 - val_loss: 0.6168 - val_accuracy: 0.7778 - 43ms/epoch - 5ms/step\n",
      "Epoch 246/300\n",
      "9/9 - 0s - loss: 0.6344 - accuracy: 0.9444 - val_loss: 0.6019 - val_accuracy: 1.0000 - 43ms/epoch - 5ms/step\n",
      "Epoch 247/300\n",
      "9/9 - 0s - loss: 0.6283 - accuracy: 0.9222 - val_loss: 0.5995 - val_accuracy: 0.8889 - 47ms/epoch - 5ms/step\n",
      "Epoch 248/300\n",
      "9/9 - 0s - loss: 0.6299 - accuracy: 0.8667 - val_loss: 0.6063 - val_accuracy: 0.8889 - 40ms/epoch - 4ms/step\n",
      "Epoch 249/300\n",
      "9/9 - 0s - loss: 0.6194 - accuracy: 0.9222 - val_loss: 0.5992 - val_accuracy: 0.8889 - 39ms/epoch - 4ms/step\n",
      "Epoch 250/300\n",
      "9/9 - 0s - loss: 0.6093 - accuracy: 0.9000 - val_loss: 0.5833 - val_accuracy: 1.0000 - 40ms/epoch - 4ms/step\n",
      "Epoch 251/300\n",
      "9/9 - 0s - loss: 0.6335 - accuracy: 0.9000 - val_loss: 0.5868 - val_accuracy: 1.0000 - 49ms/epoch - 5ms/step\n",
      "Epoch 252/300\n",
      "9/9 - 0s - loss: 0.6172 - accuracy: 0.9667 - val_loss: 0.5865 - val_accuracy: 1.0000 - 51ms/epoch - 6ms/step\n",
      "Epoch 253/300\n",
      "9/9 - 0s - loss: 0.6000 - accuracy: 0.9444 - val_loss: 0.5772 - val_accuracy: 1.0000 - 50ms/epoch - 6ms/step\n",
      "Epoch 254/300\n",
      "9/9 - 0s - loss: 0.5999 - accuracy: 0.9444 - val_loss: 0.5711 - val_accuracy: 0.8889 - 47ms/epoch - 5ms/step\n",
      "Epoch 255/300\n",
      "9/9 - 0s - loss: 0.5953 - accuracy: 0.9889 - val_loss: 0.5704 - val_accuracy: 0.8889 - 40ms/epoch - 4ms/step\n",
      "Epoch 256/300\n",
      "9/9 - 0s - loss: 0.6072 - accuracy: 0.9111 - val_loss: 0.5642 - val_accuracy: 0.8889 - 41ms/epoch - 5ms/step\n",
      "Epoch 257/300\n",
      "9/9 - 0s - loss: 0.5926 - accuracy: 0.9333 - val_loss: 0.5697 - val_accuracy: 0.8889 - 40ms/epoch - 4ms/step\n",
      "Epoch 258/300\n",
      "9/9 - 0s - loss: 0.5905 - accuracy: 0.9333 - val_loss: 0.5677 - val_accuracy: 1.0000 - 51ms/epoch - 6ms/step\n",
      "Epoch 259/300\n",
      "9/9 - 0s - loss: 0.5926 - accuracy: 0.9222 - val_loss: 0.5609 - val_accuracy: 1.0000 - 51ms/epoch - 6ms/step\n",
      "Epoch 260/300\n",
      "9/9 - 0s - loss: 0.5838 - accuracy: 0.9333 - val_loss: 0.5558 - val_accuracy: 1.0000 - 51ms/epoch - 6ms/step\n",
      "Epoch 261/300\n",
      "9/9 - 0s - loss: 0.5724 - accuracy: 0.9222 - val_loss: 0.5930 - val_accuracy: 0.7778 - 50ms/epoch - 6ms/step\n",
      "Epoch 262/300\n",
      "9/9 - 0s - loss: 0.6058 - accuracy: 0.8889 - val_loss: 0.5629 - val_accuracy: 1.0000 - 46ms/epoch - 5ms/step\n",
      "Epoch 263/300\n",
      "9/9 - 0s - loss: 0.5815 - accuracy: 0.9000 - val_loss: 0.5532 - val_accuracy: 1.0000 - 41ms/epoch - 5ms/step\n",
      "Epoch 264/300\n",
      "9/9 - 0s - loss: 0.5687 - accuracy: 0.9333 - val_loss: 0.5515 - val_accuracy: 1.0000 - 56ms/epoch - 6ms/step\n",
      "Epoch 265/300\n",
      "9/9 - 0s - loss: 0.5564 - accuracy: 0.9333 - val_loss: 0.5529 - val_accuracy: 0.8889 - 48ms/epoch - 5ms/step\n",
      "Epoch 266/300\n",
      "9/9 - 0s - loss: 0.5798 - accuracy: 0.9222 - val_loss: 0.5377 - val_accuracy: 1.0000 - 44ms/epoch - 5ms/step\n",
      "Epoch 267/300\n",
      "9/9 - 0s - loss: 0.5822 - accuracy: 0.9111 - val_loss: 0.5403 - val_accuracy: 1.0000 - 45ms/epoch - 5ms/step\n",
      "Epoch 268/300\n",
      "9/9 - 0s - loss: 0.5681 - accuracy: 0.9222 - val_loss: 0.5550 - val_accuracy: 0.8889 - 63ms/epoch - 7ms/step\n",
      "Epoch 269/300\n",
      "9/9 - 0s - loss: 0.5746 - accuracy: 0.9222 - val_loss: 0.5446 - val_accuracy: 0.8889 - 40ms/epoch - 4ms/step\n"
     ]
    },
    {
     "name": "stdout",
     "output_type": "stream",
     "text": [
      "Epoch 270/300\n",
      "9/9 - 0s - loss: 0.5615 - accuracy: 0.9222 - val_loss: 0.5304 - val_accuracy: 1.0000 - 47ms/epoch - 5ms/step\n",
      "Epoch 271/300\n",
      "9/9 - 0s - loss: 0.5611 - accuracy: 0.9111 - val_loss: 0.5347 - val_accuracy: 0.8889 - 46ms/epoch - 5ms/step\n",
      "Epoch 272/300\n",
      "9/9 - 0s - loss: 0.5652 - accuracy: 0.9111 - val_loss: 0.5207 - val_accuracy: 1.0000 - 49ms/epoch - 5ms/step\n",
      "Epoch 273/300\n",
      "9/9 - 0s - loss: 0.5423 - accuracy: 0.9333 - val_loss: 0.5295 - val_accuracy: 0.8889 - 48ms/epoch - 5ms/step\n",
      "Epoch 274/300\n",
      "9/9 - 0s - loss: 0.5612 - accuracy: 0.9222 - val_loss: 0.5147 - val_accuracy: 1.0000 - 39ms/epoch - 4ms/step\n",
      "Epoch 275/300\n",
      "9/9 - 0s - loss: 0.5338 - accuracy: 0.9556 - val_loss: 0.5361 - val_accuracy: 0.8889 - 49ms/epoch - 5ms/step\n",
      "Epoch 276/300\n",
      "9/9 - 0s - loss: 0.5402 - accuracy: 0.9778 - val_loss: 0.5257 - val_accuracy: 0.8889 - 48ms/epoch - 5ms/step\n",
      "Epoch 277/300\n",
      "9/9 - 0s - loss: 0.5417 - accuracy: 0.9222 - val_loss: 0.5158 - val_accuracy: 0.8889 - 50ms/epoch - 6ms/step\n",
      "Epoch 278/300\n",
      "9/9 - 0s - loss: 0.5655 - accuracy: 0.9222 - val_loss: 0.5014 - val_accuracy: 1.0000 - 47ms/epoch - 5ms/step\n",
      "Epoch 279/300\n",
      "9/9 - 0s - loss: 0.5439 - accuracy: 0.9667 - val_loss: 0.5098 - val_accuracy: 0.8889 - 39ms/epoch - 4ms/step\n",
      "Epoch 280/300\n",
      "9/9 - 0s - loss: 0.5296 - accuracy: 0.9556 - val_loss: 0.5033 - val_accuracy: 1.0000 - 49ms/epoch - 5ms/step\n",
      "Epoch 281/300\n",
      "9/9 - 0s - loss: 0.5258 - accuracy: 0.9444 - val_loss: 0.5039 - val_accuracy: 1.0000 - 49ms/epoch - 5ms/step\n",
      "Epoch 282/300\n",
      "9/9 - 0s - loss: 0.5253 - accuracy: 0.9333 - val_loss: 0.4944 - val_accuracy: 1.0000 - 49ms/epoch - 5ms/step\n",
      "Epoch 283/300\n",
      "9/9 - 0s - loss: 0.5223 - accuracy: 0.9667 - val_loss: 0.4880 - val_accuracy: 1.0000 - 49ms/epoch - 5ms/step\n",
      "Epoch 284/300\n",
      "9/9 - 0s - loss: 0.5296 - accuracy: 0.8889 - val_loss: 0.4927 - val_accuracy: 1.0000 - 41ms/epoch - 5ms/step\n",
      "Epoch 285/300\n",
      "9/9 - 0s - loss: 0.5158 - accuracy: 0.9778 - val_loss: 0.4888 - val_accuracy: 1.0000 - 46ms/epoch - 5ms/step\n",
      "Epoch 286/300\n",
      "9/9 - 0s - loss: 0.4979 - accuracy: 0.9889 - val_loss: 0.4911 - val_accuracy: 1.0000 - 48ms/epoch - 5ms/step\n",
      "Epoch 287/300\n",
      "9/9 - 0s - loss: 0.5225 - accuracy: 0.9222 - val_loss: 0.4767 - val_accuracy: 1.0000 - 49ms/epoch - 5ms/step\n",
      "Epoch 288/300\n",
      "9/9 - 0s - loss: 0.5087 - accuracy: 0.9000 - val_loss: 0.4773 - val_accuracy: 1.0000 - 47ms/epoch - 5ms/step\n",
      "Epoch 289/300\n",
      "9/9 - 0s - loss: 0.4978 - accuracy: 0.9667 - val_loss: 0.4834 - val_accuracy: 1.0000 - 50ms/epoch - 6ms/step\n",
      "Epoch 290/300\n",
      "9/9 - 0s - loss: 0.4910 - accuracy: 0.9778 - val_loss: 0.4871 - val_accuracy: 0.8889 - 40ms/epoch - 4ms/step\n",
      "Epoch 291/300\n",
      "9/9 - 0s - loss: 0.5088 - accuracy: 0.9444 - val_loss: 0.5081 - val_accuracy: 0.7778 - 37ms/epoch - 4ms/step\n",
      "Epoch 292/300\n",
      "9/9 - 0s - loss: 0.4852 - accuracy: 0.9222 - val_loss: 0.4693 - val_accuracy: 1.0000 - 41ms/epoch - 5ms/step\n",
      "Epoch 293/300\n",
      "9/9 - 0s - loss: 0.5043 - accuracy: 0.9778 - val_loss: 0.4750 - val_accuracy: 1.0000 - 38ms/epoch - 4ms/step\n",
      "Epoch 294/300\n",
      "9/9 - 0s - loss: 0.4937 - accuracy: 0.9444 - val_loss: 0.4605 - val_accuracy: 1.0000 - 41ms/epoch - 5ms/step\n",
      "Epoch 295/300\n",
      "9/9 - 0s - loss: 0.4813 - accuracy: 0.9444 - val_loss: 0.4613 - val_accuracy: 1.0000 - 39ms/epoch - 4ms/step\n",
      "Epoch 296/300\n",
      "9/9 - 0s - loss: 0.4736 - accuracy: 0.9889 - val_loss: 0.4807 - val_accuracy: 0.8889 - 39ms/epoch - 4ms/step\n",
      "Epoch 297/300\n",
      "9/9 - 0s - loss: 0.5106 - accuracy: 0.9111 - val_loss: 0.4564 - val_accuracy: 1.0000 - 39ms/epoch - 4ms/step\n",
      "Epoch 298/300\n",
      "9/9 - 0s - loss: 0.4632 - accuracy: 0.9889 - val_loss: 0.4843 - val_accuracy: 0.8889 - 40ms/epoch - 4ms/step\n",
      "Epoch 299/300\n",
      "9/9 - 0s - loss: 0.4978 - accuracy: 0.9333 - val_loss: 0.4851 - val_accuracy: 0.7778 - 42ms/epoch - 5ms/step\n",
      "Epoch 300/300\n",
      "9/9 - 0s - loss: 0.5042 - accuracy: 0.9333 - val_loss: 0.4484 - val_accuracy: 1.0000 - 49ms/epoch - 5ms/step\n"
     ]
    }
   ],
   "source": [
    "hist = model.fit(x_train, Y_train,\n",
    "                epochs=300,\n",
    "                batch_size=10,\n",
    "                verbose=2, # 학습결과 출력 옵션 0:출력없음, 1:기본값, 2:에포크별 로그 상세출력\n",
    "                validation_data=(x_val, Y_val)\n",
    "                )"
   ]
  },
  {
   "cell_type": "markdown",
   "id": "07e2d0d5",
   "metadata": {},
   "source": [
    "# 6. 모델 평가하기(모델 학습과정 살펴보고 evalute)"
   ]
  },
  {
   "cell_type": "code",
   "execution_count": 12,
   "id": "640923f5",
   "metadata": {},
   "outputs": [
    {
     "data": {
      "text/plain": [
       "dict_keys(['loss', 'accuracy', 'val_loss', 'val_accuracy'])"
      ]
     },
     "execution_count": 12,
     "metadata": {},
     "output_type": "execute_result"
    }
   ],
   "source": [
    "hist.history.keys()"
   ]
  },
  {
   "cell_type": "code",
   "execution_count": 17,
   "id": "26b1edc2",
   "metadata": {},
   "outputs": [
    {
     "data": {
      "image/png": "[encoded data removed]",
      "text/plain": [
       "<Figure size 1000x800 with 2 Axes>"
      ]
     },
     "metadata": {},
     "output_type": "display_data"
    }
   ],
   "source": [
    "# 모델 학습과정 시각화\n",
    "import matplotlib.pyplot as plt\n",
    "fig, loss_ax = plt.subplots(figsize=(10, 8))\n",
    "loss_ax.plot(hist.history['loss'], 'y', label='train loss')\n",
    "loss_ax.plot(hist.history['val_loss'], 'r', label='val loss')\n",
    "loss_ax.set_xlabel('epoch')\n",
    "loss_ax.set_ylabel('loss')\n",
    "\n",
    "acc_ax = loss_ax.twinx() # loss_ax와 x축을 공유하는 acc_ax생성\n",
    "acc_ax.plot(hist.history['accuracy'], 'g', label='train accuracy')\n",
    "acc_ax.plot(hist.history['val_accuracy'], 'b', label = 'val accuracy')\n",
    "acc_ax.set_ylabel('accuracy')\n",
    "loss_ax.legend(loc='upper left')\n",
    "acc_ax.legend(loc='center right')\n",
    "plt.show()"
   ]
  },
  {
   "cell_type": "code",
   "execution_count": 18,
   "id": "188ede2d",
   "metadata": {},
   "outputs": [
    {
     "name": "stdout",
     "output_type": "stream",
     "text": [
      "9/9 [==============================] - 0s 2ms/step - loss: 0.4484 - accuracy: 1.0000\n"
     ]
    }
   ],
   "source": [
    "# 모델 평가\n",
    "score = model.evaluate(x_test, Y_test, batch_size=1)"
   ]
  },
  {
   "cell_type": "code",
   "execution_count": 19,
   "id": "d17b5e24",
   "metadata": {},
   "outputs": [
    {
     "data": {
      "text/plain": [
       "[0.44836780428886414, 1.0]"
      ]
     },
     "execution_count": 19,
     "metadata": {},
     "output_type": "execute_result"
    }
   ],
   "source": [
    "score # loss, accuracy"
   ]
  },
  {
   "cell_type": "code",
   "execution_count": 20,
   "id": "171164f1",
   "metadata": {},
   "outputs": [
    {
     "name": "stdout",
     "output_type": "stream",
     "text": [
      "평가된 loss :  0.44836780428886414\n",
      "평가된 accuracy :  100.0 %\n"
     ]
    }
   ],
   "source": [
    "print('평가된 loss : ', score[0])\n",
    "print('평가된 accuracy : ', score[1]*100, '%')"
   ]
  },
  {
   "cell_type": "markdown",
   "id": "ace21679",
   "metadata": {},
   "source": [
    "# 7. 모델 사용"
   ]
  },
  {
   "cell_type": "code",
   "execution_count": 22,
   "id": "892b7b31",
   "metadata": {},
   "outputs": [
    {
     "name": "stdout",
     "output_type": "stream",
     "text": [
      "1/1 [==============================] - 0s 21ms/step\n"
     ]
    },
    {
     "data": {
      "text/plain": [
       "array([[8.36327535e-11, 1.13835257e-14, 8.94832537e-02, 4.24357110e-13,\n",
       "        7.87504852e-01, 8.62034819e-11, 1.21772103e-01, 1.43951013e-13,\n",
       "        1.23862887e-03, 3.83561726e-14, 1.18295713e-06, 2.74577908e-12,\n",
       "        2.07370857e-10, 1.20684203e-12, 1.11937945e-14, 8.06634558e-14,\n",
       "        2.61109642e-19, 1.34035569e-14, 3.27160308e-26]], dtype=float32)"
      ]
     },
     "execution_count": 22,
     "metadata": {},
     "output_type": "execute_result"
    }
   ],
   "source": [
    "H = model.predict(np.array([[2]]))\n",
    "H"
   ]
  },
  {
   "cell_type": "code",
   "execution_count": 23,
   "id": "86882857",
   "metadata": {},
   "outputs": [
    {
     "name": "stdout",
     "output_type": "stream",
     "text": [
      "1/1 [==============================] - 0s 21ms/step\n"
     ]
    },
    {
     "data": {
      "text/plain": [
       "4"
      ]
     },
     "execution_count": 23,
     "metadata": {},
     "output_type": "execute_result"
    }
   ],
   "source": [
    "# 분류분석의 예측은 predict() 함수 후 argmax()\n",
    "model.predict(np.array([[2]])).argmax()"
   ]
  },
  {
   "cell_type": "code",
   "execution_count": 25,
   "id": "0f837686",
   "metadata": {},
   "outputs": [
    {
     "data": {
      "text/plain": [
       "78.75048518180847"
      ]
     },
     "execution_count": 25,
     "metadata": {},
     "output_type": "execute_result"
    }
   ],
   "source": [
    "# 4를 몇% 확률로 예측했는지 파악\n",
    "H[0, H.argmax()]*100"
   ]
  },
  {
   "cell_type": "markdown",
   "id": "bb0cdf97",
   "metadata": {},
   "source": [
    "# 7. 모델 저장하기"
   ]
  },
  {
   "cell_type": "code",
   "execution_count": 27,
   "id": "667d1b4c",
   "metadata": {},
   "outputs": [],
   "source": [
    "# model.save('model/02_deep.h5')\n",
    "from tensorflow.keras.models import save_model\n",
    "save_model(model, 'model/02_deep.h5')"
   ]
  },
  {
   "cell_type": "markdown",
   "id": "9582515b",
   "metadata": {},
   "source": [
    "## 저장된 모델 사용하기"
   ]
  },
  {
   "cell_type": "code",
   "execution_count": 29,
   "id": "f424cc38",
   "metadata": {},
   "outputs": [],
   "source": [
    "from tensorflow.keras.models import load_model\n",
    "model2 = load_model('model/02_deep.h5')"
   ]
  },
  {
   "cell_type": "code",
   "execution_count": null,
   "id": "7499d1a6",
   "metadata": {},
   "outputs": [],
   "source": []
  },
  {
   "cell_type": "code",
   "execution_count": null,
   "id": "799abcd5",
   "metadata": {},
   "outputs": [],
   "source": []
  },
  {
   "cell_type": "code",
   "execution_count": null,
   "id": "715e102e",
   "metadata": {},
   "outputs": [],
   "source": []
  },
  {
   "cell_type": "code",
   "execution_count": null,
   "id": "c87657b3",
   "metadata": {},
   "outputs": [],
   "source": []
  },
  {
   "cell_type": "code",
   "execution_count": null,
   "id": "2f7e12b1",
   "metadata": {},
   "outputs": [],
   "source": []
  }
 ],
 "metadata": {
  "kernelspec": {
   "display_name": "ml-dl-nlp",
   "language": "python",
   "name": "ml-dl-nlp"
  },
  "language_info": {
   "codemirror_mode": {
    "name": "ipython",
    "version": 3
   },
   "file_extension": ".py",
   "mimetype": "text/x-python",
   "name": "python",
   "nbconvert_exporter": "python",
   "pygments_lexer": "ipython3",
   "version": "3.10.18"
  },
  "toc": {
   "base_numbering": 1,
   "nav_menu": {},
   "number_sections": false,
   "sideBar": true,
   "skip_h1_title": false,
   "title_cell": "Table of Contents",
   "title_sidebar": "Contents",
   "toc_cell": false,
   "toc_position": {
    "height": "calc(100% - 180px)",
    "left": "10px",
    "top": "150px",
    "width": "289.55px"
   },
   "toc_section_display": true,
   "toc_window_display": true
  }
 },
 "nbformat": 4,
 "nbformat_minor": 5
}
