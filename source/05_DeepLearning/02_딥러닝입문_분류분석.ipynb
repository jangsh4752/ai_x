{
 "cells": [
  {
   "cell_type": "code",
   "execution_count": 1,
   "id": "274ccc60",
   "metadata": {},
   "outputs": [
    {
     "data": {
      "text/html": [
       "\n",
       "<style>\n",
       "div.container{width:86% !important;}\n",
       "div.cell.code_cell.rendered{width:100%;}\n",
       "div.CodeMirror {font-family:Consolas; font-size:12pt;}\n",
       "div.output {font-size:15pt; font-weight:bold;}\n",
       "div.input {font-family:Consolas; font-size:12pt;}\n",
       "div.prompt {min-width:70px;}\n",
       "div#toc-wrapper{padding-top:120px;}\n",
       "div.text_cell_render ul li{font-size:12pt;padding:5px;}\n",
       "table.dataframe{font-size:15px;}\n",
       "</style>\n"
      ],
      "text/plain": [
       "<IPython.core.display.HTML object>"
      ]
     },
     "metadata": {},
     "output_type": "display_data"
    }
   ],
   "source": [
    "from IPython.display import display, HTML\n",
    "display(HTML(\"\"\"\n",
    "<style>\n",
    "div.container{width:86% !important;}\n",
    "div.cell.code_cell.rendered{width:100%;}\n",
    "div.CodeMirror {font-family:Consolas; font-size:12pt;}\n",
    "div.output {font-size:15pt; font-weight:bold;}\n",
    "div.input {font-family:Consolas; font-size:12pt;}\n",
    "div.prompt {min-width:70px;}\n",
    "div#toc-wrapper{padding-top:120px;}\n",
    "div.text_cell_render ul li{font-size:12pt;padding:5px;}\n",
    "table.dataframe{font-size:15px;}\n",
    "</style>\n",
    "\"\"\"))"
   ]
  },
  {
   "cell_type": "code",
   "execution_count": 2,
   "id": "29888e74",
   "metadata": {},
   "outputs": [],
   "source": [
    "from tensorflow.keras.utils import to_categorical # 분류분석 시 원핫인코딩\n",
    "from tensorflow.keras.models import Sequential # 모델 생성\n",
    "from tensorflow.keras.layers import Dense, Input\n",
    "import numpy as np"
   ]
  },
  {
   "cell_type": "markdown",
   "id": "075fae22",
   "metadata": {},
   "source": [
    "# 머신러닝/딥러닝 : 데이터의 법칙성을 추출\n",
    "- 다양한 분야에서 응용 : 글씨인식, 문장분류, 질병진단, ...\n",
    "※ML / DL의 종류\n",
    "- 지도학습(독립 = 입력변수와 종속=타겟=출력변수가 모두 주어졌을 경우)\n",
    "     회귀분석(타겟변수가 연속형) vs 분류분석(multi, binary)\n",
    "- 비지도학습(입력변수만)\n",
    "    군집화\n",
    "- 강화학습\n",
    "\n",
    "※ 지도학습에서의 ML, DL 프로그래밍 방식\n",
    "1. 데이터 셋 확보(input=입력변수, target=종속변수)\n",
    "    원본 데이터 및 시뮬레이션을 통해 데이터 생성\n",
    "2. 전처리\n",
    "    스케일 조정\n",
    "    훈련셋(학습셋), 검증셋, 시험셋(테스트셋)\n",
    "    학습 및 평가 가능한 포맷으로 변환\n",
    "3. 모델 구성\n",
    "    Sequential 객체 생성 뒤 필요한 층을 add()함수로 추가\n",
    "4. 모델 학습과정 설정\n",
    "    compile()함수 이용 - 손실함수, optimizer, metrics(평가지표)\n",
    "5. 모델 학습 (ft. 학습과정 지켜보기)\n",
    "    fit()함수 이용 - 훈련셋입력=독립변수, 훈련셋타겟=종속변수, 학습횟수, 검증셋"
   ]
  },
  {
   "cell_type": "markdown",
   "id": "4998bbac",
   "metadata": {},
   "source": [
    "# 1. 데이터 셋 생성"
   ]
  },
  {
   "cell_type": "markdown",
   "id": "4e1650a3",
   "metadata": {},
   "source": [
    "# 2. 데이터 전처리"
   ]
  },
  {
   "cell_type": "code",
   "execution_count": 3,
   "id": "35022f80",
   "metadata": {},
   "outputs": [
    {
     "data": {
      "text/plain": [
       "((90,), (9,), (9,), (90,), (9,), (9,))"
      ]
     },
     "execution_count": 3,
     "metadata": {},
     "output_type": "execute_result"
    }
   ],
   "source": [
    "# 학습데이터 = 훈련데이터\n",
    "x_train = np.array([1,2,3,4,5,6,7,8,9]*10)\n",
    "y_train = np.array([2,4,6,8,10,12,14,16,18]*10)\n",
    "# 검증데이터\n",
    "x_val = np.array([1,2,3,4,5,6,7,8,9])\n",
    "y_val = np.array([2,4,6,8,10,12,14,16,18])\n",
    "# 테스트셋 = 시험데이터\n",
    "x_test = np.array([1,2,3,4,5,6,7,8,9])\n",
    "y_test = np.array([2,4,6,8,10,12,14,16,18])\n",
    "x_train.shape, x_val.shape, x_test.shape, y_train.shape, y_val.shape, y_test.shape"
   ]
  },
  {
   "cell_type": "code",
   "execution_count": 4,
   "id": "4949320e",
   "metadata": {},
   "outputs": [
    {
     "name": "stdout",
     "output_type": "stream",
     "text": [
      "원 데이터 :  ['a' 'b' 'c' 'd']\n",
      "라벨인코딩된 데이터 :  [0 1 2 3]\n",
      "원핫인코딩된 데이터 :  [[1. 0. 0. 0.]\n",
      " [0. 1. 0. 0.]\n",
      " [0. 0. 1. 0.]\n",
      " [0. 0. 0. 1.]]\n"
     ]
    }
   ],
   "source": [
    "# 인코딩 종류\n",
    "data = np.array(['a', 'b', 'c', 'd'])\n",
    "print('원 데이터 : ', data)\n",
    "from sklearn.preprocessing import LabelEncoder\n",
    "le = LabelEncoder()\n",
    "# le.fit(data)\n",
    "# labeled_data = le.transform(data)\n",
    "labeled_data = le.fit_transform(data)\n",
    "print('라벨인코딩된 데이터 : ', labeled_data)\n",
    "one_hot_encoded_data = to_categorical(labeled_data)\n",
    "print('원핫인코딩된 데이터 : ', one_hot_encoded_data)"
   ]
  },
  {
   "cell_type": "code",
   "execution_count": 5,
   "id": "dc2f801a",
   "metadata": {},
   "outputs": [
    {
     "name": "stdout",
     "output_type": "stream",
     "text": [
      "[1 2 2 4 2]\n",
      "to_categorical을 이용한 원핫인코딩 : \n",
      " [[0. 1. 0. 0. 0.]\n",
      " [0. 0. 1. 0. 0.]\n",
      " [0. 0. 1. 0. 0.]\n",
      " [0. 0. 0. 0. 1.]\n",
      " [0. 0. 1. 0. 0.]]\n"
     ]
    },
    {
     "data": {
      "text/plain": [
       "'get_dummies를 이용한 원핫인코딩 : '"
      ]
     },
     "metadata": {},
     "output_type": "display_data"
    },
    {
     "data": {
      "text/html": [
       "<div>\n",
       "<style scoped>\n",
       "    .dataframe tbody tr th:only-of-type {\n",
       "        vertical-align: middle;\n",
       "    }\n",
       "\n",
       "    .dataframe tbody tr th {\n",
       "        vertical-align: top;\n",
       "    }\n",
       "\n",
       "    .dataframe thead th {\n",
       "        text-align: right;\n",
       "    }\n",
       "</style>\n",
       "<table border=\"1\" class=\"dataframe\">\n",
       "  <thead>\n",
       "    <tr style=\"text-align: right;\">\n",
       "      <th></th>\n",
       "      <th>1</th>\n",
       "      <th>2</th>\n",
       "      <th>4</th>\n",
       "    </tr>\n",
       "  </thead>\n",
       "  <tbody>\n",
       "    <tr>\n",
       "      <th>0</th>\n",
       "      <td>1</td>\n",
       "      <td>0</td>\n",
       "      <td>0</td>\n",
       "    </tr>\n",
       "    <tr>\n",
       "      <th>1</th>\n",
       "      <td>0</td>\n",
       "      <td>1</td>\n",
       "      <td>0</td>\n",
       "    </tr>\n",
       "    <tr>\n",
       "      <th>2</th>\n",
       "      <td>0</td>\n",
       "      <td>1</td>\n",
       "      <td>0</td>\n",
       "    </tr>\n",
       "    <tr>\n",
       "      <th>3</th>\n",
       "      <td>0</td>\n",
       "      <td>0</td>\n",
       "      <td>1</td>\n",
       "    </tr>\n",
       "    <tr>\n",
       "      <th>4</th>\n",
       "      <td>0</td>\n",
       "      <td>1</td>\n",
       "      <td>0</td>\n",
       "    </tr>\n",
       "  </tbody>\n",
       "</table>\n",
       "</div>"
      ],
      "text/plain": [
       "   1  2  4\n",
       "0  1  0  0\n",
       "1  0  1  0\n",
       "2  0  1  0\n",
       "3  0  0  1\n",
       "4  0  1  0"
      ]
     },
     "metadata": {},
     "output_type": "display_data"
    },
    {
     "name": "stdout",
     "output_type": "stream",
     "text": [
      "<class 'pandas.core.frame.DataFrame'>\n"
     ]
    }
   ],
   "source": [
    "# 분류분석을 위해 target을 원핫인코딩(라벨링 전환)\n",
    "data = np.array([1,2,2,4,2])\n",
    "print(data)\n",
    "categorical_one_hot = to_categorical(data)\n",
    "print('to_categorical을 이용한 원핫인코딩 : \\n', categorical_one_hot)\n",
    "import pandas as pd\n",
    "get_dummies_one_hot = pd.get_dummies(data)\n",
    "display('get_dummies를 이용한 원핫인코딩 : ', get_dummies_one_hot)\n",
    "print(type(get_dummies_one_hot))"
   ]
  },
  {
   "cell_type": "code",
   "execution_count": 6,
   "id": "458fadce",
   "metadata": {},
   "outputs": [
    {
     "data": {
      "text/plain": [
       "array([[0., 0., 1., 0., 0., 0., 0., 0., 0., 0., 0., 0., 0., 0., 0., 0.,\n",
       "        0., 0., 0.],\n",
       "       [0., 0., 0., 0., 1., 0., 0., 0., 0., 0., 0., 0., 0., 0., 0., 0.,\n",
       "        0., 0., 0.],\n",
       "       [0., 0., 0., 0., 0., 0., 1., 0., 0., 0., 0., 0., 0., 0., 0., 0.,\n",
       "        0., 0., 0.],\n",
       "       [0., 0., 0., 0., 0., 0., 0., 0., 1., 0., 0., 0., 0., 0., 0., 0.,\n",
       "        0., 0., 0.],\n",
       "       [0., 0., 0., 0., 0., 0., 0., 0., 0., 0., 1., 0., 0., 0., 0., 0.,\n",
       "        0., 0., 0.],\n",
       "       [0., 0., 0., 0., 0., 0., 0., 0., 0., 0., 0., 0., 1., 0., 0., 0.,\n",
       "        0., 0., 0.],\n",
       "       [0., 0., 0., 0., 0., 0., 0., 0., 0., 0., 0., 0., 0., 0., 1., 0.,\n",
       "        0., 0., 0.],\n",
       "       [0., 0., 0., 0., 0., 0., 0., 0., 0., 0., 0., 0., 0., 0., 0., 0.,\n",
       "        1., 0., 0.],\n",
       "       [0., 0., 0., 0., 0., 0., 0., 0., 0., 0., 0., 0., 0., 0., 0., 0.,\n",
       "        0., 0., 1.]], dtype=float32)"
      ]
     },
     "execution_count": 6,
     "metadata": {},
     "output_type": "execute_result"
    }
   ],
   "source": [
    "# 분류분석을 위한 target변수 라벨링 전환(=원핫인코딩)\n",
    "Y_train = to_categorical(y_train, 19)\n",
    "Y_val   = to_categorical(y_val)\n",
    "Y_test  = to_categorical(y_test)\n",
    "Y_test"
   ]
  },
  {
   "cell_type": "code",
   "execution_count": 7,
   "id": "65bdc37d",
   "metadata": {},
   "outputs": [
    {
     "name": "stdout",
     "output_type": "stream",
     "text": [
      "훈련셋 구조 :  (90,) (90, 19)\n",
      "검증셋 구조 :  (9,) (9, 19)\n",
      "테스트셋 구조 :  (9,) (9, 19)\n"
     ]
    }
   ],
   "source": [
    "print('훈련셋 구조 : ', x_train.shape, Y_train.shape) # 독립변수 1개, 타겟변수 19개\n",
    "print('검증셋 구조 : ', x_val.shape, Y_val.shape)\n",
    "print('테스트셋 구조 : ', x_test.shape, Y_test.shape)"
   ]
  },
  {
   "cell_type": "markdown",
   "id": "c4e42f08",
   "metadata": {},
   "source": [
    "# 3. 모델 구성하기"
   ]
  },
  {
   "cell_type": "code",
   "execution_count": 8,
   "id": "5c2361dc",
   "metadata": {},
   "outputs": [
    {
     "name": "stdout",
     "output_type": "stream",
     "text": [
      "Model: \"sequential\"\n",
      "_________________________________________________________________\n",
      " Layer (type)                Output Shape              Param #   \n",
      "=================================================================\n",
      " dense (Dense)               (None, 38)                76        \n",
      "                                                                 \n",
      " dense_1 (Dense)             (None, 64)                2496      \n",
      "                                                                 \n",
      " dense_2 (Dense)             (None, 32)                2080      \n",
      "                                                                 \n",
      " dense_3 (Dense)             (None, 19)                627       \n",
      "                                                                 \n",
      "=================================================================\n",
      "Total params: 5,279\n",
      "Trainable params: 5,279\n",
      "Non-trainable params: 0\n",
      "_________________________________________________________________\n"
     ]
    }
   ],
   "source": [
    "model = Sequential()\n",
    "model.add(Input(shape=(1, ))) # 입력층\n",
    "model.add(Dense(units=38, activation='sigmoid')) # units 출력수, sigmoid 활성화 함수(relu, tanh)\n",
    "model.add(Dense(units=64, activation='elu'))\n",
    "model.add(Dense(units=32, activation='elu'))\n",
    "model.add(Dense(units=19, activation='softmax'))\n",
    "# softmax : 모든 출력결과의 합이 1. 분류분석 마지막 layer(출력층)에서 activation으로\n",
    "model.summary()"
   ]
  },
  {
   "cell_type": "markdown",
   "id": "0b81ae33",
   "metadata": {},
   "source": []
  },
  {
   "cell_type": "markdown",
   "id": "f7b7f783",
   "metadata": {},
   "source": [
    "# 4. 모델 학습과정 설정"
   ]
  },
  {
   "cell_type": "code",
   "execution_count": 9,
   "id": "d8123259",
   "metadata": {},
   "outputs": [],
   "source": [
    "model.compile(loss=\"categorical_crossentropy\", # 분류분석에서의 손실함수(원핫인코딩有)\n",
    "             optimizer=\"sgd\",\n",
    "             metrics=['accuracy']) # 평가지표 : accuracy"
   ]
  },
  {
   "cell_type": "markdown",
   "id": "26a0078b",
   "metadata": {},
   "source": [
    "# 5. 모델 학습"
   ]
  },
  {
   "cell_type": "code",
   "execution_count": 10,
   "id": "29682deb",
   "metadata": {},
   "outputs": [
    {
     "name": "stdout",
     "output_type": "stream",
     "text": [
      "Epoch 1/300\n",
      "9/9 - 0s - loss: 3.0369 - accuracy: 0.0778 - val_loss: 2.9103 - val_accuracy: 0.1111 - 457ms/epoch - 51ms/step\n",
      "Epoch 2/300\n",
      "9/9 - 0s - loss: 2.8658 - accuracy: 0.0444 - val_loss: 2.7752 - val_accuracy: 0.1111 - 25ms/epoch - 3ms/step\n",
      "Epoch 3/300\n",
      "9/9 - 0s - loss: 2.7501 - accuracy: 0.1111 - val_loss: 2.6795 - val_accuracy: 0.1111 - 24ms/epoch - 3ms/step\n",
      "Epoch 4/300\n",
      "9/9 - 0s - loss: 2.6580 - accuracy: 0.0778 - val_loss: 2.6064 - val_accuracy: 0.0000e+00 - 25ms/epoch - 3ms/step\n",
      "Epoch 5/300\n",
      "9/9 - 0s - loss: 2.5900 - accuracy: 0.0000e+00 - val_loss: 2.5476 - val_accuracy: 0.0000e+00 - 23ms/epoch - 3ms/step\n",
      "Epoch 6/300\n",
      "9/9 - 0s - loss: 2.5430 - accuracy: 0.0333 - val_loss: 2.4980 - val_accuracy: 0.1111 - 26ms/epoch - 3ms/step\n",
      "Epoch 7/300\n",
      "9/9 - 0s - loss: 2.4954 - accuracy: 0.0889 - val_loss: 2.4557 - val_accuracy: 0.1111 - 24ms/epoch - 3ms/step\n",
      "Epoch 8/300\n",
      "9/9 - 0s - loss: 2.4531 - accuracy: 0.1111 - val_loss: 2.4183 - val_accuracy: 0.1111 - 24ms/epoch - 3ms/step\n",
      "Epoch 9/300\n",
      "9/9 - 0s - loss: 2.4235 - accuracy: 0.0889 - val_loss: 2.3857 - val_accuracy: 0.1111 - 27ms/epoch - 3ms/step\n",
      "Epoch 10/300\n",
      "9/9 - 0s - loss: 2.3892 - accuracy: 0.1333 - val_loss: 2.3566 - val_accuracy: 0.1111 - 24ms/epoch - 3ms/step\n",
      "Epoch 11/300\n",
      "9/9 - 0s - loss: 2.3693 - accuracy: 0.0333 - val_loss: 2.3306 - val_accuracy: 0.1111 - 25ms/epoch - 3ms/step\n",
      "Epoch 12/300\n",
      "9/9 - 0s - loss: 2.3367 - accuracy: 0.1222 - val_loss: 2.3072 - val_accuracy: 0.1111 - 24ms/epoch - 3ms/step\n",
      "Epoch 13/300\n",
      "9/9 - 0s - loss: 2.3130 - accuracy: 0.1667 - val_loss: 2.2858 - val_accuracy: 0.1111 - 24ms/epoch - 3ms/step\n",
      "Epoch 14/300\n",
      "9/9 - 0s - loss: 2.2901 - accuracy: 0.1556 - val_loss: 2.2665 - val_accuracy: 0.1111 - 24ms/epoch - 3ms/step\n",
      "Epoch 15/300\n",
      "9/9 - 0s - loss: 2.2750 - accuracy: 0.1778 - val_loss: 2.2485 - val_accuracy: 0.3333 - 26ms/epoch - 3ms/step\n",
      "Epoch 16/300\n",
      "9/9 - 0s - loss: 2.2516 - accuracy: 0.2333 - val_loss: 2.2316 - val_accuracy: 0.2222 - 25ms/epoch - 3ms/step\n",
      "Epoch 17/300\n",
      "9/9 - 0s - loss: 2.2411 - accuracy: 0.1222 - val_loss: 2.2159 - val_accuracy: 0.2222 - 24ms/epoch - 3ms/step\n",
      "Epoch 18/300\n",
      "9/9 - 0s - loss: 2.2289 - accuracy: 0.1000 - val_loss: 2.2012 - val_accuracy: 0.2222 - 23ms/epoch - 3ms/step\n",
      "Epoch 19/300\n",
      "9/9 - 0s - loss: 2.2153 - accuracy: 0.2000 - val_loss: 2.1873 - val_accuracy: 0.2222 - 24ms/epoch - 3ms/step\n",
      "Epoch 20/300\n",
      "9/9 - 0s - loss: 2.1973 - accuracy: 0.2000 - val_loss: 2.1743 - val_accuracy: 0.2222 - 27ms/epoch - 3ms/step\n",
      "Epoch 21/300\n",
      "9/9 - 0s - loss: 2.1891 - accuracy: 0.2333 - val_loss: 2.1614 - val_accuracy: 0.2222 - 25ms/epoch - 3ms/step\n",
      "Epoch 22/300\n",
      "9/9 - 0s - loss: 2.1771 - accuracy: 0.2111 - val_loss: 2.1497 - val_accuracy: 0.2222 - 24ms/epoch - 3ms/step\n",
      "Epoch 23/300\n",
      "9/9 - 0s - loss: 2.1652 - accuracy: 0.2556 - val_loss: 2.1374 - val_accuracy: 0.2222 - 24ms/epoch - 3ms/step\n",
      "Epoch 24/300\n",
      "9/9 - 0s - loss: 2.1524 - accuracy: 0.2667 - val_loss: 2.1262 - val_accuracy: 0.2222 - 24ms/epoch - 3ms/step\n",
      "Epoch 25/300\n",
      "9/9 - 0s - loss: 2.1373 - accuracy: 0.2444 - val_loss: 2.1155 - val_accuracy: 0.2222 - 23ms/epoch - 3ms/step\n",
      "Epoch 26/300\n",
      "9/9 - 0s - loss: 2.1291 - accuracy: 0.2667 - val_loss: 2.1049 - val_accuracy: 0.2222 - 25ms/epoch - 3ms/step\n",
      "Epoch 27/300\n",
      "9/9 - 0s - loss: 2.1240 - accuracy: 0.2222 - val_loss: 2.0939 - val_accuracy: 0.2222 - 23ms/epoch - 3ms/step\n",
      "Epoch 28/300\n",
      "9/9 - 0s - loss: 2.1060 - accuracy: 0.2778 - val_loss: 2.0830 - val_accuracy: 0.3333 - 23ms/epoch - 3ms/step\n",
      "Epoch 29/300\n",
      "9/9 - 0s - loss: 2.0938 - accuracy: 0.2556 - val_loss: 2.0720 - val_accuracy: 0.2222 - 23ms/epoch - 3ms/step\n",
      "Epoch 30/300\n",
      "9/9 - 0s - loss: 2.0928 - accuracy: 0.3000 - val_loss: 2.0619 - val_accuracy: 0.2222 - 23ms/epoch - 3ms/step\n",
      "Epoch 31/300\n",
      "9/9 - 0s - loss: 2.0759 - accuracy: 0.2667 - val_loss: 2.0507 - val_accuracy: 0.3333 - 23ms/epoch - 3ms/step\n",
      "Epoch 32/300\n",
      "9/9 - 0s - loss: 2.0660 - accuracy: 0.3222 - val_loss: 2.0404 - val_accuracy: 0.3333 - 23ms/epoch - 3ms/step\n",
      "Epoch 33/300\n",
      "9/9 - 0s - loss: 2.0512 - accuracy: 0.3222 - val_loss: 2.0298 - val_accuracy: 0.2222 - 25ms/epoch - 3ms/step\n",
      "Epoch 34/300\n",
      "9/9 - 0s - loss: 2.0473 - accuracy: 0.2667 - val_loss: 2.0186 - val_accuracy: 0.2222 - 25ms/epoch - 3ms/step\n",
      "Epoch 35/300\n",
      "9/9 - 0s - loss: 2.0326 - accuracy: 0.2444 - val_loss: 2.0076 - val_accuracy: 0.2222 - 23ms/epoch - 3ms/step\n",
      "Epoch 36/300\n",
      "9/9 - 0s - loss: 2.0204 - accuracy: 0.3000 - val_loss: 1.9975 - val_accuracy: 0.2222 - 24ms/epoch - 3ms/step\n",
      "Epoch 37/300\n",
      "9/9 - 0s - loss: 2.0222 - accuracy: 0.2667 - val_loss: 1.9852 - val_accuracy: 0.2222 - 24ms/epoch - 3ms/step\n",
      "Epoch 38/300\n",
      "9/9 - 0s - loss: 2.0014 - accuracy: 0.2111 - val_loss: 1.9742 - val_accuracy: 0.3333 - 24ms/epoch - 3ms/step\n",
      "Epoch 39/300\n",
      "9/9 - 0s - loss: 1.9935 - accuracy: 0.2889 - val_loss: 1.9634 - val_accuracy: 0.3333 - 24ms/epoch - 3ms/step\n",
      "Epoch 40/300\n",
      "9/9 - 0s - loss: 1.9810 - accuracy: 0.2667 - val_loss: 1.9519 - val_accuracy: 0.3333 - 23ms/epoch - 3ms/step\n",
      "Epoch 41/300\n",
      "9/9 - 0s - loss: 1.9644 - accuracy: 0.2889 - val_loss: 1.9396 - val_accuracy: 0.2222 - 23ms/epoch - 3ms/step\n",
      "Epoch 42/300\n",
      "9/9 - 0s - loss: 1.9544 - accuracy: 0.2667 - val_loss: 1.9280 - val_accuracy: 0.2222 - 24ms/epoch - 3ms/step\n",
      "Epoch 43/300\n",
      "9/9 - 0s - loss: 1.9410 - accuracy: 0.2556 - val_loss: 1.9163 - val_accuracy: 0.3333 - 23ms/epoch - 3ms/step\n",
      "Epoch 44/300\n",
      "9/9 - 0s - loss: 1.9291 - accuracy: 0.3000 - val_loss: 1.9045 - val_accuracy: 0.3333 - 23ms/epoch - 3ms/step\n",
      "Epoch 45/300\n",
      "9/9 - 0s - loss: 1.9165 - accuracy: 0.3778 - val_loss: 1.8925 - val_accuracy: 0.2222 - 23ms/epoch - 3ms/step\n",
      "Epoch 46/300\n",
      "9/9 - 0s - loss: 1.9119 - accuracy: 0.2556 - val_loss: 1.8806 - val_accuracy: 0.2222 - 24ms/epoch - 3ms/step\n",
      "Epoch 47/300\n",
      "9/9 - 0s - loss: 1.8990 - accuracy: 0.2333 - val_loss: 1.8680 - val_accuracy: 0.2222 - 24ms/epoch - 3ms/step\n",
      "Epoch 48/300\n",
      "9/9 - 0s - loss: 1.8784 - accuracy: 0.3111 - val_loss: 1.8556 - val_accuracy: 0.2222 - 25ms/epoch - 3ms/step\n",
      "Epoch 49/300\n",
      "9/9 - 0s - loss: 1.8708 - accuracy: 0.2889 - val_loss: 1.8433 - val_accuracy: 0.2222 - 23ms/epoch - 3ms/step\n",
      "Epoch 50/300\n",
      "9/9 - 0s - loss: 1.8637 - accuracy: 0.2333 - val_loss: 1.8315 - val_accuracy: 0.2222 - 23ms/epoch - 3ms/step\n",
      "Epoch 51/300\n",
      "9/9 - 0s - loss: 1.8528 - accuracy: 0.2444 - val_loss: 1.8186 - val_accuracy: 0.3333 - 26ms/epoch - 3ms/step\n",
      "Epoch 52/300\n",
      "9/9 - 0s - loss: 1.8354 - accuracy: 0.2778 - val_loss: 1.8063 - val_accuracy: 0.2222 - 24ms/epoch - 3ms/step\n",
      "Epoch 53/300\n",
      "9/9 - 0s - loss: 1.8214 - accuracy: 0.2889 - val_loss: 1.7937 - val_accuracy: 0.3333 - 24ms/epoch - 3ms/step\n",
      "Epoch 54/300\n",
      "9/9 - 0s - loss: 1.8083 - accuracy: 0.3000 - val_loss: 1.7811 - val_accuracy: 0.2222 - 25ms/epoch - 3ms/step\n",
      "Epoch 55/300\n",
      "9/9 - 0s - loss: 1.7990 - accuracy: 0.3222 - val_loss: 1.7686 - val_accuracy: 0.3333 - 25ms/epoch - 3ms/step\n",
      "Epoch 56/300\n",
      "9/9 - 0s - loss: 1.7832 - accuracy: 0.3333 - val_loss: 1.7564 - val_accuracy: 0.3333 - 24ms/epoch - 3ms/step\n",
      "Epoch 57/300\n",
      "9/9 - 0s - loss: 1.7691 - accuracy: 0.2889 - val_loss: 1.7443 - val_accuracy: 0.2222 - 23ms/epoch - 3ms/step\n",
      "Epoch 58/300\n",
      "9/9 - 0s - loss: 1.7555 - accuracy: 0.3889 - val_loss: 1.7317 - val_accuracy: 0.3333 - 23ms/epoch - 3ms/step\n",
      "Epoch 59/300\n",
      "9/9 - 0s - loss: 1.7507 - accuracy: 0.3222 - val_loss: 1.7194 - val_accuracy: 0.3333 - 24ms/epoch - 3ms/step\n",
      "Epoch 60/300\n",
      "9/9 - 0s - loss: 1.7317 - accuracy: 0.2667 - val_loss: 1.7072 - val_accuracy: 0.3333 - 23ms/epoch - 3ms/step\n",
      "Epoch 61/300\n",
      "9/9 - 0s - loss: 1.7222 - accuracy: 0.3667 - val_loss: 1.6956 - val_accuracy: 0.3333 - 24ms/epoch - 3ms/step\n",
      "Epoch 62/300\n",
      "9/9 - 0s - loss: 1.7072 - accuracy: 0.3778 - val_loss: 1.6832 - val_accuracy: 0.3333 - 23ms/epoch - 3ms/step\n",
      "Epoch 63/300\n",
      "9/9 - 0s - loss: 1.6991 - accuracy: 0.3444 - val_loss: 1.6716 - val_accuracy: 0.3333 - 24ms/epoch - 3ms/step\n",
      "Epoch 64/300\n",
      "9/9 - 0s - loss: 1.6873 - accuracy: 0.4222 - val_loss: 1.6598 - val_accuracy: 0.3333 - 24ms/epoch - 3ms/step\n",
      "Epoch 65/300\n",
      "9/9 - 0s - loss: 1.6786 - accuracy: 0.3222 - val_loss: 1.6486 - val_accuracy: 0.3333 - 22ms/epoch - 2ms/step\n",
      "Epoch 66/300\n",
      "9/9 - 0s - loss: 1.6589 - accuracy: 0.3444 - val_loss: 1.6371 - val_accuracy: 0.4444 - 22ms/epoch - 2ms/step\n",
      "Epoch 67/300\n",
      "9/9 - 0s - loss: 1.6664 - accuracy: 0.3667 - val_loss: 1.6248 - val_accuracy: 0.3333 - 24ms/epoch - 3ms/step\n",
      "Epoch 68/300\n",
      "9/9 - 0s - loss: 1.6450 - accuracy: 0.3000 - val_loss: 1.6139 - val_accuracy: 0.3333 - 26ms/epoch - 3ms/step\n"
     ]
    },
    {
     "name": "stdout",
     "output_type": "stream",
     "text": [
      "Epoch 69/300\n",
      "9/9 - 0s - loss: 1.6424 - accuracy: 0.3222 - val_loss: 1.6031 - val_accuracy: 0.4444 - 23ms/epoch - 3ms/step\n",
      "Epoch 70/300\n",
      "9/9 - 0s - loss: 1.6310 - accuracy: 0.3556 - val_loss: 1.5927 - val_accuracy: 0.3333 - 24ms/epoch - 3ms/step\n",
      "Epoch 71/300\n",
      "9/9 - 0s - loss: 1.6089 - accuracy: 0.3667 - val_loss: 1.5801 - val_accuracy: 0.5556 - 23ms/epoch - 3ms/step\n",
      "Epoch 72/300\n",
      "9/9 - 0s - loss: 1.6007 - accuracy: 0.3889 - val_loss: 1.5694 - val_accuracy: 0.5556 - 24ms/epoch - 3ms/step\n",
      "Epoch 73/300\n",
      "9/9 - 0s - loss: 1.5893 - accuracy: 0.4444 - val_loss: 1.5588 - val_accuracy: 0.5556 - 24ms/epoch - 3ms/step\n",
      "Epoch 74/300\n",
      "9/9 - 0s - loss: 1.5770 - accuracy: 0.4333 - val_loss: 1.5489 - val_accuracy: 0.4444 - 23ms/epoch - 3ms/step\n",
      "Epoch 75/300\n",
      "9/9 - 0s - loss: 1.5756 - accuracy: 0.4444 - val_loss: 1.5378 - val_accuracy: 0.3333 - 25ms/epoch - 3ms/step\n",
      "Epoch 76/300\n",
      "9/9 - 0s - loss: 1.5511 - accuracy: 0.3667 - val_loss: 1.5269 - val_accuracy: 0.4444 - 24ms/epoch - 3ms/step\n",
      "Epoch 77/300\n",
      "9/9 - 0s - loss: 1.5410 - accuracy: 0.4556 - val_loss: 1.5172 - val_accuracy: 0.5556 - 24ms/epoch - 3ms/step\n",
      "Epoch 78/300\n",
      "9/9 - 0s - loss: 1.5344 - accuracy: 0.5222 - val_loss: 1.5072 - val_accuracy: 0.5556 - 23ms/epoch - 3ms/step\n",
      "Epoch 79/300\n",
      "9/9 - 0s - loss: 1.5168 - accuracy: 0.5222 - val_loss: 1.4962 - val_accuracy: 0.5556 - 29ms/epoch - 3ms/step\n",
      "Epoch 80/300\n",
      "9/9 - 0s - loss: 1.5211 - accuracy: 0.4222 - val_loss: 1.4879 - val_accuracy: 0.5556 - 25ms/epoch - 3ms/step\n",
      "Epoch 81/300\n",
      "9/9 - 0s - loss: 1.5018 - accuracy: 0.4222 - val_loss: 1.4765 - val_accuracy: 0.5556 - 23ms/epoch - 3ms/step\n",
      "Epoch 82/300\n",
      "9/9 - 0s - loss: 1.4969 - accuracy: 0.5333 - val_loss: 1.4690 - val_accuracy: 0.6667 - 25ms/epoch - 3ms/step\n",
      "Epoch 83/300\n",
      "9/9 - 0s - loss: 1.4785 - accuracy: 0.5556 - val_loss: 1.4564 - val_accuracy: 0.5556 - 24ms/epoch - 3ms/step\n",
      "Epoch 84/300\n",
      "9/9 - 0s - loss: 1.4722 - accuracy: 0.5222 - val_loss: 1.4466 - val_accuracy: 0.6667 - 25ms/epoch - 3ms/step\n",
      "Epoch 85/300\n",
      "9/9 - 0s - loss: 1.4598 - accuracy: 0.5444 - val_loss: 1.4377 - val_accuracy: 0.5556 - 23ms/epoch - 3ms/step\n",
      "Epoch 86/300\n",
      "9/9 - 0s - loss: 1.4542 - accuracy: 0.5667 - val_loss: 1.4299 - val_accuracy: 0.6667 - 24ms/epoch - 3ms/step\n",
      "Epoch 87/300\n",
      "9/9 - 0s - loss: 1.4448 - accuracy: 0.6111 - val_loss: 1.4189 - val_accuracy: 0.4444 - 25ms/epoch - 3ms/step\n",
      "Epoch 88/300\n",
      "9/9 - 0s - loss: 1.4497 - accuracy: 0.5000 - val_loss: 1.4098 - val_accuracy: 0.6667 - 24ms/epoch - 3ms/step\n",
      "Epoch 89/300\n",
      "9/9 - 0s - loss: 1.4261 - accuracy: 0.6778 - val_loss: 1.4006 - val_accuracy: 0.6667 - 23ms/epoch - 3ms/step\n",
      "Epoch 90/300\n",
      "9/9 - 0s - loss: 1.4217 - accuracy: 0.5000 - val_loss: 1.3912 - val_accuracy: 0.6667 - 23ms/epoch - 3ms/step\n",
      "Epoch 91/300\n",
      "9/9 - 0s - loss: 1.4155 - accuracy: 0.6111 - val_loss: 1.3817 - val_accuracy: 0.6667 - 24ms/epoch - 3ms/step\n",
      "Epoch 92/300\n",
      "9/9 - 0s - loss: 1.3954 - accuracy: 0.6333 - val_loss: 1.3729 - val_accuracy: 0.6667 - 24ms/epoch - 3ms/step\n",
      "Epoch 93/300\n",
      "9/9 - 0s - loss: 1.3898 - accuracy: 0.5333 - val_loss: 1.3654 - val_accuracy: 0.6667 - 23ms/epoch - 3ms/step\n",
      "Epoch 94/300\n",
      "9/9 - 0s - loss: 1.3876 - accuracy: 0.5111 - val_loss: 1.3554 - val_accuracy: 0.6667 - 23ms/epoch - 3ms/step\n",
      "Epoch 95/300\n",
      "9/9 - 0s - loss: 1.3837 - accuracy: 0.5889 - val_loss: 1.3482 - val_accuracy: 0.6667 - 26ms/epoch - 3ms/step\n",
      "Epoch 96/300\n",
      "9/9 - 0s - loss: 1.3742 - accuracy: 0.6111 - val_loss: 1.3388 - val_accuracy: 0.7778 - 23ms/epoch - 3ms/step\n",
      "Epoch 97/300\n",
      "9/9 - 0s - loss: 1.3595 - accuracy: 0.6333 - val_loss: 1.3314 - val_accuracy: 0.7778 - 24ms/epoch - 3ms/step\n",
      "Epoch 98/300\n",
      "9/9 - 0s - loss: 1.3514 - accuracy: 0.7000 - val_loss: 1.3220 - val_accuracy: 0.7778 - 23ms/epoch - 3ms/step\n",
      "Epoch 99/300\n",
      "9/9 - 0s - loss: 1.3441 - accuracy: 0.5556 - val_loss: 1.3133 - val_accuracy: 0.6667 - 24ms/epoch - 3ms/step\n",
      "Epoch 100/300\n",
      "9/9 - 0s - loss: 1.3392 - accuracy: 0.6000 - val_loss: 1.3054 - val_accuracy: 0.7778 - 24ms/epoch - 3ms/step\n",
      "Epoch 101/300\n",
      "9/9 - 0s - loss: 1.3268 - accuracy: 0.5667 - val_loss: 1.2973 - val_accuracy: 0.6667 - 24ms/epoch - 3ms/step\n",
      "Epoch 102/300\n",
      "9/9 - 0s - loss: 1.3143 - accuracy: 0.7111 - val_loss: 1.2889 - val_accuracy: 0.7778 - 23ms/epoch - 3ms/step\n",
      "Epoch 103/300\n",
      "9/9 - 0s - loss: 1.3077 - accuracy: 0.7333 - val_loss: 1.2803 - val_accuracy: 0.7778 - 22ms/epoch - 2ms/step\n",
      "Epoch 104/300\n",
      "9/9 - 0s - loss: 1.2919 - accuracy: 0.6667 - val_loss: 1.2728 - val_accuracy: 0.6667 - 23ms/epoch - 3ms/step\n",
      "Epoch 105/300\n",
      "9/9 - 0s - loss: 1.2886 - accuracy: 0.6111 - val_loss: 1.2644 - val_accuracy: 0.5556 - 24ms/epoch - 3ms/step\n",
      "Epoch 106/300\n",
      "9/9 - 0s - loss: 1.2754 - accuracy: 0.5778 - val_loss: 1.2578 - val_accuracy: 0.6667 - 24ms/epoch - 3ms/step\n",
      "Epoch 107/300\n",
      "9/9 - 0s - loss: 1.2895 - accuracy: 0.6000 - val_loss: 1.2490 - val_accuracy: 0.6667 - 24ms/epoch - 3ms/step\n",
      "Epoch 108/300\n",
      "9/9 - 0s - loss: 1.2685 - accuracy: 0.7222 - val_loss: 1.2422 - val_accuracy: 0.6667 - 23ms/epoch - 3ms/step\n",
      "Epoch 109/300\n",
      "9/9 - 0s - loss: 1.2692 - accuracy: 0.5889 - val_loss: 1.2353 - val_accuracy: 0.5556 - 23ms/epoch - 3ms/step\n",
      "Epoch 110/300\n",
      "9/9 - 0s - loss: 1.2579 - accuracy: 0.6333 - val_loss: 1.2257 - val_accuracy: 0.6667 - 25ms/epoch - 3ms/step\n",
      "Epoch 111/300\n",
      "9/9 - 0s - loss: 1.2426 - accuracy: 0.7222 - val_loss: 1.2191 - val_accuracy: 0.6667 - 23ms/epoch - 3ms/step\n",
      "Epoch 112/300\n",
      "9/9 - 0s - loss: 1.2299 - accuracy: 0.6444 - val_loss: 1.2190 - val_accuracy: 0.5556 - 23ms/epoch - 3ms/step\n",
      "Epoch 113/300\n",
      "9/9 - 0s - loss: 1.2455 - accuracy: 0.5778 - val_loss: 1.2062 - val_accuracy: 0.7778 - 23ms/epoch - 3ms/step\n",
      "Epoch 114/300\n",
      "9/9 - 0s - loss: 1.2257 - accuracy: 0.7222 - val_loss: 1.1975 - val_accuracy: 0.7778 - 24ms/epoch - 3ms/step\n",
      "Epoch 115/300\n",
      "9/9 - 0s - loss: 1.2396 - accuracy: 0.6556 - val_loss: 1.1897 - val_accuracy: 0.7778 - 23ms/epoch - 3ms/step\n",
      "Epoch 116/300\n",
      "9/9 - 0s - loss: 1.2274 - accuracy: 0.7111 - val_loss: 1.1826 - val_accuracy: 0.7778 - 24ms/epoch - 3ms/step\n",
      "Epoch 117/300\n",
      "9/9 - 0s - loss: 1.2007 - accuracy: 0.6778 - val_loss: 1.1755 - val_accuracy: 0.7778 - 23ms/epoch - 3ms/step\n",
      "Epoch 118/300\n",
      "9/9 - 0s - loss: 1.1942 - accuracy: 0.7111 - val_loss: 1.1678 - val_accuracy: 0.7778 - 24ms/epoch - 3ms/step\n",
      "Epoch 119/300\n",
      "9/9 - 0s - loss: 1.1863 - accuracy: 0.7000 - val_loss: 1.1622 - val_accuracy: 0.8889 - 23ms/epoch - 3ms/step\n",
      "Epoch 120/300\n",
      "9/9 - 0s - loss: 1.1845 - accuracy: 0.7333 - val_loss: 1.1565 - val_accuracy: 0.7778 - 23ms/epoch - 3ms/step\n",
      "Epoch 121/300\n",
      "9/9 - 0s - loss: 1.1804 - accuracy: 0.7444 - val_loss: 1.1505 - val_accuracy: 0.8889 - 23ms/epoch - 3ms/step\n",
      "Epoch 122/300\n",
      "9/9 - 0s - loss: 1.1653 - accuracy: 0.7667 - val_loss: 1.1421 - val_accuracy: 0.8889 - 24ms/epoch - 3ms/step\n",
      "Epoch 123/300\n",
      "9/9 - 0s - loss: 1.1703 - accuracy: 0.7333 - val_loss: 1.1353 - val_accuracy: 0.8889 - 24ms/epoch - 3ms/step\n",
      "Epoch 124/300\n",
      "9/9 - 0s - loss: 1.1505 - accuracy: 0.7000 - val_loss: 1.1300 - val_accuracy: 1.0000 - 23ms/epoch - 3ms/step\n",
      "Epoch 125/300\n",
      "9/9 - 0s - loss: 1.1534 - accuracy: 0.7222 - val_loss: 1.1241 - val_accuracy: 0.8889 - 24ms/epoch - 3ms/step\n",
      "Epoch 126/300\n",
      "9/9 - 0s - loss: 1.1482 - accuracy: 0.7556 - val_loss: 1.1156 - val_accuracy: 0.7778 - 26ms/epoch - 3ms/step\n",
      "Epoch 127/300\n",
      "9/9 - 0s - loss: 1.1440 - accuracy: 0.7556 - val_loss: 1.1086 - val_accuracy: 0.7778 - 26ms/epoch - 3ms/step\n",
      "Epoch 128/300\n",
      "9/9 - 0s - loss: 1.1332 - accuracy: 0.7444 - val_loss: 1.1042 - val_accuracy: 0.7778 - 27ms/epoch - 3ms/step\n",
      "Epoch 129/300\n",
      "9/9 - 0s - loss: 1.1385 - accuracy: 0.7333 - val_loss: 1.0977 - val_accuracy: 0.6667 - 23ms/epoch - 3ms/step\n",
      "Epoch 130/300\n",
      "9/9 - 0s - loss: 1.1171 - accuracy: 0.6889 - val_loss: 1.0910 - val_accuracy: 0.7778 - 23ms/epoch - 3ms/step\n",
      "Epoch 131/300\n",
      "9/9 - 0s - loss: 1.1159 - accuracy: 0.7111 - val_loss: 1.0846 - val_accuracy: 0.7778 - 24ms/epoch - 3ms/step\n",
      "Epoch 132/300\n",
      "9/9 - 0s - loss: 1.0935 - accuracy: 0.7556 - val_loss: 1.0801 - val_accuracy: 0.8889 - 23ms/epoch - 3ms/step\n",
      "Epoch 133/300\n",
      "9/9 - 0s - loss: 1.1041 - accuracy: 0.8000 - val_loss: 1.0733 - val_accuracy: 0.6667 - 24ms/epoch - 3ms/step\n",
      "Epoch 134/300\n",
      "9/9 - 0s - loss: 1.1054 - accuracy: 0.7778 - val_loss: 1.0686 - val_accuracy: 0.7778 - 24ms/epoch - 3ms/step\n",
      "Epoch 135/300\n",
      "9/9 - 0s - loss: 1.0841 - accuracy: 0.8111 - val_loss: 1.0652 - val_accuracy: 0.7778 - 23ms/epoch - 3ms/step\n"
     ]
    },
    {
     "name": "stdout",
     "output_type": "stream",
     "text": [
      "Epoch 136/300\n",
      "9/9 - 0s - loss: 1.0815 - accuracy: 0.7889 - val_loss: 1.0552 - val_accuracy: 0.8889 - 24ms/epoch - 3ms/step\n",
      "Epoch 137/300\n",
      "9/9 - 0s - loss: 1.0766 - accuracy: 0.7778 - val_loss: 1.0502 - val_accuracy: 0.6667 - 25ms/epoch - 3ms/step\n",
      "Epoch 138/300\n",
      "9/9 - 0s - loss: 1.0731 - accuracy: 0.7111 - val_loss: 1.0435 - val_accuracy: 0.8889 - 25ms/epoch - 3ms/step\n",
      "Epoch 139/300\n",
      "9/9 - 0s - loss: 1.0755 - accuracy: 0.7111 - val_loss: 1.0383 - val_accuracy: 0.7778 - 26ms/epoch - 3ms/step\n",
      "Epoch 140/300\n",
      "9/9 - 0s - loss: 1.0659 - accuracy: 0.7444 - val_loss: 1.0331 - val_accuracy: 0.8889 - 23ms/epoch - 3ms/step\n",
      "Epoch 141/300\n",
      "9/9 - 0s - loss: 1.0539 - accuracy: 0.8222 - val_loss: 1.0281 - val_accuracy: 0.7778 - 24ms/epoch - 3ms/step\n",
      "Epoch 142/300\n",
      "9/9 - 0s - loss: 1.0504 - accuracy: 0.7667 - val_loss: 1.0223 - val_accuracy: 0.8889 - 23ms/epoch - 3ms/step\n",
      "Epoch 143/300\n",
      "9/9 - 0s - loss: 1.0599 - accuracy: 0.8000 - val_loss: 1.0185 - val_accuracy: 0.8889 - 24ms/epoch - 3ms/step\n",
      "Epoch 144/300\n",
      "9/9 - 0s - loss: 1.0458 - accuracy: 0.7889 - val_loss: 1.0155 - val_accuracy: 0.8889 - 23ms/epoch - 3ms/step\n",
      "Epoch 145/300\n",
      "9/9 - 0s - loss: 1.0318 - accuracy: 0.8000 - val_loss: 1.0076 - val_accuracy: 0.8889 - 24ms/epoch - 3ms/step\n",
      "Epoch 146/300\n",
      "9/9 - 0s - loss: 1.0253 - accuracy: 0.8333 - val_loss: 1.0001 - val_accuracy: 0.8889 - 23ms/epoch - 3ms/step\n",
      "Epoch 147/300\n",
      "9/9 - 0s - loss: 1.0256 - accuracy: 0.8556 - val_loss: 0.9950 - val_accuracy: 0.7778 - 24ms/epoch - 3ms/step\n",
      "Epoch 148/300\n",
      "9/9 - 0s - loss: 1.0283 - accuracy: 0.7556 - val_loss: 0.9882 - val_accuracy: 0.7778 - 24ms/epoch - 3ms/step\n",
      "Epoch 149/300\n",
      "9/9 - 0s - loss: 1.0106 - accuracy: 0.7000 - val_loss: 0.9855 - val_accuracy: 0.8889 - 24ms/epoch - 3ms/step\n",
      "Epoch 150/300\n",
      "9/9 - 0s - loss: 1.0134 - accuracy: 0.8222 - val_loss: 0.9786 - val_accuracy: 0.8889 - 25ms/epoch - 3ms/step\n",
      "Epoch 151/300\n",
      "9/9 - 0s - loss: 0.9972 - accuracy: 0.7000 - val_loss: 0.9785 - val_accuracy: 0.8889 - 24ms/epoch - 3ms/step\n",
      "Epoch 152/300\n",
      "9/9 - 0s - loss: 0.9969 - accuracy: 0.8333 - val_loss: 0.9778 - val_accuracy: 0.7778 - 24ms/epoch - 3ms/step\n",
      "Epoch 153/300\n",
      "9/9 - 0s - loss: 1.0011 - accuracy: 0.7667 - val_loss: 0.9714 - val_accuracy: 0.8889 - 24ms/epoch - 3ms/step\n",
      "Epoch 154/300\n",
      "9/9 - 0s - loss: 1.0079 - accuracy: 0.7111 - val_loss: 0.9583 - val_accuracy: 0.8889 - 24ms/epoch - 3ms/step\n",
      "Epoch 155/300\n",
      "9/9 - 0s - loss: 0.9821 - accuracy: 0.7333 - val_loss: 0.9557 - val_accuracy: 0.8889 - 23ms/epoch - 3ms/step\n",
      "Epoch 156/300\n",
      "9/9 - 0s - loss: 0.9734 - accuracy: 0.8333 - val_loss: 0.9490 - val_accuracy: 0.8889 - 26ms/epoch - 3ms/step\n",
      "Epoch 157/300\n",
      "9/9 - 0s - loss: 0.9794 - accuracy: 0.8222 - val_loss: 0.9439 - val_accuracy: 0.8889 - 26ms/epoch - 3ms/step\n",
      "Epoch 158/300\n",
      "9/9 - 0s - loss: 0.9743 - accuracy: 0.8111 - val_loss: 0.9406 - val_accuracy: 0.7778 - 25ms/epoch - 3ms/step\n",
      "Epoch 159/300\n",
      "9/9 - 0s - loss: 0.9721 - accuracy: 0.7556 - val_loss: 0.9378 - val_accuracy: 0.8889 - 26ms/epoch - 3ms/step\n",
      "Epoch 160/300\n",
      "9/9 - 0s - loss: 0.9632 - accuracy: 0.8111 - val_loss: 0.9337 - val_accuracy: 0.7778 - 26ms/epoch - 3ms/step\n",
      "Epoch 161/300\n",
      "9/9 - 0s - loss: 0.9547 - accuracy: 0.8000 - val_loss: 0.9238 - val_accuracy: 1.0000 - 25ms/epoch - 3ms/step\n",
      "Epoch 162/300\n",
      "9/9 - 0s - loss: 0.9423 - accuracy: 0.8444 - val_loss: 0.9218 - val_accuracy: 0.8889 - 23ms/epoch - 3ms/step\n",
      "Epoch 163/300\n",
      "9/9 - 0s - loss: 0.9567 - accuracy: 0.8556 - val_loss: 0.9275 - val_accuracy: 0.7778 - 22ms/epoch - 2ms/step\n",
      "Epoch 164/300\n",
      "9/9 - 0s - loss: 0.9488 - accuracy: 0.8000 - val_loss: 0.9114 - val_accuracy: 0.8889 - 24ms/epoch - 3ms/step\n",
      "Epoch 165/300\n",
      "9/9 - 0s - loss: 0.9378 - accuracy: 0.8333 - val_loss: 0.9158 - val_accuracy: 0.8889 - 25ms/epoch - 3ms/step\n",
      "Epoch 166/300\n",
      "9/9 - 0s - loss: 0.9283 - accuracy: 0.7889 - val_loss: 0.9007 - val_accuracy: 0.8889 - 26ms/epoch - 3ms/step\n",
      "Epoch 167/300\n",
      "9/9 - 0s - loss: 0.9302 - accuracy: 0.8889 - val_loss: 0.8966 - val_accuracy: 0.8889 - 25ms/epoch - 3ms/step\n",
      "Epoch 168/300\n",
      "9/9 - 0s - loss: 0.9461 - accuracy: 0.8222 - val_loss: 0.8920 - val_accuracy: 0.8889 - 24ms/epoch - 3ms/step\n",
      "Epoch 169/300\n",
      "9/9 - 0s - loss: 0.9192 - accuracy: 0.8000 - val_loss: 0.9016 - val_accuracy: 0.8889 - 27ms/epoch - 3ms/step\n",
      "Epoch 170/300\n",
      "9/9 - 0s - loss: 0.9247 - accuracy: 0.7667 - val_loss: 0.8816 - val_accuracy: 0.8889 - 24ms/epoch - 3ms/step\n",
      "Epoch 171/300\n",
      "9/9 - 0s - loss: 0.9060 - accuracy: 0.9000 - val_loss: 0.8778 - val_accuracy: 0.8889 - 23ms/epoch - 3ms/step\n",
      "Epoch 172/300\n",
      "9/9 - 0s - loss: 0.9051 - accuracy: 0.8333 - val_loss: 0.8729 - val_accuracy: 0.8889 - 23ms/epoch - 3ms/step\n",
      "Epoch 173/300\n",
      "9/9 - 0s - loss: 0.8935 - accuracy: 0.8889 - val_loss: 0.8682 - val_accuracy: 1.0000 - 24ms/epoch - 3ms/step\n",
      "Epoch 174/300\n",
      "9/9 - 0s - loss: 0.8968 - accuracy: 0.7778 - val_loss: 0.8710 - val_accuracy: 0.8889 - 25ms/epoch - 3ms/step\n",
      "Epoch 175/300\n",
      "9/9 - 0s - loss: 0.9007 - accuracy: 0.7889 - val_loss: 0.8617 - val_accuracy: 0.8889 - 25ms/epoch - 3ms/step\n",
      "Epoch 176/300\n",
      "9/9 - 0s - loss: 0.8950 - accuracy: 0.7889 - val_loss: 0.8592 - val_accuracy: 0.8889 - 23ms/epoch - 3ms/step\n",
      "Epoch 177/300\n",
      "9/9 - 0s - loss: 0.8941 - accuracy: 0.8222 - val_loss: 0.8532 - val_accuracy: 0.8889 - 24ms/epoch - 3ms/step\n",
      "Epoch 178/300\n",
      "9/9 - 0s - loss: 0.8808 - accuracy: 0.8000 - val_loss: 0.8576 - val_accuracy: 0.8889 - 22ms/epoch - 2ms/step\n",
      "Epoch 179/300\n",
      "9/9 - 0s - loss: 0.8786 - accuracy: 0.7778 - val_loss: 0.8488 - val_accuracy: 0.8889 - 23ms/epoch - 3ms/step\n",
      "Epoch 180/300\n",
      "9/9 - 0s - loss: 0.8851 - accuracy: 0.8111 - val_loss: 0.8401 - val_accuracy: 1.0000 - 24ms/epoch - 3ms/step\n",
      "Epoch 181/300\n",
      "9/9 - 0s - loss: 0.8674 - accuracy: 0.8333 - val_loss: 0.8406 - val_accuracy: 0.8889 - 26ms/epoch - 3ms/step\n",
      "Epoch 182/300\n",
      "9/9 - 0s - loss: 0.8863 - accuracy: 0.8556 - val_loss: 0.8439 - val_accuracy: 0.7778 - 24ms/epoch - 3ms/step\n",
      "Epoch 183/300\n",
      "9/9 - 0s - loss: 0.8531 - accuracy: 0.8111 - val_loss: 0.8349 - val_accuracy: 0.8889 - 23ms/epoch - 3ms/step\n",
      "Epoch 184/300\n",
      "9/9 - 0s - loss: 0.8608 - accuracy: 0.7889 - val_loss: 0.8262 - val_accuracy: 1.0000 - 23ms/epoch - 3ms/step\n",
      "Epoch 185/300\n",
      "9/9 - 0s - loss: 0.8649 - accuracy: 0.8667 - val_loss: 0.8260 - val_accuracy: 1.0000 - 23ms/epoch - 3ms/step\n",
      "Epoch 186/300\n",
      "9/9 - 0s - loss: 0.8495 - accuracy: 0.9000 - val_loss: 0.8148 - val_accuracy: 0.8889 - 23ms/epoch - 3ms/step\n",
      "Epoch 187/300\n",
      "9/9 - 0s - loss: 0.8444 - accuracy: 0.8333 - val_loss: 0.8115 - val_accuracy: 0.8889 - 24ms/epoch - 3ms/step\n",
      "Epoch 188/300\n",
      "9/9 - 0s - loss: 0.8431 - accuracy: 0.8889 - val_loss: 0.8080 - val_accuracy: 0.8889 - 23ms/epoch - 3ms/step\n",
      "Epoch 189/300\n",
      "9/9 - 0s - loss: 0.8259 - accuracy: 0.8111 - val_loss: 0.8293 - val_accuracy: 0.7778 - 24ms/epoch - 3ms/step\n",
      "Epoch 190/300\n",
      "9/9 - 0s - loss: 0.8420 - accuracy: 0.8667 - val_loss: 0.7974 - val_accuracy: 1.0000 - 23ms/epoch - 3ms/step\n",
      "Epoch 191/300\n",
      "9/9 - 0s - loss: 0.8261 - accuracy: 0.9000 - val_loss: 0.7950 - val_accuracy: 1.0000 - 24ms/epoch - 3ms/step\n",
      "Epoch 192/300\n",
      "9/9 - 0s - loss: 0.8146 - accuracy: 0.9333 - val_loss: 0.7969 - val_accuracy: 0.8889 - 24ms/epoch - 3ms/step\n",
      "Epoch 193/300\n",
      "9/9 - 0s - loss: 0.8282 - accuracy: 0.8444 - val_loss: 0.7955 - val_accuracy: 0.8889 - 24ms/epoch - 3ms/step\n",
      "Epoch 194/300\n",
      "9/9 - 0s - loss: 0.8248 - accuracy: 0.8222 - val_loss: 0.7909 - val_accuracy: 0.8889 - 26ms/epoch - 3ms/step\n",
      "Epoch 195/300\n",
      "9/9 - 0s - loss: 0.8388 - accuracy: 0.8333 - val_loss: 0.7799 - val_accuracy: 0.8889 - 24ms/epoch - 3ms/step\n",
      "Epoch 196/300\n",
      "9/9 - 0s - loss: 0.8113 - accuracy: 0.8667 - val_loss: 0.7813 - val_accuracy: 0.8889 - 24ms/epoch - 3ms/step\n",
      "Epoch 197/300\n",
      "9/9 - 0s - loss: 0.8123 - accuracy: 0.8222 - val_loss: 0.7815 - val_accuracy: 0.8889 - 23ms/epoch - 3ms/step\n",
      "Epoch 198/300\n",
      "9/9 - 0s - loss: 0.8044 - accuracy: 0.8333 - val_loss: 0.7819 - val_accuracy: 0.7778 - 23ms/epoch - 3ms/step\n",
      "Epoch 199/300\n",
      "9/9 - 0s - loss: 0.8067 - accuracy: 0.8333 - val_loss: 0.7713 - val_accuracy: 0.7778 - 24ms/epoch - 3ms/step\n",
      "Epoch 200/300\n",
      "9/9 - 0s - loss: 0.8051 - accuracy: 0.8000 - val_loss: 0.7637 - val_accuracy: 1.0000 - 24ms/epoch - 3ms/step\n",
      "Epoch 201/300\n",
      "9/9 - 0s - loss: 0.7872 - accuracy: 0.8889 - val_loss: 0.7647 - val_accuracy: 0.8889 - 24ms/epoch - 3ms/step\n",
      "Epoch 202/300\n",
      "9/9 - 0s - loss: 0.7904 - accuracy: 0.8778 - val_loss: 0.7614 - val_accuracy: 0.8889 - 22ms/epoch - 2ms/step\n"
     ]
    },
    {
     "name": "stdout",
     "output_type": "stream",
     "text": [
      "Epoch 203/300\n",
      "9/9 - 0s - loss: 0.7793 - accuracy: 0.8444 - val_loss: 0.7569 - val_accuracy: 1.0000 - 24ms/epoch - 3ms/step\n",
      "Epoch 204/300\n",
      "9/9 - 0s - loss: 0.7827 - accuracy: 0.8778 - val_loss: 0.7468 - val_accuracy: 0.8889 - 23ms/epoch - 3ms/step\n",
      "Epoch 205/300\n",
      "9/9 - 0s - loss: 0.7823 - accuracy: 0.8111 - val_loss: 0.7452 - val_accuracy: 0.8889 - 23ms/epoch - 3ms/step\n",
      "Epoch 206/300\n",
      "9/9 - 0s - loss: 0.7697 - accuracy: 0.7667 - val_loss: 0.7530 - val_accuracy: 0.8889 - 24ms/epoch - 3ms/step\n",
      "Epoch 207/300\n",
      "9/9 - 0s - loss: 0.7829 - accuracy: 0.8444 - val_loss: 0.7392 - val_accuracy: 1.0000 - 23ms/epoch - 3ms/step\n",
      "Epoch 208/300\n",
      "9/9 - 0s - loss: 0.7558 - accuracy: 0.8667 - val_loss: 0.7451 - val_accuracy: 0.8889 - 24ms/epoch - 3ms/step\n",
      "Epoch 209/300\n",
      "9/9 - 0s - loss: 0.7688 - accuracy: 0.8889 - val_loss: 0.7299 - val_accuracy: 0.8889 - 23ms/epoch - 3ms/step\n",
      "Epoch 210/300\n",
      "9/9 - 0s - loss: 0.7629 - accuracy: 0.7778 - val_loss: 0.7341 - val_accuracy: 0.8889 - 23ms/epoch - 3ms/step\n",
      "Epoch 211/300\n",
      "9/9 - 0s - loss: 0.7574 - accuracy: 0.8111 - val_loss: 0.7310 - val_accuracy: 0.8889 - 26ms/epoch - 3ms/step\n",
      "Epoch 212/300\n",
      "9/9 - 0s - loss: 0.7693 - accuracy: 0.8222 - val_loss: 0.7191 - val_accuracy: 1.0000 - 24ms/epoch - 3ms/step\n",
      "Epoch 213/300\n",
      "9/9 - 0s - loss: 0.7513 - accuracy: 0.9111 - val_loss: 0.7274 - val_accuracy: 0.8889 - 23ms/epoch - 3ms/step\n",
      "Epoch 214/300\n",
      "9/9 - 0s - loss: 0.7743 - accuracy: 0.8333 - val_loss: 0.7102 - val_accuracy: 1.0000 - 23ms/epoch - 3ms/step\n",
      "Epoch 215/300\n",
      "9/9 - 0s - loss: 0.7351 - accuracy: 0.9000 - val_loss: 0.7106 - val_accuracy: 0.8889 - 24ms/epoch - 3ms/step\n",
      "Epoch 216/300\n",
      "9/9 - 0s - loss: 0.7473 - accuracy: 0.9222 - val_loss: 0.7040 - val_accuracy: 0.8889 - 24ms/epoch - 3ms/step\n",
      "Epoch 217/300\n",
      "9/9 - 0s - loss: 0.7299 - accuracy: 0.9000 - val_loss: 0.7065 - val_accuracy: 0.8889 - 23ms/epoch - 3ms/step\n",
      "Epoch 218/300\n",
      "9/9 - 0s - loss: 0.7366 - accuracy: 0.9000 - val_loss: 0.6979 - val_accuracy: 1.0000 - 24ms/epoch - 3ms/step\n",
      "Epoch 219/300\n",
      "9/9 - 0s - loss: 0.7210 - accuracy: 0.9222 - val_loss: 0.7035 - val_accuracy: 0.8889 - 24ms/epoch - 3ms/step\n",
      "Epoch 220/300\n",
      "9/9 - 0s - loss: 0.7231 - accuracy: 0.8889 - val_loss: 0.6970 - val_accuracy: 0.8889 - 23ms/epoch - 3ms/step\n",
      "Epoch 221/300\n",
      "9/9 - 0s - loss: 0.7340 - accuracy: 0.8333 - val_loss: 0.7010 - val_accuracy: 0.8889 - 22ms/epoch - 2ms/step\n",
      "Epoch 222/300\n",
      "9/9 - 0s - loss: 0.7198 - accuracy: 0.8333 - val_loss: 0.6925 - val_accuracy: 1.0000 - 24ms/epoch - 3ms/step\n",
      "Epoch 223/300\n",
      "9/9 - 0s - loss: 0.7244 - accuracy: 0.8778 - val_loss: 0.6898 - val_accuracy: 0.8889 - 23ms/epoch - 3ms/step\n",
      "Epoch 224/300\n",
      "9/9 - 0s - loss: 0.7032 - accuracy: 0.8778 - val_loss: 0.6805 - val_accuracy: 1.0000 - 23ms/epoch - 3ms/step\n",
      "Epoch 225/300\n",
      "9/9 - 0s - loss: 0.7260 - accuracy: 0.8778 - val_loss: 0.6768 - val_accuracy: 1.0000 - 24ms/epoch - 3ms/step\n",
      "Epoch 226/300\n",
      "9/9 - 0s - loss: 0.7038 - accuracy: 0.8778 - val_loss: 0.6862 - val_accuracy: 0.7778 - 23ms/epoch - 3ms/step\n",
      "Epoch 227/300\n",
      "9/9 - 0s - loss: 0.7046 - accuracy: 0.8889 - val_loss: 0.6642 - val_accuracy: 1.0000 - 24ms/epoch - 3ms/step\n",
      "Epoch 228/300\n",
      "9/9 - 0s - loss: 0.6909 - accuracy: 0.9111 - val_loss: 0.6744 - val_accuracy: 0.8889 - 24ms/epoch - 3ms/step\n",
      "Epoch 229/300\n",
      "9/9 - 0s - loss: 0.7058 - accuracy: 0.8778 - val_loss: 0.6661 - val_accuracy: 1.0000 - 22ms/epoch - 2ms/step\n",
      "Epoch 230/300\n",
      "9/9 - 0s - loss: 0.6933 - accuracy: 0.9222 - val_loss: 0.6599 - val_accuracy: 0.8889 - 23ms/epoch - 3ms/step\n",
      "Epoch 231/300\n",
      "9/9 - 0s - loss: 0.6820 - accuracy: 0.8667 - val_loss: 0.6803 - val_accuracy: 0.8889 - 23ms/epoch - 3ms/step\n",
      "Epoch 232/300\n",
      "9/9 - 0s - loss: 0.6774 - accuracy: 0.9333 - val_loss: 0.6617 - val_accuracy: 0.8889 - 25ms/epoch - 3ms/step\n",
      "Epoch 233/300\n",
      "9/9 - 0s - loss: 0.7156 - accuracy: 0.8444 - val_loss: 0.6578 - val_accuracy: 0.8889 - 24ms/epoch - 3ms/step\n",
      "Epoch 234/300\n",
      "9/9 - 0s - loss: 0.6965 - accuracy: 0.8778 - val_loss: 0.6516 - val_accuracy: 1.0000 - 23ms/epoch - 3ms/step\n",
      "Epoch 235/300\n",
      "9/9 - 0s - loss: 0.6800 - accuracy: 0.8667 - val_loss: 0.6469 - val_accuracy: 0.8889 - 24ms/epoch - 3ms/step\n",
      "Epoch 236/300\n",
      "9/9 - 0s - loss: 0.6829 - accuracy: 0.9556 - val_loss: 0.6431 - val_accuracy: 1.0000 - 24ms/epoch - 3ms/step\n",
      "Epoch 237/300\n",
      "9/9 - 0s - loss: 0.6666 - accuracy: 0.9333 - val_loss: 0.6336 - val_accuracy: 1.0000 - 23ms/epoch - 3ms/step\n",
      "Epoch 238/300\n",
      "9/9 - 0s - loss: 0.6619 - accuracy: 0.9222 - val_loss: 0.6365 - val_accuracy: 1.0000 - 24ms/epoch - 3ms/step\n",
      "Epoch 239/300\n",
      "9/9 - 0s - loss: 0.6568 - accuracy: 0.9444 - val_loss: 0.6348 - val_accuracy: 0.8889 - 24ms/epoch - 3ms/step\n",
      "Epoch 240/300\n",
      "9/9 - 0s - loss: 0.6797 - accuracy: 0.7778 - val_loss: 0.6298 - val_accuracy: 0.8889 - 23ms/epoch - 3ms/step\n",
      "Epoch 241/300\n",
      "9/9 - 0s - loss: 0.6435 - accuracy: 0.9444 - val_loss: 0.6422 - val_accuracy: 0.8889 - 23ms/epoch - 3ms/step\n",
      "Epoch 242/300\n",
      "9/9 - 0s - loss: 0.6708 - accuracy: 0.8556 - val_loss: 0.6397 - val_accuracy: 0.7778 - 24ms/epoch - 3ms/step\n",
      "Epoch 243/300\n",
      "9/9 - 0s - loss: 0.6434 - accuracy: 0.8444 - val_loss: 0.6174 - val_accuracy: 0.8889 - 23ms/epoch - 3ms/step\n",
      "Epoch 244/300\n",
      "9/9 - 0s - loss: 0.6488 - accuracy: 0.8889 - val_loss: 0.6318 - val_accuracy: 0.7778 - 23ms/epoch - 3ms/step\n",
      "Epoch 245/300\n",
      "9/9 - 0s - loss: 0.6488 - accuracy: 0.8222 - val_loss: 0.6208 - val_accuracy: 1.0000 - 24ms/epoch - 3ms/step\n",
      "Epoch 246/300\n",
      "9/9 - 0s - loss: 0.6344 - accuracy: 0.8889 - val_loss: 0.6050 - val_accuracy: 1.0000 - 24ms/epoch - 3ms/step\n",
      "Epoch 247/300\n",
      "9/9 - 0s - loss: 0.6277 - accuracy: 0.9556 - val_loss: 0.6137 - val_accuracy: 0.8889 - 23ms/epoch - 3ms/step\n",
      "Epoch 248/300\n",
      "9/9 - 0s - loss: 0.6558 - accuracy: 0.8778 - val_loss: 0.6164 - val_accuracy: 0.8889 - 23ms/epoch - 3ms/step\n",
      "Epoch 249/300\n",
      "9/9 - 0s - loss: 0.6379 - accuracy: 0.9333 - val_loss: 0.6002 - val_accuracy: 1.0000 - 23ms/epoch - 3ms/step\n",
      "Epoch 250/300\n",
      "9/9 - 0s - loss: 0.6382 - accuracy: 0.9556 - val_loss: 0.5932 - val_accuracy: 1.0000 - 24ms/epoch - 3ms/step\n",
      "Epoch 251/300\n",
      "9/9 - 0s - loss: 0.6290 - accuracy: 0.9000 - val_loss: 0.5987 - val_accuracy: 1.0000 - 24ms/epoch - 3ms/step\n",
      "Epoch 252/300\n",
      "9/9 - 0s - loss: 0.6178 - accuracy: 0.9889 - val_loss: 0.5982 - val_accuracy: 1.0000 - 27ms/epoch - 3ms/step\n",
      "Epoch 253/300\n",
      "9/9 - 0s - loss: 0.6134 - accuracy: 0.9222 - val_loss: 0.5887 - val_accuracy: 1.0000 - 24ms/epoch - 3ms/step\n",
      "Epoch 254/300\n",
      "9/9 - 0s - loss: 0.6156 - accuracy: 0.9667 - val_loss: 0.6268 - val_accuracy: 0.8889 - 24ms/epoch - 3ms/step\n",
      "Epoch 255/300\n",
      "9/9 - 0s - loss: 0.6581 - accuracy: 0.8556 - val_loss: 0.6097 - val_accuracy: 0.8889 - 24ms/epoch - 3ms/step\n",
      "Epoch 256/300\n",
      "9/9 - 0s - loss: 0.6180 - accuracy: 0.9444 - val_loss: 0.5781 - val_accuracy: 0.8889 - 23ms/epoch - 3ms/step\n",
      "Epoch 257/300\n",
      "9/9 - 0s - loss: 0.6067 - accuracy: 0.9556 - val_loss: 0.5814 - val_accuracy: 0.8889 - 23ms/epoch - 3ms/step\n",
      "Epoch 258/300\n",
      "9/9 - 0s - loss: 0.6084 - accuracy: 0.9111 - val_loss: 0.5733 - val_accuracy: 0.8889 - 24ms/epoch - 3ms/step\n",
      "Epoch 259/300\n",
      "9/9 - 0s - loss: 0.6116 - accuracy: 0.9333 - val_loss: 0.6009 - val_accuracy: 0.8889 - 23ms/epoch - 3ms/step\n",
      "Epoch 260/300\n",
      "9/9 - 0s - loss: 0.5794 - accuracy: 0.8667 - val_loss: 0.6058 - val_accuracy: 0.7778 - 23ms/epoch - 3ms/step\n",
      "Epoch 261/300\n",
      "9/9 - 0s - loss: 0.5974 - accuracy: 0.9000 - val_loss: 0.6150 - val_accuracy: 0.8889 - 22ms/epoch - 2ms/step\n",
      "Epoch 262/300\n",
      "9/9 - 0s - loss: 0.6205 - accuracy: 0.9333 - val_loss: 0.5680 - val_accuracy: 1.0000 - 24ms/epoch - 3ms/step\n",
      "Epoch 263/300\n",
      "9/9 - 0s - loss: 0.6168 - accuracy: 0.9000 - val_loss: 0.5631 - val_accuracy: 0.8889 - 23ms/epoch - 3ms/step\n",
      "Epoch 264/300\n",
      "9/9 - 0s - loss: 0.5773 - accuracy: 0.9222 - val_loss: 0.5683 - val_accuracy: 1.0000 - 24ms/epoch - 3ms/step\n",
      "Epoch 265/300\n",
      "9/9 - 0s - loss: 0.5755 - accuracy: 0.9111 - val_loss: 0.5740 - val_accuracy: 0.8889 - 23ms/epoch - 3ms/step\n",
      "Epoch 266/300\n",
      "9/9 - 0s - loss: 0.6193 - accuracy: 0.9111 - val_loss: 0.5460 - val_accuracy: 1.0000 - 22ms/epoch - 2ms/step\n",
      "Epoch 267/300\n",
      "9/9 - 0s - loss: 0.5998 - accuracy: 0.9444 - val_loss: 0.5529 - val_accuracy: 1.0000 - 22ms/epoch - 2ms/step\n",
      "Epoch 268/300\n",
      "9/9 - 0s - loss: 0.6122 - accuracy: 0.8778 - val_loss: 0.5684 - val_accuracy: 0.8889 - 24ms/epoch - 3ms/step\n",
      "Epoch 269/300\n",
      "9/9 - 0s - loss: 0.5678 - accuracy: 0.9556 - val_loss: 0.5642 - val_accuracy: 0.8889 - 23ms/epoch - 3ms/step\n"
     ]
    },
    {
     "name": "stdout",
     "output_type": "stream",
     "text": [
      "Epoch 270/300\n",
      "9/9 - 0s - loss: 0.5705 - accuracy: 0.9444 - val_loss: 0.5462 - val_accuracy: 0.8889 - 23ms/epoch - 3ms/step\n",
      "Epoch 271/300\n",
      "9/9 - 0s - loss: 0.5613 - accuracy: 0.8889 - val_loss: 0.5585 - val_accuracy: 0.8889 - 24ms/epoch - 3ms/step\n",
      "Epoch 272/300\n",
      "9/9 - 0s - loss: 0.5618 - accuracy: 0.8556 - val_loss: 0.5397 - val_accuracy: 1.0000 - 24ms/epoch - 3ms/step\n",
      "Epoch 273/300\n",
      "9/9 - 0s - loss: 0.5854 - accuracy: 0.9111 - val_loss: 0.5602 - val_accuracy: 0.8889 - 26ms/epoch - 3ms/step\n",
      "Epoch 274/300\n",
      "9/9 - 0s - loss: 0.5534 - accuracy: 0.9444 - val_loss: 0.5520 - val_accuracy: 0.8889 - 26ms/epoch - 3ms/step\n",
      "Epoch 275/300\n",
      "9/9 - 0s - loss: 0.5616 - accuracy: 0.8889 - val_loss: 0.5340 - val_accuracy: 0.8889 - 24ms/epoch - 3ms/step\n",
      "Epoch 276/300\n",
      "9/9 - 0s - loss: 0.5697 - accuracy: 0.8778 - val_loss: 0.5226 - val_accuracy: 1.0000 - 24ms/epoch - 3ms/step\n",
      "Epoch 277/300\n",
      "9/9 - 0s - loss: 0.5518 - accuracy: 0.9222 - val_loss: 0.5279 - val_accuracy: 1.0000 - 23ms/epoch - 3ms/step\n",
      "Epoch 278/300\n",
      "9/9 - 0s - loss: 0.5468 - accuracy: 0.9444 - val_loss: 0.5667 - val_accuracy: 0.8889 - 23ms/epoch - 3ms/step\n",
      "Epoch 279/300\n",
      "9/9 - 0s - loss: 0.5669 - accuracy: 0.9222 - val_loss: 0.5490 - val_accuracy: 0.8889 - 23ms/epoch - 3ms/step\n",
      "Epoch 280/300\n",
      "9/9 - 0s - loss: 0.5561 - accuracy: 0.9333 - val_loss: 0.5461 - val_accuracy: 0.8889 - 23ms/epoch - 3ms/step\n",
      "Epoch 281/300\n",
      "9/9 - 0s - loss: 0.6123 - accuracy: 0.8778 - val_loss: 0.5091 - val_accuracy: 1.0000 - 23ms/epoch - 3ms/step\n",
      "Epoch 282/300\n",
      "9/9 - 0s - loss: 0.5180 - accuracy: 0.9667 - val_loss: 0.5164 - val_accuracy: 1.0000 - 23ms/epoch - 3ms/step\n",
      "Epoch 283/300\n",
      "9/9 - 0s - loss: 0.5386 - accuracy: 0.9556 - val_loss: 0.5434 - val_accuracy: 0.8889 - 24ms/epoch - 3ms/step\n",
      "Epoch 284/300\n",
      "9/9 - 0s - loss: 0.5529 - accuracy: 0.8778 - val_loss: 0.5033 - val_accuracy: 1.0000 - 24ms/epoch - 3ms/step\n",
      "Epoch 285/300\n",
      "9/9 - 0s - loss: 0.5525 - accuracy: 0.8889 - val_loss: 0.5064 - val_accuracy: 1.0000 - 24ms/epoch - 3ms/step\n",
      "Epoch 286/300\n",
      "9/9 - 0s - loss: 0.5260 - accuracy: 0.9444 - val_loss: 0.5135 - val_accuracy: 1.0000 - 26ms/epoch - 3ms/step\n",
      "Epoch 287/300\n",
      "9/9 - 0s - loss: 0.5561 - accuracy: 0.9444 - val_loss: 0.5185 - val_accuracy: 0.8889 - 26ms/epoch - 3ms/step\n",
      "Epoch 288/300\n",
      "9/9 - 0s - loss: 0.5638 - accuracy: 0.8556 - val_loss: 0.4908 - val_accuracy: 1.0000 - 23ms/epoch - 3ms/step\n",
      "Epoch 289/300\n",
      "9/9 - 0s - loss: 0.5322 - accuracy: 0.9333 - val_loss: 0.4962 - val_accuracy: 1.0000 - 23ms/epoch - 3ms/step\n",
      "Epoch 290/300\n",
      "9/9 - 0s - loss: 0.5285 - accuracy: 0.9778 - val_loss: 0.5175 - val_accuracy: 0.8889 - 25ms/epoch - 3ms/step\n",
      "Epoch 291/300\n",
      "9/9 - 0s - loss: 0.5410 - accuracy: 0.9111 - val_loss: 0.4864 - val_accuracy: 1.0000 - 24ms/epoch - 3ms/step\n",
      "Epoch 292/300\n",
      "9/9 - 0s - loss: 0.5104 - accuracy: 0.9889 - val_loss: 0.4890 - val_accuracy: 1.0000 - 23ms/epoch - 3ms/step\n",
      "Epoch 293/300\n",
      "9/9 - 0s - loss: 0.5130 - accuracy: 0.9556 - val_loss: 0.4898 - val_accuracy: 1.0000 - 24ms/epoch - 3ms/step\n",
      "Epoch 294/300\n",
      "9/9 - 0s - loss: 0.5079 - accuracy: 0.9667 - val_loss: 0.4835 - val_accuracy: 1.0000 - 23ms/epoch - 3ms/step\n",
      "Epoch 295/300\n",
      "9/9 - 0s - loss: 0.5244 - accuracy: 0.9333 - val_loss: 0.4791 - val_accuracy: 1.0000 - 23ms/epoch - 3ms/step\n",
      "Epoch 296/300\n",
      "9/9 - 0s - loss: 0.5367 - accuracy: 0.9111 - val_loss: 0.4830 - val_accuracy: 1.0000 - 24ms/epoch - 3ms/step\n",
      "Epoch 297/300\n",
      "9/9 - 0s - loss: 0.5067 - accuracy: 0.9000 - val_loss: 0.4847 - val_accuracy: 0.8889 - 23ms/epoch - 3ms/step\n",
      "Epoch 298/300\n",
      "9/9 - 0s - loss: 0.4926 - accuracy: 0.9333 - val_loss: 0.4708 - val_accuracy: 1.0000 - 24ms/epoch - 3ms/step\n",
      "Epoch 299/300\n",
      "9/9 - 0s - loss: 0.4824 - accuracy: 0.9444 - val_loss: 0.4885 - val_accuracy: 0.8889 - 25ms/epoch - 3ms/step\n",
      "Epoch 300/300\n",
      "9/9 - 0s - loss: 0.4997 - accuracy: 0.9000 - val_loss: 0.4818 - val_accuracy: 0.8889 - 23ms/epoch - 3ms/step\n"
     ]
    }
   ],
   "source": [
    "hist = model.fit(x_train, Y_train,\n",
    "                epochs=300,\n",
    "                batch_size=10,\n",
    "                verbose=2, # 학습결과 출력 옵션 0:출력없음, 1:기본값, 2:에포크별 로그 상세출력\n",
    "                validation_data=(x_val, Y_val)\n",
    "                )"
   ]
  },
  {
   "cell_type": "markdown",
   "id": "07e2d0d5",
   "metadata": {},
   "source": [
    "# 6. 모델 평가하기(모델 학습과정 살펴보고 evalute)"
   ]
  },
  {
   "cell_type": "code",
   "execution_count": 11,
   "id": "640923f5",
   "metadata": {},
   "outputs": [
    {
     "data": {
      "text/plain": [
       "dict_keys(['loss', 'accuracy', 'val_loss', 'val_accuracy'])"
      ]
     },
     "execution_count": 11,
     "metadata": {},
     "output_type": "execute_result"
    }
   ],
   "source": [
    "hist.history.keys()"
   ]
  },
  {
   "cell_type": "code",
   "execution_count": 12,
   "id": "26b1edc2",
   "metadata": {},
   "outputs": [
    {
     "data": {
      "image/png": "[encoded data removed]",
      "text/plain": [
       "<Figure size 1000x800 with 2 Axes>"
      ]
     },
     "metadata": {},
     "output_type": "display_data"
    }
   ],
   "source": [
    "# 모델 학습과정 시각화\n",
    "import matplotlib.pyplot as plt\n",
    "fig, loss_ax = plt.subplots(figsize=(10, 8))\n",
    "loss_ax.plot(hist.history['loss'], 'y', label='train loss')\n",
    "loss_ax.plot(hist.history['val_loss'], 'r', label='val loss')\n",
    "loss_ax.set_xlabel('epoch')\n",
    "loss_ax.set_ylabel('loss')\n",
    "\n",
    "acc_ax = loss_ax.twinx() # loss_ax와 x축을 공유하는 acc_ax생성\n",
    "acc_ax.plot(hist.history['accuracy'], 'g', label='train accuracy')\n",
    "acc_ax.plot(hist.history['val_accuracy'], 'b', label = 'val accuracy')\n",
    "acc_ax.set_ylabel('accuracy')\n",
    "loss_ax.legend(loc='upper left')\n",
    "acc_ax.legend(loc='center right')\n",
    "plt.show()"
   ]
  },
  {
   "cell_type": "code",
   "execution_count": 13,
   "id": "188ede2d",
   "metadata": {},
   "outputs": [
    {
     "name": "stdout",
     "output_type": "stream",
     "text": [
      "9/9 [==============================] - 0s 881us/step - loss: 0.4818 - accuracy: 0.8889\n"
     ]
    }
   ],
   "source": [
    "# 모델 평가\n",
    "score = model.evaluate(x_test, Y_test, batch_size=1)"
   ]
  },
  {
   "cell_type": "code",
   "execution_count": 14,
   "id": "d17b5e24",
   "metadata": {},
   "outputs": [
    {
     "data": {
      "text/plain": [
       "[0.48177024722099304, 0.8888888955116272]"
      ]
     },
     "execution_count": 14,
     "metadata": {},
     "output_type": "execute_result"
    }
   ],
   "source": [
    "score # loss, accuracy"
   ]
  },
  {
   "cell_type": "code",
   "execution_count": 15,
   "id": "171164f1",
   "metadata": {},
   "outputs": [
    {
     "name": "stdout",
     "output_type": "stream",
     "text": [
      "평가된 loss :  0.48177024722099304\n",
      "평가된 accuracy :  88.88888955116272 %\n"
     ]
    }
   ],
   "source": [
    "print('평가된 loss : ', score[0])\n",
    "print('평가된 accuracy : ', score[1]*100, '%')"
   ]
  },
  {
   "cell_type": "markdown",
   "id": "ace21679",
   "metadata": {},
   "source": [
    "# 7. 모델 사용"
   ]
  },
  {
   "cell_type": "code",
   "execution_count": 16,
   "id": "892b7b31",
   "metadata": {},
   "outputs": [
    {
     "name": "stdout",
     "output_type": "stream",
     "text": [
      "1/1 [==============================] - 0s 71ms/step\n"
     ]
    },
    {
     "data": {
      "text/plain": [
       "array([[3.4452608e-13, 1.3571646e-12, 9.3483418e-02, 6.5119554e-10,\n",
       "        7.7880007e-01, 1.9203857e-11, 1.2623866e-01, 2.3008173e-11,\n",
       "        1.4756585e-03, 3.3425401e-11, 2.1432274e-06, 9.9178706e-13,\n",
       "        1.6119213e-09, 2.0560003e-09, 9.2581962e-14, 5.1095742e-11,\n",
       "        9.2733357e-19, 3.0042433e-12, 9.7363721e-26]], dtype=float32)"
      ]
     },
     "execution_count": 16,
     "metadata": {},
     "output_type": "execute_result"
    }
   ],
   "source": [
    "H = model.predict(np.array([[2]]))\n",
    "H"
   ]
  },
  {
   "cell_type": "code",
   "execution_count": 17,
   "id": "86882857",
   "metadata": {},
   "outputs": [
    {
     "name": "stdout",
     "output_type": "stream",
     "text": [
      "1/1 [==============================] - 0s 14ms/step\n"
     ]
    },
    {
     "data": {
      "text/plain": [
       "4"
      ]
     },
     "execution_count": 17,
     "metadata": {},
     "output_type": "execute_result"
    }
   ],
   "source": [
    "# 분류분석의 예측은 predict() 함수 후 argmax()\n",
    "model.predict(np.array([[2]])).argmax()"
   ]
  },
  {
   "cell_type": "code",
   "execution_count": 18,
   "id": "0f837686",
   "metadata": {},
   "outputs": [
    {
     "data": {
      "text/plain": [
       "77.88000702857971"
      ]
     },
     "execution_count": 18,
     "metadata": {},
     "output_type": "execute_result"
    }
   ],
   "source": [
    "# 4를 몇% 확률로 예측했는지 파악\n",
    "H[0, H.argmax()]*100"
   ]
  },
  {
   "cell_type": "markdown",
   "id": "bb0cdf97",
   "metadata": {},
   "source": [
    "# 7. 모델 저장하기"
   ]
  },
  {
   "cell_type": "code",
   "execution_count": 19,
   "id": "667d1b4c",
   "metadata": {},
   "outputs": [],
   "source": [
    "# model.save('model/02_deep.h5')\n",
    "from tensorflow.keras.models import save_model\n",
    "save_model(model, 'model/02_deep.h5')"
   ]
  },
  {
   "cell_type": "markdown",
   "id": "9582515b",
   "metadata": {},
   "source": [
    "## 저장된 모델 사용하기"
   ]
  },
  {
   "cell_type": "code",
   "execution_count": 20,
   "id": "f424cc38",
   "metadata": {},
   "outputs": [],
   "source": [
    "from tensorflow.keras.models import load_model\n",
    "model2 = load_model('model/02_deep.h5')"
   ]
  },
  {
   "cell_type": "code",
   "execution_count": null,
   "id": "7499d1a6",
   "metadata": {},
   "outputs": [],
   "source": []
  },
  {
   "cell_type": "code",
   "execution_count": null,
   "id": "799abcd5",
   "metadata": {},
   "outputs": [],
   "source": []
  },
  {
   "cell_type": "code",
   "execution_count": null,
   "id": "715e102e",
   "metadata": {},
   "outputs": [],
   "source": []
  },
  {
   "cell_type": "code",
   "execution_count": null,
   "id": "c87657b3",
   "metadata": {},
   "outputs": [],
   "source": []
  },
  {
   "cell_type": "code",
   "execution_count": null,
   "id": "2f7e12b1",
   "metadata": {},
   "outputs": [],
   "source": []
  }
 ],
 "metadata": {
  "kernelspec": {
   "display_name": "ml-dl-nlp",
   "language": "python",
   "name": "ml-dl-nlp"
  },
  "language_info": {
   "codemirror_mode": {
    "name": "ipython",
    "version": 3
   },
   "file_extension": ".py",
   "mimetype": "text/x-python",
   "name": "python",
   "nbconvert_exporter": "python",
   "pygments_lexer": "ipython3",
   "version": "3.10.18"
  },
  "toc": {
   "base_numbering": 1,
   "nav_menu": {},
   "number_sections": false,
   "sideBar": true,
   "skip_h1_title": false,
   "title_cell": "Table of Contents",
   "title_sidebar": "Contents",
   "toc_cell": false,
   "toc_position": {
    "height": "calc(100% - 180px)",
    "left": "10px",
    "top": "150px",
    "width": "289.55px"
   },
   "toc_section_display": true,
   "toc_window_display": true
  }
 },
 "nbformat": 4,
 "nbformat_minor": 5
}
