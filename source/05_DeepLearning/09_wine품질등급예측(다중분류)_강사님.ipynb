{
 "cells": [
  {
   "cell_type": "code",
   "execution_count": 1,
   "id": "18682b24",
   "metadata": {},
   "outputs": [
    {
     "data": {
      "text/html": [
       "\n",
       "<style>\n",
       "div.container{width:86% !important;}\n",
       "div.cell.code_cell.rendered{width:100%;}\n",
       "div.CodeMirror {font-family:Consolas; font-size:12pt;}\n",
       "div.output {font-size:15pt; font-weight:bold;}\n",
       "div.input {font-family:Consolas; font-size:12pt;}\n",
       "div.prompt {min-width:70px;}\n",
       "div#toc-wrapper{padding-top:120px;}\n",
       "div.text_cell_render ul li{font-size:12pt;padding:5px;}\n",
       "table.dataframe{font-size:15px;}\n",
       "</style>\n"
      ],
      "text/plain": [
       "<IPython.core.display.HTML object>"
      ]
     },
     "metadata": {},
     "output_type": "display_data"
    }
   ],
   "source": [
    "from IPython.display import display, HTML\n",
    "display(HTML(\"\"\"\n",
    "<style>\n",
    "div.container{width:86% !important;}\n",
    "div.cell.code_cell.rendered{width:100%;}\n",
    "div.CodeMirror {font-family:Consolas; font-size:12pt;}\n",
    "div.output {font-size:15pt; font-weight:bold;}\n",
    "div.input {font-family:Consolas; font-size:12pt;}\n",
    "div.prompt {min-width:70px;}\n",
    "div#toc-wrapper{padding-top:120px;}\n",
    "div.text_cell_render ul li{font-size:12pt;padding:5px;}\n",
    "table.dataframe{font-size:15px;}\n",
    "</style>\n",
    "\"\"\"))"
   ]
  },
  {
   "cell_type": "code",
   "execution_count": 2,
   "id": "84748c4e",
   "metadata": {},
   "outputs": [],
   "source": [
    "import numpy as np\n",
    "import pandas as pd\n",
    "from tensorflow.keras.datasets import mnist # mnist 훈련셋과 테스트셋\n",
    "from tensorflow.keras.utils import to_categorical # 원핫인코딩\n",
    "from tensorflow.keras.models import Sequential\n",
    "from tensorflow.keras.layers import Dense, Input, Dropout\n",
    "from matplotlib import pyplot as plt # 학습과정 loss와 acc 시각화\n",
    "# quiz에서는 scale조정, train_test_split 등을 추가\n",
    "from sklearn.preprocessing import MinMaxScaler, StandardScaler\n",
    "from sklearn.model_selection import train_test_split\n",
    "import os\n",
    "from tensorflow.keras.callbacks import EarlyStopping, Callback, ModelCheckpoint\n",
    "from tensorflow.keras.models import load_model, save_model"
   ]
  },
  {
   "cell_type": "markdown",
   "id": "ddfec9c2",
   "metadata": {},
   "source": [
    "- Red Wine 등급 예측\n",
    "\n",
    "```\n",
    "1. 데이터 셋 확보 및 전처리\n",
    "    csv -> 결측치 처리 -> 독립변수와 타겟변수 분리 -> 독립변수 스케일조정,\n",
    "    -> 타겟변수의 원핫인코딩 -> 훈련셋과 테스트셋분리(train_test_split이용 층화추출)\n",
    "2. 모델 구성(입력11, 출력6-get_dummies | 출력9-to_categorical) layer층 4\n",
    "3. 모델 학습 과정 설정\n",
    "4. 모델학습(callbacks이용)\n",
    "5. 모델 평가(그래프, 평가, 교차표)\n",
    "6. 모델저장 & 사용\n",
    "```"
   ]
  },
  {
   "cell_type": "markdown",
   "id": "47666055",
   "metadata": {},
   "source": [
    "# 1. 데이터 확보 & 전처리"
   ]
  },
  {
   "cell_type": "code",
   "execution_count": 3,
   "id": "c46e917d",
   "metadata": {},
   "outputs": [
    {
     "name": "stdout",
     "output_type": "stream",
     "text": [
      "결측치 확인\n",
      " fixed acidity           0\n",
      "volatile acidity        0\n",
      "citric acid             0\n",
      "residual sugar          0\n",
      "chlorides               0\n",
      "free sulfur dioxide     0\n",
      "total sulfur dioxide    0\n",
      "density                 0\n",
      "pH                      0\n",
      "sulphates               0\n",
      "alcohol                 0\n",
      "quality                 0\n",
      "dtype: int64\n",
      "타겟변수가 될 와인 등급 종류 :  [5 6 7 4 8 3]\n",
      "등급별 데이터 수 :\n",
      " 5    681\n",
      "6    638\n",
      "7    199\n",
      "4     53\n",
      "8     18\n",
      "3     10\n",
      "Name: quality, dtype: int64\n",
      "(1119, 11) (1119, 6) (480, 11) (480, 6)\n"
     ]
    }
   ],
   "source": [
    "# 데이터 읽어오기\n",
    "# fixed acidity : 고정 산도\n",
    "# volatile acidity : 휘발성 산도\n",
    "# citric acid : 시트르산\n",
    "# residual sugar : 잔류 당분\n",
    "# chlorides : 염화물\n",
    "# free sulfur dioxide : 자유 이산화황\n",
    "# total sulfur dioxide : 총 이산화황\n",
    "# density : 밀도\n",
    "# pH\n",
    "# sulphates : 황산염\n",
    "# alcohol\n",
    "# quality : 0 ~ 10(높을 수록 좋은 품질)\n",
    "redwine = pd.read_csv('data/winequality-red.csv', sep=';')\n",
    "# 결측치 확인\n",
    "print('결측치 확인\\n',redwine.isna().sum())\n",
    "# 독립변수와 타겟변수 분리\n",
    "redwine_X = redwine.iloc[:,:-1].to_numpy() # .values와 유사\n",
    "redwine_y = redwine.iloc[:,-1]\n",
    "print('타겟변수가 될 와인 등급 종류 : ', redwine_y.unique()) # 3,4,5,6,7,8 \n",
    "print('등급별 데이터 수 :\\n', redwine_y.value_counts()) # 3과 8은 데이터 수가 적어 못 맞출 듯\n",
    "\n",
    "# 독립변수 scale 조정\n",
    "scaler = StandardScaler()\n",
    "scaler.fit(redwine_X)\n",
    "scaled_X_redwine = scaler.transform(redwine_X)\n",
    "\n",
    "# 타겟변수 원핫인코딩 후 numpy 배열로 변환\n",
    "Y_redwine = pd.get_dummies(redwine_y).values # to_numpy()와 유사 0 0 0 0 0 1\n",
    "# Y_redwine = to_categorical(redwine_y) 0 0 0 0 0 0 0 0 1\n",
    "Y_redwine\n",
    "\n",
    "# 훈련셋과 테스트셋 분리 (7:3)\n",
    "X_train, X_test, Y_train, Y_test = train_test_split(scaled_X_redwine,\n",
    "                                                   Y_redwine,\n",
    "                                                   test_size=0.3, # 테스트셋비율\n",
    "                                                   random_state=7,\n",
    "                                                   stratify=Y_redwine) # 층화추출                                                   \n",
    "print(X_train.shape, Y_train.shape, X_test.shape, Y_test.shape)"
   ]
  },
  {
   "cell_type": "code",
   "execution_count": 4,
   "id": "1d88affa",
   "metadata": {},
   "outputs": [
    {
     "name": "stdout",
     "output_type": "stream",
     "text": [
      "train, test, all\n",
      "[[477 204 681]\n",
      " [446 192 638]\n",
      " [139  60 199]\n",
      " [ 37  16  53]\n",
      " [ 13   5  18]\n",
      " [  7   3  10]]\n"
     ]
    }
   ],
   "source": [
    "# 층화추출을 하면 등급별 7:3으로  shuffle 되서 추출\n",
    "print('train, test, all')\n",
    "print(\n",
    "np.c_[pd.Series(Y_train.argmax(axis=1)).value_counts(),\n",
    "      pd.Series(Y_test.argmax(axis=1)).value_counts(),\n",
    "     redwine_y.value_counts()]\n",
    ")"
   ]
  },
  {
   "cell_type": "markdown",
   "id": "d17bb7de",
   "metadata": {},
   "source": [
    "# 2. 모델 구성(입력11, 출력6) layer층 4"
   ]
  },
  {
   "cell_type": "code",
   "execution_count": 5,
   "id": "feb86058",
   "metadata": {},
   "outputs": [
    {
     "name": "stdout",
     "output_type": "stream",
     "text": [
      "Model: \"sequential\"\n",
      "_________________________________________________________________\n",
      " Layer (type)                Output Shape              Param #   \n",
      "=================================================================\n",
      " dense (Dense)               (None, 128)               1536      \n",
      "                                                                 \n",
      " dropout (Dropout)           (None, 128)               0         \n",
      "                                                                 \n",
      " dense_1 (Dense)             (None, 64)                8256      \n",
      "                                                                 \n",
      " dropout_1 (Dropout)         (None, 64)                0         \n",
      "                                                                 \n",
      " dense_2 (Dense)             (None, 30)                1950      \n",
      "                                                                 \n",
      " dense_3 (Dense)             (None, 6)                 186       \n",
      "                                                                 \n",
      "=================================================================\n",
      "Total params: 11,928\n",
      "Trainable params: 11,928\n",
      "Non-trainable params: 0\n",
      "_________________________________________________________________\n"
     ]
    }
   ],
   "source": [
    "# 2. 모델 구성하기\n",
    "model = Sequential()\n",
    "model.add(Input(shape=(11,))) # 의미있는 레이어가 아니고 input_dim만 지정\n",
    "model.add(Dense(units=128, activation=\"relu\"))\n",
    "model.add(Dropout(0.2))\n",
    "model.add(Dense(units=64, activation=\"relu\"))\n",
    "model.add(Dropout(0.2))\n",
    "model.add(Dense(units=30, activation=\"relu\"))\n",
    "model.add(Dense(units=6, activation=\"softmax\")) # 3 4 5 6 7 8 등급의 결과 합이 1\n",
    "model.summary()"
   ]
  },
  {
   "cell_type": "markdown",
   "id": "ad99efc4",
   "metadata": {},
   "source": [
    "# 3. 모델 학습 과정 설정"
   ]
  },
  {
   "cell_type": "code",
   "execution_count": 6,
   "id": "edd314ab",
   "metadata": {},
   "outputs": [],
   "source": [
    "model.compile(loss=\"categorical_crossentropy\", optimizer=\"adam\", metrics=['accuracy'])"
   ]
  },
  {
   "cell_type": "markdown",
   "id": "0f81d9d6",
   "metadata": {},
   "source": [
    "# 4. 모델학습(callbacks이용)"
   ]
  },
  {
   "cell_type": "code",
   "execution_count": 7,
   "id": "6252dfb8",
   "metadata": {},
   "outputs": [
    {
     "name": "stdout",
     "output_type": "stream",
     "text": [
      "\n",
      "Epoch 1: val_accuracy improved from -inf to 0.39286, saving model to ./model\\wine-001-val0.3929.h5\n",
      "\n",
      "Epoch 2: val_accuracy improved from 0.39286 to 0.56696, saving model to ./model\\wine-002-val0.5670.h5\n",
      "\n",
      "Epoch 3: val_accuracy did not improve from 0.56696\n",
      "\n",
      "Epoch 4: val_accuracy did not improve from 0.56696\n",
      "epoch:5, loss:1.2814172506332397, acc:0.54078209400177, val_loss:1.230356216430664, val_acc:0.5669642686843872\n",
      "\n",
      "Epoch 5: val_accuracy did not improve from 0.56696\n",
      "\n",
      "Epoch 6: val_accuracy improved from 0.56696 to 0.57143, saving model to ./model\\wine-006-val0.5714.h5\n",
      "\n",
      "Epoch 7: val_accuracy improved from 0.57143 to 0.57589, saving model to ./model\\wine-007-val0.5759.h5\n",
      "\n",
      "Epoch 8: val_accuracy improved from 0.57589 to 0.59821, saving model to ./model\\wine-008-val0.5982.h5\n",
      "\n",
      "Epoch 9: val_accuracy did not improve from 0.59821\n",
      "epoch:10, loss:1.0638680458068848, acc:0.5698323845863342, val_loss:1.0501291751861572, val_acc:0.5892857313156128\n",
      "\n",
      "Epoch 10: val_accuracy did not improve from 0.59821\n",
      "\n",
      "Epoch 11: val_accuracy improved from 0.59821 to 0.61161, saving model to ./model\\wine-011-val0.6116.h5\n",
      "\n",
      "Epoch 12: val_accuracy did not improve from 0.61161\n",
      "\n",
      "Epoch 13: val_accuracy did not improve from 0.61161\n",
      "\n",
      "Epoch 14: val_accuracy did not improve from 0.61161\n",
      "epoch:15, loss:0.9910558462142944, acc:0.5776536464691162, val_loss:1.0121043920516968, val_acc:0.6116071343421936\n",
      "\n",
      "Epoch 15: val_accuracy did not improve from 0.61161\n",
      "\n",
      "Epoch 16: val_accuracy improved from 0.61161 to 0.62054, saving model to ./model\\wine-016-val0.6205.h5\n",
      "\n",
      "Epoch 17: val_accuracy did not improve from 0.62054\n",
      "\n",
      "Epoch 18: val_accuracy did not improve from 0.62054\n",
      "\n",
      "Epoch 19: val_accuracy improved from 0.62054 to 0.62500, saving model to ./model\\wine-019-val0.6250.h5\n",
      "epoch:20, loss:0.9496574997901917, acc:0.5955307483673096, val_loss:0.9982944130897522, val_acc:0.6383928656578064\n",
      "\n",
      "Epoch 20: val_accuracy improved from 0.62500 to 0.63839, saving model to ./model\\wine-020-val0.6384.h5\n",
      "\n",
      "Epoch 21: val_accuracy did not improve from 0.63839\n",
      "\n",
      "Epoch 22: val_accuracy did not improve from 0.63839\n",
      "\n",
      "Epoch 23: val_accuracy did not improve from 0.63839\n",
      "\n",
      "Epoch 24: val_accuracy did not improve from 0.63839\n",
      "epoch:25, loss:0.9142597317695618, acc:0.5910614728927612, val_loss:0.9837750196456909, val_acc:0.6428571343421936\n",
      "\n",
      "Epoch 25: val_accuracy improved from 0.63839 to 0.64286, saving model to ./model\\wine-025-val0.6429.h5\n",
      "\n",
      "Epoch 26: val_accuracy did not improve from 0.64286\n",
      "\n",
      "Epoch 27: val_accuracy did not improve from 0.64286\n",
      "\n",
      "Epoch 28: val_accuracy did not improve from 0.64286\n",
      "\n",
      "Epoch 29: val_accuracy did not improve from 0.64286\n",
      "epoch:30, loss:0.8944483399391174, acc:0.5955307483673096, val_loss:0.9839680790901184, val_acc:0.6205357313156128\n",
      "\n",
      "Epoch 30: val_accuracy did not improve from 0.64286\n",
      "\n",
      "Epoch 31: val_accuracy did not improve from 0.64286\n",
      "\n",
      "Epoch 32: val_accuracy did not improve from 0.64286\n",
      "\n",
      "Epoch 33: val_accuracy did not improve from 0.64286\n",
      "\n",
      "Epoch 34: val_accuracy improved from 0.64286 to 0.64732, saving model to ./model\\wine-034-val0.6473.h5\n",
      "epoch:35, loss:0.8885898590087891, acc:0.624580979347229, val_loss:0.978936493396759, val_acc:0.6473214030265808\n",
      "\n",
      "Epoch 35: val_accuracy did not improve from 0.64732\n",
      "\n",
      "Epoch 36: val_accuracy did not improve from 0.64732\n",
      "\n",
      "Epoch 37: val_accuracy did not improve from 0.64732\n",
      "\n",
      "Epoch 38: val_accuracy improved from 0.64732 to 0.65179, saving model to ./model\\wine-038-val0.6518.h5\n",
      "\n",
      "Epoch 39: val_accuracy did not improve from 0.65179\n",
      "epoch:40, loss:0.873466968536377, acc:0.6201117038726807, val_loss:0.9890731573104858, val_acc:0.6339285969734192\n",
      "\n",
      "Epoch 40: val_accuracy did not improve from 0.65179\n",
      "\n",
      "Epoch 41: val_accuracy did not improve from 0.65179\n",
      "\n",
      "Epoch 42: val_accuracy did not improve from 0.65179\n",
      "\n",
      "Epoch 43: val_accuracy did not improve from 0.65179\n",
      "\n",
      "Epoch 44: val_accuracy did not improve from 0.65179\n",
      "epoch:45, loss:0.8543819189071655, acc:0.6212290525436401, val_loss:0.9802068471908569, val_acc:0.6517857313156128\n",
      "\n",
      "Epoch 45: val_accuracy did not improve from 0.65179\n",
      "\n",
      "Epoch 46: val_accuracy did not improve from 0.65179\n",
      "\n",
      "Epoch 47: val_accuracy improved from 0.65179 to 0.65625, saving model to ./model\\wine-047-val0.6562.h5\n",
      "\n",
      "Epoch 48: val_accuracy did not improve from 0.65625\n",
      "\n",
      "Epoch 49: val_accuracy did not improve from 0.65625\n",
      "epoch:50, loss:0.8442610502243042, acc:0.6212290525436401, val_loss:0.9807606339454651, val_acc:0.6428571343421936\n",
      "\n",
      "Epoch 50: val_accuracy did not improve from 0.65625\n",
      "\n",
      "Epoch 51: val_accuracy did not improve from 0.65625\n",
      "\n",
      "Epoch 52: val_accuracy did not improve from 0.65625\n",
      "\n",
      "Epoch 53: val_accuracy did not improve from 0.65625\n",
      "\n",
      "Epoch 54: val_accuracy did not improve from 0.65625\n",
      "epoch:55, loss:0.850561797618866, acc:0.6223463416099548, val_loss:0.9811721444129944, val_acc:0.6473214030265808\n",
      "\n",
      "Epoch 55: val_accuracy did not improve from 0.65625\n",
      "\n",
      "Epoch 56: val_accuracy did not improve from 0.65625\n",
      "\n",
      "Epoch 57: val_accuracy did not improve from 0.65625\n",
      "\n",
      "Epoch 58: val_accuracy did not improve from 0.65625\n",
      "\n",
      "Epoch 59: val_accuracy did not improve from 0.65625\n",
      "epoch:60, loss:0.8351303339004517, acc:0.6424580812454224, val_loss:0.979185163974762, val_acc:0.6473214030265808\n",
      "\n",
      "Epoch 60: val_accuracy did not improve from 0.65625\n",
      "\n",
      "Epoch 61: val_accuracy did not improve from 0.65625\n",
      "\n",
      "Epoch 62: val_accuracy did not improve from 0.65625\n",
      "\n",
      "Epoch 63: val_accuracy did not improve from 0.65625\n",
      "\n",
      "Epoch 64: val_accuracy did not improve from 0.65625\n",
      "epoch:65, loss:0.8275667428970337, acc:0.6357541680335999, val_loss:0.9767945408821106, val_acc:0.6383928656578064\n",
      "\n",
      "Epoch 65: val_accuracy did not improve from 0.65625\n",
      "\n",
      "Epoch 66: val_accuracy did not improve from 0.65625\n",
      "\n",
      "Epoch 67: val_accuracy did not improve from 0.65625\n",
      "\n",
      "Epoch 68: val_accuracy did not improve from 0.65625\n",
      "\n",
      "Epoch 69: val_accuracy did not improve from 0.65625\n",
      "epoch:70, loss:0.8075560927391052, acc:0.6480447053909302, val_loss:0.9790868759155273, val_acc:0.6383928656578064\n",
      "\n",
      "Epoch 70: val_accuracy did not improve from 0.65625\n",
      "\n",
      "Epoch 71: val_accuracy did not improve from 0.65625\n",
      "\n",
      "Epoch 72: val_accuracy did not improve from 0.65625\n",
      "\n",
      "Epoch 73: val_accuracy did not improve from 0.65625\n",
      "\n",
      "Epoch 74: val_accuracy did not improve from 0.65625\n",
      "epoch:75, loss:0.8056027293205261, acc:0.6469273567199707, val_loss:0.9729658365249634, val_acc:0.6339285969734192\n",
      "\n",
      "Epoch 75: val_accuracy did not improve from 0.65625\n",
      "\n",
      "Epoch 76: val_accuracy did not improve from 0.65625\n",
      "\n",
      "Epoch 77: val_accuracy did not improve from 0.65625\n",
      "\n",
      "Epoch 78: val_accuracy did not improve from 0.65625\n",
      "\n",
      "Epoch 79: val_accuracy did not improve from 0.65625\n",
      "epoch:80, loss:0.7831032872200012, acc:0.6692737340927124, val_loss:0.975254476070404, val_acc:0.6116071343421936\n",
      "\n",
      "Epoch 80: val_accuracy did not improve from 0.65625\n",
      "\n",
      "Epoch 81: val_accuracy did not improve from 0.65625\n",
      "\n",
      "Epoch 82: val_accuracy did not improve from 0.65625\n",
      "\n",
      "Epoch 83: val_accuracy did not improve from 0.65625\n",
      "\n",
      "Epoch 84: val_accuracy did not improve from 0.65625\n",
      "epoch:85, loss:0.7821235656738281, acc:0.6715083718299866, val_loss:0.9892511963844299, val_acc:0.625\n",
      "\n",
      "Epoch 85: val_accuracy did not improve from 0.65625\n",
      "\n",
      "Epoch 86: val_accuracy did not improve from 0.65625\n",
      "\n",
      "Epoch 87: val_accuracy did not improve from 0.65625\n",
      "CPU times: total: 4.66 s\n",
      "Wall time: 3.19 s\n"
     ]
    }
   ],
   "source": [
    "%%time\n",
    "\n",
    "class CustomHistory(Callback): # on_epoch_end()는 각 에포크 종료시 자동 호출\n",
    "    def __init__(self): # 생성자 함수\n",
    "        self.epoch = 0\n",
    "    def on_epoch_end(self, batch, logs={}):\n",
    "        self.epoch += 1\n",
    "        if self.epoch%5 ==0:\n",
    "            print('epoch:{}, loss:{}, acc:{}, val_loss:{}, val_acc:{}'.\\\n",
    "                 format(self.epoch, \n",
    "                        logs.get('loss'), \n",
    "                        logs.get('accuracy'),\n",
    "                        logs.get('val_loss'),\n",
    "                        logs.get('val_accuracy')\n",
    "                       ))\n",
    "model_save_folder = './model/'\n",
    "if not os.path.exists(model_save_folder): # 폴더가 없으면 생성\n",
    "    os.mkdir(model_save_folder)\n",
    "file = model_save_folder + 'wine-{epoch:03d}-val{val_accuracy:.4f}.h5'\n",
    "# 모델 자동저장 콜백\n",
    "checkpoint = ModelCheckpoint(filepath=file,          # 저장경로\n",
    "                             monitor='val_accuracy', # 모니터링할 지표 'loss', 'accuracy', 'val_loss' 등\n",
    "                            save_best_only=True,     # 모니터링 지표가 개선된 경우만 저장. False로 하면 매번 에포크마다 저장\n",
    "                            mode='max',         # 값이 클수록 좋을 때, 'min'은 값이 작을수록 좋을 때. auto도 있음\n",
    "                            verbose=1)            # 저장 시 로그 출력 (1: 저장시 메세지 출력, 0: 출력 안 함)\n",
    "customHistory = CustomHistory()\n",
    "earlyStropping = EarlyStopping(patience=20)\n",
    "hist = model.fit(X_train, Y_train, epochs=200, batch_size=200, \n",
    "                 validation_split=0.2, \n",
    "                 callbacks=[earlyStropping, \n",
    "                           customHistory,\n",
    "                           checkpoint],\n",
    "                verbose=0)"
   ]
  },
  {
   "cell_type": "markdown",
   "id": "915e97d8",
   "metadata": {},
   "source": [
    "# 5. 모델 평가 - 그래프, 평가(테스트셋), 교차표(crosstab)"
   ]
  },
  {
   "cell_type": "code",
   "execution_count": 8,
   "id": "811ff7ef",
   "metadata": {},
   "outputs": [
    {
     "data": {
      "image/png": "[encoded data removed]",
      "text/plain": [
       "<Figure size 1200x600 with 2 Axes>"
      ]
     },
     "metadata": {},
     "output_type": "display_data"
    }
   ],
   "source": [
    "fig, loss_ax = plt.subplots(figsize=(12,6))\n",
    "loss_ax.plot(hist.history['loss'], 'y', label='train loss')\n",
    "loss_ax.plot(hist.history['val_loss'], 'r', label='val loss')\n",
    "acc_ax = loss_ax.twinx()\n",
    "acc_ax.plot(hist.history['accuracy'], 'g', label='train accuracy')\n",
    "acc_ax.plot(hist.history['val_accuracy'], 'b', label='val accuracy')\n",
    "loss_ax.set_xlabel('epochs')\n",
    "loss_ax.set_ylabel('loss')\n",
    "acc_ax.set_ylabel('accuracy')\n",
    "loss_ax.legend(loc='center right')\n",
    "acc_ax.legend()\n",
    "plt.show()"
   ]
  },
  {
   "cell_type": "code",
   "execution_count": 10,
   "id": "165ef622",
   "metadata": {},
   "outputs": [
    {
     "name": "stdout",
     "output_type": "stream",
     "text": [
      "현 모델의 loss :  1.0057735443115234\n",
      "현 모델의 accuracy :  0.6104166507720947\n",
      "저장된 모델 중 best모델 loss :  1.0274364948272705\n",
      "저장된 모델 중 best모델 accuracy :  0.6104166507720947\n"
     ]
    }
   ],
   "source": [
    "# 어떤 모델을 쓸지?\n",
    "loss_and_acc = model.evaluate(X_test, Y_test, batch_size=32, verbose=0)\n",
    "print('현 모델의 loss : ', loss_and_acc[0])\n",
    "print('현 모델의 accuracy : ', loss_and_acc[1])\n",
    "model2 = load_model('model/wine-047-val0.6562.h5')\n",
    "loss_and_acc2 = model2.evaluate(X_test, Y_test, batch_size=32, verbose=0)\n",
    "print('저장된 모델 중 best모델 loss : ', loss_and_acc2[0])\n",
    "print('저장된 모델 중 best모델 accuracy : ', loss_and_acc2[1])"
   ]
  },
  {
   "cell_type": "code",
   "execution_count": 11,
   "id": "143b59b2",
   "metadata": {
    "scrolled": true
   },
   "outputs": [
    {
     "name": "stdout",
     "output_type": "stream",
     "text": [
      "15/15 [==============================] - 0s 643us/step\n"
     ]
    },
    {
     "data": {
      "text/html": [
       "<div>\n",
       "<style scoped>\n",
       "    .dataframe tbody tr th:only-of-type {\n",
       "        vertical-align: middle;\n",
       "    }\n",
       "\n",
       "    .dataframe tbody tr th {\n",
       "        vertical-align: top;\n",
       "    }\n",
       "\n",
       "    .dataframe thead th {\n",
       "        text-align: right;\n",
       "    }\n",
       "</style>\n",
       "<table border=\"1\" class=\"dataframe\">\n",
       "  <thead>\n",
       "    <tr style=\"text-align: right;\">\n",
       "      <th>predict</th>\n",
       "      <th>4</th>\n",
       "      <th>5</th>\n",
       "      <th>6</th>\n",
       "      <th>7</th>\n",
       "    </tr>\n",
       "    <tr>\n",
       "      <th>real</th>\n",
       "      <th></th>\n",
       "      <th></th>\n",
       "      <th></th>\n",
       "      <th></th>\n",
       "    </tr>\n",
       "  </thead>\n",
       "  <tbody>\n",
       "    <tr>\n",
       "      <th>3</th>\n",
       "      <td>1</td>\n",
       "      <td>2</td>\n",
       "      <td>0</td>\n",
       "      <td>0</td>\n",
       "    </tr>\n",
       "    <tr>\n",
       "      <th>4</th>\n",
       "      <td>0</td>\n",
       "      <td>12</td>\n",
       "      <td>3</td>\n",
       "      <td>1</td>\n",
       "    </tr>\n",
       "    <tr>\n",
       "      <th>5</th>\n",
       "      <td>1</td>\n",
       "      <td>155</td>\n",
       "      <td>45</td>\n",
       "      <td>3</td>\n",
       "    </tr>\n",
       "    <tr>\n",
       "      <th>6</th>\n",
       "      <td>0</td>\n",
       "      <td>60</td>\n",
       "      <td>106</td>\n",
       "      <td>26</td>\n",
       "    </tr>\n",
       "    <tr>\n",
       "      <th>7</th>\n",
       "      <td>0</td>\n",
       "      <td>7</td>\n",
       "      <td>21</td>\n",
       "      <td>32</td>\n",
       "    </tr>\n",
       "    <tr>\n",
       "      <th>8</th>\n",
       "      <td>0</td>\n",
       "      <td>0</td>\n",
       "      <td>3</td>\n",
       "      <td>2</td>\n",
       "    </tr>\n",
       "  </tbody>\n",
       "</table>\n",
       "</div>"
      ],
      "text/plain": [
       "predict  4    5    6   7\n",
       "real                    \n",
       "3        1    2    0   0\n",
       "4        0   12    3   1\n",
       "5        1  155   45   3\n",
       "6        0   60  106  26\n",
       "7        0    7   21  32\n",
       "8        0    0    3   2"
      ]
     },
     "execution_count": 11,
     "metadata": {},
     "output_type": "execute_result"
    }
   ],
   "source": [
    "# 성능 지표(crosstab)\n",
    "# Y_test : 0 0 1 0 0 0 (3등급, 4등급, 5등급, 6등급, 7등급, 8등급)\n",
    "y = np.argmax(Y_test, axis=1) +3 # Y_test의 실제값(pd.getdummies)\n",
    "yhat = model.predict(X_test).argmax(axis=1)+3 # 예측값\n",
    "pd.crosstab(y, yhat, rownames=['real'], colnames=['predict'])"
   ]
  },
  {
   "cell_type": "code",
   "execution_count": 12,
   "id": "d7528329",
   "metadata": {},
   "outputs": [
    {
     "name": "stdout",
     "output_type": "stream",
     "text": [
      "1/1 [==============================] - 0s 45ms/step\n",
      "[5] 등급으로 예측함\n"
     ]
    }
   ],
   "source": [
    "# 6. 모델 사용하기\n",
    "input_data = np.array([7.4,0.7,0,1.9,0.076,11,34,0.9978,3.51,0.56,9.4])\n",
    "scaled_data = scaler.transform(input_data.reshape(1,11))\n",
    "print(np.argmax(model.predict(scaled_data), axis=1) + 3, '등급으로 예측함')"
   ]
  },
  {
   "cell_type": "code",
   "execution_count": null,
   "id": "1a116676",
   "metadata": {},
   "outputs": [],
   "source": []
  }
 ],
 "metadata": {
  "kernelspec": {
   "display_name": "ml-dl-nlp",
   "language": "python",
   "name": "ml-dl-nlp"
  },
  "language_info": {
   "codemirror_mode": {
    "name": "ipython",
    "version": 3
   },
   "file_extension": ".py",
   "mimetype": "text/x-python",
   "name": "python",
   "nbconvert_exporter": "python",
   "pygments_lexer": "ipython3",
   "version": "3.10.18"
  },
  "toc": {
   "base_numbering": 1,
   "nav_menu": {},
   "number_sections": false,
   "sideBar": true,
   "skip_h1_title": false,
   "title_cell": "Table of Contents",
   "title_sidebar": "Contents",
   "toc_cell": false,
   "toc_position": {
    "height": "calc(100% - 180px)",
    "left": "10px",
    "top": "150px",
    "width": "225px"
   },
   "toc_section_display": true,
   "toc_window_display": true
  }
 },
 "nbformat": 4,
 "nbformat_minor": 5
}
