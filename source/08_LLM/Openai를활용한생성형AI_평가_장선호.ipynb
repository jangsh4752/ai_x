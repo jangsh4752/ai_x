{
 "cells": [
  {
   "cell_type": "code",
   "execution_count": 17,
   "id": "1fdbb6c2",
   "metadata": {
    "scrolled": true
   },
   "outputs": [
    {
     "data": {
      "text/plain": [
       "'Sushi'"
      ]
     },
     "execution_count": 17,
     "metadata": {},
     "output_type": "execute_result"
    }
   ],
   "source": [
    "from langchain_ollama import ChatOllama\n",
    "from langchain_core.prompts import PromptTemplate\n",
    "from langchain_core.output_parsers import StrOutputParser\n",
    "from langchain_core.runnables import RunnablePassthrough\n",
    "llm1 = ChatOllama(model=\"llama3.2:1b\", \n",
    "                 temperature=0)\n",
    "food_prompt = PromptTemplate(\n",
    "    template = \"What is the most famous of food in {country}. Return the name of the food name only\",\n",
    "    input_variables = [\"country\"]\n",
    ")\n",
    "output_parser = StrOutputParser()\n",
    "output_parser.invoke(llm.invoke(food_prompt.invoke({\"country\":\"Japan\"})))\n",
    "food_chain = food_prompt | llm1 | output_parser\n",
    "food_chain.invoke({\"country\":\"Japan\"})"
   ]
  },
  {
   "cell_type": "code",
   "execution_count": 21,
   "id": "adcb2323",
   "metadata": {},
   "outputs": [
    {
     "data": {
      "text/plain": [
       "\"The classic Japanese dish 'sushi' consists of vinegared rice and various toppings, such as raw or cooked fish, vegetables, and sometimes egg. Here's a basic recipe for making sushi at home:\\n\\nIngredients:\\n\\nFor the sushi rice:\\n\\n* 1 cup Japanese short-grain rice (such as Koshihikari or Akita Komachi)\\n* 1 3/4 cups water\\n* 1 tablespoon sugar\\n* 1 teaspoon salt\\n\\nFor the fillings:\\n\\n* Various ingredients such as:\\n + Raw fish (e.g., salmon, tuna, or yellowtail)\\n + Cooked fish (e.g., eel or octopus)\\n + Cucumber\\n + Avocado\\n + Carrots\\n + Asparagus\\n + Pickled ginger\\n + Sesame seeds and chopped scallions for garnish\\n\\nInstructions:\\n\\n1. Prepare the sushi rice:\\n   - Rinse the rice thoroughly and cook it according to the package instructions.\\n   - In a small saucepan, combine the sugar and salt. Heat them over low heat until the sugar dissolves.\\n   - Add the cooked rice to the saucepan with the sugar and salt mixture. Mix well.\\n   - Allow the rice to cool down to room temperature.\\n\\n2. Prepare the fillings:\\n   - Cut your chosen ingredients into thin slices or strips.\\n\\n3. Assemble the sushi:\\n   - Lay a sheet of nori (seaweed) flat on a sushi mat or a piece of parchment paper.\\n   - Spread a thin layer of sushi rice onto the nori, leaving about 1 inch of space at the top.\\n   - Arrange your fillings horizontally in the middle of the rice.\\n   - Roll the sushi using the mat or parchment paper to form a tight cylinder.\\n\\n4. Slice the sushi:\\n   - Using a sharp knife, slice the rolled sushi into individual pieces.\\n\\n5. Serve and enjoy:\\n   - Serve the sushi with soy sauce, wasabi, and pickled ginger on the side.\\n\\nNote: This is a basic recipe, and you can customize your sushi with various ingredients to create different flavors and textures.\""
      ]
     },
     "execution_count": 21,
     "metadata": {},
     "output_type": "execute_result"
    }
   ],
   "source": [
    "llm2 = ChatOllama(model=\"llama3.2:1b\", \n",
    "                 temperature=0)\n",
    "recipe_prompt = PromptTemplate(\n",
    "    template = \"What is the recipe of {food}?\",\n",
    "    input_variables = [\"food\"]\n",
    ")\n",
    "output_parser = StrOutputParser()\n",
    "output_parser.invoke(llm.invoke(recipe_prompt.invoke({\"food\":\"Sushi\"})))\n",
    "recipe_chain = recipe_prompt | llm2 | output_parser\n",
    "recipe_chain.invoke({\"Sushi\"})"
   ]
  },
  {
   "cell_type": "code",
   "execution_count": 25,
   "id": "fb5d90b6",
   "metadata": {},
   "outputs": [
    {
     "name": "stdout",
     "output_type": "stream",
     "text": [
      "원하는 나라를 입력하세요.브라질\n"
     ]
    },
    {
     "data": {
      "text/plain": [
       "\"Açaí (pronounced ah-SAH-ee) is a small, dark purple fruit native to the Amazon rainforest. The fruit has been used for centuries in traditional medicine and as a food source in Brazil, where it's widely cultivated.\\n\\nThe recipe for açaí typically involves blending the fruit with other ingredients to create a smoothie or juice. Here are some common recipes:\\n\\n**Açaí Smoothie:**\\n\\n* 1 cup frozen açaí berries\\n* 1/2 banana, sliced\\n* 1/2 cup plain yogurt (optional)\\n* 1 tablespoon honey (optional)\\n* 1/2 cup milk (dairy or non-dairy, such as almond or soy milk)\\n\\nCombine all the ingredients in a blender and blend until smooth. You can also add other ingredients like spinach, protein powder, or chia seeds to boost the nutritional content.\\n\\n**Açaí Juice:**\\n\\n* 2 cups frozen açaí berries\\n* 1/2 cup water\\n* 1 tablespoon honey (optional)\\n\\nCombine all the ingredients in a blender and blend until smooth. Strain the mixture through a cheesecloth or fine-mesh sieve to remove any pulp or seeds.\\n\\n**Açaí Bowl:**\\n\\n* 1 cup frozen açaí berries\\n* 1/2 cup granola\\n* 1/2 cup sliced banana\\n* 1 tablespoon almond butter (optional)\\n* 1 scoop protein powder (optional)\\n\\nCombine all the ingredients in a bowl and serve. You can also add other toppings like coconut flakes, shredded coconut, or chopped nuts.\\n\\n**Açaí Popsicles:**\\n\\n* 1 cup frozen açaí berries\\n* 1/4 cup honey\\n* 1 tablespoon lemon juice\\n\\nCombine all the ingredients in a blender and blend until smooth. Pour the mixture into popsicle molds and freeze until solid.\""
      ]
     },
     "execution_count": 25,
     "metadata": {},
     "output_type": "execute_result"
    }
   ],
   "source": [
    "final_chain = {\"country\" : RunnablePassthrough()} | {\"food\" : food_chain} | recipe_chain\n",
    "country = input(\"원하는 나라를 입력하세요.\")\n",
    "final_chain.invoke(country)"
   ]
  },
  {
   "cell_type": "code",
   "execution_count": null,
   "id": "82053f47",
   "metadata": {},
   "outputs": [],
   "source": []
  },
  {
   "cell_type": "code",
   "execution_count": null,
   "id": "b92e2bb5",
   "metadata": {},
   "outputs": [],
   "source": []
  },
  {
   "cell_type": "code",
   "execution_count": null,
   "id": "6481a2df",
   "metadata": {},
   "outputs": [],
   "source": []
  },
  {
   "cell_type": "code",
   "execution_count": null,
   "id": "df921d69",
   "metadata": {},
   "outputs": [],
   "source": []
  },
  {
   "cell_type": "code",
   "execution_count": null,
   "id": "f8a5fc01",
   "metadata": {},
   "outputs": [],
   "source": []
  }
 ],
 "metadata": {
  "kernelspec": {
   "display_name": "llm(ipykernel)",
   "language": "python",
   "name": "llm"
  },
  "language_info": {
   "codemirror_mode": {
    "name": "ipython",
    "version": 3
   },
   "file_extension": ".py",
   "mimetype": "text/x-python",
   "name": "python",
   "nbconvert_exporter": "python",
   "pygments_lexer": "ipython3",
   "version": "3.10.0"
  },
  "toc": {
   "base_numbering": 1,
   "nav_menu": {},
   "number_sections": false,
   "sideBar": true,
   "skip_h1_title": false,
   "title_cell": "Table of Contents",
   "title_sidebar": "Contents",
   "toc_cell": false,
   "toc_position": {},
   "toc_section_display": true,
   "toc_window_display": false
  }
 },
 "nbformat": 4,
 "nbformat_minor": 5
}
