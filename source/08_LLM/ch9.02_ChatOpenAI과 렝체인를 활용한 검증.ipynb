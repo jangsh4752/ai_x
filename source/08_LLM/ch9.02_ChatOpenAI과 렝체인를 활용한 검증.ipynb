{
 "cells": [
  {
   "cell_type": "code",
   "execution_count": 3,
   "id": "c50cbc49",
   "metadata": {},
   "outputs": [
    {
     "data": {
      "text/html": [
       "\n",
       "<style>\n",
       "div.container{width:100% !important;}\n",
       "div.cell.code_cell.rendered{width:100%;}\n",
       "div.input_prompt{padding:0px;}\n",
       "div.CodeMirror {font-family:Consolas; font-size:20pt;}\n",
       "div.text_cell_render.rendered_html{font-size:18pt;}\n",
       "div.text_cell_render.rendered_html{font-size:15pt;}\n",
       "div.output {font-size:18pt; font-weight:bold;}\n",
       "div.input {font-family:Consolas; font-size:18pt;}\n",
       "div.prompt {min-width:70px;}\n",
       "div#toc-wrapper{padding-top:120px;}\n",
       "div.text_cell_render ul li{font-size:18pt;padding:5px;}\n",
       "table.dataframe{font-size:18px;}\n",
       "</style>\n"
      ],
      "text/plain": [
       "<IPython.core.display.HTML object>"
      ]
     },
     "metadata": {},
     "output_type": "display_data"
    }
   ],
   "source": [
    "from IPython.display import display, HTML\n",
    "display(HTML(\"\"\"\n",
    "<style>\n",
    "div.container{width:86% !important;}\n",
    "div.cell.code_cell.rendered{width:100%;}\n",
    "div.CodeMirror {font-family:Consolas; font-size:12pt;}\n",
    "div.output {font-size:15pt; font-weight:bold;}\n",
    "div.input {font-family:Consolas; font-size:12pt;}\n",
    "div.prompt {min-width:70px;}\n",
    "div#toc-wrapper{padding-top:120px;}\n",
    "div.text_cell_render ul li{font-size:12pt;padding:5px;}\n",
    "table.dataframe{font-size:15px;}\n",
    "</style>\n",
    "\"\"\"))"
   ]
  },
  {
   "cell_type": "markdown",
   "id": "fd87e9f1",
   "metadata": {},
   "source": [
    "# 1.  환경(패키지 및 환경변수)\n",
    "- pip install openai langchain-openai"
   ]
  },
  {
   "cell_type": "code",
   "execution_count": 2,
   "id": "e9bf5463",
   "metadata": {},
   "outputs": [
    {
     "data": {
      "text/plain": [
       "True"
      ]
     },
     "execution_count": 2,
     "metadata": {},
     "output_type": "execute_result"
    }
   ],
   "source": [
    "from dotenv import load_dotenv\n",
    "load_dotenv()"
   ]
  },
  {
   "cell_type": "markdown",
   "id": "6217249c",
   "metadata": {},
   "source": [
    "# 2. LLM 답변 생성\n",
    "## 2.1 openAI SDK 를 선택\n",
    "- 세밀한 제어가 필요할 때, 성능 최적화가 중요할 때"
   ]
  },
  {
   "cell_type": "code",
   "execution_count": 5,
   "id": "735643a5",
   "metadata": {},
   "outputs": [],
   "source": [
    "from openai import OpenAI\n",
    "client = OpenAI()\n",
    "response = client.chat.completions.create(\n",
    "    model=\"gpt-4.1-nano\",\n",
    "    messages = [\n",
    "        {\"role\":\"system\", \"content\":\"너는 친절하게 대답해 주는 비서야\"},\n",
    "        {\"role\":\"user\",   \"content\":\"2020년 월드 시리즈 누가 우승했어?\"}\n",
    "    ]\n",
    ")"
   ]
  },
  {
   "cell_type": "code",
   "execution_count": 8,
   "id": "612a66a6",
   "metadata": {},
   "outputs": [
    {
     "data": {
      "text/plain": [
       "'2020년 월드 시리즈는 탬파베이 레이스가 우승을 차지했습니다. 그들은 휴스턴 애스트로스와 맞붙어 4승 3패로 시리즈를 끝냈습니다. 이것이 탬파베이 레이스의 최초 월드 시리즈 우승이었습니다.'"
      ]
     },
     "execution_count": 8,
     "metadata": {},
     "output_type": "execute_result"
    }
   ],
   "source": [
    "response.choices[0].message.content"
   ]
  },
  {
   "cell_type": "markdown",
   "id": "6331d118",
   "metadata": {},
   "source": [
    "## 2.2 LangChain을 선택\n",
    "- 내부적으로 자동 메세지 형태를 변환해 줌"
   ]
  },
  {
   "cell_type": "code",
   "execution_count": 9,
   "id": "e61663fa",
   "metadata": {},
   "outputs": [],
   "source": [
    "from langchain_openai import ChatOpenAI\n",
    "# .env OPEN_API_KEY가 등록\n",
    "llm = ChatOpenAI(\n",
    "    model = \"gpt-4.1-nano\" # 기본 모델 : gpt-3.5-turbo\n",
    ")\n",
    "ai_message = llm.invoke(\"2020년 월드 시리즈 누가 우승했나요?\")"
   ]
  },
  {
   "cell_type": "code",
   "execution_count": 11,
   "id": "3a9dae3a",
   "metadata": {},
   "outputs": [
    {
     "data": {
      "text/plain": [
       "'2020년 월드 시리즈는 워싱턴 내셔널스가 우승했습니다. 이들은 텍사스 레인저스와의 플레이오프에서 승리한 후, 텍사스와의 월드 시리즈에서 4승 3패로 승리하여 첫 우승을 차지했습니다.'"
      ]
     },
     "execution_count": 11,
     "metadata": {},
     "output_type": "execute_result"
    }
   ],
   "source": [
    "ai_message.content"
   ]
  }
 ],
 "metadata": {
  "kernelspec": {
   "display_name": "llm(ipykernel)",
   "language": "python",
   "name": "llm"
  },
  "language_info": {
   "codemirror_mode": {
    "name": "ipython",
    "version": 3
   },
   "file_extension": ".py",
   "mimetype": "text/x-python",
   "name": "python",
   "nbconvert_exporter": "python",
   "pygments_lexer": "ipython3",
   "version": "3.10.0"
  },
  "toc": {
   "base_numbering": 1,
   "nav_menu": {},
   "number_sections": false,
   "sideBar": true,
   "skip_h1_title": false,
   "title_cell": "Table of Contents",
   "title_sidebar": "Contents",
   "toc_cell": false,
   "toc_position": {},
   "toc_section_display": true,
   "toc_window_display": false
  }
 },
 "nbformat": 4,
 "nbformat_minor": 5
}
