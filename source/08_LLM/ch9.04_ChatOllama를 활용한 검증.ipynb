{
 "cells": [
  {
   "cell_type": "code",
   "execution_count": 1,
   "id": "d21416f3",
   "metadata": {},
   "outputs": [
    {
     "data": {
      "text/html": [
       "\n",
       "<style>\n",
       "div.container{width:100% !important;}\n",
       "div.cell.code_cell.rendered{width:100%;}\n",
       "div.input_prompt{padding:0px;}\n",
       "div.CodeMirror {font-family:Consolas; font-size:20pt;}\n",
       "div.text_cell_render.rendered_html{font-size:18pt;}\n",
       "div.text_cell_render.rendered_html{font-size:15pt;}\n",
       "div.output {font-size:18pt; font-weight:bold;}\n",
       "div.input {font-family:Consolas; font-size:18pt;}\n",
       "div.prompt {min-width:70px;}\n",
       "div#toc-wrapper{padding-top:120px;}\n",
       "div.text_cell_render ul li{font-size:18pt;padding:5px;}\n",
       "table.dataframe{font-size:18px;}\n",
       "</style>\n"
      ],
      "text/plain": [
       "<IPython.core.display.HTML object>"
      ]
     },
     "metadata": {},
     "output_type": "display_data"
    }
   ],
   "source": [
    "from IPython.display import display, HTML\n",
    "display(HTML(\"\"\"\n",
    "<style>\n",
    "div.container{width:100% !important;}\n",
    "div.cell.code_cell.rendered{width:100%;}\n",
    "div.input_prompt{padding:0px;}\n",
    "div.CodeMirror {font-family:Consolas; font-size:20pt;}\n",
    "div.text_cell_render.rendered_html{font-size:18pt;}\n",
    "div.text_cell_render.rendered_html{font-size:15pt;}\n",
    "div.output {font-size:18pt; font-weight:bold;}\n",
    "div.input {font-family:Consolas; font-size:18pt;}\n",
    "div.prompt {min-width:70px;}\n",
    "div#toc-wrapper{padding-top:120px;}\n",
    "div.text_cell_render ul li{font-size:18pt;padding:5px;}\n",
    "table.dataframe{font-size:18px;}\n",
    "</style>\n",
    "\"\"\"))"
   ]
  },
  {
   "cell_type": "markdown",
   "id": "7fb160a6",
   "metadata": {},
   "source": [
    "# 1.  환경(패키지 및 환경변수)\n",
    "- pip install langchain-ollama\n",
    "- pip install langchain-community"
   ]
  },
  {
   "cell_type": "code",
   "execution_count": 3,
   "id": "b52d29a5",
   "metadata": {},
   "outputs": [
    {
     "name": "stdout",
     "output_type": "stream",
     "text": [
      "Note: you may need to restart the kernel to use updated packages.\n"
     ]
    }
   ],
   "source": [
    "%pip install -q langchain-community"
   ]
  },
  {
   "cell_type": "markdown",
   "id": "a4bde1bf",
   "metadata": {},
   "source": [
    "# 2. LLM 답변 생성\n",
    "- https://ollama.com/에서 모델 선택(llama3.2:1b)\n",
    "- powershell이나 cmd창에서 ollama pull llama3.2:1b"
   ]
  },
  {
   "cell_type": "code",
   "execution_count": 5,
   "id": "ff79c289",
   "metadata": {},
   "outputs": [
    {
     "data": {
      "text/plain": [
       "'2020년 월드 시리즈는 스타벅스 월드 시리즈에서 열린 것이었습니다. 미국의 스타벅스점이 우승했습니다.'"
      ]
     },
     "execution_count": 5,
     "metadata": {},
     "output_type": "execute_result"
    }
   ],
   "source": [
    "from langchain_ollama import ChatOllama\n",
    "# from langchain_community.chat_models import ChatOllama\n",
    "llm = ChatOllama(model=\"llama3.2:1b\")\n",
    "ai_message = llm.invoke(\"2020년 월드 시리즈에서 누가 우승했나요?\")\n",
    "ai_message.content"
   ]
  },
  {
   "cell_type": "markdown",
   "id": "d61df617",
   "metadata": {},
   "source": [
    "# 3. 코랩에서 ollama(exaone3.5:2.4b) 돌려기\n",
    "http://bit.ly/3IKpnVH"
   ]
  }
 ],
 "metadata": {
  "kernelspec": {
   "display_name": "llm(ipykernel)",
   "language": "python",
   "name": "llm"
  },
  "language_info": {
   "codemirror_mode": {
    "name": "ipython",
    "version": 3
   },
   "file_extension": ".py",
   "mimetype": "text/x-python",
   "name": "python",
   "nbconvert_exporter": "python",
   "pygments_lexer": "ipython3",
   "version": "3.10.18"
  }
 },
 "nbformat": 4,
 "nbformat_minor": 5
}
