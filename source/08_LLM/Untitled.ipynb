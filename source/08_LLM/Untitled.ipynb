{
 "cells": [
  {
   "cell_type": "code",
   "execution_count": 5,
   "id": "f99f8e7e",
   "metadata": {},
   "outputs": [
    {
     "name": "stdout",
     "output_type": "stream",
     "text": [
      "🔹 '음식' 생성 중...\n",
      "✔️ 음식 1/20\n",
      "✔️ 음식 2/20\n",
      "✔️ 음식 3/20\n",
      "✔️ 음식 4/20\n",
      "✔️ 음식 5/20\n",
      "✔️ 음식 6/20\n",
      "✔️ 음식 7/20\n",
      "✔️ 음식 8/20\n",
      "✔️ 음식 9/20\n",
      "✔️ 음식 10/20\n",
      "✔️ 음식 11/20\n",
      "✔️ 음식 12/20\n",
      "✔️ 음식 13/20\n",
      "✔️ 음식 14/20\n",
      "✔️ 음식 15/20\n",
      "✔️ 음식 16/20\n",
      "✔️ 음식 17/20\n",
      "✔️ 음식 18/20\n",
      "✔️ 음식 19/20\n",
      "✔️ 음식 20/20\n",
      "🔹 '날씨' 생성 중...\n",
      "✔️ 날씨 1/20\n",
      "✔️ 날씨 2/20\n",
      "✔️ 날씨 3/20\n",
      "✔️ 날씨 4/20\n",
      "✔️ 날씨 5/20\n",
      "✔️ 날씨 6/20\n",
      "✔️ 날씨 7/20\n",
      "✔️ 날씨 8/20\n",
      "✔️ 날씨 9/20\n",
      "✔️ 날씨 10/20\n",
      "✔️ 날씨 11/20\n",
      "✔️ 날씨 12/20\n",
      "✔️ 날씨 13/20\n",
      "✔️ 날씨 14/20\n",
      "✔️ 날씨 15/20\n",
      "✔️ 날씨 16/20\n",
      "✔️ 날씨 17/20\n",
      "✔️ 날씨 18/20\n",
      "✔️ 날씨 19/20\n",
      "✔️ 날씨 20/20\n",
      "🔹 '취미' 생성 중...\n",
      "✔️ 취미 1/20\n",
      "✔️ 취미 2/20\n",
      "✔️ 취미 3/20\n",
      "✔️ 취미 4/20\n",
      "✔️ 취미 5/20\n",
      "✔️ 취미 6/20\n",
      "✔️ 취미 7/20\n",
      "✔️ 취미 8/20\n",
      "✔️ 취미 9/20\n",
      "✔️ 취미 10/20\n",
      "✔️ 취미 11/20\n",
      "✔️ 취미 12/20\n",
      "✔️ 취미 13/20\n",
      "✔️ 취미 14/20\n",
      "✔️ 취미 15/20\n",
      "✔️ 취미 16/20\n",
      "✔️ 취미 17/20\n",
      "✔️ 취미 18/20\n",
      "✔️ 취미 19/20\n",
      "✔️ 취미 20/20\n",
      "✅ 생성 완료! 총 60개 저장됨\n"
     ]
    }
   ],
   "source": [
    "import os\n",
    "import time\n",
    "import json\n",
    "import pandas as pd\n",
    "from dotenv import load_dotenv\n",
    "from openai import OpenAI\n",
    "\n",
    "# ✅ .env에서 API 키 불러오기\n",
    "load_dotenv()\n",
    "client = OpenAI(api_key=os.getenv(\"OPENAI_API_KEY\"))\n",
    "\n",
    "# ✅ 설정\n",
    "topics = [\"음식\", \"날씨\", \"취미\"]\n",
    "samples_per_topic = 20  # 예시 수 적게 설정 후 검증 (실행 전 1000 등으로 확장 가능)\n",
    "\n",
    "# ✅ GPT 호출 함수\n",
    "def generate_dialog(topic):\n",
    "    prompt = f\"\"\"\n",
    "'{topic}'에 대해 자연스럽고 일상적인 3턴 대화를 만들어줘. \n",
    "형식:\n",
    "질문: ...\n",
    "답변: ...\n",
    "역질문: ...\n",
    "맥락 흐름이 어색하지 않도록 자연스럽게 연결해줘.\n",
    "\"\"\"\n",
    "    try:\n",
    "        chat_completion = client.chat.completions.create(\n",
    "            model=\"gpt-4.1-nano\",\n",
    "            messages=[\n",
    "                {\"role\": \"system\", \"content\": \"너는 한국어 일상 대화에 능숙한 챗봇이야.\"},\n",
    "                {\"role\": \"user\", \"content\": prompt}\n",
    "            ],\n",
    "            temperature=0.8,\n",
    "            max_tokens=300\n",
    "        )\n",
    "        content = chat_completion.choices[0].message.content\n",
    "        lines = [line.strip() for line in content.split(\"\\n\") if line.strip()]\n",
    "        if len(lines) == 3:\n",
    "            q = lines[0].replace(\"질문:\", \"\").strip()\n",
    "            a = lines[1].replace(\"답변:\", \"\").strip()\n",
    "            f = lines[2].replace(\"역질문:\", \"\").strip()\n",
    "            if len(q) > 5 and len(a) > 5 and len(f) > 5:\n",
    "                return {\"주제\": topic, \"질문\": q, \"답변\": a, \"역질문\": f}\n",
    "    except Exception as e:\n",
    "        print(\"⚠️ 오류 발생:\", e)\n",
    "    return None\n",
    "\n",
    "# ✅ 생성 루프\n",
    "all_rows = []\n",
    "for topic in topics:\n",
    "    print(f\"🔹 '{topic}' 생성 중...\")\n",
    "    count = 0\n",
    "    tries = 0\n",
    "    while count < samples_per_topic and tries < samples_per_topic * 2:\n",
    "        row = generate_dialog(topic)\n",
    "        tries += 1\n",
    "        if row:\n",
    "            all_rows.append(row)\n",
    "            count += 1\n",
    "            print(f\"✔️ {topic} {count}/{samples_per_topic}\")\n",
    "        time.sleep(1.1)  # rate limit 대비\n",
    "\n",
    "# ✅ 데이터 저장\n",
    "df = pd.DataFrame(all_rows).drop_duplicates(subset=[\"질문\", \"답변\", \"역질문\"])\n",
    "df.to_csv(\"gpt_smalltalk_ko.csv\", index=False, encoding=\"utf-8-sig\")\n",
    "with open(\"gpt_smalltalk_ko.jsonl\", \"w\", encoding=\"utf-8\") as f:\n",
    "    for _, row in df.iterrows():\n",
    "        f.write(json.dumps(row.to_dict(), ensure_ascii=False) + \"\\n\")\n",
    "\n",
    "print(f\"✅ 생성 완료! 총 {len(df)}개 저장됨\")\n"
   ]
  },
  {
   "cell_type": "code",
   "execution_count": null,
   "id": "9a8891e9",
   "metadata": {},
   "outputs": [
    {
     "name": "stdout",
     "output_type": "stream",
     "text": [
      "\n",
      "🔹 'food' 주제 생성 시작...\n"
     ]
    },
    {
     "name": "stderr",
     "output_type": "stream",
     "text": [
      "[food] 생성 중:  20%|██████████▋                                           | 987/5000 [6:37:56<3623:27:35, 3250.55s/it]"
     ]
    },
    {
     "name": "stdout",
     "output_type": "stream",
     "text": [
      "[food] 오류 발생: Connection error.\n"
     ]
    },
    {
     "name": "stderr",
     "output_type": "stream",
     "text": [
      "\r",
      "[food] 생성 중:  20%|██████████                                         | 988/5000 [18:41:41<17054:13:04, 15302.89s/it]"
     ]
    },
    {
     "name": "stdout",
     "output_type": "stream",
     "text": [
      "[food] 오류 발생: Connection error.\n"
     ]
    },
    {
     "name": "stderr",
     "output_type": "stream",
     "text": [
      "\r",
      "[food] 생성 중:  20%|██████████                                         | 989/5000 [18:41:43<11935:25:50, 10712.43s/it]"
     ]
    },
    {
     "name": "stdout",
     "output_type": "stream",
     "text": [
      "[food] 오류 발생: Connection error.\n"
     ]
    },
    {
     "name": "stderr",
     "output_type": "stream",
     "text": [
      "\r",
      "[food] 생성 중:  20%|██████████▍                                          | 990/5000 [18:41:44<8353:09:06, 7499.09s/it]"
     ]
    },
    {
     "name": "stdout",
     "output_type": "stream",
     "text": [
      "[food] 오류 발생: Connection error.\n"
     ]
    },
    {
     "name": "stderr",
     "output_type": "stream",
     "text": [
      "\r",
      "[food] 생성 중:  20%|██████████▌                                          | 991/5000 [18:41:45<5846:09:12, 5249.73s/it]"
     ]
    },
    {
     "name": "stdout",
     "output_type": "stream",
     "text": [
      "[food] 오류 발생: Connection error.\n"
     ]
    },
    {
     "name": "stderr",
     "output_type": "stream",
     "text": [
      "\r",
      "[food] 생성 중:  20%|██████████▌                                          | 992/5000 [18:41:47<4091:45:11, 3675.23s/it]"
     ]
    },
    {
     "name": "stdout",
     "output_type": "stream",
     "text": [
      "[food] 오류 발생: Connection error.\n"
     ]
    },
    {
     "name": "stderr",
     "output_type": "stream",
     "text": [
      "\r",
      "[food] 생성 중:  20%|██████████▌                                          | 993/5000 [18:41:48<2863:56:07, 2573.04s/it]"
     ]
    },
    {
     "name": "stdout",
     "output_type": "stream",
     "text": [
      "[food] 오류 발생: Connection error.\n"
     ]
    },
    {
     "name": "stderr",
     "output_type": "stream",
     "text": [
      "\r",
      "[food] 생성 중:  20%|██████████▌                                          | 994/5000 [18:41:49<2004:40:15, 1801.50s/it]"
     ]
    },
    {
     "name": "stdout",
     "output_type": "stream",
     "text": [
      "[food] 오류 발생: Connection error.\n"
     ]
    },
    {
     "name": "stderr",
     "output_type": "stream",
     "text": [
      "\r",
      "[food] 생성 중:  20%|██████████▌                                          | 995/5000 [18:41:51<1403:24:34, 1261.49s/it]"
     ]
    },
    {
     "name": "stdout",
     "output_type": "stream",
     "text": [
      "[food] 오류 발생: Connection error.\n"
     ]
    },
    {
     "name": "stderr",
     "output_type": "stream",
     "text": [
      "\r",
      "[food] 생성 중:  20%|██████████▉                                            | 996/5000 [18:41:52<982:32:39, 883.41s/it]"
     ]
    },
    {
     "name": "stdout",
     "output_type": "stream",
     "text": [
      "[food] 오류 발생: Connection error.\n"
     ]
    },
    {
     "name": "stderr",
     "output_type": "stream",
     "text": [
      "\r",
      "[food] 생성 중:  20%|██████████▉                                            | 997/5000 [18:41:53<688:01:42, 618.76s/it]"
     ]
    },
    {
     "name": "stdout",
     "output_type": "stream",
     "text": [
      "[food] 오류 발생: Connection error.\n"
     ]
    },
    {
     "name": "stderr",
     "output_type": "stream",
     "text": [
      "[food] 생성 중:  20%|██████████▊                                           | 1000/5000 [18:42:28<243:31:09, 219.17s/it]"
     ]
    },
    {
     "name": "stdout",
     "output_type": "stream",
     "text": [
      "[food] 오류 발생: Connection error.\n"
     ]
    },
    {
     "name": "stderr",
     "output_type": "stream",
     "text": [
      "\r",
      "[food] 생성 중:  20%|██████████▊                                           | 1001/5000 [18:42:29<170:52:31, 153.83s/it]"
     ]
    },
    {
     "name": "stdout",
     "output_type": "stream",
     "text": [
      "[food] 오류 발생: Connection error.\n"
     ]
    },
    {
     "name": "stderr",
     "output_type": "stream",
     "text": [
      "\r",
      "[food] 생성 중:  20%|██████████▊                                           | 1002/5000 [18:42:30<119:58:42, 108.03s/it]"
     ]
    },
    {
     "name": "stdout",
     "output_type": "stream",
     "text": [
      "[food] 오류 발생: Connection error.\n"
     ]
    },
    {
     "name": "stderr",
     "output_type": "stream",
     "text": [
      "\r",
      "[food] 생성 중:  20%|███████████▏                                            | 1003/5000 [18:42:32<84:27:40, 76.07s/it]"
     ]
    },
    {
     "name": "stdout",
     "output_type": "stream",
     "text": [
      "[food] 오류 발생: Connection error.\n"
     ]
    },
    {
     "name": "stderr",
     "output_type": "stream",
     "text": [
      "\r",
      "[food] 생성 중:  20%|███████████▏                                            | 1004/5000 [18:42:33<59:34:21, 53.67s/it]"
     ]
    },
    {
     "name": "stdout",
     "output_type": "stream",
     "text": [
      "[food] 오류 발생: Connection error.\n"
     ]
    },
    {
     "name": "stderr",
     "output_type": "stream",
     "text": [
      "[food] 생성 중:  20%|███████████▎                                            | 1008/5000 [18:43:37<28:55:42, 26.09s/it]"
     ]
    }
   ],
   "source": [
    "import os\n",
    "import pandas as pd\n",
    "import nest_asyncio\n",
    "import asyncio\n",
    "from dotenv import load_dotenv\n",
    "from openai import AsyncOpenAI\n",
    "from tqdm.asyncio import tqdm_asyncio\n",
    "from datetime import datetime\n",
    "\n",
    "nest_asyncio.apply()\n",
    "load_dotenv()\n",
    "client = AsyncOpenAI(api_key=os.getenv(\"OPENAI_API_KEY\"))\n",
    "\n",
    "TOPICS = {\n",
    "    \"food\": \"음식에 관한 친근한 스몰토크\",\n",
    "    \"weather\": \"날씨에 대한 자연스러운 대화\",\n",
    "    \"hobby\": \"취미 관련 이야기를\",\n",
    "}\n",
    "\n",
    "def build_conversation_prompt(topic_kr, n_turns=10):\n",
    "    return f\"\"\"\\\n",
    "{topic_kr}를 주제로 자연스럽고 편안한 {n_turns}턴짜리 대화를 만들어줘.\n",
    "\n",
    "조건:\n",
    "- 질문 → 답변 → 다시 묻기 방식\n",
    "- \"A:\", \"B:\" 로 시작하는 라인 형식\n",
    "- 말투는 일상적이고 자연스럽게\n",
    "- 중복된 표현 피하고 다양한 표현 사용\n",
    "\"\"\"\n",
    "\n",
    "async def generate_turns(topic_key, topic_kr, n_samples):\n",
    "    unique_conversations = set()\n",
    "    for _ in tqdm_asyncio(range(n_samples), desc=f\"[{topic_key}] 생성 중\"):\n",
    "        try:\n",
    "            prompt = build_conversation_prompt(topic_kr)\n",
    "            response = await client.chat.completions.create(\n",
    "                model=\"gpt-4o\",\n",
    "                messages=[{\"role\": \"user\", \"content\": prompt}],\n",
    "                temperature=0.85,\n",
    "                max_tokens=1024,\n",
    "            )\n",
    "            result = response.choices[0].message.content.strip()\n",
    "            unique_conversations.add(result)\n",
    "        except Exception as e:\n",
    "            print(f\"[{topic_key}] 오류 발생: {e}\")\n",
    "    return list(unique_conversations)\n",
    "\n",
    "async def main(total_per_topic=5000):\n",
    "    timestamp = datetime.now().strftime(\"%Y%m%d_%H%M%S\")\n",
    "    for topic_key, topic_kr in TOPICS.items():\n",
    "        print(f\"\\n🔹 '{topic_key}' 주제 생성 시작...\")\n",
    "        results = await generate_turns(topic_key, topic_kr, total_per_topic)\n",
    "        df = pd.DataFrame({\"topic\": topic_key, \"conversation\": results})\n",
    "        filename = f\"{topic_key}_chats_{timestamp}.csv\"\n",
    "        df.to_csv(filename, index=False, encoding=\"utf-8-sig\")\n",
    "        print(f\"✅ 저장 완료: {filename} (총 {len(df)}개)\")\n",
    "\n",
    "# ✅ Jupyter에서는 이렇게 실행\n",
    "await main(total_per_topic=5000)\n"
   ]
  }
 ],
 "metadata": {
  "kernelspec": {
   "display_name": "Python 3 (ipykernel)",
   "language": "python",
   "name": "python3"
  },
  "language_info": {
   "codemirror_mode": {
    "name": "ipython",
    "version": 3
   },
   "file_extension": ".py",
   "mimetype": "text/x-python",
   "name": "python",
   "nbconvert_exporter": "python",
   "pygments_lexer": "ipython3",
   "version": "3.10.9"
  },
  "toc": {
   "base_numbering": 1,
   "nav_menu": {},
   "number_sections": false,
   "sideBar": true,
   "skip_h1_title": false,
   "title_cell": "Table of Contents",
   "title_sidebar": "Contents",
   "toc_cell": false,
   "toc_position": {},
   "toc_section_display": true,
   "toc_window_display": false
  }
 },
 "nbformat": 4,
 "nbformat_minor": 5
}
