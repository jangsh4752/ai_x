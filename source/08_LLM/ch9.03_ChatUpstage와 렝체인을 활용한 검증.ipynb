{
 "cells": [
  {
   "cell_type": "code",
   "execution_count": 1,
   "id": "494cb5a2",
   "metadata": {},
   "outputs": [
    {
     "data": {
      "text/html": [
       "\n",
       "<style>\n",
       "div.container{width:100% !important;}\n",
       "div.cell.code_cell.rendered{width:100%;}\n",
       "div.input_prompt{padding:0px;}\n",
       "div.CodeMirror {font-family:Consolas; font-size:20pt;}\n",
       "div.text_cell_render.rendered_html{font-size:18pt;}\n",
       "div.text_cell_render.rendered_html{font-size:15pt;}\n",
       "div.output {font-size:18pt; font-weight:bold;}\n",
       "div.input {font-family:Consolas; font-size:18pt;}\n",
       "div.prompt {min-width:70px;}\n",
       "div#toc-wrapper{padding-top:120px;}\n",
       "div.text_cell_render ul li{font-size:18pt;padding:5px;}\n",
       "table.dataframe{font-size:18px;}\n",
       "</style>\n"
      ],
      "text/plain": [
       "<IPython.core.display.HTML object>"
      ]
     },
     "metadata": {},
     "output_type": "display_data"
    }
   ],
   "source": [
    "from IPython.display import display, HTML\n",
    "display(HTML(\"\"\"\n",
    "<style>\n",
    "div.container{width:100% !important;}\n",
    "div.cell.code_cell.rendered{width:100%;}\n",
    "div.input_prompt{padding:0px;}\n",
    "div.CodeMirror {font-family:Consolas; font-size:20pt;}\n",
    "div.text_cell_render.rendered_html{font-size:18pt;}\n",
    "div.text_cell_render.rendered_html{font-size:15pt;}\n",
    "div.output {font-size:18pt; font-weight:bold;}\n",
    "div.input {font-family:Consolas; font-size:18pt;}\n",
    "div.prompt {min-width:70px;}\n",
    "div#toc-wrapper{padding-top:120px;}\n",
    "div.text_cell_render ul li{font-size:18pt;padding:5px;}\n",
    "table.dataframe{font-size:18px;}\n",
    "</style>\n",
    "\"\"\"))"
   ]
  },
  {
   "cell_type": "markdown",
   "id": "db57d3e4",
   "metadata": {},
   "source": [
    "# 1.  환경(패키지 및 환경변수)\n",
    "- pip install langchain-upstage"
   ]
  },
  {
   "cell_type": "code",
   "execution_count": 4,
   "id": "58e44f48",
   "metadata": {},
   "outputs": [
    {
     "name": "stdout",
     "output_type": "stream",
     "text": [
      "Note: you may need to restart the kernel to use updated packages.\n"
     ]
    }
   ],
   "source": [
    "%pip install -q langchain-upstage"
   ]
  },
  {
   "cell_type": "code",
   "execution_count": 1,
   "id": "ebdccd97",
   "metadata": {},
   "outputs": [
    {
     "data": {
      "text/plain": [
       "True"
      ]
     },
     "execution_count": 1,
     "metadata": {},
     "output_type": "execute_result"
    }
   ],
   "source": [
    "from dotenv import load_dotenv\n",
    "load_dotenv()"
   ]
  },
  {
   "cell_type": "markdown",
   "id": "9afdc9c3",
   "metadata": {},
   "source": [
    "# 2. LLM 답변 생성\n",
    "## 2.1 OpenAI SDK를 사용"
   ]
  },
  {
   "cell_type": "code",
   "execution_count": 2,
   "id": "1fa7b570",
   "metadata": {},
   "outputs": [],
   "source": [
    "from openai import OpenAI # openai==1.52.2\n",
    "import os\n",
    "upstage_api_key = os.getenv(\"UPSTAGE_API_KEY\")\n",
    "\n",
    "client = OpenAI(\n",
    "    api_key=upstage_api_key,\n",
    "    base_url=\"https://api.upstage.ai/v1\"\n",
    ")\n",
    "stream = client.chat.completions.create(\n",
    "    model=\"solar-pro2\",\n",
    "    messages=[\n",
    "        {\n",
    "            \"role\": \"user\",\n",
    "            \"content\": \"2020년 월드 시리즈 누가 우승했어?\"\n",
    "        }\n",
    "    ],\n",
    "    stream=False,\n",
    ")"
   ]
  },
  {
   "cell_type": "code",
   "execution_count": 6,
   "id": "910172d5",
   "metadata": {},
   "outputs": [
    {
     "name": "stdout",
     "output_type": "stream",
     "text": [
      "2020년 월드 시리즈에서는 **로스앤젤레스 다저스**가 우승했습니다.  \n",
      "\n",
      "- **결승 상대**: 탬파베이 레이스  \n",
      "- **시리즈 전적**: 4승 2패로 다저스 승리  \n",
      "- **MVP**: 다저스의 불펜 투수 **코리 시거**(Corey Seager, 당시 포지션: 유격수)가 수상했습니다.  \n",
      "\n",
      "이 시리즈는 코로나19 팬데믹 영향으로 무관중 경기로 진행되었으며, 다저스는 프랜차이즈 역사상 **3번째 월드 시리즈 우승**을 달성했습니다. (이전 우승: 1955, 1988년)\n"
     ]
    }
   ],
   "source": [
    "print(stream.choices[0].message.content)"
   ]
  },
  {
   "cell_type": "markdown",
   "id": "26421443",
   "metadata": {},
   "source": [
    "# 2.2 LangChain을 선택\n",
    "- 발급받은 API Key를 .env에 UPSTAGE_API_KEY라고 저장하면 별도의 설정없이 ChatUpstage를 바로 사용"
   ]
  },
  {
   "cell_type": "code",
   "execution_count": 2,
   "id": "5b2ae279",
   "metadata": {},
   "outputs": [
    {
     "data": {
      "text/plain": [
       "AIMessage(content='2020년 월드 시리즈는 로스앤젤레스 다저스가 우승했습니다. 이는 그들의 7번째 월드 시리즈 타이틀이었으며, 1988년 이후 32년 만의 우승이었습니다. 시리즈는 COVID-19 팬데믹으로 인해 6경기만으로 진행되었고, 다저스가 탬파베이 레이스를 4승 2패로 이기며 우승을 차지했습니다.', additional_kwargs={'refusal': None}, response_metadata={'token_usage': {'completion_tokens': 87, 'prompt_tokens': 36, 'total_tokens': 123, 'completion_tokens_details': None, 'prompt_tokens_details': None}, 'model_name': 'solar-mini-250422', 'system_fingerprint': None, 'id': '30e39774-e4f5-40af-bab8-c0ade2e808e3', 'service_tier': None, 'finish_reason': 'stop', 'logprobs': None}, id='run--8fdcb9ff-8d74-486a-a2e2-cbe3c80359c5-0', usage_metadata={'input_tokens': 36, 'output_tokens': 87, 'total_tokens': 123, 'input_token_details': {}, 'output_token_details': {}})"
      ]
     },
     "execution_count": 2,
     "metadata": {},
     "output_type": "execute_result"
    }
   ],
   "source": [
    "from langchain_upstage import ChatUpstage\n",
    "from langchain_core.messages import SystemMessage, HumanMessage\n",
    "llm = ChatUpstage()\n",
    "messages = [\n",
    "    SystemMessage(content=\"너는 친절하게 대답해 주는 비서야\"),\n",
    "    HumanMessage(content=\"2020년 월드 시리즈 누가 우승했어?\")\n",
    "]\n",
    "ai_message = llm.invoke(input=messages)\n",
    "ai_message"
   ]
  },
  {
   "cell_type": "code",
   "execution_count": 3,
   "id": "4f329635",
   "metadata": {},
   "outputs": [
    {
     "data": {
      "text/plain": [
       "'2020년 월드 시리즈는 로스앤젤레스 다저스가 우승했습니다. 이는 그들의 7번째 월드 시리즈 타이틀이었으며, 1988년 이후 32년 만의 우승이었습니다. 시리즈는 COVID-19 팬데믹으로 인해 6경기만으로 진행되었고, 다저스가 탬파베이 레이스를 4승 2패로 이기며 우승을 차지했습니다.'"
      ]
     },
     "execution_count": 3,
     "metadata": {},
     "output_type": "execute_result"
    }
   ],
   "source": [
    "ai_message.content"
   ]
  },
  {
   "cell_type": "code",
   "execution_count": null,
   "id": "43f29f01",
   "metadata": {},
   "outputs": [],
   "source": []
  },
  {
   "cell_type": "code",
   "execution_count": null,
   "id": "ffbb0481",
   "metadata": {},
   "outputs": [],
   "source": []
  },
  {
   "cell_type": "code",
   "execution_count": null,
   "id": "89a11751",
   "metadata": {},
   "outputs": [],
   "source": []
  },
  {
   "cell_type": "code",
   "execution_count": null,
   "id": "1b102358",
   "metadata": {},
   "outputs": [],
   "source": []
  },
  {
   "cell_type": "code",
   "execution_count": null,
   "id": "c99e8afa",
   "metadata": {},
   "outputs": [],
   "source": []
  }
 ],
 "metadata": {
  "kernelspec": {
   "display_name": "llm(ipykernel)",
   "language": "python",
   "name": "llm"
  },
  "language_info": {
   "codemirror_mode": {
    "name": "ipython",
    "version": 3
   },
   "file_extension": ".py",
   "mimetype": "text/x-python",
   "name": "python",
   "nbconvert_exporter": "python",
   "pygments_lexer": "ipython3",
   "version": "3.10.18"
  }
 },
 "nbformat": 4,
 "nbformat_minor": 5
}
