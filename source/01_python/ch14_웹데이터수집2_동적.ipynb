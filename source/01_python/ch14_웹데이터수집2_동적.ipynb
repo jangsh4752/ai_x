{
 "cells": [
  {
   "cell_type": "code",
   "execution_count": 1,
   "id": "2b4bac88",
   "metadata": {},
   "outputs": [
    {
     "data": {
      "text/html": [
       "\n",
       "<style>\n",
       "div.container{width:86% !important;}\n",
       "div.cell.code_cell.rendered{width:100%;}\n",
       "div.CodeMirror {font-family:Consolas; font-size:12pt;}\n",
       "div.output {font-size:15pt; font-weight:bold;}\n",
       "div.input {font-family:Consolas; font-size:12pt;}\n",
       "div.prompt {min-width:70px;}\n",
       "div#toc-wrapper{padding-top:120px;}\n",
       "div.text_cell_render ul li{font-size:12pt;padding:5px;}\n",
       "table.dataframe{font-size:15px;}\n",
       "</style>\n"
      ],
      "text/plain": [
       "<IPython.core.display.HTML object>"
      ]
     },
     "metadata": {},
     "output_type": "display_data"
    }
   ],
   "source": [
    "from IPython.display import display, HTML\n",
    "display(HTML(\"\"\"\n",
    "<style>\n",
    "div.container{width:86% !important;}\n",
    "div.cell.code_cell.rendered{width:100%;}\n",
    "div.CodeMirror {font-family:Consolas; font-size:12pt;}\n",
    "div.output {font-size:15pt; font-weight:bold;}\n",
    "div.input {font-family:Consolas; font-size:12pt;}\n",
    "div.prompt {min-width:70px;}\n",
    "div#toc-wrapper{padding-top:120px;}\n",
    "div.text_cell_render ul li{font-size:12pt;padding:5px;}\n",
    "table.dataframe{font-size:15px;}\n",
    "</style>\n",
    "\"\"\"))"
   ]
  },
  {
   "cell_type": "markdown",
   "id": "0f51bcc8",
   "metadata": {},
   "source": [
    "<b><font size=\"5\" color=\"red\"> ch14. 웹데이터 수집</font></b>\n",
    "# 3절. 동적 웹데이터 수집\n",
    "## 3.1 문법\n",
    "```\n",
    "pip install selenium\n",
    "```\n",
    "Docs : https://www.selenium.dev/documentation/"
   ]
  },
  {
   "cell_type": "code",
   "execution_count": 30,
   "id": "32273f73",
   "metadata": {},
   "outputs": [],
   "source": [
    "from selenium import webdriver\n",
    "from selenium.webdriver.common.by import By\n",
    "from selenium.webdriver.common.keys import Keys\n",
    "driver = webdriver.Chrome()\n",
    "driver.get(\"http://www.python.org\")\n",
    "elem = driver.find_element(By.NAME, 'q')\n",
    "elem.clear()\n",
    "elem.send_keys('pycon')\n",
    "elem.send_keys(Keys.RETURN) # enter효과"
   ]
  },
  {
   "cell_type": "code",
   "execution_count": 21,
   "id": "1d4988ca",
   "metadata": {},
   "outputs": [],
   "source": [
    "result_list = driver.find_elements(By.CSS_SELECTOR, 'li > h3 > a')\n",
    "for result in result_list :\n",
    "    print(\"{} - {}\".format(result.text, result.get_attribute('href')))"
   ]
  },
  {
   "cell_type": "code",
   "execution_count": 22,
   "id": "7bffa69f",
   "metadata": {},
   "outputs": [],
   "source": [
    "from bs4 import BeautifulSoup\n",
    "soup = BeautifulSoup(driver.page_source, \"html.parser\")\n",
    "result_list = soup.select(\"li > h3 > a\")\n",
    "for result in result_list :\n",
    "    print(\"{} - {}\".format(result.text, result.attrs['href']))"
   ]
  },
  {
   "cell_type": "code",
   "execution_count": 17,
   "id": "dd525d50",
   "metadata": {},
   "outputs": [
    {
     "name": "stdout",
     "output_type": "stream",
     "text": [
      "현재 주소 :  https://www.python.org/search/?q=pycon&submit=\n",
      "parse_url :  ParseResult(scheme='https', netloc='www.python.org', path='/search/', params='', query='q=pycon&submit=', fragment='')\n",
      "https://www.python.org\n"
     ]
    }
   ],
   "source": [
    "# 셀리니움을 통해 접근한 현재 url\n",
    "from urllib.parse import urlparse\n",
    "current_url = driver.current_url\n",
    "print(\"현재 주소 : \", current_url)\n",
    "parse_url = urlparse(current_url)\n",
    "print(\"parse_url : \", parse_url)\n",
    "domain = f\"{parse_url.scheme}://{parse_url.netloc}\"\n",
    "print(domain)"
   ]
  },
  {
   "cell_type": "code",
   "execution_count": 23,
   "id": "9c3bf6e1",
   "metadata": {},
   "outputs": [
    {
     "name": "stdout",
     "output_type": "stream",
     "text": [
      "PSF PyCon Trademark Usage Policy -  https://www.python.org/psf/trademarks/pycon\n",
      "PyCon Italia 2016 (PyCon Sette) -  https://www.python.org/events/python-events/378/\n",
      "PyCon Australia 2013 -  https://www.python.org/events/python-events/57/\n",
      "PyCon AU 2019 -  https://www.python.org/events/python-events/776/\n",
      "PyCon Australia 2014 -  https://www.python.org/events/python-events/10/\n",
      "PyCon Ireland 2012 -  https://www.python.org/events/python-events/76/\n",
      "PyCon Ireland 2016 -  https://www.python.org/events/python-events/429/\n",
      "PyCon Ireland 2022 -  https://www.python.org/events/python-events/1320/\n",
      "PyCon Australia 2014 -  https://www.python.org/events/python-events/1447/\n",
      "PyCon Ireland 2024 -  https://www.python.org/events/python-events/1862/\n",
      "PyCon APAC 2025 -  https://www.python.org/events/python-events/1879/\n",
      "PyCon AU 2018 -  https://www.python.org/events/python-events/696/\n",
      "PyCon APAC 2022 -  https://www.python.org/events/python-events/1216/\n",
      "PyCon PH 2024 -  https://www.python.org/events/python-events/1661/\n",
      "PyCon Ireland 2023 -  https://www.python.org/events/python-events/1568/\n",
      "PyCon PL 2014 -  https://www.python.org/events/python-events/191/\n",
      "PyCon MY 2015 -  https://www.python.org/events/python-events/313/\n",
      "PyCon Ireland 2015 -  https://www.python.org/events/python-events/333/\n",
      "PyCon AU 2015 -  https://www.python.org/events/python-events/273/\n",
      "PyCon Australia 2016 -  https://www.python.org/events/python-events/357/\n"
     ]
    }
   ],
   "source": [
    "from bs4 import BeautifulSoup\n",
    "soup = BeautifulSoup(driver.page_source, \"html.parser\")\n",
    "result_list = soup.select(\"li > h3 > a\")\n",
    "for result in result_list :\n",
    "    print(\"{} -  {}\".format(result.text, domain+result.attrs['href']))"
   ]
  },
  {
   "cell_type": "code",
   "execution_count": 56,
   "id": "701020b7",
   "metadata": {},
   "outputs": [
    {
     "ename": "InvalidSessionIdException",
     "evalue": "Message: invalid session id\nStacktrace:\n\tGetHandleVerifier [0x0x7ff620456f65+78965]\n\tGetHandleVerifier [0x0x7ff620456fc0+79056]\n\t(No symbol) [0x0x7ff6201e9c0c]\n\t(No symbol) [0x0x7ff62023043f]\n\t(No symbol) [0x0x7ff620268532]\n\t(No symbol) [0x0x7ff620262f5c]\n\t(No symbol) [0x0x7ff620262039]\n\t(No symbol) [0x0x7ff6201b5fc5]\n\tGetHandleVerifier [0x0x7ff62070e26d+2926461]\n\tGetHandleVerifier [0x0x7ff620708993+2903715]\n\tGetHandleVerifier [0x0x7ff620726aed+3026941]\n\tGetHandleVerifier [0x0x7ff6204716fe+187406]\n\tGetHandleVerifier [0x0x7ff6204796ef+220159]\n\t(No symbol) [0x0x7ff6201b5036]\n\tGetHandleVerifier [0x0x7ff6208172f8+4012040]\n\tBaseThreadInitThunk [0x0x7ffa4cb97374+20]\n\tRtlUserThreadStart [0x0x7ffa4ea7cc91+33]\n",
     "output_type": "error",
     "traceback": [
      "\u001b[1;31m---------------------------------------------------------------------------\u001b[0m",
      "\u001b[1;31mInvalidSessionIdException\u001b[0m                 Traceback (most recent call last)",
      "Cell \u001b[1;32mIn[56], line 1\u001b[0m\n\u001b[1;32m----> 1\u001b[0m \u001b[43mdriver\u001b[49m\u001b[38;5;241;43m.\u001b[39;49m\u001b[43mclose\u001b[49m\u001b[43m(\u001b[49m\u001b[43m)\u001b[49m\n",
      "File \u001b[1;32m~\\anaconda3\\lib\\site-packages\\selenium\\webdriver\\remote\\webdriver.py:595\u001b[0m, in \u001b[0;36mWebDriver.close\u001b[1;34m(self)\u001b[0m\n\u001b[0;32m    588\u001b[0m \u001b[38;5;28;01mdef\u001b[39;00m \u001b[38;5;21mclose\u001b[39m(\u001b[38;5;28mself\u001b[39m) \u001b[38;5;241m-\u001b[39m\u001b[38;5;241m>\u001b[39m \u001b[38;5;28;01mNone\u001b[39;00m:\n\u001b[0;32m    589\u001b[0m     \u001b[38;5;124;03m\"\"\"Closes the current window.\u001b[39;00m\n\u001b[0;32m    590\u001b[0m \n\u001b[0;32m    591\u001b[0m \u001b[38;5;124;03m    Example:\u001b[39;00m\n\u001b[0;32m    592\u001b[0m \u001b[38;5;124;03m    --------\u001b[39;00m\n\u001b[0;32m    593\u001b[0m \u001b[38;5;124;03m    >>> driver.close()\u001b[39;00m\n\u001b[0;32m    594\u001b[0m \u001b[38;5;124;03m    \"\"\"\u001b[39;00m\n\u001b[1;32m--> 595\u001b[0m     \u001b[38;5;28;43mself\u001b[39;49m\u001b[38;5;241;43m.\u001b[39;49m\u001b[43mexecute\u001b[49m\u001b[43m(\u001b[49m\u001b[43mCommand\u001b[49m\u001b[38;5;241;43m.\u001b[39;49m\u001b[43mCLOSE\u001b[49m\u001b[43m)\u001b[49m\n",
      "File \u001b[1;32m~\\anaconda3\\lib\\site-packages\\selenium\\webdriver\\remote\\webdriver.py:447\u001b[0m, in \u001b[0;36mWebDriver.execute\u001b[1;34m(self, driver_command, params)\u001b[0m\n\u001b[0;32m    445\u001b[0m response \u001b[38;5;241m=\u001b[39m \u001b[38;5;28mself\u001b[39m\u001b[38;5;241m.\u001b[39mcommand_executor\u001b[38;5;241m.\u001b[39mexecute(driver_command, params)\n\u001b[0;32m    446\u001b[0m \u001b[38;5;28;01mif\u001b[39;00m response:\n\u001b[1;32m--> 447\u001b[0m     \u001b[38;5;28;43mself\u001b[39;49m\u001b[38;5;241;43m.\u001b[39;49m\u001b[43merror_handler\u001b[49m\u001b[38;5;241;43m.\u001b[39;49m\u001b[43mcheck_response\u001b[49m\u001b[43m(\u001b[49m\u001b[43mresponse\u001b[49m\u001b[43m)\u001b[49m\n\u001b[0;32m    448\u001b[0m     response[\u001b[38;5;124m\"\u001b[39m\u001b[38;5;124mvalue\u001b[39m\u001b[38;5;124m\"\u001b[39m] \u001b[38;5;241m=\u001b[39m \u001b[38;5;28mself\u001b[39m\u001b[38;5;241m.\u001b[39m_unwrap_value(response\u001b[38;5;241m.\u001b[39mget(\u001b[38;5;124m\"\u001b[39m\u001b[38;5;124mvalue\u001b[39m\u001b[38;5;124m\"\u001b[39m, \u001b[38;5;28;01mNone\u001b[39;00m))\n\u001b[0;32m    449\u001b[0m     \u001b[38;5;28;01mreturn\u001b[39;00m response\n",
      "File \u001b[1;32m~\\anaconda3\\lib\\site-packages\\selenium\\webdriver\\remote\\errorhandler.py:232\u001b[0m, in \u001b[0;36mErrorHandler.check_response\u001b[1;34m(self, response)\u001b[0m\n\u001b[0;32m    230\u001b[0m         alert_text \u001b[38;5;241m=\u001b[39m value[\u001b[38;5;124m\"\u001b[39m\u001b[38;5;124malert\u001b[39m\u001b[38;5;124m\"\u001b[39m]\u001b[38;5;241m.\u001b[39mget(\u001b[38;5;124m\"\u001b[39m\u001b[38;5;124mtext\u001b[39m\u001b[38;5;124m\"\u001b[39m)\n\u001b[0;32m    231\u001b[0m     \u001b[38;5;28;01mraise\u001b[39;00m exception_class(message, screen, stacktrace, alert_text)  \u001b[38;5;66;03m# type: ignore[call-arg]  # mypy is not smart enough here\u001b[39;00m\n\u001b[1;32m--> 232\u001b[0m \u001b[38;5;28;01mraise\u001b[39;00m exception_class(message, screen, stacktrace)\n",
      "\u001b[1;31mInvalidSessionIdException\u001b[0m: Message: invalid session id\nStacktrace:\n\tGetHandleVerifier [0x0x7ff620456f65+78965]\n\tGetHandleVerifier [0x0x7ff620456fc0+79056]\n\t(No symbol) [0x0x7ff6201e9c0c]\n\t(No symbol) [0x0x7ff62023043f]\n\t(No symbol) [0x0x7ff620268532]\n\t(No symbol) [0x0x7ff620262f5c]\n\t(No symbol) [0x0x7ff620262039]\n\t(No symbol) [0x0x7ff6201b5fc5]\n\tGetHandleVerifier [0x0x7ff62070e26d+2926461]\n\tGetHandleVerifier [0x0x7ff620708993+2903715]\n\tGetHandleVerifier [0x0x7ff620726aed+3026941]\n\tGetHandleVerifier [0x0x7ff6204716fe+187406]\n\tGetHandleVerifier [0x0x7ff6204796ef+220159]\n\t(No symbol) [0x0x7ff6201b5036]\n\tGetHandleVerifier [0x0x7ff6208172f8+4012040]\n\tBaseThreadInitThunk [0x0x7ffa4cb97374+20]\n\tRtlUserThreadStart [0x0x7ffa4ea7cc91+33]\n"
     ]
    }
   ],
   "source": [
    "driver.close() # 브라우저 종료"
   ]
  },
  {
   "cell_type": "markdown",
   "id": "7b082f30",
   "metadata": {},
   "source": [
    "## 3.2 예제\n",
    "### 1) 다음 뉴스 검색"
   ]
  },
  {
   "cell_type": "code",
   "execution_count": 48,
   "id": "8810d4db",
   "metadata": {},
   "outputs": [
    {
     "name": "stdout",
     "output_type": "stream",
     "text": [
      "가격 하락에도 기관 자금은 ‘역주행’···비트코인 ETF에 42억 달러 유입 http://v.daum.net/v/20250530140605584\n",
      "‘클릭 한번에 150억원’ 비트코인 최고가 경신에... 암호화폐 부자 노린 강력범죄 급증 http://v.daum.net/v/20250530134417903\n",
      "\"조정 왔나\"…비트코인, 기관 수요에도 1억4700만원대로 '털썩' http://v.daum.net/v/20250530094255957\n",
      "[비트코인 2025]대세 떠오른 비트코인 비축기업들 http://v.daum.net/v/20250530150900894\n",
      "[비트코인 2025] 테더 CEO “올해 말 세계 최대 비트코인 채굴기업 될 것” http://v.daum.net/v/20250530090905481\n",
      "[비트코인 2025]세계최대 스테이블코인 테더 CEO “비트코인까지 쓸어담을 것” http://v.daum.net/v/20250530151200002\n",
      "떨어지는 비트코인 http://v.daum.net/v/20250530103117094\n",
      "하락세 탄 비트코인 http://v.daum.net/v/20250530103107086\n",
      "[비즈 나우] 美, 1경 '은퇴자금' 비트코인 투자 빗장 풀었다 http://v.daum.net/v/20250530074812188\n",
      "\"지금 들어갈까\"...천장 뚫던 비트코인 '주춤' http://v.daum.net/v/20250530080346539\n"
     ]
    }
   ],
   "source": [
    "from selenium import webdriver\n",
    "from selenium.webdriver.common.by import By\n",
    "from selenium.webdriver.common.keys import Keys\n",
    "import time\n",
    "driver = webdriver.Chrome()\n",
    "driver.get(\"https://www.daum.net/\")\n",
    "time.sleep(1)\n",
    "# input 태그 click\n",
    "driver.find_element(By.NAME, 'q').click()\n",
    "query = '비트코인'\n",
    "driver.find_element(By.CSS_SELECTOR, 'input[type=\"text\"]').send_keys(query)\n",
    "driver.find_element(By.CLASS_NAME, 'btn_ksearch').click()\n",
    "time.sleep(2)\n",
    "# 뉴스탭 클릭 : ul.list_tab > li\n",
    "# driver.find_elements(By.CSS_SELECTOR, 'ul.list_tab > li')[3].click()\n",
    "driver.find_element(By.LINK_TEXT, '뉴스').click()\n",
    "time.sleep(2)\n",
    "# div.item-title > strong.tit-g.clamp-g > a\n",
    "news_list = []\n",
    "elems = driver.find_elements(By.CSS_SELECTOR, 'div.item-title > strong.tit-g.clamp-g > a')\n",
    "for elem in elems : \n",
    "    title = elem.text\n",
    "    link  = elem.get_attribute('href')\n",
    "    news_list.append([title, link])\n",
    "    print(title, link)"
   ]
  },
  {
   "cell_type": "code",
   "execution_count": 51,
   "id": "097d54f0",
   "metadata": {},
   "outputs": [],
   "source": [
    "# 2page로 이동\n",
    "page_div = driver.find_element(By.CSS_SELECTOR, 'div.inner_paging')\n",
    "# print(page_div.text)\n",
    "next_page = page_div.find_element(By.LINK_TEXT, '2')\n",
    "next_page.click()"
   ]
  },
  {
   "cell_type": "markdown",
   "id": "3b2cc62c",
   "metadata": {},
   "source": [
    "#### 페이징 처리\n",
    "- 다음 뉴스 검색 : 원하는 단어를 원하는 page수만큼"
   ]
  },
  {
   "cell_type": "code",
   "execution_count": 60,
   "id": "0b9649e5",
   "metadata": {},
   "outputs": [
    {
     "name": "stdout",
     "output_type": "stream",
     "text": [
      "검색하고자 하는 단어는?청바지\n",
      "현재 1페이지 데이터 수집 중입니다.\n",
      "현재 2페이지 데이터 수집 중입니다.\n",
      "현재 3페이지 데이터 수집 중입니다.\n"
     ]
    }
   ],
   "source": [
    "from selenium import webdriver\n",
    "from selenium.webdriver.common.by import By\n",
    "from selenium.webdriver.common.keys import Keys\n",
    "import time\n",
    "driver = webdriver.Chrome()\n",
    "driver.get(\"https://www.daum.net/\")\n",
    "time.sleep(1)\n",
    "# input 태그 click\n",
    "driver.find_element(By.NAME, 'q').click()\n",
    "query = input('검색하고자 하는 단어는?')\n",
    "driver.find_element(By.CSS_SELECTOR, 'input[type=\"text\"]').send_keys(query)\n",
    "driver.find_element(By.CLASS_NAME, 'btn_ksearch').click()\n",
    "time.sleep(2)\n",
    "# 뉴스탭 클릭 : ul.list_tab > li\n",
    "# driver.find_elements(By.CSS_SELECTOR, 'ul.list_tab > li')[3].click()\n",
    "driver.find_element(By.LINK_TEXT, '뉴스').click()\n",
    "time.sleep(2)\n",
    "news_list = []\n",
    "pages = 3\n",
    "for page in range(1, pages+1) :\n",
    "    elems = driver.find_elements(By.CSS_SELECTOR, 'div.item-title > strong.tit-g.clamp-g > a')\n",
    "    for elem in elems : \n",
    "        title = elem.text\n",
    "        link  = elem.get_attribute('href')\n",
    "        news_list.append([title, link])\n",
    "#         print(title, link)\n",
    "    # 2page로 이동\n",
    "    page_div = driver.find_element(By.CSS_SELECTOR, 'div.inner_paging')\n",
    "    # print(page_div.text)\n",
    "    next_page = page_div.find_element(By.LINK_TEXT, str(page+1) )\n",
    "    next_page.click()\n",
    "    time.sleep(1.5)\n",
    "    print(f\"현재 {page}페이지 데이터 수집 중입니다.\")\n",
    "driver.close()\n",
    "import pandas as pd\n",
    "df = pd.DataFrame(news_list, columns = ['title', 'link'])\n",
    "df.to_csv('data/ch14_daum.csv', index=False)"
   ]
  },
  {
   "cell_type": "markdown",
   "id": "c1fb94c5",
   "metadata": {},
   "source": [
    "### 2) 맞춤법 검사기\n",
    "- 네이버 맞춤법 검사기 이용"
   ]
  },
  {
   "cell_type": "code",
   "execution_count": 62,
   "id": "f0af3060",
   "metadata": {},
   "outputs": [],
   "source": [
    "f = open('data/ch14_맞춤법전.txt', 'r', encoding='utf-8')\n",
    "text = f.read()\n",
    "f.close()"
   ]
  },
  {
   "cell_type": "code",
   "execution_count": 63,
   "id": "bca27d9d",
   "metadata": {},
   "outputs": [
    {
     "name": "stdout",
     "output_type": "stream",
     "text": [
      "총글자 수 : 2052\n",
      "223\n",
      "248\n",
      "232\n",
      "259\n",
      "249\n",
      "190\n",
      "166\n",
      "181\n",
      "297\n"
     ]
    },
    {
     "data": {
      "text/plain": [
       "['안뇽하십니까? 방갑',\n",
       " '\\n가장 먼져 떠오르',\n",
       " '\\n다음으로 중요한 ',\n",
       " '\\n성장과 배움 또한',\n",
       " '\\n신체적, 정신적 ',\n",
       " '\\n살다 보면 예상치',\n",
       " '\\n현재를 감사하고 ',\n",
       " '\\n마지막으로, 자신',\n",
       " '\\n결국 좋은 인생은',\n",
       " '\\n감샤합니다.']"
      ]
     },
     "execution_count": 63,
     "metadata": {},
     "output_type": "execute_result"
    }
   ],
   "source": [
    "# ch14_맞춤법전.txt를 300자이내로 자르기\n",
    "with open('data/ch14_맞춤법전.txt', 'r', encoding='utf-8') as f:\n",
    "    text = f.read()\n",
    "print('총글자 수 :',len(text))\n",
    "ready_list = [] # 맞춤법 검사할 text 내용(300이자 이내로 list)\n",
    "while(len(text) > 300):\n",
    "    temp = text[:300]\n",
    "    new_line_char_index = temp.rfind('\\n')\n",
    "    print(new_line_char_index)\n",
    "    ready_list.append(text[:new_line_char_index])\n",
    "    text = text[new_line_char_index:]\n",
    "ready_list.append(text)\n",
    "[ready[:10] for ready in ready_list]"
   ]
  },
  {
   "cell_type": "code",
   "execution_count": 64,
   "id": "197c7857",
   "metadata": {},
   "outputs": [],
   "source": [
    "from selenium import webdriver\n",
    "from selenium.webdriver.common.by import By\n",
    "from selenium.webdriver.common.keys import Keys\n",
    "import time\n",
    "driver = webdriver.Chrome()\n",
    "time.sleep(0.5)\n",
    "driver.get('https://www.naver.com/')\n",
    "input_elem = driver.find_element(By.CSS_SELECTOR, 'input[name=\"query\"]')\n",
    "input_elem.send_keys('맞춤법 검사기')\n",
    "input_elem.send_keys(Keys.RETURN)\n",
    "time.sleep(0.5)\n",
    "textarea = driver.find_element(By.CLASS_NAME, 'txt_gray')\n",
    "textarea.send_keys(ready_list[0])\n",
    "\n",
    "button = driver.find_element(By.CLASS_NAME, 'btn_check')\n",
    "button.click()"
   ]
  },
  {
   "cell_type": "code",
   "execution_count": 65,
   "id": "26ec33d6",
   "metadata": {},
   "outputs": [
    {
     "data": {
      "text/plain": [
       "'안녕하십니까? 반갑습니다.좋은 인생이란 무엇일까요?우리는 종종 좋은 인생에 대해 생각합니다. 물질적인 풍요, 사회적 성공, 혹은 그저 평온하고 행복한 일상일까요? 아마도 좋은 인생은 이 모든 것을 포괄하면서도, 개인의 가치관과 삶의 방향에 따라 다르게 정의될 수 있는 주관적인 개념일 것입니다. 보편적으로 동의할 수 있는 몇 가지 요소들을 중심으로, 좋은 인생에 대한 생각을 풀어보고자 합니다.'"
      ]
     },
     "execution_count": 65,
     "metadata": {},
     "output_type": "execute_result"
    }
   ],
   "source": []
  },
  {
   "cell_type": "code",
   "execution_count": 66,
   "id": "53f0579d",
   "metadata": {},
   "outputs": [],
   "source": [
    "from selenium import webdriver\n",
    "from selenium.webdriver.common.by import By\n",
    "from selenium.webdriver.common.keys import Keys\n",
    "import time\n",
    "\n",
    "driver = webdriver.Chrome()\n",
    "time.sleep(0.5)\n",
    "driver.get('https://www.naver.com/')\n",
    "input_elem = driver.find_element(By.CSS_SELECTOR, 'input[name=\"query\"]')\n",
    "input_elem.send_keys('맞춤법 검사기')\n",
    "input_elem.send_keys(Keys.RETURN)\n",
    "time.sleep(0.5)\n",
    "results = '' # 맞춤법 검사 후 내용\n",
    "textarea = driver.find_element(By.CLASS_NAME, 'txt_gray')\n",
    "\n",
    "for ready in ready_list:\n",
    "    time.sleep(2)    \n",
    "    textarea.send_keys(Keys.CONTROL, 'a') # control + a\n",
    "    textarea.send_keys(ready)\n",
    "\n",
    "    button = driver.find_element(By.CLASS_NAME, 'btn_check')\n",
    "    button.click()\n",
    "    time.sleep(2)\n",
    "    soup = BeautifulSoup(driver.page_source, \"html.parser\")\n",
    "    result = soup.select_one('p._result_text.stand_txt').text\n",
    "    results += result + '\\n\\n'\n",
    "driver.close()\n",
    "with open('data/ch14_맞춤법후.txt', 'w', encoding='utf-8') as f:\n",
    "    f.write(results)"
   ]
  },
  {
   "cell_type": "code",
   "execution_count": 79,
   "id": "ed9b3f10",
   "metadata": {},
   "outputs": [
    {
     "name": "stdout",
     "output_type": "stream",
     "text": [
      "960\n",
      "786\n"
     ]
    }
   ],
   "source": [
    "with open('data/ch14_맞춤법후.txt', 'r', encoding='utf-8') as f:\n",
    "    text = f.read()\n",
    "ready_list = []\n",
    "while(len(text) > 1000):\n",
    "    temp = text[:999]\n",
    "    new_line_char_index = temp.rfind('\\n')\n",
    "    print(new_line_char_index)\n",
    "    ready_list.append(text[:new_line_char_index])\n",
    "    text = text[new_line_char_index:]\n",
    "ready_list.append(text)\n",
    "[ready[:3] for ready in ready_list]\n",
    "driver = webdriver.Chrome()\n",
    "time.sleep(0.5)\n",
    "driver.get(\"https://translate.kakao.com/\")\n",
    "results = ''\n",
    "textarea = driver.find_element(By.CLASS_NAME, 'translate_area')\n",
    "for ready in ready_list:\n",
    "    time.sleep(2)    \n",
    "    textarea.send_keys(Keys.CONTROL, 'a') # control + a\n",
    "    textarea.send_keys(ready)\n",
    "    button = driver.find_element(By.CSS_SELECTOR, 'div.btn_item > a.btn_translate.on')\n",
    "    button.click()\n",
    "    time.sleep(2)\n",
    "    soup = BeautifulSoup(driver.page_source, \"html.parser\")\n",
    "    result = soup.select_one('div.result_area.area_item.txt_eng.translate_many').text\n",
    "    results += result + '\\n\\n'\n",
    "driver.close()\n",
    "with open('data/ch14_자동화영어번역본.txt', 'w', encoding='utf-8') as f:\n",
    "    f.write(results)"
   ]
  },
  {
   "cell_type": "code",
   "execution_count": null,
   "id": "0313c1b0",
   "metadata": {},
   "outputs": [],
   "source": []
  },
  {
   "cell_type": "code",
   "execution_count": null,
   "id": "928cefff",
   "metadata": {},
   "outputs": [],
   "source": []
  },
  {
   "cell_type": "code",
   "execution_count": null,
   "id": "006e8fe5",
   "metadata": {},
   "outputs": [],
   "source": []
  },
  {
   "cell_type": "code",
   "execution_count": null,
   "id": "b3c19a4c",
   "metadata": {},
   "outputs": [],
   "source": []
  },
  {
   "cell_type": "code",
   "execution_count": null,
   "id": "e99e1e24",
   "metadata": {},
   "outputs": [],
   "source": []
  },
  {
   "cell_type": "code",
   "execution_count": null,
   "id": "465f028e",
   "metadata": {},
   "outputs": [],
   "source": []
  },
  {
   "cell_type": "code",
   "execution_count": null,
   "id": "6379f9c2",
   "metadata": {},
   "outputs": [],
   "source": []
  },
  {
   "cell_type": "code",
   "execution_count": null,
   "id": "14dc1266",
   "metadata": {},
   "outputs": [],
   "source": []
  },
  {
   "cell_type": "code",
   "execution_count": null,
   "id": "9b304411",
   "metadata": {},
   "outputs": [],
   "source": []
  },
  {
   "cell_type": "code",
   "execution_count": null,
   "id": "958dc43f",
   "metadata": {},
   "outputs": [],
   "source": []
  },
  {
   "cell_type": "code",
   "execution_count": null,
   "id": "1790ee66",
   "metadata": {},
   "outputs": [],
   "source": []
  }
 ],
 "metadata": {
  "kernelspec": {
   "display_name": "Python 3 (ipykernel)",
   "language": "python",
   "name": "python3"
  },
  "language_info": {
   "codemirror_mode": {
    "name": "ipython",
    "version": 3
   },
   "file_extension": ".py",
   "mimetype": "text/x-python",
   "name": "python",
   "nbconvert_exporter": "python",
   "pygments_lexer": "ipython3",
   "version": "3.10.9"
  },
  "toc": {
   "base_numbering": 1,
   "nav_menu": {},
   "number_sections": false,
   "sideBar": true,
   "skip_h1_title": false,
   "title_cell": "Table of Contents",
   "title_sidebar": "Contents",
   "toc_cell": false,
   "toc_position": {
    "height": "calc(100% - 180px)",
    "left": "10px",
    "top": "150px",
    "width": "230.55px"
   },
   "toc_section_display": true,
   "toc_window_display": true
  }
 },
 "nbformat": 4,
 "nbformat_minor": 5
}
