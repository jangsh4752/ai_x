{
 "cells": [
  {
   "cell_type": "code",
   "execution_count": 1,
   "id": "2b4bac88",
   "metadata": {},
   "outputs": [
    {
     "data": {
      "text/html": [
       "\n",
       "<style>\n",
       "div.container{width:86% !important;}\n",
       "div.cell.code_cell.rendered{width:100%;}\n",
       "div.CodeMirror {font-family:Consolas; font-size:12pt;}\n",
       "div.output {font-size:15pt; font-weight:bold;}\n",
       "div.input {font-family:Consolas; font-size:12pt;}\n",
       "div.prompt {min-width:70px;}\n",
       "div#toc-wrapper{padding-top:120px;}\n",
       "div.text_cell_render ul li{font-size:12pt;padding:5px;}\n",
       "table.dataframe{font-size:15px;}\n",
       "</style>\n"
      ],
      "text/plain": [
       "<IPython.core.display.HTML object>"
      ]
     },
     "metadata": {},
     "output_type": "display_data"
    }
   ],
   "source": [
    "from IPython.display import display, HTML\n",
    "display(HTML(\"\"\"\n",
    "<style>\n",
    "div.container{width:86% !important;}\n",
    "div.cell.code_cell.rendered{width:100%;}\n",
    "div.CodeMirror {font-family:Consolas; font-size:12pt;}\n",
    "div.output {font-size:15pt; font-weight:bold;}\n",
    "div.input {font-family:Consolas; font-size:12pt;}\n",
    "div.prompt {min-width:70px;}\n",
    "div#toc-wrapper{padding-top:120px;}\n",
    "div.text_cell_render ul li{font-size:12pt;padding:5px;}\n",
    "table.dataframe{font-size:15px;}\n",
    "</style>\n",
    "\"\"\"))"
   ]
  },
  {
   "cell_type": "markdown",
   "id": "0f51bcc8",
   "metadata": {},
   "source": [
    "<b><font size=\"5\" color=\"red\"> ch14. 웹데이터 수집</font></b>\n",
    "# 3절. 동적 웹데이터 수집\n",
    "## 3.1 문법\n",
    "```\n",
    "pip install selenium\n",
    "```\n",
    "Docs : https://www.selenium.dev/documentation/"
   ]
  },
  {
   "cell_type": "code",
   "execution_count": 2,
   "id": "32273f73",
   "metadata": {},
   "outputs": [],
   "source": [
    "from selenium import webdriver\n",
    "from selenium.webdriver.common.by import By\n",
    "from selenium.webdriver.common.keys import Keys\n",
    "driver = webdriver.Chrome()\n",
    "driver.get(\"http://www.python.org\")\n",
    "elem = driver.find_element(By.NAME, 'q')\n",
    "elem.clear()\n",
    "elem.send_keys('pycon')\n",
    "elem.send_keys(Keys.RETURN) # enter효과"
   ]
  },
  {
   "cell_type": "code",
   "execution_count": 3,
   "id": "1d4988ca",
   "metadata": {},
   "outputs": [],
   "source": [
    "result_list = driver.find_elements(By.CSS_SELECTOR, 'li > h3 > a')\n",
    "for result in result_list :\n",
    "    print(\"{} - {}\".format(result.text, result.get_attribute('href')))"
   ]
  },
  {
   "cell_type": "code",
   "execution_count": 4,
   "id": "7bffa69f",
   "metadata": {},
   "outputs": [
    {
     "name": "stdout",
     "output_type": "stream",
     "text": [
      "PSF PyCon Trademark Usage Policy - /psf/trademarks/pycon\n",
      "PyCon Italia 2016 (PyCon Sette) - /events/python-events/378/\n",
      "PyCon Australia 2013 - /events/python-events/57/\n",
      "PyCon AU 2019 - /events/python-events/776/\n",
      "PyCon Australia 2014 - /events/python-events/10/\n",
      "PyCon Ireland 2012 - /events/python-events/76/\n",
      "PyCon Ireland 2016 - /events/python-events/429/\n",
      "PyCon Ireland 2022 - /events/python-events/1320/\n",
      "PyCon Australia 2014 - /events/python-events/1447/\n",
      "PyCon Ireland 2024 - /events/python-events/1862/\n",
      "PyCon APAC 2025 - /events/python-events/1879/\n",
      "PyCon AU 2018 - /events/python-events/696/\n",
      "PyCon APAC 2022 - /events/python-events/1216/\n",
      "PyCon PH 2024 - /events/python-events/1661/\n",
      "PyCon Ireland 2023 - /events/python-events/1568/\n",
      "PyCon PL 2014 - /events/python-events/191/\n",
      "PyCon MY 2015 - /events/python-events/313/\n",
      "PyCon Ireland 2015 - /events/python-events/333/\n",
      "PyCon AU 2015 - /events/python-events/273/\n",
      "PyCon Australia 2016 - /events/python-events/357/\n"
     ]
    }
   ],
   "source": [
    "from bs4 import BeautifulSoup\n",
    "soup = BeautifulSoup(driver.page_source, \"html.parser\")\n",
    "result_list = soup.select(\"li > h3 > a\")\n",
    "for result in result_list :\n",
    "    print(\"{} - {}\".format(result.text, result.attrs['href']))"
   ]
  },
  {
   "cell_type": "code",
   "execution_count": 5,
   "id": "dd525d50",
   "metadata": {},
   "outputs": [
    {
     "name": "stdout",
     "output_type": "stream",
     "text": [
      "현재 주소 :  https://www.python.org/search/?q=pycon&submit=\n",
      "parse_url :  ParseResult(scheme='https', netloc='www.python.org', path='/search/', params='', query='q=pycon&submit=', fragment='')\n",
      "https://www.python.org\n"
     ]
    }
   ],
   "source": [
    "# 셀리니움을 통해 접근한 현재 url\n",
    "from urllib.parse import urlparse\n",
    "current_url = driver.current_url\n",
    "print(\"현재 주소 : \", current_url)\n",
    "parse_url = urlparse(current_url)\n",
    "print(\"parse_url : \", parse_url)\n",
    "domain = f\"{parse_url.scheme}://{parse_url.netloc}\"\n",
    "print(domain)"
   ]
  },
  {
   "cell_type": "code",
   "execution_count": 6,
   "id": "9c3bf6e1",
   "metadata": {},
   "outputs": [
    {
     "name": "stdout",
     "output_type": "stream",
     "text": [
      "PSF PyCon Trademark Usage Policy -  https://www.python.org/psf/trademarks/pycon\n",
      "PyCon Italia 2016 (PyCon Sette) -  https://www.python.org/events/python-events/378/\n",
      "PyCon Australia 2013 -  https://www.python.org/events/python-events/57/\n",
      "PyCon AU 2019 -  https://www.python.org/events/python-events/776/\n",
      "PyCon Australia 2014 -  https://www.python.org/events/python-events/10/\n",
      "PyCon Ireland 2012 -  https://www.python.org/events/python-events/76/\n",
      "PyCon Ireland 2016 -  https://www.python.org/events/python-events/429/\n",
      "PyCon Ireland 2022 -  https://www.python.org/events/python-events/1320/\n",
      "PyCon Australia 2014 -  https://www.python.org/events/python-events/1447/\n",
      "PyCon Ireland 2024 -  https://www.python.org/events/python-events/1862/\n",
      "PyCon APAC 2025 -  https://www.python.org/events/python-events/1879/\n",
      "PyCon AU 2018 -  https://www.python.org/events/python-events/696/\n",
      "PyCon APAC 2022 -  https://www.python.org/events/python-events/1216/\n",
      "PyCon PH 2024 -  https://www.python.org/events/python-events/1661/\n",
      "PyCon Ireland 2023 -  https://www.python.org/events/python-events/1568/\n",
      "PyCon PL 2014 -  https://www.python.org/events/python-events/191/\n",
      "PyCon MY 2015 -  https://www.python.org/events/python-events/313/\n",
      "PyCon Ireland 2015 -  https://www.python.org/events/python-events/333/\n",
      "PyCon AU 2015 -  https://www.python.org/events/python-events/273/\n",
      "PyCon Australia 2016 -  https://www.python.org/events/python-events/357/\n"
     ]
    }
   ],
   "source": [
    "from bs4 import BeautifulSoup\n",
    "soup = BeautifulSoup(driver.page_source, \"html.parser\")\n",
    "result_list = soup.select(\"li > h3 > a\")\n",
    "for result in result_list :\n",
    "    print(\"{} -  {}\".format(result.text, domain+result.attrs['href']))"
   ]
  },
  {
   "cell_type": "code",
   "execution_count": 7,
   "id": "701020b7",
   "metadata": {},
   "outputs": [],
   "source": [
    "driver.close() # 브라우저 종료"
   ]
  },
  {
   "cell_type": "markdown",
   "id": "7b082f30",
   "metadata": {},
   "source": [
    "## 3.2 예제\n",
    "### 1) 다음 뉴스 검색"
   ]
  },
  {
   "cell_type": "code",
   "execution_count": 8,
   "id": "8810d4db",
   "metadata": {},
   "outputs": [
    {
     "name": "stdout",
     "output_type": "stream",
     "text": [
      "비트코인·금 결합상품도 나온다…美 '가상자산 패권' 굳히기 http://v.daum.net/v/20250601174806386\n",
      "비트코인 10만4천달러 유지…도지코인 14% 급락, 솔라나는 11% 밀려 http://v.daum.net/v/20250601091649820\n",
      "“늦은 줄 알았는데 지금이라도 살까”...심상치 않은 미국의 가상자산 패권화 http://v.daum.net/v/20250601183300463\n",
      "[가상자산 나침반]가상자산 약세에도 ETF 유입 지속…\"기업들 코인 매수 변수\" http://v.daum.net/v/20250601192229561\n",
      "밴스 부통령도 '코인 지지'…새로운 모멘텀 되나 http://v.daum.net/v/20250601173303039\n",
      "美中 통상합의 교착에…비트코인, 10만5천 달러 밑으로 http://v.daum.net/v/20250601092519951\n",
      "몸집 커진 스테이블코인 … B2B 거래 업고 튀어 http://v.daum.net/v/20250601172406751\n",
      "'비트코인 ETF 허용' 공약 내건 대선 후보들…방법은 '글쎄' http://v.daum.net/v/20250601050044033\n",
      "\"떨어지면 더 산다\"…'비트코인' 모으는 기업들 http://v.daum.net/v/20250531130011544\n",
      "'디지털 달러' 시대 급진전…원화 리디노미네이션 논의는 [한상춘의 국제경제 읽기] http://v.daum.net/v/20250601174501310\n"
     ]
    }
   ],
   "source": [
    "from selenium import webdriver\n",
    "from selenium.webdriver.common.by import By\n",
    "from selenium.webdriver.common.keys import Keys\n",
    "import time\n",
    "driver = webdriver.Chrome()\n",
    "driver.get(\"https://www.daum.net/\")\n",
    "time.sleep(1)\n",
    "# input 태그 click\n",
    "driver.find_element(By.NAME, 'q').click()\n",
    "query = '비트코인'\n",
    "driver.find_element(By.CSS_SELECTOR, 'input[type=\"text\"]').send_keys(query)\n",
    "driver.find_element(By.CLASS_NAME, 'btn_ksearch').click()\n",
    "time.sleep(2)\n",
    "# 뉴스탭 클릭 : ul.list_tab > li\n",
    "# driver.find_elements(By.CSS_SELECTOR, 'ul.list_tab > li')[3].click()\n",
    "driver.find_element(By.LINK_TEXT, '뉴스').click()\n",
    "time.sleep(2)\n",
    "# div.item-title > strong.tit-g.clamp-g > a\n",
    "news_list = []\n",
    "elems = driver.find_elements(By.CSS_SELECTOR, 'div.item-title > strong.tit-g.clamp-g > a')\n",
    "for elem in elems : \n",
    "    title = elem.text\n",
    "    link  = elem.get_attribute('href')\n",
    "    news_list.append([title, link])\n",
    "    print(title, link)"
   ]
  },
  {
   "cell_type": "code",
   "execution_count": 9,
   "id": "097d54f0",
   "metadata": {},
   "outputs": [],
   "source": [
    "# 2page로 이동\n",
    "page_div = driver.find_element(By.CSS_SELECTOR, 'div.inner_paging')\n",
    "# print(page_div.text)\n",
    "next_page = page_div.find_element(By.LINK_TEXT, '2')\n",
    "next_page.click()"
   ]
  },
  {
   "cell_type": "markdown",
   "id": "3b2cc62c",
   "metadata": {},
   "source": [
    "#### 페이징 처리\n",
    "- 다음 뉴스 검색 : 원하는 단어를 원하는 page수만큼"
   ]
  },
  {
   "cell_type": "code",
   "execution_count": 10,
   "id": "0b9649e5",
   "metadata": {},
   "outputs": [
    {
     "name": "stdout",
     "output_type": "stream",
     "text": [
      "검색하고자 하는 단어는?비트코인\n",
      "현재 1페이지 데이터 수집 중입니다.\n",
      "현재 2페이지 데이터 수집 중입니다.\n",
      "현재 3페이지 데이터 수집 중입니다.\n"
     ]
    }
   ],
   "source": [
    "from selenium import webdriver\n",
    "from selenium.webdriver.common.by import By\n",
    "from selenium.webdriver.common.keys import Keys\n",
    "import time\n",
    "driver = webdriver.Chrome()\n",
    "driver.get(\"https://www.daum.net/\")\n",
    "time.sleep(1)\n",
    "# input 태그 click\n",
    "driver.find_element(By.NAME, 'q').click()\n",
    "query = input('검색하고자 하는 단어는?')\n",
    "driver.find_element(By.CSS_SELECTOR, 'input[type=\"text\"]').send_keys(query)\n",
    "driver.find_element(By.CLASS_NAME, 'btn_ksearch').click()\n",
    "time.sleep(2)\n",
    "# 뉴스탭 클릭 : ul.list_tab > li\n",
    "# driver.find_elements(By.CSS_SELECTOR, 'ul.list_tab > li')[3].click()\n",
    "driver.find_element(By.LINK_TEXT, '뉴스').click()\n",
    "time.sleep(2)\n",
    "news_list = []\n",
    "pages = 3\n",
    "for page in range(1, pages+1) :\n",
    "    elems = driver.find_elements(By.CSS_SELECTOR, 'div.item-title > strong.tit-g.clamp-g > a')\n",
    "    for elem in elems : \n",
    "        title = elem.text\n",
    "        link  = elem.get_attribute('href')\n",
    "        news_list.append([title, link])\n",
    "#         print(title, link)\n",
    "    # 2page로 이동\n",
    "    page_div = driver.find_element(By.CSS_SELECTOR, 'div.inner_paging')\n",
    "    # print(page_div.text)\n",
    "    next_page = page_div.find_element(By.LINK_TEXT, str(page+1) )\n",
    "    next_page.click()\n",
    "    time.sleep(1.5)\n",
    "    print(f\"현재 {page}페이지 데이터 수집 중입니다.\")\n",
    "driver.close()\n",
    "import pandas as pd\n",
    "df = pd.DataFrame(news_list, columns = ['title', 'link'])\n",
    "df.to_csv('data/ch14_daum.csv', index=False)"
   ]
  },
  {
   "cell_type": "markdown",
   "id": "c1fb94c5",
   "metadata": {},
   "source": [
    "### 2) 맞춤법 검사기\n",
    "- 네이버 맞춤법 검사기 이용"
   ]
  },
  {
   "cell_type": "code",
   "execution_count": 11,
   "id": "f0af3060",
   "metadata": {},
   "outputs": [],
   "source": [
    "f = open('data/ch14_맞춤법전.txt', 'r', encoding='utf-8')\n",
    "text = f.read()\n",
    "f.close()"
   ]
  },
  {
   "cell_type": "code",
   "execution_count": 12,
   "id": "bca27d9d",
   "metadata": {},
   "outputs": [
    {
     "name": "stdout",
     "output_type": "stream",
     "text": [
      "총글자 수 : 2052\n",
      "223\n",
      "248\n",
      "232\n",
      "259\n",
      "249\n",
      "190\n",
      "166\n",
      "181\n",
      "297\n"
     ]
    },
    {
     "data": {
      "text/plain": [
       "['안뇽하십니까? 방갑',\n",
       " '\\n가장 먼져 떠오르',\n",
       " '\\n다음으로 중요한 ',\n",
       " '\\n성장과 배움 또한',\n",
       " '\\n신체적, 정신적 ',\n",
       " '\\n살다 보면 예상치',\n",
       " '\\n현재를 감사하고 ',\n",
       " '\\n마지막으로, 자신',\n",
       " '\\n결국 좋은 인생은',\n",
       " '\\n감샤합니다.']"
      ]
     },
     "execution_count": 12,
     "metadata": {},
     "output_type": "execute_result"
    }
   ],
   "source": [
    "# ch14_맞춤법전.txt를 300자이내로 자르기\n",
    "with open('data/ch14_맞춤법전.txt', 'r', encoding='utf-8') as f:\n",
    "    text = f.read()\n",
    "print('총글자 수 :',len(text))\n",
    "ready_list = [] # 맞춤법 검사할 text 내용(300이자 이내로 list)\n",
    "while(len(text) > 300):\n",
    "    temp = text[:300]\n",
    "    new_line_char_index = temp.rfind('\\n')\n",
    "    print(new_line_char_index)\n",
    "    ready_list.append(text[:new_line_char_index])\n",
    "    text = text[new_line_char_index:]\n",
    "ready_list.append(text)\n",
    "[ready[:10] for ready in ready_list]"
   ]
  },
  {
   "cell_type": "code",
   "execution_count": 13,
   "id": "197c7857",
   "metadata": {},
   "outputs": [],
   "source": [
    "from selenium import webdriver\n",
    "from selenium.webdriver.common.by import By\n",
    "from selenium.webdriver.common.keys import Keys\n",
    "import time\n",
    "driver = webdriver.Chrome()\n",
    "time.sleep(0.5)\n",
    "driver.get('https://www.naver.com/')\n",
    "input_elem = driver.find_element(By.CSS_SELECTOR, 'input[name=\"query\"]')\n",
    "input_elem.send_keys('맞춤법 검사기')\n",
    "input_elem.send_keys(Keys.RETURN)\n",
    "time.sleep(0.5)\n",
    "textarea = driver.find_element(By.CLASS_NAME, 'txt_gray')\n",
    "textarea.send_keys(ready_list[0])\n",
    "\n",
    "button = driver.find_element(By.CLASS_NAME, 'btn_check')\n",
    "button.click()"
   ]
  },
  {
   "cell_type": "code",
   "execution_count": null,
   "id": "26ec33d6",
   "metadata": {},
   "outputs": [],
   "source": []
  },
  {
   "cell_type": "code",
   "execution_count": 14,
   "id": "53f0579d",
   "metadata": {},
   "outputs": [],
   "source": [
    "from selenium import webdriver\n",
    "from selenium.webdriver.common.by import By\n",
    "from selenium.webdriver.common.keys import Keys\n",
    "import time\n",
    "\n",
    "driver = webdriver.Chrome()\n",
    "time.sleep(0.5)\n",
    "driver.get('https://www.naver.com/')\n",
    "input_elem = driver.find_element(By.CSS_SELECTOR, 'input[name=\"query\"]')\n",
    "input_elem.send_keys('맞춤법 검사기')\n",
    "input_elem.send_keys(Keys.RETURN)\n",
    "time.sleep(0.5)\n",
    "results = '' # 맞춤법 검사 후 내용\n",
    "textarea = driver.find_element(By.CLASS_NAME, 'txt_gray')\n",
    "\n",
    "for ready in ready_list:\n",
    "    time.sleep(2)    \n",
    "    textarea.send_keys(Keys.CONTROL, 'a') # control + a\n",
    "    textarea.send_keys(ready)\n",
    "\n",
    "    button = driver.find_element(By.CLASS_NAME, 'btn_check')\n",
    "    button.click()\n",
    "    time.sleep(2)\n",
    "    soup = BeautifulSoup(driver.page_source, \"html.parser\")\n",
    "    result = soup.select_one('p._result_text.stand_txt').text\n",
    "    results += result + '\\n\\n'\n",
    "driver.close()\n",
    "with open('data/ch14_맞춤법후.txt', 'w', encoding='utf-8') as f:\n",
    "    f.write(results)"
   ]
  },
  {
   "cell_type": "code",
   "execution_count": 15,
   "id": "ed9b3f10",
   "metadata": {},
   "outputs": [
    {
     "name": "stdout",
     "output_type": "stream",
     "text": [
      "960\n",
      "786\n"
     ]
    }
   ],
   "source": [
    "with open('data/ch14_맞춤법후.txt', 'r', encoding='utf-8') as f:\n",
    "    text = f.read()\n",
    "ready_list = []\n",
    "while(len(text) > 1000):\n",
    "    temp = text[:999]\n",
    "    new_line_char_index = temp.rfind('\\n')\n",
    "    print(new_line_char_index)\n",
    "    ready_list.append(text[:new_line_char_index])\n",
    "    text = text[new_line_char_index:]\n",
    "ready_list.append(text)\n",
    "[ready[:3] for ready in ready_list]\n",
    "driver = webdriver.Chrome()\n",
    "time.sleep(0.5)\n",
    "driver.get(\"https://translate.kakao.com/\")\n",
    "results = ''\n",
    "textarea = driver.find_element(By.CLASS_NAME, 'translate_area')\n",
    "for ready in ready_list:\n",
    "    time.sleep(2)    \n",
    "    textarea.send_keys(Keys.CONTROL, 'a') # control + a\n",
    "    textarea.send_keys(ready)\n",
    "    button = driver.find_element(By.CSS_SELECTOR, 'div.btn_item > a.btn_translate.on')\n",
    "    button.click()\n",
    "    time.sleep(2)\n",
    "    soup = BeautifulSoup(driver.page_source, \"html.parser\")\n",
    "    result = soup.select_one('div.result_area.area_item.txt_eng.translate_many').text\n",
    "    results += result + '\\n\\n'\n",
    "driver.close()\n",
    "with open('data/ch14_자동화영어번역본.txt', 'w', encoding='utf-8') as f:\n",
    "    f.write(results)"
   ]
  },
  {
   "cell_type": "code",
   "execution_count": null,
   "id": "0313c1b0",
   "metadata": {},
   "outputs": [],
   "source": []
  },
  {
   "cell_type": "code",
   "execution_count": null,
   "id": "928cefff",
   "metadata": {},
   "outputs": [],
   "source": []
  },
  {
   "cell_type": "code",
   "execution_count": null,
   "id": "006e8fe5",
   "metadata": {},
   "outputs": [],
   "source": []
  },
  {
   "cell_type": "code",
   "execution_count": null,
   "id": "b3c19a4c",
   "metadata": {},
   "outputs": [],
   "source": []
  },
  {
   "cell_type": "code",
   "execution_count": null,
   "id": "e99e1e24",
   "metadata": {},
   "outputs": [],
   "source": []
  },
  {
   "cell_type": "code",
   "execution_count": null,
   "id": "465f028e",
   "metadata": {},
   "outputs": [],
   "source": []
  },
  {
   "cell_type": "code",
   "execution_count": null,
   "id": "6379f9c2",
   "metadata": {},
   "outputs": [],
   "source": []
  },
  {
   "cell_type": "code",
   "execution_count": null,
   "id": "14dc1266",
   "metadata": {},
   "outputs": [],
   "source": []
  },
  {
   "cell_type": "code",
   "execution_count": null,
   "id": "9b304411",
   "metadata": {},
   "outputs": [],
   "source": []
  },
  {
   "cell_type": "code",
   "execution_count": null,
   "id": "958dc43f",
   "metadata": {},
   "outputs": [],
   "source": []
  },
  {
   "cell_type": "code",
   "execution_count": null,
   "id": "1790ee66",
   "metadata": {},
   "outputs": [],
   "source": []
  }
 ],
 "metadata": {
  "kernelspec": {
   "display_name": "Python 3 (ipykernel)",
   "language": "python",
   "name": "python3"
  },
  "language_info": {
   "codemirror_mode": {
    "name": "ipython",
    "version": 3
   },
   "file_extension": ".py",
   "mimetype": "text/x-python",
   "name": "python",
   "nbconvert_exporter": "python",
   "pygments_lexer": "ipython3",
   "version": "3.10.9"
  },
  "toc": {
   "base_numbering": 1,
   "nav_menu": {},
   "number_sections": false,
   "sideBar": true,
   "skip_h1_title": false,
   "title_cell": "Table of Contents",
   "title_sidebar": "Contents",
   "toc_cell": false,
   "toc_position": {
    "height": "calc(100% - 180px)",
    "left": "10px",
    "top": "150px",
    "width": "230.55px"
   },
   "toc_section_display": true,
   "toc_window_display": true
  }
 },
 "nbformat": 4,
 "nbformat_minor": 5
}
