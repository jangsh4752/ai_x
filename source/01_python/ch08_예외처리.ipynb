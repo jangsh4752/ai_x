{
 "cells": [
  {
   "cell_type": "code",
   "execution_count": 1,
   "id": "728aa43c",
   "metadata": {},
   "outputs": [
    {
     "data": {
      "text/html": [
       "\n",
       "<style>\n",
       "div.container{width:86% !important;}\n",
       "div.cell.code_cell.rendered{width:100%;}\n",
       "div.CodeMirror {font-family:Consolas; font-size:12pt;}\n",
       "div.output {font-size:15pt; font-weight:bold;}\n",
       "div.input {font-family:Consolas; font-size:12pt;}\n",
       "div.prompt {min-width:70px;}\n",
       "div#toc-wrapper{padding-top:120px;}\n",
       "div.text_cell_render ul li{font-size:12pt;padding:5px;}\n",
       "table.dataframe{font-size:15px;}\n",
       "</style>\n"
      ],
      "text/plain": [
       "<IPython.core.display.HTML object>"
      ]
     },
     "metadata": {},
     "output_type": "display_data"
    }
   ],
   "source": [
    "from IPython.display import display, HTML\n",
    "display(HTML(\"\"\"\n",
    "<style>\n",
    "div.container{width:86% !important;}\n",
    "div.cell.code_cell.rendered{width:100%;}\n",
    "div.CodeMirror {font-family:Consolas; font-size:12pt;}\n",
    "div.output {font-size:15pt; font-weight:bold;}\n",
    "div.input {font-family:Consolas; font-size:12pt;}\n",
    "div.prompt {min-width:70px;}\n",
    "div#toc-wrapper{padding-top:120px;}\n",
    "div.text_cell_render ul li{font-size:12pt;padding:5px;}\n",
    "table.dataframe{font-size:15px;}\n",
    "</style>\n",
    "\"\"\"))"
   ]
  },
  {
   "cell_type": "markdown",
   "id": "c44d86f3",
   "metadata": {},
   "source": [
    "<b><font size=\"6\" color=\"red\"> ch08. 예외처리 </font></b>\n",
    "# 1절. 예외처리\n",
    "- 예외가 발생할 가능성이 있는 부분에 대해 미리 예상하고, 그에 대한 처리를 프로그래밍 하는것\n",
    "    이유 : 좀 더 안정적으로 실행)\n",
    "```\n",
    "ex. 파일을 다룰 때 : 파일이 없거나, 쓰기 금지로 인한 오류\n",
    "ex. 데이터베잇 프로그래밍 시 제약조건 등으로 CRUD(CREATE, READ, UPDATE, DELETE) 오류\n",
    "ex. 네트워크 프로그래밍 시 일시적인 네트워크 장애 시 연결 실패 오류\n",
    "ex. 리스트나 튜플의 인덱스를 벗어난 오류\n",
    "```"
   ]
  },
  {
   "cell_type": "code",
   "execution_count": 2,
   "id": "3d21f11c",
   "metadata": {},
   "outputs": [
    {
     "name": "stdout",
     "output_type": "stream",
     "text": [
      "파일명은(ch08.txt)?ch08.txt\n",
      "Hello\n",
      "World\n"
     ]
    }
   ],
   "source": [
    "filename = input('파일명은(ch08.txt)?')\n",
    "f = open('data/' + filename, 'r') # 읽기전용으로 파일을 열기\n",
    "print(f.read())"
   ]
  },
  {
   "cell_type": "code",
   "execution_count": 3,
   "id": "d14bd5b4",
   "metadata": {},
   "outputs": [],
   "source": [
    "f.close()"
   ]
  },
  {
   "cell_type": "code",
   "execution_count": 4,
   "id": "a5534898",
   "metadata": {},
   "outputs": [
    {
     "ename": "ZeroDivisionError",
     "evalue": "division by zero",
     "output_type": "error",
     "traceback": [
      "\u001b[1;31m---------------------------------------------------------------------------\u001b[0m",
      "\u001b[1;31mZeroDivisionError\u001b[0m                         Traceback (most recent call last)",
      "Cell \u001b[1;32mIn[4], line 1\u001b[0m\n\u001b[1;32m----> 1\u001b[0m \u001b[38;5;241;43m4\u001b[39;49m\u001b[38;5;241;43m/\u001b[39;49m\u001b[38;5;241;43m0\u001b[39;49m\n",
      "\u001b[1;31mZeroDivisionError\u001b[0m: division by zero"
     ]
    }
   ],
   "source": [
    "4/0"
   ]
  },
  {
   "cell_type": "markdown",
   "id": "1e595684",
   "metadata": {},
   "source": [
    "# 2절. try ~ except로 예외처리\n",
    "## 2.1 try ~except\n",
    "```\n",
    "try:\n",
    "    예외가 발새할 가능성이 있는 명령어들\n",
    "except:\n",
    "    예외가 발생했을 경우 실행할 명령어들\n",
    "```"
   ]
  },
  {
   "cell_type": "code",
   "execution_count": null,
   "id": "c732f06a",
   "metadata": {},
   "outputs": [],
   "source": [
    "# 100을 입력받은 정수값으로 나눠 출력\n",
    "# ZeroDivisionError: division by zero\n",
    "# ValueError: invalid literal for int() with base 10: 'a'\n",
    "x = int(input('정수를 입력하세요 :'))\n",
    "print('100을 입력한 정수로 나누면 {:.3f}'.format(100/x))"
   ]
  },
  {
   "cell_type": "code",
   "execution_count": null,
   "id": "863f7184",
   "metadata": {},
   "outputs": [],
   "source": [
    "# 100을 입력받은 정수값으로 나눠 출력\n",
    "# ZeroDivisionError: division by zero\n",
    "# ValueError: invalid literal for int() with base 10: 'a'\n",
    "try :\n",
    "    x = int(input('정수를 입력하세요 :'))\n",
    "    print('x값 입력받음', x)\n",
    "    print('100을 입력한 정수로 나누면 {:.3f}'.format(100/x))\n",
    "    print('예외가 발생 안 됨')\n",
    "except :\n",
    "    print('올바른 입력이 아닙니다.')"
   ]
  },
  {
   "cell_type": "code",
   "execution_count": null,
   "id": "a6137169",
   "metadata": {},
   "outputs": [],
   "source": [
    "# 100을 나눌 유효한 정수를 입력할 때까지 입력받아\n",
    "# 유효한 정수를 입력하면 100을 입력한 수로 나눈 결과 출력\n",
    "# 나눈 결과가 .0으로 끝나면 정수로 결과 출력 / .0으로 끝나지 않으면 소수점 2자리까지 출력\n",
    "while True :\n",
    "    try :\n",
    "        x = int(input('정수를 입력하세요 :'))\n",
    "        result = 100/x\n",
    "        result = f\"{100/x:.0f}\" if round(result)==result else f\"{100/x:.2f}\"\n",
    "        print(result)\n",
    "        break\n",
    "    except :\n",
    "        print('올바른 입력이 아닙니다. 다시 입력해 주세요.')\n",
    "        continue\n",
    "\n",
    "# try:\n",
    "#     while True :\n",
    "#         x = int(input('정수를 입력하세요 :'))\n",
    "#         result = 100/x\n",
    "#         result = f\"{100/x:.0f}\" if round(result)==result else f\"{100/x:.2f}\"\n",
    "#         print(result)\n",
    "        \n",
    "        \n",
    "# except :\n",
    "#     print('올바른 입력이 아닙니다. 다시 입력해 주세요.')\n"
   ]
  },
  {
   "cell_type": "markdown",
   "id": "4ffc2cfc",
   "metadata": {},
   "source": [
    "## 2.2 예외를 지정한 처리\n",
    "```\n",
    "try :\n",
    "     예외가 발생할 수도 있는 문장들\n",
    "except 예외타입1:\n",
    "    해당 예외가 발생할 경우 실행할 문장\n",
    "except 예외타입2:\n",
    "    해당 예외가 발생할 경우 실행할 문장\n",
    "    \n",
    "```"
   ]
  },
  {
   "cell_type": "code",
   "execution_count": null,
   "id": "bd8377bf",
   "metadata": {},
   "outputs": [],
   "source": [
    "while True :\n",
    "    try :\n",
    "        x = int(input('정수를 입력하세요 :'))\n",
    "        result = 100/x\n",
    "        result = f\"{100/x:.0f}\" if round(result)==result else f\"{100/x:.2f}\"\n",
    "        print(result)\n",
    "        break\n",
    "    except ValueError, ZeroDivisionError:\n",
    "        print('제대로 입력하세요.')\n",
    "    except Exception :\n",
    "        # except절이 많은 경우 하위 클래스(자식클래스)가 위에 먼저 나와야 함\n",
    "        print('다시 시도하세요')\n",
    "# ZeroDivisionError: division by zero\n",
    "# ValueError: invalid literal for int() with base 10: 'a'"
   ]
  },
  {
   "cell_type": "markdown",
   "id": "6320444c",
   "metadata": {},
   "source": [
    "## 2.3 예외메세지(예외인수)"
   ]
  },
  {
   "cell_type": "code",
   "execution_count": null,
   "id": "67ad245e",
   "metadata": {},
   "outputs": [],
   "source": [
    "while True :\n",
    "    try :\n",
    "        x = int(input('정수를 입력하세요 :'))\n",
    "        result = 100/x\n",
    "        result = f\"{100/x:.0f}\" if round(result)==result else f\"{100/x:.2f}\"\n",
    "        print(result)\n",
    "        break\n",
    "    except (ZeroDivisionError, ValueError) as e:\n",
    "        print(e) # e.__str__() : 예외메세지\n",
    "        print(type(e))\n",
    "        print('예외메세지 :', e.args)\n",
    "        print('예외메세지 :', e.args[0])\n",
    "    except Exception :\n",
    "        # except절이 많은 경우 하위 클래스(자식클래스)가 위에 먼저 나와야 함\n",
    "        print('다시 시도하세요')\n",
    "# ZeroDivisionError: division by zero\n",
    "# ValueError: invalid literal for int() with base 10: 'a'"
   ]
  },
  {
   "cell_type": "markdown",
   "id": "f1158037",
   "metadata": {},
   "source": [
    "```\n",
    "pdf p.12\n",
    "try :\n",
    "    예외가 발생할 수도 있는 구문\n",
    "except [예외타입 as e] :\n",
    "    예외가 발생되면 수행할 구문\n",
    "else :\n",
    "    try절을 수행하다 예외가 발생 안되면 else절을 한번 수행\n",
    "finally :\n",
    "    예외가 발생 안하면 try-else-finally절 수행\n",
    "    예외가 발생하면 try 수행 중 except-finally절 수행\n",
    "```"
   ]
  },
  {
   "cell_type": "code",
   "execution_count": null,
   "id": "dc5818df",
   "metadata": {},
   "outputs": [],
   "source": [
    "try :\n",
    "    f = open('data/ch08.txt', 'r')\n",
    "    data = f.read()\n",
    "    print(data)\n",
    "except FileNotFoundError as e :\n",
    "    print(e)\n",
    "finally :\n",
    "    print('반드시 실행')\n",
    "    f.close()"
   ]
  },
  {
   "cell_type": "markdown",
   "id": "24dbe433",
   "metadata": {},
   "source": [
    "# 3절. raise\n",
    "- 강제 예외 발생"
   ]
  },
  {
   "cell_type": "code",
   "execution_count": null,
   "id": "4174e613",
   "metadata": {},
   "outputs": [],
   "source": [
    "raise NameError(\"예외 발생함\")"
   ]
  },
  {
   "cell_type": "code",
   "execution_count": null,
   "id": "c770a25e",
   "metadata": {},
   "outputs": [],
   "source": [
    "# 사용자 정의 예외 : Exception 클래스 또는 그 하위 클래스를 상속받아 구현\n",
    "class LengthZeroError(Exception) :\n",
    "    '길이가 0일때 발생할 예외'\n",
    "    pass\n",
    "#     def __init__(self, message) :\n",
    "#         self.message = message"
   ]
  },
  {
   "cell_type": "code",
   "execution_count": null,
   "id": "e0e3ed6e",
   "metadata": {},
   "outputs": [],
   "source": [
    "def insert(*data) : # 튜플 매개변수\n",
    "    if len(data)==0 :\n",
    "        raise LengthZeroError('매개변수가 0인 예외입니다.')\n",
    "    for item in data :\n",
    "        print(item, end=' ')\n",
    "    print('등을 입력하셨습니다.')"
   ]
  },
  {
   "cell_type": "code",
   "execution_count": null,
   "id": "51ec7a0d",
   "metadata": {},
   "outputs": [],
   "source": [
    "data = []\n",
    "try :\n",
    "    insert(*data)\n",
    "except LengthZeroError as e :\n",
    "    print(e)\n",
    "finally :\n",
    "    print('무조건 실행하는 부분 DONE')"
   ]
  },
  {
   "cell_type": "code",
   "execution_count": null,
   "id": "26e6f0b8",
   "metadata": {},
   "outputs": [],
   "source": [
    "# 중첩 루프 탈출하는 방법 2 : 예외 발생 => 예외처리\n",
    "class BreakOutError(Exception) :\n",
    "    pass\n",
    "try :\n",
    "    for a in range(0, 3) : # a = 0, 1, 2\n",
    "        for b in range(1, 3) : # b = 1, 2\n",
    "            if a==b :\n",
    "                raise BreakOutError() # 중첩 루프 탈출(중첩된 루프 한번에 탈출)\n",
    "            print(a, b)\n",
    "except BreakOutError :\n",
    "    print('DONE')"
   ]
  },
  {
   "cell_type": "markdown",
   "id": "7435819d",
   "metadata": {},
   "source": [
    "# 4절. 추상클래스\n",
    "- 추상클래스 : 객체를 생성할 수 없는 클래스. 상속받을 클래스의 포맷 제공\n",
    "- 추상메소드 : 호출할 수 없는 메소드"
   ]
  },
  {
   "cell_type": "code",
   "execution_count": null,
   "id": "192b499a",
   "metadata": {},
   "outputs": [],
   "source": [
    "# Shape 클래스 : 객체를 만드는 것이 목적이 아닌, 상속받을 자식클래스(서브클래스)를 잘 만들게 하는 것이 목적\n",
    "# Shape 클래스를 상속받은 클래스들의 표준 제시\n",
    "class Shape :\n",
    "    def __init__(self) :\n",
    "        raise NotImplementedError('추상클래스 역할') #NotImplementedError : 추상클래스 생성시 이용\n",
    "    def calc_area(self) :\n",
    "        raise NotImplementedError('추상메소드 역할')"
   ]
  },
  {
   "cell_type": "code",
   "execution_count": null,
   "id": "eb422792",
   "metadata": {},
   "outputs": [],
   "source": [
    "# s = Shape()\n",
    "class Circle(Shape) :\n",
    "    def __init__(self, r=3) :\n",
    "        self.r = r\n",
    "    def calc_area(self) :\n",
    "        return 3.14*self.r*self.r\n",
    "c = Circle(3)\n",
    "c.calc_area()"
   ]
  },
  {
   "cell_type": "markdown",
   "id": "43bd4c40",
   "metadata": {},
   "source": [
    "# 5절. 파일 정리 작업(with 절 이용)"
   ]
  },
  {
   "cell_type": "code",
   "execution_count": null,
   "id": "1a953a4d",
   "metadata": {},
   "outputs": [],
   "source": [
    "try :\n",
    "    f = open('data/ch08.txt', 'r')\n",
    "    print(f.read())\n",
    "except Exception as e :\n",
    "    print(e)\n",
    "finally :\n",
    "    f.close()"
   ]
  },
  {
   "cell_type": "code",
   "execution_count": null,
   "id": "74abf175",
   "metadata": {},
   "outputs": [],
   "source": [
    "f = open('data/ch08.txt', 'r')\n",
    "print(f.read())\n",
    "f.close()"
   ]
  },
  {
   "cell_type": "code",
   "execution_count": null,
   "id": "dc7a9023",
   "metadata": {},
   "outputs": [],
   "source": [
    "with open('data/ch08.txt', 'r') as f : # with 절\n",
    "    print(f.read())\n",
    "# with절 이후 자동 close() 실행"
   ]
  },
  {
   "cell_type": "markdown",
   "id": "e0b345c5",
   "metadata": {},
   "source": [
    "# 6절. 연습문제\n",
    "## 실습형"
   ]
  },
  {
   "cell_type": "code",
   "execution_count": 1,
   "id": "b6b09237",
   "metadata": {},
   "outputs": [
    {
     "name": "stdout",
     "output_type": "stream",
     "text": [
      "첫 번째 숫자를 입력하세요.: 10\n",
      "두 번째 숫자를 입력하세요.: 0\n",
      "입력한 수는 10.0와 0.0입니다.\n",
      "0으로 나눌 수 없습니다.\n",
      "첫 번째 숫자를 입력하세요.: 10\n",
      "두 번째 숫자를 입력하세요.: 2\n",
      "입력한 수는 10.0와 2.0입니다.\n",
      "10.0을 2.0로 나누면 5.0입니다.\n"
     ]
    }
   ],
   "source": [
    "# 1.\n",
    "# ValueError, ZeroDivisionError\n",
    "while True:\n",
    "    try :\n",
    "        num1 = float(input('첫 번째 숫자를 입력하세요.: '))\n",
    "        num2 = float(input('두 번째 숫자를 입력하세요.: '))\n",
    "        print('입력한 수는 {}와 {}입니다.'.format(num1, num2))\n",
    "        print('{}을 {}로 나누면 {}입니다.'.format(num1, num2, num1/num2))\n",
    "        break\n",
    "    except ValueError:\n",
    "        print('유효한 숫자가 아닙니다. 다시 시도하세요.')\n",
    "    except ZeroDivisionError:\n",
    "        print('0으로 나눌 수 없습니다.')"
   ]
  },
  {
   "cell_type": "code",
   "execution_count": null,
   "id": "c3be7b59",
   "metadata": {},
   "outputs": [],
   "source": [
    "# 2.\n",
    "while True:\n",
    "    try :\n",
    "        num1 = float(input('첫 번째 숫자를 입력하세요.: '))\n",
    "        num2 = float(input('두 번째 숫자를 입력하세요.: '))\n",
    "        print('입력한 수는 {}와 {}입니다.'.format(num1, num2))\n",
    "        print('{}을 {}로 나누면 {}입니다.'.format(num1, num2, num1/num2))\n",
    "        break\n",
    "    except ValueError:\n",
    "        print('유효한 숫자가 아닙니다. 다시 시도하세요.')\n",
    "    except ZeroDivisionError:\n",
    "        print('0으로 나눌 수 없습니다.')"
   ]
  },
  {
   "cell_type": "code",
   "execution_count": null,
   "id": "82cbb141",
   "metadata": {},
   "outputs": [],
   "source": [
    "1.다음 중 예외 처리에 대해 잘못 설명한 것은?\n",
    "①try 블록은 예외가 발생할 가능성이 있는 문장을 작성한다\n",
    "②예외가 발생하면 except 블록이 실행된다\n",
    "③상위 예외 처리를 위한 except 블록은 하위 예외 처리 except\n",
    "블록에 비해 먼저 선언되어야 한다\n",
    "④finally 블록은 예외의 발생 유 무와 상관없이 실행된다\n",
    "# 정답 3"
   ]
  },
  {
   "cell_type": "code",
   "execution_count": null,
   "id": "74a290d6",
   "metadata": {},
   "outputs": [],
   "source": [
    "2.다음중 예외 처리에 대한 설명 중 잘못된 것은\n",
    "①raise 는 강제로 예외를 발생시킬 때 사용한다\n",
    "②catch 절은 예외를 처리하기 위해 사용하는 구문이다\n",
    "③다른 예외를 하나의 예외처리 구문으로 처리할 수 있다\n",
    "④else 절은 예외가 발생하지 않을 경우 실행된다\n",
    "# 정답 2"
   ]
  },
  {
   "cell_type": "code",
   "execution_count": null,
   "id": "dbf9e425",
   "metadata": {},
   "outputs": [],
   "source": [
    "3.다음 중 except 절을 잘못 사용한 것은\n",
    "①except :\n",
    "②except Exception:\n",
    "③except Exception as e:\n",
    "④except Exception e:\n",
    "# 정답 4"
   ]
  },
  {
   "cell_type": "code",
   "execution_count": null,
   "id": "a3fb1fd8",
   "metadata": {},
   "outputs": [],
   "source": [
    "4.다음 중 예외 처리에 사용하지 않는 구문은\n",
    "①try\n",
    "②except\n",
    "③with\n",
    "④finally\n",
    "# 정답 3"
   ]
  },
  {
   "cell_type": "code",
   "execution_count": null,
   "id": "d21276c7",
   "metadata": {},
   "outputs": [],
   "source": []
  },
  {
   "cell_type": "code",
   "execution_count": null,
   "id": "c67f481a",
   "metadata": {},
   "outputs": [],
   "source": []
  },
  {
   "cell_type": "code",
   "execution_count": null,
   "id": "d1298d55",
   "metadata": {},
   "outputs": [],
   "source": []
  },
  {
   "cell_type": "code",
   "execution_count": null,
   "id": "9d418b75",
   "metadata": {},
   "outputs": [],
   "source": []
  },
  {
   "cell_type": "code",
   "execution_count": null,
   "id": "d0dc5d00",
   "metadata": {},
   "outputs": [],
   "source": []
  },
  {
   "cell_type": "code",
   "execution_count": null,
   "id": "cd8b3a98",
   "metadata": {},
   "outputs": [],
   "source": []
  },
  {
   "cell_type": "code",
   "execution_count": null,
   "id": "56b71650",
   "metadata": {},
   "outputs": [],
   "source": []
  },
  {
   "cell_type": "code",
   "execution_count": null,
   "id": "5866b506",
   "metadata": {},
   "outputs": [],
   "source": []
  },
  {
   "cell_type": "code",
   "execution_count": null,
   "id": "1dabba24",
   "metadata": {},
   "outputs": [],
   "source": []
  },
  {
   "cell_type": "code",
   "execution_count": null,
   "id": "1f63f2d7",
   "metadata": {},
   "outputs": [],
   "source": []
  }
 ],
 "metadata": {
  "kernelspec": {
   "display_name": "Python 3 (ipykernel)",
   "language": "python",
   "name": "python3"
  },
  "language_info": {
   "codemirror_mode": {
    "name": "ipython",
    "version": 3
   },
   "file_extension": ".py",
   "mimetype": "text/x-python",
   "name": "python",
   "nbconvert_exporter": "python",
   "pygments_lexer": "ipython3",
   "version": "3.10.9"
  },
  "toc": {
   "base_numbering": 1,
   "nav_menu": {},
   "number_sections": false,
   "sideBar": true,
   "skip_h1_title": false,
   "title_cell": "Table of Contents",
   "title_sidebar": "Contents",
   "toc_cell": false,
   "toc_position": {
    "height": "calc(100% - 180px)",
    "left": "10px",
    "top": "150px",
    "width": "249.903px"
   },
   "toc_section_display": true,
   "toc_window_display": true
  }
 },
 "nbformat": 4,
 "nbformat_minor": 5
}
