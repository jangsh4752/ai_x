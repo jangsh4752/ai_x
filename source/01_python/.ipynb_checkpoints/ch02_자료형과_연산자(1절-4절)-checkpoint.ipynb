{
 "cells": [
  {
   "cell_type": "code",
   "execution_count": 2,
   "id": "0af02f70",
   "metadata": {},
   "outputs": [
    {
     "data": {
      "text/html": [
       "\n",
       "<style>\n",
       "div.container{width:86% !important;}\n",
       "div.cell.code_cell.rendered{width:100%;}\n",
       "div.CodeMirror {font-family:Consolas; font-size:12pt;}\n",
       "div.output {font-size:15pt; font-weight:bold;}\n",
       "div.input {font-family:Consolas; font-size:12pt;}\n",
       "div.prompt {min-width:70px;}\n",
       "div#toc-wrapper{padding-top:120px;}\n",
       "div.text_cell_render ul li{font-size:12pt;padding:5px;}\n",
       "table.dataframe{font-size:15px;}\n",
       "</style>\n"
      ],
      "text/plain": [
       "<IPython.core.display.HTML object>"
      ]
     },
     "metadata": {},
     "output_type": "display_data"
    }
   ],
   "source": [
    "from IPython.display import display, HTML\n",
    "display(HTML(\"\"\"\n",
    "<style>\n",
    "div.container{width:86% !important;}\n",
    "div.cell.code_cell.rendered{width:100%;}\n",
    "div.CodeMirror {font-family:Consolas; font-size:12pt;}\n",
    "div.output {font-size:15pt; font-weight:bold;}\n",
    "div.input {font-family:Consolas; font-size:12pt;}\n",
    "div.prompt {min-width:70px;}\n",
    "div#toc-wrapper{padding-top:120px;}\n",
    "div.text_cell_render ul li{font-size:12pt;padding:5px;}\n",
    "table.dataframe{font-size:15px;}\n",
    "</style>\n",
    "\"\"\"))"
   ]
  },
  {
   "cell_type": "markdown",
   "id": "b75ec222",
   "metadata": {},
   "source": [
    "<font size=\"5\" color=\"red\"> ch02 자료형과 연산자</font>\n",
    "# 1절 변수\n",
    "- 파이썬은 변수 선언 과정 필요 없음. 할당과 동시에 타입 지정 및 값 할당\n",
    "\n",
    "## 1.1 변수 할당\n",
    "- 할당연산자(=)를 이용해 값을 할당하면 타입이 세팅\n",
    "- 파이썬에서의 모든 변수는 객체로 저장(값 + @(함수 등)을 특정 메모리에 저장, 변수에는 그 메모리의 주소 저장 -> 값 저장된 메모리 주소 참조)"
   ]
  },
  {
   "cell_type": "code",
   "execution_count": 7,
   "id": "7d262ce7",
   "metadata": {},
   "outputs": [
    {
     "name": "stdout",
     "output_type": "stream",
     "text": [
      "계산된 넓이는 78.5\n"
     ]
    }
   ],
   "source": [
    "r = 5\n",
    "area = 3.14 * r * r\n",
    "print(\"계산된 넓이는\", area)"
   ]
  },
  {
   "cell_type": "code",
   "execution_count": 9,
   "id": "7f7390cc",
   "metadata": {},
   "outputs": [
    {
     "name": "stdout",
     "output_type": "stream",
     "text": [
      "area =  78.53981633974483\n"
     ]
    }
   ],
   "source": [
    "import numpy as np\n",
    "area = np.pi * r * r\n",
    "print(\"area = \", area)"
   ]
  },
  {
   "cell_type": "code",
   "execution_count": 11,
   "id": "6dce5ac3",
   "metadata": {},
   "outputs": [
    {
     "data": {
      "text/plain": [
       "False"
      ]
     },
     "execution_count": 11,
     "metadata": {},
     "output_type": "execute_result"
    }
   ],
   "source": [
    "area.is_integer() # area가 integer인지 여부를 반환"
   ]
  },
  {
   "cell_type": "code",
   "execution_count": 12,
   "id": "4bb6637a",
   "metadata": {},
   "outputs": [
    {
     "name": "stdout",
     "output_type": "stream",
     "text": [
      "area의 주소 :  2524517523056\n",
      "area의 타입: <class 'float'>\n"
     ]
    }
   ],
   "source": [
    "print('area의 주소 : ', id(area)) # id(변수) : 변수의 주소값\n",
    "print('area의 타입:', type(area)) # type(변수) : 변수의 타입"
   ]
  },
  {
   "cell_type": "code",
   "execution_count": 13,
   "id": "3bd8a2ff",
   "metadata": {},
   "outputs": [
    {
     "name": "stdout",
     "output_type": "stream",
     "text": [
      "area의 주소 :  2524559005232\n",
      "area의 타입: <class 'float'>\n"
     ]
    }
   ],
   "source": [
    "area = 5.5\n",
    "print('area의 주소 : ', id(area)) # id(변수) : 변수의 주소값\n",
    "print('area의 타입:', type(area)) # type(변수) : 변수의 타입"
   ]
  },
  {
   "cell_type": "code",
   "execution_count": 14,
   "id": "883bf94a",
   "metadata": {},
   "outputs": [
    {
     "name": "stdout",
     "output_type": "stream",
     "text": [
      "area의 주소 :  2524431319568\n",
      "area의 타입: <class 'int'>\n"
     ]
    }
   ],
   "source": [
    "area = 10\n",
    "print('area의 주소 : ', id(area)) # id(변수) : 변수의 주소값\n",
    "print('area의 타입:', type(area)) # type(변수) : 변수의 타입"
   ]
  },
  {
   "cell_type": "code",
   "execution_count": 15,
   "id": "523ce6ae",
   "metadata": {},
   "outputs": [
    {
     "ename": "AttributeError",
     "evalue": "'int' object has no attribute 'is_integer'",
     "output_type": "error",
     "traceback": [
      "\u001b[1;31m---------------------------------------------------------------------------\u001b[0m",
      "\u001b[1;31mAttributeError\u001b[0m                            Traceback (most recent call last)",
      "Cell \u001b[1;32mIn[15], line 1\u001b[0m\n\u001b[1;32m----> 1\u001b[0m \u001b[43marea\u001b[49m\u001b[38;5;241;43m.\u001b[39;49m\u001b[43mis_integer\u001b[49m()\n",
      "\u001b[1;31mAttributeError\u001b[0m: 'int' object has no attribute 'is_integer'"
     ]
    }
   ],
   "source": [
    "area.is_integer()"
   ]
  },
  {
   "cell_type": "code",
   "execution_count": 17,
   "id": "bbbd5b2c",
   "metadata": {},
   "outputs": [
    {
     "name": "stdout",
     "output_type": "stream",
     "text": [
      "area의 주소 :  2524558047536\n",
      "area의 타입: <class 'str'>\n"
     ]
    }
   ],
   "source": [
    "area = \"파이썬\"\n",
    "print('area의 주소 : ', id(area)) # id(변수) : 변수의 주소값\n",
    "print('area의 타입:', type(area)) # type(변수) : 변수의 타입"
   ]
  },
  {
   "cell_type": "markdown",
   "id": "a2a46c56",
   "metadata": {},
   "source": [
    "## 1.2 변수 이름 규칙\n",
    "- 문자로 시작(숫자 시작 불가)\n",
    "- 문자, 숫자, _로만 변수명 작성 가능(특수문자 불가)\n",
    "- 함수명은 변수 이름으로 가능은 하나 지양해야 함. 써야 한다면 '함수명_' 식으로 _ 이용\n",
    "- 파이썬 예약어(for 등)은 변수명 사용 불가\n",
    "- 한글 변수는 꼭 필요시에만 사용"
   ]
  },
  {
   "cell_type": "code",
   "execution_count": 21,
   "id": "e833be3c",
   "metadata": {},
   "outputs": [
    {
     "name": "stdout",
     "output_type": "stream",
     "text": [
      "홍길동\n"
     ]
    }
   ],
   "source": [
    "이름 = \"홍길동\"\n",
    "print(이름)"
   ]
  },
  {
   "cell_type": "code",
   "execution_count": 22,
   "id": "6aa248b4",
   "metadata": {},
   "outputs": [
    {
     "data": {
      "text/plain": [
       "'홍길동'"
      ]
     },
     "execution_count": 22,
     "metadata": {},
     "output_type": "execute_result"
    }
   ],
   "source": [
    "이름"
   ]
  },
  {
   "cell_type": "code",
   "execution_count": 23,
   "id": "258c8580",
   "metadata": {},
   "outputs": [
    {
     "ename": "SyntaxError",
     "evalue": "invalid syntax (3039934606.py, line 1)",
     "output_type": "error",
     "traceback": [
      "\u001b[1;36m  Cell \u001b[1;32mIn[23], line 1\u001b[1;36m\u001b[0m\n\u001b[1;33m    for = 5\u001b[0m\n\u001b[1;37m        ^\u001b[0m\n\u001b[1;31mSyntaxError\u001b[0m\u001b[1;31m:\u001b[0m invalid syntax\n"
     ]
    }
   ],
   "source": [
    "for = 5"
   ]
  },
  {
   "cell_type": "code",
   "execution_count": 24,
   "id": "ab7e11ff",
   "metadata": {},
   "outputs": [
    {
     "ename": "NameError",
     "evalue": "name 'member' is not defined",
     "output_type": "error",
     "traceback": [
      "\u001b[1;31m---------------------------------------------------------------------------\u001b[0m",
      "\u001b[1;31mNameError\u001b[0m                                 Traceback (most recent call last)",
      "Cell \u001b[1;32mIn[24], line 1\u001b[0m\n\u001b[1;32m----> 1\u001b[0m \u001b[43mmember\u001b[49m\u001b[38;5;241m.\u001b[39mname \u001b[38;5;241m=\u001b[39m \u001b[38;5;124m\"\u001b[39m\u001b[38;5;124m홍길동\u001b[39m\u001b[38;5;124m\"\u001b[39m\n",
      "\u001b[1;31mNameError\u001b[0m: name 'member' is not defined"
     ]
    }
   ],
   "source": [
    "member.name = \"홍길동\""
   ]
  },
  {
   "cell_type": "code",
   "execution_count": 25,
   "id": "760929bb",
   "metadata": {},
   "outputs": [],
   "source": [
    "member_name = \"홍길동\" # python에서 주로 이용\n",
    "memberName = \"홍길동\" # Java, C++에서 주로 이용"
   ]
  },
  {
   "cell_type": "code",
   "execution_count": 26,
   "id": "ba7176f8",
   "metadata": {},
   "outputs": [
    {
     "name": "stdout",
     "output_type": "stream",
     "text": [
      "10\n"
     ]
    }
   ],
   "source": [
    "Print = 10 # 대문자로 시작한 변수, 함수명의 변수는 가능은 하나 절대 금할 것\n",
    "print(Print)"
   ]
  },
  {
   "cell_type": "code",
   "execution_count": 27,
   "id": "d2f56096",
   "metadata": {},
   "outputs": [
    {
     "data": {
      "text/plain": [
       "complex"
      ]
     },
     "execution_count": 27,
     "metadata": {},
     "output_type": "execute_result"
    }
   ],
   "source": [
    "# 파이썬에서의 숫자 : 정수, 실수, 복소수(complex)\n",
    "i = 3 + 3j # j : 파이썬에서 복소수 표현\n",
    "type(i)"
   ]
  },
  {
   "cell_type": "code",
   "execution_count": 28,
   "id": "76bdc1d8",
   "metadata": {},
   "outputs": [
    {
     "data": {
      "text/plain": [
       "True"
      ]
     },
     "execution_count": 28,
     "metadata": {},
     "output_type": "execute_result"
    }
   ],
   "source": [
    "isinstance(i, complex) # 변수(객체)가 complex인지 여부 반환"
   ]
  },
  {
   "cell_type": "markdown",
   "id": "9fdded12",
   "metadata": {},
   "source": [
    "## 1.3 도움말"
   ]
  },
  {
   "cell_type": "code",
   "execution_count": 29,
   "id": "f264726e",
   "metadata": {},
   "outputs": [
    {
     "name": "stdout",
     "output_type": "stream",
     "text": [
      "Help on built-in function print in module builtins:\n",
      "\n",
      "print(...)\n",
      "    print(value, ..., sep=' ', end='\\n', file=sys.stdout, flush=False)\n",
      "    \n",
      "    Prints the values to a stream, or to sys.stdout by default.\n",
      "    Optional keyword arguments:\n",
      "    file:  a file-like object (stream); defaults to the current sys.stdout.\n",
      "    sep:   string inserted between values, default a space.\n",
      "    end:   string appended after the last value, default a newline.\n",
      "    flush: whether to forcibly flush the stream.\n",
      "\n"
     ]
    }
   ],
   "source": [
    "help(print)"
   ]
  },
  {
   "cell_type": "code",
   "execution_count": 31,
   "id": "d03d5444",
   "metadata": {},
   "outputs": [
    {
     "name": "stdout",
     "output_type": "stream",
     "text": [
      "\n",
      "Welcome to Python 3.10's help utility!\n",
      "\n",
      "If this is your first time using Python, you should definitely check out\n",
      "the tutorial on the internet at https://docs.python.org/3.10/tutorial/.\n",
      "\n",
      "Enter the name of any module, keyword, or topic to get help on writing\n",
      "Python programs and using Python modules.  To quit this help utility and\n",
      "return to the interpreter, just type \"quit\".\n",
      "\n",
      "To get a list of available modules, keywords, symbols, or topics, type\n",
      "\"modules\", \"keywords\", \"symbols\", or \"topics\".  Each module also comes\n",
      "with a one-line summary of what it does; to list the modules whose name\n",
      "or summary contain a given string such as \"spam\", type \"modules spam\".\n",
      "\n",
      "help> ㅂ\n",
      "No Python documentation found for 'ㅂ'.\n",
      "Use help() to get the interactive help utility.\n",
      "Use help(str) for help on the str class.\n",
      "\n",
      "help> q\n",
      "\n",
      "You are now leaving help and returning to the Python interpreter.\n",
      "If you want to ask for help on a particular object directly from the\n",
      "interpreter, you can type \"help(object)\".  Executing \"help('string')\"\n",
      "has the same effect as typing a particular string at the help> prompt.\n"
     ]
    }
   ],
   "source": [
    "help() #help를 빠져 나오려면 q 입력 / Esc + o : 결과 접기/펴기(토글)"
   ]
  },
  {
   "cell_type": "code",
   "execution_count": 32,
   "id": "b2602448",
   "metadata": {},
   "outputs": [
    {
     "name": "stdout",
     "output_type": "stream",
     "text": [
      "\n"
     ]
    }
   ],
   "source": [
    "# 도움말 기능 : Shift + Tab 키 두번 (tab tab) - 주로 이용\n",
    "print()"
   ]
  },
  {
   "cell_type": "code",
   "execution_count": 40,
   "id": "04fdda3f",
   "metadata": {},
   "outputs": [],
   "source": [
    "def add(x, y=0) : \n",
    "    '''\n",
    "    매개변수 2개를 받아 두 자리 숫자로 만드는 함수\n",
    "    x는 10의 자리수가 됨\n",
    "    y는 1의 자리수가 됨\n",
    "    사용법 : add(2,3) => 23\n",
    "    '''\n",
    "    return x*10 + y\n",
    "# ''''''(홑,쌍 상관없이 따옴표 3개 입력 후 그 안에 설명 작성 시 도움말 작성됨)\n",
    "# 위처럼 함수 선언 시 매개변수에 기본값을 입력할 경우 매개변수가 없으면 기본값, 매개변수가 있으면 입력된 매개변수값을 이용해 처리"
   ]
  },
  {
   "cell_type": "code",
   "execution_count": 39,
   "id": "2859534c",
   "metadata": {},
   "outputs": [
    {
     "data": {
      "text/plain": [
       "22"
      ]
     },
     "execution_count": 39,
     "metadata": {},
     "output_type": "execute_result"
    }
   ],
   "source": [
    "add(2, 2)"
   ]
  },
  {
   "cell_type": "code",
   "execution_count": 41,
   "id": "191d5059",
   "metadata": {},
   "outputs": [
    {
     "data": {
      "text/plain": [
       "23"
      ]
     },
     "execution_count": 41,
     "metadata": {},
     "output_type": "execute_result"
    }
   ],
   "source": [
    "a = add\n",
    "a(2,3)"
   ]
  },
  {
   "cell_type": "markdown",
   "id": "fe9b67b8",
   "metadata": {},
   "source": [
    "## 1.4 다중 변수 할당"
   ]
  },
  {
   "cell_type": "code",
   "execution_count": 42,
   "id": "3319c2a4",
   "metadata": {},
   "outputs": [],
   "source": [
    "a = 10\n",
    "b = 20"
   ]
  },
  {
   "cell_type": "code",
   "execution_count": 44,
   "id": "5426d05c",
   "metadata": {},
   "outputs": [
    {
     "name": "stdout",
     "output_type": "stream",
     "text": [
      "10 20\n"
     ]
    }
   ],
   "source": [
    "a, b = 10, 20\n",
    "print(a, b)"
   ]
  },
  {
   "cell_type": "code",
   "execution_count": 45,
   "id": "81a2e312",
   "metadata": {},
   "outputs": [
    {
     "name": "stdout",
     "output_type": "stream",
     "text": [
      "20 30\n"
     ]
    }
   ],
   "source": [
    "# 다중 변수 선언의 경우 순차적으로 들어가지 않고 동시에 진행\n",
    "# 가독성이 좋지 않아 자주 쓰이진 않음\n",
    "a, b = b, a+b \n",
    "print(a, b)"
   ]
  },
  {
   "cell_type": "markdown",
   "id": "5e068141",
   "metadata": {},
   "source": [
    "# 2절. 화면 입출력(I/O)"
   ]
  },
  {
   "cell_type": "code",
   "execution_count": 53,
   "id": "e51233a6",
   "metadata": {},
   "outputs": [
    {
     "name": "stdout",
     "output_type": "stream",
     "text": [
      "첫 번째 숫자는?8\n"
     ]
    },
    {
     "data": {
      "text/plain": [
       "'8'"
      ]
     },
     "execution_count": 53,
     "metadata": {},
     "output_type": "execute_result"
    }
   ],
   "source": [
    "# input() : 사용자로부터 값을 입력받기 위한 함수, 반드시 문자열로 입력받음(3 -> \"3\")\n",
    "first = input(\"첫 번째 숫자는?\")\n",
    "first"
   ]
  },
  {
   "cell_type": "code",
   "execution_count": 54,
   "id": "02aaadd0",
   "metadata": {},
   "outputs": [
    {
     "name": "stdout",
     "output_type": "stream",
     "text": [
      "두 번째 숫자는?2\n"
     ]
    }
   ],
   "source": [
    "second = input('두 번째 숫자는?')"
   ]
  },
  {
   "cell_type": "code",
   "execution_count": 55,
   "id": "fe2ff08c",
   "metadata": {},
   "outputs": [
    {
     "name": "stdout",
     "output_type": "stream",
     "text": [
      "합: 10\n"
     ]
    }
   ],
   "source": [
    "sum = int(first) + int(second)\n",
    "print('합:', sum)"
   ]
  },
  {
   "cell_type": "code",
   "execution_count": 57,
   "id": "81cc03ef",
   "metadata": {},
   "outputs": [
    {
     "name": "stdout",
     "output_type": "stream",
     "text": [
      "첫 번째 수는?10\n",
      "두 번째 수는?20\n",
      "합 30\n"
     ]
    }
   ],
   "source": [
    "first = int(input('첫 번째 수는?'))\n",
    "second = int(input('두 번째 수는?'))\n",
    "sum = first + second\n",
    "print('합', sum)"
   ]
  },
  {
   "cell_type": "code",
   "execution_count": 64,
   "id": "3c42879d",
   "metadata": {},
   "outputs": [
    {
     "name": "stdout",
     "output_type": "stream",
     "text": [
      "합=30 / 합 ~ 30 / 합은 30\n"
     ]
    }
   ],
   "source": [
    "print('합', sum, sep = '=', end=' / ')\n",
    "print('합', sum, sep = ' ~ ', end=' / ')\n",
    "print('합', sum, sep = '은 ')"
   ]
  },
  {
   "cell_type": "code",
   "execution_count": 65,
   "id": "688b7b1f",
   "metadata": {},
   "outputs": [
    {
     "name": "stdout",
     "output_type": "stream",
     "text": [
      "hello, world\n"
     ]
    }
   ],
   "source": [
    "import sys\n",
    "print('hello', 'world', sep=', ', file=sys.stdout) # stdout : standard out의 약자, 모니터로 출력"
   ]
  },
  {
   "cell_type": "markdown",
   "id": "94ba94cb",
   "metadata": {},
   "source": [
    "# 3절. 기본 자료형\n",
    "- 자료형에 따라 값의 크기와 저장 방식이 달라짐\n",
    "    - 숫자 : int, float(실수), complex(복소수)\n",
    "    - 문자 : str\n",
    "    - 논리 : bool(True/False)\n",
    "    \n",
    "## 3.1 숫자형"
   ]
  },
  {
   "cell_type": "code",
   "execution_count": 68,
   "id": "706e392d",
   "metadata": {},
   "outputs": [
    {
     "data": {
      "text/plain": [
       "9223372036854775807"
      ]
     },
     "execution_count": 68,
     "metadata": {},
     "output_type": "execute_result"
    }
   ],
   "source": [
    "import sys\n",
    "sys.maxsize # 정수의 최대값 2**63 -1(2의 63승 -1)"
   ]
  },
  {
   "cell_type": "code",
   "execution_count": 71,
   "id": "3b096bf2",
   "metadata": {},
   "outputs": [
    {
     "name": "stdout",
     "output_type": "stream",
     "text": [
      "9323372036854775807\n",
      "<class 'int'>\n"
     ]
    }
   ],
   "source": [
    "i = sys.maxsize + 100000000000000000\n",
    "print(i)\n",
    "print(type(i))"
   ]
  },
  {
   "cell_type": "code",
   "execution_count": 74,
   "id": "1e4a3b51",
   "metadata": {},
   "outputs": [
    {
     "data": {
      "text/plain": [
       "2.0"
      ]
     },
     "execution_count": 74,
     "metadata": {},
     "output_type": "execute_result"
    }
   ],
   "source": [
    "f = 4/2 # 정수/정수는 무조건 실수\n",
    "f"
   ]
  },
  {
   "cell_type": "code",
   "execution_count": 76,
   "id": "d5e2dce9",
   "metadata": {},
   "outputs": [
    {
     "name": "stdout",
     "output_type": "stream",
     "text": [
      "2\n",
      "2\n"
     ]
    }
   ],
   "source": [
    "# Java처럼 정수/정수의 결과를 정수로 나오게 하려면\n",
    "f = 4//2 # // : 몫연산자 (결과의 몫만 가져옴)\n",
    "print(f)\n",
    "f = int(4/2)\n",
    "print(f)"
   ]
  },
  {
   "cell_type": "code",
   "execution_count": 77,
   "id": "194f06a6",
   "metadata": {},
   "outputs": [
    {
     "name": "stdout",
     "output_type": "stream",
     "text": [
      "(-1+0j)\n"
     ]
    }
   ],
   "source": [
    "c = 1j # 수학에서의 0 + 1i\n",
    "print(c**2) # ** 승연산자(제곱)"
   ]
  },
  {
   "cell_type": "code",
   "execution_count": 81,
   "id": "1a21da0b",
   "metadata": {},
   "outputs": [
    {
     "name": "stdout",
     "output_type": "stream",
     "text": [
      "지수형 표현할당시 실수형으로 저장 :  1120000000000.0\n",
      "지수형 표현할당시 실수형으로 저장 :  1.12e-12\n"
     ]
    }
   ],
   "source": [
    "f = 1.12e12 # 1.12의 10의 12승 1120000000000\n",
    "print('지수형 표현할당시 실수형으로 저장 : ', f)\n",
    "f = 1.12e-12 # 1.12의 10의 -12승 0.000000000000112\n",
    "print('지수형 표현할당시 실수형으로 저장 : ', f) # 너무 크거나 작은 수는 e 이용 / 강제적으로 실수형으로 나오게 할 수 있음(4장)"
   ]
  },
  {
   "cell_type": "markdown",
   "id": "f8d3c44c",
   "metadata": {},
   "source": [
    "## 3.2 문자형\n",
    "- 쌍따옴표(\" \")나 홑따옴표(' ')이용 - 문자열/문자 구분 없음, 일부는 str로 표현"
   ]
  },
  {
   "cell_type": "code",
   "execution_count": 85,
   "id": "80be3aa7",
   "metadata": {},
   "outputs": [
    {
     "name": "stdout",
     "output_type": "stream",
     "text": [
      "홍길동\"짱\" 서울시 관악구 '신림동'\n"
     ]
    }
   ],
   "source": [
    "name = \"홍길동\\\"짱\\\"\" # 홍길동\"짱\"\n",
    "name = '홍길동\"짱\"'\n",
    "address = '서울시 관악구 \\'신림동\\'' # 서울시 관악구 '신길동'\n",
    "address = \"서울시 관악구 '신림동'\"\n",
    "print(name, address)"
   ]
  },
  {
   "cell_type": "code",
   "execution_count": 88,
   "id": "16885bc2",
   "metadata": {},
   "outputs": [
    {
     "name": "stdout",
     "output_type": "stream",
     "text": [
      "여러 줄 짜리 내용\n",
      "줄바꿈 문자를 쓰지 않고 따옴표 3개로 처리\n",
      "이처럼 쓰는 경우가 많다.\n"
     ]
    }
   ],
   "source": [
    "# 문자형 변수에 여러줄의 문자열\n",
    "text = '''여러 줄 짜리 내용\n",
    "줄바꿈 문자를 쓰지 않고 따옴표 3개로 처리\n",
    "이처럼 쓰는 경우가 많다.'''\n",
    "print(text)"
   ]
  },
  {
   "cell_type": "markdown",
   "id": "940cd008",
   "metadata": {},
   "source": [
    "### ※ 문자열 연산"
   ]
  },
  {
   "cell_type": "code",
   "execution_count": 89,
   "id": "1c4f9990",
   "metadata": {},
   "outputs": [
    {
     "name": "stdout",
     "output_type": "stream",
     "text": [
      "홍길동동에 번쩍 서에 번쩍\n"
     ]
    }
   ],
   "source": [
    "'''\n",
    "    여러 줄 주석 용도\n",
    "    2025.04.08 문자열 연산 소스 by 아무개\n",
    "    등 주석을 여러 줄로 달고 싶을 경우 이용\n",
    "'''\n",
    "name1 = \"홍길동\"\n",
    "name2 = \"동에 번쩍 서에 번쩍\"\n",
    "print(name1 + name2)"
   ]
  },
  {
   "cell_type": "code",
   "execution_count": 90,
   "id": "9839e493",
   "metadata": {},
   "outputs": [
    {
     "name": "stdout",
     "output_type": "stream",
     "text": [
      "홍길동홍길동홍길동\n"
     ]
    }
   ],
   "source": [
    "print(name1 * 3) # 문자열 * 정수 : 문자열을 정수 번 만큼 반복"
   ]
  },
  {
   "cell_type": "markdown",
   "id": "5d90e9b8",
   "metadata": {},
   "source": [
    "### ※ raw 데이터\n",
    "- 용도 : 정규표현식 이용(특수한 패턴의 데이터 - 전화번호, 이메일 등), 디렉토리 경로 표현 시 이용"
   ]
  },
  {
   "cell_type": "code",
   "execution_count": 94,
   "id": "7d6d5953",
   "metadata": {},
   "outputs": [
    {
     "name": "stdout",
     "output_type": "stream",
     "text": [
      "Hello\n",
      "World\n",
      "Hello\\nWorld\n",
      "Hello\\nWorld\n"
     ]
    }
   ],
   "source": [
    "print('Hello\\nWorld')\n",
    "print(r'Hello\\nWorld') # r : raw data 그대로 인지\n",
    "print('Hello\\\\nWorld') # \\\\ : 문자 \\"
   ]
  },
  {
   "cell_type": "markdown",
   "id": "e86fde0a",
   "metadata": {},
   "source": [
    "정규 표현식\n",
    "```(마크업 셀에서 백틱(1옆의 특수문자)은 블록을 만들때 사용)\n",
    "1. 참조 : 위키백과\n",
    "2. 간략한 문법\n",
    "    \\d : 숫자와 매치, [0-9]와 동일\n",
    "    \\D : 숫자가 아닌 것\n",
    "    \\w : 영문자 or 숫자, [a-zA-Z0-9] ([] : 괄호 안의 범위 중 하나)\n",
    "    \\W : 영문자 or 숫자가 아닌 문자\n",
    "    . : 아무 문자 하나\n",
    "    \\. : .(dot) 문자\n",
    "    \\- : - 문자\n",
    "    {2, 4} : 2~4회 반복 (반드시 앞의 수가 뒤의 수보다 작아야 함)\n",
    "    {4} : 4회 반복\n",
    "    {2, } : 2회 이상 반복\n",
    "    + : 1회 이상 반복\n",
    "    * : 0회 이상 반복\n",
    "    ? : 0 or 1회 반복\n",
    "3. 정규표현식 연습장(https://regexr.com/)\n",
    "ex. 02-777-7894 / 010-9999-9999\n",
    "[0-9]{2,3} / \\d{2,3}-\\d{3,4}-\\d{4}\n",
    "\\d{2,3}[\\-) ]?\\d{3,4}[\\- ]?\\d{4} : 02-898-7877 , 010-7897-7897 , 02)777-7777 , 01099998888 , 010 9999 1234 가 해당\n",
    "                                   010#1234#1111 는 미해당\n",
    "```"
   ]
  },
  {
   "cell_type": "code",
   "execution_count": null,
   "id": "bab9cab1",
   "metadata": {},
   "outputs": [],
   "source": []
  },
  {
   "cell_type": "code",
   "execution_count": null,
   "id": "fdc3be59",
   "metadata": {},
   "outputs": [],
   "source": []
  },
  {
   "cell_type": "code",
   "execution_count": null,
   "id": "ed91e401",
   "metadata": {},
   "outputs": [],
   "source": []
  },
  {
   "cell_type": "code",
   "execution_count": null,
   "id": "4deadc78",
   "metadata": {},
   "outputs": [],
   "source": []
  },
  {
   "cell_type": "code",
   "execution_count": null,
   "id": "e6a64420",
   "metadata": {},
   "outputs": [],
   "source": []
  },
  {
   "cell_type": "code",
   "execution_count": null,
   "id": "a237f585",
   "metadata": {},
   "outputs": [],
   "source": []
  },
  {
   "cell_type": "code",
   "execution_count": null,
   "id": "3a741b04",
   "metadata": {},
   "outputs": [],
   "source": []
  },
  {
   "cell_type": "code",
   "execution_count": null,
   "id": "d4013c4e",
   "metadata": {},
   "outputs": [],
   "source": []
  },
  {
   "cell_type": "code",
   "execution_count": null,
   "id": "c515d542",
   "metadata": {},
   "outputs": [],
   "source": []
  },
  {
   "cell_type": "code",
   "execution_count": null,
   "id": "3b0a2bf0",
   "metadata": {},
   "outputs": [],
   "source": []
  }
 ],
 "metadata": {
  "kernelspec": {
   "display_name": "Python 3 (ipykernel)",
   "language": "python",
   "name": "python3"
  },
  "language_info": {
   "codemirror_mode": {
    "name": "ipython",
    "version": 3
   },
   "file_extension": ".py",
   "mimetype": "text/x-python",
   "name": "python",
   "nbconvert_exporter": "python",
   "pygments_lexer": "ipython3",
   "version": "3.10.9"
  },
  "toc": {
   "base_numbering": 1,
   "nav_menu": {},
   "number_sections": false,
   "sideBar": true,
   "skip_h1_title": false,
   "title_cell": "Table of Contents",
   "title_sidebar": "Contents",
   "toc_cell": false,
   "toc_position": {
    "height": "calc(100% - 180px)",
    "left": "10px",
    "top": "150px",
    "width": "202.6px"
   },
   "toc_section_display": true,
   "toc_window_display": true
  }
 },
 "nbformat": 4,
 "nbformat_minor": 5
}
