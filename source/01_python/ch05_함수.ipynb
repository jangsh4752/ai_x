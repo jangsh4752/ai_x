{
 "cells": [
  {
   "cell_type": "code",
   "execution_count": 1,
   "id": "35603c42",
   "metadata": {},
   "outputs": [
    {
     "data": {
      "text/html": [
       "\n",
       "<style>\n",
       "div.container{width:86% !important;}\n",
       "div.cell.code_cell.rendered{width:100%;}\n",
       "div.CodeMirror {font-family:Consolas; font-size:12pt;}\n",
       "div.output {font-size:15pt; font-weight:bold;}\n",
       "div.input {font-family:Consolas; font-size:12pt;}\n",
       "div.prompt {min-width:70px;}\n",
       "div#toc-wrapper{padding-top:120px;}\n",
       "div.text_cell_render ul li{font-size:12pt;padding:5px;}\n",
       "table.dataframe{font-size:15px;}\n",
       "</style>\n"
      ],
      "text/plain": [
       "<IPython.core.display.HTML object>"
      ]
     },
     "metadata": {},
     "output_type": "display_data"
    }
   ],
   "source": [
    "from IPython.display import display, HTML\n",
    "display(HTML(\"\"\"\n",
    "<style>\n",
    "div.container{width:86% !important;}\n",
    "div.cell.code_cell.rendered{width:100%;}\n",
    "div.CodeMirror {font-family:Consolas; font-size:12pt;}\n",
    "div.output {font-size:15pt; font-weight:bold;}\n",
    "div.input {font-family:Consolas; font-size:12pt;}\n",
    "div.prompt {min-width:70px;}\n",
    "div#toc-wrapper{padding-top:120px;}\n",
    "div.text_cell_render ul li{font-size:12pt;padding:5px;}\n",
    "table.dataframe{font-size:15px;}\n",
    "</style>\n",
    "\"\"\"))"
   ]
  },
  {
   "cell_type": "markdown",
   "id": "5721c480",
   "metadata": {},
   "source": [
    "<b><font size=\"5\" color=\"red\"> ch05. 함수</font></b>\n",
    "- 사용할 코드를 묶어 놓고 그 묶음에 이름을 붙인 것\n",
    "- 오버로딩 : 함수 이름이 같고, 매개변수의 개수로 다른 함수를 허용하는것 불가\n",
    "- 함수 정의\n",
    "```\n",
    "def 함수명([매개변수1, 매개변수2, ..., 매개변수n]) - [] : 생략가능\n",
    "    명령어1\n",
    "    명령어2\n",
    "    ...\n",
    "    명령어n\n",
    "```"
   ]
  },
  {
   "cell_type": "code",
   "execution_count": null,
   "id": "359001bb",
   "metadata": {},
   "outputs": [],
   "source": [
    "# \n",
    "def add(a, b) :\n",
    "    print(1)\n",
    "def add(a) :\n",
    "    print(2)"
   ]
  },
  {
   "cell_type": "markdown",
   "id": "26ea25bb",
   "metadata": {},
   "source": [
    "# 1절. 함수의 정의 및 사용\n",
    "## 1.1 함수 정의"
   ]
  },
  {
   "cell_type": "code",
   "execution_count": 2,
   "id": "4a032d20",
   "metadata": {},
   "outputs": [],
   "source": [
    "# 함수 정의\n",
    "def my_message(x, msg) : # msg를 x번 출력하는 함수\n",
    "    for i in range(x) :\n",
    "        print(msg)"
   ]
  },
  {
   "cell_type": "code",
   "execution_count": 3,
   "id": "0eb4bc53",
   "metadata": {},
   "outputs": [
    {
     "name": "stdout",
     "output_type": "stream",
     "text": [
      "Hello\n",
      "Hello\n",
      "Hello\n",
      "Hello\n",
      "Hello\n"
     ]
    }
   ],
   "source": [
    "# 함수 사용\n",
    "my_message(5, 'Hello')"
   ]
  },
  {
   "cell_type": "code",
   "execution_count": 4,
   "id": "a53d5912",
   "metadata": {},
   "outputs": [
    {
     "name": "stdout",
     "output_type": "stream",
     "text": [
      "hello\n",
      "hello\n",
      "hello\n"
     ]
    }
   ],
   "source": [
    "my_msg = my_message\n",
    "my_msg(3, \"hello\")"
   ]
  },
  {
   "cell_type": "code",
   "execution_count": 5,
   "id": "4cd9b682",
   "metadata": {},
   "outputs": [
    {
     "data": {
      "text/plain": [
       "(function, function)"
      ]
     },
     "execution_count": 5,
     "metadata": {},
     "output_type": "execute_result"
    }
   ],
   "source": [
    "type(my_msg), type(my_message)"
   ]
  },
  {
   "cell_type": "code",
   "execution_count": 1,
   "id": "820d282a",
   "metadata": {},
   "outputs": [
    {
     "name": "stdout",
     "output_type": "stream",
     "text": [
      "Hello\n",
      "Hello\n"
     ]
    }
   ],
   "source": [
    "print('Hello') # python 내장 함수(기본 제공 함수 - import 필요 없음)\n",
    "print = 5\n",
    "# print('Hello')\n",
    "del print\n",
    "print('Hello')"
   ]
  },
  {
   "cell_type": "code",
   "execution_count": 6,
   "id": "b3509b10",
   "metadata": {},
   "outputs": [
    {
     "name": "stdout",
     "output_type": "stream",
     "text": [
      "Hello\n",
      "Hello\n"
     ]
    }
   ],
   "source": [
    "my_message(2, 'Hello')"
   ]
  },
  {
   "cell_type": "code",
   "execution_count": 7,
   "id": "4d97ef94",
   "metadata": {},
   "outputs": [],
   "source": [
    "my_message = 5"
   ]
  },
  {
   "cell_type": "code",
   "execution_count": 8,
   "id": "3c1d3a14",
   "metadata": {},
   "outputs": [
    {
     "ename": "TypeError",
     "evalue": "'int' object is not callable",
     "output_type": "error",
     "traceback": [
      "\u001b[1;31m---------------------------------------------------------------------------\u001b[0m",
      "\u001b[1;31mTypeError\u001b[0m                                 Traceback (most recent call last)",
      "Cell \u001b[1;32mIn[8], line 1\u001b[0m\n\u001b[1;32m----> 1\u001b[0m \u001b[43mmy_message\u001b[49m\u001b[43m(\u001b[49m\u001b[38;5;241;43m2\u001b[39;49m\u001b[43m,\u001b[49m\u001b[43m \u001b[49m\u001b[38;5;124;43m'\u001b[39;49m\u001b[38;5;124;43mHello\u001b[39;49m\u001b[38;5;124;43m'\u001b[39;49m\u001b[43m)\u001b[49m\n",
      "\u001b[1;31mTypeError\u001b[0m: 'int' object is not callable"
     ]
    }
   ],
   "source": [
    "my_message(2, 'Hello')"
   ]
  },
  {
   "cell_type": "code",
   "execution_count": 10,
   "id": "f6876286",
   "metadata": {},
   "outputs": [
    {
     "ename": "NameError",
     "evalue": "name 'my_message' is not defined",
     "output_type": "error",
     "traceback": [
      "\u001b[1;31m---------------------------------------------------------------------------\u001b[0m",
      "\u001b[1;31mNameError\u001b[0m                                 Traceback (most recent call last)",
      "Cell \u001b[1;32mIn[10], line 1\u001b[0m\n\u001b[1;32m----> 1\u001b[0m \u001b[38;5;28;01mdel\u001b[39;00m my_message\n",
      "\u001b[1;31mNameError\u001b[0m: name 'my_message' is not defined"
     ]
    }
   ],
   "source": [
    "del my_message # 변수를 삭제 해도 함수 사용 불가(python 내장 함수 아님)"
   ]
  },
  {
   "cell_type": "code",
   "execution_count": 11,
   "id": "5780ec2b",
   "metadata": {},
   "outputs": [
    {
     "ename": "NameError",
     "evalue": "name 'my_message' is not defined",
     "output_type": "error",
     "traceback": [
      "\u001b[1;31m---------------------------------------------------------------------------\u001b[0m",
      "\u001b[1;31mNameError\u001b[0m                                 Traceback (most recent call last)",
      "Cell \u001b[1;32mIn[11], line 1\u001b[0m\n\u001b[1;32m----> 1\u001b[0m \u001b[43mmy_message\u001b[49m(\u001b[38;5;241m2\u001b[39m, \u001b[38;5;124m'\u001b[39m\u001b[38;5;124mHello\u001b[39m\u001b[38;5;124m'\u001b[39m)\n",
      "\u001b[1;31mNameError\u001b[0m: name 'my_message' is not defined"
     ]
    }
   ],
   "source": [
    "my_message(2, 'Hello')"
   ]
  },
  {
   "cell_type": "code",
   "execution_count": 1,
   "id": "5f2e5cb9",
   "metadata": {},
   "outputs": [],
   "source": [
    "# 함수 정의 : 4월 16일(수)\n",
    "def my_hello() :\n",
    "    print('Hello, Python')\n",
    "    print('Hello, World')\n",
    "def my_hello(cnt) :\n",
    "    for i in range(cnt) :\n",
    "        print('Hello, Python')\n",
    "        print('Hello, World')"
   ]
  },
  {
   "cell_type": "code",
   "execution_count": 3,
   "id": "c7f62c14",
   "metadata": {},
   "outputs": [
    {
     "name": "stdout",
     "output_type": "stream",
     "text": [
      "Hello, Python\n",
      "Hello, World\n",
      "Hello, Python\n",
      "Hello, World\n"
     ]
    }
   ],
   "source": [
    "# 함수 사용 = 함수 호출\n",
    "my_hello(2)"
   ]
  },
  {
   "cell_type": "code",
   "execution_count": 4,
   "id": "6266b7c6",
   "metadata": {},
   "outputs": [
    {
     "data": {
      "text/plain": [
       "<function __main__.my_hello(cnt)>"
      ]
     },
     "execution_count": 4,
     "metadata": {},
     "output_type": "execute_result"
    }
   ],
   "source": [
    "my_hello"
   ]
  },
  {
   "cell_type": "code",
   "execution_count": 6,
   "id": "b8e684ad",
   "metadata": {},
   "outputs": [
    {
     "data": {
      "text/plain": [
       "'__main__'"
      ]
     },
     "execution_count": 6,
     "metadata": {},
     "output_type": "execute_result"
    }
   ],
   "source": [
    "__name__"
   ]
  },
  {
   "cell_type": "code",
   "execution_count": 7,
   "id": "bf414ba7",
   "metadata": {},
   "outputs": [
    {
     "name": "stdout",
     "output_type": "stream",
     "text": [
      "Hello, Python\n",
      "Hello, World\n",
      "Hello, Python\n",
      "Hello, World\n"
     ]
    }
   ],
   "source": [
    "if __name__=='__main__' :\n",
    "    my_hello(2)"
   ]
  },
  {
   "cell_type": "code",
   "execution_count": 1,
   "id": "88883f95",
   "metadata": {},
   "outputs": [],
   "source": [
    "import ch05 # ch05 모듈을 load"
   ]
  },
  {
   "cell_type": "code",
   "execution_count": 2,
   "id": "ff412b60",
   "metadata": {},
   "outputs": [
    {
     "name": "stdout",
     "output_type": "stream",
     "text": [
      "Hello, Python\n",
      "Hello, World\n",
      "Hello, Python\n",
      "Hello, World\n"
     ]
    }
   ],
   "source": [
    "ch05.my_hello(2)"
   ]
  },
  {
   "cell_type": "code",
   "execution_count": 8,
   "id": "bacba1d4",
   "metadata": {},
   "outputs": [],
   "source": [
    "from ch05 import my_hello # ch05 모듈 안의 my_hello load"
   ]
  },
  {
   "cell_type": "code",
   "execution_count": 9,
   "id": "abb86b65",
   "metadata": {},
   "outputs": [
    {
     "name": "stdout",
     "output_type": "stream",
     "text": [
      "Hello, Python\n",
      "Hello, World\n",
      "Hello, Python\n",
      "Hello, World\n"
     ]
    }
   ],
   "source": [
    "my_hello(2)"
   ]
  },
  {
   "cell_type": "markdown",
   "id": "11eb6388",
   "metadata": {},
   "source": [
    "## 1.2 docstring(함수 설명서)"
   ]
  },
  {
   "cell_type": "code",
   "execution_count": 5,
   "id": "1956968f",
   "metadata": {},
   "outputs": [],
   "source": [
    "def my_function() :\n",
    "    '''함수의 첫 라인에 독스트링을 포함할 수 있습니다\n",
    "    독스트링은 함수의 설명서를 달아주는 역할\n",
    "    주석보다 많은 기능(shift + tab 으로 독스트링 볼 수 있음)\n",
    "    '''\n",
    "    pass"
   ]
  },
  {
   "cell_type": "code",
   "execution_count": 7,
   "id": "3bfbe9a0",
   "metadata": {},
   "outputs": [
    {
     "name": "stdout",
     "output_type": "stream",
     "text": [
      "함수의 첫 라인에 독스트링을 포함할 수 있습니다\n",
      "    독스트링은 함수의 설명서를 달아주는 역할\n",
      "    주석보다 많은 기능(shift + tab 으로 독스트링 볼 수 있음)\n",
      "    \n"
     ]
    }
   ],
   "source": [
    "print(my_function.__doc__)"
   ]
  },
  {
   "cell_type": "code",
   "execution_count": 10,
   "id": "c9f36103",
   "metadata": {},
   "outputs": [],
   "source": [
    "def fibonacci(n) :\n",
    "    a, b = 0, 1\n",
    "    while a < n :\n",
    "        print(a, end = ' ')\n",
    "        a, b = b, a + b\n",
    "    print() # 개행"
   ]
  },
  {
   "cell_type": "code",
   "execution_count": 12,
   "id": "12e3bbbb",
   "metadata": {},
   "outputs": [
    {
     "name": "stdout",
     "output_type": "stream",
     "text": [
      "0 1 1 2 3 5 8 \n"
     ]
    }
   ],
   "source": [
    "fibonacci(10)"
   ]
  },
  {
   "cell_type": "code",
   "execution_count": 16,
   "id": "b5f493bd",
   "metadata": {},
   "outputs": [
    {
     "ename": "NameError",
     "evalue": "name 'a' is not defined",
     "output_type": "error",
     "traceback": [
      "\u001b[1;31m---------------------------------------------------------------------------\u001b[0m",
      "\u001b[1;31mNameError\u001b[0m                                 Traceback (most recent call last)",
      "Cell \u001b[1;32mIn[16], line 1\u001b[0m\n\u001b[1;32m----> 1\u001b[0m \u001b[43ma\u001b[49m, b\n",
      "\u001b[1;31mNameError\u001b[0m: name 'a' is not defined"
     ]
    }
   ],
   "source": [
    "a, b"
   ]
  },
  {
   "cell_type": "markdown",
   "id": "7c84a4db",
   "metadata": {},
   "source": [
    "## 1.3 지역변수(local var)와 전역변수(global var)"
   ]
  },
  {
   "cell_type": "code",
   "execution_count": 18,
   "id": "98a7e6aa",
   "metadata": {},
   "outputs": [
    {
     "name": "stdout",
     "output_type": "stream",
     "text": [
      "함수안 :  100\n",
      "함수 밖 :  100\n"
     ]
    }
   ],
   "source": [
    "global_var = 100 # 전역변수\n",
    "def func1() :\n",
    "    print('함수안 : ', global_var)\n",
    "func1()\n",
    "print('함수 밖 : ', global_var)"
   ]
  },
  {
   "cell_type": "code",
   "execution_count": 20,
   "id": "12823d58",
   "metadata": {},
   "outputs": [
    {
     "name": "stdout",
     "output_type": "stream",
     "text": [
      "함수 안 :  200\n"
     ]
    },
    {
     "ename": "NameError",
     "evalue": "name 'local_var' is not defined",
     "output_type": "error",
     "traceback": [
      "\u001b[1;31m---------------------------------------------------------------------------\u001b[0m",
      "\u001b[1;31mNameError\u001b[0m                                 Traceback (most recent call last)",
      "Cell \u001b[1;32mIn[20], line 5\u001b[0m\n\u001b[0;32m      3\u001b[0m     \u001b[38;5;28mprint\u001b[39m(\u001b[38;5;124m'\u001b[39m\u001b[38;5;124m함수 안 : \u001b[39m\u001b[38;5;124m'\u001b[39m, local_var)\n\u001b[0;32m      4\u001b[0m func2()\n\u001b[1;32m----> 5\u001b[0m \u001b[38;5;28mprint\u001b[39m(\u001b[38;5;124m'\u001b[39m\u001b[38;5;124m함수 밖 : \u001b[39m\u001b[38;5;124m'\u001b[39m, \u001b[43mlocal_var\u001b[49m)\n",
      "\u001b[1;31mNameError\u001b[0m: name 'local_var' is not defined"
     ]
    }
   ],
   "source": [
    "def func2() :\n",
    "    local_var = 200 # 지역변수\n",
    "    print('함수 안 : ', local_var)\n",
    "func2()\n",
    "print('함수 밖 : ', local_var)"
   ]
  },
  {
   "cell_type": "code",
   "execution_count": 21,
   "id": "8097fead",
   "metadata": {},
   "outputs": [
    {
     "name": "stdout",
     "output_type": "stream",
     "text": [
      "함수 안(지역변수 g_var) :  200\n",
      "함수 밖(전역변수 g_var) :  100\n"
     ]
    }
   ],
   "source": [
    "g_var = 100 # 전역변수\n",
    "def func3() :\n",
    "    g_var = 200\n",
    "    print('함수 안(지역변수 g_var) : ', g_var)\n",
    "func3()\n",
    "print('함수 밖(전역변수 g_var) : ', g_var)"
   ]
  },
  {
   "cell_type": "code",
   "execution_count": 22,
   "id": "19e52f25",
   "metadata": {},
   "outputs": [
    {
     "ename": "UnboundLocalError",
     "evalue": "local variable 'g_var' referenced before assignment",
     "output_type": "error",
     "traceback": [
      "\u001b[1;31m---------------------------------------------------------------------------\u001b[0m",
      "\u001b[1;31mUnboundLocalError\u001b[0m                         Traceback (most recent call last)",
      "Cell \u001b[1;32mIn[22], line 5\u001b[0m\n\u001b[0;32m      3\u001b[0m     \u001b[38;5;28mprint\u001b[39m(\u001b[38;5;124m'\u001b[39m\u001b[38;5;124m함수 안 g_var : \u001b[39m\u001b[38;5;124m'\u001b[39m, g_var)\n\u001b[0;32m      4\u001b[0m     g_var \u001b[38;5;241m=\u001b[39m \u001b[38;5;241m200\u001b[39m \u001b[38;5;66;03m# 변수 선언이 먼저 해석됨 => 지역변수 g_var=200 부터 생성\u001b[39;00m\n\u001b[1;32m----> 5\u001b[0m \u001b[43mfunc4\u001b[49m\u001b[43m(\u001b[49m\u001b[43m)\u001b[49m\n",
      "Cell \u001b[1;32mIn[22], line 3\u001b[0m, in \u001b[0;36mfunc4\u001b[1;34m()\u001b[0m\n\u001b[0;32m      2\u001b[0m \u001b[38;5;28;01mdef\u001b[39;00m \u001b[38;5;21mfunc4\u001b[39m() :\n\u001b[1;32m----> 3\u001b[0m     \u001b[38;5;28mprint\u001b[39m(\u001b[38;5;124m'\u001b[39m\u001b[38;5;124m함수 안 g_var : \u001b[39m\u001b[38;5;124m'\u001b[39m, \u001b[43mg_var\u001b[49m)\n\u001b[0;32m      4\u001b[0m     g_var \u001b[38;5;241m=\u001b[39m \u001b[38;5;241m200\u001b[39m\n",
      "\u001b[1;31mUnboundLocalError\u001b[0m: local variable 'g_var' referenced before assignment"
     ]
    }
   ],
   "source": [
    "# 렉시컬 특성\n",
    "g_var = 100 # 전역변수\n",
    "def func4() :\n",
    "    print('함수 안 g_var : ', g_var)\n",
    "    g_var = 200 # 변수 선언이 먼저 해석됨 => 지역변수 g_var=200 부터 생성\n",
    "func4()"
   ]
  },
  {
   "cell_type": "code",
   "execution_count": 3,
   "id": "aee58ef4",
   "metadata": {},
   "outputs": [
    {
     "name": "stdout",
     "output_type": "stream",
     "text": [
      "함수 안 g_var :  100\n",
      "함수 밖 g_var :  200\n"
     ]
    }
   ],
   "source": [
    "# 렉시컬 특성\n",
    "g_var = 100 # 전역변수\n",
    "def func4() :\n",
    "    global g_var # func4 함수 내에 g_var는 전역 변수를 쓴다\n",
    "    print('함수 안 g_var : ', g_var)\n",
    "    g_var = 200 # 전역변수\n",
    "func4()\n",
    "print('함수 밖 g_var : ', g_var)"
   ]
  },
  {
   "cell_type": "markdown",
   "id": "afdf3643",
   "metadata": {},
   "source": [
    "## 1.4 값에 의한 호출\n",
    "- 함수의 매개변수(인수)로 전달되는 변수가 스칼라 변수(문자, 숫자, 논리형)일때"
   ]
  },
  {
   "cell_type": "code",
   "execution_count": 4,
   "id": "a34a8491",
   "metadata": {},
   "outputs": [
    {
     "data": {
      "text/plain": [
       "1981043533616"
      ]
     },
     "execution_count": 4,
     "metadata": {},
     "output_type": "execute_result"
    }
   ],
   "source": [
    "foo = 'a' # 전역변수\n",
    "id(foo)"
   ]
  },
  {
   "cell_type": "code",
   "execution_count": 12,
   "id": "3311f3fe",
   "metadata": {},
   "outputs": [
    {
     "name": "stdout",
     "output_type": "stream",
     "text": [
      "Before :  a id(f) :  1981043533616\n",
      "After :  aaa id(f) :  1981156295984\n"
     ]
    }
   ],
   "source": [
    "def func1(f) : # 매개변수는 지역변수\n",
    "    print('Before : ', f, 'id(f) : ', id(f))\n",
    "    f = f*3\n",
    "    print('After : ', f, 'id(f) : ', id(f))\n",
    "func1(foo)"
   ]
  },
  {
   "cell_type": "code",
   "execution_count": 6,
   "id": "d777af81",
   "metadata": {},
   "outputs": [
    {
     "name": "stdout",
     "output_type": "stream",
     "text": [
      "a\n"
     ]
    }
   ],
   "source": [
    "print(foo)"
   ]
  },
  {
   "cell_type": "markdown",
   "id": "aff284a0",
   "metadata": {},
   "source": [
    "## 1.5 참조에 의한 호출\n",
    "- 함수의 매개변수(인자)로 잔달되는 변수가 리스트, 튜플, 셋, 딕셔너리 등의 객체일 경우"
   ]
  },
  {
   "cell_type": "code",
   "execution_count": 7,
   "id": "0dc709a4",
   "metadata": {},
   "outputs": [
    {
     "data": {
      "text/plain": [
       "1981150606336"
      ]
     },
     "execution_count": 7,
     "metadata": {},
     "output_type": "execute_result"
    }
   ],
   "source": [
    "L = [1, 2, 3]\n",
    "id(L)"
   ]
  },
  {
   "cell_type": "code",
   "execution_count": 11,
   "id": "0142dec2",
   "metadata": {},
   "outputs": [
    {
     "name": "stdout",
     "output_type": "stream",
     "text": [
      "Before :  [1, 2, 3, 4, 4] id(f) :  1981150606336\n",
      "After :  [1, 2, 3, 4, 4, 4] id(f) :  1981150606336\n"
     ]
    }
   ],
   "source": [
    "def func2(f) : # 매개변수는 지역변수\n",
    "    print('Before : ', f, 'id(f) : ', id(f))\n",
    "    f.append(4)\n",
    "    print('After : ', f, 'id(f) : ', id(f))\n",
    "func2(L)    "
   ]
  },
  {
   "cell_type": "code",
   "execution_count": 13,
   "id": "f4521b58",
   "metadata": {},
   "outputs": [
    {
     "name": "stdout",
     "output_type": "stream",
     "text": [
      "L =  [1, 2, 3, 4, 4, 4] 1981150606336\n"
     ]
    }
   ],
   "source": [
    "print('L = ', L, id(L))"
   ]
  },
  {
   "cell_type": "markdown",
   "id": "5008e036",
   "metadata": {},
   "source": [
    "# 2절. 함수의 실행결과 반환 return"
   ]
  },
  {
   "cell_type": "code",
   "execution_count": 20,
   "id": "f54fba0e",
   "metadata": {},
   "outputs": [],
   "source": [
    "def fibonacci_print(n) :\n",
    "    '''\n",
    "    매개변수로 들어온 n값 미만의 피보나치 수열을 출력\n",
    "    ex. n=10이면 0 1 1 2 3 5 8 출력\n",
    "    '''\n",
    "    a, b = 0, 1\n",
    "    while a < n :\n",
    "        print(a, end = ' ')\n",
    "        a, b = b, a + b\n",
    "    print() # 개행\n",
    "\n",
    "def fibonacci_return(n) :\n",
    "    '''\n",
    "    매개변수로 들어온 n값 미만의 피보나치 수열을 리스트로 return\n",
    "    ex. n=10이면 [0 1 1 2 3 5 8] return\n",
    "    '''\n",
    "    result = []\n",
    "    a, b = 0, 1\n",
    "    while a < n :\n",
    "        result.append(a)\n",
    "        a, b = b, a + b\n",
    "    return result"
   ]
  },
  {
   "cell_type": "code",
   "execution_count": 19,
   "id": "34b4cc38",
   "metadata": {},
   "outputs": [
    {
     "name": "stdout",
     "output_type": "stream",
     "text": [
      "0 1 1 2 3 5 8 13 21 34 55 89 \n",
      "None\n"
     ]
    }
   ],
   "source": [
    "x = fibonacci_print(100)\n",
    "print(x)"
   ]
  },
  {
   "cell_type": "code",
   "execution_count": 21,
   "id": "89fd9bfd",
   "metadata": {},
   "outputs": [
    {
     "name": "stdout",
     "output_type": "stream",
     "text": [
      "[0, 1, 1, 2, 3, 5, 8, 13, 21, 34, 55, 89]\n",
      "<class 'list'>\n"
     ]
    }
   ],
   "source": [
    "x = fibonacci_return(100)\n",
    "print(x)\n",
    "print(type(x))"
   ]
  },
  {
   "cell_type": "markdown",
   "id": "22f50d99",
   "metadata": {},
   "source": [
    "## 여러개 값 return"
   ]
  },
  {
   "cell_type": "code",
   "execution_count": 22,
   "id": "922e1957",
   "metadata": {},
   "outputs": [],
   "source": [
    "def swap(a, b) :\n",
    "    '매개변수의 순서를 바꿔서 return'\n",
    "    return b, a # (b, a) 형식의 튜플로 패킹해서 전달"
   ]
  },
  {
   "cell_type": "code",
   "execution_count": 24,
   "id": "e392eab5",
   "metadata": {},
   "outputs": [
    {
     "name": "stdout",
     "output_type": "stream",
     "text": [
      "함수 실행 전 x = 5, y = 10\n",
      "함수 실행 후 x = 10, y = 5\n"
     ]
    }
   ],
   "source": [
    "x, y = 5, 10\n",
    "print(f'함수 실행 전 x = {x}, y = {y}')\n",
    "x, y = swap(x, y) # (10, 5)\n",
    "print(f'함수 실행 후 x = {x}, y = {y}')"
   ]
  },
  {
   "cell_type": "markdown",
   "id": "f6f0290c",
   "metadata": {},
   "source": [
    "# 3절. 함수의 매개변수 ★\n",
    "## 3.1 기본값을 갖는 매개변수"
   ]
  },
  {
   "cell_type": "code",
   "execution_count": 30,
   "id": "98b293fe",
   "metadata": {},
   "outputs": [],
   "source": [
    "def make_url(ip, port = 80) : # 순서인수 > 기본값을 갖는 매개변수 (default 값이 없는 매개변수가 앞에 와야 함)\n",
    "    return \"http://{}:{}\".format(ip, port)"
   ]
  },
  {
   "cell_type": "code",
   "execution_count": 33,
   "id": "32c3d2ce",
   "metadata": {},
   "outputs": [
    {
     "name": "stdout",
     "output_type": "stream",
     "text": [
      "http://www.naver.com:80\n",
      "http://localhost:8080\n",
      "http://localhost:8090\n"
     ]
    }
   ],
   "source": [
    "print(make_url('www.naver.com'))\n",
    "print(make_url('localhost', 8080))\n",
    "print(make_url(port = 8090, ip = 'localhost')) # 매개변수의 순서를 바꿀 경우 각 매개변수의 값이 무엇인지 명시"
   ]
  },
  {
   "cell_type": "markdown",
   "id": "d236dc2d",
   "metadata": {},
   "source": [
    "## 3.2 기본 변수를 갖는 매개변수\n",
    "- 기본 변수가 스칼라 변수일 때\n",
    "- 기본 변수가 리스트, 셋, 딕셔너리 등의 객체일 때(튜플은 상수처럼 변하지 않기 때문에 상관 X)"
   ]
  },
  {
   "cell_type": "code",
   "execution_count": 41,
   "id": "7c0c1989",
   "metadata": {},
   "outputs": [],
   "source": [
    "i = 5\n",
    "# 기본값을 갖는 변수가 스칼라 변수일 때 : arg의 기본 값은 함수가 정의되는 시점의 값\n",
    "def func2(arg = i) :\n",
    "    print('arg = : ', arg)"
   ]
  },
  {
   "cell_type": "code",
   "execution_count": 43,
   "id": "aa2c0a4a",
   "metadata": {},
   "outputs": [
    {
     "name": "stdout",
     "output_type": "stream",
     "text": [
      "arg = :  5\n"
     ]
    }
   ],
   "source": [
    "i = 5\n",
    "func2()"
   ]
  },
  {
   "cell_type": "code",
   "execution_count": 44,
   "id": "80342f98",
   "metadata": {},
   "outputs": [],
   "source": [
    "list_ = []\n",
    "# 기본 값을 갖는 변수가 객체(데이터구조) 일 때 : arg의 기본값은 함수가 호출되는 시점의 값\n",
    "def func3(data, L = list_) :\n",
    "    'data를 L에 append'\n",
    "    L.append(data)\n",
    "    return L"
   ]
  },
  {
   "cell_type": "code",
   "execution_count": 45,
   "id": "72145f2b",
   "metadata": {},
   "outputs": [
    {
     "name": "stdout",
     "output_type": "stream",
     "text": [
      "[10]\n"
     ]
    }
   ],
   "source": [
    "print(func3(10)) # list_가 수정 : [10]"
   ]
  },
  {
   "cell_type": "code",
   "execution_count": 47,
   "id": "ae11608d",
   "metadata": {},
   "outputs": [
    {
     "name": "stdout",
     "output_type": "stream",
     "text": [
      "[10, 20]\n"
     ]
    }
   ],
   "source": [
    "print(func3(20))"
   ]
  },
  {
   "cell_type": "code",
   "execution_count": 53,
   "id": "789ef129",
   "metadata": {},
   "outputs": [],
   "source": [
    "def func4(data, L=None) :\n",
    "    if L==None :\n",
    "        L = []\n",
    "    L.append(data)\n",
    "    return L"
   ]
  },
  {
   "cell_type": "code",
   "execution_count": 54,
   "id": "c002986d",
   "metadata": {},
   "outputs": [
    {
     "name": "stdout",
     "output_type": "stream",
     "text": [
      "[10]\n",
      "[10, 20, 10, 10]\n"
     ]
    }
   ],
   "source": [
    "print(func4(10))\n",
    "print(func4(10, list_))"
   ]
  },
  {
   "cell_type": "markdown",
   "id": "b4c6e7b5",
   "metadata": {},
   "source": [
    "## 3.3 튜플 매개변수를 이용한 가변인수 설정"
   ]
  },
  {
   "cell_type": "code",
   "execution_count": 56,
   "id": "dda5a7d0",
   "metadata": {},
   "outputs": [],
   "source": [
    "# python에서는 오버로딩(함수의 중복)이 허용되지 않음\n",
    "def add(a, b) :\n",
    "    return a + b\n",
    "def add(a,b,c) :\n",
    "    return a+b+c"
   ]
  },
  {
   "cell_type": "code",
   "execution_count": 57,
   "id": "a030d01f",
   "metadata": {},
   "outputs": [
    {
     "ename": "TypeError",
     "evalue": "add() takes 3 positional arguments but 4 were given",
     "output_type": "error",
     "traceback": [
      "\u001b[1;31m---------------------------------------------------------------------------\u001b[0m",
      "\u001b[1;31mTypeError\u001b[0m                                 Traceback (most recent call last)",
      "Cell \u001b[1;32mIn[57], line 1\u001b[0m\n\u001b[1;32m----> 1\u001b[0m \u001b[43madd\u001b[49m\u001b[43m(\u001b[49m\u001b[38;5;241;43m1\u001b[39;49m\u001b[43m,\u001b[49m\u001b[38;5;241;43m2\u001b[39;49m\u001b[43m,\u001b[49m\u001b[38;5;241;43m3\u001b[39;49m\u001b[43m,\u001b[49m\u001b[38;5;241;43m4\u001b[39;49m\u001b[43m)\u001b[49m\n",
      "\u001b[1;31mTypeError\u001b[0m: add() takes 3 positional arguments but 4 were given"
     ]
    }
   ],
   "source": [
    "add(1,2,3,4)"
   ]
  },
  {
   "cell_type": "code",
   "execution_count": 63,
   "id": "75956d3c",
   "metadata": {},
   "outputs": [],
   "source": [
    "# *args : 매개변수들을 하나의 튜플 변수 args로 전달받음\n",
    "def add(*args) :\n",
    "    '전달받은 매개변수들의 합을 return'\n",
    "#     print('args : ', args)\n",
    "    result_tot = 0 # 누적변수\n",
    "    for data in args :\n",
    "        result_tot += data\n",
    "    return result_tot"
   ]
  },
  {
   "cell_type": "code",
   "execution_count": 64,
   "id": "8a477cc9",
   "metadata": {},
   "outputs": [
    {
     "name": "stdout",
     "output_type": "stream",
     "text": [
      "1\n",
      "3\n",
      "6\n",
      "25\n"
     ]
    }
   ],
   "source": [
    "print(add(1))\n",
    "print(add(1,2))\n",
    "print(add(1, 2, 3))\n",
    "print(add(1, 2, 3, 9, 10))"
   ]
  },
  {
   "cell_type": "code",
   "execution_count": 66,
   "id": "412b7ab6",
   "metadata": {},
   "outputs": [
    {
     "data": {
      "text/plain": [
       "'Python/Oracle/DL/ML'"
      ]
     },
     "execution_count": 66,
     "metadata": {},
     "output_type": "execute_result"
    }
   ],
   "source": [
    "subject = ('Python', 'Oracle', 'DL', 'ML')\n",
    "'/'.join(subject)"
   ]
  },
  {
   "cell_type": "code",
   "execution_count": 67,
   "id": "8b26aaa9",
   "metadata": {},
   "outputs": [],
   "source": [
    "def concat(*subject, sep) :\n",
    "    return sep.join(subject)"
   ]
  },
  {
   "cell_type": "code",
   "execution_count": 68,
   "id": "a6b99b59",
   "metadata": {},
   "outputs": [
    {
     "ename": "TypeError",
     "evalue": "concat() missing 1 required keyword-only argument: 'sep'",
     "output_type": "error",
     "traceback": [
      "\u001b[1;31m---------------------------------------------------------------------------\u001b[0m",
      "\u001b[1;31mTypeError\u001b[0m                                 Traceback (most recent call last)",
      "Cell \u001b[1;32mIn[68], line 1\u001b[0m\n\u001b[1;32m----> 1\u001b[0m \u001b[43mconcat\u001b[49m\u001b[43m(\u001b[49m\u001b[38;5;124;43m'\u001b[39;49m\u001b[38;5;124;43mPython\u001b[39;49m\u001b[38;5;124;43m'\u001b[39;49m\u001b[43m,\u001b[49m\u001b[43m \u001b[49m\u001b[38;5;124;43m'\u001b[39;49m\u001b[38;5;124;43mOracle\u001b[39;49m\u001b[38;5;124;43m'\u001b[39;49m\u001b[43m,\u001b[49m\u001b[43m \u001b[49m\u001b[38;5;124;43m'\u001b[39;49m\u001b[38;5;124;43mDL\u001b[39;49m\u001b[38;5;124;43m'\u001b[39;49m\u001b[43m,\u001b[49m\u001b[43m \u001b[49m\u001b[38;5;124;43m'\u001b[39;49m\u001b[38;5;124;43mML\u001b[39;49m\u001b[38;5;124;43m'\u001b[39;49m\u001b[43m,\u001b[49m\u001b[43m \u001b[49m\u001b[38;5;124;43m'\u001b[39;49m\u001b[38;5;124;43m/\u001b[39;49m\u001b[38;5;124;43m'\u001b[39;49m\u001b[43m)\u001b[49m\n",
      "\u001b[1;31mTypeError\u001b[0m: concat() missing 1 required keyword-only argument: 'sep'"
     ]
    }
   ],
   "source": [
    "concat('Python', 'Oracle', 'DL', 'ML', '/')"
   ]
  },
  {
   "cell_type": "code",
   "execution_count": 70,
   "id": "91697468",
   "metadata": {},
   "outputs": [
    {
     "data": {
      "text/plain": [
       "'Python / Oracle / DL / ML'"
      ]
     },
     "execution_count": 70,
     "metadata": {},
     "output_type": "execute_result"
    }
   ],
   "source": [
    "# 해결책 1 : 매개변수 이름을 지정해서 호출\n",
    "concat('Python', 'Oracle', 'DL', 'ML', sep = ' / ')"
   ]
  },
  {
   "cell_type": "code",
   "execution_count": 71,
   "id": "ddb84496",
   "metadata": {},
   "outputs": [],
   "source": [
    "# 해결책 2 : 기본값을 갖는 반드시 갖는 키워드인수 사용\n",
    "def concat(*subject, sep = ' ~ ') :\n",
    "    return sep.join(subject)"
   ]
  },
  {
   "cell_type": "code",
   "execution_count": 72,
   "id": "c427a70f",
   "metadata": {},
   "outputs": [
    {
     "data": {
      "text/plain": [
       "'Python / Oracle / DL / ML'"
      ]
     },
     "execution_count": 72,
     "metadata": {},
     "output_type": "execute_result"
    }
   ],
   "source": [
    "concat('Python', 'Oracle', 'DL', 'ML', sep = ' / ') # 키워드 인수 : 기본값을 가지고, 명시해야 값을 변경할 수 있음"
   ]
  },
  {
   "cell_type": "code",
   "execution_count": 73,
   "id": "8d09ec64",
   "metadata": {},
   "outputs": [
    {
     "name": "stdout",
     "output_type": "stream",
     "text": [
      "Python / Oracle / DL / ML\n"
     ]
    }
   ],
   "source": [
    "print('Python', 'Oracle', 'DL', 'ML', sep = ' / ')"
   ]
  },
  {
   "cell_type": "code",
   "execution_count": 75,
   "id": "3ea6c8fb",
   "metadata": {},
   "outputs": [],
   "source": [
    "# 해결책 3 : sep을 순서인수로 앞에 선언\n",
    "def concat(sep = '=', *subject) :\n",
    "    return sep.join(subject)"
   ]
  },
  {
   "cell_type": "code",
   "execution_count": 77,
   "id": "4d8da7df",
   "metadata": {},
   "outputs": [
    {
     "data": {
      "text/plain": [
       "'OraclePythonDL'"
      ]
     },
     "execution_count": 77,
     "metadata": {},
     "output_type": "execute_result"
    }
   ],
   "source": [
    "concat(sep='/','Python', 'Oracle', 'DL')"
   ]
  },
  {
   "cell_type": "markdown",
   "id": "dde2311c",
   "metadata": {},
   "source": [
    "## 3.4 딕셔너리 매개변수\n",
    "- 여러개의 키워드인수를 딕셔너리 형태로 받아서 가변키워드 인수 처리"
   ]
  },
  {
   "cell_type": "code",
   "execution_count": 84,
   "id": "37e7939b",
   "metadata": {},
   "outputs": [],
   "source": [
    "def func5(**kwargs) :\n",
    "    print(kwargs)\n",
    "    print(type(kwargs))\n",
    "    print('이름 : ', kwargs.get('name', '대마왕'))\n",
    "    print('나이 : ', kwargs.get('age', 30))\n",
    "    print('주소 : ', kwargs.get('address', '서울'))"
   ]
  },
  {
   "cell_type": "code",
   "execution_count": 85,
   "id": "4b1ceb41",
   "metadata": {},
   "outputs": [
    {
     "name": "stdout",
     "output_type": "stream",
     "text": [
      "{'name': '홍길동', 'age': 30, 'address': '신림동'}\n",
      "<class 'dict'>\n",
      "이름 :  홍길동\n",
      "나이 :  30\n",
      "주소 :  신림동\n"
     ]
    }
   ],
   "source": [
    "func5(name = '홍길동', age = 30, address = '신림동')"
   ]
  },
  {
   "cell_type": "code",
   "execution_count": 86,
   "id": "ec2f3058",
   "metadata": {},
   "outputs": [
    {
     "name": "stdout",
     "output_type": "stream",
     "text": [
      "{'name': '김길동'}\n",
      "<class 'dict'>\n",
      "이름 :  김길동\n",
      "나이 :  30\n",
      "주소 :  서울\n"
     ]
    }
   ],
   "source": [
    "func5(name = '김길동')"
   ]
  },
  {
   "cell_type": "markdown",
   "id": "7d9e7f94",
   "metadata": {},
   "source": [
    "## 3.5 함수 정의 시 매개변수 순서\n",
    "- 순서인수 > 튜플 매개변수(*) > 키워드인수(매개변수 이름 명시) > 딕셔너리 매개변수(**)"
   ]
  },
  {
   "cell_type": "code",
   "execution_count": 87,
   "id": "73dea600",
   "metadata": {},
   "outputs": [],
   "source": [
    "def func6(a, b, *c, **d) :\n",
    "    print('순서인수 a : ', a)\n",
    "    print('순서인수 b : ', b)\n",
    "    print('튜플인수 c : ', c)\n",
    "    print('딕셔너리 인수 d : ', d)"
   ]
  },
  {
   "cell_type": "code",
   "execution_count": 89,
   "id": "6d627c48",
   "metadata": {},
   "outputs": [
    {
     "name": "stdout",
     "output_type": "stream",
     "text": [
      "순서인수 a :  10\n",
      "순서인수 b :  20\n",
      "튜플인수 c :  (1, 2, 3, 4, 5, 6, 7, 8, 9)\n",
      "딕셔너리 인수 d :  {'name': '홍길동', 'age': 30, 'address': '서울'}\n"
     ]
    }
   ],
   "source": [
    "func6(10, 20, 1,2,3,4,5,6,7,8,9, name='홍길동', age=30, address='서울')"
   ]
  },
  {
   "cell_type": "code",
   "execution_count": 90,
   "id": "72b79e7f",
   "metadata": {},
   "outputs": [],
   "source": [
    "def func7(a, b, *c, d='기본값', **e) :\n",
    "    print('순서인수 a : ', a)\n",
    "    print('순서인수 b : ', b)\n",
    "    print('튜플인수 c : ', c)\n",
    "    print('키워드인수(기본값을 갖는 인수, 호출 시 매개변수명 반드시 명시) d : ', d)\n",
    "    print('딕셔너리인수 e : ', e)"
   ]
  },
  {
   "cell_type": "code",
   "execution_count": 91,
   "id": "dee4c526",
   "metadata": {},
   "outputs": [
    {
     "name": "stdout",
     "output_type": "stream",
     "text": [
      "순서인수 a :  10\n",
      "순서인수 b :  20\n",
      "튜플인수 c :  (1, 2, 3)\n",
      "키워드인수(기본값을 갖는 인수, 호출 시 매개변수명 반드시 명시) d :  딴거\n",
      "딕셔너리인수 e :  {'fontsize': 12, 'fontfamily': 'consola'}\n"
     ]
    }
   ],
   "source": [
    "func7(10, 20, 1, 2, 3, d = '딴거', fontsize=12, fontfamily='consola')"
   ]
  },
  {
   "cell_type": "code",
   "execution_count": 92,
   "id": "3abe499d",
   "metadata": {},
   "outputs": [
    {
     "name": "stdout",
     "output_type": "stream",
     "text": [
      "순서인수 a :  10\n",
      "순서인수 b :  20\n",
      "튜플인수 c :  (1, 2, 3, '딴거')\n",
      "키워드인수(기본값을 갖는 인수, 호출 시 매개변수명 반드시 명시) d :  기본값\n",
      "딕셔너리인수 e :  {'fontsize': 12, 'fontfamily': 'consola'}\n"
     ]
    }
   ],
   "source": [
    "func7(10, 20, 1, 2, 3,'딴거', fontsize=12, fontfamily='consola')"
   ]
  },
  {
   "cell_type": "markdown",
   "id": "05f691d6",
   "metadata": {},
   "source": [
    "## 3.6 인수의 언패킹(unpacking)\n",
    "### 튜플인수 언패킹\n",
    "- 언패킹 : 함수 호출 시 매개변수 앞에 * 붙임\n",
    "- 패킹 : 함수 정의 시 매개변수 앞에 * 붙임(튜플매개변수)"
   ]
  },
  {
   "cell_type": "code",
   "execution_count": 99,
   "id": "1c4a22a3",
   "metadata": {},
   "outputs": [],
   "source": [
    "def add(*args) :\n",
    "    print(args)\n",
    "    tot = 0\n",
    "    for num in args :\n",
    "        tot += num\n",
    "    return tot"
   ]
  },
  {
   "cell_type": "code",
   "execution_count": 101,
   "id": "d84413fb",
   "metadata": {},
   "outputs": [
    {
     "name": "stdout",
     "output_type": "stream",
     "text": [
      "(1, 2, 3, 4)\n"
     ]
    },
    {
     "data": {
      "text/plain": [
       "10"
      ]
     },
     "execution_count": 101,
     "metadata": {},
     "output_type": "execute_result"
    }
   ],
   "source": [
    "add(1, 2, 3, 4)"
   ]
  },
  {
   "cell_type": "code",
   "execution_count": 102,
   "id": "db14d0b3",
   "metadata": {},
   "outputs": [
    {
     "name": "stdout",
     "output_type": "stream",
     "text": [
      "(1, 2, 3, 4)\n"
     ]
    },
    {
     "data": {
      "text/plain": [
       "10"
      ]
     },
     "execution_count": 102,
     "metadata": {},
     "output_type": "execute_result"
    }
   ],
   "source": [
    "numbers = (1, 2, 3, 4)\n",
    "add(*numbers) #언패킹"
   ]
  },
  {
   "cell_type": "code",
   "execution_count": 103,
   "id": "8e4ef774",
   "metadata": {},
   "outputs": [
    {
     "name": "stdout",
     "output_type": "stream",
     "text": [
      "(1, 2, 3, 4)\n"
     ]
    },
    {
     "data": {
      "text/plain": [
       "10"
      ]
     },
     "execution_count": 103,
     "metadata": {},
     "output_type": "execute_result"
    }
   ],
   "source": [
    "numbers = [1, 2, 3, 4]\n",
    "add(*numbers) #언패킹"
   ]
  },
  {
   "cell_type": "markdown",
   "id": "6e6c5509",
   "metadata": {},
   "source": [
    "### 딕셔너리인수 언패킹\n",
    "- 딕셔너리 언패킹 : 함수 호출 시 매개변수 앞에 ** 붙임\n",
    "- 딕셔너리 패킹 : 함수 정의 시 매개변수 앞에 ** 붙임"
   ]
  },
  {
   "cell_type": "code",
   "execution_count": 110,
   "id": "3503f06d",
   "metadata": {},
   "outputs": [],
   "source": [
    "def func5(**data) :\n",
    "    print(type(data))\n",
    "    for key, item, in data.items() :\n",
    "        print(f'{key}:{item}')"
   ]
  },
  {
   "cell_type": "code",
   "execution_count": 111,
   "id": "4eba2232",
   "metadata": {},
   "outputs": [
    {
     "name": "stdout",
     "output_type": "stream",
     "text": [
      "<class 'dict'>\n",
      "name:홍길동\n",
      "age:30\n",
      "address:신림\n"
     ]
    }
   ],
   "source": [
    "func5(name='홍길동', age = 30, address = '신림')"
   ]
  },
  {
   "cell_type": "code",
   "execution_count": 112,
   "id": "a0b24c43",
   "metadata": {},
   "outputs": [
    {
     "name": "stdout",
     "output_type": "stream",
     "text": [
      "<class 'dict'>\n",
      "name:홍길동\n",
      "age:30\n",
      "address:서울시 강남구\n",
      "score:900\n"
     ]
    }
   ],
   "source": [
    "customInfo = {'name' : '홍길동', 'age' : 30, 'address' : '서울시 강남구', 'score' : 900}\n",
    "func5(**customInfo)"
   ]
  },
  {
   "cell_type": "markdown",
   "id": "f09b4c38",
   "metadata": {},
   "source": [
    "# 4절. 람다식\n",
    "- return 한줄짜리 짧은 익명함수\n",
    "## 4.1 람다식 연습"
   ]
  },
  {
   "cell_type": "code",
   "execution_count": 113,
   "id": "36cac42d",
   "metadata": {},
   "outputs": [
    {
     "data": {
      "text/plain": [
       "7"
      ]
     },
     "execution_count": 113,
     "metadata": {},
     "output_type": "execute_result"
    }
   ],
   "source": [
    "def add(a, b) :\n",
    "    return a + b\n",
    "add(3, 4)"
   ]
  },
  {
   "cell_type": "code",
   "execution_count": 114,
   "id": "98c96cac",
   "metadata": {},
   "outputs": [
    {
     "data": {
      "text/plain": [
       "7"
      ]
     },
     "execution_count": 114,
     "metadata": {},
     "output_type": "execute_result"
    }
   ],
   "source": [
    "add2 = lambda a, b : a + b\n",
    "add2(3, 4)"
   ]
  },
  {
   "cell_type": "code",
   "execution_count": 115,
   "id": "478a3110",
   "metadata": {},
   "outputs": [
    {
     "data": {
      "text/plain": [
       "(function, function)"
      ]
     },
     "execution_count": 115,
     "metadata": {},
     "output_type": "execute_result"
    }
   ],
   "source": [
    "type(add), type(add2)"
   ]
  },
  {
   "cell_type": "code",
   "execution_count": 116,
   "id": "58158d20",
   "metadata": {},
   "outputs": [
    {
     "data": {
      "text/plain": [
       "7"
      ]
     },
     "execution_count": 116,
     "metadata": {},
     "output_type": "execute_result"
    }
   ],
   "source": [
    "(lambda a, b : a + b)(3, 4)"
   ]
  },
  {
   "cell_type": "code",
   "execution_count": 126,
   "id": "46bd92b2",
   "metadata": {},
   "outputs": [
    {
     "data": {
      "text/plain": [
       "('짝수', '홀수')"
      ]
     },
     "execution_count": 126,
     "metadata": {},
     "output_type": "execute_result"
    }
   ],
   "source": [
    "# ex.1 매개변수로 들어온 값이 짝수인지 홀수인지 return\n",
    "def ex1(num) :\n",
    "#     if num%2:\n",
    "#         result = '홀수'\n",
    "#     else :\n",
    "#         result = '짝수'\n",
    "    return '홀수' if num%2 else '짝수'\n",
    "ex1 = lambda num : '홀수' if num%2 else '짝수'\n",
    "ex1(10), ex1(9)"
   ]
  },
  {
   "cell_type": "code",
   "execution_count": 136,
   "id": "0e3d01e0",
   "metadata": {},
   "outputs": [
    {
     "data": {
      "text/plain": [
       "17"
      ]
     },
     "execution_count": 136,
     "metadata": {},
     "output_type": "execute_result"
    }
   ],
   "source": [
    "# ex.2 두 매개변수의 차를 return\n",
    "ex2 = lambda num1, num2 : num1-num2 if num1 > num2 else num2 - num1\n",
    "ex2(-8, 9)"
   ]
  },
  {
   "cell_type": "code",
   "execution_count": 131,
   "id": "5227e19a",
   "metadata": {},
   "outputs": [
    {
     "data": {
      "text/plain": [
       "90000"
      ]
     },
     "execution_count": 131,
     "metadata": {},
     "output_type": "execute_result"
    }
   ],
   "source": [
    "# ex.3 매개변수로 잔액을 받아 양수면 잔액을, 음수면 'negative'를 return\n",
    "ex3 = lambda money : money if money>=0 else 'negative'\n",
    "ex3(90000)"
   ]
  },
  {
   "cell_type": "code",
   "execution_count": 137,
   "id": "f254683c",
   "metadata": {},
   "outputs": [
    {
     "data": {
      "text/plain": [
       "('유효하지 않음', 'A', 'B팀', '재시험')"
      ]
     },
     "execution_count": 137,
     "metadata": {},
     "output_type": "execute_result"
    }
   ],
   "source": [
    "# ex.4 점수를 입력받아 80점 이상은 A그룹, 60점 이상은 B그룹, 60점 미만은 재시험, 그 외는 유요하지 않음 return\n",
    "# def ex4() :\n",
    "#     score = int(input('점수를 입력하세요 : '))\n",
    "#     if 80<=score<=100 :\n",
    "#         return 'A'\n",
    "#     elif 60<score<80 :\n",
    "#         return 'B'\n",
    "#     elif 0<=score<60 :\n",
    "#         return '재시험'\n",
    "#     else :\n",
    "#         return '유효하지 않음'\n",
    "ex4 = lambda score : \"A\" if 80 <= score <= 100 else \\\n",
    "                    \"B팀\" if 60 <= score < 80 else \\\n",
    "                    \"재시험\" if 0 <= score < 60 else \\\n",
    "                    \"유효하지 않음\"\n",
    "ex4(120), ex4(90), ex4(70), ex4(50)"
   ]
  },
  {
   "cell_type": "code",
   "execution_count": 142,
   "id": "9c6a9d58",
   "metadata": {},
   "outputs": [
    {
     "data": {
      "text/plain": [
       "(-1, 2)"
      ]
     },
     "execution_count": 142,
     "metadata": {},
     "output_type": "execute_result"
    }
   ],
   "source": [
    "# ex.5 safe_index를 람다식으로\n",
    "# def safe_index(lst, data) :\n",
    "#     if data in lst :\n",
    "#         return lst.index(data)\n",
    "#     else :\n",
    "#         return -1\n",
    "safe_index = lambda vector, data : vector.index(data) if data in vector else -1\n",
    "tup = (1, 2, 3)\n",
    "safe_index(tup, 4), safe_index(tup, 3)"
   ]
  },
  {
   "cell_type": "code",
   "execution_count": null,
   "id": "5282edfd",
   "metadata": {},
   "outputs": [],
   "source": []
  },
  {
   "cell_type": "code",
   "execution_count": null,
   "id": "18fe5672",
   "metadata": {},
   "outputs": [],
   "source": []
  },
  {
   "cell_type": "code",
   "execution_count": null,
   "id": "a0d4d3f9",
   "metadata": {},
   "outputs": [],
   "source": []
  }
 ],
 "metadata": {
  "kernelspec": {
   "display_name": "Python 3 (ipykernel)",
   "language": "python",
   "name": "python3"
  },
  "language_info": {
   "codemirror_mode": {
    "name": "ipython",
    "version": 3
   },
   "file_extension": ".py",
   "mimetype": "text/x-python",
   "name": "python",
   "nbconvert_exporter": "python",
   "pygments_lexer": "ipython3",
   "version": "3.10.9"
  },
  "toc": {
   "base_numbering": 1,
   "nav_menu": {},
   "number_sections": false,
   "sideBar": true,
   "skip_h1_title": false,
   "title_cell": "Table of Contents",
   "title_sidebar": "Contents",
   "toc_cell": false,
   "toc_position": {
    "height": "calc(100% - 180px)",
    "left": "10px",
    "top": "150px",
    "width": "195.6px"
   },
   "toc_section_display": true,
   "toc_window_display": true
  }
 },
 "nbformat": 4,
 "nbformat_minor": 5
}
