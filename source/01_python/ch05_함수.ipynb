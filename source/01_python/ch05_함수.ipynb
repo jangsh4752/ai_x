{
 "cells": [
  {
   "cell_type": "code",
   "execution_count": 1,
   "id": "35603c42",
   "metadata": {},
   "outputs": [
    {
     "data": {
      "text/html": [
       "\n",
       "<style>\n",
       "div.container{width:86% !important;}\n",
       "div.cell.code_cell.rendered{width:100%;}\n",
       "div.CodeMirror {font-family:Consolas; font-size:12pt;}\n",
       "div.output {font-size:15pt; font-weight:bold;}\n",
       "div.input {font-family:Consolas; font-size:12pt;}\n",
       "div.prompt {min-width:70px;}\n",
       "div#toc-wrapper{padding-top:120px;}\n",
       "div.text_cell_render ul li{font-size:12pt;padding:5px;}\n",
       "table.dataframe{font-size:15px;}\n",
       "</style>\n"
      ],
      "text/plain": [
       "<IPython.core.display.HTML object>"
      ]
     },
     "metadata": {},
     "output_type": "display_data"
    }
   ],
   "source": [
    "from IPython.display import display, HTML\n",
    "display(HTML(\"\"\"\n",
    "<style>\n",
    "div.container{width:86% !important;}\n",
    "div.cell.code_cell.rendered{width:100%;}\n",
    "div.CodeMirror {font-family:Consolas; font-size:12pt;}\n",
    "div.output {font-size:15pt; font-weight:bold;}\n",
    "div.input {font-family:Consolas; font-size:12pt;}\n",
    "div.prompt {min-width:70px;}\n",
    "div#toc-wrapper{padding-top:120px;}\n",
    "div.text_cell_render ul li{font-size:12pt;padding:5px;}\n",
    "table.dataframe{font-size:15px;}\n",
    "</style>\n",
    "\"\"\"))"
   ]
  },
  {
   "cell_type": "markdown",
   "id": "5721c480",
   "metadata": {},
   "source": [
    "<b><font size=\"5\" color=\"red\"> ch05. 함수</font></b>\n",
    "- 사용할 코드를 묶어 놓고 그 묶음에 이름을 붙인 것\n",
    "- 오버로딩 : 함수 이름이 같고, 매개변수의 개수로 다른 함수를 허용하는것 불가\n",
    "- 함수 정의\n",
    "```\n",
    "def 함수명([매개변수1, 매개변수2, ..., 매개변수n]) - [] : 생략가능\n",
    "    명령어1\n",
    "    명령어2\n",
    "    ...\n",
    "    명령어n\n",
    "```"
   ]
  },
  {
   "cell_type": "code",
   "execution_count": null,
   "id": "359001bb",
   "metadata": {},
   "outputs": [],
   "source": [
    "# \n",
    "def add(a, b) :\n",
    "    print(1)\n",
    "def add(a) :\n",
    "    print(2)"
   ]
  },
  {
   "cell_type": "markdown",
   "id": "26ea25bb",
   "metadata": {},
   "source": [
    "# 1절. 함수의 정의 및 사용\n",
    "## 1.1 함수 정의"
   ]
  },
  {
   "cell_type": "code",
   "execution_count": 2,
   "id": "4a032d20",
   "metadata": {},
   "outputs": [],
   "source": [
    "# 함수 정의\n",
    "def my_message(x, msg) : # msg를 x번 출력하는 함수\n",
    "    for i in range(x) :\n",
    "        print(msg)"
   ]
  },
  {
   "cell_type": "code",
   "execution_count": 3,
   "id": "0eb4bc53",
   "metadata": {},
   "outputs": [
    {
     "name": "stdout",
     "output_type": "stream",
     "text": [
      "Hello\n",
      "Hello\n",
      "Hello\n",
      "Hello\n",
      "Hello\n"
     ]
    }
   ],
   "source": [
    "# 함수 사용\n",
    "my_message(5, 'Hello')"
   ]
  },
  {
   "cell_type": "code",
   "execution_count": 4,
   "id": "a53d5912",
   "metadata": {},
   "outputs": [
    {
     "name": "stdout",
     "output_type": "stream",
     "text": [
      "hello\n",
      "hello\n",
      "hello\n"
     ]
    }
   ],
   "source": [
    "my_msg = my_message\n",
    "my_msg(3, \"hello\")"
   ]
  },
  {
   "cell_type": "code",
   "execution_count": 5,
   "id": "4cd9b682",
   "metadata": {},
   "outputs": [
    {
     "data": {
      "text/plain": [
       "(function, function)"
      ]
     },
     "execution_count": 5,
     "metadata": {},
     "output_type": "execute_result"
    }
   ],
   "source": [
    "type(my_msg), type(my_message)"
   ]
  },
  {
   "cell_type": "code",
   "execution_count": 1,
   "id": "820d282a",
   "metadata": {},
   "outputs": [
    {
     "name": "stdout",
     "output_type": "stream",
     "text": [
      "Hello\n",
      "Hello\n"
     ]
    }
   ],
   "source": [
    "print('Hello') # python 내장 함수(기본 제공 함수 - import 필요 없음)\n",
    "print = 5\n",
    "# print('Hello')\n",
    "del print\n",
    "print('Hello')"
   ]
  },
  {
   "cell_type": "code",
   "execution_count": 6,
   "id": "b3509b10",
   "metadata": {},
   "outputs": [
    {
     "name": "stdout",
     "output_type": "stream",
     "text": [
      "Hello\n",
      "Hello\n"
     ]
    }
   ],
   "source": [
    "my_message(2, 'Hello')"
   ]
  },
  {
   "cell_type": "code",
   "execution_count": 7,
   "id": "4d97ef94",
   "metadata": {},
   "outputs": [],
   "source": [
    "my_message = 5"
   ]
  },
  {
   "cell_type": "code",
   "execution_count": 8,
   "id": "3c1d3a14",
   "metadata": {},
   "outputs": [
    {
     "ename": "TypeError",
     "evalue": "'int' object is not callable",
     "output_type": "error",
     "traceback": [
      "\u001b[1;31m---------------------------------------------------------------------------\u001b[0m",
      "\u001b[1;31mTypeError\u001b[0m                                 Traceback (most recent call last)",
      "Cell \u001b[1;32mIn[8], line 1\u001b[0m\n\u001b[1;32m----> 1\u001b[0m \u001b[43mmy_message\u001b[49m\u001b[43m(\u001b[49m\u001b[38;5;241;43m2\u001b[39;49m\u001b[43m,\u001b[49m\u001b[43m \u001b[49m\u001b[38;5;124;43m'\u001b[39;49m\u001b[38;5;124;43mHello\u001b[39;49m\u001b[38;5;124;43m'\u001b[39;49m\u001b[43m)\u001b[49m\n",
      "\u001b[1;31mTypeError\u001b[0m: 'int' object is not callable"
     ]
    }
   ],
   "source": [
    "my_message(2, 'Hello')"
   ]
  },
  {
   "cell_type": "code",
   "execution_count": 10,
   "id": "f6876286",
   "metadata": {},
   "outputs": [
    {
     "ename": "NameError",
     "evalue": "name 'my_message' is not defined",
     "output_type": "error",
     "traceback": [
      "\u001b[1;31m---------------------------------------------------------------------------\u001b[0m",
      "\u001b[1;31mNameError\u001b[0m                                 Traceback (most recent call last)",
      "Cell \u001b[1;32mIn[10], line 1\u001b[0m\n\u001b[1;32m----> 1\u001b[0m \u001b[38;5;28;01mdel\u001b[39;00m my_message\n",
      "\u001b[1;31mNameError\u001b[0m: name 'my_message' is not defined"
     ]
    }
   ],
   "source": [
    "del my_message # 변수를 삭제 해도 함수 사용 불가(python 내장 함수 아님)"
   ]
  },
  {
   "cell_type": "code",
   "execution_count": 11,
   "id": "5780ec2b",
   "metadata": {},
   "outputs": [
    {
     "ename": "NameError",
     "evalue": "name 'my_message' is not defined",
     "output_type": "error",
     "traceback": [
      "\u001b[1;31m---------------------------------------------------------------------------\u001b[0m",
      "\u001b[1;31mNameError\u001b[0m                                 Traceback (most recent call last)",
      "Cell \u001b[1;32mIn[11], line 1\u001b[0m\n\u001b[1;32m----> 1\u001b[0m \u001b[43mmy_message\u001b[49m(\u001b[38;5;241m2\u001b[39m, \u001b[38;5;124m'\u001b[39m\u001b[38;5;124mHello\u001b[39m\u001b[38;5;124m'\u001b[39m)\n",
      "\u001b[1;31mNameError\u001b[0m: name 'my_message' is not defined"
     ]
    }
   ],
   "source": [
    "my_message(2, 'Hello')"
   ]
  },
  {
   "cell_type": "code",
   "execution_count": 1,
   "id": "5f2e5cb9",
   "metadata": {},
   "outputs": [],
   "source": [
    "# 함수 정의 : 4월 16일(수)\n",
    "def my_hello() :\n",
    "    print('Hello, Python')\n",
    "    print('Hello, World')\n",
    "def my_hello(cnt) :\n",
    "    for i in range(cnt) :\n",
    "        print('Hello, Python')\n",
    "        print('Hello, World')"
   ]
  },
  {
   "cell_type": "code",
   "execution_count": 3,
   "id": "c7f62c14",
   "metadata": {},
   "outputs": [
    {
     "name": "stdout",
     "output_type": "stream",
     "text": [
      "Hello, Python\n",
      "Hello, World\n",
      "Hello, Python\n",
      "Hello, World\n"
     ]
    }
   ],
   "source": [
    "# 함수 사용 = 함수 호출\n",
    "my_hello(2)"
   ]
  },
  {
   "cell_type": "code",
   "execution_count": 4,
   "id": "6266b7c6",
   "metadata": {},
   "outputs": [
    {
     "data": {
      "text/plain": [
       "<function __main__.my_hello(cnt)>"
      ]
     },
     "execution_count": 4,
     "metadata": {},
     "output_type": "execute_result"
    }
   ],
   "source": [
    "my_hello"
   ]
  },
  {
   "cell_type": "code",
   "execution_count": 6,
   "id": "b8e684ad",
   "metadata": {},
   "outputs": [
    {
     "data": {
      "text/plain": [
       "'__main__'"
      ]
     },
     "execution_count": 6,
     "metadata": {},
     "output_type": "execute_result"
    }
   ],
   "source": [
    "__name__"
   ]
  },
  {
   "cell_type": "code",
   "execution_count": 7,
   "id": "bf414ba7",
   "metadata": {},
   "outputs": [
    {
     "name": "stdout",
     "output_type": "stream",
     "text": [
      "Hello, Python\n",
      "Hello, World\n",
      "Hello, Python\n",
      "Hello, World\n"
     ]
    }
   ],
   "source": [
    "if __name__=='__main__' :\n",
    "    my_hello(2)"
   ]
  },
  {
   "cell_type": "code",
   "execution_count": 1,
   "id": "88883f95",
   "metadata": {},
   "outputs": [],
   "source": [
    "import ch05 # ch05 모듈을 load"
   ]
  },
  {
   "cell_type": "code",
   "execution_count": 2,
   "id": "ff412b60",
   "metadata": {},
   "outputs": [
    {
     "name": "stdout",
     "output_type": "stream",
     "text": [
      "Hello, Python\n",
      "Hello, World\n",
      "Hello, Python\n",
      "Hello, World\n"
     ]
    }
   ],
   "source": [
    "ch05.my_hello(2)"
   ]
  },
  {
   "cell_type": "code",
   "execution_count": 8,
   "id": "bacba1d4",
   "metadata": {},
   "outputs": [],
   "source": [
    "from ch05 import my_hello # ch05 모듈 안의 my_hello load"
   ]
  },
  {
   "cell_type": "code",
   "execution_count": 9,
   "id": "abb86b65",
   "metadata": {},
   "outputs": [
    {
     "name": "stdout",
     "output_type": "stream",
     "text": [
      "Hello, Python\n",
      "Hello, World\n",
      "Hello, Python\n",
      "Hello, World\n"
     ]
    }
   ],
   "source": [
    "my_hello(2)"
   ]
  },
  {
   "cell_type": "markdown",
   "id": "11eb6388",
   "metadata": {},
   "source": [
    "## 1.2 docstring(함수 설명서)"
   ]
  },
  {
   "cell_type": "code",
   "execution_count": 5,
   "id": "1956968f",
   "metadata": {},
   "outputs": [],
   "source": [
    "def my_function() :\n",
    "    '''함수의 첫 라인에 독스트링을 포함할 수 있습니다\n",
    "    독스트링은 함수의 설명서를 달아주는 역할\n",
    "    주석보다 많은 기능(shift + tab 으로 독스트링 볼 수 있음)\n",
    "    '''\n",
    "    pass"
   ]
  },
  {
   "cell_type": "code",
   "execution_count": 7,
   "id": "3bfbe9a0",
   "metadata": {},
   "outputs": [
    {
     "name": "stdout",
     "output_type": "stream",
     "text": [
      "함수의 첫 라인에 독스트링을 포함할 수 있습니다\n",
      "    독스트링은 함수의 설명서를 달아주는 역할\n",
      "    주석보다 많은 기능(shift + tab 으로 독스트링 볼 수 있음)\n",
      "    \n"
     ]
    }
   ],
   "source": [
    "print(my_function.__doc__)"
   ]
  },
  {
   "cell_type": "code",
   "execution_count": 10,
   "id": "c9f36103",
   "metadata": {},
   "outputs": [],
   "source": [
    "def fibonacci(n) :\n",
    "    a, b = 0, 1\n",
    "    while a < n :\n",
    "        print(a, end = ' ')\n",
    "        a, b = b, a + b\n",
    "    print() # 개행"
   ]
  },
  {
   "cell_type": "code",
   "execution_count": 12,
   "id": "12e3bbbb",
   "metadata": {},
   "outputs": [
    {
     "name": "stdout",
     "output_type": "stream",
     "text": [
      "0 1 1 2 3 5 8 \n"
     ]
    }
   ],
   "source": [
    "fibonacci(10)"
   ]
  },
  {
   "cell_type": "code",
   "execution_count": 16,
   "id": "b5f493bd",
   "metadata": {},
   "outputs": [
    {
     "ename": "NameError",
     "evalue": "name 'a' is not defined",
     "output_type": "error",
     "traceback": [
      "\u001b[1;31m---------------------------------------------------------------------------\u001b[0m",
      "\u001b[1;31mNameError\u001b[0m                                 Traceback (most recent call last)",
      "Cell \u001b[1;32mIn[16], line 1\u001b[0m\n\u001b[1;32m----> 1\u001b[0m \u001b[43ma\u001b[49m, b\n",
      "\u001b[1;31mNameError\u001b[0m: name 'a' is not defined"
     ]
    }
   ],
   "source": [
    "a, b"
   ]
  },
  {
   "cell_type": "markdown",
   "id": "7c84a4db",
   "metadata": {},
   "source": [
    "## 1.3 지역변수(local var)와 전역변수(global var)"
   ]
  },
  {
   "cell_type": "code",
   "execution_count": 18,
   "id": "98a7e6aa",
   "metadata": {},
   "outputs": [
    {
     "name": "stdout",
     "output_type": "stream",
     "text": [
      "함수안 :  100\n",
      "함수 밖 :  100\n"
     ]
    }
   ],
   "source": [
    "global_var = 100 # 전역변수\n",
    "def func1() :\n",
    "    print('함수안 : ', global_var)\n",
    "func1()\n",
    "print('함수 밖 : ', global_var)"
   ]
  },
  {
   "cell_type": "code",
   "execution_count": 20,
   "id": "12823d58",
   "metadata": {},
   "outputs": [
    {
     "name": "stdout",
     "output_type": "stream",
     "text": [
      "함수 안 :  200\n"
     ]
    },
    {
     "ename": "NameError",
     "evalue": "name 'local_var' is not defined",
     "output_type": "error",
     "traceback": [
      "\u001b[1;31m---------------------------------------------------------------------------\u001b[0m",
      "\u001b[1;31mNameError\u001b[0m                                 Traceback (most recent call last)",
      "Cell \u001b[1;32mIn[20], line 5\u001b[0m\n\u001b[0;32m      3\u001b[0m     \u001b[38;5;28mprint\u001b[39m(\u001b[38;5;124m'\u001b[39m\u001b[38;5;124m함수 안 : \u001b[39m\u001b[38;5;124m'\u001b[39m, local_var)\n\u001b[0;32m      4\u001b[0m func2()\n\u001b[1;32m----> 5\u001b[0m \u001b[38;5;28mprint\u001b[39m(\u001b[38;5;124m'\u001b[39m\u001b[38;5;124m함수 밖 : \u001b[39m\u001b[38;5;124m'\u001b[39m, \u001b[43mlocal_var\u001b[49m)\n",
      "\u001b[1;31mNameError\u001b[0m: name 'local_var' is not defined"
     ]
    }
   ],
   "source": [
    "def func2() :\n",
    "    local_var = 200 # 지역변수\n",
    "    print('함수 안 : ', local_var)\n",
    "func2()\n",
    "print('함수 밖 : ', local_var)"
   ]
  },
  {
   "cell_type": "code",
   "execution_count": 21,
   "id": "8097fead",
   "metadata": {},
   "outputs": [
    {
     "name": "stdout",
     "output_type": "stream",
     "text": [
      "함수 안(지역변수 g_var) :  200\n",
      "함수 밖(전역변수 g_var) :  100\n"
     ]
    }
   ],
   "source": [
    "g_var = 100 # 전역변수\n",
    "def func3() :\n",
    "    g_var = 200\n",
    "    print('함수 안(지역변수 g_var) : ', g_var)\n",
    "func3()\n",
    "print('함수 밖(전역변수 g_var) : ', g_var)"
   ]
  },
  {
   "cell_type": "code",
   "execution_count": 22,
   "id": "19e52f25",
   "metadata": {},
   "outputs": [
    {
     "ename": "UnboundLocalError",
     "evalue": "local variable 'g_var' referenced before assignment",
     "output_type": "error",
     "traceback": [
      "\u001b[1;31m---------------------------------------------------------------------------\u001b[0m",
      "\u001b[1;31mUnboundLocalError\u001b[0m                         Traceback (most recent call last)",
      "Cell \u001b[1;32mIn[22], line 5\u001b[0m\n\u001b[0;32m      3\u001b[0m     \u001b[38;5;28mprint\u001b[39m(\u001b[38;5;124m'\u001b[39m\u001b[38;5;124m함수 안 g_var : \u001b[39m\u001b[38;5;124m'\u001b[39m, g_var)\n\u001b[0;32m      4\u001b[0m     g_var \u001b[38;5;241m=\u001b[39m \u001b[38;5;241m200\u001b[39m \u001b[38;5;66;03m# 변수 선언이 먼저 해석됨 => 지역변수 g_var=200 부터 생성\u001b[39;00m\n\u001b[1;32m----> 5\u001b[0m \u001b[43mfunc4\u001b[49m\u001b[43m(\u001b[49m\u001b[43m)\u001b[49m\n",
      "Cell \u001b[1;32mIn[22], line 3\u001b[0m, in \u001b[0;36mfunc4\u001b[1;34m()\u001b[0m\n\u001b[0;32m      2\u001b[0m \u001b[38;5;28;01mdef\u001b[39;00m \u001b[38;5;21mfunc4\u001b[39m() :\n\u001b[1;32m----> 3\u001b[0m     \u001b[38;5;28mprint\u001b[39m(\u001b[38;5;124m'\u001b[39m\u001b[38;5;124m함수 안 g_var : \u001b[39m\u001b[38;5;124m'\u001b[39m, \u001b[43mg_var\u001b[49m)\n\u001b[0;32m      4\u001b[0m     g_var \u001b[38;5;241m=\u001b[39m \u001b[38;5;241m200\u001b[39m\n",
      "\u001b[1;31mUnboundLocalError\u001b[0m: local variable 'g_var' referenced before assignment"
     ]
    }
   ],
   "source": [
    "# 렉시컬 특성\n",
    "g_var = 100 # 전역변수\n",
    "def func4() :\n",
    "    print('함수 안 g_var : ', g_var)\n",
    "    g_var = 200 # 변수 선언이 먼저 해석됨 => 지역변수 g_var=200 부터 생성\n",
    "func4()"
   ]
  },
  {
   "cell_type": "code",
   "execution_count": 3,
   "id": "aee58ef4",
   "metadata": {},
   "outputs": [
    {
     "name": "stdout",
     "output_type": "stream",
     "text": [
      "함수 안 g_var :  100\n",
      "함수 밖 g_var :  200\n"
     ]
    }
   ],
   "source": [
    "# 렉시컬 특성\n",
    "g_var = 100 # 전역변수\n",
    "def func4() :\n",
    "    global g_var # func4 함수 내에 g_var는 전역 변수를 쓴다\n",
    "    print('함수 안 g_var : ', g_var)\n",
    "    g_var = 200 # 전역변수\n",
    "func4()\n",
    "print('함수 밖 g_var : ', g_var)"
   ]
  },
  {
   "cell_type": "markdown",
   "id": "afdf3643",
   "metadata": {},
   "source": [
    "## 1.4 값에 의한 호출\n",
    "- 함수의 매개변수(인수)로 전달되는 변수가 스칼라 변수(문자, 숫자, 논리형)일때"
   ]
  },
  {
   "cell_type": "code",
   "execution_count": 4,
   "id": "a34a8491",
   "metadata": {},
   "outputs": [
    {
     "data": {
      "text/plain": [
       "1981043533616"
      ]
     },
     "execution_count": 4,
     "metadata": {},
     "output_type": "execute_result"
    }
   ],
   "source": [
    "foo = 'a' # 전역변수\n",
    "id(foo)"
   ]
  },
  {
   "cell_type": "code",
   "execution_count": 12,
   "id": "3311f3fe",
   "metadata": {},
   "outputs": [
    {
     "name": "stdout",
     "output_type": "stream",
     "text": [
      "Before :  a id(f) :  1981043533616\n",
      "After :  aaa id(f) :  1981156295984\n"
     ]
    }
   ],
   "source": [
    "def func1(f) : # 매개변수는 지역변수\n",
    "    print('Before : ', f, 'id(f) : ', id(f))\n",
    "    f = f*3\n",
    "    print('After : ', f, 'id(f) : ', id(f))\n",
    "func1(foo)"
   ]
  },
  {
   "cell_type": "code",
   "execution_count": 6,
   "id": "d777af81",
   "metadata": {},
   "outputs": [
    {
     "name": "stdout",
     "output_type": "stream",
     "text": [
      "a\n"
     ]
    }
   ],
   "source": [
    "print(foo)"
   ]
  },
  {
   "cell_type": "markdown",
   "id": "aff284a0",
   "metadata": {},
   "source": [
    "## 1.5 참조에 의한 호출\n",
    "- 함수의 매개변수(인자)로 잔달되는 변수가 리스트, 튜플, 셋, 딕셔너리 등의 객체일 경우"
   ]
  },
  {
   "cell_type": "code",
   "execution_count": 7,
   "id": "0dc709a4",
   "metadata": {},
   "outputs": [
    {
     "data": {
      "text/plain": [
       "1981150606336"
      ]
     },
     "execution_count": 7,
     "metadata": {},
     "output_type": "execute_result"
    }
   ],
   "source": [
    "L = [1, 2, 3]\n",
    "id(L)"
   ]
  },
  {
   "cell_type": "code",
   "execution_count": 11,
   "id": "0142dec2",
   "metadata": {},
   "outputs": [
    {
     "name": "stdout",
     "output_type": "stream",
     "text": [
      "Before :  [1, 2, 3, 4, 4] id(f) :  1981150606336\n",
      "After :  [1, 2, 3, 4, 4, 4] id(f) :  1981150606336\n"
     ]
    }
   ],
   "source": [
    "def func2(f) : # 매개변수는 지역변수\n",
    "    print('Before : ', f, 'id(f) : ', id(f))\n",
    "    f.append(4)\n",
    "    print('After : ', f, 'id(f) : ', id(f))\n",
    "func2(L)    "
   ]
  },
  {
   "cell_type": "code",
   "execution_count": 13,
   "id": "f4521b58",
   "metadata": {},
   "outputs": [
    {
     "name": "stdout",
     "output_type": "stream",
     "text": [
      "L =  [1, 2, 3, 4, 4, 4] 1981150606336\n"
     ]
    }
   ],
   "source": [
    "print('L = ', L, id(L))"
   ]
  },
  {
   "cell_type": "markdown",
   "id": "5008e036",
   "metadata": {},
   "source": [
    "# 2절. 함수의 실행결과 반환 return"
   ]
  },
  {
   "cell_type": "code",
   "execution_count": 20,
   "id": "f54fba0e",
   "metadata": {},
   "outputs": [],
   "source": [
    "def fibonacci_print(n) :\n",
    "    '''\n",
    "    매개변수로 들어온 n값 미만의 피보나치 수열을 출력\n",
    "    ex. n=10이면 0 1 1 2 3 5 8 출력\n",
    "    '''\n",
    "    a, b = 0, 1\n",
    "    while a < n :\n",
    "        print(a, end = ' ')\n",
    "        a, b = b, a + b\n",
    "    print() # 개행\n",
    "\n",
    "def fibonacci_return(n) :\n",
    "    '''\n",
    "    매개변수로 들어온 n값 미만의 피보나치 수열을 리스트로 return\n",
    "    ex. n=10이면 [0 1 1 2 3 5 8] return\n",
    "    '''\n",
    "    result = []\n",
    "    a, b = 0, 1\n",
    "    while a < n :\n",
    "        result.append(a)\n",
    "        a, b = b, a + b\n",
    "    return result"
   ]
  },
  {
   "cell_type": "code",
   "execution_count": 19,
   "id": "34b4cc38",
   "metadata": {},
   "outputs": [
    {
     "name": "stdout",
     "output_type": "stream",
     "text": [
      "0 1 1 2 3 5 8 13 21 34 55 89 \n",
      "None\n"
     ]
    }
   ],
   "source": [
    "x = fibonacci_print(100)\n",
    "print(x)"
   ]
  },
  {
   "cell_type": "code",
   "execution_count": 21,
   "id": "89fd9bfd",
   "metadata": {},
   "outputs": [
    {
     "name": "stdout",
     "output_type": "stream",
     "text": [
      "[0, 1, 1, 2, 3, 5, 8, 13, 21, 34, 55, 89]\n",
      "<class 'list'>\n"
     ]
    }
   ],
   "source": [
    "x = fibonacci_return(100)\n",
    "print(x)\n",
    "print(type(x))"
   ]
  },
  {
   "cell_type": "markdown",
   "id": "22f50d99",
   "metadata": {},
   "source": [
    "## 여러개 값 return"
   ]
  },
  {
   "cell_type": "code",
   "execution_count": 22,
   "id": "922e1957",
   "metadata": {},
   "outputs": [],
   "source": [
    "def swap(a, b) :\n",
    "    '매개변수의 순서를 바꿔서 return'\n",
    "    return b, a # (b, a) 형식의 튜플로 패킹해서 전달"
   ]
  },
  {
   "cell_type": "code",
   "execution_count": 24,
   "id": "e392eab5",
   "metadata": {},
   "outputs": [
    {
     "name": "stdout",
     "output_type": "stream",
     "text": [
      "함수 실행 전 x = 5, y = 10\n",
      "함수 실행 후 x = 10, y = 5\n"
     ]
    }
   ],
   "source": [
    "x, y = 5, 10\n",
    "print(f'함수 실행 전 x = {x}, y = {y}')\n",
    "x, y = swap(x, y) # (10, 5)\n",
    "print(f'함수 실행 후 x = {x}, y = {y}')"
   ]
  },
  {
   "cell_type": "markdown",
   "id": "f6f0290c",
   "metadata": {},
   "source": [
    "# 3절. 함수의 매개변수 ★\n",
    "## 3.1 기본값을 갖는 매개변수"
   ]
  },
  {
   "cell_type": "code",
   "execution_count": 30,
   "id": "98b293fe",
   "metadata": {},
   "outputs": [],
   "source": [
    "def make_url(ip, port = 80) : # 순서인수 > 기본값을 갖는 매개변수 (default 값이 없는 매개변수가 앞에 와야 함)\n",
    "    return \"http://{}:{}\".format(ip, port)"
   ]
  },
  {
   "cell_type": "code",
   "execution_count": 33,
   "id": "32c3d2ce",
   "metadata": {},
   "outputs": [
    {
     "name": "stdout",
     "output_type": "stream",
     "text": [
      "http://www.naver.com:80\n",
      "http://localhost:8080\n",
      "http://localhost:8090\n"
     ]
    }
   ],
   "source": [
    "print(make_url('www.naver.com'))\n",
    "print(make_url('localhost', 8080))\n",
    "print(make_url(port = 8090, ip = 'localhost')) # 매개변수의 순서를 바꿀 경우 각 매개변수의 값이 무엇인지 명시"
   ]
  },
  {
   "cell_type": "markdown",
   "id": "d236dc2d",
   "metadata": {},
   "source": [
    "## 3.2 기본 변수를 갖는 매개변수\n",
    "- 기본 변수가 스칼라 변수일 때\n",
    "- 기본 변수가 리스트, 셋, 딕셔너리 등의 객체일 때(튜플은 상수처럼 변하지 않기 때문에 상관 X)"
   ]
  },
  {
   "cell_type": "code",
   "execution_count": 41,
   "id": "7c0c1989",
   "metadata": {},
   "outputs": [],
   "source": [
    "i = 5\n",
    "# 기본값을 갖는 변수가 스칼라 변수일 때 : arg의 기본 값은 함수가 정의되는 시점의 값\n",
    "def func2(arg = i) :\n",
    "    print('arg = : ', arg)"
   ]
  },
  {
   "cell_type": "code",
   "execution_count": 43,
   "id": "aa2c0a4a",
   "metadata": {},
   "outputs": [
    {
     "name": "stdout",
     "output_type": "stream",
     "text": [
      "arg = :  5\n"
     ]
    }
   ],
   "source": [
    "i = 5\n",
    "func2()"
   ]
  },
  {
   "cell_type": "code",
   "execution_count": 44,
   "id": "80342f98",
   "metadata": {},
   "outputs": [],
   "source": [
    "list_ = []\n",
    "# 기본 값을 갖는 변수가 객체(데이터구조) 일 때 : arg의 기본값은 함수가 호출되는 시점의 값\n",
    "def func3(data, L = list_) :\n",
    "    'data를 L에 append'\n",
    "    L.append(data)\n",
    "    return L"
   ]
  },
  {
   "cell_type": "code",
   "execution_count": 45,
   "id": "72145f2b",
   "metadata": {},
   "outputs": [
    {
     "name": "stdout",
     "output_type": "stream",
     "text": [
      "[10]\n"
     ]
    }
   ],
   "source": [
    "print(func3(10)) # list_가 수정 : [10]"
   ]
  },
  {
   "cell_type": "code",
   "execution_count": 47,
   "id": "ae11608d",
   "metadata": {},
   "outputs": [
    {
     "name": "stdout",
     "output_type": "stream",
     "text": [
      "[10, 20]\n"
     ]
    }
   ],
   "source": [
    "print(func3(20))"
   ]
  },
  {
   "cell_type": "code",
   "execution_count": 53,
   "id": "789ef129",
   "metadata": {},
   "outputs": [],
   "source": [
    "def func4(data, L=None) :\n",
    "    if L==None :\n",
    "        L = []\n",
    "    L.append(data)\n",
    "    return L"
   ]
  },
  {
   "cell_type": "code",
   "execution_count": 54,
   "id": "c002986d",
   "metadata": {},
   "outputs": [
    {
     "name": "stdout",
     "output_type": "stream",
     "text": [
      "[10]\n",
      "[10, 20, 10, 10]\n"
     ]
    }
   ],
   "source": [
    "print(func4(10))\n",
    "print(func4(10, list_))"
   ]
  },
  {
   "cell_type": "markdown",
   "id": "b4c6e7b5",
   "metadata": {},
   "source": [
    "## 3.3 튜플 매개변수를 이용한 가변인수 설정"
   ]
  },
  {
   "cell_type": "code",
   "execution_count": 56,
   "id": "dda5a7d0",
   "metadata": {},
   "outputs": [],
   "source": [
    "# python에서는 오버로딩(함수의 중복)이 허용되지 않음\n",
    "def add(a, b) :\n",
    "    return a + b\n",
    "def add(a,b,c) :\n",
    "    return a+b+c"
   ]
  },
  {
   "cell_type": "code",
   "execution_count": 57,
   "id": "a030d01f",
   "metadata": {},
   "outputs": [
    {
     "ename": "TypeError",
     "evalue": "add() takes 3 positional arguments but 4 were given",
     "output_type": "error",
     "traceback": [
      "\u001b[1;31m---------------------------------------------------------------------------\u001b[0m",
      "\u001b[1;31mTypeError\u001b[0m                                 Traceback (most recent call last)",
      "Cell \u001b[1;32mIn[57], line 1\u001b[0m\n\u001b[1;32m----> 1\u001b[0m \u001b[43madd\u001b[49m\u001b[43m(\u001b[49m\u001b[38;5;241;43m1\u001b[39;49m\u001b[43m,\u001b[49m\u001b[38;5;241;43m2\u001b[39;49m\u001b[43m,\u001b[49m\u001b[38;5;241;43m3\u001b[39;49m\u001b[43m,\u001b[49m\u001b[38;5;241;43m4\u001b[39;49m\u001b[43m)\u001b[49m\n",
      "\u001b[1;31mTypeError\u001b[0m: add() takes 3 positional arguments but 4 were given"
     ]
    }
   ],
   "source": [
    "add(1,2,3,4)"
   ]
  },
  {
   "cell_type": "code",
   "execution_count": 63,
   "id": "75956d3c",
   "metadata": {},
   "outputs": [],
   "source": [
    "# *args : 매개변수들을 하나의 튜플 변수 args로 전달받음\n",
    "def add(*args) :\n",
    "    '전달받은 매개변수들의 합을 return'\n",
    "#     print('args : ', args)\n",
    "    result_tot = 0 # 누적변수\n",
    "    for data in args :\n",
    "        result_tot += data\n",
    "    return result_tot"
   ]
  },
  {
   "cell_type": "code",
   "execution_count": 64,
   "id": "8a477cc9",
   "metadata": {},
   "outputs": [
    {
     "name": "stdout",
     "output_type": "stream",
     "text": [
      "1\n",
      "3\n",
      "6\n",
      "25\n"
     ]
    }
   ],
   "source": [
    "print(add(1))\n",
    "print(add(1,2))\n",
    "print(add(1, 2, 3))\n",
    "print(add(1, 2, 3, 9, 10))"
   ]
  },
  {
   "cell_type": "code",
   "execution_count": 66,
   "id": "412b7ab6",
   "metadata": {},
   "outputs": [
    {
     "data": {
      "text/plain": [
       "'Python/Oracle/DL/ML'"
      ]
     },
     "execution_count": 66,
     "metadata": {},
     "output_type": "execute_result"
    }
   ],
   "source": [
    "subject = ('Python', 'Oracle', 'DL', 'ML')\n",
    "'/'.join(subject)"
   ]
  },
  {
   "cell_type": "code",
   "execution_count": 67,
   "id": "8b26aaa9",
   "metadata": {},
   "outputs": [],
   "source": [
    "def concat(*subject, sep) :\n",
    "    return sep.join(subject)"
   ]
  },
  {
   "cell_type": "code",
   "execution_count": 68,
   "id": "a6b99b59",
   "metadata": {},
   "outputs": [
    {
     "ename": "TypeError",
     "evalue": "concat() missing 1 required keyword-only argument: 'sep'",
     "output_type": "error",
     "traceback": [
      "\u001b[1;31m---------------------------------------------------------------------------\u001b[0m",
      "\u001b[1;31mTypeError\u001b[0m                                 Traceback (most recent call last)",
      "Cell \u001b[1;32mIn[68], line 1\u001b[0m\n\u001b[1;32m----> 1\u001b[0m \u001b[43mconcat\u001b[49m\u001b[43m(\u001b[49m\u001b[38;5;124;43m'\u001b[39;49m\u001b[38;5;124;43mPython\u001b[39;49m\u001b[38;5;124;43m'\u001b[39;49m\u001b[43m,\u001b[49m\u001b[43m \u001b[49m\u001b[38;5;124;43m'\u001b[39;49m\u001b[38;5;124;43mOracle\u001b[39;49m\u001b[38;5;124;43m'\u001b[39;49m\u001b[43m,\u001b[49m\u001b[43m \u001b[49m\u001b[38;5;124;43m'\u001b[39;49m\u001b[38;5;124;43mDL\u001b[39;49m\u001b[38;5;124;43m'\u001b[39;49m\u001b[43m,\u001b[49m\u001b[43m \u001b[49m\u001b[38;5;124;43m'\u001b[39;49m\u001b[38;5;124;43mML\u001b[39;49m\u001b[38;5;124;43m'\u001b[39;49m\u001b[43m,\u001b[49m\u001b[43m \u001b[49m\u001b[38;5;124;43m'\u001b[39;49m\u001b[38;5;124;43m/\u001b[39;49m\u001b[38;5;124;43m'\u001b[39;49m\u001b[43m)\u001b[49m\n",
      "\u001b[1;31mTypeError\u001b[0m: concat() missing 1 required keyword-only argument: 'sep'"
     ]
    }
   ],
   "source": [
    "concat('Python', 'Oracle', 'DL', 'ML', '/')"
   ]
  },
  {
   "cell_type": "code",
   "execution_count": 70,
   "id": "91697468",
   "metadata": {},
   "outputs": [
    {
     "data": {
      "text/plain": [
       "'Python / Oracle / DL / ML'"
      ]
     },
     "execution_count": 70,
     "metadata": {},
     "output_type": "execute_result"
    }
   ],
   "source": [
    "# 해결책 1 : 매개변수 이름을 지정해서 호출\n",
    "concat('Python', 'Oracle', 'DL', 'ML', sep = ' / ')"
   ]
  },
  {
   "cell_type": "code",
   "execution_count": 71,
   "id": "ddb84496",
   "metadata": {},
   "outputs": [],
   "source": [
    "# 해결책 2 : 기본값을 갖는 반드시 갖는 키워드인수 사용\n",
    "def concat(*subject, sep = ' ~ ') :\n",
    "    return sep.join(subject)"
   ]
  },
  {
   "cell_type": "code",
   "execution_count": 72,
   "id": "c427a70f",
   "metadata": {},
   "outputs": [
    {
     "data": {
      "text/plain": [
       "'Python / Oracle / DL / ML'"
      ]
     },
     "execution_count": 72,
     "metadata": {},
     "output_type": "execute_result"
    }
   ],
   "source": [
    "concat('Python', 'Oracle', 'DL', 'ML', sep = ' / ') # 키워드 인수 : 기본값을 가지고, 명시해야 값을 변경할 수 있음"
   ]
  },
  {
   "cell_type": "code",
   "execution_count": 73,
   "id": "8d09ec64",
   "metadata": {},
   "outputs": [
    {
     "name": "stdout",
     "output_type": "stream",
     "text": [
      "Python / Oracle / DL / ML\n"
     ]
    }
   ],
   "source": [
    "print('Python', 'Oracle', 'DL', 'ML', sep = ' / ')"
   ]
  },
  {
   "cell_type": "code",
   "execution_count": 75,
   "id": "3ea6c8fb",
   "metadata": {},
   "outputs": [],
   "source": [
    "# 해결책 3 : sep을 순서인수로 앞에 선언\n",
    "def concat(sep = '=', *subject) :\n",
    "    return sep.join(subject)"
   ]
  },
  {
   "cell_type": "code",
   "execution_count": 77,
   "id": "4d8da7df",
   "metadata": {},
   "outputs": [
    {
     "data": {
      "text/plain": [
       "'OraclePythonDL'"
      ]
     },
     "execution_count": 77,
     "metadata": {},
     "output_type": "execute_result"
    }
   ],
   "source": [
    "concat(sep='/','Python', 'Oracle', 'DL')"
   ]
  },
  {
   "cell_type": "markdown",
   "id": "dde2311c",
   "metadata": {},
   "source": [
    "## 3.4 딕셔너리 매개변수\n",
    "- 여러개의 키워드인수를 딕셔너리 형태로 받아서 가변키워드 인수 처리"
   ]
  },
  {
   "cell_type": "code",
   "execution_count": 84,
   "id": "37e7939b",
   "metadata": {},
   "outputs": [],
   "source": [
    "def func5(**kwargs) :\n",
    "    print(kwargs)\n",
    "    print(type(kwargs))\n",
    "    print('이름 : ', kwargs.get('name', '대마왕'))\n",
    "    print('나이 : ', kwargs.get('age', 30))\n",
    "    print('주소 : ', kwargs.get('address', '서울'))"
   ]
  },
  {
   "cell_type": "code",
   "execution_count": 85,
   "id": "4b1ceb41",
   "metadata": {},
   "outputs": [
    {
     "name": "stdout",
     "output_type": "stream",
     "text": [
      "{'name': '홍길동', 'age': 30, 'address': '신림동'}\n",
      "<class 'dict'>\n",
      "이름 :  홍길동\n",
      "나이 :  30\n",
      "주소 :  신림동\n"
     ]
    }
   ],
   "source": [
    "func5(name = '홍길동', age = 30, address = '신림동')"
   ]
  },
  {
   "cell_type": "code",
   "execution_count": 86,
   "id": "ec2f3058",
   "metadata": {},
   "outputs": [
    {
     "name": "stdout",
     "output_type": "stream",
     "text": [
      "{'name': '김길동'}\n",
      "<class 'dict'>\n",
      "이름 :  김길동\n",
      "나이 :  30\n",
      "주소 :  서울\n"
     ]
    }
   ],
   "source": [
    "func5(name = '김길동')"
   ]
  },
  {
   "cell_type": "markdown",
   "id": "7d9e7f94",
   "metadata": {},
   "source": [
    "## 3.5 함수 정의 시 매개변수 순서\n",
    "- 순서인수 > 튜플 매개변수(*) > 키워드인수(매개변수 이름 명시) > 딕셔너리 매개변수(**)"
   ]
  },
  {
   "cell_type": "code",
   "execution_count": 87,
   "id": "73dea600",
   "metadata": {},
   "outputs": [],
   "source": [
    "def func6(a, b, *c, **d) :\n",
    "    print('순서인수 a : ', a)\n",
    "    print('순서인수 b : ', b)\n",
    "    print('튜플인수 c : ', c)\n",
    "    print('딕셔너리 인수 d : ', d)"
   ]
  },
  {
   "cell_type": "code",
   "execution_count": 89,
   "id": "6d627c48",
   "metadata": {},
   "outputs": [
    {
     "name": "stdout",
     "output_type": "stream",
     "text": [
      "순서인수 a :  10\n",
      "순서인수 b :  20\n",
      "튜플인수 c :  (1, 2, 3, 4, 5, 6, 7, 8, 9)\n",
      "딕셔너리 인수 d :  {'name': '홍길동', 'age': 30, 'address': '서울'}\n"
     ]
    }
   ],
   "source": [
    "func6(10, 20, 1,2,3,4,5,6,7,8,9, name='홍길동', age=30, address='서울')"
   ]
  },
  {
   "cell_type": "code",
   "execution_count": 90,
   "id": "72b79e7f",
   "metadata": {},
   "outputs": [],
   "source": [
    "def func7(a, b, *c, d='기본값', **e) :\n",
    "    print('순서인수 a : ', a)\n",
    "    print('순서인수 b : ', b)\n",
    "    print('튜플인수 c : ', c)\n",
    "    print('키워드인수(기본값을 갖는 인수, 호출 시 매개변수명 반드시 명시) d : ', d)\n",
    "    print('딕셔너리인수 e : ', e)"
   ]
  },
  {
   "cell_type": "code",
   "execution_count": 91,
   "id": "dee4c526",
   "metadata": {},
   "outputs": [
    {
     "name": "stdout",
     "output_type": "stream",
     "text": [
      "순서인수 a :  10\n",
      "순서인수 b :  20\n",
      "튜플인수 c :  (1, 2, 3)\n",
      "키워드인수(기본값을 갖는 인수, 호출 시 매개변수명 반드시 명시) d :  딴거\n",
      "딕셔너리인수 e :  {'fontsize': 12, 'fontfamily': 'consola'}\n"
     ]
    }
   ],
   "source": [
    "func7(10, 20, 1, 2, 3, d = '딴거', fontsize=12, fontfamily='consola')"
   ]
  },
  {
   "cell_type": "code",
   "execution_count": 92,
   "id": "3abe499d",
   "metadata": {},
   "outputs": [
    {
     "name": "stdout",
     "output_type": "stream",
     "text": [
      "순서인수 a :  10\n",
      "순서인수 b :  20\n",
      "튜플인수 c :  (1, 2, 3, '딴거')\n",
      "키워드인수(기본값을 갖는 인수, 호출 시 매개변수명 반드시 명시) d :  기본값\n",
      "딕셔너리인수 e :  {'fontsize': 12, 'fontfamily': 'consola'}\n"
     ]
    }
   ],
   "source": [
    "func7(10, 20, 1, 2, 3,'딴거', fontsize=12, fontfamily='consola')"
   ]
  },
  {
   "cell_type": "markdown",
   "id": "05f691d6",
   "metadata": {},
   "source": [
    "## 3.6 인수의 언패킹(unpacking)\n",
    "### 튜플인수 언패킹\n",
    "- 언패킹 : 함수 호출 시 매개변수 앞에 * 붙임\n",
    "- 패킹 : 함수 정의 시 매개변수 앞에 * 붙임(튜플매개변수)"
   ]
  },
  {
   "cell_type": "code",
   "execution_count": 99,
   "id": "1c4a22a3",
   "metadata": {},
   "outputs": [],
   "source": [
    "def add(*args) :\n",
    "    print(args)\n",
    "    tot = 0\n",
    "    for num in args :\n",
    "        tot += num\n",
    "    return tot"
   ]
  },
  {
   "cell_type": "code",
   "execution_count": 101,
   "id": "d84413fb",
   "metadata": {},
   "outputs": [
    {
     "name": "stdout",
     "output_type": "stream",
     "text": [
      "(1, 2, 3, 4)\n"
     ]
    },
    {
     "data": {
      "text/plain": [
       "10"
      ]
     },
     "execution_count": 101,
     "metadata": {},
     "output_type": "execute_result"
    }
   ],
   "source": [
    "add(1, 2, 3, 4)"
   ]
  },
  {
   "cell_type": "code",
   "execution_count": 102,
   "id": "db14d0b3",
   "metadata": {},
   "outputs": [
    {
     "name": "stdout",
     "output_type": "stream",
     "text": [
      "(1, 2, 3, 4)\n"
     ]
    },
    {
     "data": {
      "text/plain": [
       "10"
      ]
     },
     "execution_count": 102,
     "metadata": {},
     "output_type": "execute_result"
    }
   ],
   "source": [
    "numbers = (1, 2, 3, 4)\n",
    "add(*numbers) #언패킹"
   ]
  },
  {
   "cell_type": "code",
   "execution_count": 103,
   "id": "8e4ef774",
   "metadata": {},
   "outputs": [
    {
     "name": "stdout",
     "output_type": "stream",
     "text": [
      "(1, 2, 3, 4)\n"
     ]
    },
    {
     "data": {
      "text/plain": [
       "10"
      ]
     },
     "execution_count": 103,
     "metadata": {},
     "output_type": "execute_result"
    }
   ],
   "source": [
    "numbers = [1, 2, 3, 4]\n",
    "add(*numbers) #언패킹"
   ]
  },
  {
   "cell_type": "markdown",
   "id": "6e6c5509",
   "metadata": {},
   "source": [
    "### 딕셔너리인수 언패킹\n",
    "- 딕셔너리 언패킹 : 함수 호출 시 매개변수 앞에 ** 붙임\n",
    "- 딕셔너리 패킹 : 함수 정의 시 매개변수 앞에 ** 붙임"
   ]
  },
  {
   "cell_type": "code",
   "execution_count": 110,
   "id": "3503f06d",
   "metadata": {},
   "outputs": [],
   "source": [
    "def func5(**data) :\n",
    "    print(type(data))\n",
    "    for key, item, in data.items() :\n",
    "        print(f'{key}:{item}')"
   ]
  },
  {
   "cell_type": "code",
   "execution_count": 111,
   "id": "4eba2232",
   "metadata": {},
   "outputs": [
    {
     "name": "stdout",
     "output_type": "stream",
     "text": [
      "<class 'dict'>\n",
      "name:홍길동\n",
      "age:30\n",
      "address:신림\n"
     ]
    }
   ],
   "source": [
    "func5(name='홍길동', age = 30, address = '신림')"
   ]
  },
  {
   "cell_type": "code",
   "execution_count": 112,
   "id": "a0b24c43",
   "metadata": {},
   "outputs": [
    {
     "name": "stdout",
     "output_type": "stream",
     "text": [
      "<class 'dict'>\n",
      "name:홍길동\n",
      "age:30\n",
      "address:서울시 강남구\n",
      "score:900\n"
     ]
    }
   ],
   "source": [
    "customInfo = {'name' : '홍길동', 'age' : 30, 'address' : '서울시 강남구', 'score' : 900}\n",
    "func5(**customInfo)"
   ]
  },
  {
   "cell_type": "markdown",
   "id": "f09b4c38",
   "metadata": {},
   "source": [
    "# 4절. 람다식\n",
    "- return 한줄짜리 짧은 익명함수\n",
    "## 4.1 람다식 연습"
   ]
  },
  {
   "cell_type": "code",
   "execution_count": 113,
   "id": "36cac42d",
   "metadata": {},
   "outputs": [
    {
     "data": {
      "text/plain": [
       "7"
      ]
     },
     "execution_count": 113,
     "metadata": {},
     "output_type": "execute_result"
    }
   ],
   "source": [
    "def add(a, b) :\n",
    "    return a + b\n",
    "add(3, 4)"
   ]
  },
  {
   "cell_type": "code",
   "execution_count": 114,
   "id": "98c96cac",
   "metadata": {},
   "outputs": [
    {
     "data": {
      "text/plain": [
       "7"
      ]
     },
     "execution_count": 114,
     "metadata": {},
     "output_type": "execute_result"
    }
   ],
   "source": [
    "add2 = lambda a, b : a + b\n",
    "add2(3, 4)"
   ]
  },
  {
   "cell_type": "code",
   "execution_count": 115,
   "id": "478a3110",
   "metadata": {},
   "outputs": [
    {
     "data": {
      "text/plain": [
       "(function, function)"
      ]
     },
     "execution_count": 115,
     "metadata": {},
     "output_type": "execute_result"
    }
   ],
   "source": [
    "type(add), type(add2)"
   ]
  },
  {
   "cell_type": "code",
   "execution_count": 116,
   "id": "58158d20",
   "metadata": {},
   "outputs": [
    {
     "data": {
      "text/plain": [
       "7"
      ]
     },
     "execution_count": 116,
     "metadata": {},
     "output_type": "execute_result"
    }
   ],
   "source": [
    "(lambda a, b : a + b)(3, 4)"
   ]
  },
  {
   "cell_type": "code",
   "execution_count": 126,
   "id": "46bd92b2",
   "metadata": {},
   "outputs": [
    {
     "data": {
      "text/plain": [
       "('짝수', '홀수')"
      ]
     },
     "execution_count": 126,
     "metadata": {},
     "output_type": "execute_result"
    }
   ],
   "source": [
    "# ex.1 매개변수로 들어온 값이 짝수인지 홀수인지 return\n",
    "def ex1(num) :\n",
    "#     if num%2:\n",
    "#         result = '홀수'\n",
    "#     else :\n",
    "#         result = '짝수'\n",
    "    return '홀수' if num%2 else '짝수'\n",
    "ex1 = lambda num : '홀수' if num%2 else '짝수'\n",
    "ex1(10), ex1(9)"
   ]
  },
  {
   "cell_type": "code",
   "execution_count": 136,
   "id": "0e3d01e0",
   "metadata": {},
   "outputs": [
    {
     "data": {
      "text/plain": [
       "17"
      ]
     },
     "execution_count": 136,
     "metadata": {},
     "output_type": "execute_result"
    }
   ],
   "source": [
    "# ex.2 두 매개변수의 차를 return\n",
    "ex2 = lambda num1, num2 : num1-num2 if num1 > num2 else num2 - num1\n",
    "ex2(-8, 9)"
   ]
  },
  {
   "cell_type": "code",
   "execution_count": 131,
   "id": "5227e19a",
   "metadata": {},
   "outputs": [
    {
     "data": {
      "text/plain": [
       "90000"
      ]
     },
     "execution_count": 131,
     "metadata": {},
     "output_type": "execute_result"
    }
   ],
   "source": [
    "# ex.3 매개변수로 잔액을 받아 양수면 잔액을, 음수면 'negative'를 return\n",
    "ex3 = lambda money : money if money>=0 else 'negative'\n",
    "ex3(90000)"
   ]
  },
  {
   "cell_type": "code",
   "execution_count": 137,
   "id": "f254683c",
   "metadata": {},
   "outputs": [
    {
     "data": {
      "text/plain": [
       "('유효하지 않음', 'A', 'B팀', '재시험')"
      ]
     },
     "execution_count": 137,
     "metadata": {},
     "output_type": "execute_result"
    }
   ],
   "source": [
    "# ex.4 점수를 입력받아 80점 이상은 A그룹, 60점 이상은 B그룹, 60점 미만은 재시험, 그 외는 유요하지 않음 return\n",
    "# def ex4() :\n",
    "#     score = int(input('점수를 입력하세요 : '))\n",
    "#     if 80<=score<=100 :\n",
    "#         return 'A'\n",
    "#     elif 60<score<80 :\n",
    "#         return 'B'\n",
    "#     elif 0<=score<60 :\n",
    "#         return '재시험'\n",
    "#     else :\n",
    "#         return '유효하지 않음'\n",
    "ex4 = lambda score : \"A\" if 80 <= score <= 100 else \\\n",
    "                    \"B팀\" if 60 <= score < 80 else \\\n",
    "                    \"재시험\" if 0 <= score < 60 else \\\n",
    "                    \"유효하지 않음\"\n",
    "ex4(120), ex4(90), ex4(70), ex4(50)"
   ]
  },
  {
   "cell_type": "code",
   "execution_count": 142,
   "id": "9c6a9d58",
   "metadata": {},
   "outputs": [
    {
     "data": {
      "text/plain": [
       "(-1, 2)"
      ]
     },
     "execution_count": 142,
     "metadata": {},
     "output_type": "execute_result"
    }
   ],
   "source": [
    "# ex.5 safe_index를 람다식으로\n",
    "# def safe_index(lst, data) :\n",
    "#     if data in lst :\n",
    "#         return lst.index(data)\n",
    "#     else :\n",
    "#         return -1\n",
    "safe_index = lambda vector, data : vector.index(data) if data in vector else -1\n",
    "tup = (1, 2, 3)\n",
    "safe_index(tup, 4), safe_index(tup, 2)"
   ]
  },
  {
   "cell_type": "markdown",
   "id": "6ddd18d2",
   "metadata": {},
   "source": [
    "## 4.2 함수의 매개변수에 람다식 이용\n",
    "def func(fun, data) :\n",
    "    명령어\n",
    "### (1) map"
   ]
  },
  {
   "cell_type": "code",
   "execution_count": 10,
   "id": "2f830cd0",
   "metadata": {},
   "outputs": [],
   "source": [
    "def map_template(func,  L=[]) :\n",
    "    '''\n",
    "    L의 모든 요소를 func()함수를 적용시켜 return\n",
    "    '''\n",
    "    result = []\n",
    "    for l in L :\n",
    "        result.append(func(l))\n",
    "    return result\n",
    "#     return [func(l) for l in L]"
   ]
  },
  {
   "cell_type": "code",
   "execution_count": 12,
   "id": "7dc3ca82",
   "metadata": {},
   "outputs": [
    {
     "data": {
      "text/plain": [
       "[2, 4, 6, 8, 10, 12, 14, 16, 18, 20]"
      ]
     },
     "execution_count": 12,
     "metadata": {},
     "output_type": "execute_result"
    }
   ],
   "source": [
    "# 리스트 데이터를 가공 방법 1. map_template\n",
    "list_data = [1, 2, 3, 4, 5, 6, 7, 8, 9, 10]\n",
    "map_template(lambda x : x*2, list_data)\n",
    "# def x_2(x) :\n",
    "#     return x*2\n",
    "# map_template(x_2, list_data)"
   ]
  },
  {
   "cell_type": "code",
   "execution_count": 15,
   "id": "c1fbb8a5",
   "metadata": {},
   "outputs": [
    {
     "data": {
      "text/plain": [
       "[2, 4, 6, 8, 10, 12, 14, 16, 18, 20]"
      ]
     },
     "execution_count": 15,
     "metadata": {},
     "output_type": "execute_result"
    }
   ],
   "source": [
    "# 리스트 데이터를 가공 방법 2. 리스트 컴프리헨션\n",
    "[l*2 for l in list_data]"
   ]
  },
  {
   "cell_type": "code",
   "execution_count": 17,
   "id": "4d38346a",
   "metadata": {},
   "outputs": [
    {
     "data": {
      "text/plain": [
       "[2, 4, 6, 8, 10, 12, 14, 16, 18, 20]"
      ]
     },
     "execution_count": 17,
     "metadata": {},
     "output_type": "execute_result"
    }
   ],
   "source": [
    "# 리스트 데이터를 가공 방법 3. map() : python 내장함수\n",
    "list(map(lambda x : x*2, list_data))"
   ]
  },
  {
   "cell_type": "code",
   "execution_count": 31,
   "id": "79c87a74",
   "metadata": {},
   "outputs": [
    {
     "name": "stdout",
     "output_type": "stream",
     "text": [
      "2 4 6 8 10 12 14 16 18 20 "
     ]
    }
   ],
   "source": [
    "for item in map(lambda x : x*2, list_data) :\n",
    "    print(item, end=' ')"
   ]
  },
  {
   "cell_type": "code",
   "execution_count": 23,
   "id": "27f03db6",
   "metadata": {},
   "outputs": [],
   "source": [
    "'''\n",
    "예제 1. [5000, 800, 1000, 6000]로 바꾸시오\n",
    "'''\n",
    "prices = ['5,000', '800', '1000', '6,000']"
   ]
  },
  {
   "cell_type": "code",
   "execution_count": 24,
   "id": "fb889dfa",
   "metadata": {},
   "outputs": [
    {
     "data": {
      "text/plain": [
       "(5000, 1800)"
      ]
     },
     "execution_count": 24,
     "metadata": {},
     "output_type": "execute_result"
    }
   ],
   "source": [
    "def func(x) :\n",
    "    return int(x.replace(',',''))\n",
    "func(\"5,000\"), func(\"1800\")"
   ]
  },
  {
   "cell_type": "code",
   "execution_count": 25,
   "id": "1cd3415c",
   "metadata": {},
   "outputs": [
    {
     "data": {
      "text/plain": [
       "[5000, 800, 1000, 6000]"
      ]
     },
     "execution_count": 25,
     "metadata": {},
     "output_type": "execute_result"
    }
   ],
   "source": [
    "list(map(lambda x :int(x.replace(',','')),prices))"
   ]
  },
  {
   "cell_type": "code",
   "execution_count": 48,
   "id": "619ada43",
   "metadata": {},
   "outputs": [],
   "source": [
    "'''\n",
    "예제 2. member1 = [{'name' : '홍길동', 'birth' : '2000-01-01'},\n",
    "                    {'name' : '신길동', 'birth' : '1998-12-31'}]를\n",
    "        member2 = [{'name' : '홍길동', 'year':2000, 'month':1, 'day':1},\n",
    "                    {'name' : '신길동', 'year':1998, 'month':12, 'day':31}]로 바꿈\n",
    "'''\n",
    "member1 = [{'name' : '홍길동', 'birth' : '2000-01-01'},\n",
    "            {'name' : '신길동', 'birth' : '1998-12-31'}]\n",
    "member2 = [{'name' : '홍길동', 'year':2000, 'month':1, 'day':1},\n",
    "                    {'name' : '신길동', 'year':1998, 'month':12, 'day':31}]"
   ]
  },
  {
   "cell_type": "code",
   "execution_count": 28,
   "id": "dc35b29f",
   "metadata": {},
   "outputs": [],
   "source": [
    "# '2000-01-01' => {'year':1998, 'month':12, 'day':31}\n",
    "def split_date(date) :\n",
    "    split_data = date.split('-')\n",
    "#     print(split_data[0], split_data[1], split_data[2])\n",
    "    return {'year':int(split_data[0]),\n",
    "           'month':int(split_data[1]),\n",
    "            'day':int(split_data[2])\n",
    "           }"
   ]
  },
  {
   "cell_type": "code",
   "execution_count": 30,
   "id": "7205237c",
   "metadata": {},
   "outputs": [
    {
     "data": {
      "text/plain": [
       "{'year': 2000, 'month': 1, 'day': 1}"
      ]
     },
     "execution_count": 30,
     "metadata": {},
     "output_type": "execute_result"
    }
   ],
   "source": [
    "split_date('2000-01-01')"
   ]
  },
  {
   "cell_type": "code",
   "execution_count": 35,
   "id": "b737850c",
   "metadata": {},
   "outputs": [
    {
     "data": {
      "text/plain": [
       "{'name': '홍길동', 'year': 2000, 'month': 1, 'day': 1}"
      ]
     },
     "execution_count": 35,
     "metadata": {},
     "output_type": "execute_result"
    }
   ],
   "source": [
    "def member_func(member) : # {'name' : '홍길동', 'birth' : '2000-01-01'}\n",
    "    \"{'name' : '신길동', 'year':1998, 'month':12, 'day':31} 식으로 return\"\n",
    "    return {\n",
    "            'name':member.get('name'),\n",
    "            'year':int(member['birth'].split('-')[0]),\n",
    "            'month':int(member['birth'].split('-')[1]),\n",
    "            'day':int(member['birth'].split('-')[2]),\n",
    "    }\n",
    "member_func(member1[0])"
   ]
  },
  {
   "cell_type": "code",
   "execution_count": 37,
   "id": "18fe5672",
   "metadata": {},
   "outputs": [
    {
     "data": {
      "text/plain": [
       "[{'name': '홍길동', 'year': 2000, 'month': 1, 'day': 1},\n",
       " {'name': '신길동', 'year': 1998, 'month': 12, 'day': 31}]"
      ]
     },
     "execution_count": 37,
     "metadata": {},
     "output_type": "execute_result"
    }
   ],
   "source": [
    "list(map(lambda member : {\n",
    "                        'name':member.get('name'),\n",
    "                        'year':int(member['birth'].split('-')[0]),\n",
    "                        'month':int(member['birth'].split('-')[1]),\n",
    "                        'day':int(member['birth'].split('-')[2]),\n",
    "                         },\n",
    "       member1 )\n",
    "    )\n",
    "member2"
   ]
  },
  {
   "cell_type": "code",
   "execution_count": null,
   "id": "99bffef3",
   "metadata": {},
   "outputs": [],
   "source": [
    "'''\n",
    "예제3. member2를 member1로 바꿈\n",
    "'''"
   ]
  },
  {
   "cell_type": "code",
   "execution_count": 42,
   "id": "ab1262ac",
   "metadata": {},
   "outputs": [],
   "source": [
    "#{'year:2000, 'month':1, 'day':1} => \"2000-01-01\"를 return하는 함수\n",
    "def join_date(data) :\n",
    "        print([data.get('year'), data.get('month'), data.get('day')])\n",
    "        year = str(data.get('year'))\n",
    "        month = data.get('month')\n",
    "        if month < 10 :\n",
    "            month = '0'+str(month)\n",
    "        else :\n",
    "            month = str(month)\n",
    "        \n",
    "        day = data.get('day')\n",
    "        if day < 10 :\n",
    "            day = '0'+str(day)\n",
    "        else :\n",
    "            day = str(day)\n",
    "        \n",
    "        return '-'.join([year, month, day])"
   ]
  },
  {
   "cell_type": "code",
   "execution_count": null,
   "id": "0ed06d02",
   "metadata": {},
   "outputs": [],
   "source": [
    "def join_date(data) :\n",
    "    print(\"{}-{:02}-{:02}\".format(data.get('year'),\n",
    "                                  data.get('month'),\n",
    "                                  data.get('day')))"
   ]
  },
  {
   "cell_type": "code",
   "execution_count": null,
   "id": "c38fa491",
   "metadata": {},
   "outputs": [],
   "source": [
    "def join_date(data) :\n",
    "    print(\"{year}-{month:02}-{day:02}\".format(\n",
    "                                  year = data.get('year'),\n",
    "                                  month = data.get('month'),\n",
    "                                  day = data.get('day')))"
   ]
  },
  {
   "cell_type": "code",
   "execution_count": 44,
   "id": "be95006a",
   "metadata": {},
   "outputs": [],
   "source": [
    "def join_date(data) :\n",
    "    return \"{year}-{month:02}-{day:02}\".format(**data)"
   ]
  },
  {
   "cell_type": "code",
   "execution_count": 43,
   "id": "2d701733",
   "metadata": {},
   "outputs": [
    {
     "name": "stdout",
     "output_type": "stream",
     "text": [
      "[2000, 1, 1]\n"
     ]
    },
    {
     "data": {
      "text/plain": [
       "'2000-01-01'"
      ]
     },
     "execution_count": 43,
     "metadata": {},
     "output_type": "execute_result"
    }
   ],
   "source": [
    "join_date({'year':2000, 'month':1, 'day':1})"
   ]
  },
  {
   "cell_type": "code",
   "execution_count": 49,
   "id": "b1f10d9a",
   "metadata": {},
   "outputs": [
    {
     "data": {
      "text/plain": [
       "[{'name': '홍길동', 'birth': '2000-01-01'},\n",
       " {'name': '신길동', 'birth': '1998-12-31'}]"
      ]
     },
     "execution_count": 49,
     "metadata": {},
     "output_type": "execute_result"
    }
   ],
   "source": [
    "# {'name': '홍길동', 'year': 2000, 'month': 1, 'day': 1}(member12를\n",
    "# {'name' : '홍길동', 'birth' : '2000-01-01'}(member1)으로 가공\n",
    "list(map(lambda member : {\n",
    "                            'name' : member.get('name'),\n",
    "                            'birth' : \"{year}-{month:02}-{day:02}\".format(**member)\n",
    "                          },\n",
    "         member2\n",
    "        )\n",
    "    )"
   ]
  },
  {
   "cell_type": "markdown",
   "id": "42940f86",
   "metadata": {},
   "source": [
    "### (2) filter\n",
    "- map처리 : [1, 2, 3, 4, 5] => [2, 4, 6, 8, 10] (벡터의 모든 데이터를 가공)\n",
    "- filter : [1, 2, 3, 4, 5] => [2, 4] (원하는 정보를 추출)\n",
    "* cf. 리스트 컴프리헨션"
   ]
  },
  {
   "cell_type": "code",
   "execution_count": 50,
   "id": "b33b7ec9",
   "metadata": {},
   "outputs": [],
   "source": [
    "# [1, 2, 3, 4, 5] => \n",
    "def filter_template(func, L=[]) :\n",
    "    result = []\n",
    "    for l in L :\n",
    "        if func(l) :\n",
    "            result.append(l)\n",
    "    return result"
   ]
  },
  {
   "cell_type": "code",
   "execution_count": 51,
   "id": "3409847f",
   "metadata": {},
   "outputs": [
    {
     "data": {
      "text/plain": [
       "(True, False)"
      ]
     },
     "execution_count": 51,
     "metadata": {},
     "output_type": "execute_result"
    }
   ],
   "source": [
    "def  evenChk(value) :\n",
    "    return value%2==0\n",
    "evenChk(10), evenChk(-9)"
   ]
  },
  {
   "cell_type": "code",
   "execution_count": 52,
   "id": "b746ec89",
   "metadata": {},
   "outputs": [
    {
     "data": {
      "text/plain": [
       "[2, 4]"
      ]
     },
     "execution_count": 52,
     "metadata": {},
     "output_type": "execute_result"
    }
   ],
   "source": [
    "list_data = [1, 2, 3, 4, 5]\n",
    "filter_template(lambda value : value%2==0, list_data)"
   ]
  },
  {
   "cell_type": "code",
   "execution_count": 53,
   "id": "1358f421",
   "metadata": {},
   "outputs": [
    {
     "data": {
      "text/plain": [
       "[2, 4]"
      ]
     },
     "execution_count": 53,
     "metadata": {},
     "output_type": "execute_result"
    }
   ],
   "source": [
    "list(filter(lambda value : value%2==0, list_data))"
   ]
  },
  {
   "cell_type": "code",
   "execution_count": 54,
   "id": "f0c15c7e",
   "metadata": {},
   "outputs": [
    {
     "data": {
      "text/plain": [
       "[2, 4]"
      ]
     },
     "execution_count": 54,
     "metadata": {},
     "output_type": "execute_result"
    }
   ],
   "source": [
    "[data for data in list_data if data%2==0]"
   ]
  },
  {
   "cell_type": "markdown",
   "id": "e5f46ebc",
   "metadata": {},
   "source": [
    "### (3) sort"
   ]
  },
  {
   "cell_type": "code",
   "execution_count": 56,
   "id": "11ff07c8",
   "metadata": {},
   "outputs": [
    {
     "data": {
      "text/plain": [
       "[9, 7, 2]"
      ]
     },
     "execution_count": 56,
     "metadata": {},
     "output_type": "execute_result"
    }
   ],
   "source": [
    "p = [9, 2, 7]\n",
    "p.sort(reverse=True)\n",
    "p"
   ]
  },
  {
   "cell_type": "code",
   "execution_count": 58,
   "id": "d66d89f7",
   "metadata": {},
   "outputs": [
    {
     "data": {
      "text/plain": [
       "[(1, 'one'), (2, 'two'), (3, 'three'), (4, 'four')]"
      ]
     },
     "execution_count": 58,
     "metadata": {},
     "output_type": "execute_result"
    }
   ],
   "source": [
    "# 무조건 0번째 item 기준으로 정렬\n",
    "pairs = [(2, 'two'), (1, 'one'), (4, 'four'), (3, 'three')]\n",
    "pairs.sort()\n",
    "pairs"
   ]
  },
  {
   "cell_type": "code",
   "execution_count": 60,
   "id": "ff2b95fd",
   "metadata": {},
   "outputs": [
    {
     "data": {
      "text/plain": [
       "[(4, 'four'), (1, 'one'), (3, 'three'), (2, 'two')]"
      ]
     },
     "execution_count": 60,
     "metadata": {},
     "output_type": "execute_result"
    }
   ],
   "source": [
    "# 1번째 item 기준으로 정렬(abc순)\n",
    "pairs.sort(key=lambda pair : pair[1])\n",
    "pairs"
   ]
  },
  {
   "cell_type": "code",
   "execution_count": 61,
   "id": "1e58abad",
   "metadata": {},
   "outputs": [
    {
     "data": {
      "text/plain": [
       "[[10, 1], [9, 9, 9, 9, 9], [1, 100]]"
      ]
     },
     "execution_count": 61,
     "metadata": {},
     "output_type": "execute_result"
    }
   ],
   "source": [
    "# 무조건 0번 item기준으로 정렬\n",
    "number2d = [[9, 9, 9, 9, 9],\n",
    "            [1, 100],\n",
    "            [10, 1]]\n",
    "number2d.sort(reverse=True) # 기본(reverse=False): 오름차순정렬 / reverse=True : 내림차순정렬\n",
    "number2d"
   ]
  },
  {
   "cell_type": "code",
   "execution_count": 65,
   "id": "9c5bd901",
   "metadata": {},
   "outputs": [
    {
     "data": {
      "text/plain": [
       "6"
      ]
     },
     "execution_count": 65,
     "metadata": {},
     "output_type": "execute_result"
    }
   ],
   "source": [
    "# 리스트를 매개변수로 받아 합을 return\n",
    "(lambda item : sum(item))([1, 2, 3])"
   ]
  },
  {
   "cell_type": "code",
   "execution_count": 64,
   "id": "6b1569cc",
   "metadata": {},
   "outputs": [
    {
     "data": {
      "text/plain": [
       "[[1, 100], [9, 9, 9, 9, 9], [10, 1]]"
      ]
     },
     "execution_count": 64,
     "metadata": {},
     "output_type": "execute_result"
    }
   ],
   "source": [
    "# 합이 큰 순으로 정렬\n",
    "number2d.sort(key = lambda item : sum(item), reverse=True)\n",
    "number2d"
   ]
  },
  {
   "cell_type": "code",
   "execution_count": 77,
   "id": "faa1b67d",
   "metadata": {},
   "outputs": [],
   "source": [
    "students = [\n",
    "    {'name':'홍길동', 'score':90},\n",
    "    {'name':'김길동', 'score':50},\n",
    "    {'name':'윤길동', 'score':99},\n",
    "    {'score':100}\n",
    "]"
   ]
  },
  {
   "cell_type": "code",
   "execution_count": 79,
   "id": "1c175862",
   "metadata": {},
   "outputs": [
    {
     "data": {
      "text/plain": [
       "[{'name': '김길동', 'score': 50},\n",
       " {'name': '윤길동', 'score': 99},\n",
       " {'name': '홍길동', 'score': 90},\n",
       " {'score': 100}]"
      ]
     },
     "execution_count": 79,
     "metadata": {},
     "output_type": "execute_result"
    }
   ],
   "source": [
    "# 이름순으로 정렬(ㄱㄴㄷ순)\n",
    "students.sort(key = lambda item : item.get('name', '힣'))\n",
    "students"
   ]
  },
  {
   "cell_type": "code",
   "execution_count": 82,
   "id": "bc5b801b",
   "metadata": {},
   "outputs": [
    {
     "data": {
      "text/plain": [
       "[{'score': 100},\n",
       " {'name': '윤길동', 'score': 99},\n",
       " {'name': '홍길동', 'score': 90},\n",
       " {'name': '김길동', 'score': 50}]"
      ]
     },
     "execution_count": 82,
     "metadata": {},
     "output_type": "execute_result"
    }
   ],
   "source": [
    "# score순으로 정렬(내림차순정렬 : reverse=True)\n",
    "students.sort(key = lambda item : item.get('score', 0), reverse=True)\n",
    "students"
   ]
  },
  {
   "cell_type": "code",
   "execution_count": 83,
   "id": "4e44f471",
   "metadata": {},
   "outputs": [],
   "source": [
    "# 책제목순 정렬(ㄱㄴㄷ순), 저자순 정렬(ㄱㄴㄷ순), 가격순 정렬\n",
    "books =[\n",
    "    {'no':1, 'title':'강남 아파트 인사이트', 'writer':'오스틀', 'price':'25,200'},\n",
    "    {'no':2, 'title':'단 한 번의 삶', 'writer':'김영하', 'price':'18,100'},\n",
    "    {'no':3, 'title':'흔한남매 19', 'writer':'백난도', 'price':'14,220'},\n",
    "    {'no':4, 'title':'가격이잘못', 'writer':'홍길동', 'price':'-'},\n",
    "    {'no':5, 'title':'가격이숫자', 'writer':'신길동', 'price':900},\n",
    "    {'no':6, 'title':'가격이없음', 'writer':'김길동'},\n",
    "]"
   ]
  },
  {
   "cell_type": "code",
   "execution_count": 113,
   "id": "84dd160e",
   "metadata": {},
   "outputs": [
    {
     "data": {
      "text/plain": [
       "[{'no': 5, 'title': '가격이숫자', 'writer': '신길동', 'price': 900},\n",
       " {'no': 6, 'title': '가격이없음', 'writer': '김길동'},\n",
       " {'no': 4, 'title': '가격이잘못', 'writer': '홍길동', 'price': '-'},\n",
       " {'no': 1, 'title': '강남 아파트 인사이트', 'writer': '오스틀', 'price': '25,200'},\n",
       " {'no': 2, 'title': '단 한 번의 삶', 'writer': '김영하', 'price': '18,100'},\n",
       " {'no': 3, 'title': '흔한남매 19', 'writer': '백난도', 'price': '14,220'}]"
      ]
     },
     "execution_count": 113,
     "metadata": {},
     "output_type": "execute_result"
    }
   ],
   "source": [
    "# 제목순 정렬(ㄱㄴㄷ순)\n",
    "books.sort(key = lambda book : book.get('title'))\n",
    "books"
   ]
  },
  {
   "cell_type": "code",
   "execution_count": 114,
   "id": "2171541d",
   "metadata": {},
   "outputs": [
    {
     "data": {
      "text/plain": [
       "[{'no': 6, 'title': '가격이없음', 'writer': '김길동'},\n",
       " {'no': 2, 'title': '단 한 번의 삶', 'writer': '김영하', 'price': '18,100'},\n",
       " {'no': 3, 'title': '흔한남매 19', 'writer': '백난도', 'price': '14,220'},\n",
       " {'no': 5, 'title': '가격이숫자', 'writer': '신길동', 'price': 900},\n",
       " {'no': 1, 'title': '강남 아파트 인사이트', 'writer': '오스틀', 'price': '25,200'},\n",
       " {'no': 4, 'title': '가격이잘못', 'writer': '홍길동', 'price': '-'}]"
      ]
     },
     "execution_count": 114,
     "metadata": {},
     "output_type": "execute_result"
    }
   ],
   "source": [
    "# 저자순 정렬(ㄱㄴㄷ순)\n",
    "books.sort(key = lambda book : book.get('writer'))\n",
    "books"
   ]
  },
  {
   "cell_type": "code",
   "execution_count": 115,
   "id": "6c85ba55",
   "metadata": {},
   "outputs": [],
   "source": [
    "# 가격순\n",
    "# '14,000' => 14000 / \"2000\" => 2000 / 800 => 800 / '-' => 0\n",
    "def parse_int(price) :\n",
    "#     print(type(price))\n",
    "    if isinstance(price, str) and price.replace(',','').isdigit() :\n",
    "        return int(price.replace(',',''))\n",
    "    elif isinstance(price, int) :\n",
    "        return price\n",
    "    else :\n",
    "        return 0"
   ]
  },
  {
   "cell_type": "code",
   "execution_count": 116,
   "id": "b873e15c",
   "metadata": {},
   "outputs": [
    {
     "data": {
      "text/plain": [
       "(8000, 8000, 800, 0)"
      ]
     },
     "execution_count": 116,
     "metadata": {},
     "output_type": "execute_result"
    }
   ],
   "source": [
    "parse_int(\"8,000\"), parse_int(\"8000\"), parse_int(800), parse_int(\"-\")"
   ]
  },
  {
   "cell_type": "code",
   "execution_count": 117,
   "id": "6d4179ef",
   "metadata": {},
   "outputs": [
    {
     "data": {
      "text/plain": [
       "(0, 900, 14220, 0)"
      ]
     },
     "execution_count": 117,
     "metadata": {},
     "output_type": "execute_result"
    }
   ],
   "source": [
    "# {'no':6, 'title':'가격이없음', 'writer':'김길동'}\n",
    "# {'no': 3, 'title': '흔한남매 19', 'writer': '백난도', 'price': '14,220'}\n",
    "# {'no': 5, 'title': '가격이숫자', 'writer': '신길동', 'price': 900}\n",
    "def parse_int(book) :\n",
    "    if isinstance(book.get('price'), str) and \\\n",
    "                 book.get('price').replace(',','').isdigit() :\n",
    "        return int(book.get('price').replace(',',''))\n",
    "    elif isinstance(book.get('price'), int) :\n",
    "        return book.get('price')\n",
    "    else :\n",
    "        return 0\n",
    "parse_int(books[0]), parse_int(books[3]), parse_int(books[2]), parse_int(books[5]),"
   ]
  },
  {
   "cell_type": "code",
   "execution_count": 118,
   "id": "ca9aa2f4",
   "metadata": {},
   "outputs": [],
   "source": [
    "# books =[\n",
    "#     {'no':1, 'title':'강남 아파트 인사이트', 'writer':'오스틀', 'price':'25,200'},\n",
    "#     {'no':2, 'title':'단 한 번의 삶', 'writer':'김영하', 'price':'18,100'},\n",
    "#     {'no':3, 'title':'흔한남매 19', 'writer':'백난도', 'price':'14,220'},\n",
    "#     {'no':4, 'title':'가격이잘못', 'writer':'홍길동', 'price':'-'},\n",
    "#     {'no':5, 'title':'가격이숫자', 'writer':'신길동', 'price':900},\n",
    "#     {'no':6, 'title':'가격이없음', 'writer':'김길동'},\n",
    "# ]\n",
    "copy_books = books.copy()\n"
   ]
  },
  {
   "cell_type": "code",
   "execution_count": 119,
   "id": "1947e6a9",
   "metadata": {},
   "outputs": [],
   "source": [
    "copy_books.sort(key = lambda book :\n",
    "                int(book.get('price').replace(',','')) \\\n",
    "                    if isinstance(book.get('price'), str) and \\\n",
    "                        book.get('price').replace(',','').isdigit() else \\\n",
    "                book.get('price') if isinstance(book.get('price'), int) else \\\n",
    "                0                          \n",
    "                )"
   ]
  },
  {
   "cell_type": "code",
   "execution_count": 122,
   "id": "f078499f",
   "metadata": {},
   "outputs": [
    {
     "data": {
      "text/plain": [
       "0"
      ]
     },
     "execution_count": 122,
     "metadata": {},
     "output_type": "execute_result"
    }
   ],
   "source": [
    "(lambda book :\n",
    "               int(book.get('price').replace(',','')) \\\n",
    "                    if isinstance(book.get('price'), str) and \\\n",
    "                        book.get('price').replace(',','').isdigit() else \\\n",
    "                book.get('price') if isinstance(book.get('price'), int) else \\\n",
    "                0)(books[0])"
   ]
  },
  {
   "cell_type": "markdown",
   "id": "f04affff",
   "metadata": {},
   "source": [
    "## 4.3 return문에 람다식 이용"
   ]
  },
  {
   "cell_type": "code",
   "execution_count": 123,
   "id": "ae7b00f8",
   "metadata": {},
   "outputs": [],
   "source": [
    "# 함수를 return\n",
    "def make_box(shape) : # shape : [l] -> len가 l인 list를 생성하는 함수 return,\n",
    "#                                 [r, c] -> r행 c열인 list를 생성하는 함수 return,\n",
    "#                                 [d, r, c] -> d면 r행 c열 3차원 list를 생성하는 함수 return\n",
    "    def box(init_value) :\n",
    "        if len(shape)==1 :\n",
    "            return [init_value]*shape[0]\n",
    "        elif len(shape)==2 :\n",
    "            return [ [init_value]*shape[1] ] * shape[0]\n",
    "    return box"
   ]
  },
  {
   "cell_type": "code",
   "execution_count": 126,
   "id": "0c50106d",
   "metadata": {},
   "outputs": [],
   "source": [
    "def make_box(shape) :\n",
    "    if len(shape)==1 :\n",
    "        return lambda init_value : [init_value]*shape[0]\n",
    "    elif len(shape)==2 :\n",
    "        return lambda init_value : [ [init_value]*shape[1] ] * shape[0]"
   ]
  },
  {
   "cell_type": "code",
   "execution_count": null,
   "id": "fabc02d4",
   "metadata": {},
   "outputs": [],
   "source": []
  },
  {
   "cell_type": "code",
   "execution_count": null,
   "id": "a06c1677",
   "metadata": {},
   "outputs": [],
   "source": []
  },
  {
   "cell_type": "code",
   "execution_count": 124,
   "id": "703536f6",
   "metadata": {},
   "outputs": [
    {
     "data": {
      "text/plain": [
       "[[3, 3, 3], [3, 3, 3]]"
      ]
     },
     "execution_count": 124,
     "metadata": {},
     "output_type": "execute_result"
    }
   ],
   "source": [
    "line_func = make_box([2, 3])\n",
    "line_func(3)"
   ]
  },
  {
   "cell_type": "markdown",
   "id": "36a683f2",
   "metadata": {},
   "source": [
    "# 5절. 파이썬 내장함수\n",
    "- import하지 않고 바로 사용 가능한 함수\n",
    "- 키워드처럼 간주되므로, 식별자(변수명, 함수명, 클래스명)로 사용하는 것을 피함"
   ]
  },
  {
   "cell_type": "code",
   "execution_count": 127,
   "id": "025cbce1",
   "metadata": {
    "collapsed": true
   },
   "outputs": [
    {
     "data": {
      "text/plain": [
       "{'__name__': '__main__',\n",
       " '__doc__': \"\\n예제 2. member1 = [{'name' : '홍길동', 'birth' : '2000-01-01'},\\n                    {'name' : '신길동', 'birth' : '1998-12-31'}]를\\n        member2 = [{'name' : '홍길동', 'year':2000, 'month':1, 'day':1},\\n                    {'name' : '신길동', 'year':1998, 'month':12, 'day':31}]로 바꿈\\n\",\n",
       " '__package__': None,\n",
       " '__loader__': None,\n",
       " '__spec__': None,\n",
       " '__builtin__': <module 'builtins' (built-in)>,\n",
       " '__builtins__': <module 'builtins' (built-in)>,\n",
       " '_ih': ['',\n",
       "  \"def map_template(func,  L=[1, 2, 3]) :\\n    '''\\n    L의 모든 요소를 func()함수를 적용시켜 return\\n    [2,4,6]\\n    '''\\n#     result = []\\n#     for l in L :\\n#         result.append(func(l))\\n#         return result\\n    return [func(l) for l in L]\",\n",
       "  'list_data = [1, 2, 3, 4, 5, 6, 7, 8, 9, 10]\\ndef x_2(x) :\\n    return x*2\\nmap_template(x_2, list_data)',\n",
       "  \"def map_template(func,  L=[1, 2, 3]) :\\n    '''\\n    L의 모든 요소를 func()함수를 적용시켜 return\\n    '''\\n    result = []\\n    for l in L :\\n        result.append(func(l))\\n        return result\\n#     return [func(l) for l in L]\",\n",
       "  'list_data = [1, 2, 3, 4, 5, 6, 7, 8, 9, 10]\\ndef x_2(x) :\\n    return x*2\\nmap_template(x_2, list_data)',\n",
       "  \"def map_template(func,  L=[1, 2, 3]) :\\n    '''\\n    L의 모든 요소를 func()함수를 적용시켜 return\\n    '''\\n    result = []\\n    for l in L :\\n        result.append(func(l))\\n        return result\\n#     return [func(l) for l in L]\",\n",
       "  \"def map_template(func,  L=[]) :\\n    '''\\n    L의 모든 요소를 func()함수를 적용시켜 return\\n    '''\\n    result = []\\n    for l in L :\\n        result.append(func(l))\\n        return result\\n#     return [func(l) for l in L]\",\n",
       "  'list_data = [1, 2, 3, 4, 5, 6, 7, 8, 9, 10]\\ndef x_2(x) :\\n    return x*2\\nmap_template(x_2, list_data)',\n",
       "  \"def map_template(func,  L=[]) :\\n    '''\\n    L의 모든 요소를 func()함수를 적용시켜 return\\n    '''\\n    result = []\\n    for l in L :\\n        result.append(func(l))\\n    return result\\n#     return [func(l) for l in L]\",\n",
       "  'list_data = [1, 2, 3, 4, 5, 6, 7, 8, 9, 10]\\ndef x_2(x) :\\n    return x*2\\nmap_template(x_2, list_data)',\n",
       "  \"def map_template(func,  L=[]) :\\n    '''\\n    L의 모든 요소를 func()함수를 적용시켜 return\\n    '''\\n    result = []\\n    for l in L :\\n        result.append(func(l))\\n    return result\\n#     return [func(l) for l in L]\",\n",
       "  'list_data = [1, 2, 3, 4, 5, 6, 7, 8, 9, 10]\\nmap_template(lambda x x*2, list_data)\\n# def x_2(x) :\\n#     return x*2\\n# map_template(x_2, list_data)',\n",
       "  'list_data = [1, 2, 3, 4, 5, 6, 7, 8, 9, 10]\\nmap_template(lambda x : x*2, list_data)\\n# def x_2(x) :\\n#     return x*2\\n# map_template(x_2, list_data)',\n",
       "  '# 리스트 데이터를 가공 방법 2. 리스트 컴프리헨션\\n[l*2 for l in list_data]',\n",
       "  '# 리스트 데이터를 가공 방법 3. map() : python 내장함수\\nlist(for item in map(lambda x : x*2, list_data))',\n",
       "  '# 리스트 데이터를 가공 방법 2. 리스트 컴프리헨션\\n[l*2 for l in list_data]',\n",
       "  \"# 리스트 데이터를 가공 방법 3. map() : python 내장함수\\nfor item in map(lambda x : x*2, list_data) :\\n    print(item, end=' ')\",\n",
       "  '# 리스트 데이터를 가공 방법 3. map() : python 내장함수\\nlist(map(lambda x : x*2, list_data))',\n",
       "  'def func(x) :\\n    return int(x.replace(\\',\\',\\'\\'))\\nfnunc(\"5,000\", func(\"1800\"))',\n",
       "  'def func(x) :\\n    return int(x.replace(\\',\\',\\'\\'))\\nfunc(\"5,000\", func(\"1800\"))',\n",
       "  'def func(x) :\\n    return int(x.replace(\\',\\',\\'\\'))\\nfunc(\"5,000\"), func(\"1800\")',\n",
       "  \"list(map(lambda x :int(x.replace(',','')),pricces))\",\n",
       "  \"list(map(lambda x :int(x.replace(',','')),prices))\",\n",
       "  \"'''\\n예제 1. [5000, 800, 1000, 6000]로 바꾸시오\\n'''\\nprices = ['5,000', '800', '1000', '6,000']\",\n",
       "  'def func(x) :\\n    return int(x.replace(\\',\\',\\'\\'))\\nfunc(\"5,000\"), func(\"1800\")',\n",
       "  \"list(map(lambda x :int(x.replace(',','')),prices))\",\n",
       "  \"# '2000-01-01' => {'year':1998, 'month':12, 'day':31}\\ndef split_date(date) :\\n    split_data = date.split('-')\\n#     print(split_data[0], split_data[1], split_data[2])\\n    return {'year':int(split_data[0]),\\n           'month':int(split_data[1]).\\n            'day' :int(split_data[2])\\n           }\",\n",
       "  \"# '2000-01-01' => {'year':1998, 'month':12, 'day':31}\\ndef split_date(date) :\\n    split_data = date.split('-')\\n#     print(split_data[0], split_data[1], split_data[2])\\n    return {'year':int(split_data[0]),\\n           'month':int(split_data[1]).\\n            'day':int(split_data[2])\\n           }\",\n",
       "  \"# '2000-01-01' => {'year':1998, 'month':12, 'day':31}\\ndef split_date(date) :\\n    split_data = date.split('-')\\n#     print(split_data[0], split_data[1], split_data[2])\\n    return {'year':int(split_data[0]),\\n           'month':int(split_data[1]),\\n            'day':int(split_data[2])\\n           }\",\n",
       "  \"split_date('2000-01-01')\",\n",
       "  \"split_date('2000-01-01')\",\n",
       "  \"for item in map(lambda x : x*2, list_data) :\\n    print(item, end=' ')\",\n",
       "  '\\'\\'\\'\\n예제3. member2를 member1로 바꿈\\n\\'\\'\\'\\ndef member_func(member) : # {\\'name\\' : \\'홍길동\\', \\'birth\\' : \\'2000-01-01\\'}\\n    \"{\\'name\\' : \\'신길동\\', \\'year\\':1998, \\'month\\':12, \\'day\\':31} 식으로 return\"\\n    return {\\n            \\'name\\':member.get(\\'name\\'),\\n            \\'year\\':int(member[\\'birth\\'].split(\\'-\\')[0]),\\n            \\'month\\':int(member[\\'birth\\'].split(\\'-\\')[1]),\\n            \\'day\\':int(member[\\'birth\\'].split(\\'-\\')[2]),\\n    }\\n    ',\n",
       "  '\\'\\'\\'\\n예제3. member2를 member1로 바꿈\\n\\'\\'\\'\\ndef member_func(member) : # {\\'name\\' : \\'홍길동\\', \\'birth\\' : \\'2000-01-01\\'}\\n    \"{\\'name\\' : \\'신길동\\', \\'year\\':1998, \\'month\\':12, \\'day\\':31} 식으로 return\"\\n    return {\\n            \\'name\\':member.get(\\'name\\'),\\n            \\'year\\':int(member[\\'birth\\'].split(\\'-\\')[0]),\\n            \\'month\\':int(member[\\'birth\\'].split(\\'-\\')[1]),\\n            \\'day\\':int(member[\\'birth\\'].split(\\'-\\')[2]),\\n    }\\nmember_func(member1[0])',\n",
       "  \"'''\\n예제 2. member1 = [{'name' : '홍길동', 'birth' : '2000-01-01'},\\n                    {'name' : '신길동', 'birth' : '1998-12-31'}]를\\n        member2 = [{'name' : '홍길동', 'year':2000, 'month':1, 'day':1},\\n                    {'name' : '신길동', 'year':1998, 'month':12, 'day':31}]로 바꿈\\n'''\\nmember1 = [{'name' : '홍길동', 'birth' : '2000-01-01'},\\n            {'name' : '신길동', 'birth' : '1998-12-31'}]\",\n",
       "  '\\'\\'\\'\\n예제3. member2를 member1로 바꿈\\n\\'\\'\\'\\ndef member_func(member) : # {\\'name\\' : \\'홍길동\\', \\'birth\\' : \\'2000-01-01\\'}\\n    \"{\\'name\\' : \\'신길동\\', \\'year\\':1998, \\'month\\':12, \\'day\\':31} 식으로 return\"\\n    return {\\n            \\'name\\':member.get(\\'name\\'),\\n            \\'year\\':int(member[\\'birth\\'].split(\\'-\\')[0]),\\n            \\'month\\':int(member[\\'birth\\'].split(\\'-\\')[1]),\\n            \\'day\\':int(member[\\'birth\\'].split(\\'-\\')[2]),\\n    }\\nmember_func(member1[0])',\n",
       "  \"list(map(lambda member : {\\n                        'name':member.get('name'),\\n                        'year':int(member['birth'].split('-')[0]),\\n                        'month':int(member['birth'].split('-')[1]),\\n                        'day':int(member['birth'].split('-')[2]),\\n                         },\\n        )\\n    )\",\n",
       "  \"list(map(lambda member : {\\n                        'name':member.get('name'),\\n                        'year':int(member['birth'].split('-')[0]),\\n                        'month':int(member['birth'].split('-')[1]),\\n                        'day':int(member['birth'].split('-')[2]),\\n                         },\\n       member1 )\\n    )\",\n",
       "  '#{\\'year:2000, \\'month\\':1, \\'day\\':1} => \"2000-01-01\"를 return하는 함수\\ndef join_date(data) :\\n    print(data)',\n",
       "  \"join_date({'year':2000, 'month':1, 'day':1})\",\n",
       "  '#{\\'year:2000, \\'month\\':1, \\'day\\':1} => \"2000-01-01\"를 return하는 함수\\ndef join_date(data) :\\n        print([data.get(\\'year\\'), data.get(\\'month\\'), data.get(\\'day\\')])\\n        return \\'-\\'.join([data.get(\\'year\\'), data.get(\\'month\\'), data.get(\\'day\\')])',\n",
       "  \"join_date({'year':2000, 'month':1, 'day':1})\",\n",
       "  '#{\\'year:2000, \\'month\\':1, \\'day\\':1} => \"2000-01-01\"를 return하는 함수\\ndef join_date(data) :\\n        print([data.get(\\'year\\'), data.get(\\'month\\'), data.get(\\'day\\')])\\n        year = str(data.get(\\'year\\'))\\n        month = data.get(\\'month\\')\\n        if month < 10 :\\n            month = \\'0\\'+str(month)\\n        else :\\n            month = str(month)\\n        \\n        day = data.get(\\'day\\')\\n        if day < 10 :\\n           day = \\'0\\'+str(day)\\n        else :\\n            day = str(day)\\n        \\n        return \\'-\\'.join([year, month, day])',\n",
       "  \"join_date({'year':2000, 'month':1, 'day':1})\",\n",
       "  'def join_date(data) :\\n    return \"{year}-{month:02}-{day:02}\".format(**data)',\n",
       "  '# {\\'name\\': \\'홍길동\\', \\'year\\': 2000, \\'month\\': 1, \\'day\\': 1}(member12를\\n# {\\'name\\' : \\'홍길동\\', \\'birth\\' : \\'2000-01-01\\'}(member1)으로 가공\\nlist(map(lambda member : {\\n                            \\'name\\' : member.get(\\'name\\'),\\n                            \\'birth\\' : \"{year}-{month:02}-{day:02}\".format(**member)\\n                          },\\n         member2\\n        )\\n    )',\n",
       "  '# {\\'name\\': \\'홍길동\\', \\'year\\': 2000, \\'month\\': 1, \\'day\\': 1}(member12를\\n# {\\'name\\' : \\'홍길동\\', \\'birth\\' : \\'2000-01-01\\'}(member1)으로 가공\\nlist(map(lambda member : {\\n                            \\'name\\' : member.get(\\'name\\'),\\n                            \\'birth\\' : \"{year}-{month:02}-{day:02}\".format(**member)\\n                          },\\n         member2\\n        )\\n    )',\n",
       "  \"'''\\n예제 2. member1 = [{'name' : '홍길동', 'birth' : '2000-01-01'},\\n                    {'name' : '신길동', 'birth' : '1998-12-31'}]를\\n        member2 = [{'name' : '홍길동', 'year':2000, 'month':1, 'day':1},\\n                    {'name' : '신길동', 'year':1998, 'month':12, 'day':31}]로 바꿈\\n'''\\nmember1 = [{'name' : '홍길동', 'birth' : '2000-01-01'},\\n            {'name' : '신길동', 'birth' : '1998-12-31'}]\\n member2 = [{'name' : '홍길동', 'year':2000, 'month':1, 'day':1},\\n                    {'name' : '신길동', 'year':1998, 'month':12, 'day':31}]\",\n",
       "  \"'''\\n예제 2. member1 = [{'name' : '홍길동', 'birth' : '2000-01-01'},\\n                    {'name' : '신길동', 'birth' : '1998-12-31'}]를\\n        member2 = [{'name' : '홍길동', 'year':2000, 'month':1, 'day':1},\\n                    {'name' : '신길동', 'year':1998, 'month':12, 'day':31}]로 바꿈\\n'''\\nmember1 = [{'name' : '홍길동', 'birth' : '2000-01-01'},\\n            {'name' : '신길동', 'birth' : '1998-12-31'}]\\nmember2 = [{'name' : '홍길동', 'year':2000, 'month':1, 'day':1},\\n                    {'name' : '신길동', 'year':1998, 'month':12, 'day':31}]\",\n",
       "  '# {\\'name\\': \\'홍길동\\', \\'year\\': 2000, \\'month\\': 1, \\'day\\': 1}(member12를\\n# {\\'name\\' : \\'홍길동\\', \\'birth\\' : \\'2000-01-01\\'}(member1)으로 가공\\nlist(map(lambda member : {\\n                            \\'name\\' : member.get(\\'name\\'),\\n                            \\'birth\\' : \"{year}-{month:02}-{day:02}\".format(**member)\\n                          },\\n         member2\\n        )\\n    )',\n",
       "  '# [1, 2, 3, 4, 5] => \\ndef filter_template(func, L=[]) :\\n    result = []\\n    for l in L :\\n        if func(l) :\\n            result.append(l)\\n    return result',\n",
       "  'def  evenChk(value) :\\n    return value%2==0\\nevenChk(10), evenChk(-9)',\n",
       "  'list_data = [1, 2, 3, 4, 5]\\nfilter_template(lambda value : value%2==0, list_data)',\n",
       "  'list(filter(lambda value : value%2==0, list_data))',\n",
       "  '[data for data in list_data if data%2==0]',\n",
       "  'p = [9, 2, 7]\\np.sort()\\np',\n",
       "  'p = [9, 2, 7]\\np.sort(reverse=True)\\np',\n",
       "  'number2d = [[9, 9],\\n            [1, 100],\\n            [10, 1]]\\nnumber2d.sort(reverse=True)\\nnumber2d',\n",
       "  \"pairs = [(2, 'two'), (1, 'one'), (4, 'four'), (3, 'three')]\\npairs.sort()\\npairs\",\n",
       "  '# 1번째 item 기준으로 정렬(abc순)\\npairs,sort(key=lambda pair : pair[1])\\npairs',\n",
       "  '# 1번째 item 기준으로 정렬(abc순)\\npairs.sort(key=lambda pair : pair[1])\\npairs',\n",
       "  '# 무조건 0번 item기준으로 정렬\\nnumber2d = [[9, 9, 9, 9, 9],\\n            [1, 100],\\n            [10, 1]]\\nnumber2d.sort(reverse=True) # 기본(reverse=False): 오름차순정렬 / reverse=True : 내림차순정렬\\nnumber2d',\n",
       "  '# 합이 큰 순으로 정렬\\nnumber2d.sort(key = lambda item : sum(item))\\nnumber2d',\n",
       "  '# 합이 큰 순으로 정렬\\nnumber2d.sort(key = lambda item : sum(item), reverse=True)\\nnumber2d',\n",
       "  '# 합이 큰 순으로 정렬\\nnumber2d.sort(key = lambda item : sum(item), reverse=True)\\nnumber2d',\n",
       "  '# 리스트를 매개변수로 받아 합을 return\\n(lambda item : sum(item))([1, 2, 3])',\n",
       "  \"students = [\\n    {'name':'홍길동', 'kor':90},\\n    {'name':'김길동', 'kor':50},\\n    {'name':'윤길동', 'kor':99},\\n]\",\n",
       "  '# 이름순으로 정렬(ㄱㄴㄷ순)\\nstudents.sort()\\nstudents',\n",
       "  '# 이름순으로 정렬(ㄱㄴㄷ순)\\nstudents.sort(**student)\\nstudents',\n",
       "  '# 이름순으로 정렬(ㄱㄴㄷ순)\\nstudents.sort(**students)\\nstudents',\n",
       "  '# 이름순으로 정렬(ㄱㄴㄷ순)\\nstudents.sort(*students)\\nstudents',\n",
       "  '# 이름순으로 정렬(ㄱㄴㄷ순)\\nstudents.sort(**students)\\nstudents',\n",
       "  '# 이름순으로 정렬(ㄱㄴㄷ순)\\nlist_stu = students.sort(**students)\\nstudents',\n",
       "  '# 이름순으로 정렬(ㄱㄴㄷ순)\\nlist_stu = students.sort(*students)\\nstudents',\n",
       "  \"students = [\\n    {'name':'홍길동', 'score':90},\\n    {'name':'김길동', 'score':50},\\n    {'name':'윤길동', 'score':99},\\n]\",\n",
       "  \"# 이름순으로 정렬(ㄱㄴㄷ순)\\nstudents.sort(key = lambda item : item.get('name'))\\nstudents\",\n",
       "  \"students = [\\n    {'name':'홍길동', 'score':90},\\n    {'name':'김길동', 'score':50},\\n    {'name':'윤길동', 'score':99},\\n     'score':100\\n]\",\n",
       "  \"students = [\\n    {'name':'홍길동', 'score':90},\\n    {'name':'김길동', 'score':50},\\n    {'name':'윤길동', 'score':99},\\n    {'score':100}\\n]\",\n",
       "  \"# 이름순으로 정렬(ㄱㄴㄷ순)\\nstudents.sort(key = lambda item : item.get('name'))\\nstudents\",\n",
       "  \"# 이름순으로 정렬(ㄱㄴㄷ순)\\nstudents.sort(key = lambda item : item.get('name', '힣'))\\nstudents\",\n",
       "  \"# score순으로 정렬(내림차순정렬)\\nstudents.sort(key = lambda item : item.get('score', 0))\\nstudents\",\n",
       "  \"# score순으로 정렬(내림차순정렬)\\nstudents.sort(key = lambda item : item.get('score', 0), reverse=True)\\nstudents\",\n",
       "  \"# score순으로 정렬(내림차순정렬 : reverse=True)\\nstudents.sort(key = lambda item : item.get('score', 0), reverse=True)\\nstudents\",\n",
       "  \"# 책제목순 정렬(ㄱㄴㄷ순), 저자순 정렬(ㄱㄴㄷ순), 가격순 정렬\\nbooks =[\\n    {'no':1, 'title':'강남 아파트 인사이트', 'writer':'오스틀', 'price':'25,200'},\\n    {'no':2, 'title':'단 한 번의 삶', 'writer':'김영하', 'price':'18,100'},\\n    {'no':3, 'title':'흔한남매 19', 'writer':'백난도', 'price':'14,220'},\\n    {'no':4, 'title':'가격이잘못', 'writer':'홍길동', 'price':'-'},\\n    {'no':5, 'title':'가격이숫자', 'writer':'신길동', 'price':900},\\n    {'no':6, 'title':'가격이없음', 'writer':'김길동'},\\n]\",\n",
       "  \"# 제목순 정렬(ㄱㄴㄷ순)\\nbooks.sort(key = lambda book : book.get('title'))\\nbooks\",\n",
       "  \"# 저자순 정렬(ㄱㄴㄷ순)\\nbooks.sort(key = lambda book : book.get('writer'))\\nbooks\",\n",
       "  \"# 가격순\\nbooks.sort(key = lambda book : book.get('price'))\\nbooks\",\n",
       "  \"# 가격순\\nbooks.sort(key = lambda book : book.get('price', 0))\\nbooks\",\n",
       "  \"# 가격순\\n# '14,000' => 14000 / 800 => 800 / '-' => 0\\ndef parse_int(price) :\\n    print(type(price))\",\n",
       "  'parse_int(800)',\n",
       "  'parse_int(\"800\")',\n",
       "  \"# 가격순\\n# '14,000' => 14000 / 800 => 800 / '-' => 0\\ndef parse_int(price) :\\n#     print(type(price))\\n    if isinstance(price, int) :\\n        return price\",\n",
       "  'parse_int(800)',\n",
       "  'parse_int(\"800\")',\n",
       "  '# 가격순\\n# \\'14,000\\' => 14000 / \"2000\" => 2000 / 800 => 800 / \\'-\\' => 0\\ndef parse_int(price) :\\n#     print(type(price))\\n    if price.replace(\\',\\',\\'\\').isdigit() :\\n        return int(price.replace(\\',\\',\\'\\'))\\n    elif isinstance(price, int) :\\n        return price',\n",
       "  'parse_int(\"8,000\")',\n",
       "  'parse_int(8000)',\n",
       "  '# 가격순\\n# \\'14,000\\' => 14000 / \"2000\" => 2000 / 800 => 800 / \\'-\\' => 0\\ndef parse_int(price) :\\n#     print(type(price))\\n    if isinstance(price, str) and price.replace(\\',\\',\\'\\').isdigit() :\\n        return int(price.replace(\\',\\',\\'\\'))\\n    elif isinstance(price, int) :\\n        return price',\n",
       "  '# 가격순\\n# \\'14,000\\' => 14000 / \"2000\" => 2000 / 800 => 800 / \\'-\\' => 0\\ndef parse_int(price) :\\n#     print(type(price))\\n    if isinstance(price, str) and price.replace(\\',\\',\\'\\').isdigit() :\\n        return int(price.replace(\\',\\',\\'\\'))\\n    elif isinstance(price, int) :\\n        return price',\n",
       "  'parse_int(8000)',\n",
       "  'parse_int(\"8,000\")',\n",
       "  'parse_int(\"8,000\"), parse_int(\"8000\"), parse_int(800), parse_int(\"-\")',\n",
       "  '# 가격순\\n# \\'14,000\\' => 14000 / \"2000\" => 2000 / 800 => 800 / \\'-\\' => 0\\ndef parse_int(price) :\\n#     print(type(price))\\n    if isinstance(price, str) and price.replace(\\',\\',\\'\\').isdigit() :\\n        return int(price.replace(\\',\\',\\'\\'))\\n    elif isinstance(price, int) :\\n        return price\\n    else :\\n        return 0',\n",
       "  'parse_int(\"8,000\"), parse_int(\"8000\"), parse_int(800), parse_int(\"-\")',\n",
       "  \"# {'no':6, 'title':'가격이없음', 'writer':'김길동'}\\n# {'no': 3, 'title': '흔한남매 19', 'writer': '백난도', 'price': '14,220'}\\n# {'no': 5, 'title': '가격이숫자', 'writer': '신길동', 'price': 900}\\ndef parse_int(book) :\\n    if isinstance(book.get('price'), str) and \\\\\\n            book.get('price').replace(',','').isdigit() :\\n        return int(book.get('price').replace(',',''))\\n    elif isinstance(book.get('price'), int) :\\n        return book.get('price')\\n    else :\\n        return 0\\nparse_int(books[0]), parse_int(books[3]), parse_int(books[2]), parse_int(books[5]),\",\n",
       "  \"books =[\\n    {'no':1, 'title':'강남 아파트 인사이트', 'writer':'오스틀', 'price':'25,200'},\\n    {'no':2, 'title':'단 한 번의 삶', 'writer':'김영하', 'price':'18,100'},\\n    {'no':3, 'title':'흔한남매 19', 'writer':'백난도', 'price':'14,220'},\\n    {'no':4, 'title':'가격이잘못', 'writer':'홍길동', 'price':'-'},\\n    {'no':5, 'title':'가격이숫자', 'writer':'신길동', 'price':900},\\n    {'no':6, 'title':'가격이없음', 'writer':'김길동'},\\n]\\ncopy_books = books.copy()\\ncopy_books.sort(key = lambda book :\\n                int(book.get('price').replace(',','')) \\\\\\n                    if isinstance(book.get('price'), str) and \\\\\\n                        book.get('price').replace(',','').isdigit() else \\\\\\n                book.get('price') if isinstance(isinstance(book.get('price'), int) else \\\\\\n                0,\\n                                                \\n                )\",\n",
       "  \"books =[\\n    {'no':1, 'title':'강남 아파트 인사이트', 'writer':'오스틀', 'price':'25,200'},\\n    {'no':2, 'title':'단 한 번의 삶', 'writer':'김영하', 'price':'18,100'},\\n    {'no':3, 'title':'흔한남매 19', 'writer':'백난도', 'price':'14,220'},\\n    {'no':4, 'title':'가격이잘못', 'writer':'홍길동', 'price':'-'},\\n    {'no':5, 'title':'가격이숫자', 'writer':'신길동', 'price':900},\\n    {'no':6, 'title':'가격이없음', 'writer':'김길동'},\\n]\\ncopy_books = books.copy()\\ncopy_books.sort(key = lambda book :\\n                int(book.get('price').replace(',','')) \\\\\\n                    if isinstance(book.get('price'), str) and \\\\\\n                        book.get('price').replace(',','').isdigit() else \\\\\\n                book.get('price') if isinstance(isinstance(book.get('price'), int) else \\\\\\n                0\\n                                                \\n                )\",\n",
       "  \"books =[\\n    {'no':1, 'title':'강남 아파트 인사이트', 'writer':'오스틀', 'price':'25,200'},\\n    {'no':2, 'title':'단 한 번의 삶', 'writer':'김영하', 'price':'18,100'},\\n    {'no':3, 'title':'흔한남매 19', 'writer':'백난도', 'price':'14,220'},\\n    {'no':4, 'title':'가격이잘못', 'writer':'홍길동', 'price':'-'},\\n    {'no':5, 'title':'가격이숫자', 'writer':'신길동', 'price':900},\\n    {'no':6, 'title':'가격이없음', 'writer':'김길동'},\\n]\\ncopy_books = books.copy()\",\n",
       "  \"copy_books.sort(key = lambda book :\\n                int(book.get('price').replace(',','')) \\\\\\n                    if isinstance(book.get('price'), str) and \\\\\\n                        book.get('price').replace(',','').isdigit() else \\\\\\n                book.get('price') if isinstance(isinstance(book.get('price'), int) else \\\\\\n                0                          \\n                )\",\n",
       "  \"copy_books.sort(key = lambda book :\\n                int(book.get('price').replace(',','')) \\\\\\n                    if isinstance(book.get('price'), str) and \\\\\\n                        book.get('price').replace(',','').isdigit() else \\\\\\n                book.get('price') if isinstance(book.get('price'), int) else \\\\\\n                0                          \\n                )\",\n",
       "  \"(lambda book :\\n               int(book.get('price').replace(',','')) \\\\\\n                    if isinstance(book.get('price'), str) and \\\\\\n                        book.get('price').replace(',','').isdigit() else \\\\\\n                book.get('price') if isinstance(book.get('price'), int) else \\\\\\n                0)(books[0])\",\n",
       "  \"# {'no':6, 'title':'가격이없음', 'writer':'김길동'}\\n# {'no': 3, 'title': '흔한남매 19', 'writer': '백난도', 'price': '14,220'}\\n# {'no': 5, 'title': '가격이숫자', 'writer': '신길동', 'price': 900}\\ndef parse_int(book) :\\n    if isinstance(book.get('price'), str) and \\\\\\n                 book.get('price').replace(',','').isdigit() :\\n        return int(book.get('price').replace(',',''))\\n    elif isinstance(book.get('price'), int) :\\n        return book.get('price')\\n    else :\\n        return 0\\nparse_int(books[0]), parse_int(books[3]), parse_int(books[2]), parse_int(books[5]),\",\n",
       "  '# 가격순\\n# \\'14,000\\' => 14000 / \"2000\" => 2000 / 800 => 800 / \\'-\\' => 0\\ndef parse_int(price) :\\n#     print(type(price))\\n    if isinstance(price, str) and price.replace(\\',\\',\\'\\').isdigit() :\\n        return int(price.replace(\\',\\',\\'\\'))\\n    elif isinstance(price, int) :\\n        return price\\n    else :\\n        return 0',\n",
       "  \"# 제목순 정렬(ㄱㄴㄷ순)\\nbooks.sort(key = lambda book : book.get('title'))\\nbooks\",\n",
       "  \"# 저자순 정렬(ㄱㄴㄷ순)\\nbooks.sort(key = lambda book : book.get('writer'))\\nbooks\",\n",
       "  '# 가격순\\n# \\'14,000\\' => 14000 / \"2000\" => 2000 / 800 => 800 / \\'-\\' => 0\\ndef parse_int(price) :\\n#     print(type(price))\\n    if isinstance(price, str) and price.replace(\\',\\',\\'\\').isdigit() :\\n        return int(price.replace(\\',\\',\\'\\'))\\n    elif isinstance(price, int) :\\n        return price\\n    else :\\n        return 0',\n",
       "  'parse_int(\"8,000\"), parse_int(\"8000\"), parse_int(800), parse_int(\"-\")',\n",
       "  \"# {'no':6, 'title':'가격이없음', 'writer':'김길동'}\\n# {'no': 3, 'title': '흔한남매 19', 'writer': '백난도', 'price': '14,220'}\\n# {'no': 5, 'title': '가격이숫자', 'writer': '신길동', 'price': 900}\\ndef parse_int(book) :\\n    if isinstance(book.get('price'), str) and \\\\\\n                 book.get('price').replace(',','').isdigit() :\\n        return int(book.get('price').replace(',',''))\\n    elif isinstance(book.get('price'), int) :\\n        return book.get('price')\\n    else :\\n        return 0\\nparse_int(books[0]), parse_int(books[3]), parse_int(books[2]), parse_int(books[5]),\",\n",
       "  \"# books =[\\n#     {'no':1, 'title':'강남 아파트 인사이트', 'writer':'오스틀', 'price':'25,200'},\\n#     {'no':2, 'title':'단 한 번의 삶', 'writer':'김영하', 'price':'18,100'},\\n#     {'no':3, 'title':'흔한남매 19', 'writer':'백난도', 'price':'14,220'},\\n#     {'no':4, 'title':'가격이잘못', 'writer':'홍길동', 'price':'-'},\\n#     {'no':5, 'title':'가격이숫자', 'writer':'신길동', 'price':900},\\n#     {'no':6, 'title':'가격이없음', 'writer':'김길동'},\\n# ]\\ncopy_books = books.copy()\",\n",
       "  \"copy_books.sort(key = lambda book :\\n                int(book.get('price').replace(',','')) \\\\\\n                    if isinstance(book.get('price'), str) and \\\\\\n                        book.get('price').replace(',','').isdigit() else \\\\\\n                book.get('price') if isinstance(book.get('price'), int) else \\\\\\n                0                          \\n                )\",\n",
       "  \"(lambda book :\\n               int(book.get('price').replace(',','')) \\\\\\n                    if isinstance(book.get('price'), str) and \\\\\\n                        book.get('price').replace(',','').isdigit() else \\\\\\n                book.get('price') if isinstance(book.get('price'), int) else \\\\\\n                0)(books[0])\",\n",
       "  \"(lambda book :\\n               int(book.get('price').replace(',','')) \\\\\\n                    if isinstance(book.get('price'), str) and \\\\\\n                        book.get('price').replace(',','').isdigit() else \\\\\\n                book.get('price') if isinstance(book.get('price'), int) else \\\\\\n                0)(books)\",\n",
       "  \"(lambda book :\\n               int(book.get('price').replace(',','')) \\\\\\n                    if isinstance(book.get('price'), str) and \\\\\\n                        book.get('price').replace(',','').isdigit() else \\\\\\n                book.get('price') if isinstance(book.get('price'), int) else \\\\\\n                0)(books[0])\",\n",
       "  '# 함수를 return\\ndef make_box(shape) : # shape : [l] -> len가 l인 list를 생성하는 함수 return,\\n#                                 [r, c] -> r행 c열인 list를 생성하는 함수 return,\\n#                                 [d, r, c] -> d면 r행 c열 3차원 list를 생성하는 함수 return\\n    def box(init_value) :\\n        if len(shape)==1 :\\n            return [init_value]*shape[0]\\n        elif len(shape)==2 :\\n            return [ [init_value]*shape[1] ] * shape[0]\\n    return box',\n",
       "  'line_func = make_box([2, 3])\\nline_func(3)',\n",
       "  'def make_box(shape) :\\n    if len(shape)==1 :\\n        return lambda init_value : [init_value]*shape[0]\\n    elif len(shape)==2 :\\n        return lambda [ [init_value]*shape[1] ] * shape[0]',\n",
       "  'def make_box(shape) :\\n    if len(shape)==1 :\\n        return lambda init_value : [init_value]*shape[0]\\n    elif len(shape)==2 :\\n        return lambda init_value : [ [init_value]*shape[1] ] * shape[0]',\n",
       "  'globals() # 전역변수 리스트'],\n",
       " '_oh': {2: [2, 4, 6, 8, 10, 12, 14, 16, 18, 20],\n",
       "  4: [2],\n",
       "  7: [2],\n",
       "  9: [2, 4, 6, 8, 10, 12, 14, 16, 18, 20],\n",
       "  12: [2, 4, 6, 8, 10, 12, 14, 16, 18, 20],\n",
       "  13: [2, 4, 6, 8, 10, 12, 14, 16, 18, 20],\n",
       "  15: [2, 4, 6, 8, 10, 12, 14, 16, 18, 20],\n",
       "  17: [2, 4, 6, 8, 10, 12, 14, 16, 18, 20],\n",
       "  20: (5000, 1800),\n",
       "  24: (5000, 1800),\n",
       "  25: [5000, 800, 1000, 6000],\n",
       "  29: {'year': 2000, 'month': 1, 'day': 1},\n",
       "  30: {'year': 2000, 'month': 1, 'day': 1},\n",
       "  35: {'name': '홍길동', 'year': 2000, 'month': 1, 'day': 1},\n",
       "  37: [{'name': '홍길동', 'year': 2000, 'month': 1, 'day': 1},\n",
       "   {'name': '신길동', 'year': 1998, 'month': 12, 'day': 31}],\n",
       "  43: '2000-01-01',\n",
       "  49: [{'name': '홍길동', 'birth': '2000-01-01'},\n",
       "   {'name': '신길동', 'birth': '1998-12-31'}],\n",
       "  51: (True, False),\n",
       "  52: [2, 4],\n",
       "  53: [2, 4],\n",
       "  54: [2, 4],\n",
       "  55: [2, 7, 9],\n",
       "  56: [9, 7, 2],\n",
       "  57: [[10, 1], [9, 9], [1, 100]],\n",
       "  58: [(4, 'four'), (1, 'one'), (3, 'three'), (2, 'two')],\n",
       "  60: [(4, 'four'), (1, 'one'), (3, 'three'), (2, 'two')],\n",
       "  61: [[1, 100], [9, 9, 9, 9, 9], [10, 1]],\n",
       "  62: [[1, 100], [9, 9, 9, 9, 9], [10, 1]],\n",
       "  63: [[1, 100], [9, 9, 9, 9, 9], [10, 1]],\n",
       "  64: [[1, 100], [9, 9, 9, 9, 9], [10, 1]],\n",
       "  65: 6,\n",
       "  75: [{'name': '김길동', 'score': 50},\n",
       "   {'name': '윤길동', 'score': 99},\n",
       "   {'name': '홍길동', 'score': 90}],\n",
       "  79: [{'score': 100},\n",
       "   {'name': '윤길동', 'score': 99},\n",
       "   {'name': '홍길동', 'score': 90},\n",
       "   {'name': '김길동', 'score': 50}],\n",
       "  80: [{'score': 100},\n",
       "   {'name': '윤길동', 'score': 99},\n",
       "   {'name': '홍길동', 'score': 90},\n",
       "   {'name': '김길동', 'score': 50}],\n",
       "  81: [{'score': 100},\n",
       "   {'name': '윤길동', 'score': 99},\n",
       "   {'name': '홍길동', 'score': 90},\n",
       "   {'name': '김길동', 'score': 50}],\n",
       "  82: [{'score': 100},\n",
       "   {'name': '윤길동', 'score': 99},\n",
       "   {'name': '홍길동', 'score': 90},\n",
       "   {'name': '김길동', 'score': 50}],\n",
       "  84: [{'no': 6, 'title': '가격이없음', 'writer': '김길동'},\n",
       "   {'no': 2, 'title': '단 한 번의 삶', 'writer': '김영하', 'price': '18,100'},\n",
       "   {'no': 3, 'title': '흔한남매 19', 'writer': '백난도', 'price': '14,220'},\n",
       "   {'no': 5, 'title': '가격이숫자', 'writer': '신길동', 'price': 900},\n",
       "   {'no': 1, 'title': '강남 아파트 인사이트', 'writer': '오스틀', 'price': '25,200'},\n",
       "   {'no': 4, 'title': '가격이잘못', 'writer': '홍길동', 'price': '-'}],\n",
       "  85: [{'no': 6, 'title': '가격이없음', 'writer': '김길동'},\n",
       "   {'no': 2, 'title': '단 한 번의 삶', 'writer': '김영하', 'price': '18,100'},\n",
       "   {'no': 3, 'title': '흔한남매 19', 'writer': '백난도', 'price': '14,220'},\n",
       "   {'no': 5, 'title': '가격이숫자', 'writer': '신길동', 'price': 900},\n",
       "   {'no': 1, 'title': '강남 아파트 인사이트', 'writer': '오스틀', 'price': '25,200'},\n",
       "   {'no': 4, 'title': '가격이잘못', 'writer': '홍길동', 'price': '-'}],\n",
       "  92: 800,\n",
       "  95: 8000,\n",
       "  99: 8000,\n",
       "  100: 8000,\n",
       "  101: (8000, 8000, 800, None),\n",
       "  103: (8000, 8000, 800, 0),\n",
       "  104: (0, 900, 14220, 0),\n",
       "  110: 25200,\n",
       "  111: (25200, 0, 14220, 0),\n",
       "  113: [{'no': 6, 'title': '가격이없음', 'writer': '김길동'},\n",
       "   {'no': 2, 'title': '단 한 번의 삶', 'writer': '김영하', 'price': '18,100'},\n",
       "   {'no': 3, 'title': '흔한남매 19', 'writer': '백난도', 'price': '14,220'},\n",
       "   {'no': 5, 'title': '가격이숫자', 'writer': '신길동', 'price': 900},\n",
       "   {'no': 1, 'title': '강남 아파트 인사이트', 'writer': '오스틀', 'price': '25,200'},\n",
       "   {'no': 4, 'title': '가격이잘못', 'writer': '홍길동', 'price': '-'}],\n",
       "  114: [{'no': 6, 'title': '가격이없음', 'writer': '김길동'},\n",
       "   {'no': 2, 'title': '단 한 번의 삶', 'writer': '김영하', 'price': '18,100'},\n",
       "   {'no': 3, 'title': '흔한남매 19', 'writer': '백난도', 'price': '14,220'},\n",
       "   {'no': 5, 'title': '가격이숫자', 'writer': '신길동', 'price': 900},\n",
       "   {'no': 1, 'title': '강남 아파트 인사이트', 'writer': '오스틀', 'price': '25,200'},\n",
       "   {'no': 4, 'title': '가격이잘못', 'writer': '홍길동', 'price': '-'}],\n",
       "  116: (8000, 8000, 800, 0),\n",
       "  117: (0, 900, 14220, 0),\n",
       "  120: 0,\n",
       "  122: 0,\n",
       "  124: [[3, 3, 3], [3, 3, 3]]},\n",
       " '_dh': [WindowsPath('C:/ai_x/source/01_python')],\n",
       " 'In': ['',\n",
       "  \"def map_template(func,  L=[1, 2, 3]) :\\n    '''\\n    L의 모든 요소를 func()함수를 적용시켜 return\\n    [2,4,6]\\n    '''\\n#     result = []\\n#     for l in L :\\n#         result.append(func(l))\\n#         return result\\n    return [func(l) for l in L]\",\n",
       "  'list_data = [1, 2, 3, 4, 5, 6, 7, 8, 9, 10]\\ndef x_2(x) :\\n    return x*2\\nmap_template(x_2, list_data)',\n",
       "  \"def map_template(func,  L=[1, 2, 3]) :\\n    '''\\n    L의 모든 요소를 func()함수를 적용시켜 return\\n    '''\\n    result = []\\n    for l in L :\\n        result.append(func(l))\\n        return result\\n#     return [func(l) for l in L]\",\n",
       "  'list_data = [1, 2, 3, 4, 5, 6, 7, 8, 9, 10]\\ndef x_2(x) :\\n    return x*2\\nmap_template(x_2, list_data)',\n",
       "  \"def map_template(func,  L=[1, 2, 3]) :\\n    '''\\n    L의 모든 요소를 func()함수를 적용시켜 return\\n    '''\\n    result = []\\n    for l in L :\\n        result.append(func(l))\\n        return result\\n#     return [func(l) for l in L]\",\n",
       "  \"def map_template(func,  L=[]) :\\n    '''\\n    L의 모든 요소를 func()함수를 적용시켜 return\\n    '''\\n    result = []\\n    for l in L :\\n        result.append(func(l))\\n        return result\\n#     return [func(l) for l in L]\",\n",
       "  'list_data = [1, 2, 3, 4, 5, 6, 7, 8, 9, 10]\\ndef x_2(x) :\\n    return x*2\\nmap_template(x_2, list_data)',\n",
       "  \"def map_template(func,  L=[]) :\\n    '''\\n    L의 모든 요소를 func()함수를 적용시켜 return\\n    '''\\n    result = []\\n    for l in L :\\n        result.append(func(l))\\n    return result\\n#     return [func(l) for l in L]\",\n",
       "  'list_data = [1, 2, 3, 4, 5, 6, 7, 8, 9, 10]\\ndef x_2(x) :\\n    return x*2\\nmap_template(x_2, list_data)',\n",
       "  \"def map_template(func,  L=[]) :\\n    '''\\n    L의 모든 요소를 func()함수를 적용시켜 return\\n    '''\\n    result = []\\n    for l in L :\\n        result.append(func(l))\\n    return result\\n#     return [func(l) for l in L]\",\n",
       "  'list_data = [1, 2, 3, 4, 5, 6, 7, 8, 9, 10]\\nmap_template(lambda x x*2, list_data)\\n# def x_2(x) :\\n#     return x*2\\n# map_template(x_2, list_data)',\n",
       "  'list_data = [1, 2, 3, 4, 5, 6, 7, 8, 9, 10]\\nmap_template(lambda x : x*2, list_data)\\n# def x_2(x) :\\n#     return x*2\\n# map_template(x_2, list_data)',\n",
       "  '# 리스트 데이터를 가공 방법 2. 리스트 컴프리헨션\\n[l*2 for l in list_data]',\n",
       "  '# 리스트 데이터를 가공 방법 3. map() : python 내장함수\\nlist(for item in map(lambda x : x*2, list_data))',\n",
       "  '# 리스트 데이터를 가공 방법 2. 리스트 컴프리헨션\\n[l*2 for l in list_data]',\n",
       "  \"# 리스트 데이터를 가공 방법 3. map() : python 내장함수\\nfor item in map(lambda x : x*2, list_data) :\\n    print(item, end=' ')\",\n",
       "  '# 리스트 데이터를 가공 방법 3. map() : python 내장함수\\nlist(map(lambda x : x*2, list_data))',\n",
       "  'def func(x) :\\n    return int(x.replace(\\',\\',\\'\\'))\\nfnunc(\"5,000\", func(\"1800\"))',\n",
       "  'def func(x) :\\n    return int(x.replace(\\',\\',\\'\\'))\\nfunc(\"5,000\", func(\"1800\"))',\n",
       "  'def func(x) :\\n    return int(x.replace(\\',\\',\\'\\'))\\nfunc(\"5,000\"), func(\"1800\")',\n",
       "  \"list(map(lambda x :int(x.replace(',','')),pricces))\",\n",
       "  \"list(map(lambda x :int(x.replace(',','')),prices))\",\n",
       "  \"'''\\n예제 1. [5000, 800, 1000, 6000]로 바꾸시오\\n'''\\nprices = ['5,000', '800', '1000', '6,000']\",\n",
       "  'def func(x) :\\n    return int(x.replace(\\',\\',\\'\\'))\\nfunc(\"5,000\"), func(\"1800\")',\n",
       "  \"list(map(lambda x :int(x.replace(',','')),prices))\",\n",
       "  \"# '2000-01-01' => {'year':1998, 'month':12, 'day':31}\\ndef split_date(date) :\\n    split_data = date.split('-')\\n#     print(split_data[0], split_data[1], split_data[2])\\n    return {'year':int(split_data[0]),\\n           'month':int(split_data[1]).\\n            'day' :int(split_data[2])\\n           }\",\n",
       "  \"# '2000-01-01' => {'year':1998, 'month':12, 'day':31}\\ndef split_date(date) :\\n    split_data = date.split('-')\\n#     print(split_data[0], split_data[1], split_data[2])\\n    return {'year':int(split_data[0]),\\n           'month':int(split_data[1]).\\n            'day':int(split_data[2])\\n           }\",\n",
       "  \"# '2000-01-01' => {'year':1998, 'month':12, 'day':31}\\ndef split_date(date) :\\n    split_data = date.split('-')\\n#     print(split_data[0], split_data[1], split_data[2])\\n    return {'year':int(split_data[0]),\\n           'month':int(split_data[1]),\\n            'day':int(split_data[2])\\n           }\",\n",
       "  \"split_date('2000-01-01')\",\n",
       "  \"split_date('2000-01-01')\",\n",
       "  \"for item in map(lambda x : x*2, list_data) :\\n    print(item, end=' ')\",\n",
       "  '\\'\\'\\'\\n예제3. member2를 member1로 바꿈\\n\\'\\'\\'\\ndef member_func(member) : # {\\'name\\' : \\'홍길동\\', \\'birth\\' : \\'2000-01-01\\'}\\n    \"{\\'name\\' : \\'신길동\\', \\'year\\':1998, \\'month\\':12, \\'day\\':31} 식으로 return\"\\n    return {\\n            \\'name\\':member.get(\\'name\\'),\\n            \\'year\\':int(member[\\'birth\\'].split(\\'-\\')[0]),\\n            \\'month\\':int(member[\\'birth\\'].split(\\'-\\')[1]),\\n            \\'day\\':int(member[\\'birth\\'].split(\\'-\\')[2]),\\n    }\\n    ',\n",
       "  '\\'\\'\\'\\n예제3. member2를 member1로 바꿈\\n\\'\\'\\'\\ndef member_func(member) : # {\\'name\\' : \\'홍길동\\', \\'birth\\' : \\'2000-01-01\\'}\\n    \"{\\'name\\' : \\'신길동\\', \\'year\\':1998, \\'month\\':12, \\'day\\':31} 식으로 return\"\\n    return {\\n            \\'name\\':member.get(\\'name\\'),\\n            \\'year\\':int(member[\\'birth\\'].split(\\'-\\')[0]),\\n            \\'month\\':int(member[\\'birth\\'].split(\\'-\\')[1]),\\n            \\'day\\':int(member[\\'birth\\'].split(\\'-\\')[2]),\\n    }\\nmember_func(member1[0])',\n",
       "  \"'''\\n예제 2. member1 = [{'name' : '홍길동', 'birth' : '2000-01-01'},\\n                    {'name' : '신길동', 'birth' : '1998-12-31'}]를\\n        member2 = [{'name' : '홍길동', 'year':2000, 'month':1, 'day':1},\\n                    {'name' : '신길동', 'year':1998, 'month':12, 'day':31}]로 바꿈\\n'''\\nmember1 = [{'name' : '홍길동', 'birth' : '2000-01-01'},\\n            {'name' : '신길동', 'birth' : '1998-12-31'}]\",\n",
       "  '\\'\\'\\'\\n예제3. member2를 member1로 바꿈\\n\\'\\'\\'\\ndef member_func(member) : # {\\'name\\' : \\'홍길동\\', \\'birth\\' : \\'2000-01-01\\'}\\n    \"{\\'name\\' : \\'신길동\\', \\'year\\':1998, \\'month\\':12, \\'day\\':31} 식으로 return\"\\n    return {\\n            \\'name\\':member.get(\\'name\\'),\\n            \\'year\\':int(member[\\'birth\\'].split(\\'-\\')[0]),\\n            \\'month\\':int(member[\\'birth\\'].split(\\'-\\')[1]),\\n            \\'day\\':int(member[\\'birth\\'].split(\\'-\\')[2]),\\n    }\\nmember_func(member1[0])',\n",
       "  \"list(map(lambda member : {\\n                        'name':member.get('name'),\\n                        'year':int(member['birth'].split('-')[0]),\\n                        'month':int(member['birth'].split('-')[1]),\\n                        'day':int(member['birth'].split('-')[2]),\\n                         },\\n        )\\n    )\",\n",
       "  \"list(map(lambda member : {\\n                        'name':member.get('name'),\\n                        'year':int(member['birth'].split('-')[0]),\\n                        'month':int(member['birth'].split('-')[1]),\\n                        'day':int(member['birth'].split('-')[2]),\\n                         },\\n       member1 )\\n    )\",\n",
       "  '#{\\'year:2000, \\'month\\':1, \\'day\\':1} => \"2000-01-01\"를 return하는 함수\\ndef join_date(data) :\\n    print(data)',\n",
       "  \"join_date({'year':2000, 'month':1, 'day':1})\",\n",
       "  '#{\\'year:2000, \\'month\\':1, \\'day\\':1} => \"2000-01-01\"를 return하는 함수\\ndef join_date(data) :\\n        print([data.get(\\'year\\'), data.get(\\'month\\'), data.get(\\'day\\')])\\n        return \\'-\\'.join([data.get(\\'year\\'), data.get(\\'month\\'), data.get(\\'day\\')])',\n",
       "  \"join_date({'year':2000, 'month':1, 'day':1})\",\n",
       "  '#{\\'year:2000, \\'month\\':1, \\'day\\':1} => \"2000-01-01\"를 return하는 함수\\ndef join_date(data) :\\n        print([data.get(\\'year\\'), data.get(\\'month\\'), data.get(\\'day\\')])\\n        year = str(data.get(\\'year\\'))\\n        month = data.get(\\'month\\')\\n        if month < 10 :\\n            month = \\'0\\'+str(month)\\n        else :\\n            month = str(month)\\n        \\n        day = data.get(\\'day\\')\\n        if day < 10 :\\n           day = \\'0\\'+str(day)\\n        else :\\n            day = str(day)\\n        \\n        return \\'-\\'.join([year, month, day])',\n",
       "  \"join_date({'year':2000, 'month':1, 'day':1})\",\n",
       "  'def join_date(data) :\\n    return \"{year}-{month:02}-{day:02}\".format(**data)',\n",
       "  '# {\\'name\\': \\'홍길동\\', \\'year\\': 2000, \\'month\\': 1, \\'day\\': 1}(member12를\\n# {\\'name\\' : \\'홍길동\\', \\'birth\\' : \\'2000-01-01\\'}(member1)으로 가공\\nlist(map(lambda member : {\\n                            \\'name\\' : member.get(\\'name\\'),\\n                            \\'birth\\' : \"{year}-{month:02}-{day:02}\".format(**member)\\n                          },\\n         member2\\n        )\\n    )',\n",
       "  '# {\\'name\\': \\'홍길동\\', \\'year\\': 2000, \\'month\\': 1, \\'day\\': 1}(member12를\\n# {\\'name\\' : \\'홍길동\\', \\'birth\\' : \\'2000-01-01\\'}(member1)으로 가공\\nlist(map(lambda member : {\\n                            \\'name\\' : member.get(\\'name\\'),\\n                            \\'birth\\' : \"{year}-{month:02}-{day:02}\".format(**member)\\n                          },\\n         member2\\n        )\\n    )',\n",
       "  \"'''\\n예제 2. member1 = [{'name' : '홍길동', 'birth' : '2000-01-01'},\\n                    {'name' : '신길동', 'birth' : '1998-12-31'}]를\\n        member2 = [{'name' : '홍길동', 'year':2000, 'month':1, 'day':1},\\n                    {'name' : '신길동', 'year':1998, 'month':12, 'day':31}]로 바꿈\\n'''\\nmember1 = [{'name' : '홍길동', 'birth' : '2000-01-01'},\\n            {'name' : '신길동', 'birth' : '1998-12-31'}]\\n member2 = [{'name' : '홍길동', 'year':2000, 'month':1, 'day':1},\\n                    {'name' : '신길동', 'year':1998, 'month':12, 'day':31}]\",\n",
       "  \"'''\\n예제 2. member1 = [{'name' : '홍길동', 'birth' : '2000-01-01'},\\n                    {'name' : '신길동', 'birth' : '1998-12-31'}]를\\n        member2 = [{'name' : '홍길동', 'year':2000, 'month':1, 'day':1},\\n                    {'name' : '신길동', 'year':1998, 'month':12, 'day':31}]로 바꿈\\n'''\\nmember1 = [{'name' : '홍길동', 'birth' : '2000-01-01'},\\n            {'name' : '신길동', 'birth' : '1998-12-31'}]\\nmember2 = [{'name' : '홍길동', 'year':2000, 'month':1, 'day':1},\\n                    {'name' : '신길동', 'year':1998, 'month':12, 'day':31}]\",\n",
       "  '# {\\'name\\': \\'홍길동\\', \\'year\\': 2000, \\'month\\': 1, \\'day\\': 1}(member12를\\n# {\\'name\\' : \\'홍길동\\', \\'birth\\' : \\'2000-01-01\\'}(member1)으로 가공\\nlist(map(lambda member : {\\n                            \\'name\\' : member.get(\\'name\\'),\\n                            \\'birth\\' : \"{year}-{month:02}-{day:02}\".format(**member)\\n                          },\\n         member2\\n        )\\n    )',\n",
       "  '# [1, 2, 3, 4, 5] => \\ndef filter_template(func, L=[]) :\\n    result = []\\n    for l in L :\\n        if func(l) :\\n            result.append(l)\\n    return result',\n",
       "  'def  evenChk(value) :\\n    return value%2==0\\nevenChk(10), evenChk(-9)',\n",
       "  'list_data = [1, 2, 3, 4, 5]\\nfilter_template(lambda value : value%2==0, list_data)',\n",
       "  'list(filter(lambda value : value%2==0, list_data))',\n",
       "  '[data for data in list_data if data%2==0]',\n",
       "  'p = [9, 2, 7]\\np.sort()\\np',\n",
       "  'p = [9, 2, 7]\\np.sort(reverse=True)\\np',\n",
       "  'number2d = [[9, 9],\\n            [1, 100],\\n            [10, 1]]\\nnumber2d.sort(reverse=True)\\nnumber2d',\n",
       "  \"pairs = [(2, 'two'), (1, 'one'), (4, 'four'), (3, 'three')]\\npairs.sort()\\npairs\",\n",
       "  '# 1번째 item 기준으로 정렬(abc순)\\npairs,sort(key=lambda pair : pair[1])\\npairs',\n",
       "  '# 1번째 item 기준으로 정렬(abc순)\\npairs.sort(key=lambda pair : pair[1])\\npairs',\n",
       "  '# 무조건 0번 item기준으로 정렬\\nnumber2d = [[9, 9, 9, 9, 9],\\n            [1, 100],\\n            [10, 1]]\\nnumber2d.sort(reverse=True) # 기본(reverse=False): 오름차순정렬 / reverse=True : 내림차순정렬\\nnumber2d',\n",
       "  '# 합이 큰 순으로 정렬\\nnumber2d.sort(key = lambda item : sum(item))\\nnumber2d',\n",
       "  '# 합이 큰 순으로 정렬\\nnumber2d.sort(key = lambda item : sum(item), reverse=True)\\nnumber2d',\n",
       "  '# 합이 큰 순으로 정렬\\nnumber2d.sort(key = lambda item : sum(item), reverse=True)\\nnumber2d',\n",
       "  '# 리스트를 매개변수로 받아 합을 return\\n(lambda item : sum(item))([1, 2, 3])',\n",
       "  \"students = [\\n    {'name':'홍길동', 'kor':90},\\n    {'name':'김길동', 'kor':50},\\n    {'name':'윤길동', 'kor':99},\\n]\",\n",
       "  '# 이름순으로 정렬(ㄱㄴㄷ순)\\nstudents.sort()\\nstudents',\n",
       "  '# 이름순으로 정렬(ㄱㄴㄷ순)\\nstudents.sort(**student)\\nstudents',\n",
       "  '# 이름순으로 정렬(ㄱㄴㄷ순)\\nstudents.sort(**students)\\nstudents',\n",
       "  '# 이름순으로 정렬(ㄱㄴㄷ순)\\nstudents.sort(*students)\\nstudents',\n",
       "  '# 이름순으로 정렬(ㄱㄴㄷ순)\\nstudents.sort(**students)\\nstudents',\n",
       "  '# 이름순으로 정렬(ㄱㄴㄷ순)\\nlist_stu = students.sort(**students)\\nstudents',\n",
       "  '# 이름순으로 정렬(ㄱㄴㄷ순)\\nlist_stu = students.sort(*students)\\nstudents',\n",
       "  \"students = [\\n    {'name':'홍길동', 'score':90},\\n    {'name':'김길동', 'score':50},\\n    {'name':'윤길동', 'score':99},\\n]\",\n",
       "  \"# 이름순으로 정렬(ㄱㄴㄷ순)\\nstudents.sort(key = lambda item : item.get('name'))\\nstudents\",\n",
       "  \"students = [\\n    {'name':'홍길동', 'score':90},\\n    {'name':'김길동', 'score':50},\\n    {'name':'윤길동', 'score':99},\\n     'score':100\\n]\",\n",
       "  \"students = [\\n    {'name':'홍길동', 'score':90},\\n    {'name':'김길동', 'score':50},\\n    {'name':'윤길동', 'score':99},\\n    {'score':100}\\n]\",\n",
       "  \"# 이름순으로 정렬(ㄱㄴㄷ순)\\nstudents.sort(key = lambda item : item.get('name'))\\nstudents\",\n",
       "  \"# 이름순으로 정렬(ㄱㄴㄷ순)\\nstudents.sort(key = lambda item : item.get('name', '힣'))\\nstudents\",\n",
       "  \"# score순으로 정렬(내림차순정렬)\\nstudents.sort(key = lambda item : item.get('score', 0))\\nstudents\",\n",
       "  \"# score순으로 정렬(내림차순정렬)\\nstudents.sort(key = lambda item : item.get('score', 0), reverse=True)\\nstudents\",\n",
       "  \"# score순으로 정렬(내림차순정렬 : reverse=True)\\nstudents.sort(key = lambda item : item.get('score', 0), reverse=True)\\nstudents\",\n",
       "  \"# 책제목순 정렬(ㄱㄴㄷ순), 저자순 정렬(ㄱㄴㄷ순), 가격순 정렬\\nbooks =[\\n    {'no':1, 'title':'강남 아파트 인사이트', 'writer':'오스틀', 'price':'25,200'},\\n    {'no':2, 'title':'단 한 번의 삶', 'writer':'김영하', 'price':'18,100'},\\n    {'no':3, 'title':'흔한남매 19', 'writer':'백난도', 'price':'14,220'},\\n    {'no':4, 'title':'가격이잘못', 'writer':'홍길동', 'price':'-'},\\n    {'no':5, 'title':'가격이숫자', 'writer':'신길동', 'price':900},\\n    {'no':6, 'title':'가격이없음', 'writer':'김길동'},\\n]\",\n",
       "  \"# 제목순 정렬(ㄱㄴㄷ순)\\nbooks.sort(key = lambda book : book.get('title'))\\nbooks\",\n",
       "  \"# 저자순 정렬(ㄱㄴㄷ순)\\nbooks.sort(key = lambda book : book.get('writer'))\\nbooks\",\n",
       "  \"# 가격순\\nbooks.sort(key = lambda book : book.get('price'))\\nbooks\",\n",
       "  \"# 가격순\\nbooks.sort(key = lambda book : book.get('price', 0))\\nbooks\",\n",
       "  \"# 가격순\\n# '14,000' => 14000 / 800 => 800 / '-' => 0\\ndef parse_int(price) :\\n    print(type(price))\",\n",
       "  'parse_int(800)',\n",
       "  'parse_int(\"800\")',\n",
       "  \"# 가격순\\n# '14,000' => 14000 / 800 => 800 / '-' => 0\\ndef parse_int(price) :\\n#     print(type(price))\\n    if isinstance(price, int) :\\n        return price\",\n",
       "  'parse_int(800)',\n",
       "  'parse_int(\"800\")',\n",
       "  '# 가격순\\n# \\'14,000\\' => 14000 / \"2000\" => 2000 / 800 => 800 / \\'-\\' => 0\\ndef parse_int(price) :\\n#     print(type(price))\\n    if price.replace(\\',\\',\\'\\').isdigit() :\\n        return int(price.replace(\\',\\',\\'\\'))\\n    elif isinstance(price, int) :\\n        return price',\n",
       "  'parse_int(\"8,000\")',\n",
       "  'parse_int(8000)',\n",
       "  '# 가격순\\n# \\'14,000\\' => 14000 / \"2000\" => 2000 / 800 => 800 / \\'-\\' => 0\\ndef parse_int(price) :\\n#     print(type(price))\\n    if isinstance(price, str) and price.replace(\\',\\',\\'\\').isdigit() :\\n        return int(price.replace(\\',\\',\\'\\'))\\n    elif isinstance(price, int) :\\n        return price',\n",
       "  '# 가격순\\n# \\'14,000\\' => 14000 / \"2000\" => 2000 / 800 => 800 / \\'-\\' => 0\\ndef parse_int(price) :\\n#     print(type(price))\\n    if isinstance(price, str) and price.replace(\\',\\',\\'\\').isdigit() :\\n        return int(price.replace(\\',\\',\\'\\'))\\n    elif isinstance(price, int) :\\n        return price',\n",
       "  'parse_int(8000)',\n",
       "  'parse_int(\"8,000\")',\n",
       "  'parse_int(\"8,000\"), parse_int(\"8000\"), parse_int(800), parse_int(\"-\")',\n",
       "  '# 가격순\\n# \\'14,000\\' => 14000 / \"2000\" => 2000 / 800 => 800 / \\'-\\' => 0\\ndef parse_int(price) :\\n#     print(type(price))\\n    if isinstance(price, str) and price.replace(\\',\\',\\'\\').isdigit() :\\n        return int(price.replace(\\',\\',\\'\\'))\\n    elif isinstance(price, int) :\\n        return price\\n    else :\\n        return 0',\n",
       "  'parse_int(\"8,000\"), parse_int(\"8000\"), parse_int(800), parse_int(\"-\")',\n",
       "  \"# {'no':6, 'title':'가격이없음', 'writer':'김길동'}\\n# {'no': 3, 'title': '흔한남매 19', 'writer': '백난도', 'price': '14,220'}\\n# {'no': 5, 'title': '가격이숫자', 'writer': '신길동', 'price': 900}\\ndef parse_int(book) :\\n    if isinstance(book.get('price'), str) and \\\\\\n            book.get('price').replace(',','').isdigit() :\\n        return int(book.get('price').replace(',',''))\\n    elif isinstance(book.get('price'), int) :\\n        return book.get('price')\\n    else :\\n        return 0\\nparse_int(books[0]), parse_int(books[3]), parse_int(books[2]), parse_int(books[5]),\",\n",
       "  \"books =[\\n    {'no':1, 'title':'강남 아파트 인사이트', 'writer':'오스틀', 'price':'25,200'},\\n    {'no':2, 'title':'단 한 번의 삶', 'writer':'김영하', 'price':'18,100'},\\n    {'no':3, 'title':'흔한남매 19', 'writer':'백난도', 'price':'14,220'},\\n    {'no':4, 'title':'가격이잘못', 'writer':'홍길동', 'price':'-'},\\n    {'no':5, 'title':'가격이숫자', 'writer':'신길동', 'price':900},\\n    {'no':6, 'title':'가격이없음', 'writer':'김길동'},\\n]\\ncopy_books = books.copy()\\ncopy_books.sort(key = lambda book :\\n                int(book.get('price').replace(',','')) \\\\\\n                    if isinstance(book.get('price'), str) and \\\\\\n                        book.get('price').replace(',','').isdigit() else \\\\\\n                book.get('price') if isinstance(isinstance(book.get('price'), int) else \\\\\\n                0,\\n                                                \\n                )\",\n",
       "  \"books =[\\n    {'no':1, 'title':'강남 아파트 인사이트', 'writer':'오스틀', 'price':'25,200'},\\n    {'no':2, 'title':'단 한 번의 삶', 'writer':'김영하', 'price':'18,100'},\\n    {'no':3, 'title':'흔한남매 19', 'writer':'백난도', 'price':'14,220'},\\n    {'no':4, 'title':'가격이잘못', 'writer':'홍길동', 'price':'-'},\\n    {'no':5, 'title':'가격이숫자', 'writer':'신길동', 'price':900},\\n    {'no':6, 'title':'가격이없음', 'writer':'김길동'},\\n]\\ncopy_books = books.copy()\\ncopy_books.sort(key = lambda book :\\n                int(book.get('price').replace(',','')) \\\\\\n                    if isinstance(book.get('price'), str) and \\\\\\n                        book.get('price').replace(',','').isdigit() else \\\\\\n                book.get('price') if isinstance(isinstance(book.get('price'), int) else \\\\\\n                0\\n                                                \\n                )\",\n",
       "  \"books =[\\n    {'no':1, 'title':'강남 아파트 인사이트', 'writer':'오스틀', 'price':'25,200'},\\n    {'no':2, 'title':'단 한 번의 삶', 'writer':'김영하', 'price':'18,100'},\\n    {'no':3, 'title':'흔한남매 19', 'writer':'백난도', 'price':'14,220'},\\n    {'no':4, 'title':'가격이잘못', 'writer':'홍길동', 'price':'-'},\\n    {'no':5, 'title':'가격이숫자', 'writer':'신길동', 'price':900},\\n    {'no':6, 'title':'가격이없음', 'writer':'김길동'},\\n]\\ncopy_books = books.copy()\",\n",
       "  \"copy_books.sort(key = lambda book :\\n                int(book.get('price').replace(',','')) \\\\\\n                    if isinstance(book.get('price'), str) and \\\\\\n                        book.get('price').replace(',','').isdigit() else \\\\\\n                book.get('price') if isinstance(isinstance(book.get('price'), int) else \\\\\\n                0                          \\n                )\",\n",
       "  \"copy_books.sort(key = lambda book :\\n                int(book.get('price').replace(',','')) \\\\\\n                    if isinstance(book.get('price'), str) and \\\\\\n                        book.get('price').replace(',','').isdigit() else \\\\\\n                book.get('price') if isinstance(book.get('price'), int) else \\\\\\n                0                          \\n                )\",\n",
       "  \"(lambda book :\\n               int(book.get('price').replace(',','')) \\\\\\n                    if isinstance(book.get('price'), str) and \\\\\\n                        book.get('price').replace(',','').isdigit() else \\\\\\n                book.get('price') if isinstance(book.get('price'), int) else \\\\\\n                0)(books[0])\",\n",
       "  \"# {'no':6, 'title':'가격이없음', 'writer':'김길동'}\\n# {'no': 3, 'title': '흔한남매 19', 'writer': '백난도', 'price': '14,220'}\\n# {'no': 5, 'title': '가격이숫자', 'writer': '신길동', 'price': 900}\\ndef parse_int(book) :\\n    if isinstance(book.get('price'), str) and \\\\\\n                 book.get('price').replace(',','').isdigit() :\\n        return int(book.get('price').replace(',',''))\\n    elif isinstance(book.get('price'), int) :\\n        return book.get('price')\\n    else :\\n        return 0\\nparse_int(books[0]), parse_int(books[3]), parse_int(books[2]), parse_int(books[5]),\",\n",
       "  '# 가격순\\n# \\'14,000\\' => 14000 / \"2000\" => 2000 / 800 => 800 / \\'-\\' => 0\\ndef parse_int(price) :\\n#     print(type(price))\\n    if isinstance(price, str) and price.replace(\\',\\',\\'\\').isdigit() :\\n        return int(price.replace(\\',\\',\\'\\'))\\n    elif isinstance(price, int) :\\n        return price\\n    else :\\n        return 0',\n",
       "  \"# 제목순 정렬(ㄱㄴㄷ순)\\nbooks.sort(key = lambda book : book.get('title'))\\nbooks\",\n",
       "  \"# 저자순 정렬(ㄱㄴㄷ순)\\nbooks.sort(key = lambda book : book.get('writer'))\\nbooks\",\n",
       "  '# 가격순\\n# \\'14,000\\' => 14000 / \"2000\" => 2000 / 800 => 800 / \\'-\\' => 0\\ndef parse_int(price) :\\n#     print(type(price))\\n    if isinstance(price, str) and price.replace(\\',\\',\\'\\').isdigit() :\\n        return int(price.replace(\\',\\',\\'\\'))\\n    elif isinstance(price, int) :\\n        return price\\n    else :\\n        return 0',\n",
       "  'parse_int(\"8,000\"), parse_int(\"8000\"), parse_int(800), parse_int(\"-\")',\n",
       "  \"# {'no':6, 'title':'가격이없음', 'writer':'김길동'}\\n# {'no': 3, 'title': '흔한남매 19', 'writer': '백난도', 'price': '14,220'}\\n# {'no': 5, 'title': '가격이숫자', 'writer': '신길동', 'price': 900}\\ndef parse_int(book) :\\n    if isinstance(book.get('price'), str) and \\\\\\n                 book.get('price').replace(',','').isdigit() :\\n        return int(book.get('price').replace(',',''))\\n    elif isinstance(book.get('price'), int) :\\n        return book.get('price')\\n    else :\\n        return 0\\nparse_int(books[0]), parse_int(books[3]), parse_int(books[2]), parse_int(books[5]),\",\n",
       "  \"# books =[\\n#     {'no':1, 'title':'강남 아파트 인사이트', 'writer':'오스틀', 'price':'25,200'},\\n#     {'no':2, 'title':'단 한 번의 삶', 'writer':'김영하', 'price':'18,100'},\\n#     {'no':3, 'title':'흔한남매 19', 'writer':'백난도', 'price':'14,220'},\\n#     {'no':4, 'title':'가격이잘못', 'writer':'홍길동', 'price':'-'},\\n#     {'no':5, 'title':'가격이숫자', 'writer':'신길동', 'price':900},\\n#     {'no':6, 'title':'가격이없음', 'writer':'김길동'},\\n# ]\\ncopy_books = books.copy()\",\n",
       "  \"copy_books.sort(key = lambda book :\\n                int(book.get('price').replace(',','')) \\\\\\n                    if isinstance(book.get('price'), str) and \\\\\\n                        book.get('price').replace(',','').isdigit() else \\\\\\n                book.get('price') if isinstance(book.get('price'), int) else \\\\\\n                0                          \\n                )\",\n",
       "  \"(lambda book :\\n               int(book.get('price').replace(',','')) \\\\\\n                    if isinstance(book.get('price'), str) and \\\\\\n                        book.get('price').replace(',','').isdigit() else \\\\\\n                book.get('price') if isinstance(book.get('price'), int) else \\\\\\n                0)(books[0])\",\n",
       "  \"(lambda book :\\n               int(book.get('price').replace(',','')) \\\\\\n                    if isinstance(book.get('price'), str) and \\\\\\n                        book.get('price').replace(',','').isdigit() else \\\\\\n                book.get('price') if isinstance(book.get('price'), int) else \\\\\\n                0)(books)\",\n",
       "  \"(lambda book :\\n               int(book.get('price').replace(',','')) \\\\\\n                    if isinstance(book.get('price'), str) and \\\\\\n                        book.get('price').replace(',','').isdigit() else \\\\\\n                book.get('price') if isinstance(book.get('price'), int) else \\\\\\n                0)(books[0])\",\n",
       "  '# 함수를 return\\ndef make_box(shape) : # shape : [l] -> len가 l인 list를 생성하는 함수 return,\\n#                                 [r, c] -> r행 c열인 list를 생성하는 함수 return,\\n#                                 [d, r, c] -> d면 r행 c열 3차원 list를 생성하는 함수 return\\n    def box(init_value) :\\n        if len(shape)==1 :\\n            return [init_value]*shape[0]\\n        elif len(shape)==2 :\\n            return [ [init_value]*shape[1] ] * shape[0]\\n    return box',\n",
       "  'line_func = make_box([2, 3])\\nline_func(3)',\n",
       "  'def make_box(shape) :\\n    if len(shape)==1 :\\n        return lambda init_value : [init_value]*shape[0]\\n    elif len(shape)==2 :\\n        return lambda [ [init_value]*shape[1] ] * shape[0]',\n",
       "  'def make_box(shape) :\\n    if len(shape)==1 :\\n        return lambda init_value : [init_value]*shape[0]\\n    elif len(shape)==2 :\\n        return lambda init_value : [ [init_value]*shape[1] ] * shape[0]',\n",
       "  'globals() # 전역변수 리스트'],\n",
       " 'Out': {2: [2, 4, 6, 8, 10, 12, 14, 16, 18, 20],\n",
       "  4: [2],\n",
       "  7: [2],\n",
       "  9: [2, 4, 6, 8, 10, 12, 14, 16, 18, 20],\n",
       "  12: [2, 4, 6, 8, 10, 12, 14, 16, 18, 20],\n",
       "  13: [2, 4, 6, 8, 10, 12, 14, 16, 18, 20],\n",
       "  15: [2, 4, 6, 8, 10, 12, 14, 16, 18, 20],\n",
       "  17: [2, 4, 6, 8, 10, 12, 14, 16, 18, 20],\n",
       "  20: (5000, 1800),\n",
       "  24: (5000, 1800),\n",
       "  25: [5000, 800, 1000, 6000],\n",
       "  29: {'year': 2000, 'month': 1, 'day': 1},\n",
       "  30: {'year': 2000, 'month': 1, 'day': 1},\n",
       "  35: {'name': '홍길동', 'year': 2000, 'month': 1, 'day': 1},\n",
       "  37: [{'name': '홍길동', 'year': 2000, 'month': 1, 'day': 1},\n",
       "   {'name': '신길동', 'year': 1998, 'month': 12, 'day': 31}],\n",
       "  43: '2000-01-01',\n",
       "  49: [{'name': '홍길동', 'birth': '2000-01-01'},\n",
       "   {'name': '신길동', 'birth': '1998-12-31'}],\n",
       "  51: (True, False),\n",
       "  52: [2, 4],\n",
       "  53: [2, 4],\n",
       "  54: [2, 4],\n",
       "  55: [2, 7, 9],\n",
       "  56: [9, 7, 2],\n",
       "  57: [[10, 1], [9, 9], [1, 100]],\n",
       "  58: [(4, 'four'), (1, 'one'), (3, 'three'), (2, 'two')],\n",
       "  60: [(4, 'four'), (1, 'one'), (3, 'three'), (2, 'two')],\n",
       "  61: [[1, 100], [9, 9, 9, 9, 9], [10, 1]],\n",
       "  62: [[1, 100], [9, 9, 9, 9, 9], [10, 1]],\n",
       "  63: [[1, 100], [9, 9, 9, 9, 9], [10, 1]],\n",
       "  64: [[1, 100], [9, 9, 9, 9, 9], [10, 1]],\n",
       "  65: 6,\n",
       "  75: [{'name': '김길동', 'score': 50},\n",
       "   {'name': '윤길동', 'score': 99},\n",
       "   {'name': '홍길동', 'score': 90}],\n",
       "  79: [{'score': 100},\n",
       "   {'name': '윤길동', 'score': 99},\n",
       "   {'name': '홍길동', 'score': 90},\n",
       "   {'name': '김길동', 'score': 50}],\n",
       "  80: [{'score': 100},\n",
       "   {'name': '윤길동', 'score': 99},\n",
       "   {'name': '홍길동', 'score': 90},\n",
       "   {'name': '김길동', 'score': 50}],\n",
       "  81: [{'score': 100},\n",
       "   {'name': '윤길동', 'score': 99},\n",
       "   {'name': '홍길동', 'score': 90},\n",
       "   {'name': '김길동', 'score': 50}],\n",
       "  82: [{'score': 100},\n",
       "   {'name': '윤길동', 'score': 99},\n",
       "   {'name': '홍길동', 'score': 90},\n",
       "   {'name': '김길동', 'score': 50}],\n",
       "  84: [{'no': 6, 'title': '가격이없음', 'writer': '김길동'},\n",
       "   {'no': 2, 'title': '단 한 번의 삶', 'writer': '김영하', 'price': '18,100'},\n",
       "   {'no': 3, 'title': '흔한남매 19', 'writer': '백난도', 'price': '14,220'},\n",
       "   {'no': 5, 'title': '가격이숫자', 'writer': '신길동', 'price': 900},\n",
       "   {'no': 1, 'title': '강남 아파트 인사이트', 'writer': '오스틀', 'price': '25,200'},\n",
       "   {'no': 4, 'title': '가격이잘못', 'writer': '홍길동', 'price': '-'}],\n",
       "  85: [{'no': 6, 'title': '가격이없음', 'writer': '김길동'},\n",
       "   {'no': 2, 'title': '단 한 번의 삶', 'writer': '김영하', 'price': '18,100'},\n",
       "   {'no': 3, 'title': '흔한남매 19', 'writer': '백난도', 'price': '14,220'},\n",
       "   {'no': 5, 'title': '가격이숫자', 'writer': '신길동', 'price': 900},\n",
       "   {'no': 1, 'title': '강남 아파트 인사이트', 'writer': '오스틀', 'price': '25,200'},\n",
       "   {'no': 4, 'title': '가격이잘못', 'writer': '홍길동', 'price': '-'}],\n",
       "  92: 800,\n",
       "  95: 8000,\n",
       "  99: 8000,\n",
       "  100: 8000,\n",
       "  101: (8000, 8000, 800, None),\n",
       "  103: (8000, 8000, 800, 0),\n",
       "  104: (0, 900, 14220, 0),\n",
       "  110: 25200,\n",
       "  111: (25200, 0, 14220, 0),\n",
       "  113: [{'no': 6, 'title': '가격이없음', 'writer': '김길동'},\n",
       "   {'no': 2, 'title': '단 한 번의 삶', 'writer': '김영하', 'price': '18,100'},\n",
       "   {'no': 3, 'title': '흔한남매 19', 'writer': '백난도', 'price': '14,220'},\n",
       "   {'no': 5, 'title': '가격이숫자', 'writer': '신길동', 'price': 900},\n",
       "   {'no': 1, 'title': '강남 아파트 인사이트', 'writer': '오스틀', 'price': '25,200'},\n",
       "   {'no': 4, 'title': '가격이잘못', 'writer': '홍길동', 'price': '-'}],\n",
       "  114: [{'no': 6, 'title': '가격이없음', 'writer': '김길동'},\n",
       "   {'no': 2, 'title': '단 한 번의 삶', 'writer': '김영하', 'price': '18,100'},\n",
       "   {'no': 3, 'title': '흔한남매 19', 'writer': '백난도', 'price': '14,220'},\n",
       "   {'no': 5, 'title': '가격이숫자', 'writer': '신길동', 'price': 900},\n",
       "   {'no': 1, 'title': '강남 아파트 인사이트', 'writer': '오스틀', 'price': '25,200'},\n",
       "   {'no': 4, 'title': '가격이잘못', 'writer': '홍길동', 'price': '-'}],\n",
       "  116: (8000, 8000, 800, 0),\n",
       "  117: (0, 900, 14220, 0),\n",
       "  120: 0,\n",
       "  122: 0,\n",
       "  124: [[3, 3, 3], [3, 3, 3]]},\n",
       " 'get_ipython': <bound method InteractiveShell.get_ipython of <ipykernel.zmqshell.ZMQInteractiveShell object at 0x00000236046DFD60>>,\n",
       " 'exit': <IPython.core.autocall.ZMQExitAutocall at 0x236046ef5e0>,\n",
       " 'quit': <IPython.core.autocall.ZMQExitAutocall at 0x236046ef5e0>,\n",
       " 'open': <function io.open(file, mode='r', buffering=-1, encoding=None, errors=None, newline=None, closefd=True, opener=None)>,\n",
       " '_': [[3, 3, 3], [3, 3, 3]],\n",
       " '__': 0,\n",
       " '___': 0,\n",
       " '_i': 'def make_box(shape) :\\n    if len(shape)==1 :\\n        return lambda init_value : [init_value]*shape[0]\\n    elif len(shape)==2 :\\n        return lambda init_value : [ [init_value]*shape[1] ] * shape[0]',\n",
       " '_ii': 'def make_box(shape) :\\n    if len(shape)==1 :\\n        return lambda init_value : [init_value]*shape[0]\\n    elif len(shape)==2 :\\n        return lambda [ [init_value]*shape[1] ] * shape[0]',\n",
       " '_iii': 'line_func = make_box([2, 3])\\nline_func(3)',\n",
       " '_i1': \"def map_template(func,  L=[1, 2, 3]) :\\n    '''\\n    L의 모든 요소를 func()함수를 적용시켜 return\\n    [2,4,6]\\n    '''\\n#     result = []\\n#     for l in L :\\n#         result.append(func(l))\\n#         return result\\n    return [func(l) for l in L]\",\n",
       " 'map_template': <function __main__.map_template(func, L=[])>,\n",
       " '_i2': 'list_data = [1, 2, 3, 4, 5, 6, 7, 8, 9, 10]\\ndef x_2(x) :\\n    return x*2\\nmap_template(x_2, list_data)',\n",
       " 'list_data': [1, 2, 3, 4, 5],\n",
       " 'x_2': <function __main__.x_2(x)>,\n",
       " '_2': [2, 4, 6, 8, 10, 12, 14, 16, 18, 20],\n",
       " '_i3': \"def map_template(func,  L=[1, 2, 3]) :\\n    '''\\n    L의 모든 요소를 func()함수를 적용시켜 return\\n    '''\\n    result = []\\n    for l in L :\\n        result.append(func(l))\\n        return result\\n#     return [func(l) for l in L]\",\n",
       " '_i4': 'list_data = [1, 2, 3, 4, 5, 6, 7, 8, 9, 10]\\ndef x_2(x) :\\n    return x*2\\nmap_template(x_2, list_data)',\n",
       " '_4': [2],\n",
       " '_i5': \"def map_template(func,  L=[1, 2, 3]) :\\n    '''\\n    L의 모든 요소를 func()함수를 적용시켜 return\\n    '''\\n    result = []\\n    for l in L :\\n        result.append(func(l))\\n        return result\\n#     return [func(l) for l in L]\",\n",
       " '_i6': \"def map_template(func,  L=[]) :\\n    '''\\n    L의 모든 요소를 func()함수를 적용시켜 return\\n    '''\\n    result = []\\n    for l in L :\\n        result.append(func(l))\\n        return result\\n#     return [func(l) for l in L]\",\n",
       " '_i7': 'list_data = [1, 2, 3, 4, 5, 6, 7, 8, 9, 10]\\ndef x_2(x) :\\n    return x*2\\nmap_template(x_2, list_data)',\n",
       " '_7': [2],\n",
       " '_i8': \"def map_template(func,  L=[]) :\\n    '''\\n    L의 모든 요소를 func()함수를 적용시켜 return\\n    '''\\n    result = []\\n    for l in L :\\n        result.append(func(l))\\n    return result\\n#     return [func(l) for l in L]\",\n",
       " '_i9': 'list_data = [1, 2, 3, 4, 5, 6, 7, 8, 9, 10]\\ndef x_2(x) :\\n    return x*2\\nmap_template(x_2, list_data)',\n",
       " '_9': [2, 4, 6, 8, 10, 12, 14, 16, 18, 20],\n",
       " '_i10': \"def map_template(func,  L=[]) :\\n    '''\\n    L의 모든 요소를 func()함수를 적용시켜 return\\n    '''\\n    result = []\\n    for l in L :\\n        result.append(func(l))\\n    return result\\n#     return [func(l) for l in L]\",\n",
       " '_i11': 'list_data = [1, 2, 3, 4, 5, 6, 7, 8, 9, 10]\\nmap_template(lambda x x*2, list_data)\\n# def x_2(x) :\\n#     return x*2\\n# map_template(x_2, list_data)',\n",
       " '_i12': 'list_data = [1, 2, 3, 4, 5, 6, 7, 8, 9, 10]\\nmap_template(lambda x : x*2, list_data)\\n# def x_2(x) :\\n#     return x*2\\n# map_template(x_2, list_data)',\n",
       " '_12': [2, 4, 6, 8, 10, 12, 14, 16, 18, 20],\n",
       " '_i13': '# 리스트 데이터를 가공 방법 2. 리스트 컴프리헨션\\n[l*2 for l in list_data]',\n",
       " '_13': [2, 4, 6, 8, 10, 12, 14, 16, 18, 20],\n",
       " '_i14': '# 리스트 데이터를 가공 방법 3. map() : python 내장함수\\nlist(for item in map(lambda x : x*2, list_data))',\n",
       " '_i15': '# 리스트 데이터를 가공 방법 2. 리스트 컴프리헨션\\n[l*2 for l in list_data]',\n",
       " '_15': [2, 4, 6, 8, 10, 12, 14, 16, 18, 20],\n",
       " '_i16': \"# 리스트 데이터를 가공 방법 3. map() : python 내장함수\\nfor item in map(lambda x : x*2, list_data) :\\n    print(item, end=' ')\",\n",
       " 'item': 20,\n",
       " '_i17': '# 리스트 데이터를 가공 방법 3. map() : python 내장함수\\nlist(map(lambda x : x*2, list_data))',\n",
       " '_17': [2, 4, 6, 8, 10, 12, 14, 16, 18, 20],\n",
       " '_i18': 'def func(x) :\\n    return int(x.replace(\\',\\',\\'\\'))\\nfnunc(\"5,000\", func(\"1800\"))',\n",
       " 'func': <function __main__.func(x)>,\n",
       " '_i19': 'def func(x) :\\n    return int(x.replace(\\',\\',\\'\\'))\\nfunc(\"5,000\", func(\"1800\"))',\n",
       " '_i20': 'def func(x) :\\n    return int(x.replace(\\',\\',\\'\\'))\\nfunc(\"5,000\"), func(\"1800\")',\n",
       " '_20': (5000, 1800),\n",
       " '_i21': \"list(map(lambda x :int(x.replace(',','')),pricces))\",\n",
       " '_i22': \"list(map(lambda x :int(x.replace(',','')),prices))\",\n",
       " '_i23': \"'''\\n예제 1. [5000, 800, 1000, 6000]로 바꾸시오\\n'''\\nprices = ['5,000', '800', '1000', '6,000']\",\n",
       " 'prices': ['5,000', '800', '1000', '6,000'],\n",
       " '_i24': 'def func(x) :\\n    return int(x.replace(\\',\\',\\'\\'))\\nfunc(\"5,000\"), func(\"1800\")',\n",
       " '_24': (5000, 1800),\n",
       " '_i25': \"list(map(lambda x :int(x.replace(',','')),prices))\",\n",
       " '_25': [5000, 800, 1000, 6000],\n",
       " '_i26': \"# '2000-01-01' => {'year':1998, 'month':12, 'day':31}\\ndef split_date(date) :\\n    split_data = date.split('-')\\n#     print(split_data[0], split_data[1], split_data[2])\\n    return {'year':int(split_data[0]),\\n           'month':int(split_data[1]).\\n            'day' :int(split_data[2])\\n           }\",\n",
       " '_i27': \"# '2000-01-01' => {'year':1998, 'month':12, 'day':31}\\ndef split_date(date) :\\n    split_data = date.split('-')\\n#     print(split_data[0], split_data[1], split_data[2])\\n    return {'year':int(split_data[0]),\\n           'month':int(split_data[1]).\\n            'day':int(split_data[2])\\n           }\",\n",
       " '_i28': \"# '2000-01-01' => {'year':1998, 'month':12, 'day':31}\\ndef split_date(date) :\\n    split_data = date.split('-')\\n#     print(split_data[0], split_data[1], split_data[2])\\n    return {'year':int(split_data[0]),\\n           'month':int(split_data[1]),\\n            'day':int(split_data[2])\\n           }\",\n",
       " 'split_date': <function __main__.split_date(date)>,\n",
       " '_i29': \"split_date('2000-01-01')\",\n",
       " '_29': {'year': 2000, 'month': 1, 'day': 1},\n",
       " '_i30': \"split_date('2000-01-01')\",\n",
       " '_30': {'year': 2000, 'month': 1, 'day': 1},\n",
       " '_i31': \"for item in map(lambda x : x*2, list_data) :\\n    print(item, end=' ')\",\n",
       " '_i32': '\\'\\'\\'\\n예제3. member2를 member1로 바꿈\\n\\'\\'\\'\\ndef member_func(member) : # {\\'name\\' : \\'홍길동\\', \\'birth\\' : \\'2000-01-01\\'}\\n    \"{\\'name\\' : \\'신길동\\', \\'year\\':1998, \\'month\\':12, \\'day\\':31} 식으로 return\"\\n    return {\\n            \\'name\\':member.get(\\'name\\'),\\n            \\'year\\':int(member[\\'birth\\'].split(\\'-\\')[0]),\\n            \\'month\\':int(member[\\'birth\\'].split(\\'-\\')[1]),\\n            \\'day\\':int(member[\\'birth\\'].split(\\'-\\')[2]),\\n    }\\n    ',\n",
       " 'member_func': <function __main__.member_func(member)>,\n",
       " '_i33': '\\'\\'\\'\\n예제3. member2를 member1로 바꿈\\n\\'\\'\\'\\ndef member_func(member) : # {\\'name\\' : \\'홍길동\\', \\'birth\\' : \\'2000-01-01\\'}\\n    \"{\\'name\\' : \\'신길동\\', \\'year\\':1998, \\'month\\':12, \\'day\\':31} 식으로 return\"\\n    return {\\n            \\'name\\':member.get(\\'name\\'),\\n            \\'year\\':int(member[\\'birth\\'].split(\\'-\\')[0]),\\n            \\'month\\':int(member[\\'birth\\'].split(\\'-\\')[1]),\\n            \\'day\\':int(member[\\'birth\\'].split(\\'-\\')[2]),\\n    }\\nmember_func(member1[0])',\n",
       " '_i34': \"'''\\n예제 2. member1 = [{'name' : '홍길동', 'birth' : '2000-01-01'},\\n                    {'name' : '신길동', 'birth' : '1998-12-31'}]를\\n        member2 = [{'name' : '홍길동', 'year':2000, 'month':1, 'day':1},\\n                    {'name' : '신길동', 'year':1998, 'month':12, 'day':31}]로 바꿈\\n'''\\nmember1 = [{'name' : '홍길동', 'birth' : '2000-01-01'},\\n            {'name' : '신길동', 'birth' : '1998-12-31'}]\",\n",
       " 'member1': [{'name': '홍길동', 'birth': '2000-01-01'},\n",
       "  {'name': '신길동', 'birth': '1998-12-31'}],\n",
       " '_i35': '\\'\\'\\'\\n예제3. member2를 member1로 바꿈\\n\\'\\'\\'\\ndef member_func(member) : # {\\'name\\' : \\'홍길동\\', \\'birth\\' : \\'2000-01-01\\'}\\n    \"{\\'name\\' : \\'신길동\\', \\'year\\':1998, \\'month\\':12, \\'day\\':31} 식으로 return\"\\n    return {\\n            \\'name\\':member.get(\\'name\\'),\\n            \\'year\\':int(member[\\'birth\\'].split(\\'-\\')[0]),\\n            \\'month\\':int(member[\\'birth\\'].split(\\'-\\')[1]),\\n            \\'day\\':int(member[\\'birth\\'].split(\\'-\\')[2]),\\n    }\\nmember_func(member1[0])',\n",
       " '_35': {'name': '홍길동', 'year': 2000, 'month': 1, 'day': 1},\n",
       " '_i36': \"list(map(lambda member : {\\n                        'name':member.get('name'),\\n                        'year':int(member['birth'].split('-')[0]),\\n                        'month':int(member['birth'].split('-')[1]),\\n                        'day':int(member['birth'].split('-')[2]),\\n                         },\\n        )\\n    )\",\n",
       " '_i37': \"list(map(lambda member : {\\n                        'name':member.get('name'),\\n                        'year':int(member['birth'].split('-')[0]),\\n                        'month':int(member['birth'].split('-')[1]),\\n                        'day':int(member['birth'].split('-')[2]),\\n                         },\\n       member1 )\\n    )\",\n",
       " '_37': [{'name': '홍길동', 'year': 2000, 'month': 1, 'day': 1},\n",
       "  {'name': '신길동', 'year': 1998, 'month': 12, 'day': 31}],\n",
       " '_i38': '#{\\'year:2000, \\'month\\':1, \\'day\\':1} => \"2000-01-01\"를 return하는 함수\\ndef join_date(data) :\\n    print(data)',\n",
       " 'join_date': <function __main__.join_date(data)>,\n",
       " '_i39': \"join_date({'year':2000, 'month':1, 'day':1})\",\n",
       " '_i40': '#{\\'year:2000, \\'month\\':1, \\'day\\':1} => \"2000-01-01\"를 return하는 함수\\ndef join_date(data) :\\n        print([data.get(\\'year\\'), data.get(\\'month\\'), data.get(\\'day\\')])\\n        return \\'-\\'.join([data.get(\\'year\\'), data.get(\\'month\\'), data.get(\\'day\\')])',\n",
       " '_i41': \"join_date({'year':2000, 'month':1, 'day':1})\",\n",
       " '_i42': '#{\\'year:2000, \\'month\\':1, \\'day\\':1} => \"2000-01-01\"를 return하는 함수\\ndef join_date(data) :\\n        print([data.get(\\'year\\'), data.get(\\'month\\'), data.get(\\'day\\')])\\n        year = str(data.get(\\'year\\'))\\n        month = data.get(\\'month\\')\\n        if month < 10 :\\n            month = \\'0\\'+str(month)\\n        else :\\n            month = str(month)\\n        \\n        day = data.get(\\'day\\')\\n        if day < 10 :\\n           day = \\'0\\'+str(day)\\n        else :\\n            day = str(day)\\n        \\n        return \\'-\\'.join([year, month, day])',\n",
       " '_i43': \"join_date({'year':2000, 'month':1, 'day':1})\",\n",
       " '_43': '2000-01-01',\n",
       " '_i44': 'def join_date(data) :\\n    return \"{year}-{month:02}-{day:02}\".format(**data)',\n",
       " '_i45': '# {\\'name\\': \\'홍길동\\', \\'year\\': 2000, \\'month\\': 1, \\'day\\': 1}(member12를\\n# {\\'name\\' : \\'홍길동\\', \\'birth\\' : \\'2000-01-01\\'}(member1)으로 가공\\nlist(map(lambda member : {\\n                            \\'name\\' : member.get(\\'name\\'),\\n                            \\'birth\\' : \"{year}-{month:02}-{day:02}\".format(**member)\\n                          },\\n         member2\\n        )\\n    )',\n",
       " '_i46': '# {\\'name\\': \\'홍길동\\', \\'year\\': 2000, \\'month\\': 1, \\'day\\': 1}(member12를\\n# {\\'name\\' : \\'홍길동\\', \\'birth\\' : \\'2000-01-01\\'}(member1)으로 가공\\nlist(map(lambda member : {\\n                            \\'name\\' : member.get(\\'name\\'),\\n                            \\'birth\\' : \"{year}-{month:02}-{day:02}\".format(**member)\\n                          },\\n         member2\\n        )\\n    )',\n",
       " '_i47': \"'''\\n예제 2. member1 = [{'name' : '홍길동', 'birth' : '2000-01-01'},\\n                    {'name' : '신길동', 'birth' : '1998-12-31'}]를\\n        member2 = [{'name' : '홍길동', 'year':2000, 'month':1, 'day':1},\\n                    {'name' : '신길동', 'year':1998, 'month':12, 'day':31}]로 바꿈\\n'''\\nmember1 = [{'name' : '홍길동', 'birth' : '2000-01-01'},\\n            {'name' : '신길동', 'birth' : '1998-12-31'}]\\n member2 = [{'name' : '홍길동', 'year':2000, 'month':1, 'day':1},\\n                    {'name' : '신길동', 'year':1998, 'month':12, 'day':31}]\",\n",
       " '_i48': \"'''\\n예제 2. member1 = [{'name' : '홍길동', 'birth' : '2000-01-01'},\\n                    {'name' : '신길동', 'birth' : '1998-12-31'}]를\\n        member2 = [{'name' : '홍길동', 'year':2000, 'month':1, 'day':1},\\n                    {'name' : '신길동', 'year':1998, 'month':12, 'day':31}]로 바꿈\\n'''\\nmember1 = [{'name' : '홍길동', 'birth' : '2000-01-01'},\\n            {'name' : '신길동', 'birth' : '1998-12-31'}]\\nmember2 = [{'name' : '홍길동', 'year':2000, 'month':1, 'day':1},\\n                    {'name' : '신길동', 'year':1998, 'month':12, 'day':31}]\",\n",
       " 'member2': [{'name': '홍길동', 'year': 2000, 'month': 1, 'day': 1},\n",
       "  {'name': '신길동', 'year': 1998, 'month': 12, 'day': 31}],\n",
       " '_i49': '# {\\'name\\': \\'홍길동\\', \\'year\\': 2000, \\'month\\': 1, \\'day\\': 1}(member12를\\n# {\\'name\\' : \\'홍길동\\', \\'birth\\' : \\'2000-01-01\\'}(member1)으로 가공\\nlist(map(lambda member : {\\n                            \\'name\\' : member.get(\\'name\\'),\\n                            \\'birth\\' : \"{year}-{month:02}-{day:02}\".format(**member)\\n                          },\\n         member2\\n        )\\n    )',\n",
       " '_49': [{'name': '홍길동', 'birth': '2000-01-01'},\n",
       "  {'name': '신길동', 'birth': '1998-12-31'}],\n",
       " '_i50': '# [1, 2, 3, 4, 5] => \\ndef filter_template(func, L=[]) :\\n    result = []\\n    for l in L :\\n        if func(l) :\\n            result.append(l)\\n    return result',\n",
       " 'filter_template': <function __main__.filter_template(func, L=[])>,\n",
       " '_i51': 'def  evenChk(value) :\\n    return value%2==0\\nevenChk(10), evenChk(-9)',\n",
       " 'evenChk': <function __main__.evenChk(value)>,\n",
       " '_51': (True, False),\n",
       " '_i52': 'list_data = [1, 2, 3, 4, 5]\\nfilter_template(lambda value : value%2==0, list_data)',\n",
       " '_52': [2, 4],\n",
       " '_i53': 'list(filter(lambda value : value%2==0, list_data))',\n",
       " '_53': [2, 4],\n",
       " '_i54': '[data for data in list_data if data%2==0]',\n",
       " '_54': [2, 4],\n",
       " '_i55': 'p = [9, 2, 7]\\np.sort()\\np',\n",
       " 'p': [9, 7, 2],\n",
       " '_55': [2, 7, 9],\n",
       " '_i56': 'p = [9, 2, 7]\\np.sort(reverse=True)\\np',\n",
       " '_56': [9, 7, 2],\n",
       " '_i57': 'number2d = [[9, 9],\\n            [1, 100],\\n            [10, 1]]\\nnumber2d.sort(reverse=True)\\nnumber2d',\n",
       " 'number2d': [[1, 100], [9, 9, 9, 9, 9], [10, 1]],\n",
       " '_57': [[10, 1], [9, 9], [1, 100]],\n",
       " '_i58': \"pairs = [(2, 'two'), (1, 'one'), (4, 'four'), (3, 'three')]\\npairs.sort()\\npairs\",\n",
       " 'pairs': [(4, 'four'), (1, 'one'), (3, 'three'), (2, 'two')],\n",
       " '_58': [(4, 'four'), (1, 'one'), (3, 'three'), (2, 'two')],\n",
       " '_i59': '# 1번째 item 기준으로 정렬(abc순)\\npairs,sort(key=lambda pair : pair[1])\\npairs',\n",
       " '_i60': '# 1번째 item 기준으로 정렬(abc순)\\npairs.sort(key=lambda pair : pair[1])\\npairs',\n",
       " '_60': [(4, 'four'), (1, 'one'), (3, 'three'), (2, 'two')],\n",
       " '_i61': '# 무조건 0번 item기준으로 정렬\\nnumber2d = [[9, 9, 9, 9, 9],\\n            [1, 100],\\n            [10, 1]]\\nnumber2d.sort(reverse=True) # 기본(reverse=False): 오름차순정렬 / reverse=True : 내림차순정렬\\nnumber2d',\n",
       " '_61': [[1, 100], [9, 9, 9, 9, 9], [10, 1]],\n",
       " '_i62': '# 합이 큰 순으로 정렬\\nnumber2d.sort(key = lambda item : sum(item))\\nnumber2d',\n",
       " '_62': [[1, 100], [9, 9, 9, 9, 9], [10, 1]],\n",
       " '_i63': '# 합이 큰 순으로 정렬\\nnumber2d.sort(key = lambda item : sum(item), reverse=True)\\nnumber2d',\n",
       " '_63': [[1, 100], [9, 9, 9, 9, 9], [10, 1]],\n",
       " '_i64': '# 합이 큰 순으로 정렬\\nnumber2d.sort(key = lambda item : sum(item), reverse=True)\\nnumber2d',\n",
       " '_64': [[1, 100], [9, 9, 9, 9, 9], [10, 1]],\n",
       " '_i65': '# 리스트를 매개변수로 받아 합을 return\\n(lambda item : sum(item))([1, 2, 3])',\n",
       " '_65': 6,\n",
       " '_i66': \"students = [\\n    {'name':'홍길동', 'kor':90},\\n    {'name':'김길동', 'kor':50},\\n    {'name':'윤길동', 'kor':99},\\n]\",\n",
       " 'students': [{'score': 100},\n",
       "  {'name': '윤길동', 'score': 99},\n",
       "  {'name': '홍길동', 'score': 90},\n",
       "  {'name': '김길동', 'score': 50}],\n",
       " '_i67': '# 이름순으로 정렬(ㄱㄴㄷ순)\\nstudents.sort()\\nstudents',\n",
       " '_i68': '# 이름순으로 정렬(ㄱㄴㄷ순)\\nstudents.sort(**student)\\nstudents',\n",
       " '_i69': '# 이름순으로 정렬(ㄱㄴㄷ순)\\nstudents.sort(**students)\\nstudents',\n",
       " '_i70': '# 이름순으로 정렬(ㄱㄴㄷ순)\\nstudents.sort(*students)\\nstudents',\n",
       " '_i71': '# 이름순으로 정렬(ㄱㄴㄷ순)\\nstudents.sort(**students)\\nstudents',\n",
       " '_i72': '# 이름순으로 정렬(ㄱㄴㄷ순)\\nlist_stu = students.sort(**students)\\nstudents',\n",
       " '_i73': '# 이름순으로 정렬(ㄱㄴㄷ순)\\nlist_stu = students.sort(*students)\\nstudents',\n",
       " '_i74': \"students = [\\n    {'name':'홍길동', 'score':90},\\n    {'name':'김길동', 'score':50},\\n    {'name':'윤길동', 'score':99},\\n]\",\n",
       " '_i75': \"# 이름순으로 정렬(ㄱㄴㄷ순)\\nstudents.sort(key = lambda item : item.get('name'))\\nstudents\",\n",
       " '_75': [{'name': '김길동', 'score': 50},\n",
       "  {'name': '윤길동', 'score': 99},\n",
       "  {'name': '홍길동', 'score': 90}],\n",
       " '_i76': \"students = [\\n    {'name':'홍길동', 'score':90},\\n    {'name':'김길동', 'score':50},\\n    {'name':'윤길동', 'score':99},\\n     'score':100\\n]\",\n",
       " '_i77': \"students = [\\n    {'name':'홍길동', 'score':90},\\n    {'name':'김길동', 'score':50},\\n    {'name':'윤길동', 'score':99},\\n    {'score':100}\\n]\",\n",
       " '_i78': \"# 이름순으로 정렬(ㄱㄴㄷ순)\\nstudents.sort(key = lambda item : item.get('name'))\\nstudents\",\n",
       " '_i79': \"# 이름순으로 정렬(ㄱㄴㄷ순)\\nstudents.sort(key = lambda item : item.get('name', '힣'))\\nstudents\",\n",
       " '_79': [{'score': 100},\n",
       "  {'name': '윤길동', 'score': 99},\n",
       "  {'name': '홍길동', 'score': 90},\n",
       "  {'name': '김길동', 'score': 50}],\n",
       " '_i80': \"# score순으로 정렬(내림차순정렬)\\nstudents.sort(key = lambda item : item.get('score', 0))\\nstudents\",\n",
       " '_80': [{'score': 100},\n",
       "  {'name': '윤길동', 'score': 99},\n",
       "  {'name': '홍길동', 'score': 90},\n",
       "  {'name': '김길동', 'score': 50}],\n",
       " '_i81': \"# score순으로 정렬(내림차순정렬)\\nstudents.sort(key = lambda item : item.get('score', 0), reverse=True)\\nstudents\",\n",
       " '_81': [{'score': 100},\n",
       "  {'name': '윤길동', 'score': 99},\n",
       "  {'name': '홍길동', 'score': 90},\n",
       "  {'name': '김길동', 'score': 50}],\n",
       " '_i82': \"# score순으로 정렬(내림차순정렬 : reverse=True)\\nstudents.sort(key = lambda item : item.get('score', 0), reverse=True)\\nstudents\",\n",
       " '_82': [{'score': 100},\n",
       "  {'name': '윤길동', 'score': 99},\n",
       "  {'name': '홍길동', 'score': 90},\n",
       "  {'name': '김길동', 'score': 50}],\n",
       " '_i83': \"# 책제목순 정렬(ㄱㄴㄷ순), 저자순 정렬(ㄱㄴㄷ순), 가격순 정렬\\nbooks =[\\n    {'no':1, 'title':'강남 아파트 인사이트', 'writer':'오스틀', 'price':'25,200'},\\n    {'no':2, 'title':'단 한 번의 삶', 'writer':'김영하', 'price':'18,100'},\\n    {'no':3, 'title':'흔한남매 19', 'writer':'백난도', 'price':'14,220'},\\n    {'no':4, 'title':'가격이잘못', 'writer':'홍길동', 'price':'-'},\\n    {'no':5, 'title':'가격이숫자', 'writer':'신길동', 'price':900},\\n    {'no':6, 'title':'가격이없음', 'writer':'김길동'},\\n]\",\n",
       " 'books': [{'no': 6, 'title': '가격이없음', 'writer': '김길동'},\n",
       "  {'no': 2, 'title': '단 한 번의 삶', 'writer': '김영하', 'price': '18,100'},\n",
       "  {'no': 3, 'title': '흔한남매 19', 'writer': '백난도', 'price': '14,220'},\n",
       "  {'no': 5, 'title': '가격이숫자', 'writer': '신길동', 'price': 900},\n",
       "  {'no': 1, 'title': '강남 아파트 인사이트', 'writer': '오스틀', 'price': '25,200'},\n",
       "  {'no': 4, 'title': '가격이잘못', 'writer': '홍길동', 'price': '-'}],\n",
       " '_i84': \"# 제목순 정렬(ㄱㄴㄷ순)\\nbooks.sort(key = lambda book : book.get('title'))\\nbooks\",\n",
       " '_84': [{'no': 6, 'title': '가격이없음', 'writer': '김길동'},\n",
       "  {'no': 2, 'title': '단 한 번의 삶', 'writer': '김영하', 'price': '18,100'},\n",
       "  {'no': 3, 'title': '흔한남매 19', 'writer': '백난도', 'price': '14,220'},\n",
       "  {'no': 5, 'title': '가격이숫자', 'writer': '신길동', 'price': 900},\n",
       "  {'no': 1, 'title': '강남 아파트 인사이트', 'writer': '오스틀', 'price': '25,200'},\n",
       "  {'no': 4, 'title': '가격이잘못', 'writer': '홍길동', 'price': '-'}],\n",
       " '_i85': \"# 저자순 정렬(ㄱㄴㄷ순)\\nbooks.sort(key = lambda book : book.get('writer'))\\nbooks\",\n",
       " '_85': [{'no': 6, 'title': '가격이없음', 'writer': '김길동'},\n",
       "  {'no': 2, 'title': '단 한 번의 삶', 'writer': '김영하', 'price': '18,100'},\n",
       "  {'no': 3, 'title': '흔한남매 19', 'writer': '백난도', 'price': '14,220'},\n",
       "  {'no': 5, 'title': '가격이숫자', 'writer': '신길동', 'price': 900},\n",
       "  {'no': 1, 'title': '강남 아파트 인사이트', 'writer': '오스틀', 'price': '25,200'},\n",
       "  {'no': 4, 'title': '가격이잘못', 'writer': '홍길동', 'price': '-'}],\n",
       " '_i86': \"# 가격순\\nbooks.sort(key = lambda book : book.get('price'))\\nbooks\",\n",
       " '_i87': \"# 가격순\\nbooks.sort(key = lambda book : book.get('price', 0))\\nbooks\",\n",
       " '_i88': \"# 가격순\\n# '14,000' => 14000 / 800 => 800 / '-' => 0\\ndef parse_int(price) :\\n    print(type(price))\",\n",
       " 'parse_int': <function __main__.parse_int(book)>,\n",
       " '_i89': 'parse_int(800)',\n",
       " '_i90': 'parse_int(\"800\")',\n",
       " '_i91': \"# 가격순\\n# '14,000' => 14000 / 800 => 800 / '-' => 0\\ndef parse_int(price) :\\n#     print(type(price))\\n    if isinstance(price, int) :\\n        return price\",\n",
       " '_i92': 'parse_int(800)',\n",
       " '_92': 800,\n",
       " '_i93': 'parse_int(\"800\")',\n",
       " '_i94': '# 가격순\\n# \\'14,000\\' => 14000 / \"2000\" => 2000 / 800 => 800 / \\'-\\' => 0\\ndef parse_int(price) :\\n#     print(type(price))\\n    if price.replace(\\',\\',\\'\\').isdigit() :\\n        return int(price.replace(\\',\\',\\'\\'))\\n    elif isinstance(price, int) :\\n        return price',\n",
       " '_i95': 'parse_int(\"8,000\")',\n",
       " '_95': 8000,\n",
       " '_i96': 'parse_int(8000)',\n",
       " '_i97': '# 가격순\\n# \\'14,000\\' => 14000 / \"2000\" => 2000 / 800 => 800 / \\'-\\' => 0\\ndef parse_int(price) :\\n#     print(type(price))\\n    if isinstance(price, str) and price.replace(\\',\\',\\'\\').isdigit() :\\n        return int(price.replace(\\',\\',\\'\\'))\\n    elif isinstance(price, int) :\\n        return price',\n",
       " '_i98': '# 가격순\\n# \\'14,000\\' => 14000 / \"2000\" => 2000 / 800 => 800 / \\'-\\' => 0\\ndef parse_int(price) :\\n#     print(type(price))\\n    if isinstance(price, str) and price.replace(\\',\\',\\'\\').isdigit() :\\n        return int(price.replace(\\',\\',\\'\\'))\\n    elif isinstance(price, int) :\\n        return price',\n",
       " '_i99': 'parse_int(8000)',\n",
       " '_99': 8000,\n",
       " '_i100': 'parse_int(\"8,000\")',\n",
       " '_100': 8000,\n",
       " '_i101': 'parse_int(\"8,000\"), parse_int(\"8000\"), parse_int(800), parse_int(\"-\")',\n",
       " '_101': (8000, 8000, 800, None),\n",
       " '_i102': '# 가격순\\n# \\'14,000\\' => 14000 / \"2000\" => 2000 / 800 => 800 / \\'-\\' => 0\\ndef parse_int(price) :\\n#     print(type(price))\\n    if isinstance(price, str) and price.replace(\\',\\',\\'\\').isdigit() :\\n        return int(price.replace(\\',\\',\\'\\'))\\n    elif isinstance(price, int) :\\n        return price\\n    else :\\n        return 0',\n",
       " '_i103': 'parse_int(\"8,000\"), parse_int(\"8000\"), parse_int(800), parse_int(\"-\")',\n",
       " '_103': (8000, 8000, 800, 0),\n",
       " '_i104': \"# {'no':6, 'title':'가격이없음', 'writer':'김길동'}\\n# {'no': 3, 'title': '흔한남매 19', 'writer': '백난도', 'price': '14,220'}\\n# {'no': 5, 'title': '가격이숫자', 'writer': '신길동', 'price': 900}\\ndef parse_int(book) :\\n    if isinstance(book.get('price'), str) and \\\\\\n            book.get('price').replace(',','').isdigit() :\\n        return int(book.get('price').replace(',',''))\\n    elif isinstance(book.get('price'), int) :\\n        return book.get('price')\\n    else :\\n        return 0\\nparse_int(books[0]), parse_int(books[3]), parse_int(books[2]), parse_int(books[5]),\",\n",
       " '_104': (0, 900, 14220, 0),\n",
       " '_i105': \"books =[\\n    {'no':1, 'title':'강남 아파트 인사이트', 'writer':'오스틀', 'price':'25,200'},\\n    {'no':2, 'title':'단 한 번의 삶', 'writer':'김영하', 'price':'18,100'},\\n    {'no':3, 'title':'흔한남매 19', 'writer':'백난도', 'price':'14,220'},\\n    {'no':4, 'title':'가격이잘못', 'writer':'홍길동', 'price':'-'},\\n    {'no':5, 'title':'가격이숫자', 'writer':'신길동', 'price':900},\\n    {'no':6, 'title':'가격이없음', 'writer':'김길동'},\\n]\\ncopy_books = books.copy()\\ncopy_books.sort(key = lambda book :\\n                int(book.get('price').replace(',','')) \\\\\\n                    if isinstance(book.get('price'), str) and \\\\\\n                        book.get('price').replace(',','').isdigit() else \\\\\\n                book.get('price') if isinstance(isinstance(book.get('price'), int) else \\\\\\n                0,\\n                                                \\n                )\",\n",
       " '_i106': \"books =[\\n    {'no':1, 'title':'강남 아파트 인사이트', 'writer':'오스틀', 'price':'25,200'},\\n    {'no':2, 'title':'단 한 번의 삶', 'writer':'김영하', 'price':'18,100'},\\n    {'no':3, 'title':'흔한남매 19', 'writer':'백난도', 'price':'14,220'},\\n    {'no':4, 'title':'가격이잘못', 'writer':'홍길동', 'price':'-'},\\n    {'no':5, 'title':'가격이숫자', 'writer':'신길동', 'price':900},\\n    {'no':6, 'title':'가격이없음', 'writer':'김길동'},\\n]\\ncopy_books = books.copy()\\ncopy_books.sort(key = lambda book :\\n                int(book.get('price').replace(',','')) \\\\\\n                    if isinstance(book.get('price'), str) and \\\\\\n                        book.get('price').replace(',','').isdigit() else \\\\\\n                book.get('price') if isinstance(isinstance(book.get('price'), int) else \\\\\\n                0\\n                                                \\n                )\",\n",
       " '_i107': \"books =[\\n    {'no':1, 'title':'강남 아파트 인사이트', 'writer':'오스틀', 'price':'25,200'},\\n    {'no':2, 'title':'단 한 번의 삶', 'writer':'김영하', 'price':'18,100'},\\n    {'no':3, 'title':'흔한남매 19', 'writer':'백난도', 'price':'14,220'},\\n    {'no':4, 'title':'가격이잘못', 'writer':'홍길동', 'price':'-'},\\n    {'no':5, 'title':'가격이숫자', 'writer':'신길동', 'price':900},\\n    {'no':6, 'title':'가격이없음', 'writer':'김길동'},\\n]\\ncopy_books = books.copy()\",\n",
       " 'copy_books': [{'no': 6, 'title': '가격이없음', 'writer': '김길동'},\n",
       "  {'no': 4, 'title': '가격이잘못', 'writer': '홍길동', 'price': '-'},\n",
       "  {'no': 5, 'title': '가격이숫자', 'writer': '신길동', 'price': 900},\n",
       "  {'no': 3, 'title': '흔한남매 19', 'writer': '백난도', 'price': '14,220'},\n",
       "  {'no': 2, 'title': '단 한 번의 삶', 'writer': '김영하', 'price': '18,100'},\n",
       "  {'no': 1, 'title': '강남 아파트 인사이트', 'writer': '오스틀', 'price': '25,200'}],\n",
       " '_i108': \"copy_books.sort(key = lambda book :\\n                int(book.get('price').replace(',','')) \\\\\\n                    if isinstance(book.get('price'), str) and \\\\\\n                        book.get('price').replace(',','').isdigit() else \\\\\\n                book.get('price') if isinstance(isinstance(book.get('price'), int) else \\\\\\n                0                          \\n                )\",\n",
       " '_i109': \"copy_books.sort(key = lambda book :\\n                int(book.get('price').replace(',','')) \\\\\\n                    if isinstance(book.get('price'), str) and \\\\\\n                        book.get('price').replace(',','').isdigit() else \\\\\\n                book.get('price') if isinstance(book.get('price'), int) else \\\\\\n                0                          \\n                )\",\n",
       " '_i110': \"(lambda book :\\n               int(book.get('price').replace(',','')) \\\\\\n                    if isinstance(book.get('price'), str) and \\\\\\n                        book.get('price').replace(',','').isdigit() else \\\\\\n                book.get('price') if isinstance(book.get('price'), int) else \\\\\\n                0)(books[0])\",\n",
       " '_110': 25200,\n",
       " '_i111': \"# {'no':6, 'title':'가격이없음', 'writer':'김길동'}\\n# {'no': 3, 'title': '흔한남매 19', 'writer': '백난도', 'price': '14,220'}\\n# {'no': 5, 'title': '가격이숫자', 'writer': '신길동', 'price': 900}\\ndef parse_int(book) :\\n    if isinstance(book.get('price'), str) and \\\\\\n                 book.get('price').replace(',','').isdigit() :\\n        return int(book.get('price').replace(',',''))\\n    elif isinstance(book.get('price'), int) :\\n        return book.get('price')\\n    else :\\n        return 0\\nparse_int(books[0]), parse_int(books[3]), parse_int(books[2]), parse_int(books[5]),\",\n",
       " '_111': (25200, 0, 14220, 0),\n",
       " '_i112': '# 가격순\\n# \\'14,000\\' => 14000 / \"2000\" => 2000 / 800 => 800 / \\'-\\' => 0\\ndef parse_int(price) :\\n#     print(type(price))\\n    if isinstance(price, str) and price.replace(\\',\\',\\'\\').isdigit() :\\n        return int(price.replace(\\',\\',\\'\\'))\\n    elif isinstance(price, int) :\\n        return price\\n    else :\\n        return 0',\n",
       " '_i113': \"# 제목순 정렬(ㄱㄴㄷ순)\\nbooks.sort(key = lambda book : book.get('title'))\\nbooks\",\n",
       " '_113': [{'no': 6, 'title': '가격이없음', 'writer': '김길동'},\n",
       "  {'no': 2, 'title': '단 한 번의 삶', 'writer': '김영하', 'price': '18,100'},\n",
       "  {'no': 3, 'title': '흔한남매 19', 'writer': '백난도', 'price': '14,220'},\n",
       "  {'no': 5, 'title': '가격이숫자', 'writer': '신길동', 'price': 900},\n",
       "  {'no': 1, 'title': '강남 아파트 인사이트', 'writer': '오스틀', 'price': '25,200'},\n",
       "  {'no': 4, 'title': '가격이잘못', 'writer': '홍길동', 'price': '-'}],\n",
       " '_i114': \"# 저자순 정렬(ㄱㄴㄷ순)\\nbooks.sort(key = lambda book : book.get('writer'))\\nbooks\",\n",
       " '_114': [{'no': 6, 'title': '가격이없음', 'writer': '김길동'},\n",
       "  {'no': 2, 'title': '단 한 번의 삶', 'writer': '김영하', 'price': '18,100'},\n",
       "  {'no': 3, 'title': '흔한남매 19', 'writer': '백난도', 'price': '14,220'},\n",
       "  {'no': 5, 'title': '가격이숫자', 'writer': '신길동', 'price': 900},\n",
       "  {'no': 1, 'title': '강남 아파트 인사이트', 'writer': '오스틀', 'price': '25,200'},\n",
       "  {'no': 4, 'title': '가격이잘못', 'writer': '홍길동', 'price': '-'}],\n",
       " '_i115': '# 가격순\\n# \\'14,000\\' => 14000 / \"2000\" => 2000 / 800 => 800 / \\'-\\' => 0\\ndef parse_int(price) :\\n#     print(type(price))\\n    if isinstance(price, str) and price.replace(\\',\\',\\'\\').isdigit() :\\n        return int(price.replace(\\',\\',\\'\\'))\\n    elif isinstance(price, int) :\\n        return price\\n    else :\\n        return 0',\n",
       " '_i116': 'parse_int(\"8,000\"), parse_int(\"8000\"), parse_int(800), parse_int(\"-\")',\n",
       " '_116': (8000, 8000, 800, 0),\n",
       " '_i117': \"# {'no':6, 'title':'가격이없음', 'writer':'김길동'}\\n# {'no': 3, 'title': '흔한남매 19', 'writer': '백난도', 'price': '14,220'}\\n# {'no': 5, 'title': '가격이숫자', 'writer': '신길동', 'price': 900}\\ndef parse_int(book) :\\n    if isinstance(book.get('price'), str) and \\\\\\n                 book.get('price').replace(',','').isdigit() :\\n        return int(book.get('price').replace(',',''))\\n    elif isinstance(book.get('price'), int) :\\n        return book.get('price')\\n    else :\\n        return 0\\nparse_int(books[0]), parse_int(books[3]), parse_int(books[2]), parse_int(books[5]),\",\n",
       " '_117': (0, 900, 14220, 0),\n",
       " '_i118': \"# books =[\\n#     {'no':1, 'title':'강남 아파트 인사이트', 'writer':'오스틀', 'price':'25,200'},\\n#     {'no':2, 'title':'단 한 번의 삶', 'writer':'김영하', 'price':'18,100'},\\n#     {'no':3, 'title':'흔한남매 19', 'writer':'백난도', 'price':'14,220'},\\n#     {'no':4, 'title':'가격이잘못', 'writer':'홍길동', 'price':'-'},\\n#     {'no':5, 'title':'가격이숫자', 'writer':'신길동', 'price':900},\\n#     {'no':6, 'title':'가격이없음', 'writer':'김길동'},\\n# ]\\ncopy_books = books.copy()\",\n",
       " '_i119': \"copy_books.sort(key = lambda book :\\n                int(book.get('price').replace(',','')) \\\\\\n                    if isinstance(book.get('price'), str) and \\\\\\n                        book.get('price').replace(',','').isdigit() else \\\\\\n                book.get('price') if isinstance(book.get('price'), int) else \\\\\\n                0                          \\n                )\",\n",
       " '_i120': \"(lambda book :\\n               int(book.get('price').replace(',','')) \\\\\\n                    if isinstance(book.get('price'), str) and \\\\\\n                        book.get('price').replace(',','').isdigit() else \\\\\\n                book.get('price') if isinstance(book.get('price'), int) else \\\\\\n                0)(books[0])\",\n",
       " '_120': 0,\n",
       " '_i121': \"(lambda book :\\n               int(book.get('price').replace(',','')) \\\\\\n                    if isinstance(book.get('price'), str) and \\\\\\n                        book.get('price').replace(',','').isdigit() else \\\\\\n                book.get('price') if isinstance(book.get('price'), int) else \\\\\\n                0)(books)\",\n",
       " '_i122': \"(lambda book :\\n               int(book.get('price').replace(',','')) \\\\\\n                    if isinstance(book.get('price'), str) and \\\\\\n                        book.get('price').replace(',','').isdigit() else \\\\\\n                book.get('price') if isinstance(book.get('price'), int) else \\\\\\n                0)(books[0])\",\n",
       " '_122': 0,\n",
       " '_i123': '# 함수를 return\\ndef make_box(shape) : # shape : [l] -> len가 l인 list를 생성하는 함수 return,\\n#                                 [r, c] -> r행 c열인 list를 생성하는 함수 return,\\n#                                 [d, r, c] -> d면 r행 c열 3차원 list를 생성하는 함수 return\\n    def box(init_value) :\\n        if len(shape)==1 :\\n            return [init_value]*shape[0]\\n        elif len(shape)==2 :\\n            return [ [init_value]*shape[1] ] * shape[0]\\n    return box',\n",
       " 'make_box': <function __main__.make_box(shape)>,\n",
       " '_i124': 'line_func = make_box([2, 3])\\nline_func(3)',\n",
       " 'line_func': <function __main__.make_box.<locals>.box(init_value)>,\n",
       " '_124': [[3, 3, 3], [3, 3, 3]],\n",
       " '_i125': 'def make_box(shape) :\\n    if len(shape)==1 :\\n        return lambda init_value : [init_value]*shape[0]\\n    elif len(shape)==2 :\\n        return lambda [ [init_value]*shape[1] ] * shape[0]',\n",
       " '_i126': 'def make_box(shape) :\\n    if len(shape)==1 :\\n        return lambda init_value : [init_value]*shape[0]\\n    elif len(shape)==2 :\\n        return lambda init_value : [ [init_value]*shape[1] ] * shape[0]',\n",
       " '_i127': 'globals() # 전역변수 리스트'}"
      ]
     },
     "execution_count": 127,
     "metadata": {},
     "output_type": "execute_result"
    }
   ],
   "source": [
    "globals() # 전역변수 리스트"
   ]
  },
  {
   "cell_type": "code",
   "execution_count": 130,
   "id": "8daf2a49",
   "metadata": {},
   "outputs": [
    {
     "data": {
      "text/plain": [
       "False"
      ]
     },
     "execution_count": 130,
     "metadata": {},
     "output_type": "execute_result"
    }
   ],
   "source": [
    "all([True, True, True, False]) # 전부 True 인지 여부 반환"
   ]
  },
  {
   "cell_type": "code",
   "execution_count": 133,
   "id": "74cde3e9",
   "metadata": {},
   "outputs": [
    {
     "data": {
      "text/plain": [
       "4"
      ]
     },
     "execution_count": 133,
     "metadata": {},
     "output_type": "execute_result"
    }
   ],
   "source": [
    "round(3.5) # 반올림"
   ]
  },
  {
   "cell_type": "code",
   "execution_count": 137,
   "id": "dd83dd28",
   "metadata": {},
   "outputs": [
    {
     "data": {
      "text/plain": [
       "(4.0, 4.0, 3.0)"
      ]
     },
     "execution_count": 137,
     "metadata": {},
     "output_type": "execute_result"
    }
   ],
   "source": [
    "import numpy as np #numpy 모듈을 np라는 이름으로 load\n",
    "np.round(3.5), np.ceil(3.5), np.floor(3.2) # 반올림, 올림, 내림 (실수 반환)"
   ]
  },
  {
   "cell_type": "markdown",
   "id": "98747177",
   "metadata": {},
   "source": [
    "### 실습형 연습문제"
   ]
  },
  {
   "cell_type": "code",
   "execution_count": 140,
   "id": "9bafdd78",
   "metadata": {},
   "outputs": [
    {
     "data": {
      "text/plain": [
       "(6, 1)"
      ]
     },
     "execution_count": 140,
     "metadata": {},
     "output_type": "execute_result"
    }
   ],
   "source": [
    "# 1.함수의인자로 리스트를 받은 후 리스트 내에 있는 모든 정수값에 대한 최대값과 최소값을 리턴하는 함수를 작성하세요\n",
    "def get_max_min(data_list):\n",
    "    return max(data_list), min(data_list)\n",
    "get_max_min= lambda data_list : (max(data_list), min(data_list))\n",
    "get_max_min([1, 2, 3, 4, 5, 6,])"
   ]
  },
  {
   "cell_type": "code",
   "execution_count": 150,
   "id": "ea660dfd",
   "metadata": {},
   "outputs": [
    {
     "name": "stdout",
     "output_type": "stream",
     "text": [
      "체중을 입력하세요. : 74\n",
      "신장을 입력하세요.(cm기준) : 177\n",
      "당신의 BMI는 23.620287912158062이고, 당신은 표준입니다.\n"
     ]
    }
   ],
   "source": [
    "# 2.체질량 지수(Body Mass Index, BMI)는 체중과 키를 이용해 비만도를 나타내는 지수로 아래의 수식에 의해 계산됩니다.\n",
    "# 함수의 인자로 체중(kg)과 신장(m)를입력받은 후 BMI값에 따라 ‘\n",
    "# 마른 체형‘, ‘표준‘, ‘비만‘, ‘고도비만‘ 중 하나의 상태를 출력하는 함수를 구현해 보세요.\n",
    "# getBMI(kg, m):\n",
    "# BMI지수 = 체중(kg) / 신장(m)의 제곱\n",
    "# BMI<18.5 : 마른체형\n",
    "# 18.5<=BMI<25 : 표준\n",
    "# 25<=BMI<30 : 비만\n",
    "# BMI >=30 : 고도비만\n",
    "kg = float(input('체중을 입력하세요. : '))\n",
    "m = float(input('신장을 입력하세요.(cm기준) : '))/100\n",
    "bmi = kg/(m**2)\n",
    "def getBMI(kg, m) :\n",
    "    if bmi < 18.5 :\n",
    "        return '마른체형'\n",
    "    elif 18.5 <= bmi < 25 :\n",
    "        return '표준'\n",
    "    elif 25<= bmi < 30 :\n",
    "        return '비만'\n",
    "    else :\n",
    "        return '고도비만'\n",
    "print(\"당신의 BMI는 {}이고, 당신은 {}입니다.\".format(bmi,getBMI(kg,m)))"
   ]
  },
  {
   "cell_type": "code",
   "execution_count": 158,
   "id": "8f26dd2a",
   "metadata": {},
   "outputs": [
    {
     "name": "stdout",
     "output_type": "stream",
     "text": [
      "밑변의 길이를 입력하세요. :6\n",
      "높이의 길이를 입력하세요. :7\n",
      "직각삼각형의 면적은 21.00이고, 둘레는 22.22입니다.\n"
     ]
    }
   ],
   "source": [
    "#  3.직각삼각형의 밑변과 높이를 입력받은 후 삼각형의 면적과 둘레를 계산하는 함수를 작성하세요\n",
    "#  리턴값은 면적과 둘레를 return하도록 구현하세요\n",
    "# math.sqrt() : 제곱근을 구하는 함수이용 (ex)math.sqrt(25) : 5.0\n",
    "import math\n",
    "width = float(input('밑변의 길이를 입력하세요. :'))\n",
    "height = float(input('높이의 길이를 입력하세요. :'))\n",
    "def get_triangle(width, height):\n",
    "    area = (width * height)/2 # 면적 \n",
    "    hypotenuse = math.sqrt((width**2) + (height**2)) # 빗변의 길이\n",
    "    circum = hypotenuse + width + height\n",
    "    return area, circum\n",
    "print('직각삼각형의 면적은 {:.2f}이고, 둘레는 {:.2f}입니다.'.format(*get_triangle(width, height)))"
   ]
  },
  {
   "cell_type": "code",
   "execution_count": 160,
   "id": "b8ab3ec9",
   "metadata": {},
   "outputs": [
    {
     "data": {
      "text/plain": [
       "189"
      ]
     },
     "execution_count": 160,
     "metadata": {},
     "output_type": "execute_result"
    }
   ],
   "source": [
    "# 4.함수의 인자로 시작과 끝 숫자가 주어질 때 시작부터 끝까지의 모든 정수값의 합을 리턴하는 함수를 작성하세요(시작값과 끝값 포함)\n",
    "def mysum(fRom, end):\n",
    "    total = 0\n",
    "    for i in range(fRom, end+1) :\n",
    "        total += i\n",
    "    return total\n",
    "mysum(7, 20)"
   ]
  },
  {
   "cell_type": "code",
   "execution_count": 161,
   "id": "01d2cb32",
   "metadata": {},
   "outputs": [
    {
     "name": "stdout",
     "output_type": "stream",
     "text": [
      "['Seo', 'Dae', 'Kwa', 'Jej']\n",
      "['Seo', 'Dae', 'Kwa', 'Jej']\n"
     ]
    }
   ],
   "source": [
    "# 5.함수의인자로 문자열을 포함하는 리스트가 입력될 때 각 문자열의 첫 세글자로만 구성된 리스트를 리턴하는 함수와 람다식을 작성하세요\n",
    "# 예를 들어 함수의 입력으로 [‘Seoul’, ‘Daegu’, ‘Kwangju’, ‘Jeju’]가 입력될 때 \n",
    "# 함수의 리턴값은 [‘Seo’, ‘Dae’, ‘Kwa’,’Jej’]\n",
    "cities = ['Seoul', 'Daegu', 'Kwangju', 'Jeju']\n",
    "def get_abbrs(lst):\n",
    "    return [word[:3] for word in lst]\n",
    "print(get_abbrs(cities))         # 출력: ['Seo', 'Dae', 'Kwa', 'Jej']\n",
    "get_abbrs_lambda = lambda lst: [word[:3] for word in lst]\n",
    "print(get_abbrs(cities))"
   ]
  },
  {
   "cell_type": "code",
   "execution_count": 162,
   "id": "95833b97",
   "metadata": {},
   "outputs": [
    {
     "data": {
      "text/plain": [
       "49"
      ]
     },
     "execution_count": 162,
     "metadata": {},
     "output_type": "execute_result"
    }
   ],
   "source": [
    "# 6. 다음 코드를 람다 함수 형태로 수정할 때 알맞은 코드를 작성하시오\n",
    "f = lambda x, y : x**y\n",
    "f(7, 2)"
   ]
  },
  {
   "cell_type": "code",
   "execution_count": 170,
   "id": "041e81bb",
   "metadata": {},
   "outputs": [
    {
     "name": "stdout",
     "output_type": "stream",
     "text": [
      "map/lambda 결과: [1, 4, 9, 16, 25]\n",
      "리스트 컴프리헨션 결과: [1, 4, 9, 16, 25]\n"
     ]
    }
   ],
   "source": [
    "# 7. ex = [1,2,3,4,5]를 [1,4,9,16,25]의 결과를 얻을 수 있도록 람다함수와 map()함수를 사용하여 \n",
    "#         구현과 리스트 컴프리헨션으로 구현하시오\n",
    "ex = [1, 2, 3, 4, 5]\n",
    "def square(ex_list):\n",
    "    return list(map(lambda x: x ** 2, ex_list))\n",
    "print(\"map/lambda 결과:\", square(ex))\n",
    "\n",
    "def square(ex_list):\n",
    "    return [x ** 2 for x in ex_list]\n",
    "print(\"리스트 컴프리헨션 결과:\", square(ex))\n",
    "# 4월 17일 - 여기까지"
   ]
  },
  {
   "cell_type": "code",
   "execution_count": null,
   "id": "f899ed0a",
   "metadata": {},
   "outputs": [],
   "source": [
    "# 8. 다음코드를 각각 실행하면 서로 다른 결과가 나온다. 이런 결과가 나오는 이유를 서술하시오\n",
    ">>> a = [1, 2, 3]\n",
    ">>> print(*a)\n",
    "1 2 3\n",
    ">>> print(a)\n",
    "[1, 2, 3]\n",
    "# 첫번째의 경우 언패킹을 진행하여 각 요소를 출력하기때문에 print(1, 2, 3)과 같고, 두번째는 a라는 리스트를 출력하기 떄문에\n",
    "# [1, 2, 3]이 출력된다"
   ]
  },
  {
   "cell_type": "code",
   "execution_count": 171,
   "id": "1edcc9a5",
   "metadata": {},
   "outputs": [
    {
     "data": {
      "text/plain": [
       "'2024-9-6'"
      ]
     },
     "execution_count": 171,
     "metadata": {},
     "output_type": "execute_result"
    }
   ],
   "source": [
    "# 9. 다음 코드의 실행 결과는?\n",
    "date_info = {'year': 2024, 'month': 9, 'day': 6}\n",
    "result = '{year}-{month}-{day}'.format(**date_info)\n",
    "result\n"
   ]
  },
  {
   "cell_type": "code",
   "execution_count": 173,
   "id": "e9115c49",
   "metadata": {},
   "outputs": [
    {
     "data": {
      "text/plain": [
       "True"
      ]
     },
     "execution_count": 173,
     "metadata": {},
     "output_type": "execute_result"
    }
   ],
   "source": [
    "# 10. n개의 벡터(리스트나 튜플, 셋등)의 크기들이 같은지 여부를 reutrn하는\n",
    "# vector_size_check(*vector _var) 를 한 줄의 코드(리스트 컴프리헨션 이용)로 작성하시오.\n",
    "vector_size_check = lambda *vector_var: all(len(v) == len(vector_var[0]) for v in vector_var)\n",
    "vector_size_check([10, 20], (100, 200), {'name':'홍', 'age':20}, {1, 2})"
   ]
  },
  {
   "cell_type": "code",
   "execution_count": 174,
   "id": "a0d4d3f9",
   "metadata": {},
   "outputs": [
    {
     "data": {
      "text/plain": [
       "[5, 10, 15, 20]"
      ]
     },
     "execution_count": 174,
     "metadata": {},
     "output_type": "execute_result"
    }
   ],
   "source": [
    "# 11. 다음과 같은 결과를 얻기 위해 하나의 스칼라값을 리스트나 튜플, 셋등 벡터에 \n",
    "# 곱하는 코드를 작성하시오.(단 입력되는 벡터의 크기는 일정하지 않음)\n",
    "# >>> scalar_vector_product(5, [1, 2, 3, 4])\n",
    "# [5, 10, 15, 20]\n",
    "def scalar_vector_product(scalar, vector):\n",
    "    return [scalar * x for x in vector]\n",
    "scalar_vector_product(5, [1, 2, 3, 4])"
   ]
  },
  {
   "cell_type": "markdown",
   "id": "fc450798",
   "metadata": {},
   "source": [
    "### 서술형 연습문제"
   ]
  },
  {
   "cell_type": "code",
   "execution_count": 175,
   "id": "41ff2327",
   "metadata": {},
   "outputs": [
    {
     "data": {
      "text/plain": [
       "[(4, 'a'), (3, 'b'), (2, 'c'), (1, 'd')]"
      ]
     },
     "execution_count": 175,
     "metadata": {},
     "output_type": "execute_result"
    }
   ],
   "source": [
    "# 1. 다음코드의 실행 결과는?\n",
    "pairs = [(1, 'd'), (2, 'c'), (3, 'b'), (4, 'a')]\n",
    "pairs.sort(key=lambda pair: pair[1])\n",
    "pairs\n",
    "# ① [(1, 'd'), (2, 'c'), (3, 'b'), (4, 'a')]\n",
    "# ② [(4, 'a'), (3, 'b'), (2, 'c'), (1, 'd')]\n",
    "# ③ [(1, 'a'), (2, 'b'), (3, 'c'), (4, 'd')]\n",
    "# ④ 프로그램 오류\n",
    "# 정답 2"
   ]
  },
  {
   "cell_type": "code",
   "execution_count": 180,
   "id": "ab5a3830",
   "metadata": {},
   "outputs": [
    {
     "name": "stdout",
     "output_type": "stream",
     "text": [
      "612613"
     ]
    }
   ],
   "source": [
    "# 2.함수 영역과 변수들의 참조 영역에 따른 동작을 보여주기 위한 문제입니다.\n",
    "# 오류가 발생하는 라인을 찾고 문제를 해결하기 위한 코드를 작성하며, 실행 결과를 쓰시오.\n",
    "# a = 10\n",
    "# def sub():\n",
    "#     a += 1\n",
    "#     print(a, end='')\n",
    "\n",
    "# def func():\n",
    "#     for i in range(2):\n",
    "#         a = 5\n",
    "#         a += 1\n",
    "#         print(a, end='')\n",
    "#         sub()\n",
    "\n",
    "# a += 1\n",
    "# func()\n",
    "# 처음 a는 전역변수로 선언했으나 sub()내에서는 a가 없기 떄문에 오류 발생\n",
    "# 수정\n",
    "a = 10\n",
    "def sub():\n",
    "    global a\n",
    "    a += 1\n",
    "    print(a, end='')\n",
    "\n",
    "def func():\n",
    "    for i in range(2):\n",
    "        a = 5\n",
    "        a += 1\n",
    "        print(a, end='')\n",
    "        sub()\n",
    "\n",
    "a += 1\n",
    "func()"
   ]
  },
  {
   "cell_type": "code",
   "execution_count": 182,
   "id": "87e8feab",
   "metadata": {},
   "outputs": [
    {
     "name": "stdout",
     "output_type": "stream",
     "text": [
      "100\n"
     ]
    }
   ],
   "source": [
    "# 3.다음구문을 실행한 결과는\n",
    "var = 100\n",
    "def func(var):\n",
    "    var = 200\n",
    "func(var)\n",
    "print(var)"
   ]
  },
  {
   "cell_type": "code",
   "execution_count": 185,
   "id": "22059f49",
   "metadata": {},
   "outputs": [
    {
     "data": {
      "text/plain": [
       "5"
      ]
     },
     "execution_count": 185,
     "metadata": {},
     "output_type": "execute_result"
    }
   ],
   "source": [
    "# 4.다음구문의실행 결과는?\n",
    "def my_func(func, *args):\n",
    "    return func(*args)\n",
    "import numpy as np\n",
    "my_func(np.add, 2, 3)"
   ]
  },
  {
   "cell_type": "code",
   "execution_count": 186,
   "id": "9d78163e",
   "metadata": {},
   "outputs": [
    {
     "data": {
      "text/plain": [
       "9"
      ]
     },
     "execution_count": 186,
     "metadata": {},
     "output_type": "execute_result"
    }
   ],
   "source": [
    "# 5.다음구문의 실행결과는?\n",
    "def my_func(func, *args):\n",
    "    return func(*args)\n",
    "my_func(lambda a, b : a**b, 3, 2)"
   ]
  },
  {
   "cell_type": "code",
   "execution_count": null,
   "id": "9eba2a34",
   "metadata": {},
   "outputs": [],
   "source": [
    "6.파이썬 함수에 대한 설명 중 잘못된 것은?\n",
    "①파이썬의 함수는 중복 정의해 사용할 수 있다.\n",
    "②파이썬의 함수 매개변수는 기본값을 가질 수 있다.\n",
    "③**args 형식의 매개변수가 있으면 키워드 인수는 딕셔너리 형식으로 받는다.\n",
    "④함수를 호출할 때 매개변수 이름이 없는 인수는 매개변수 이름이 있는 인수\n",
    "\n",
    "1번. 오버로딩 허용되지 않음"
   ]
  },
  {
   "cell_type": "code",
   "execution_count": 188,
   "id": "18c69abe",
   "metadata": {},
   "outputs": [
    {
     "ename": "TypeError",
     "evalue": "func() got multiple values for argument 'a'",
     "output_type": "error",
     "traceback": [
      "\u001b[1;31m---------------------------------------------------------------------------\u001b[0m",
      "\u001b[1;31mTypeError\u001b[0m                                 Traceback (most recent call last)",
      "Cell \u001b[1;32mIn[188], line 14\u001b[0m\n\u001b[0;32m      8\u001b[0m     \u001b[38;5;28;01mreturn\u001b[39;00m L\n\u001b[0;32m      9\u001b[0m \u001b[38;5;66;03m# ① func(10, list_)\u001b[39;00m\n\u001b[0;32m     10\u001b[0m \u001b[38;5;66;03m# ② func(20, L=list_)\u001b[39;00m\n\u001b[0;32m     11\u001b[0m \u001b[38;5;66;03m# ③ func(a=30)\u001b[39;00m\n\u001b[0;32m     12\u001b[0m \u001b[38;5;66;03m# ④ func([], a=40)\u001b[39;00m\n\u001b[0;32m     13\u001b[0m \u001b[38;5;66;03m# 정답 없음. 모두 정상 실행\u001b[39;00m\n\u001b[1;32m---> 14\u001b[0m func(\u001b[38;5;241m10\u001b[39m, list_), func(\u001b[38;5;241m20\u001b[39m, L\u001b[38;5;241m=\u001b[39mlist_), func(a\u001b[38;5;241m=\u001b[39m\u001b[38;5;241m30\u001b[39m), \u001b[43mfunc\u001b[49m\u001b[43m(\u001b[49m\u001b[43m[\u001b[49m\u001b[43m]\u001b[49m\u001b[43m,\u001b[49m\u001b[43m \u001b[49m\u001b[43ma\u001b[49m\u001b[38;5;241;43m=\u001b[39;49m\u001b[38;5;241;43m40\u001b[39;49m\u001b[43m)\u001b[49m\n",
      "\u001b[1;31mTypeError\u001b[0m: func() got multiple values for argument 'a'"
     ]
    }
   ],
   "source": [
    "# 7.다음과 같은 구문이 있을 경우 오류가 발생하는 함수 호출은?\n",
    "list_ = []\n",
    "\n",
    "def func(a, L=None):\n",
    "    if L is None:\n",
    "        L = []\n",
    "    L.append(a)\n",
    "    return L\n",
    "# ① func(10, list_)\n",
    "# ② func(20, L=list_)\n",
    "# ③ func(a=30)\n",
    "# ④ func([], a=40)\n",
    "# 정답 4, a에 대해 []와 40이 두번 값을 전달하게 되는 호출\n",
    "func(10, list_), func(20, L=list_), func(a=30), func([], a=40)"
   ]
  },
  {
   "cell_type": "code",
   "execution_count": null,
   "id": "4f4f19af",
   "metadata": {},
   "outputs": [],
   "source": [
    "8. 다음 보기가 설명하는 것을 작성하기 위한 키워드를 쓰세요 (영문 소문자로 쓰세요)\n",
    "\n",
    "작은 익명 함수를 의미합니다.\n",
    "함수가 실행할 문장이 한 문장일 경우에 만들어 사용할 수 있습니다.\n",
    "다른 함수의 인수 또는 리턴값에 사용할 수 있습니다.\n",
    "\n",
    "정답 : lambda"
   ]
  },
  {
   "cell_type": "code",
   "execution_count": null,
   "id": "08505eb9",
   "metadata": {},
   "outputs": [],
   "source": []
  },
  {
   "cell_type": "code",
   "execution_count": null,
   "id": "0f0d577b",
   "metadata": {},
   "outputs": [],
   "source": []
  },
  {
   "cell_type": "code",
   "execution_count": null,
   "id": "0141cdb7",
   "metadata": {},
   "outputs": [],
   "source": []
  }
 ],
 "metadata": {
  "kernelspec": {
   "display_name": "Python 3 (ipykernel)",
   "language": "python",
   "name": "python3"
  },
  "language_info": {
   "codemirror_mode": {
    "name": "ipython",
    "version": 3
   },
   "file_extension": ".py",
   "mimetype": "text/x-python",
   "name": "python",
   "nbconvert_exporter": "python",
   "pygments_lexer": "ipython3",
   "version": "3.10.9"
  },
  "toc": {
   "base_numbering": 1,
   "nav_menu": {},
   "number_sections": false,
   "sideBar": true,
   "skip_h1_title": false,
   "title_cell": "Table of Contents",
   "title_sidebar": "Contents",
   "toc_cell": false,
   "toc_position": {
    "height": "calc(100% - 180px)",
    "left": "10px",
    "top": "150px",
    "width": "195.6px"
   },
   "toc_section_display": true,
   "toc_window_display": true
  }
 },
 "nbformat": 4,
 "nbformat_minor": 5
}
