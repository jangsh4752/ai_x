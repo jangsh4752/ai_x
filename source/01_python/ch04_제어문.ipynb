{
 "cells": [
  {
   "cell_type": "code",
   "execution_count": 2,
   "id": "28b33166",
   "metadata": {},
   "outputs": [
    {
     "data": {
      "text/html": [
       "\n",
       "<style>\n",
       "div.container{width:86% !important;}\n",
       "div.cell.code_cell.rendered{width:100%;}\n",
       "div.CodeMirror {font-family:Consolas; font-size:12pt;}\n",
       "div.output {font-size:15pt; font-weight:bold;}\n",
       "div.input {font-family:Consolas; font-size:12pt;}\n",
       "div.prompt {min-width:70px;}\n",
       "div#toc-wrapper{padding-top:120px;}\n",
       "div.text_cell_render ul li{font-size:12pt;padding:5px;}\n",
       "table.dataframe{font-size:15px;}\n",
       "</style>\n"
      ],
      "text/plain": [
       "<IPython.core.display.HTML object>"
      ]
     },
     "metadata": {},
     "output_type": "display_data"
    }
   ],
   "source": [
    "from IPython.display import display, HTML\n",
    "display(HTML(\"\"\"\n",
    "<style>\n",
    "div.container{width:86% !important;}\n",
    "div.cell.code_cell.rendered{width:100%;}\n",
    "div.CodeMirror {font-family:Consolas; font-size:12pt;}\n",
    "div.output {font-size:15pt; font-weight:bold;}\n",
    "div.input {font-family:Consolas; font-size:12pt;}\n",
    "div.prompt {min-width:70px;}\n",
    "div#toc-wrapper{padding-top:120px;}\n",
    "div.text_cell_render ul li{font-size:12pt;padding:5px;}\n",
    "table.dataframe{font-size:15px;}\n",
    "</style>\n",
    "\"\"\"))"
   ]
  },
  {
   "cell_type": "markdown",
   "id": "6da7c21a",
   "metadata": {},
   "source": [
    "<b><font size=\"5\" color=\"red\"> ch04. 제어문</font></b>\n",
    "- 조건문 : if문\n",
    "- 반복문 : for문, while문, 중첩 가능"
   ]
  },
  {
   "cell_type": "markdown",
   "id": "4f654de3",
   "metadata": {},
   "source": [
    "# 1절. 조건문(if)\n",
    "```\n",
    "if 조건1 : \n",
    "    조건1이 참일 경우 수행할 명령어들\n",
    "elif 조건2 : \n",
    "    조건1이 거짓이고, 조건2가 참일 경우 수행할 명령어들\n",
    "else : \n",
    "    모든 조건이 만족하지 않을때 수행할 명령어들\n",
    "\n",
    "```"
   ]
  },
  {
   "cell_type": "code",
   "execution_count": 3,
   "id": "18e87dfe",
   "metadata": {},
   "outputs": [
    {
     "name": "stdout",
     "output_type": "stream",
     "text": [
      "점수는 : 77\n",
      "분발하세요\n",
      "뭐 그래도 고생하셨어요\n",
      "화이팅\n"
     ]
    }
   ],
   "source": [
    "score = int(input('점수는 : '))\n",
    "if score >= 90: \n",
    "    print('참 잘했어요')\n",
    "    print('다음에도 기대할게요')\n",
    "elif score >= 60 :\n",
    "    print('분발하세요')\n",
    "    print('뭐 그래도 고생하셨어요')\n",
    "else :\n",
    "    print('재시험 응시하셔야 합니다')\n",
    "print('화이팅')"
   ]
  },
  {
   "cell_type": "code",
   "execution_count": 4,
   "id": "0f3d73c4",
   "metadata": {},
   "outputs": [
    {
     "name": "stdout",
     "output_type": "stream",
     "text": [
      "점수를 입력하세요 :66\n",
      "입력하신 점수는 66점이고, D등급입니다.\n"
     ]
    },
    {
     "data": {
      "text/plain": [
       "'D'"
      ]
     },
     "execution_count": 4,
     "metadata": {},
     "output_type": "execute_result"
    }
   ],
   "source": [
    "# 점수(0~100)를 입력받아 학점을 출력하시오(A, B, C, D, F, 유효하지 않은 점수)\n",
    "score = int(input('점수를 입력하세요 :'))\n",
    "if 90<=score<=100 : # if (score >= 90) & (score <=100) :\n",
    "    grade = 'A'\n",
    "elif 80<=score<90 :\n",
    "    grade = 'B'\n",
    "elif 70<=score<80 :\n",
    "    grade = 'C'\n",
    "elif 60<=score<70 :\n",
    "    grade = 'D'\n",
    "elif 0<=score<60 :\n",
    "    grade = 'F'\n",
    "else :\n",
    "    grade = '유효하지 않은 점수'\n",
    "print(\"입력하신 점수는 {}점이고, {}등급입니다.\".format(score, grade))\n",
    "grade"
   ]
  },
  {
   "cell_type": "markdown",
   "id": "8a93f118",
   "metadata": {},
   "source": [
    "# 2절. 반복문\n",
    "## 2.1 for-in문\n",
    "```\n",
    "for 임시변수 in 나열 가능한 자료 :\n",
    "    반복할 명령어1\n",
    "    반복할 명령어2...\n",
    "    반복할 명령어n\n",
    "    if 조건 : - 특정 조건 만족 시 반복문 탈출\n",
    "        break\n",
    "else :\n",
    "    나열 가능한 자료가 다 소요하여 for블록을 다 수행한 후 최종 한번 수행할 명령어\n",
    "    for문 안에 break를 수행할 경우 else 블록을 수행하지 않음\n",
    "```"
   ]
  },
  {
   "cell_type": "code",
   "execution_count": null,
   "id": "0c688df5",
   "metadata": {},
   "outputs": [],
   "source": [
    "for i in range(1, 10, 2) :\n",
    "    if i==5 :\n",
    "        break\n",
    "    print(i, end='\\t')\n",
    "else :\n",
    "    print('\\nDONE')\n",
    "print('END')"
   ]
  },
  {
   "cell_type": "code",
   "execution_count": null,
   "id": "3074bb7f",
   "metadata": {},
   "outputs": [],
   "source": [
    "# 1~100까지 누적합을 출력하시오(for문)\n",
    "total = 0 # 누적변수\n",
    "for i in range(1,101) :\n",
    "    total += i # total = total + i\n",
    "print('1~100까지 합은 ',total)"
   ]
  },
  {
   "cell_type": "code",
   "execution_count": null,
   "id": "677c790c",
   "metadata": {},
   "outputs": [],
   "source": [
    "# 1~100까지 짝수들의 누적합을 출력하시오(for문)\n",
    "total = 0 # 누적변수\n",
    "for i in range(1,101) :\n",
    "    if i%2==0 :\n",
    "        total += i\n",
    "print('1~100까지 짝수들의 합은 ',total)"
   ]
  },
  {
   "cell_type": "markdown",
   "id": "dd421ee7",
   "metadata": {},
   "source": [
    "## 2.2 while문\n",
    "```\n",
    "while 조건 :\n",
    "    조건이 참일 경우 반복할 문장들\n",
    "else :\n",
    "    조건이 거짓일 경우 한번 실행할 문장(else구문 선택사항)\n",
    "```"
   ]
  },
  {
   "cell_type": "code",
   "execution_count": null,
   "id": "3c55fb7c",
   "metadata": {},
   "outputs": [],
   "source": [
    "# 1~100까지 누적합 출력\n",
    "total = 0\n",
    "i = 1\n",
    "while i<=100 :\n",
    "    total += i\n",
    "    i += 1\n",
    "print(\"1부터 100까지의 합은\", total)"
   ]
  },
  {
   "cell_type": "code",
   "execution_count": null,
   "id": "e94a1829",
   "metadata": {},
   "outputs": [],
   "source": [
    "# 1~100까지 짝수들 누적합 출력\n",
    "total = 0\n",
    "i = 1\n",
    "while i<=100 :\n",
    "    if i%2==0 :\n",
    "        total += i\n",
    "    i += 1\n",
    "print(\"1부터 100까지 중 짝수의 합은\", total)"
   ]
  },
  {
   "cell_type": "code",
   "execution_count": null,
   "id": "d77a1f8b",
   "metadata": {},
   "outputs": [],
   "source": [
    "# ex1. 사용자에게 두 정수를 입력받아 작은 수부터 큰 수까지 홀수의 합을 누적해서 출력\n",
    "while(1) :\n",
    "    num1 = int(input('첫번째 정수를 입력하세요 '))\n",
    "    num2 = int(input('두번째 정수를 입력하세요 '))\n",
    "    total = 0\n",
    "# if num1 > num2 :\n",
    "#     temp = num1\n",
    "#     num1 = num2\n",
    "#     num2 = temp\n",
    "# num1, num2 = num2, num1\n",
    "#     if num1 == num2 :\n",
    "#         print('같은 값을 입력하면 안됩니다.')\n",
    "#         continue\n",
    "    for i in range(min(num1, num2), max(num1, num2)+1) :\n",
    "        if i%2 :\n",
    "            total += i\n",
    "    break\n",
    "print('{}부터 {}사이의 홀수의 합은 {}입니다.'.format(min(num1, num2), max(num1, num2), total))\n",
    "    "
   ]
  },
  {
   "cell_type": "code",
   "execution_count": 132,
   "id": "73f223e2",
   "metadata": {},
   "outputs": [
    {
     "name": "stdout",
     "output_type": "stream",
     "text": [
      "난수 6번 뽑아서 로또는 [17, 20, 22, 36, 40, 41]\n"
     ]
    }
   ],
   "source": [
    "# ex2. 1~45까지의 숫자 중 6개를 추출하여 출력(오름차순 정렬 결과를 출력)\n",
    "# 난수 발생\n",
    "import random\n",
    "# random.random() # 실수 난수 발생(0<=실수난수<1)\n",
    "# random.randint(a, b) : a~b의 정수 난수\n",
    "# int(random.random()*b + a) : a~b의 정수 난수\n",
    "# 실행할 때마다 난수의 순서를 일치시키려면 random.seed(특정 수)\n",
    "# set 이용\n",
    "lotto = set()\n",
    "cnt = 0\n",
    "while len(lotto)<6 :\n",
    "    cnt += 1\n",
    "    lotto.add(random.randint(1, 45))\n",
    "list\n",
    "# list 이용\n",
    "# lotto = []\n",
    "# cnt = 0\n",
    "# while len(lotto)<6 :\n",
    "#     cnt += 1\n",
    "#     temp = random.randint(1, 45)\n",
    "#     if temp not in lotto :\n",
    "#         lotto.append(temp)\n",
    "# 정렬하기\n",
    "# for i in range(0, len(lotto)-1) :\n",
    "#     for j in range(i, len(lotto)) :\n",
    "#         if lotto[i] > lotto[j] :\n",
    "#             lotto[i], lotto[j] = lotto[j], lotto[i]\n",
    "#     print(f\"{i}번째 까지 정렬 내용: {lotto[:i+1]} / {lotto}\")\n",
    "print(\"난수 {}번 뽑아서 로또는 {}\".format(cnt, sorted(lotto)))"
   ]
  },
  {
   "cell_type": "code",
   "execution_count": 137,
   "id": "15ee6c33",
   "metadata": {},
   "outputs": [
    {
     "data": {
      "text/plain": [
       "[6, 12, 18, 23, 26, 37]"
      ]
     },
     "execution_count": 137,
     "metadata": {},
     "output_type": "execute_result"
    }
   ],
   "source": [
    "# 1~45중 6개 난수 추출\n",
    "sorted(random.sample(range(1,45), 6))"
   ]
  },
  {
   "cell_type": "markdown",
   "id": "f49dd7a8",
   "metadata": {},
   "source": [
    "## 2.3 break, continue (반복문에서 사용)"
   ]
  },
  {
   "cell_type": "code",
   "execution_count": 140,
   "id": "e0963c66",
   "metadata": {},
   "outputs": [
    {
     "name": "stdout",
     "output_type": "stream",
     "text": [
      "1\t2\t3\t4\t6\t7\t8\t9\t10\tDONE\n"
     ]
    }
   ],
   "source": [
    "num = 0\n",
    "while num <10 :\n",
    "    num += 1\n",
    "    if num == 5 :\n",
    "#         break # 반복문 탈출\n",
    "        continue # while 블록 수행을 중단하고 조건으로 감\n",
    "    print(num, end='\\t')\n",
    "print('DONE')"
   ]
  },
  {
   "cell_type": "code",
   "execution_count": 141,
   "id": "b60ddb66",
   "metadata": {},
   "outputs": [
    {
     "name": "stdout",
     "output_type": "stream",
     "text": [
      "컴퓨터가 발생한 임의의 수 : 63\n",
      "1~100 사이의 수를 맞춰보세요 : 43\n",
      "UP ↑\n",
      "1~100 사이의 수를 맞춰보세요 : 66\n",
      "DOWN ↓\n",
      "1~100 사이의 수를 맞춰보세요 : 62\n",
      "UP ↑\n",
      "1~100 사이의 수를 맞춰보세요 : 64\n",
      "DOWN ↓\n",
      "1~100 사이의 수를 맞춰보세요 : 63\n",
      "축하 축하 맞추셨습니다.\n",
      "끝\n"
     ]
    }
   ],
   "source": [
    "'''\n",
    "10. 1~100사이의 정수를 맞추는 프로그램을 구현하시오\n",
    "(프로그램안에 임의의 숫자가 만들어지고 그 숫자를 맞추도록 합니다)\n",
    "1단계 . 입력된 숫자가 틀리면 UP/DOWN 메시지를 출력하고 숫자를 맞추면 축하메세지와 함께 종료합니다 (맞출 때까지 반복)\n",
    "'''\n",
    "import random\n",
    "# (1) 1~100사이의 난수 발생\n",
    "randomNum = random.randint(1,100)\n",
    "print('컴퓨터가 발생한 임의의 수 :', randomNum)\n",
    "# (2) 수를 입력받아 틀리면 UP/DOWN 메시지 출력, 맞추면 break 하는 반복문\n",
    "while True :\n",
    "    inputNum = int(input('1~100 사이의 수를 맞춰보세요 : '))\n",
    "    if (inputNum < 1) | (inputNum > 100) :\n",
    "        print('수의 범위를 벗어났습니다.')\n",
    "    elif randomNum < inputNum:\n",
    "        print('DOWN ↓')\n",
    "    elif randomNum > inputNum :\n",
    "        print('UP ↑')\n",
    "    else : \n",
    "        print('축하 축하 맞추셨습니다.')\n",
    "        break\n",
    "print('끝')\n"
   ]
  },
  {
   "cell_type": "markdown",
   "id": "7a065dfb",
   "metadata": {},
   "source": [
    "# 3절. 중첩루프\n",
    "(반복문 안에 반복문)"
   ]
  },
  {
   "attachments": {
    "image.png": {
     "image/png": "[encoded data removed]"
    }
   },
   "cell_type": "markdown",
   "id": "02dc9726",
   "metadata": {},
   "source": [
    "![image.png](attachment:image.png)"
   ]
  },
  {
   "cell_type": "code",
   "execution_count": 146,
   "id": "720f765b",
   "metadata": {},
   "outputs": [
    {
     "name": "stdout",
     "output_type": "stream",
     "text": [
      "2X1= 2\t3X1= 3\t4X1= 4\t5X1= 5\t6X1= 6\t7X1= 7\t8X1= 8\t9X1= 9\t\n",
      "2X2= 4\t3X2= 6\t4X2= 8\t5X2=10\t6X2=12\t7X2=14\t8X2=16\t9X2=18\t\n",
      "2X3= 6\t3X3= 9\t4X3=12\t5X3=15\t6X3=18\t7X3=21\t8X3=24\t9X3=27\t\n",
      "2X4= 8\t3X4=12\t4X4=16\t5X4=20\t6X4=24\t7X4=28\t8X4=32\t9X4=36\t\n",
      "2X5=10\t3X5=15\t4X5=20\t5X5=25\t6X5=30\t7X5=35\t8X5=40\t9X5=45\t\n",
      "2X6=12\t3X6=18\t4X6=24\t5X6=30\t6X6=36\t7X6=42\t8X6=48\t9X6=54\t\n",
      "2X7=14\t3X7=21\t4X7=28\t5X7=35\t6X7=42\t7X7=49\t8X7=56\t9X7=63\t\n",
      "2X8=16\t3X8=24\t4X8=32\t5X8=40\t6X8=48\t7X8=56\t8X8=64\t9X8=72\t\n",
      "2X9=18\t3X9=27\t4X9=36\t5X9=45\t6X9=54\t7X9=63\t8X9=72\t9X9=81\t\n"
     ]
    }
   ],
   "source": [
    "for i in range(1,10) :\n",
    "    for j in range(2,10) :\n",
    "        print(f\"{j}X{i}={i*j:2}\", end = '\\t')\n",
    "    print() # 개행"
   ]
  },
  {
   "cell_type": "markdown",
   "id": "3deff375",
   "metadata": {},
   "source": [
    "# 4절. 중첩루프 탈출"
   ]
  },
  {
   "cell_type": "code",
   "execution_count": 149,
   "id": "be286afc",
   "metadata": {},
   "outputs": [
    {
     "name": "stdout",
     "output_type": "stream",
     "text": [
      "0 1\n",
      "0 2\n",
      "DONE\n"
     ]
    }
   ],
   "source": [
    "# 중첩 루프 탈출하는 방법 1 : 플래그 변수 이용\n",
    "flag = False\n",
    "for a in range(0, 3) :       # a = 0, 1, 2\n",
    "    for b in range(1, 3) :   # b = 1, 2\n",
    "        if a == b :\n",
    "            flag = True\n",
    "            break # 반복문을 아예 빠져나오기\n",
    "        print(a, b)\n",
    "    #break시 빠져나오는 부분\n",
    "    if flag :\n",
    "        break\n",
    "print('DONE')"
   ]
  },
  {
   "cell_type": "code",
   "execution_count": 1,
   "id": "14e9b217",
   "metadata": {},
   "outputs": [
    {
     "name": "stdout",
     "output_type": "stream",
     "text": [
      "0 1\n",
      "0 2\n",
      "DONE\n"
     ]
    }
   ],
   "source": [
    "# 중첩 루프 탈출하는 방법 2 : 예외 발생 => 예외처리\n",
    "class BreakOutError(Exception) :\n",
    "    pass\n",
    "try :\n",
    "    for a in range(0, 3) : # a = 0, 1, 2\n",
    "        for b in range(1, 3) : # b = 1, 2\n",
    "            if a==b :\n",
    "                raise BreakOutError() # 중첩 루프 탈출(중첩된 루프 한번에 탈출)\n",
    "            print(a, b)\n",
    "except BreakOutError :\n",
    "    print('DONE')"
   ]
  },
  {
   "cell_type": "markdown",
   "id": "587c041a",
   "metadata": {},
   "source": [
    "## 5절. 연습문제"
   ]
  },
  {
   "cell_type": "code",
   "execution_count": 7,
   "id": "eb70f950",
   "metadata": {},
   "outputs": [
    {
     "name": "stdout",
     "output_type": "stream",
     "text": [
      "양의 정수를 입력하세요 : 3\n",
      "입력하신 양의 정수는 3이고, 홀수입니다.\n"
     ]
    }
   ],
   "source": [
    "# 1.양의 정수를 입력 받아 홀수인지 짝수인지를 판별하는 프로그램을 작성하세요.\n",
    "#   양의 정수가 아니면 숫자를 다시 입력 받아야 합니다\n",
    "# while True :\n",
    "#     insert = int(input('양의 정수를 입력하세요 :'))\n",
    "#     if insert <= 0 :\n",
    "#         print('잘못된 입력입니다. 다시 입력해주세요.')\n",
    "#         continue\n",
    "#     else :\n",
    "#         if insert%2==0 :\n",
    "#             print('입력하신 숫자는 짝수입니다.')\n",
    "#         else :\n",
    "#             print('입력하신 숫자는 홀수입니다.')\n",
    "#     break\n",
    "# 강사님\n",
    "num = 0\n",
    "while num <=0 :\n",
    "    num = int(input('양의 정수를 입력하세요 : '))\n",
    "even_odd = '홀수' if num%2 else '짝수'\n",
    "print('입력하신 양의 정수는 {}이고, {}입니다.'.format(num, even_odd))"
   ]
  },
  {
   "cell_type": "code",
   "execution_count": 12,
   "id": "761fcac4",
   "metadata": {},
   "outputs": [
    {
     "name": "stdout",
     "output_type": "stream",
     "text": [
      "*****\n",
      "*****\n",
      "*****\n",
      "*****\n",
      "*****\n",
      "\n",
      "*\n",
      "**\n",
      "***\n",
      "****\n",
      "*****\n"
     ]
    }
   ],
   "source": [
    "# 2.중첩 for 문을 이용하여 아래 패턴의 별을 출력하는 프로그램을 작성하세요\n",
    "# (1)\n",
    "# *****\n",
    "# *****\n",
    "# *****\n",
    "# *****\n",
    "# *****\n",
    "# (2)\n",
    "# *\n",
    "# **\n",
    "# ***\n",
    "# ****\n",
    "# *****\n",
    "# (1)\n",
    "# for i in range(1, 6) :\n",
    "#     print(\"*****\")\n",
    "#강사님\n",
    "for i in range(5) :\n",
    "    for j in range(5) :\n",
    "        print('*', end = '')\n",
    "    print()\n",
    "\n",
    "# (2)\n",
    "# for i in range(1, 6) :\n",
    "#     for j in range(1, 6) :\n",
    "#         if i==j :\n",
    "#             print(\"*\"*j)\n",
    "# 강사님\n",
    "for i in range(6) :\n",
    "    for j in range(i) :\n",
    "        print('*', end = '')\n",
    "    print()"
   ]
  },
  {
   "cell_type": "code",
   "execution_count": 11,
   "id": "6d49df10",
   "metadata": {},
   "outputs": [
    {
     "name": "stdout",
     "output_type": "stream",
     "text": [
      "165\n"
     ]
    }
   ],
   "source": [
    "# 3.다음 코드는 1 부터 30 까지 (30 포함 ) 자연수 중에서 3 의 배수의 총 합을 출력하는 프로그램입니다. 빈칸의 코드를 완성하시오\n",
    "total = 0\n",
    "for i in range(1, 31):\n",
    "    if i%3==0 :\n",
    "        total = total + i\n",
    "    else:\n",
    "        pass\n",
    "print(total)"
   ]
  },
  {
   "cell_type": "code",
   "execution_count": 161,
   "id": "86989daf",
   "metadata": {},
   "outputs": [
    {
     "name": "stdout",
     "output_type": "stream",
     "text": [
      "1 3 5 7 9 "
     ]
    }
   ],
   "source": [
    "# 4. 다음 코드의 실행결과가 “1 3 5 7 9가 되도록 빈칸을 완성하시오\n",
    "num = 0\n",
    "while num <= 10 :\n",
    "    if num%2 == 1:\n",
    "        print(num, end=' ')\n",
    "    num += 1"
   ]
  },
  {
   "cell_type": "code",
   "execution_count": 162,
   "id": "6998efa3",
   "metadata": {},
   "outputs": [
    {
     "name": "stdout",
     "output_type": "stream",
     "text": [
      "1 2 3 \n",
      "4 5 6 7 \n",
      "8 9 \n"
     ]
    }
   ],
   "source": [
    "# 5. 다음 2 차원 리스트의 모든 값을 출력하는 코드입니다 . 빈칸을 완성하시오\n",
    "list2d = [ [1,2,3],[4,5,6,7],[8,9]]\n",
    "for row in list2d :\n",
    "    for data in row :\n",
    "        print(data, end=' ')\n",
    "    print()\n",
    "# 결과\n",
    "# 1 2 3\n",
    "# 4 5 6 7\n",
    "# 8 9"
   ]
  },
  {
   "cell_type": "code",
   "execution_count": 165,
   "id": "d3fb93be",
   "metadata": {},
   "outputs": [
    {
     "name": "stdout",
     "output_type": "stream",
     "text": [
      "0 apple \n",
      "1 banana\n"
     ]
    }
   ],
   "source": [
    "# 6. 다음 빈칸에 들어갈 함수 이름은?\n",
    "colors = {\" red\": 'apple ', \"yellow\": 'banana'}\n",
    "for i, v in enumerate(colors.values()):\n",
    "    print(i, v)\n",
    "\n",
    "# 0 apple\n",
    "# 1 banana"
   ]
  },
  {
   "cell_type": "code",
   "execution_count": 167,
   "id": "2156a2fd",
   "metadata": {},
   "outputs": [
    {
     "name": "stdout",
     "output_type": "stream",
     "text": [
      "1 1\n"
     ]
    }
   ],
   "source": [
    "# 7.다음 코드의 실행결과는?\n",
    "for i in range(0, 2):\n",
    "    for j in range(0,2):\n",
    "        if i == j:\n",
    "            break\n",
    "print(i, j)"
   ]
  },
  {
   "cell_type": "code",
   "execution_count": 168,
   "id": "98584146",
   "metadata": {},
   "outputs": [
    {
     "name": "stdout",
     "output_type": "stream",
     "text": [
      "Object `것은` not found.\n",
      "0 0\n",
      "1 0\n",
      "1 1\n"
     ]
    }
   ],
   "source": [
    "# 8. 다음 코드의 실행 결과로 출력될 수 없는 것은?\n",
    "for i in range(0,2):\n",
    "    for j in range(0,2):\n",
    "        print(i, j)\n",
    "        if i == j :\n",
    "            break\n",
    "# ① 0 0 ② 0 1 ③ 1 0 ④ 1 1\n",
    "# 정답 2"
   ]
  },
  {
   "cell_type": "code",
   "execution_count": 169,
   "id": "7474a836",
   "metadata": {},
   "outputs": [
    {
     "name": "stdout",
     "output_type": "stream",
     "text": [
      "3 5 7 9 "
     ]
    }
   ],
   "source": [
    "# 9. 다음 코드의 실행결과는?\n",
    "L = [3, 4, 5, 6, 7, 8, 9, 10]\n",
    "for i, data in enumerate(L):\n",
    "    if (i%2 == 0):\n",
    "        print(data, end=' ')\n",
    "# l[::2]"
   ]
  },
  {
   "cell_type": "code",
   "execution_count": 1,
   "id": "da2a0fc7",
   "metadata": {},
   "outputs": [
    {
     "name": "stdout",
     "output_type": "stream",
     "text": [
      "컴퓨터가 발생한 임의의 수 : 6\n",
      "1~100 사이의 수를 맞춰보세요 : 2\n",
      "UP ↑\n",
      "1~100 사이의 수를 맞춰보세요 : 6\n",
      "축하 축하 맞추셨습니다.\n",
      "끝\n"
     ]
    }
   ],
   "source": [
    "# 10. 1~100사이의 정수를 맞추는 프로그램을 구현하시오\n",
    "# (프로그램안에 임의의 숫자가 만들어지고 그 숫자를 맞추도록 합니다)\n",
    "# 1단계 . 입력된 숫자가 틀리면 UP/DOWN 메시지를 출력하고 숫자를 맞추면 축하메\n",
    "# 세지와 함꼐 종료합니다 (맞출 때까지 반복)\n",
    "import random\n",
    "# (1) 1~100사이의 난수 발생\n",
    "randomNum = random.randint(1,100)\n",
    "print('컴퓨터가 발생한 임의의 수 :', randomNum)\n",
    "# (2) 수를 입력받아 틀리면 UP/DOWN 메시지 출력, 맞추면 break 하는 반복문\n",
    "while True :\n",
    "    inputNum = int(input('1~100 사이의 수를 맞춰보세요 : '))\n",
    "    if (inputNum < 1) | (inputNum > 100) :\n",
    "        print('수의 범위를 벗어났습니다.')\n",
    "    elif randomNum < inputNum:\n",
    "        print('DOWN ↓')\n",
    "    elif randomNum > inputNum :\n",
    "        print('UP ↑')\n",
    "    else : \n",
    "        print('축하 축하 맞추셨습니다.')\n",
    "        break\n",
    "print('끝')"
   ]
  },
  {
   "cell_type": "code",
   "execution_count": 14,
   "id": "befd1344",
   "metadata": {},
   "outputs": [
    {
     "name": "stdout",
     "output_type": "stream",
     "text": [
      "컴퓨터가 발생한 임의의 수 : 56\n",
      "1~100 사이의 수를 맞춰보세요 : 43\n",
      "UP ↑\n",
      "44~100 사이의 수를 맞춰보세요 : 66\n",
      "DOWN ↓\n",
      "44~65 사이의 수를 맞춰보세요 : 43\n",
      "수의 범위를 벗어났습니다.\n",
      "44~65 사이의 수를 맞춰보세요 : 64\n",
      "DOWN ↓\n",
      "44~63 사이의 수를 맞춰보세요 : 46\n",
      "UP ↑\n",
      "끝\n"
     ]
    }
   ],
   "source": [
    "# 2단계. 입력된 숫자가 틀리면 min~max 사이의 수라고 알려주고 숫자를 맞추면 \n",
    "# 축하 메시지와 함께 종료합니다(맞출 때까지 반복)\n",
    "import random\n",
    "randomNum = random.randint(1,100)\n",
    "print('컴퓨터가 발생한 임의의 수 :', randomNum)\n",
    "min, max = 1, 100\n",
    "while randomNum!=inputNum :\n",
    "    inputNum = int(input(f'{min}~{max} 사이의 수를 맞춰보세요 : '))\n",
    "    if (inputNum < min) | (inputNum > max) :\n",
    "        print('수의 범위를 벗어났습니다.')\n",
    "    elif randomNum < inputNum:\n",
    "        print('DOWN ↓')\n",
    "        max = inputNum-1\n",
    "    elif randomNum > inputNum :\n",
    "        print('UP ↑')\n",
    "        min = inputNum+1\n",
    "    else : \n",
    "        print('축하 축하 맞추셨습니다.')\n",
    "        break\n",
    "print('끝')\n",
    "#강사님\n"
   ]
  },
  {
   "cell_type": "code",
   "execution_count": 21,
   "id": "3ba2c2a1",
   "metadata": {},
   "outputs": [
    {
     "name": "stdout",
     "output_type": "stream",
     "text": [
      "컴퓨터가 발생한 임의의 수 : 44\n",
      "1~100 사이의 수를 맞춰보세요(남은 기회는 5번) : 90\n",
      "DOWN ↓\n",
      "1~89 사이의 수를 맞춰보세요(남은 기회는 4번) : 23\n",
      "UP ↑\n",
      "24~89 사이의 수를 맞춰보세요(남은 기회는 3번) : 46\n",
      "DOWN ↓\n",
      "24~45 사이의 수를 맞춰보세요(남은 기회는 2번) : 39\n",
      "UP ↑\n",
      "40~45 사이의 수를 맞춰보세요(남은 기회는 1번) : 42\n",
      "UP ↑\n",
      "모든 기회를 다 쓰셨습니다. 땡!\n"
     ]
    }
   ],
   "source": [
    "# 3단계. 숫자를 맞출 수 있는 기회를 5 회로 제한하고 5 회 이내에 맞추지 않으면 실패\n",
    "# 메세지를 출력합니다\n",
    "import random\n",
    "randomNum = random.randint(1,100)\n",
    "print('컴퓨터가 발생한 임의의 수 :', randomNum)\n",
    "min, max = 1, 100\n",
    "trynum = 5\n",
    "# while trynum<6 :\n",
    "#     if trynum == 0 :\n",
    "#         print('기회를 모두 사용하셨습니다. 실패하셨습니다')\n",
    "#         break\n",
    "#     inputNum = int(input(f'{min}~{max} 사이의 수를 맞춰보세요(남은 기회는 {trynum}번) : '))\n",
    "#     if (inputNum < min) | (inputNum > max) :\n",
    "#         print('수의 범위를 벗어났습니다.')\n",
    "#         trynum -= 1\n",
    "#     elif randomNum < inputNum:\n",
    "#         print('DOWN ↓')\n",
    "#         max = inputNum-1\n",
    "#         trynum -= 1\n",
    "#     elif randomNum > inputNum :\n",
    "#         print('UP ↑')\n",
    "#         min = inputNum+1\n",
    "#         trynum -= 1\n",
    "#     else : \n",
    "#         print('축하 축하 맞추셨습니다.')\n",
    "#         break\n",
    "\n",
    "# 강사님\n",
    "for i in range(5, 0, -1) :\n",
    "    inputNum = int(input(f'{min}~{max} 사이의 수를 맞춰보세요(남은 기회는 {i}번) : '))\n",
    "    if (inputNum < min) | (inputNum > max) :\n",
    "        print('수의 범위를 벗어났습니다.')\n",
    "    elif randomNum < inputNum:\n",
    "        print('DOWN ↓')\n",
    "        max = inputNum-1\n",
    "    elif randomNum > inputNum :\n",
    "        print('UP ↑')\n",
    "        min = inputNum+1\n",
    "    else : \n",
    "        print('축하 축하 맞추셨습니다.')\n",
    "        break\n",
    "print('모든 기회를 다 쓰셨습니다. 땡!')"
   ]
  },
  {
   "cell_type": "code",
   "execution_count": null,
   "id": "10735934",
   "metadata": {},
   "outputs": [],
   "source": []
  },
  {
   "cell_type": "code",
   "execution_count": null,
   "id": "4c147800",
   "metadata": {},
   "outputs": [],
   "source": []
  },
  {
   "cell_type": "code",
   "execution_count": null,
   "id": "0f68e88b",
   "metadata": {},
   "outputs": [],
   "source": []
  },
  {
   "cell_type": "code",
   "execution_count": null,
   "id": "5bd01b9a",
   "metadata": {},
   "outputs": [],
   "source": []
  },
  {
   "cell_type": "code",
   "execution_count": null,
   "id": "c3d660ab",
   "metadata": {},
   "outputs": [],
   "source": []
  },
  {
   "cell_type": "code",
   "execution_count": null,
   "id": "519f6823",
   "metadata": {},
   "outputs": [],
   "source": []
  }
 ],
 "metadata": {
  "kernelspec": {
   "display_name": "Python 3 (ipykernel)",
   "language": "python",
   "name": "python3"
  },
  "language_info": {
   "codemirror_mode": {
    "name": "ipython",
    "version": 3
   },
   "file_extension": ".py",
   "mimetype": "text/x-python",
   "name": "python",
   "nbconvert_exporter": "python",
   "pygments_lexer": "ipython3",
   "version": "3.10.9"
  },
  "toc": {
   "base_numbering": 1,
   "nav_menu": {},
   "number_sections": false,
   "sideBar": true,
   "skip_h1_title": false,
   "title_cell": "Table of Contents",
   "title_sidebar": "Contents",
   "toc_cell": false,
   "toc_position": {
    "height": "calc(100% - 180px)",
    "left": "10px",
    "top": "150px",
    "width": "209.6px"
   },
   "toc_section_display": true,
   "toc_window_display": true
  }
 },
 "nbformat": 4,
 "nbformat_minor": 5
}
