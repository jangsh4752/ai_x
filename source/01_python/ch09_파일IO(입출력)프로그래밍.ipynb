{
 "cells": [
  {
   "cell_type": "code",
   "execution_count": 1,
   "id": "26ffb0ed",
   "metadata": {},
   "outputs": [
    {
     "data": {
      "text/html": [
       "\n",
       "<style>\n",
       "div.container{width:86% !important;}\n",
       "div.cell.code_cell.rendered{width:100%;}\n",
       "div.CodeMirror {font-family:Consolas; font-size:12pt;}\n",
       "div.output {font-size:15pt; font-weight:bold;}\n",
       "div.input {font-family:Consolas; font-size:12pt;}\n",
       "div.prompt {min-width:70px;}\n",
       "div#toc-wrapper{padding-top:120px;}\n",
       "div.text_cell_render ul li{font-size:12pt;padding:5px;}\n",
       "table.dataframe{font-size:15px;}\n",
       "</style>\n"
      ],
      "text/plain": [
       "<IPython.core.display.HTML object>"
      ]
     },
     "metadata": {},
     "output_type": "display_data"
    }
   ],
   "source": [
    "from IPython.display import display, HTML\n",
    "display(HTML(\"\"\"\n",
    "<style>\n",
    "div.container{width:86% !important;}\n",
    "div.cell.code_cell.rendered{width:100%;}\n",
    "div.CodeMirror {font-family:Consolas; font-size:12pt;}\n",
    "div.output {font-size:15pt; font-weight:bold;}\n",
    "div.input {font-family:Consolas; font-size:12pt;}\n",
    "div.prompt {min-width:70px;}\n",
    "div#toc-wrapper{padding-top:120px;}\n",
    "div.text_cell_render ul li{font-size:12pt;padding:5px;}\n",
    "table.dataframe{font-size:15px;}\n",
    "</style>\n",
    "\"\"\"))"
   ]
  },
  {
   "cell_type": "markdown",
   "id": "f02df53f",
   "metadata": {},
   "source": [
    "<b><font size=\"6\" color=\"red\"> ch09. 파일I/O(입출력) 프로그래밍 </font></b>\n",
    "파일 : txt, pickle, csv, json, hdf5(h5)\n",
    "\n",
    "# 1절. txt파일에 데이터 저장하고 불러오기"
   ]
  },
  {
   "cell_type": "code",
   "execution_count": 2,
   "id": "ab517ba7",
   "metadata": {},
   "outputs": [
    {
     "name": "stdout",
     "output_type": "stream",
     "text": [
      "쓰기 가능한지 여부 : True\n"
     ]
    }
   ],
   "source": [
    "f = open('data/ch09.txt', 'w')\n",
    "print('쓰기 가능한지 여부 :', f.writable())"
   ]
  },
  {
   "cell_type": "code",
   "execution_count": 3,
   "id": "013060c1",
   "metadata": {},
   "outputs": [],
   "source": [
    "f.write('Hello\\nWorld')\n",
    "f.close() # close() 없으면 쓴 내용이 저장 안됨"
   ]
  },
  {
   "cell_type": "code",
   "execution_count": 4,
   "id": "1e869017",
   "metadata": {},
   "outputs": [
    {
     "name": "stdout",
     "output_type": "stream",
     "text": [
      "쓰기 가능한지 여부 : True\n"
     ]
    }
   ],
   "source": [
    "# mode : 'r' 또는 'rt' : text 읽기 모드\n",
    "#        'rb' : 바이너리 읽기 모드\n",
    "#        'w' 또는 'wt' : text 쓰기 모드(파일이 있으면 덮어씀, 없으면 파일 생성) \n",
    "#        'wb' : 바이너리 쓰기 모드\n",
    "#        'a' 또는 'ap' : text 추가 모드(파일이 있으면 append, 없으면 파일 생성)\n",
    "#        읽기모드에서 파일이 없으면 예외 / 쓰기모드에서 폴더가 없으면 예외\n",
    "# encoding\n",
    "    # euc-kr (한글완성형) 믜 x\n",
    "    # cp949 (확장된 한글완성형) : open()함수 기본 encoding방식(windows)\n",
    "    # utf-8 (한글조합형) : open()함수 기본 encoding방식(mac, linux)\n",
    "with open('data/ch09.txt', 'w') as f :\n",
    "    print('쓰기 가능한지 여부 :', f.writable())\n",
    "    f.write('Hello\\nPython')"
   ]
  },
  {
   "cell_type": "code",
   "execution_count": 5,
   "id": "6e2e3322",
   "metadata": {},
   "outputs": [],
   "source": [
    "with open('data/ch09.txt', 'w') as f :\n",
    "    # 1방법\n",
    "    f.write('홍길동, 33, 아무동9\\n')\n",
    "    f.write('김길동, 33, 아무동9\\n')\n",
    "    # 2방법\n",
    "    textlist = ['홍길동, 33, 아무동9\\n', '김길동, 33, 아무동9\\n']\n",
    "    for line in textlist :\n",
    "        f.write(line)\n",
    "    # 3방법\n",
    "    f.writelines(textlist)"
   ]
  },
  {
   "cell_type": "code",
   "execution_count": 6,
   "id": "69889fbd",
   "metadata": {},
   "outputs": [
    {
     "name": "stdout",
     "output_type": "stream",
     "text": [
      "홍길동, 33, 아무동9\n",
      "김길동, 33, 아무동9\n",
      "홍길동, 33, 아무동9\n",
      "김길동, 33, 아무동9\n",
      "홍길동, 33, 아무동9\n",
      "김길동, 33, 아무동9\n"
     ]
    }
   ],
   "source": [
    "# 한 줄씩 읽기\n",
    "with open('data/ch09.txt', 'r') as f :\n",
    "    line = f.readline()\n",
    "    while line !='' :\n",
    "        print(line, end='')\n",
    "        line = f.readline()"
   ]
  },
  {
   "cell_type": "code",
   "execution_count": 7,
   "id": "527d4807",
   "metadata": {},
   "outputs": [
    {
     "name": "stdout",
     "output_type": "stream",
     "text": [
      "['홍길동, 33, 아무동9\\n', '김길동, 33, 아무동9\\n', '홍길동, 33, 아무동9\\n', '김길동, 33, 아무동9\\n', '홍길동, 33, 아무동9\\n', '김길동, 33, 아무동9\\n']\n"
     ]
    }
   ],
   "source": [
    "# 모든 줄을 읽기\n",
    "with open('data/ch09.txt', 'r') as f :\n",
    "    lines = f.readlines()\n",
    "    print(lines)"
   ]
  },
  {
   "cell_type": "code",
   "execution_count": 8,
   "id": "2c724880",
   "metadata": {},
   "outputs": [
    {
     "name": "stdout",
     "output_type": "stream",
     "text": [
      "홍길동, 33, 아무동9\n",
      "김길동, 33, 아무동9\n",
      "홍길동, 33, 아무동9\n",
      "김길동, 33, 아무동9\n",
      "홍길동, 33, 아무동9\n",
      "김길동, 33, 아무동9\n",
      "\n"
     ]
    }
   ],
   "source": [
    "# 모두 읽기\n",
    "with open('data/ch09.txt', 'r') as f :\n",
    "    lines = f.read()\n",
    "    print(lines)"
   ]
  },
  {
   "cell_type": "markdown",
   "id": "2ad52363",
   "metadata": {},
   "source": [
    "# 2절. 피클을 이용한 객체 저장 및 불러오기\n",
    "## 2.1 형식이 있는 txt 데이터 불러오기"
   ]
  },
  {
   "cell_type": "code",
   "execution_count": 9,
   "id": "1a63c5e0",
   "metadata": {},
   "outputs": [],
   "source": [
    "class Member :\n",
    "    def __init__(self, name, age, email, address) :\n",
    "        self.name = name\n",
    "        self.age = age\n",
    "        self.email = email\n",
    "        self.address = address\n",
    "    def __str__(self) :\n",
    "        return \"{}, {}, {}, {}\".format(self.name,\n",
    "                                       \"성년\" if self.age > 18 else \"미성년\",\n",
    "                                       self.email,\n",
    "                                       self.address)\n",
    "    def as_dict(self) :\n",
    "        return {\n",
    "            'name':self.name,\n",
    "            'age':self.age,\n",
    "            'email':self.email,\n",
    "            'address':self.address\n",
    "               }\n",
    "    def __eq__(self, other) :\n",
    "        return self.name == other.name and \\\n",
    "                self.age == other.age and \\\n",
    "                self.email == other.email and \\\n",
    "                self.address == other.address"
   ]
  },
  {
   "cell_type": "code",
   "execution_count": 10,
   "id": "1870bba1",
   "metadata": {},
   "outputs": [
    {
     "name": "stdout",
     "output_type": "stream",
     "text": [
      "True\n",
      "True\n"
     ]
    }
   ],
   "source": [
    "user1 = Member('홍', 20, 'a@a.com', '신림동')\n",
    "user2 = Member('홍', 20, 'a@a.com', '신림동')\n",
    "print(user1 == user2)\n",
    "print(user1.__eq__(user2)) # 같은 내용이면 True로 출력되도록 __eq__ 메소드 정의"
   ]
  },
  {
   "cell_type": "code",
   "execution_count": 11,
   "id": "4052c4f2",
   "metadata": {},
   "outputs": [],
   "source": [
    "# 형식이 있는 txt 파일 내용을 member list(피클 저장), 딕셔너리 list(데이터 프레임)로 저장\n",
    "user_list = [] # member list 저장\n",
    "user_dict = [] # 딕셔너리 list\n",
    "with open('data/ch09_member.txt', 'r', encoding='utf-8') as txt_file :\n",
    "    lines = txt_file.readlines()\n",
    "# print(lines)\n",
    "for line in lines :\n",
    "    data = line.split(',')\n",
    "#     print(data)\n",
    "    name = data[0]\n",
    "    age = int(data[1].strip()) # strip() : 앞 뒤 공백 제거(space, \\t, \\n)\n",
    "    email = data[2].strip()\n",
    "    address = data[3].strip()\n",
    "    user = Member(name, age, email, address)\n",
    "    user_list.append(user)\n",
    "    user_dict.append(user.as_dict())\n",
    "#     user_dict.append(user.__dict__)"
   ]
  },
  {
   "cell_type": "code",
   "execution_count": 12,
   "id": "6c34baed",
   "metadata": {},
   "outputs": [
    {
     "data": {
      "text/plain": [
       "[{'name': '홍길동', 'age': 20, 'email': 'kildong@hong.com', 'address': '서울시 관악구'},\n",
       " {'name': '홍길숙',\n",
       "  'age': 25,\n",
       "  'email': 'kilsuk1@hong.com',\n",
       "  'address': '서울시 영등포구'},\n",
       " {'name': '신길동', 'age': 30, 'email': 'shinkil@hong.com', 'address': '서울시 동작구'}]"
      ]
     },
     "execution_count": 12,
     "metadata": {},
     "output_type": "execute_result"
    }
   ],
   "source": [
    "user_dict"
   ]
  },
  {
   "cell_type": "code",
   "execution_count": 13,
   "id": "fa32beab",
   "metadata": {},
   "outputs": [
    {
     "name": "stdout",
     "output_type": "stream",
     "text": [
      "홍길동, 성년, kildong@hong.com, 서울시 관악구\n",
      "홍길숙, 성년, kilsuk1@hong.com, 서울시 영등포구\n",
      "신길동, 성년, shinkil@hong.com, 서울시 동작구\n"
     ]
    }
   ],
   "source": [
    "for user in user_list :\n",
    "    print(user)"
   ]
  },
  {
   "cell_type": "markdown",
   "id": "7e6b4ee6",
   "metadata": {},
   "source": [
    "## 2.2 피클링\n",
    "- 객체 리스트(user_list) -> 피클파일로 쓰기\n",
    "- 피클 파일을 읽기 -> 객체 리스트(load_user_list)"
   ]
  },
  {
   "cell_type": "code",
   "execution_count": 14,
   "id": "069ee6db",
   "metadata": {},
   "outputs": [],
   "source": [
    "# 피클링을 이용한 객체를 저장하기\n",
    "import pickle\n",
    "with open('data/ch09_member.data', 'wb') as f :\n",
    "    pickle.dump(user_list, f)"
   ]
  },
  {
   "cell_type": "code",
   "execution_count": 15,
   "id": "2c819caa",
   "metadata": {},
   "outputs": [],
   "source": [
    "# 피클링을 이용한 파일에서 객체 데이터로 읽기\n",
    "with open('data/ch09_member.data', 'rb') as f :\n",
    "    load_user_list = pickle.load(f)"
   ]
  },
  {
   "cell_type": "code",
   "execution_count": 16,
   "id": "7f6180e9",
   "metadata": {},
   "outputs": [
    {
     "data": {
      "text/plain": [
       "True"
      ]
     },
     "execution_count": 16,
     "metadata": {},
     "output_type": "execute_result"
    }
   ],
   "source": [
    "user_list == load_user_list"
   ]
  },
  {
   "cell_type": "code",
   "execution_count": 17,
   "id": "376e2f06",
   "metadata": {},
   "outputs": [
    {
     "name": "stdout",
     "output_type": "stream",
     "text": [
      "0 홍길동, 성년, kildong@hong.com, 서울시 관악구\n",
      "0 홍길동, 성년, kildong@hong.com, 서울시 관악구\n",
      "1 홍길숙, 성년, kilsuk1@hong.com, 서울시 영등포구\n",
      "1 홍길숙, 성년, kilsuk1@hong.com, 서울시 영등포구\n",
      "2 신길동, 성년, shinkil@hong.com, 서울시 동작구\n",
      "2 신길동, 성년, shinkil@hong.com, 서울시 동작구\n"
     ]
    }
   ],
   "source": [
    "for idx in range(len(user_list)) :\n",
    "    print(idx, user_list[idx])\n",
    "    print(idx, load_user_list[idx])"
   ]
  },
  {
   "cell_type": "code",
   "execution_count": null,
   "id": "687f07f7",
   "metadata": {},
   "outputs": [],
   "source": []
  },
  {
   "cell_type": "code",
   "execution_count": 18,
   "id": "b2cc3a1f",
   "metadata": {},
   "outputs": [
    {
     "name": "stdout",
     "output_type": "stream",
     "text": [
      "True\n",
      "True\n",
      "True\n"
     ]
    }
   ],
   "source": [
    "for idx, (user, load_user) in enumerate(zip(user_list, load_user_list)) :\n",
    "#     print(idx, user)\n",
    "#     print(idx, load_user)\n",
    "    print(user==load_user)"
   ]
  },
  {
   "cell_type": "code",
   "execution_count": 19,
   "id": "25556705",
   "metadata": {},
   "outputs": [
    {
     "data": {
      "text/plain": [
       "True"
      ]
     },
     "execution_count": 19,
     "metadata": {},
     "output_type": "execute_result"
    }
   ],
   "source": [
    "result = []\n",
    "for user, load_user in zip(user_list, load_user_list) :\n",
    "    result.append(user==load_user)\n",
    "all(result)"
   ]
  },
  {
   "cell_type": "markdown",
   "id": "187130b8",
   "metadata": {},
   "source": [
    "# 3절.  csv형식 파일 읽기/쓰기\n",
    "- csv파일 <-> 리스트데이터   3.1(읽기) / 3.2(쓰기)\n",
    "- csv파일 <-> 딕셔너리데이터 3.3(읽기) / 3.4(쓰기)"
   ]
  },
  {
   "cell_type": "markdown",
   "id": "5339bda0",
   "metadata": {},
   "source": [
    "## 3.1 reader"
   ]
  },
  {
   "cell_type": "code",
   "execution_count": 20,
   "id": "3555527e",
   "metadata": {},
   "outputs": [
    {
     "name": "stdout",
     "output_type": "stream",
     "text": [
      "[['홍길동', '20', 'kildong@hong.com', '서울시 관악구'], ['김길동', '40', 'kimdong@hong.com', '서울시 영등포구'], ['신길동', '30', 'sindong@hong.com', '서울시 동작구']]\n"
     ]
    }
   ],
   "source": [
    "import csv\n",
    "with open('data/ch09_member1.csv', 'r', encoding='utf-8') as f :\n",
    "    reader = csv.reader(f) # csv파일에서 한 줄씩 읽어온 내용을 list로 저장\n",
    "    result = list(reader)\n",
    "print(result)"
   ]
  },
  {
   "cell_type": "code",
   "execution_count": 21,
   "id": "34b3d69c",
   "metadata": {},
   "outputs": [
    {
     "name": "stdout",
     "output_type": "stream",
     "text": [
      "[['홍길동', 20.0, 'kildong@hong.com', '서울시 관악구'], ['김길동', 40.0, 'kimdong@hong.com', '서울시 영등포구'], ['신길동', 30.0, 'sindong@hong.com', '서울시 동작구']]\n"
     ]
    }
   ],
   "source": [
    "# \"\"(따옴표)가 없는 데이터는 numeric으로\n",
    "import csv\n",
    "with open('data/ch09_member1.csv', 'r', encoding='utf-8') as f :\n",
    "    reader = csv.reader(f, \n",
    "                        quoting=csv.QUOTE_NONNUMERIC) # csv파일에서 한 줄씩 읽어온 내용을 list로 저장\n",
    "    result = list(reader)\n",
    "print(result)"
   ]
  },
  {
   "cell_type": "code",
   "execution_count": 22,
   "id": "cb552a0b",
   "metadata": {},
   "outputs": [
    {
     "name": "stdout",
     "output_type": "stream",
     "text": [
      "[{'name': '홍길동', 'age': 20, 'email': 'kildong@hong.com', 'address': '서울시 관악구'}, {'name': '김길동', 'age': 40, 'email': 'kimdong@hong.com', 'address': '서울시 영등포구'}, {'name': '신길동', 'age': 30, 'email': 'sindong@hong.com', 'address': '서울시 동작구'}]\n"
     ]
    }
   ],
   "source": [
    "import csv\n",
    "with open('data/ch09_member1.csv', 'r', encoding='utf-8') as f :\n",
    "    reader = csv.reader(f, \n",
    "                        quoting=csv.QUOTE_NONNUMERIC) # csv파일에서 한 줄씩 읽어온 내용을 list로 저장\n",
    "    result = list(reader)\n",
    "dict_list = []\n",
    "for data in result :\n",
    "    dict_list.append({\n",
    "        'name':data[0],\n",
    "        'age':int(data[1]),\n",
    "        'email':data[2],\n",
    "        'address':data[3]\n",
    "    })\n",
    "print(dict_list)"
   ]
  },
  {
   "cell_type": "markdown",
   "id": "c767807c",
   "metadata": {},
   "source": [
    "## 3.2 writer"
   ]
  },
  {
   "cell_type": "code",
   "execution_count": 23,
   "id": "e174b2cf",
   "metadata": {},
   "outputs": [],
   "source": [
    "user_list = [['홍길동', 20.0, 'kildong@hong.com', '서울시 관악구'], \n",
    "             ['김길동', 40.0, 'kimdong@hong.com', '서울시 영등포구']]"
   ]
  },
  {
   "cell_type": "code",
   "execution_count": 24,
   "id": "d712b55f",
   "metadata": {},
   "outputs": [],
   "source": [
    "with open('data/ch09_member1_write.csv', 'a', newline='', encoding='utf-8') as f :\n",
    "    writer = csv.writer(f)\n",
    "    writer.writerows(user_list) # 한 줄 쓸거면 row, 여러 줄 쓸거면 rows"
   ]
  },
  {
   "cell_type": "code",
   "execution_count": 25,
   "id": "a675d41e",
   "metadata": {},
   "outputs": [],
   "source": [
    "with open('data/ch09_member1_write.csv', 'w', newline='', encoding='utf-8') as f :\n",
    "    writer = csv.writer(f, quoting=csv.QUOTE_NONNUMERIC)\n",
    "    writer.writerows(user_list)"
   ]
  },
  {
   "cell_type": "markdown",
   "id": "c80c6207",
   "metadata": {},
   "source": [
    "## 3.3 DictReader (csv 파일을 딕셔너리로)"
   ]
  },
  {
   "cell_type": "code",
   "execution_count": 26,
   "id": "cc67964d",
   "metadata": {},
   "outputs": [
    {
     "name": "stdout",
     "output_type": "stream",
     "text": [
      "[{'name': '홍길동', 'age': '20', 'email': 'h@h.com', 'address': '서울시 관악구', 'job': None}, {'name': '신길동', 'age': '40', 'email': 's@h.com', 'address': '서울시 영등포구', 'job': '팀장'}, {'name': '김길동', 'age': '30', 'email': 'k@h.com', 'address': '서울시 동작구', 'job': None}]\n",
      "홍길동 20 h@h.com 서울시 관악구\n",
      "신길동 40 s@h.com 서울시 영등포구 팀장\n",
      "김길동 30 k@h.com 서울시 동작구\n"
     ]
    }
   ],
   "source": [
    "with open('data/ch09_member3.csv', 'r', encoding='utf-8') as f :\n",
    "    dict_reader = csv.DictReader(f)\n",
    "    dict_list = list(dict_reader)\n",
    "print(dict_list)\n",
    "for row in dict_list :\n",
    "    if row['job'] is None :\n",
    "        print(row['name'], row['age'], row['email'] ,row['address'])\n",
    "    else :\n",
    "        print(row['name'], row['age'], row['email'] ,row['address'], row['job'])"
   ]
  },
  {
   "cell_type": "code",
   "execution_count": 27,
   "id": "ab27f34f",
   "metadata": {},
   "outputs": [
    {
     "name": "stdout",
     "output_type": "stream",
     "text": [
      "{'Name': '홍길동', 'Age': '20', 'Email': 'kildong@hong.com', 'Address': '서울시 관악구', 'Job': ['']}\n",
      "{'Name': '김길동', 'Age': '40', 'Email': 'kimdong@hong.com', 'Address': '서울시 영등포구', 'Job': ['팀장']}\n",
      "{'Name': '신길동', 'Age': '30', 'Email': 'sindong@hong.com', 'Address': '서울시 동작구', 'Job': ['']}\n"
     ]
    }
   ],
   "source": [
    "# header가 없는 csv 파일(ch09_member1-cp.csv)을 딕셔너리로 읽기\n",
    "with open('data/ch09_member1-cp.csv', encoding='cp949') as f :\n",
    "    dict_reader = csv.DictReader(f,\n",
    "                                 fieldnames=['Name', 'Age', 'Email', 'Address'],\n",
    "                                 restkey='Job')\n",
    "    result = list(dict_reader)\n",
    "for row in result:\n",
    "    print(row)"
   ]
  },
  {
   "cell_type": "markdown",
   "id": "caf1f556",
   "metadata": {},
   "source": [
    "## 3.3 DictWriter\n",
    "- 딕셔너리 리스트 -> csv파일"
   ]
  },
  {
   "cell_type": "code",
   "execution_count": 28,
   "id": "b60602d6",
   "metadata": {},
   "outputs": [
    {
     "name": "stdout",
     "output_type": "stream",
     "text": [
      "['name', 'age', 'email', 'address']\n"
     ]
    }
   ],
   "source": [
    "user1 = {'name': '홍길동', 'age': 22, 'email': 'a@a.com', 'address': '신림동'}\n",
    "user2 = {'name': '신길동', 'age': 32, 'email': 'b@a.com', 'address': '신림동'}\n",
    "user3 = {'name': '김길동', 'age': 42, 'email': 'c@a.com', 'address': '신림동'}\n",
    "user_list = [user1, user2, user3]\n",
    "fieldnames = list(user1.keys())\n",
    "print(fieldnames)"
   ]
  },
  {
   "cell_type": "code",
   "execution_count": 29,
   "id": "f571a052",
   "metadata": {},
   "outputs": [],
   "source": [
    "with open('data/ch09_member4.csv', 'w', encoding='utf-8', newline='') as f :\n",
    "    dict_writer = csv.DictWriter(f,\n",
    "                                 fieldnames=fieldnames)\n",
    "    dict_writer.writeheader() # header 쓰기\n",
    "    dict_writer.writerows(user_list) # data값 쓰기"
   ]
  },
  {
   "cell_type": "markdown",
   "id": "ea0f4765",
   "metadata": {},
   "source": [
    "## csv <-> 데이터프레임"
   ]
  },
  {
   "cell_type": "code",
   "execution_count": 30,
   "id": "c5076829",
   "metadata": {},
   "outputs": [
    {
     "data": {
      "text/html": [
       "<div>\n",
       "<style scoped>\n",
       "    .dataframe tbody tr th:only-of-type {\n",
       "        vertical-align: middle;\n",
       "    }\n",
       "\n",
       "    .dataframe tbody tr th {\n",
       "        vertical-align: top;\n",
       "    }\n",
       "\n",
       "    .dataframe thead th {\n",
       "        text-align: right;\n",
       "    }\n",
       "</style>\n",
       "<table border=\"1\" class=\"dataframe\">\n",
       "  <thead>\n",
       "    <tr style=\"text-align: right;\">\n",
       "      <th></th>\n",
       "      <th>name</th>\n",
       "      <th>age</th>\n",
       "      <th>email</th>\n",
       "      <th>address</th>\n",
       "      <th>job</th>\n",
       "    </tr>\n",
       "  </thead>\n",
       "  <tbody>\n",
       "    <tr>\n",
       "      <th>0</th>\n",
       "      <td>홍길동</td>\n",
       "      <td>20</td>\n",
       "      <td>h@h.com</td>\n",
       "      <td>서울시 관악구</td>\n",
       "      <td>NaN</td>\n",
       "    </tr>\n",
       "    <tr>\n",
       "      <th>1</th>\n",
       "      <td>신길동</td>\n",
       "      <td>40</td>\n",
       "      <td>s@h.com</td>\n",
       "      <td>서울시 영등포구</td>\n",
       "      <td>팀장</td>\n",
       "    </tr>\n",
       "    <tr>\n",
       "      <th>2</th>\n",
       "      <td>김길동</td>\n",
       "      <td>30</td>\n",
       "      <td>k@h.com</td>\n",
       "      <td>서울시 동작구</td>\n",
       "      <td>NaN</td>\n",
       "    </tr>\n",
       "  </tbody>\n",
       "</table>\n",
       "</div>"
      ],
      "text/plain": [
       "  name  age    email   address  job\n",
       "0  홍길동   20  h@h.com   서울시 관악구  NaN\n",
       "1  신길동   40  s@h.com  서울시 영등포구   팀장\n",
       "2  김길동   30  k@h.com   서울시 동작구  NaN"
      ]
     },
     "execution_count": 30,
     "metadata": {},
     "output_type": "execute_result"
    }
   ],
   "source": [
    "import pandas as pd\n",
    "member = pd.read_csv('data/ch09_member3.csv') # 기본 encoding : utf-8 / 헤더 보유\n",
    "member"
   ]
  },
  {
   "cell_type": "code",
   "execution_count": 31,
   "id": "3fc208dd",
   "metadata": {},
   "outputs": [
    {
     "data": {
      "text/plain": [
       "pandas.core.frame.DataFrame"
      ]
     },
     "execution_count": 31,
     "metadata": {},
     "output_type": "execute_result"
    }
   ],
   "source": [
    "type(member)"
   ]
  },
  {
   "cell_type": "markdown",
   "id": "3ad13dbc",
   "metadata": {},
   "source": [
    "# 4절. JSON 데이터 저장 및 불러오기(dump, load)\n",
    "- 딕셔너리리스트 <-> JSON파일(기본)\n",
    "- 객체리스트 <-> JSON파일\n",
    "## 4.1 dump(파일 출력)"
   ]
  },
  {
   "cell_type": "code",
   "execution_count": 32,
   "id": "2d4190b6",
   "metadata": {},
   "outputs": [],
   "source": [
    "data = [{'name': '홍길동', 'age': 20, 'email': 'kildong@hong.com', 'address': '서울'},\n",
    "        {'name': '김길동', 'age': 30, 'email': 'kimdong@hong.com', 'address': '인천'}]"
   ]
  },
  {
   "cell_type": "code",
   "execution_count": 33,
   "id": "fcfb5962",
   "metadata": {},
   "outputs": [],
   "source": [
    "# ensure_ascii 매개변수 \n",
    "    # True : 비ASCII문은 유니코드 형태로 저장\n",
    "    # False : 비 ASCII문자 원래 형태로 저장\n",
    "import json\n",
    "with open('data/ch09_member.json','w', encoding='utf-8') as jsonfile:\n",
    "    json.dump(data, # 딕셔너리 리스트\n",
    "             jsonfile,\n",
    "             ensure_ascii=False)"
   ]
  },
  {
   "cell_type": "code",
   "execution_count": 34,
   "id": "088fcc0c",
   "metadata": {},
   "outputs": [],
   "source": [
    "class Member:\n",
    "    def __init__(self, name, age, email, address):\n",
    "        self.name = name\n",
    "        self.age  = age\n",
    "        self.email= email\n",
    "        self.address = address\n",
    "    def __str__(self):\n",
    "        return \"{}, {}, {}, {}\".format(self.name,\n",
    "                                      self.age,\n",
    "                                      self.email,\n",
    "                                      self.address)\n",
    "    def as_dict(self):\n",
    "        return {\n",
    "            'name':self.name,\n",
    "            'age':self.age,\n",
    "            'email':self.email,\n",
    "            'address':self.address\n",
    "               }\n",
    "    def __eq__(self, other):\n",
    "        if isinstance(other, Member):\n",
    "            # return self.__str__() == other.__str__()\n",
    "            return self.__dict__ == other.__dict__\n",
    "        else:\n",
    "            return False"
   ]
  },
  {
   "cell_type": "code",
   "execution_count": 35,
   "id": "6be552ea",
   "metadata": {},
   "outputs": [
    {
     "name": "stdout",
     "output_type": "stream",
     "text": [
      "True\n",
      "True\n"
     ]
    }
   ],
   "source": [
    "user1 = Member('홍길동',22,'a@a.com','신림동')\n",
    "user2 = Member('홍길동',22,'a@a.com','신림동')\n",
    "print(user1.__eq__(user2))\n",
    "print(user1==user2)"
   ]
  },
  {
   "cell_type": "code",
   "execution_count": 36,
   "id": "a3e02d2d",
   "metadata": {},
   "outputs": [],
   "source": [
    "member_list = [Member('홍길동', 22, 'a@a.com', '서울'),\n",
    "               Member('신길동', 32, 'a@a.com', '서울'),\n",
    "               Member('김길동', 42, 'a@a.com', '서울')]"
   ]
  },
  {
   "cell_type": "code",
   "execution_count": 37,
   "id": "67f7ee36",
   "metadata": {},
   "outputs": [],
   "source": [
    "with open('data/ch09_member1.json', 'w', encoding='utf-8') as jsonfile:\n",
    "    json.dump(member_list, # 객체 리스트\n",
    "             jsonfile,\n",
    "             ensure_ascii=False,\n",
    "             indent='\\t',\n",
    "             default=Member.as_dict # 객체를 딕셔너리로 return 하는 인스턴스 함수\n",
    "             )"
   ]
  },
  {
   "cell_type": "markdown",
   "id": "09434bf9",
   "metadata": {},
   "source": [
    "## 4.2 load(파일 입력)\n",
    "- json 파일 -> 딕셔너리리스트 (기본)\n",
    "                ↓\n",
    "- json 파일 -> 객체리스트"
   ]
  },
  {
   "cell_type": "code",
   "execution_count": 38,
   "id": "fe35fa39",
   "metadata": {},
   "outputs": [],
   "source": [
    "def as_member(dic):\n",
    "    '매개변수로 딕셔너리를 받아 Member 객체를 return'\n",
    "    return Member(dic.get('name'), dic['age'], dic.get('email'), dic.get('address'))"
   ]
  },
  {
   "cell_type": "code",
   "execution_count": 39,
   "id": "3124d5fa",
   "metadata": {},
   "outputs": [
    {
     "name": "stdout",
     "output_type": "stream",
     "text": [
      "김길동, 20, z@a.com, 관약\n"
     ]
    }
   ],
   "source": [
    "member = as_member({'name':'김길동', 'age':20, 'email':'z@a.com', 'address':'관약'})\n",
    "print(member)"
   ]
  },
  {
   "cell_type": "code",
   "execution_count": 40,
   "id": "1a58f505",
   "metadata": {},
   "outputs": [
    {
     "ename": "UnicodeDecodeError",
     "evalue": "'cp949' codec can't decode byte 0xed in position 11: illegal multibyte sequence",
     "output_type": "error",
     "traceback": [
      "\u001b[1;31m---------------------------------------------------------------------------\u001b[0m",
      "\u001b[1;31mUnicodeDecodeError\u001b[0m                        Traceback (most recent call last)",
      "Cell \u001b[1;32mIn[40], line 2\u001b[0m\n\u001b[0;32m      1\u001b[0m \u001b[38;5;28;01mwith\u001b[39;00m \u001b[38;5;28mopen\u001b[39m(\u001b[38;5;124m'\u001b[39m\u001b[38;5;124mdata/ch09_member.json\u001b[39m\u001b[38;5;124m'\u001b[39m, \u001b[38;5;124m'\u001b[39m\u001b[38;5;124mr\u001b[39m\u001b[38;5;124m'\u001b[39m) \u001b[38;5;28;01mas\u001b[39;00m f:\n\u001b[1;32m----> 2\u001b[0m     load_data \u001b[38;5;241m=\u001b[39m \u001b[43mjson\u001b[49m\u001b[38;5;241;43m.\u001b[39;49m\u001b[43mload\u001b[49m\u001b[43m(\u001b[49m\u001b[43mf\u001b[49m\u001b[43m)\u001b[49m\n\u001b[0;32m      3\u001b[0m load_data\n",
      "File \u001b[1;32m~\\anaconda3\\lib\\json\\__init__.py:293\u001b[0m, in \u001b[0;36mload\u001b[1;34m(fp, cls, object_hook, parse_float, parse_int, parse_constant, object_pairs_hook, **kw)\u001b[0m\n\u001b[0;32m    274\u001b[0m \u001b[38;5;28;01mdef\u001b[39;00m \u001b[38;5;21mload\u001b[39m(fp, \u001b[38;5;241m*\u001b[39m, \u001b[38;5;28mcls\u001b[39m\u001b[38;5;241m=\u001b[39m\u001b[38;5;28;01mNone\u001b[39;00m, object_hook\u001b[38;5;241m=\u001b[39m\u001b[38;5;28;01mNone\u001b[39;00m, parse_float\u001b[38;5;241m=\u001b[39m\u001b[38;5;28;01mNone\u001b[39;00m,\n\u001b[0;32m    275\u001b[0m         parse_int\u001b[38;5;241m=\u001b[39m\u001b[38;5;28;01mNone\u001b[39;00m, parse_constant\u001b[38;5;241m=\u001b[39m\u001b[38;5;28;01mNone\u001b[39;00m, object_pairs_hook\u001b[38;5;241m=\u001b[39m\u001b[38;5;28;01mNone\u001b[39;00m, \u001b[38;5;241m*\u001b[39m\u001b[38;5;241m*\u001b[39mkw):\n\u001b[0;32m    276\u001b[0m     \u001b[38;5;124;03m\"\"\"Deserialize ``fp`` (a ``.read()``-supporting file-like object containing\u001b[39;00m\n\u001b[0;32m    277\u001b[0m \u001b[38;5;124;03m    a JSON document) to a Python object.\u001b[39;00m\n\u001b[0;32m    278\u001b[0m \n\u001b[1;32m   (...)\u001b[0m\n\u001b[0;32m    291\u001b[0m \u001b[38;5;124;03m    kwarg; otherwise ``JSONDecoder`` is used.\u001b[39;00m\n\u001b[0;32m    292\u001b[0m \u001b[38;5;124;03m    \"\"\"\u001b[39;00m\n\u001b[1;32m--> 293\u001b[0m     \u001b[38;5;28;01mreturn\u001b[39;00m loads(\u001b[43mfp\u001b[49m\u001b[38;5;241;43m.\u001b[39;49m\u001b[43mread\u001b[49m\u001b[43m(\u001b[49m\u001b[43m)\u001b[49m,\n\u001b[0;32m    294\u001b[0m         \u001b[38;5;28mcls\u001b[39m\u001b[38;5;241m=\u001b[39m\u001b[38;5;28mcls\u001b[39m, object_hook\u001b[38;5;241m=\u001b[39mobject_hook,\n\u001b[0;32m    295\u001b[0m         parse_float\u001b[38;5;241m=\u001b[39mparse_float, parse_int\u001b[38;5;241m=\u001b[39mparse_int,\n\u001b[0;32m    296\u001b[0m         parse_constant\u001b[38;5;241m=\u001b[39mparse_constant, object_pairs_hook\u001b[38;5;241m=\u001b[39mobject_pairs_hook, \u001b[38;5;241m*\u001b[39m\u001b[38;5;241m*\u001b[39mkw)\n",
      "\u001b[1;31mUnicodeDecodeError\u001b[0m: 'cp949' codec can't decode byte 0xed in position 11: illegal multibyte sequence"
     ]
    }
   ],
   "source": [
    "with open('data/ch09_member.json', 'r') as f:\n",
    "    load_data = json.load(f)\n",
    "load_data"
   ]
  },
  {
   "cell_type": "code",
   "execution_count": null,
   "id": "6819a4c0",
   "metadata": {},
   "outputs": [],
   "source": [
    "with open('data/ch09_member1.json', 'r', encoding='utf-8') as f:\n",
    "    load_member_list = json.load(f, object_hook=as_member)\n",
    "for load_member in load_member_list:\n",
    "    print(load_member)"
   ]
  },
  {
   "cell_type": "markdown",
   "id": "99644019",
   "metadata": {},
   "source": [
    "### JSON -> 데이터프레임"
   ]
  },
  {
   "cell_type": "code",
   "execution_count": null,
   "id": "b869510d",
   "metadata": {},
   "outputs": [],
   "source": [
    "import pandas as pd\n",
    "pd.read_json('data/ch09_member1.json') \n",
    "# pd.함수() : encoding='utf-8' 기본값\n",
    "# open(파일, 모드)함수 : encoding='cp949' 기본값"
   ]
  },
  {
   "cell_type": "code",
   "execution_count": null,
   "id": "45f2cf6b",
   "metadata": {},
   "outputs": [],
   "source": [
    "pd.read_json('data/ch09_member.json', encoding='cp949')"
   ]
  },
  {
   "cell_type": "markdown",
   "id": "bb872154",
   "metadata": {},
   "source": [
    "# 5절. 연습문제"
   ]
  },
  {
   "cell_type": "code",
   "execution_count": 44,
   "id": "c9e59cdf",
   "metadata": {},
   "outputs": [],
   "source": [
    "# 1.\n",
    "import pandas as pd\n",
    "class Customer:\n",
    "    def __init__(self, grade, name, tel, email, age, etc) :\n",
    "        self.grade = grade\n",
    "        self.name = name\n",
    "        self.phone = phone\n",
    "        self.email = email\n",
    "        self.age = age\n",
    "        self.etc = etc\n",
    "    def find_by_name(tel):\n",
    "        if self.tel == tel :\n",
    "            print('고객님의 성함은 {}입니다.'.format(self.name))\n",
    "        else :\n",
    "            print('일치하는 정보가 없습니다.')\n",
    "    def as_dict(self):\n",
    "        return {\n",
    "            'name':self.name,\n",
    "            'age':self.age,\n",
    "            'email':self.email,\n",
    "            'tel':self.tel\n",
    "               }\n",
    "    def fn1_insert_customer_info() :\n",
    "        "
   ]
  },
  {
   "cell_type": "code",
   "execution_count": null,
   "id": "fa67ff4c",
   "metadata": {},
   "outputs": [],
   "source": [
    "if __name__ == \"__main__\":\n",
    "    main()\n",
    "def main:\n",
    "    global customer_list\n",
    "    customer_list = load_customers()\n",
    "    print('데이터가 로드되었습니다.')\n",
    "    while True:\n",
    "        choice = int(input('1:입력|2:전체출력|3:삭제|4:이름찾기|5:내보내기(CSV)|9:종료 메뉴 선택 :'))\n",
    "        if choice == 1:\n",
    "            new_name = input('성함을 입력하세요 :')\n",
    "            new_tel = input('전화번호를 입력하세요 : ')\n",
    "            new_email = input('이메일 주소를 입력하세요 :')\n",
    "            new_age = int(input('나이를 입력하세요 :'))\n",
    "            new_etc = input('기타 기재사항을 입력하세요 :')\n",
    "            Customer(new)"
   ]
  },
  {
   "cell_type": "code",
   "execution_count": null,
   "id": "3ef4a4fb",
   "metadata": {},
   "outputs": [],
   "source": []
  },
  {
   "cell_type": "code",
   "execution_count": null,
   "id": "c1ea678a",
   "metadata": {},
   "outputs": [],
   "source": []
  },
  {
   "cell_type": "code",
   "execution_count": null,
   "id": "9e407a6f",
   "metadata": {},
   "outputs": [],
   "source": []
  },
  {
   "cell_type": "code",
   "execution_count": null,
   "id": "f0bdb9b2",
   "metadata": {},
   "outputs": [],
   "source": []
  },
  {
   "cell_type": "code",
   "execution_count": null,
   "id": "562be479",
   "metadata": {},
   "outputs": [],
   "source": []
  },
  {
   "cell_type": "code",
   "execution_count": null,
   "id": "f88f8347",
   "metadata": {},
   "outputs": [],
   "source": []
  },
  {
   "cell_type": "code",
   "execution_count": null,
   "id": "6a38011f",
   "metadata": {},
   "outputs": [],
   "source": []
  },
  {
   "cell_type": "code",
   "execution_count": null,
   "id": "550a9591",
   "metadata": {},
   "outputs": [],
   "source": []
  },
  {
   "cell_type": "code",
   "execution_count": null,
   "id": "640ae421",
   "metadata": {},
   "outputs": [],
   "source": []
  },
  {
   "cell_type": "code",
   "execution_count": null,
   "id": "f4069550",
   "metadata": {},
   "outputs": [],
   "source": []
  },
  {
   "cell_type": "code",
   "execution_count": null,
   "id": "6ef19192",
   "metadata": {},
   "outputs": [],
   "source": []
  },
  {
   "cell_type": "code",
   "execution_count": null,
   "id": "e0adec44",
   "metadata": {},
   "outputs": [],
   "source": []
  },
  {
   "cell_type": "code",
   "execution_count": null,
   "id": "4110154e",
   "metadata": {},
   "outputs": [],
   "source": []
  },
  {
   "cell_type": "code",
   "execution_count": null,
   "id": "5ee127f4",
   "metadata": {},
   "outputs": [],
   "source": []
  }
 ],
 "metadata": {
  "kernelspec": {
   "display_name": "Python 3 (ipykernel)",
   "language": "python",
   "name": "python3"
  },
  "language_info": {
   "codemirror_mode": {
    "name": "ipython",
    "version": 3
   },
   "file_extension": ".py",
   "mimetype": "text/x-python",
   "name": "python",
   "nbconvert_exporter": "python",
   "pygments_lexer": "ipython3",
   "version": "3.10.9"
  },
  "toc": {
   "base_numbering": 1,
   "nav_menu": {},
   "number_sections": false,
   "sideBar": true,
   "skip_h1_title": false,
   "title_cell": "Table of Contents",
   "title_sidebar": "Contents",
   "toc_cell": false,
   "toc_position": {
    "height": "calc(100% - 180px)",
    "left": "10px",
    "top": "150px",
    "width": "248.542px"
   },
   "toc_section_display": true,
   "toc_window_display": true
  }
 },
 "nbformat": 4,
 "nbformat_minor": 5
}
