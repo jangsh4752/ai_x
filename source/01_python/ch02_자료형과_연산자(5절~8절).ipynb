{
 "cells": [
  {
   "cell_type": "code",
   "execution_count": 1,
   "id": "4c28e497",
   "metadata": {},
   "outputs": [
    {
     "data": {
      "text/html": [
       "\n",
       "<style>\n",
       "div.container{width:86% !important;}\n",
       "div.cell.code_cell.rendered{width:100%;}\n",
       "div.CodeMirror {font-family:Consolas; font-size:12pt;}\n",
       "div.output {font-size:15pt; font-weight:bold;}\n",
       "div.input {font-family:Consolas; font-size:12pt;}\n",
       "div.prompt {min-width:70px;}\n",
       "div#toc-wrapper{padding-top:120px;}\n",
       "div.text_cell_render ul li{font-size:12pt;padding:5px;}\n",
       "table.dataframe{font-size:15px;}\n",
       "</style>\n"
      ],
      "text/plain": [
       "<IPython.core.display.HTML object>"
      ]
     },
     "metadata": {},
     "output_type": "display_data"
    }
   ],
   "source": [
    "from IPython.display import display, HTML\n",
    "display(HTML(\"\"\"\n",
    "<style>\n",
    "div.container{width:86% !important;}\n",
    "div.cell.code_cell.rendered{width:100%;}\n",
    "div.CodeMirror {font-family:Consolas; font-size:12pt;}\n",
    "div.output {font-size:15pt; font-weight:bold;}\n",
    "div.input {font-family:Consolas; font-size:12pt;}\n",
    "div.prompt {min-width:70px;}\n",
    "div#toc-wrapper{padding-top:120px;}\n",
    "div.text_cell_render ul li{font-size:12pt;padding:5px;}\n",
    "table.dataframe{font-size:15px;}\n",
    "</style>\n",
    "\"\"\"))"
   ]
  },
  {
   "cell_type": "markdown",
   "id": "42dbb2b0",
   "metadata": {},
   "source": [
    "<font size=\"5\" color=\"red\"> ch02 자료형과 연산자</font>\n",
    "\n",
    "# 5절. 연산자\n",
    "## 5.1 산술연산자 : +, -, *, /, //(몫), %(나머지), **(제곱)"
   ]
  },
  {
   "cell_type": "code",
   "execution_count": 4,
   "id": "fe7c943f",
   "metadata": {},
   "outputs": [
    {
     "name": "stdout",
     "output_type": "stream",
     "text": [
      "10의 5승 :  100000\n",
      "4/2(결과 실수) :  2.0\n",
      "4//2(몫) : 2\n",
      "4%2(나머지) : 0\n"
     ]
    }
   ],
   "source": [
    "print(\"10의 5승 : \", 10**5)\n",
    "print('4/2(결과 실수) : ', 4/2)\n",
    "print('4//2(몫) :', 4//2)\n",
    "print('4%2(나머지) :', 4%2)"
   ]
  },
  {
   "cell_type": "code",
   "execution_count": 8,
   "id": "724be26d",
   "metadata": {},
   "outputs": [
    {
     "name": "stdout",
     "output_type": "stream",
     "text": [
      "정수를 입력하세요 :10\n",
      "입력하신 수는 10, 2로 나눈 나머지는 0. 그래서 짝수를 입력하셨습니다.\n"
     ]
    }
   ],
   "source": [
    "# quiz 1. 정수를 입력받아 짝수인지 홀수인지 여부를 출력\n",
    "num = int(input('정수를 입력하세요 :'))\n",
    "result = num%2\n",
    "if result:\n",
    "    temp = \"홀수\"\n",
    "else :\n",
    "    temp = \"짝수\"\n",
    "    \n",
    "print(f\"입력하신 수는 {num}, 2로 나눈 나머지는 {result}. 그래서 {temp}를 입력하셨습니다.\")"
   ]
  },
  {
   "cell_type": "code",
   "execution_count": 26,
   "id": "29994af6",
   "metadata": {},
   "outputs": [
    {
     "name": "stdout",
     "output_type": "stream",
     "text": [
      "정수를 입력하세요 :20\n",
      "입력하신 수는 20, 5로 나눈 나머지는 0. 그래서 5의 배수를 입력하셨습니다.\n"
     ]
    }
   ],
   "source": [
    "# quiz 2. 정수를 입력받아 5의 배수인지 여부를 출력\n",
    "num = int(input('정수를 입력하세요 :')) \n",
    "result = num%5\n",
    "if result :\n",
    "    temp = \"5의 배수가 아닌 수\"\n",
    "else : \n",
    "    temp = \"5의 배수\"\n",
    "    \n",
    "print(f\"입력하신 수는 {num}, 5로 나눈 나머지는 {result}. 그래서 {temp}를 입력하셨습니다.\")"
   ]
  },
  {
   "cell_type": "code",
   "execution_count": 28,
   "id": "35e4bf25",
   "metadata": {
    "collapsed": true
   },
   "outputs": [
    {
     "name": "stdout",
     "output_type": "stream",
     "text": [
      "국어 점수를 입력하세요 : 99\n",
      "영어 점수를 입력하세요 : 100\n",
      "수학 점수를 입력하세요 : 99\n",
      "국어 :  99\t영어 : 100\t수학 :  99\n",
      "총점 : 298\t평균 :  99.3\n"
     ]
    }
   ],
   "source": [
    "# quiz 3. 국, 영, 수 점수를 입력받아 다음셀에서 다음과 같이 출력하도록 구현하시오\n",
    "# 국어 : 99    영어 : 100    수학 : 99\n",
    "# 총점 : 298   평균 : 99.3\n",
    "kor = int(input('국어 점수를 입력하세요 : '))\n",
    "eng = int(input('영어 점수를 입력하세요 : '))\n",
    "math = int(input('수학 점수를 입력하세요 : '))\n",
    "sum = kor + eng + math\n",
    "avg = sum/3\n",
    "print(\"국어 : {:3d}\\t영어 : {:3d}\\t수학 : {:3d}\".format(kor, eng, math))\n",
    "print(\"총점 : {:3d}\\t평균 : {:5.1f}\".format(sum, avg))\n"
   ]
  },
  {
   "cell_type": "markdown",
   "id": "f936eebd",
   "metadata": {},
   "source": [
    "## 5.2 할당연산자 : =, +=, -=, *=, /=, //=, %="
   ]
  },
  {
   "cell_type": "code",
   "execution_count": 30,
   "id": "ef4d6ca7",
   "metadata": {},
   "outputs": [
    {
     "name": "stdout",
     "output_type": "stream",
     "text": [
      "5 더하기 : 15\n"
     ]
    }
   ],
   "source": [
    "a = 10\n",
    "a += 5 # a = a + 5\n",
    "print('5 더하기 :', a)"
   ]
  },
  {
   "cell_type": "code",
   "execution_count": 31,
   "id": "6da28360",
   "metadata": {},
   "outputs": [
    {
     "name": "stdout",
     "output_type": "stream",
     "text": [
      "5 빼기 : 10\n",
      "5배 : 50\n"
     ]
    }
   ],
   "source": [
    "a -= 5 # a = a-5\n",
    "print('5 빼기 :', a)\n",
    "a *= 5 # a = a*5\n",
    "print('5배 :', a)\n",
    "# c언어, Java 처럼 ++ 연산자 없음"
   ]
  },
  {
   "cell_type": "markdown",
   "id": "ccb362b1",
   "metadata": {},
   "source": [
    "## 5.3 논리연산자 : &,and,           |, or, not(부정)"
   ]
  },
  {
   "cell_type": "code",
   "execution_count": 33,
   "id": "95508392",
   "metadata": {},
   "outputs": [
    {
     "name": "stdout",
     "output_type": "stream",
     "text": [
      "True\n",
      "0\n"
     ]
    }
   ],
   "source": [
    "# & 논리연산자, 비트연산자\n",
    "print(  (10>3) & (10>5)  ) # 논리연산 True & True\n",
    "print(12 & 1)   # 논리연산은 연산자 양쪽에 논리형이 있어야 함 -> 비트연산으로 작동 \n",
    "                # (0000 1100 & 0000 0001 => 0000 0000)"
   ]
  },
  {
   "cell_type": "code",
   "execution_count": 39,
   "id": "cc96c924",
   "metadata": {},
   "outputs": [
    {
     "name": "stdout",
     "output_type": "stream",
     "text": [
      "3\n",
      "False\n",
      "0\n",
      "[]\n"
     ]
    }
   ],
   "source": [
    "# and : 논리연산 - False인지 아닌지 판별(False가 있으면 뒤에 뭐가 있든 즉시 False 처리)\n",
    "#       False로 판별되는 첫번째 항의 결과 반환\n",
    "#       모든 항이 참이면 마지막 항을 반환\n",
    "print(True and 1 and 3)\n",
    "print(True and False and True and True and True)\n",
    "print(0 and True)\n",
    "print(True and [] and True)"
   ]
  },
  {
   "cell_type": "code",
   "execution_count": 43,
   "id": "1c82e5b1",
   "metadata": {},
   "outputs": [
    {
     "name": "stdout",
     "output_type": "stream",
     "text": [
      "논리연산(연산자 앞 뒤에 논리형일 때) :  True\n",
      "비트연산(연산자 앞이나 뒤에 숫자일 때) :  3\n"
     ]
    }
   ],
   "source": [
    "# | : 논리연산자, 비트 연산자\n",
    "result = False | True\n",
    "print('논리연산(연산자 앞 뒤에 논리형일 때) : ', result)\n",
    "result = False | 3 # 0000 0000\n",
    "                    # 0000 0011 (3)\n",
    "print('비트연산(연산자 앞이나 뒤에 숫자일 때) : ', result)"
   ]
  },
  {
   "cell_type": "code",
   "execution_count": 46,
   "id": "7cb9a7ad",
   "metadata": {},
   "outputs": [
    {
     "name": "stdout",
     "output_type": "stream",
     "text": [
      "None\n",
      "Hong\n",
      "False\n"
     ]
    }
   ],
   "source": [
    "# or : 논리연산자 - True인지 아닌지 판별(True가 있으면 뒤에 뭐가 있던 즉시 True 처리)\n",
    "#      True로 판별되는 첫번째 항을 반환\n",
    "print(False or False or None)\n",
    "print('Hong' or ' ' or False)\n",
    "print(False or False)"
   ]
  },
  {
   "cell_type": "markdown",
   "id": "02c8426c",
   "metadata": {},
   "source": [
    "## 5.4 비교연산자 : >, >=, <, <=, ==(같다), !=(다르다)"
   ]
  },
  {
   "cell_type": "code",
   "execution_count": 47,
   "id": "0ad8fbb2",
   "metadata": {},
   "outputs": [
    {
     "name": "stdout",
     "output_type": "stream",
     "text": [
      "True\n",
      "True\n"
     ]
    }
   ],
   "source": [
    "# 비교연산자는 이항, 삼항, 사항... 다항연산자\n",
    "x = 5\n",
    "print((4<x) & (x<10))\n",
    "print(4 < x < 10)"
   ]
  },
  {
   "cell_type": "code",
   "execution_count": 53,
   "id": "ba536bcb",
   "metadata": {
    "collapsed": true
   },
   "outputs": [
    {
     "name": "stdout",
     "output_type": "stream",
     "text": [
      "True\n",
      "False\n",
      "False\n",
      "True\n"
     ]
    }
   ],
   "source": [
    "# 비교연산자(<)의 우선순위가 논리연산(&)의 우선순위보다 낮음\n",
    "print((10>5) & (10>7))\n",
    "print(10>5 & 10>7)    # 0101\n",
    "                      # 1010\n",
    "print(10>0>7)\n",
    "print( 10>5 and 10>7) # and를 쓰면 가능하나 &를 주로 씀 ->() 사용에 주의"
   ]
  },
  {
   "cell_type": "code",
   "execution_count": 54,
   "id": "3741b4d8",
   "metadata": {},
   "outputs": [
    {
     "name": "stdout",
     "output_type": "stream",
     "text": [
      "False\n"
     ]
    }
   ],
   "source": [
    "address = '서울'\n",
    "age = 29\n",
    "\n",
    "print((address=='서울') & (age>=30))\n",
    "print((address!='서울') & (age>=30))"
   ]
  },
  {
   "cell_type": "code",
   "execution_count": 55,
   "id": "c66d6dd8",
   "metadata": {},
   "outputs": [
    {
     "data": {
      "text/plain": [
       "True"
      ]
     },
     "execution_count": 55,
     "metadata": {},
     "output_type": "execute_result"
    }
   ],
   "source": [
    "# 문자 비교 : ASCII 코드 순으로 비교 가능 : 특수문자 < 숫자 < 대문자 < 소문자\n",
    "# 무조건 첫글자 비교값으로 판별, 같을 경우 두번째 글자\n",
    "# 글자가 전부 같을 경우 잔여 글자가 많은 쪽이 큼('가나다라' > '가나다')\n",
    "'scott' < 'tiger'"
   ]
  },
  {
   "cell_type": "code",
   "execution_count": 56,
   "id": "cecfb09e",
   "metadata": {},
   "outputs": [
    {
     "data": {
      "text/plain": [
       "True"
      ]
     },
     "execution_count": 56,
     "metadata": {},
     "output_type": "execute_result"
    }
   ],
   "source": [
    "'9' > '10'"
   ]
  },
  {
   "cell_type": "code",
   "execution_count": 57,
   "id": "5489b576",
   "metadata": {},
   "outputs": [
    {
     "data": {
      "text/plain": [
       "True"
      ]
     },
     "execution_count": 57,
     "metadata": {},
     "output_type": "execute_result"
    }
   ],
   "source": [
    "'김길동' < '홍길동'"
   ]
  },
  {
   "cell_type": "markdown",
   "id": "ab0f1af9",
   "metadata": {},
   "source": [
    "## 5.5 비트 연산자 : &, |, ^(XOR), ~"
   ]
  },
  {
   "cell_type": "code",
   "execution_count": null,
   "id": "5c12412f",
   "metadata": {},
   "outputs": [],
   "source": [
    "x y x&y   x^y\n",
    "0 0  0     0\n",
    "0 1  0     1\n",
    "1 0  0     1\n",
    "1 1  1     0"
   ]
  },
  {
   "cell_type": "code",
   "execution_count": 60,
   "id": "a99f8af9",
   "metadata": {},
   "outputs": [
    {
     "name": "stdout",
     "output_type": "stream",
     "text": [
      " a = 15 : 1111\n",
      " b =  2 : 0010\n",
      "a^b = 13 : 1101\n"
     ]
    }
   ],
   "source": [
    "a = 15 # 1111\n",
    "b = 2  # 0010\n",
    "print(\" a  = {0:2} : {0:04b}\".format(a))\n",
    "print(\" b  = {0:2} : {0:04b}\".format(b))\n",
    "print(\"a^b = {0:2} : {0:04b}\".format(a^b))"
   ]
  },
  {
   "cell_type": "markdown",
   "id": "00b862c8",
   "metadata": {},
   "source": [
    "- 연산자\n",
    "    - 산술연산 : + - * / // % **\n",
    "    - 할당연산 : = += -= *= /= //= %=\n",
    "    - 논리연산 : & and | or not\n",
    "    - 비교연산 : > >= < <= == !=\n",
    "    - 비트연산 : & | ^\n",
    "    - &와 |은 비교연산자보다 우선순위가 높다"
   ]
  },
  {
   "cell_type": "markdown",
   "id": "e03f1962",
   "metadata": {},
   "source": [
    "# 6절. 문자열 다루기\n",
    "- 문자열 슬라이싱 : 변수[from:stop:step]\n",
    "- len(문자열변수) : 문자갯수 반환\n",
    "\n",
    "- upper() : 대문자로 변환\n",
    "- lower() : 소문자로 변환\n",
    "- title() : 각 어절의 첫 글자만 대문자로\n",
    "- capitalize() : 첫문자만 대문자로\n",
    "- count('찾을 문자열') : '찾을 문자열'이 몇개 들어 있는지 갯수 반환\n",
    "- find('찾을 문자열') : 찾을 문자열이 왼쪽부터 시작하여 몇 번째 인덱스에 있는지 체크, 인덱스 반환\n",
    "- rfind('찾을 문자열') : 찾을 문자열이 오른쪽부터 시작하여 몇 번째에 있는지 체크, 인덱스 반환\n",
    "        **찾을 문자열이 없으면 -1 반환**\n",
    "- cf) index('찾을 문자열') : 찾을 문자열의 인데스를 반환. 찾을 문자열이 없으면 오류\n",
    "- startswith('특정 문자열') : 특정문자열로 시작하는지 여부\n",
    "- endswith('특정 문자열') : 특정문자열로 끝나는지 여부\n",
    "- strip() : 좌우 공백 제거(문자열 내부 공백은 제거 X)\n",
    "- rstrip() : 오른쪽 공백 제거\n",
    "- lstrip() : 왼쪽 공백 제거\n",
    "- isdigit() : 문자열이 숫자문자열인지 여부 \"100\"\n",
    "- islower() : 소문자 문자열인지 여부\n",
    "- isupper() : 대문자 문자열인지 여부\n",
    "- replace(oldStr, newStr) : oldStr을 newStr로 변경"
   ]
  },
  {
   "cell_type": "code",
   "execution_count": 82,
   "id": "8b190c15",
   "metadata": {
    "collapsed": true
   },
   "outputs": [
    {
     "name": "stdout",
     "output_type": "stream",
     "text": [
      "1. 글자수 39\n",
      "2. 대문자로 :  PYTHON IS EASY. PYTHON IS SMART. PYTHON\n",
      "3. 소문자로 :  python is easy. python is smart. python\n",
      "4. title :  Python Is Easy. Python Is Smart. Python\n",
      "5. capitalize() :  Python is easy. python is smart. python\n",
      "6. python이 몇번 나오는지 :  2\n",
      "7. 대소문자 구분없이 python이 몇번 나오는지 :  3\n",
      "7. 대소문자 구분없이 python이 몇번 나오는지 :  3\n",
      "7. 대소문자 구분없이 python이 몇번 나오는지 :  3\n",
      "8. python이 나오는 첫 index 위치: 0\n",
      "8. python이 나오는 마지막 index 위치: 33\n",
      "8. java가 나오는 마지막 index 위치: -1\n",
      "8. python이 나오는 첫 index 위치: 0\n",
      "9. python으로 시작하는지 여부 True\n",
      "10. 대소문자 구분 없이 python으로 끝나는지 여부 True\n"
     ]
    }
   ],
   "source": [
    "temp = \"python is easy. pYThon is smart. python\"\n",
    "print('1. 글자수', len(temp))\n",
    "print('2. 대문자로 : ', temp.upper())\n",
    "print('3. 소문자로 : ', temp.lower())\n",
    "print('4. title : ', temp.title())\n",
    "print('5. capitalize() : ', temp.capitalize())\n",
    "print('6. python이 몇번 나오는지 : ', temp.count('python'))\n",
    "print('7. 대소문자 구분없이 python이 몇번 나오는지 : ', temp.lower().count('python'))\n",
    "print('7. 대소문자 구분없이 python이 몇번 나오는지 : ', temp.upper().count('PYTHON'))\n",
    "print('7. 대소문자 구분없이 python이 몇번 나오는지 : ', temp.title().count('Python'))\n",
    "print('8. python이 나오는 첫 index 위치:', temp.find('python'))\n",
    "print('8. python이 나오는 마지막 index 위치:', temp.rfind('python'))\n",
    "print('8. java가 나오는 마지막 index 위치:', temp.rfind('java'))\n",
    "print('8. python이 나오는 첫 index 위치:', temp.index('python'))\n",
    "# print('8. java가 나오는 첫 index 위치:', temp.index('java'))\n",
    "print('9. python으로 시작하는지 여부', temp.startswith('python'))\n",
    "print('10. 대소문자 구분 없이 python으로 끝나는지 여부', temp.upper().endswith('PYTHON'))"
   ]
  },
  {
   "cell_type": "code",
   "execution_count": 95,
   "id": "a21a510b",
   "metadata": {
    "collapsed": true
   },
   "outputs": [
    {
     "name": "stdout",
     "output_type": "stream",
     "text": [
      "11. 좌우 공백제거 : [python is easy.]\n",
      "11. 좌측 공백제거 : [python is easy.        ]\n",
      "11. 우측 공백제거 : [          python is easy.]\n",
      "12. 숫자문자열인지 여부 :  False\n",
      "13. 소문자 문자열인지 여부 :  True\n",
      "13. 대문자 문자열인지 여부 :  False\n",
      "14. ,제거 : 1000000\n",
      "14. ,제거 : 1000\n"
     ]
    }
   ],
   "source": [
    "temp = '          python is easy.        '\n",
    "notdisit = '1,000,000'\n",
    "num_str = \"1000\"\n",
    "print('11. 좌우 공백제거 : [{}]'.format(temp.strip()))\n",
    "print('11. 좌측 공백제거 : [{}]'.format(temp.lstrip()))\n",
    "print('11. 우측 공백제거 : [{}]'.format(temp.rstrip()))\n",
    "print('12. 숫자문자열인지 여부 : ', notdisit.isdigit())\n",
    "print('13. 소문자 문자열인지 여부 : ', temp.islower())\n",
    "print('13. 대문자 문자열인지 여부 : ', temp.isupper())\n",
    "print('14. ,제거 :', notdisit.replace(',', ''))\n",
    "print('14. ,제거 :', num_str.replace(',', ''))"
   ]
  },
  {
   "cell_type": "code",
   "execution_count": 97,
   "id": "dfbcc3ef",
   "metadata": {},
   "outputs": [
    {
     "name": "stdout",
     "output_type": "stream",
     "text": [
      "space단위로 temp를 분리 : ['홍길동', '김길동', '신길똥', '유길동']\n"
     ]
    }
   ],
   "source": [
    "temp = \" 홍길동     김길동 신길똥  유길동\"\n",
    "print('space단위로 temp를 분리 :', temp.split()) # 기본값 : space 단위로 분리"
   ]
  },
  {
   "cell_type": "code",
   "execution_count": 100,
   "id": "3da724e2",
   "metadata": {},
   "outputs": [
    {
     "name": "stdout",
     "output_type": "stream",
     "text": [
      " - 단위로 data를 분리(결과 : list)\n",
      "['2025', '04', '10']\n",
      "년 : 2025\n",
      "월 : 04\n",
      "일 : 10\n"
     ]
    }
   ],
   "source": [
    "data = \"2025-04-10\"\n",
    "print(' - 단위로 data를 분리(결과 : list)')\n",
    "data_list = data.split('-')\n",
    "print(data_list)\n",
    "print(\"년 :\", data_list[0])\n",
    "print(\"월 :\", data_list[1])\n",
    "print(\"일 :\", data_list[2])"
   ]
  },
  {
   "cell_type": "code",
   "execution_count": 106,
   "id": "c0632652",
   "metadata": {},
   "outputs": [
    {
     "name": "stdout",
     "output_type": "stream",
     "text": [
      "원 데이터 :  Python - HTML/CSS - JavaScript - DBMS\n",
      "분리된 데이터 :  ['Python', 'HTML/CSS', 'JavaScript', 'DBMS']\n",
      "join된 데이터 :  Python/HTML/CSS/JavaScript/DBMS\n"
     ]
    }
   ],
   "source": [
    "# ' - ' 를 '/'로 바꾸기\n",
    "temp = \"Python - HTML/CSS - JavaScript - DBMS\"\n",
    "#temp.replace(' - ', '/')\n",
    "print('원 데이터 : ',temp)\n",
    "splited_temp = temp.split(' - ')\n",
    "print('분리된 데이터 : ', splited_temp)\n",
    "joined_temp = '/'.join(splited_temp)\n",
    "print('join된 데이터 : ', joined_temp)"
   ]
  },
  {
   "cell_type": "code",
   "execution_count": null,
   "id": "2a0b86e9",
   "metadata": {},
   "outputs": [],
   "source": [
    "str_ = 'ABC'\n",
    "# str_ = [ 'A', 'B', 'C']"
   ]
  },
  {
   "cell_type": "code",
   "execution_count": 107,
   "id": "d33c59aa",
   "metadata": {
    "collapsed": true
   },
   "outputs": [
    {
     "data": {
      "text/plain": [
       "['__add__',\n",
       " '__class__',\n",
       " '__contains__',\n",
       " '__delattr__',\n",
       " '__dir__',\n",
       " '__doc__',\n",
       " '__eq__',\n",
       " '__format__',\n",
       " '__ge__',\n",
       " '__getattribute__',\n",
       " '__getitem__',\n",
       " '__getnewargs__',\n",
       " '__gt__',\n",
       " '__hash__',\n",
       " '__init__',\n",
       " '__init_subclass__',\n",
       " '__iter__',\n",
       " '__le__',\n",
       " '__len__',\n",
       " '__lt__',\n",
       " '__mod__',\n",
       " '__mul__',\n",
       " '__ne__',\n",
       " '__new__',\n",
       " '__reduce__',\n",
       " '__reduce_ex__',\n",
       " '__repr__',\n",
       " '__rmod__',\n",
       " '__rmul__',\n",
       " '__setattr__',\n",
       " '__sizeof__',\n",
       " '__str__',\n",
       " '__subclasshook__',\n",
       " 'capitalize',\n",
       " 'casefold',\n",
       " 'center',\n",
       " 'count',\n",
       " 'encode',\n",
       " 'endswith',\n",
       " 'expandtabs',\n",
       " 'find',\n",
       " 'format',\n",
       " 'format_map',\n",
       " 'index',\n",
       " 'isalnum',\n",
       " 'isalpha',\n",
       " 'isascii',\n",
       " 'isdecimal',\n",
       " 'isdigit',\n",
       " 'isidentifier',\n",
       " 'islower',\n",
       " 'isnumeric',\n",
       " 'isprintable',\n",
       " 'isspace',\n",
       " 'istitle',\n",
       " 'isupper',\n",
       " 'join',\n",
       " 'ljust',\n",
       " 'lower',\n",
       " 'lstrip',\n",
       " 'maketrans',\n",
       " 'partition',\n",
       " 'removeprefix',\n",
       " 'removesuffix',\n",
       " 'replace',\n",
       " 'rfind',\n",
       " 'rindex',\n",
       " 'rjust',\n",
       " 'rpartition',\n",
       " 'rsplit',\n",
       " 'rstrip',\n",
       " 'split',\n",
       " 'splitlines',\n",
       " 'startswith',\n",
       " 'strip',\n",
       " 'swapcase',\n",
       " 'title',\n",
       " 'translate',\n",
       " 'upper',\n",
       " 'zfill']"
      ]
     },
     "execution_count": 107,
     "metadata": {},
     "output_type": "execute_result"
    }
   ],
   "source": [
    "# 문자열이 다룰 수 있는 함수들과 변수들 목록\n",
    "dir(str)"
   ]
  },
  {
   "cell_type": "markdown",
   "id": "daf71e53",
   "metadata": {},
   "source": [
    "# 7절. 시간, 날짜, 날짜시간 다루기"
   ]
  },
  {
   "cell_type": "code",
   "execution_count": 3,
   "id": "9ab90e27",
   "metadata": {},
   "outputs": [
    {
     "data": {
      "text/plain": [
       "'C:\\\\Users\\\\Admin\\\\anaconda3\\\\lib\\\\datetime.py'"
      ]
     },
     "execution_count": 3,
     "metadata": {},
     "output_type": "execute_result"
    }
   ],
   "source": [
    "import datetime \n",
    "datetime.__file__"
   ]
  },
  {
   "cell_type": "code",
   "execution_count": 4,
   "id": "705201a3",
   "metadata": {},
   "outputs": [],
   "source": [
    "# datetime모듈(datetime.py)안의 datetime, date, time만 import\n",
    "from datetime import datetime, date, time"
   ]
  },
  {
   "cell_type": "markdown",
   "id": "78c5fcad",
   "metadata": {},
   "source": [
    "## 7.1 시간과 날짜"
   ]
  },
  {
   "cell_type": "code",
   "execution_count": 5,
   "id": "7d3d3184",
   "metadata": {},
   "outputs": [
    {
     "data": {
      "text/plain": [
       "datetime.datetime(2025, 4, 7, 9, 30)"
      ]
     },
     "execution_count": 5,
     "metadata": {},
     "output_type": "execute_result"
    }
   ],
   "source": [
    "# 특정한 시점을 갖는 datetime 객체 생성\n",
    "thatday = datetime(2025, 4, 7, 9, 30, 0)\n",
    "thatday"
   ]
  },
  {
   "cell_type": "code",
   "execution_count": 14,
   "id": "fa790654",
   "metadata": {},
   "outputs": [
    {
     "name": "stdout",
     "output_type": "stream",
     "text": [
      "2025-04-07 09:30:00\n",
      "Mon Apr  7 09:30:00 2025\n",
      "2025년 04월 07일 오전 09시 30분 00초\n",
      "2025년 04월 07일 (월요일) 오전 09시 30분 00초\n"
     ]
    }
   ],
   "source": [
    "print(thatday)\n",
    "print(thatday.ctime()) # ctime() : 사람이 읽기 쉬운 형태로 변환(미국인)\n",
    "print(\"{:%Y년 %m월 %d일 %p %I시 %M분 %S초}\".format(thatday))\n",
    "print(thatday.strftime(\"%Y년 %m월 %d일 (%A) %p %I시 %M분 %S초\"))"
   ]
  },
  {
   "cell_type": "code",
   "execution_count": 13,
   "id": "12520084",
   "metadata": {},
   "outputs": [
    {
     "data": {
      "text/plain": [
       "'ko_KR'"
      ]
     },
     "execution_count": 13,
     "metadata": {},
     "output_type": "execute_result"
    }
   ],
   "source": [
    "import locale\n",
    "locale.setlocale(locale.LC_TIME, 'ko_KR')"
   ]
  },
  {
   "cell_type": "code",
   "execution_count": 16,
   "id": "b18f5f3f",
   "metadata": {},
   "outputs": [
    {
     "name": "stdout",
     "output_type": "stream",
     "text": [
      "25-0411(금요일) 10:14:49\n"
     ]
    }
   ],
   "source": [
    "# 현 시점\n",
    "now = datetime.now()\n",
    "print(now.strftime(\"%y-%m%d(%A) %H:%M:%S\"))"
   ]
  },
  {
   "cell_type": "code",
   "execution_count": 17,
   "id": "dec625c3",
   "metadata": {},
   "outputs": [
    {
     "data": {
      "text/plain": [
       "datetime.timedelta(days=4, seconds=2689, microseconds=905434)"
      ]
     },
     "execution_count": 17,
     "metadata": {},
     "output_type": "execute_result"
    }
   ],
   "source": [
    "diff = now - thatday\n",
    "diff"
   ]
  },
  {
   "cell_type": "code",
   "execution_count": 18,
   "id": "d3fa3dda",
   "metadata": {},
   "outputs": [
    {
     "data": {
      "text/plain": [
       "4"
      ]
     },
     "execution_count": 18,
     "metadata": {},
     "output_type": "execute_result"
    }
   ],
   "source": [
    "diff.days"
   ]
  },
  {
   "cell_type": "markdown",
   "id": "e7616e50",
   "metadata": {},
   "source": [
    "## 7.2 날짜만 저장"
   ]
  },
  {
   "cell_type": "code",
   "execution_count": 19,
   "id": "23f7d06d",
   "metadata": {},
   "outputs": [
    {
     "data": {
      "text/plain": [
       "datetime.date(2025, 9, 3)"
      ]
     },
     "execution_count": 19,
     "metadata": {},
     "output_type": "execute_result"
    }
   ],
   "source": [
    "someday = date(2025, 9, 3)\n",
    "someday"
   ]
  },
  {
   "cell_type": "code",
   "execution_count": 20,
   "id": "2edabdc0",
   "metadata": {},
   "outputs": [
    {
     "name": "stdout",
     "output_type": "stream",
     "text": [
      "2025년09월03일\n"
     ]
    }
   ],
   "source": [
    "print(someday.strftime(\"%Y년%m월%d일\"))"
   ]
  },
  {
   "cell_type": "code",
   "execution_count": 23,
   "id": "353ffc2f",
   "metadata": {},
   "outputs": [
    {
     "data": {
      "text/plain": [
       "True"
      ]
     },
     "execution_count": 23,
     "metadata": {},
     "output_type": "execute_result"
    }
   ],
   "source": [
    "# 오늘\n",
    "today1 = datetime.now().date()\n",
    "today2 = date.today()\n",
    "today1 == today2"
   ]
  },
  {
   "cell_type": "code",
   "execution_count": 24,
   "id": "14cd11d6",
   "metadata": {},
   "outputs": [
    {
     "name": "stdout",
     "output_type": "stream",
     "text": [
      "25년 04월 11일\n"
     ]
    }
   ],
   "source": [
    "print(today1.strftime(\"%y년 %m월 %d일\"))"
   ]
  },
  {
   "cell_type": "code",
   "execution_count": 25,
   "id": "96bdce2b",
   "metadata": {},
   "outputs": [
    {
     "data": {
      "text/plain": [
       "145"
      ]
     },
     "execution_count": 25,
     "metadata": {},
     "output_type": "execute_result"
    }
   ],
   "source": [
    "diff = someday - today\n",
    "diff.days"
   ]
  },
  {
   "cell_type": "markdown",
   "id": "dc92925d",
   "metadata": {},
   "source": [
    "## 7.3 시간만 저장"
   ]
  },
  {
   "cell_type": "code",
   "execution_count": 26,
   "id": "d18b9b4f",
   "metadata": {},
   "outputs": [
    {
     "data": {
      "text/plain": [
       "datetime.time(13, 10)"
      ]
     },
     "execution_count": 26,
     "metadata": {},
     "output_type": "execute_result"
    }
   ],
   "source": [
    "# 특정 시간\n",
    "t = time(13,10)\n",
    "t"
   ]
  },
  {
   "cell_type": "code",
   "execution_count": 27,
   "id": "363a45ff",
   "metadata": {},
   "outputs": [
    {
     "name": "stdout",
     "output_type": "stream",
     "text": [
      "13:10:00\n",
      "오후 01시 10분\n"
     ]
    }
   ],
   "source": [
    "print(t)\n",
    "print(t.strftime(\"%p %I시 %M분\"))"
   ]
  },
  {
   "cell_type": "code",
   "execution_count": 28,
   "id": "67296b36",
   "metadata": {},
   "outputs": [
    {
     "data": {
      "text/plain": [
       "datetime.time(10, 42, 33, 917518)"
      ]
     },
     "execution_count": 28,
     "metadata": {},
     "output_type": "execute_result"
    }
   ],
   "source": [
    "# 지금 시간\n",
    "now_time = datetime.now().time()\n",
    "now_time"
   ]
  },
  {
   "cell_type": "code",
   "execution_count": 29,
   "id": "ef4eea16",
   "metadata": {},
   "outputs": [
    {
     "data": {
      "text/plain": [
       "'H시 42분 33초'"
      ]
     },
     "execution_count": 29,
     "metadata": {},
     "output_type": "execute_result"
    }
   ],
   "source": [
    "now_time.strftime(\"H시 %M분 %S초\")"
   ]
  },
  {
   "cell_type": "markdown",
   "id": "b073679e",
   "metadata": {},
   "source": [
    "**datetime, date, time 형들을 원하는 포맷의 문자형으로 반환 : strftime()**\n",
    "- %Y, %y, %M, %m, %d, %A(요일), %p(오전/오후), %H(24시), %I(12시), %S(초)"
   ]
  },
  {
   "cell_type": "markdown",
   "id": "571c311c",
   "metadata": {},
   "source": [
    "# 8절. 연습문제"
   ]
  },
  {
   "cell_type": "code",
   "execution_count": 109,
   "id": "d5b0d82b",
   "metadata": {},
   "outputs": [
    {
     "name": "stdout",
     "output_type": "stream",
     "text": [
      "홍길동님의 나이는 23살입니다\n"
     ]
    }
   ],
   "source": [
    "# 1. 이름과 나이 변수를 다음 형식으로 출력하도록 format() 함수를 이용해 형식화하세요\n",
    "# 출력형식 : 홍길동님의 나이는 23 살입니다\n",
    "name = '홍길동'\n",
    "age = 23\n",
    "print(\"{}님의 나이는 {}살입니다\".format(name, age))"
   ]
  },
  {
   "cell_type": "code",
   "execution_count": 113,
   "id": "b9f202d9",
   "metadata": {},
   "outputs": [
    {
     "name": "stdout",
     "output_type": "stream",
     "text": [
      "첫 번째 정수를 입력하세요10\n",
      "두 번째 정수를 입력하세요2\n",
      "두 수의 덧셈 : 12\t두 수의 뺄셈 : 8\t두 수의 곱셉 : 20\n",
      "두 수의 나눗셈 : 5.0\t몫 : 5\t\t나머지 : 0\n"
     ]
    }
   ],
   "source": [
    "# 2.두 정수를 입력받아 두 수의 덧셈 , 뺄셈 , 곱셈 , 나눗셈 , 몫 , 나머지를 출력하세요\n",
    "num1 = int(input(\"첫 번째 정수를 입력하세요\"))\n",
    "num2 = int(input(\"두 번째 정수를 입력하세요\"))\n",
    "sum = num1 + num2\n",
    "sub = num1 - num2\n",
    "mul = num1 * num2\n",
    "div = num1 / num2\n",
    "qui = num1 // num2\n",
    "rem = num1 % num2\n",
    "print(\"\"\"두 수의 덧셈 : {}\\t두 수의 뺄셈 : {}\\t두 수의 곱셉 : {}\\n두 수의 나눗셈 : {}\\t몫 : {}\\t\\t나머지 : {}\"\"\".format(sum, sub, mul, div, qui, rem))"
   ]
  },
  {
   "cell_type": "code",
   "execution_count": 6,
   "id": "e38e0578",
   "metadata": {},
   "outputs": [
    {
     "name": "stdout",
     "output_type": "stream",
     "text": [
      "World Hello\n",
      "World Hello\n"
     ]
    }
   ],
   "source": [
    "# 3.문자열의 분리하기와 합치기 기능을 이용하여 ‘Hello World'가 할당된 변수를 이용하여 'World Hello'로 출력하세요.\n",
    "origin_str = 'Hello World'\n",
    "split_origin = origin_str.split(' ')\n",
    "new_str = '{} {}'.format(split_origin[1], split_origin[0])\n",
    "print(new_str)\n",
    "print(' '.join(split_origin[::-1]))"
   ]
  },
  {
   "cell_type": "code",
   "execution_count": 129,
   "id": "28f2f5c8",
   "metadata": {},
   "outputs": [
    {
     "data": {
      "text/plain": [
       "'bcdefa'"
      ]
     },
     "execution_count": 129,
     "metadata": {},
     "output_type": "execute_result"
    }
   ],
   "source": [
    "# 4. x = ' abcdef ＇를 이용하여 bcdefa 로 출력하세요 (문자 슬라이싱이용)\n",
    "x = 'abcdef'\n",
    "new = x[1:3] + x[3:5] + x[5] + x[0]\n",
    "new"
   ]
  },
  {
   "cell_type": "code",
   "execution_count": 130,
   "id": "08276d02",
   "metadata": {},
   "outputs": [
    {
     "data": {
      "text/plain": [
       "'fedcba'"
      ]
     },
     "execution_count": 130,
     "metadata": {},
     "output_type": "execute_result"
    }
   ],
   "source": [
    "# 5. x = ‘ abcdef 를 이용하여 fedcba 로 출력하세요\n",
    "x = 'abcdef'\n",
    "x[::-1]"
   ]
  },
  {
   "cell_type": "code",
   "execution_count": 4,
   "id": "321c9687",
   "metadata": {},
   "outputs": [
    {
     "name": "stdout",
     "output_type": "stream",
     "text": [
      "오늘의 온도를 섭씨 온도로 입력하세요 :0\n",
      "화씨 온도는 32도입니다\n"
     ]
    }
   ],
   "source": [
    "# # 6.오늘의 온도를 섭씨온도로 입력받아 화씨 온도로 변환하는 프로그램을 작성하세요 .\n",
    "# 화씨 온도는 소수점이 있을 경우만 두번째 자리까지 출력되고 , 소수점이하 값이 없는 경\n",
    "# 우 소수점을 출력하지 않도록 합니다 다음은 섭씨와 화씨의 변환 공식입니다 . \n",
    "# C 는 섭씨, F 는 화씨\n",
    "# C = (F-32) / 1.8\n",
    "# F = (C*1.8) + 32\n",
    "\n",
    "temp_c = float(input(\"오늘의 온도를 섭씨 온도로 입력하세요 :\"))\n",
    "temp_f = (temp_c*1.8) + 32\n",
    "if temp_f%1==0 :\n",
    "    print(\"화씨 온도는 {:.0f}도입니다\".format(temp_f))\n",
    "else : \n",
    "    print(\"화씨 온도는 {:.2f}도입니다.\".format(temp_f))\n",
    "\n",
    "# if not temp_f.is_integer() :\n",
    "# else :"
   ]
  },
  {
   "cell_type": "code",
   "execution_count": null,
   "id": "81c77041",
   "metadata": {},
   "outputs": [],
   "source": [
    "# 7. 다음 중 변수 선언으로 잘못된 것을 모두 고르시오\n",
    "# ① for\n",
    "# ② 10th\n",
    "# ③ Student.name\n",
    "# ④ _1234\n",
    "1,2,3"
   ]
  },
  {
   "cell_type": "code",
   "execution_count": null,
   "id": "2a13cf57",
   "metadata": {},
   "outputs": [],
   "source": [
    "# 8. 다음의 코드의 실행결과는?\n",
    "# text = \"Seoul A001 - programming with python\"\n",
    "# print(text[:4]+text[-1]+text.split()[0])\n",
    "# print(text[:4], text[-1], text.split()[0])\n",
    "SeounSeoul\n",
    "Seou n Seoul"
   ]
  },
  {
   "cell_type": "code",
   "execution_count": null,
   "id": "181efb8b",
   "metadata": {},
   "outputs": [],
   "source": [
    "# 9. 다음 중 파이썬 3.x 버전에서 연산식과 그 결과의 출력이 잘못된 것은?\n",
    "# ① 수식 8//2 결과 4\n",
    "# ② 수식 8/2 결과 4\n",
    "# ③ 수식 8 **2 결과 64\n",
    "2 (4.0출력)"
   ]
  },
  {
   "cell_type": "code",
   "execution_count": null,
   "id": "5695e880",
   "metadata": {},
   "outputs": [],
   "source": [
    "# 10. 아래 프로그램의 결과는?\n",
    "x = 5\n",
    "y = \"John\"\n",
    "print(x + y)\n",
    "에러 발생 (int + str)"
   ]
  },
  {
   "cell_type": "code",
   "execution_count": 141,
   "id": "934daf2a",
   "metadata": {},
   "outputs": [
    {
     "name": "stdout",
     "output_type": "stream",
     "text": [
      "나라\n"
     ]
    }
   ],
   "source": [
    "# 11. split() 함수를 이용하여 str_ 의 값 중 나라 를 출력하는 프로그램을 완성하시오\n",
    "str_ = \"우리 나라 대한 민국\"\n",
    "split_str_ = str_.split()\n",
    "print(split_str_[1])"
   ]
  }
 ],
 "metadata": {
  "kernelspec": {
   "display_name": "Python 3 (ipykernel)",
   "language": "python",
   "name": "python3"
  },
  "language_info": {
   "codemirror_mode": {
    "name": "ipython",
    "version": 3
   },
   "file_extension": ".py",
   "mimetype": "text/x-python",
   "name": "python",
   "nbconvert_exporter": "python",
   "pygments_lexer": "ipython3",
   "version": "3.10.9"
  },
  "toc": {
   "base_numbering": 1,
   "nav_menu": {},
   "number_sections": false,
   "sideBar": true,
   "skip_h1_title": false,
   "title_cell": "Table of Contents",
   "title_sidebar": "Contents",
   "toc_cell": false,
   "toc_position": {
    "height": "calc(100% - 180px)",
    "left": "10px",
    "top": "150px",
    "width": "234.4px"
   },
   "toc_section_display": true,
   "toc_window_display": true
  }
 },
 "nbformat": 4,
 "nbformat_minor": 5
}
