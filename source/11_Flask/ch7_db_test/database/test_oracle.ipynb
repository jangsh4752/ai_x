{
 "cells": [
  {
   "cell_type": "code",
   "execution_count": 1,
   "id": "672fd087",
   "metadata": {},
   "outputs": [],
   "source": [
    "# pip install cx_Oracle\n",
    "# pip install jupyter ipykernel\n",
    "# pip install pandas\n",
    "\n",
    "import cx_Oracle\n",
    "import pandas as pd\n",
    "\n",
    "conn = cx_Oracle.connect(\"scott\",\n",
    "                        \"tiger\",\n",
    "                        \"localhost:1521/xe\")"
   ]
  },
  {
   "cell_type": "code",
   "execution_count": 4,
   "id": "e4e29f21",
   "metadata": {},
   "outputs": [
    {
     "name": "stdout",
     "output_type": "stream",
     "text": [
      "[{'EMPNO': 7369, 'ENAME': 'SMITH', 'JOB': 'CLERK', 'MGR': 7902, 'HIREDATE': datetime.datetime(1980, 12, 17, 0, 0), 'SAL': 800.0, 'COMM': None, 'DEPTNO': 20}, {'EMPNO': 7499, 'ENAME': 'ALLEN', 'JOB': 'SALESMAN', 'MGR': 7698, 'HIREDATE': datetime.datetime(1981, 2, 20, 0, 0), 'SAL': 1600.0, 'COMM': 300.0, 'DEPTNO': 30}, {'EMPNO': 7521, 'ENAME': 'WARD', 'JOB': 'SALESMAN', 'MGR': 7698, 'HIREDATE': datetime.datetime(1981, 2, 22, 0, 0), 'SAL': 1250.0, 'COMM': 500.0, 'DEPTNO': 30}, {'EMPNO': 7566, 'ENAME': 'JONES', 'JOB': 'MANAGER', 'MGR': 7839, 'HIREDATE': datetime.datetime(1981, 4, 2, 0, 0), 'SAL': 2975.0, 'COMM': None, 'DEPTNO': 20}, {'EMPNO': 7654, 'ENAME': 'MARTIN', 'JOB': 'SALESMAN', 'MGR': 7698, 'HIREDATE': datetime.datetime(1981, 9, 28, 0, 0), 'SAL': 1250.0, 'COMM': 1400.0, 'DEPTNO': 30}, {'EMPNO': 7698, 'ENAME': 'BLAKE', 'JOB': 'MANAGER', 'MGR': 7839, 'HIREDATE': datetime.datetime(1981, 5, 1, 0, 0), 'SAL': 2850.0, 'COMM': None, 'DEPTNO': 30}, {'EMPNO': 7782, 'ENAME': 'CLARK', 'JOB': 'MANAGER', 'MGR': 7839, 'HIREDATE': datetime.datetime(1981, 6, 9, 0, 0), 'SAL': 2450.0, 'COMM': None, 'DEPTNO': 10}, {'EMPNO': 7788, 'ENAME': 'SCOTT', 'JOB': 'ANALYST', 'MGR': 7566, 'HIREDATE': datetime.datetime(1982, 12, 9, 0, 0), 'SAL': 3000.0, 'COMM': None, 'DEPTNO': 20}, {'EMPNO': 7839, 'ENAME': 'KING', 'JOB': 'PRESIDENT', 'MGR': None, 'HIREDATE': datetime.datetime(1981, 11, 17, 0, 0), 'SAL': 5000.0, 'COMM': None, 'DEPTNO': 10}, {'EMPNO': 7844, 'ENAME': 'TURNER', 'JOB': 'SALESMAN', 'MGR': 7698, 'HIREDATE': datetime.datetime(1981, 9, 8, 0, 0), 'SAL': 1500.0, 'COMM': 0.0, 'DEPTNO': 30}, {'EMPNO': 7876, 'ENAME': 'ADAMS', 'JOB': 'CLERK', 'MGR': 7788, 'HIREDATE': datetime.datetime(1983, 1, 12, 0, 0), 'SAL': 1100.0, 'COMM': None, 'DEPTNO': 20}, {'EMPNO': 7900, 'ENAME': 'JAMES', 'JOB': 'CLERK', 'MGR': 7698, 'HIREDATE': datetime.datetime(1981, 12, 3, 0, 0), 'SAL': 950.0, 'COMM': None, 'DEPTNO': 30}, {'EMPNO': 7902, 'ENAME': 'FORD', 'JOB': 'ANALYST', 'MGR': 7566, 'HIREDATE': datetime.datetime(1981, 12, 3, 0, 0), 'SAL': 3000.0, 'COMM': None, 'DEPTNO': 20}, {'EMPNO': 7934, 'ENAME': 'MILLER', 'JOB': 'CLERK', 'MGR': 7782, 'HIREDATE': datetime.datetime(1982, 1, 23, 0, 0), 'SAL': 1300.0, 'COMM': None, 'DEPTNO': 10}]\n"
     ]
    }
   ],
   "source": [
    "# SQL전송 -> 전송결과 받아 출력\n",
    "cursor = conn.cursor() # SQL 전송 & 결과 받아주는 객체\n",
    "sql = \"SELECT * FROM EMP ORDER BY EMPNO\"\n",
    "cursor.execute(sql) # SQL 전송 + 전송결과 받기\n",
    "emps = cursor.fetchall() # 전송결과 list 모두 받기(튜플 list)\n",
    "keys = [desc[0] for desc in cursor.description] # 전송결과 컬럼 모두 받기\n",
    "# \n",
    "emp_list = [dict(zip(keys, emp)) for emp in emps] # 전송결과 컬럼 모두 받기\n",
    "print(emp_list)\n",
    "cursor.close() # 전송결과 받아오는 객체 닫기"
   ]
  },
  {
   "cell_type": "code",
   "execution_count": null,
   "id": "03b69157",
   "metadata": {},
   "outputs": [],
   "source": [
    "pd.DataFrame(data=data, columns=columns)"
   ]
  },
  {
   "cell_type": "code",
   "execution_count": null,
   "id": "5f588d5f",
   "metadata": {},
   "outputs": [
    {
     "name": "stdout",
     "output_type": "stream",
     "text": [
      "수행 결과 :  1\n"
     ]
    }
   ],
   "source": [
    "cursor = conn.cursor()\n",
    "sql = \"INSERT INTO EMP VALUES (:empno, :ename, 'manager', null, sysdate, 9000, 10, 40)\"\n",
    "empno = input(\"Enter the employee number: \")\n",
    "ename = input(\"Enter the name of the employee: \")\n",
    "cursor.execute(sql, {'empno' : empno, 'ename' : ename})\n",
    "# conn.commit()\n",
    "print(\"수행 결과 : \", cursor.rowcount) # 1 :  insert 성공, 0 : 실패\n",
    "cursor.close()"
   ]
  },
  {
   "cell_type": "code",
   "execution_count": 7,
   "id": "94a5861c",
   "metadata": {},
   "outputs": [],
   "source": [
    "conn.close()"
   ]
  }
 ],
 "metadata": {
  "kernelspec": {
   "display_name": ".venv",
   "language": "python",
   "name": "python3"
  },
  "language_info": {
   "codemirror_mode": {
    "name": "ipython",
    "version": 3
   },
   "file_extension": ".py",
   "mimetype": "text/x-python",
   "name": "python",
   "nbconvert_exporter": "python",
   "pygments_lexer": "ipython3",
   "version": "3.10.9"
  }
 },
 "nbformat": 4,
 "nbformat_minor": 5
}
