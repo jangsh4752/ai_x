{
 "cells": [
  {
   "cell_type": "code",
   "execution_count": 2,
   "id": "b7c74285",
   "metadata": {},
   "outputs": [],
   "source": [
    "# pip install pymysql\n",
    "import pymysql\n",
    "\n",
    "conn = pymysql.connect(host='127.0.0.1',\n",
    "                        user='root',\n",
    "                        password='mysql',\n",
    "                        database='devdb',\n",
    "                        charset=\"utf8\")"
   ]
  },
  {
   "cell_type": "code",
   "execution_count": 4,
   "id": "f799ab62",
   "metadata": {},
   "outputs": [
    {
     "name": "stdout",
     "output_type": "stream",
     "text": [
      "수행 결과 :  1\n"
     ]
    }
   ],
   "source": [
    "cursor = conn.cursor()\n",
    "sql = \"INSERT INTO PERSONAL VALUES (%s, %s, 'ceo', null, curdate(), 9000, 10, 40)\"\n",
    "pno = input(\"Enter Personal No: \")\n",
    "pname = input(\"Enter Personal Name: \")\n",
    "cursor.execute(sql, (pno, pname))\n",
    "print(\"수행 결과 : \", cursor.rowcount) # 1 :  insert 성공, 0 : 실패\n",
    "# conn.commit()\n",
    "cursor.close()"
   ]
  }
 ],
 "metadata": {
  "kernelspec": {
   "display_name": ".venv",
   "language": "python",
   "name": "python3"
  },
  "language_info": {
   "codemirror_mode": {
    "name": "ipython",
    "version": 3
   },
   "file_extension": ".py",
   "mimetype": "text/x-python",
   "name": "python",
   "nbconvert_exporter": "python",
   "pygments_lexer": "ipython3",
   "version": "3.10.9"
  }
 },
 "nbformat": 4,
 "nbformat_minor": 5
}
