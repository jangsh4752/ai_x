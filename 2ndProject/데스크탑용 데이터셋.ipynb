{
 "cells": [
  {
   "cell_type": "code",
   "execution_count": 1,
   "id": "ebe77b5d",
   "metadata": {},
   "outputs": [
    {
     "name": "stdout",
     "output_type": "stream",
     "text": [
      "\n",
      "🔹 'food' 주제 생성 시작...\n"
     ]
    },
    {
     "name": "stderr",
     "output_type": "stream",
     "text": [
      "[food] 생성 중: 100%|██████████| 5000/5000 [49:38<00:00,  1.68it/s]  \n"
     ]
    },
    {
     "name": "stdout",
     "output_type": "stream",
     "text": [
      "✅ 저장 완료: food_chats_20250731_223246.csv (총 5000개)\n",
      "\n",
      "🔹 'weather' 주제 생성 시작...\n"
     ]
    },
    {
     "name": "stderr",
     "output_type": "stream",
     "text": [
      "[weather] 생성 중: 100%|██████████| 5000/5000 [44:45<00:00,  1.86it/s]  \n"
     ]
    },
    {
     "name": "stdout",
     "output_type": "stream",
     "text": [
      "✅ 저장 완료: weather_chats_20250731_223246.csv (총 5000개)\n",
      "\n",
      "🔹 'hobby' 주제 생성 시작...\n"
     ]
    },
    {
     "name": "stderr",
     "output_type": "stream",
     "text": [
      "[hobby] 생성 중: 100%|██████████| 5000/5000 [1:11:49<00:00,  1.16it/s]"
     ]
    },
    {
     "name": "stdout",
     "output_type": "stream",
     "text": [
      "✅ 저장 완료: hobby_chats_20250731_223246.csv (총 5000개)\n"
     ]
    },
    {
     "name": "stderr",
     "output_type": "stream",
     "text": [
      "\n"
     ]
    }
   ],
   "source": [
    "import os\n",
    "import pandas as pd\n",
    "import nest_asyncio\n",
    "import asyncio\n",
    "from dotenv import load_dotenv\n",
    "from openai import AsyncOpenAI\n",
    "from datetime import datetime\n",
    "from tqdm.asyncio import tqdm_asyncio\n",
    "\n",
    "nest_asyncio.apply()\n",
    "load_dotenv()\n",
    "client = AsyncOpenAI(api_key=os.getenv(\"OPENAI_API_KEY\"))\n",
    "\n",
    "TOPICS = {\n",
    "    \"food\": \"음식에 관한 친근한 스몰토크\",\n",
    "    \"weather\": \"날씨에 대한 자연스러운 대화\",\n",
    "    \"hobby\": \"취미 관련 이야기를\",\n",
    "}\n",
    "\n",
    "def build_conversation_prompt(topic_kr, n_turns=10):\n",
    "    return f\"\"\"{topic_kr}를 주제로 자연스럽고 편안한 {n_turns}턴짜리 대화를 만들어줘.\n",
    "\n",
    "조건:\n",
    "- 질문 → 답변 → 다시 묻기 방식\n",
    "- \"A:\", \"B:\" 로 시작하는 라인 형식\n",
    "- 말투는 일상적이고 자연스럽게\n",
    "- 중복된 표현 피하고 다양한 표현 사용\n",
    "\"\"\"\n",
    "\n",
    "async def generate_one(prompt):\n",
    "    try:\n",
    "        response = await client.chat.completions.create(\n",
    "            model=\"gpt-4.1-nano\",\n",
    "            messages=[{\"role\": \"user\", \"content\": prompt}],\n",
    "            temperature=0.85,\n",
    "            max_tokens=1024,\n",
    "        )\n",
    "        return response.choices[0].message.content.strip()\n",
    "    except Exception as e:\n",
    "        print(f\"❌ 오류: {e}\")\n",
    "        return None\n",
    "\n",
    "async def generate_turns(topic_key, topic_kr, n_samples, batch_size=20):\n",
    "    results = set()\n",
    "    total_generated = 0\n",
    "    prompt = build_conversation_prompt(topic_kr)\n",
    "\n",
    "    pbar = tqdm_asyncio(total=n_samples, desc=f\"[{topic_key}] 생성 중\")\n",
    "\n",
    "    while total_generated < n_samples:\n",
    "        tasks = [generate_one(prompt) for _ in range(batch_size)]\n",
    "        responses = await asyncio.gather(*tasks)\n",
    "\n",
    "        for r in responses:\n",
    "            if r and r not in results:\n",
    "                results.add(r)\n",
    "                total_generated += 1\n",
    "                pbar.update(1)\n",
    "\n",
    "            if total_generated >= n_samples:\n",
    "                break\n",
    "\n",
    "    pbar.close()\n",
    "    return list(results)\n",
    "\n",
    "async def main(total_per_topic=5000):\n",
    "    timestamp = datetime.now().strftime(\"%Y%m%d_%H%M%S\")\n",
    "    for topic_key, topic_kr in TOPICS.items():\n",
    "        print(f\"\\n🔹 '{topic_key}' 주제 생성 시작...\")\n",
    "        results = await generate_turns(topic_key, topic_kr, total_per_topic)\n",
    "        df = pd.DataFrame({\"topic\": topic_key, \"conversation\": results})\n",
    "        filename = f\"{topic_key}_chats_{timestamp}.csv\"\n",
    "        df.to_csv(filename, index=False, encoding=\"utf-8-sig\")\n",
    "        print(f\"✅ 저장 완료: {filename} (총 {len(df)}개)\")\n",
    "\n",
    "# Jupyter 실행 시\n",
    "await main(total_per_topic=5000)\n"
   ]
  }
 ],
 "metadata": {
  "kernelspec": {
   "display_name": ".venv (3.10.9)",
   "language": "python",
   "name": "python3"
  },
  "language_info": {
   "codemirror_mode": {
    "name": "ipython",
    "version": 3
   },
   "file_extension": ".py",
   "mimetype": "text/x-python",
   "name": "python",
   "nbconvert_exporter": "python",
   "pygments_lexer": "ipython3",
   "version": "3.10.9"
  }
 },
 "nbformat": 4,
 "nbformat_minor": 5
}
